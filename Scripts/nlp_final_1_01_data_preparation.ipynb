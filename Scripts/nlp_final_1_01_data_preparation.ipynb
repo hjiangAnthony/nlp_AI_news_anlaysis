{
 "cells": [
  {
   "attachments": {},
   "cell_type": "markdown",
   "metadata": {
    "id": "zL394YhPLmA-"
   },
   "source": [
    "## NLP Class Final Project Read Data"
   ]
  },
  {
   "attachments": {},
   "cell_type": "markdown",
   "metadata": {},
   "source": [
    "# NLP Final Project 1.01: Data Preparation\n",
    "\n",
    "This notebook serves to:\n",
    "- download raw data\n",
    "- pre-clean raw text"
   ]
  },
  {
   "attachments": {},
   "cell_type": "markdown",
   "metadata": {},
   "source": [
    "## Set-up"
   ]
  },
  {
   "cell_type": "code",
   "execution_count": 2,
   "metadata": {
    "id": "xs3PFdExLmBB",
    "tags": []
   },
   "outputs": [],
   "source": [
    "import pandas as pd\n",
    "pd.set_option('display.max_rows', 100)\n",
    "pd.set_option('display.max_columns', None)\n",
    "pd.set_option('display.max_colwidth', 500)\n",
    "\n",
    "import warnings\n",
    "warnings.filterwarnings(\"ignore\")"
   ]
  },
  {
   "cell_type": "code",
   "execution_count": 3,
   "metadata": {
    "id": "zHjlhULQWEnx",
    "tags": []
   },
   "outputs": [
    {
     "name": "stdout",
     "output_type": "stream",
     "text": [
      "INFO: Pandarallel will run on 12 workers.\n",
      "INFO: Pandarallel will use Memory file system to transfer data between the main process and workers.\n"
     ]
    }
   ],
   "source": [
    "from pprint import pprint\n",
    "import re\n",
    "from tqdm import tqdm\n",
    "tqdm.pandas()\n",
    "import numpy as np\n",
    "\n",
    "from pandarallel import pandarallel\n",
    "pandarallel.initialize(nb_workers=12, progress_bar=True)"
   ]
  },
  {
   "cell_type": "code",
   "execution_count": 4,
   "metadata": {
    "colab": {
     "base_uri": "https://localhost:8080/"
    },
    "id": "HL8ZntFWN9QS",
    "outputId": "ce571519-c983-405a-82dc-c412f0f88d85",
    "tags": []
   },
   "outputs": [
    {
     "name": "stdout",
     "output_type": "stream",
     "text": [
      "/home/anthony/projects/nlp_runtime\n"
     ]
    }
   ],
   "source": [
    "import os\n",
    "\n",
    "# Google Bucket\n",
    "runtime_path = '/home/anthony/projects/nlp_runtime'\n",
    "path_bucket = 'gs://msca-sp23-bucket/nlp_data'\n",
    "\n",
    "os.chdir(runtime_path)\n",
    "print(os.getcwd())"
   ]
  },
  {
   "attachments": {},
   "cell_type": "markdown",
   "metadata": {},
   "source": [
    "## Read data"
   ]
  },
  {
   "cell_type": "code",
   "execution_count": 4,
   "metadata": {
    "id": "4CljCmgRO3Nj"
   },
   "outputs": [],
   "source": [
    "#df = pd.read_parquet('news_final_project.parquet', engine='pyarrow')"
   ]
  },
  {
   "cell_type": "code",
   "execution_count": 4,
   "metadata": {},
   "outputs": [
    {
     "name": "stdout",
     "output_type": "stream",
     "text": [
      "CPU times: user 8.78 s, sys: 4.52 s, total: 13.3 s\n",
      "Wall time: 19.4 s\n"
     ]
    },
    {
     "data": {
      "text/plain": [
       "(200332, 5)"
      ]
     },
     "execution_count": 4,
     "metadata": {},
     "output_type": "execute_result"
    }
   ],
   "source": [
    "# %%time\n",
    "# df_news_final_project = pd.read_parquet('https://storage.googleapis.com/msca-bdp-data-open/news_final_project/news_final_project.parquet', engine='pyarrow')\n",
    "# df_news_final_project.shape"
   ]
  },
  {
   "cell_type": "code",
   "execution_count": 4,
   "metadata": {},
   "outputs": [],
   "source": [
    "# save a copy at bucket\n",
    "bucket_write = path_bucket + '/' + 'checkpoint_0522_raw_data.parquet'\n",
    "#df_news_final_project.to_parquet(bucket_write, index=False)"
   ]
  },
  {
   "cell_type": "code",
   "execution_count": 6,
   "metadata": {},
   "outputs": [],
   "source": [
    "# restart and reload to save RAM\n",
    "df = pd.read_parquet('gs://msca-sp23-bucket/nlp_data/checkpoint_0522_raw_data.parquet', engine='pyarrow')"
   ]
  },
  {
   "attachments": {},
   "cell_type": "markdown",
   "metadata": {},
   "source": [
    "## Descriptive Exploration"
   ]
  },
  {
   "cell_type": "code",
   "execution_count": 7,
   "metadata": {
    "colab": {
     "base_uri": "https://localhost:8080/",
     "height": 1000
    },
    "id": "JIaEHP36PVBT",
    "outputId": "a1a80c4a-01e8-43e5-c3ee-a519d4ef23cf"
   },
   "outputs": [
    {
     "data": {
      "text/html": [
       "<div>\n",
       "<style scoped>\n",
       "    .dataframe tbody tr th:only-of-type {\n",
       "        vertical-align: middle;\n",
       "    }\n",
       "\n",
       "    .dataframe tbody tr th {\n",
       "        vertical-align: top;\n",
       "    }\n",
       "\n",
       "    .dataframe thead th {\n",
       "        text-align: right;\n",
       "    }\n",
       "</style>\n",
       "<table border=\"1\" class=\"dataframe\">\n",
       "  <thead>\n",
       "    <tr style=\"text-align: right;\">\n",
       "      <th></th>\n",
       "      <th>url</th>\n",
       "      <th>date</th>\n",
       "      <th>language</th>\n",
       "      <th>title</th>\n",
       "      <th>text</th>\n",
       "    </tr>\n",
       "  </thead>\n",
       "  <tbody>\n",
       "    <tr>\n",
       "      <th>0</th>\n",
       "      <td>http://en.people.cn/n3/2021/0318/c90000-9830122.html</td>\n",
       "      <td>2021-03-18</td>\n",
       "      <td>en</td>\n",
       "      <td>Artificial intelligence improves parking efficiency in Chinese cities - People's Daily Online</td>\n",
       "      <td>\\n\\nArtificial intelligence improves parking efficiency in Chinese cities - People's Daily Online\\n\\nHome\\nChina Politics\\nForeign Affairs\\nOpinions\\nVideo: We Are China\\nBusiness\\nMilitary\\nWorld\\nSociety\\nCulture\\nTravel\\nScience\\nSports\\nPhoto\\n\\nLanguages\\n\\nChinese\\nJapanese\\nFrench\\nSpanish\\nRussian\\nArabic\\nKorean\\nGerman\\nPortuguese\\nThursday, March 18, 2021\\nHome&gt;&gt;\\n\\t\\t\\nArtificial intelligence improves parking efficiency in Chinese cities\\nBy Liu Shiyao (People's Daily) 09:16, Mar...</td>\n",
       "    </tr>\n",
       "    <tr>\n",
       "      <th>1</th>\n",
       "      <td>http://newsparliament.com/2020/02/27/children-with-autism-saw-their-learning-and-social-skills-boosted-after-playing-with-this-ai-robot/</td>\n",
       "      <td>2020-02-27</td>\n",
       "      <td>en</td>\n",
       "      <td>Children With Autism Saw Their Learning and Social Skills Boosted After Playing With This AI Robot – News Parliament</td>\n",
       "      <td>\\nChildren With Autism Saw Their Learning and Social Skills Boosted After Playing With This AI Robot – News Parliament\\n \\n\\nSkip to content\\n\\t\\t\\tThursday, February 27, 2020\\t\\t\\n\\nLatest:\\n\\n\\nMansplaining in conferences: How can we get him to forestall?\\n\\n\\nDrax power station to cease burning coal in March 2021\\n\\n\\nCoronavirus Could Explode in the U.S. Overnight Like it Did in Italy\\n\\n\\nCoronavirus: Dettol sales surge as markets fall again\\n\\n\\nLevi Strauss marks the next phase in cor...</td>\n",
       "    </tr>\n",
       "    <tr>\n",
       "      <th>2</th>\n",
       "      <td>http://www.dataweek.co.za/12835r</td>\n",
       "      <td>2021-03-26</td>\n",
       "      <td>en</td>\n",
       "      <td>Forget ML, AI and Industry 4.0 – obsolescence should be your focus - 26 February 2021 - Test &amp; Rework Solutions - Dataweek</td>\n",
       "      <td>\\n\\nForget ML, AI and Industry 4.0 – obsolescence should be your focus - 26 February 2021 - Test &amp; Rework Solutions - Dataweek\\nHome\\nAbout us\\nBack issues / E-book / PDF\\nEMP Handbook\\nSubscribe\\nAdvertise\\n\\nCategories\\n\\n▸ Editor's Choice\\n▸ Multimedia, Videos\\n▸ Analogue, Mixed Signal, LSI\\n▸ Circuit &amp; System Protection\\n▸ Computer/Embedded Technology\\n▸ Design Automation\\n▸ DSP, Micros &amp; Memory\\n▸ Electronics Technology\\n▸ Enclosures, Racks, Cabinets &amp; Panel Products\\n▸ Events\\n▸ Interc...</td>\n",
       "    </tr>\n",
       "    <tr>\n",
       "      <th>3</th>\n",
       "      <td>http://www.homeoffice.consumerelectronicsnet.com/strategy-analytics-71-of-smartphones-sold-globally-in-2021-will-be-ai-powered/</td>\n",
       "      <td>2021-03-10</td>\n",
       "      <td>en</td>\n",
       "      <td>Strategy Analytics: 71% of Smartphones Sold Globally in 2021 will be AI Powered – Consumer Electronics Net</td>\n",
       "      <td>\\n\\nStrategy Analytics: 71% of Smartphones Sold Globally in 2021 will be AI Powered – Consumer Electronics Net\\n \\nSkip to content\\n\\nConsumer Electronics Net\\n\\nPrimary Menu\\n\\nConsumer Electronics Net\\n\\nSearch for:\\n \\nHomeNewsStrategy Analytics: 71% of Smartphones Sold Globally in 2021 will be AI Powered \\n \\n                                 News\\n                             \\n \\nStrategy Analytics: 71% of Smartphones Sold Globally in 2021 will be AI Powered\\n                    7 hours...</td>\n",
       "    </tr>\n",
       "    <tr>\n",
       "      <th>4</th>\n",
       "      <td>http://www.itbusinessnet.com/2020/10/olympus-to-support-endoscopic-ai-diagnosis-education-for-doctors-in-india-and-to-launch-ai-diagnostic-support-application/?utm_source=rss&amp;utm_medium=rss&amp;utm_campaign=olympus-to-support-endoscopic-ai-diagnosis-education-for-doctors-in-india-and-to-launch-ai-diagnostic-support-application</td>\n",
       "      <td>2020-10-20</td>\n",
       "      <td>en</td>\n",
       "      <td>Olympus to Support Endoscopic AI Diagnosis Education for Doctors in India and to Launch AI Diagnostic Support Application | | IT Business Net</td>\n",
       "      <td>\\n\\nOlympus to Support Endoscopic AI Diagnosis Education for Doctors in India and to Launch AI Diagnostic Support Application | | IT Business Net\\n \\nSkip to content\\n\\nIT Business Net\\n\\nNews for IT Professionals\\nPrimary Menu\\n\\nIT Business Net\\nAbout IT Business Net\\n\\nSearch for:\\n \\nHome2020OctoberOlympus to Support Endoscopic AI Diagnosis Education for Doctors in India and to Launch AI Diagnostic Support Application \\n \\n                                 News\\n                          ...</td>\n",
       "    </tr>\n",
       "  </tbody>\n",
       "</table>\n",
       "</div>"
      ],
      "text/plain": [
       "                                                                                                                                                                                                                                                                                                                                    url   \n",
       "0                                                                                                                                                                                                                                                                                  http://en.people.cn/n3/2021/0318/c90000-9830122.html  \\\n",
       "1                                                                                                                                                                                              http://newsparliament.com/2020/02/27/children-with-autism-saw-their-learning-and-social-skills-boosted-after-playing-with-this-ai-robot/   \n",
       "2                                                                                                                                                                                                                                                                                                      http://www.dataweek.co.za/12835r   \n",
       "3                                                                                                                                                                                                       http://www.homeoffice.consumerelectronicsnet.com/strategy-analytics-71-of-smartphones-sold-globally-in-2021-will-be-ai-powered/   \n",
       "4  http://www.itbusinessnet.com/2020/10/olympus-to-support-endoscopic-ai-diagnosis-education-for-doctors-in-india-and-to-launch-ai-diagnostic-support-application/?utm_source=rss&utm_medium=rss&utm_campaign=olympus-to-support-endoscopic-ai-diagnosis-education-for-doctors-in-india-and-to-launch-ai-diagnostic-support-application   \n",
       "\n",
       "         date language   \n",
       "0  2021-03-18       en  \\\n",
       "1  2020-02-27       en   \n",
       "2  2021-03-26       en   \n",
       "3  2021-03-10       en   \n",
       "4  2020-10-20       en   \n",
       "\n",
       "                                                                                                                                           title   \n",
       "0                                                  Artificial intelligence improves parking efficiency in Chinese cities - People's Daily Online  \\\n",
       "1                           Children With Autism Saw Their Learning and Social Skills Boosted After Playing With This AI Robot – News Parliament   \n",
       "2                     Forget ML, AI and Industry 4.0 – obsolescence should be your focus - 26 February 2021 - Test & Rework Solutions - Dataweek   \n",
       "3                                     Strategy Analytics: 71% of Smartphones Sold Globally in 2021 will be AI Powered – Consumer Electronics Net   \n",
       "4  Olympus to Support Endoscopic AI Diagnosis Education for Doctors in India and to Launch AI Diagnostic Support Application | | IT Business Net   \n",
       "\n",
       "                                                                                                                                                                                                                                                                                                                                                                                                                                                                                                                  text  \n",
       "0  \\n\\nArtificial intelligence improves parking efficiency in Chinese cities - People's Daily Online\\n\\nHome\\nChina Politics\\nForeign Affairs\\nOpinions\\nVideo: We Are China\\nBusiness\\nMilitary\\nWorld\\nSociety\\nCulture\\nTravel\\nScience\\nSports\\nPhoto\\n\\nLanguages\\n\\nChinese\\nJapanese\\nFrench\\nSpanish\\nRussian\\nArabic\\nKorean\\nGerman\\nPortuguese\\nThursday, March 18, 2021\\nHome>>\\n\\t\\t\\nArtificial intelligence improves parking efficiency in Chinese cities\\nBy Liu Shiyao (People's Daily) 09:16, Mar...  \n",
       "1  \\nChildren With Autism Saw Their Learning and Social Skills Boosted After Playing With This AI Robot – News Parliament\\n \\n\\nSkip to content\\n\\t\\t\\tThursday, February 27, 2020\\t\\t\\n\\nLatest:\\n\\n\\nMansplaining in conferences: How can we get him to forestall?\\n\\n\\nDrax power station to cease burning coal in March 2021\\n\\n\\nCoronavirus Could Explode in the U.S. Overnight Like it Did in Italy\\n\\n\\nCoronavirus: Dettol sales surge as markets fall again\\n\\n\\nLevi Strauss marks the next phase in cor...  \n",
       "2  \\n\\nForget ML, AI and Industry 4.0 – obsolescence should be your focus - 26 February 2021 - Test & Rework Solutions - Dataweek\\nHome\\nAbout us\\nBack issues / E-book / PDF\\nEMP Handbook\\nSubscribe\\nAdvertise\\n\\nCategories\\n\\n▸ Editor's Choice\\n▸ Multimedia, Videos\\n▸ Analogue, Mixed Signal, LSI\\n▸ Circuit & System Protection\\n▸ Computer/Embedded Technology\\n▸ Design Automation\\n▸ DSP, Micros & Memory\\n▸ Electronics Technology\\n▸ Enclosures, Racks, Cabinets & Panel Products\\n▸ Events\\n▸ Interc...  \n",
       "3  \\n\\nStrategy Analytics: 71% of Smartphones Sold Globally in 2021 will be AI Powered – Consumer Electronics Net\\n \\nSkip to content\\n\\nConsumer Electronics Net\\n\\nPrimary Menu\\n\\nConsumer Electronics Net\\n\\nSearch for:\\n \\nHomeNewsStrategy Analytics: 71% of Smartphones Sold Globally in 2021 will be AI Powered \\n \\n                                 News\\n                             \\n \\nStrategy Analytics: 71% of Smartphones Sold Globally in 2021 will be AI Powered\\n                    7 hours...  \n",
       "4  \\n\\nOlympus to Support Endoscopic AI Diagnosis Education for Doctors in India and to Launch AI Diagnostic Support Application | | IT Business Net\\n \\nSkip to content\\n\\nIT Business Net\\n\\nNews for IT Professionals\\nPrimary Menu\\n\\nIT Business Net\\nAbout IT Business Net\\n\\nSearch for:\\n \\nHome2020OctoberOlympus to Support Endoscopic AI Diagnosis Education for Doctors in India and to Launch AI Diagnostic Support Application \\n \\n                                 News\\n                          ...  "
      ]
     },
     "execution_count": 7,
     "metadata": {},
     "output_type": "execute_result"
    }
   ],
   "source": [
    "#df = df.sample(20000, random_state=42)\n",
    "df.head(5)"
   ]
  },
  {
   "cell_type": "code",
   "execution_count": 8,
   "metadata": {
    "colab": {
     "base_uri": "https://localhost:8080/"
    },
    "id": "CN2QOogkVpqN",
    "outputId": "46cf814f-7655-481c-c8e0-3d1f4b0ff917"
   },
   "outputs": [
    {
     "name": "stdout",
     "output_type": "stream",
     "text": [
      "<class 'pandas.core.frame.DataFrame'>\n",
      "RangeIndex: 200332 entries, 0 to 200331\n",
      "Data columns (total 5 columns):\n",
      " #   Column    Non-Null Count   Dtype \n",
      "---  ------    --------------   ----- \n",
      " 0   url       200332 non-null  object\n",
      " 1   date      200332 non-null  object\n",
      " 2   language  200332 non-null  object\n",
      " 3   title     200332 non-null  object\n",
      " 4   text      200332 non-null  object\n",
      "dtypes: object(5)\n",
      "memory usage: 7.6+ MB\n"
     ]
    }
   ],
   "source": [
    "df.info()"
   ]
  },
  {
   "cell_type": "code",
   "execution_count": 9,
   "metadata": {
    "colab": {
     "base_uri": "https://localhost:8080/",
     "height": 554
    },
    "id": "VRG6y98MV3kv",
    "outputId": "a7becd52-dca2-49b2-9ae3-467571ca2cf1"
   },
   "outputs": [
    {
     "name": "stdout",
     "output_type": "stream",
     "text": [
      "Series([], dtype: float64)\n"
     ]
    },
    {
     "data": {
      "text/plain": [
       "<Axes: title={'center': \"Each column's missing values %\"}>"
      ]
     },
     "execution_count": 9,
     "metadata": {},
     "output_type": "execute_result"
    },
    {
     "data": {
      "image/png": "[encoded data removed]",
      "text/plain": [
       "<Figure size 800x500 with 1 Axes>"
      ]
     },
     "metadata": {},
     "output_type": "display_data"
    }
   ],
   "source": [
    "# missing value\n",
    "print((df.isnull().sum()[df.isnull().sum()/len(df)>0]/len(df)).sort_values(ascending =False))\n",
    "pd.DataFrame((df.isnull().sum()/len(df)).sort_values(ascending =False)).plot(kind='bar',figsize=(8,5),title='Each column\\'s missing values %')"
   ]
  },
  {
   "attachments": {},
   "cell_type": "markdown",
   "metadata": {},
   "source": [
    "## Text Cleaning\n",
    "\n",
    "For text cleaning as the proeprocessing, I will:\n",
    "1. remove html tags & ruls from parsing \n",
    "2. split the document (one article) by `\\n\\n` and reduce length accordingly"
   ]
  },
  {
   "cell_type": "code",
   "execution_count": 10,
   "metadata": {
    "colab": {
     "base_uri": "https://localhost:8080/",
     "height": 824
    },
    "id": "kKaHZKVv5Cf1",
    "outputId": "5a8395c0-3ccb-4489-f38f-2d9bcd85c834"
   },
   "outputs": [
    {
     "data": {
      "application/vnd.jupyter.widget-view+json": {
       "model_id": "005d368b991d43dea52a1beafd59d3bf",
       "version_major": 2,
       "version_minor": 0
      },
      "text/plain": [
       "VBox(children=(HBox(children=(IntProgress(value=0, description='0.00%', max=25042), Label(value='0 / 25042')))…"
      ]
     },
     "metadata": {},
     "output_type": "display_data"
    },
    {
     "data": {
      "application/vnd.jupyter.widget-view+json": {
       "model_id": "7e8a5ae807344e0c96e06b77d949ea2e",
       "version_major": 2,
       "version_minor": 0
      },
      "text/plain": [
       "VBox(children=(HBox(children=(IntProgress(value=0, description='0.00%', max=25042), Label(value='0 / 25042')))…"
      ]
     },
     "metadata": {},
     "output_type": "display_data"
    }
   ],
   "source": [
    "# remove URL (started in '//' or be like 'http\\S+') and newline (started in '\\n') and url\n",
    "# only keep alphabet, number, and punctuation\n",
    "\n",
    "df['text_no_url'] = df['text'].parallel_apply(lambda x: re.sub('http\\S+|www\\S+|\\S+.com|https\\S+|\\S+.htmlSOURCE|\\xa0|\\t|©|@|\\r',' ',x))\n",
    "df['text_no_url'] = df['text_no_url'].parallel_apply(lambda x: re.sub('[^A-Za-z0-9.,!?/:;\\\"\\'\\s]+', ' ',x))"
   ]
  },
  {
   "cell_type": "code",
   "execution_count": 11,
   "metadata": {
    "colab": {
     "base_uri": "https://localhost:8080/",
     "height": 35
    },
    "id": "6tO99EpO5u54",
    "outputId": "5eae93c3-671f-4ccd-9b8b-a91b0494eca2"
   },
   "outputs": [
    {
     "data": {
      "text/html": [
       "<div>\n",
       "<style scoped>\n",
       "    .dataframe tbody tr th:only-of-type {\n",
       "        vertical-align: middle;\n",
       "    }\n",
       "\n",
       "    .dataframe tbody tr th {\n",
       "        vertical-align: top;\n",
       "    }\n",
       "\n",
       "    .dataframe thead th {\n",
       "        text-align: right;\n",
       "    }\n",
       "</style>\n",
       "<table border=\"1\" class=\"dataframe\">\n",
       "  <thead>\n",
       "    <tr style=\"text-align: right;\">\n",
       "      <th></th>\n",
       "      <th>text</th>\n",
       "      <th>text_no_url</th>\n",
       "    </tr>\n",
       "  </thead>\n",
       "  <tbody>\n",
       "    <tr>\n",
       "      <th>2</th>\n",
       "      <td>\\n\\nForget ML, AI and Industry 4.0 – obsolescence should be your focus - 26 February 2021 - Test &amp; Rework Solutions - Dataweek\\nHome\\nAbout us\\nBack issues / E-book / PDF\\nEMP Handbook\\nSubscribe\\nAdvertise\\n\\nCategories\\n\\n▸ Editor's Choice\\n▸ Multimedia, Videos\\n▸ Analogue, Mixed Signal, LSI\\n▸ Circuit &amp; System Protection\\n▸ Computer/Embedded Technology\\n▸ Design Automation\\n▸ DSP, Micros &amp; Memory\\n▸ Electronics Technology\\n▸ Enclosures, Racks, Cabinets &amp; Panel Products\\n▸ Events\\n▸ Interc...</td>\n",
       "      <td>\\n\\nForget ML, AI and Industry 4.0   obsolescence should be your focus   26 February 2021   Test   Rework Solutions   Dataweek\\nHome\\nAbout us\\nBack issues / E book / PDF\\nEMP Handbook\\nSubscribe\\nAdvertise\\n\\nCategories\\n\\n  Editor's Choice\\n  Multimedia, Videos\\n  Analogue, Mixed Signal, LSI\\n  Circuit   System Protection\\n  Computer/Embedded Technology\\n  Design Automation\\n  DSP, Micros   Memory\\n  Electronics Technology\\n  Enclosures, Racks, Cabinets   Panel Products\\n  Events\\n  Interc...</td>\n",
       "    </tr>\n",
       "  </tbody>\n",
       "</table>\n",
       "</div>"
      ],
      "text/plain": [
       "                                                                                                                                                                                                                                                                                                                                                                                                                                                                                                                  text   \n",
       "2  \\n\\nForget ML, AI and Industry 4.0 – obsolescence should be your focus - 26 February 2021 - Test & Rework Solutions - Dataweek\\nHome\\nAbout us\\nBack issues / E-book / PDF\\nEMP Handbook\\nSubscribe\\nAdvertise\\n\\nCategories\\n\\n▸ Editor's Choice\\n▸ Multimedia, Videos\\n▸ Analogue, Mixed Signal, LSI\\n▸ Circuit & System Protection\\n▸ Computer/Embedded Technology\\n▸ Design Automation\\n▸ DSP, Micros & Memory\\n▸ Electronics Technology\\n▸ Enclosures, Racks, Cabinets & Panel Products\\n▸ Events\\n▸ Interc...  \\\n",
       "\n",
       "                                                                                                                                                                                                                                                                                                                                                                                                                                                                                                           text_no_url  \n",
       "2  \\n\\nForget ML, AI and Industry 4.0   obsolescence should be your focus   26 February 2021   Test   Rework Solutions   Dataweek\\nHome\\nAbout us\\nBack issues / E book / PDF\\nEMP Handbook\\nSubscribe\\nAdvertise\\n\\nCategories\\n\\n  Editor's Choice\\n  Multimedia, Videos\\n  Analogue, Mixed Signal, LSI\\n  Circuit   System Protection\\n  Computer/Embedded Technology\\n  Design Automation\\n  DSP, Micros   Memory\\n  Electronics Technology\\n  Enclosures, Racks, Cabinets   Panel Products\\n  Events\\n  Interc...  "
      ]
     },
     "execution_count": 11,
     "metadata": {},
     "output_type": "execute_result"
    }
   ],
   "source": [
    "df[['text','text_no_url']].iloc[2:3,:]"
   ]
  },
  {
   "cell_type": "code",
   "execution_count": 12,
   "metadata": {},
   "outputs": [
    {
     "data": {
      "application/vnd.jupyter.widget-view+json": {
       "model_id": "d49dfd2b57044de1a68b286682f80c59",
       "version_major": 2,
       "version_minor": 0
      },
      "text/plain": [
       "VBox(children=(HBox(children=(IntProgress(value=0, description='0.00%', max=25042), Label(value='0 / 25042')))…"
      ]
     },
     "metadata": {},
     "output_type": "display_data"
    }
   ],
   "source": [
    "# save a record of original text length\n",
    "df['text_len_initial'] = df['text'].parallel_apply(lambda x: len(x))"
   ]
  },
  {
   "attachments": {},
   "cell_type": "markdown",
   "metadata": {},
   "source": [
    "## Split sentences (rule-based)"
   ]
  },
  {
   "attachments": {},
   "cell_type": "markdown",
   "metadata": {},
   "source": [
    "**Notes:**\n",
    "1. What is the best way to split sentences?\n",
    "    - rule-based approach\n",
    "        - `\\n\\n` sign: paragraphs in new articles normally breaks with two new lines. If we can break the whole document into sentences by `\\n\\n`, we can select the sentences has the most words as the title of the article.\n",
    "        - `all rights reserved` sign: this sign is normally at the end of the article. If we can break the whole document into sentences by `all rights reserved`, we can select the sentences before the break word as the content.\n",
    "    - model-based approach\n",
    "        - `spacy` sentence tokenizer"
   ]
  },
  {
   "cell_type": "code",
   "execution_count": 13,
   "metadata": {},
   "outputs": [
    {
     "data": {
      "application/vnd.jupyter.widget-view+json": {
       "model_id": "a9da47e8a99c41439565ce8f0c48e668",
       "version_major": 2,
       "version_minor": 0
      },
      "text/plain": [
       "VBox(children=(HBox(children=(IntProgress(value=0, description='0.00%', max=25042), Label(value='0 / 25042')))…"
      ]
     },
     "metadata": {},
     "output_type": "display_data"
    }
   ],
   "source": [
    "# create a new True/False column telling whether each value of column 'text_url' has the string \"all rights reserved\", case insensitive\n",
    "df['spilit_check'] = df['text_no_url'].parallel_apply(lambda x: True if re.search('all rights reserved', x, re.IGNORECASE) else False)"
   ]
  },
  {
   "cell_type": "code",
   "execution_count": 14,
   "metadata": {},
   "outputs": [
    {
     "data": {
      "text/plain": [
       "spilit_check\n",
       "False    138619\n",
       "True      61713\n",
       "Name: count, dtype: int64"
      ]
     },
     "execution_count": 14,
     "metadata": {},
     "output_type": "execute_result"
    }
   ],
   "source": [
    "df['spilit_check'].value_counts()"
   ]
  },
  {
   "attachments": {},
   "cell_type": "markdown",
   "metadata": {},
   "source": [
    "Only about 40% of the articles include \"all rights reserved\" sign. So we need more filtering rules later.\n",
    "\n",
    "But let's split the text by `all right reserved` first."
   ]
  },
  {
   "cell_type": "code",
   "execution_count": 15,
   "metadata": {},
   "outputs": [],
   "source": [
    "# define a function to split text with \"all right reserved\" into sentences\n",
    "def words_split(search_word, input_text):\n",
    "    if re.search(search_word, input_text, re.IGNORECASE):\n",
    "        split_list = input_text.split(search_word)\n",
    "        if len(split_list) <= 2:\n",
    "            return split_list[0]\n",
    "        elif len(split_list) > 2: # return everything before the last split\n",
    "            print('multiple split')\n",
    "            return split_list[:-1]\n",
    "        else:\n",
    "            return 'bug'\n",
    "    else: # return input if no search_word in input_text\n",
    "        return input_text"
   ]
  },
  {
   "cell_type": "code",
   "execution_count": 16,
   "metadata": {},
   "outputs": [
    {
     "data": {
      "application/vnd.jupyter.widget-view+json": {
       "model_id": "466d9dcd1c7f495d8262812fa48e26fb",
       "version_major": 2,
       "version_minor": 0
      },
      "text/plain": [
       "VBox(children=(HBox(children=(IntProgress(value=0, description='0.00%', max=25042), Label(value='0 / 25042')))…"
      ]
     },
     "metadata": {},
     "output_type": "display_data"
    }
   ],
   "source": [
    "# split text with our function\n",
    "df['text_split'] = df['text_no_url'].parallel_apply(lambda x: words_split('all rights reserved', x))"
   ]
  },
  {
   "cell_type": "code",
   "execution_count": 39,
   "metadata": {},
   "outputs": [
    {
     "data": {
      "text/plain": [
       "\"\\n\\nArtificial intelligence improves parking efficiency in Chinese cities   People's Daily Online\\n\\nHome\\nChina Politics\\nForeign Affairs\\nOpinions\\nVideo: We Are China\\nBusiness\\nMilitary\\nWorld\\nSociety\\nCulture\\nTravel\\nScience\\nSports\\nPhoto\\n\\nLanguages\\n\\nChinese\\nJapanese\\nFrench\\nSpanish\\nRussian\\nArabic\\nKorean\\nGerman\\nPortuguese\\nThursday, March 18, 2021\\nHome \\n  \\nArtificial intelligence improves parking efficiency in Chinese cities\\nBy Liu Shiyao  People's Daily  09:16, March 18, 2021\\nPhoto taken on July 1, 2019, shows a sign for electronic toll collection  ETC  newly set up at a roadside parking space on Yangzhuang road, Shijingshan district, Beijing. Some urban areas of the city started to use ETC system for roadside parking spaces since July 1, 2019.  People s Daily Online/Li Wenming \\n\\n Thanks to the application of an artificial intelligence  AI empowered roadside electronic toll collection  ETC  system, China s capital city Beijing has seen significant improvement in the efficiency of parking fee collection, turnover of roadside parking spots, order in roadside parking, as well as traffic congestion.\\n\\n As the city further deepens its roadside parking reform, the ETC system has almost covered all the roadside parking spaces in the city, with the proportion of vehicles parked on roads using the system exceeding 90 percent.\\n\\n With the AI empowered system, drivers can park their vehicles at the parking spots on the roadside, and then pay the parking charge via their mobile phones after they drive away.\\n\\n  This road used to be full of cars, and even the normal lanes were occupied. You could hardly move a bit during the morning and  mute time,  recalled a citizen surnamed Wang, who lives in Chaoyang district of Beijing.\\n\\n  Since the summer of 2019, roadside ETC devices have been installed here. With all the cars being parked in designated parking spots on the roadside, the road now seems brighter and wider,  Wang said.\\n\\n The smart roadside ETC system  AIpark Sky Eye  adopted by Beijing is developed, operated, and maintained by AIpark, a Beijing based leading smart parking solution provider.\\n\\n  pany s intelligent system has brought into full play the advantages of AI technologies and effectively addressed the shortage of parking spaces and the problem of irregular parking in cities. The system has therefore been listed among the country s innovation projects that integrate AI deeply into the real economy in 2018 by China s Ministry of Industry and Information Technology  MIIT .\\n\\n Traditional parking management equipment and monitoring devices have failed to meet the actual needs of cities due to limited application scenarios and technical capacity. There are many deficiencies in traditional parking systems. For example, magnetic devices cannot identify detailed information about vehicles; each video monitoring pile can only cover one parking spot; and manual collection of parking fees costs too much.\\n\\n Such problems don t exist in smart machines. The  AIpark Sky Eye  system boasts strong stability and high recognition rate. Besides, it can resist the interference of extreme weather conditions like rain, snow, and fog, and  plete graphic evidence based on wheel path of vehicles.\\n\\n Each set of cameras of the  AIpark Sky Eye  system can monitor multiple parking spots at the same time for 24 hours a day. The data collected by front end cameras are processed using multi dimensional deep learning algorithm before they are uploaded on to an  puting cloud platform for data enrichment. The platform then distributes identification results to transport authorities.\\n\\n The most distinctive innovation in the technological package of the system is precision brought about by high mounted parking system cameras, according to Xiang Yanping, senior vice president of AIpark, noting that the cameras can recognize  plex static and dynamic reality scenes.\\n\\n  For example, the equipment can accurately identify irregular parking behaviors and state such as double parking and frequent maneuvers, precisely recognize detailed information including plate number and vehicle color, and make good judgment on the behaviors of drivers and pedestrians,  Xiang said.\\n\\n Once the high mounted parking system cameras are installed, they can help with many aspects of integrated urban governance, which represents another advantage of the  AIpark Sky Eye  system.\\n\\n Besides managing parking fee collection, high mounted camera system can also provide data for traffic improvements. The snapshots obtained from the camera system can help solve problems including illegal and inappropriate parking and vehicle theft.\\n\\n So far, the smart ETC system of AIpark has been introduced into more than 20 cities in China, signaling increasingly important roles of AI in improving parking efficiency and order as well as new development opportunities for smart parking industry.\\n 1 2 3 \\nPhotos\\nNaval fleet steams in East China Sea\\nNewborn golden snub nosed monkey makes debut\\nIn pics: birds across China\\nGrain painting studio helps villagers to increase  e\\nRelated Stories\\nExhibition highlighting art science integration opens in BeijingChina s AI industry poised to enter boom timesAlibaba outlines 10 technology trends for 2019China s leading AI enterprise iFlytek to develop health information technologyCheetah Mobile wades into artificial intelligenceChina overtakes the US in investment in AI5 million artificial intelligence talents urgently needed in ChinaGraduate students give 'voice' to sign languageArtificial Intelligence in real livesMicrosoft embraces artificial intelligence\\nAbout People's Daily Online    Join Us   Contact Us\\nCopyright   2021 People's Daily Online. All Rights Reserved.\\n \\n\""
      ]
     },
     "execution_count": 39,
     "metadata": {},
     "output_type": "execute_result"
    }
   ],
   "source": [
    "'''# debug\n",
    "test = df.iloc[0,:]['text_no_url']\n",
    "words_split('all rights reserved', test)\n",
    "# check results\n",
    "df[['text_no_url','text_split']]'''"
   ]
  },
  {
   "attachments": {},
   "cell_type": "markdown",
   "metadata": {},
   "source": [
    "Note:\n",
    "\n",
    "2. Now we want to deal with the 138619 obvervations that don't have `all right reserve` as ending phrase. \n",
    "    - These articles don't have this term might be that the parsing didn't get the complete article, or they simply didn't have it\n",
    "    - Either way, we can still spilt the whole text by `\\n\\n` as a break paragrah and break the text into large trunks\n",
    "    - Then, we can filter out paragraphes that are less important based on trunk length"
   ]
  },
  {
   "cell_type": "code",
   "execution_count": 17,
   "metadata": {},
   "outputs": [
    {
     "data": {
      "application/vnd.jupyter.widget-view+json": {
       "model_id": "dc17d106a560442eaed44c2edcdfe6e8",
       "version_major": 2,
       "version_minor": 0
      },
      "text/plain": [
       "VBox(children=(HBox(children=(IntProgress(value=0, description='0.00%', max=25042), Label(value='0 / 25042')))…"
      ]
     },
     "metadata": {},
     "output_type": "display_data"
    }
   ],
   "source": [
    "# split 'text_sent' by '\\n\\n'\n",
    "df['text_split'] = df['text_split'].parallel_apply(lambda x: x.split('\\n\\n'))"
   ]
  },
  {
   "cell_type": "code",
   "execution_count": 26,
   "metadata": {},
   "outputs": [
    {
     "data": {
      "application/vnd.jupyter.widget-view+json": {
       "model_id": "78a61ea558804ab0b98ef8cb11779347",
       "version_major": 2,
       "version_minor": 0
      },
      "text/plain": [
       "VBox(children=(HBox(children=(IntProgress(value=0, description='0.00%', max=25042), Label(value='0 / 25042')))…"
      ]
     },
     "metadata": {},
     "output_type": "display_data"
    }
   ],
   "source": [
    "# get the length of each text_split\n",
    "df['text_split_len'] = df['text_split'].parallel_apply(lambda x: len(x))"
   ]
  },
  {
   "cell_type": "code",
   "execution_count": 27,
   "metadata": {},
   "outputs": [
    {
     "data": {
      "text/plain": [
       "count    200332.000000\n",
       "mean         54.302128\n",
       "std          92.590373\n",
       "min           1.000000\n",
       "25%           2.000000\n",
       "50%          27.000000\n",
       "75%          67.000000\n",
       "max        4314.000000\n",
       "Name: text_split_len, dtype: float64"
      ]
     },
     "execution_count": 27,
     "metadata": {},
     "output_type": "execute_result"
    }
   ],
   "source": [
    "df.text_split_len.describe()"
   ]
  },
  {
   "cell_type": "code",
   "execution_count": 28,
   "metadata": {},
   "outputs": [
    {
     "data": {
      "text/plain": [
       "<Axes: title={'center': 'Distribution of text_split_len'}, ylabel='Frequency'>"
      ]
     },
     "execution_count": 28,
     "metadata": {},
     "output_type": "execute_result"
    },
    {
     "data": {
      "image/png": "[encoded data removed]",
      "text/plain": [
       "<Figure size 640x480 with 1 Axes>"
      ]
     },
     "metadata": {},
     "output_type": "display_data"
    }
   ],
   "source": [
    "# filter out text_split with length > 100\n",
    "text_split_len_filtered = df.text_split_len[text_split_len<=100]\n",
    "\n",
    "# visualize the distribution of text_split_len\n",
    "text_split_len_filtered.plot(kind='hist', bins=100, title='Distribution of text_split_len')"
   ]
  },
  {
   "cell_type": "code",
   "execution_count": 30,
   "metadata": {},
   "outputs": [
    {
     "data": {
      "text/html": [
       "<div>\n",
       "<style scoped>\n",
       "    .dataframe tbody tr th:only-of-type {\n",
       "        vertical-align: middle;\n",
       "    }\n",
       "\n",
       "    .dataframe tbody tr th {\n",
       "        vertical-align: top;\n",
       "    }\n",
       "\n",
       "    .dataframe thead th {\n",
       "        text-align: right;\n",
       "    }\n",
       "</style>\n",
       "<table border=\"1\" class=\"dataframe\">\n",
       "  <thead>\n",
       "    <tr style=\"text-align: right;\">\n",
       "      <th></th>\n",
       "      <th>url</th>\n",
       "      <th>date</th>\n",
       "      <th>language</th>\n",
       "      <th>title</th>\n",
       "      <th>text</th>\n",
       "      <th>text_no_url</th>\n",
       "      <th>text_len_initial</th>\n",
       "      <th>spilit_check</th>\n",
       "      <th>text_split</th>\n",
       "      <th>text_split_len</th>\n",
       "    </tr>\n",
       "  </thead>\n",
       "  <tbody>\n",
       "    <tr>\n",
       "      <th>0</th>\n",
       "      <td>http://en.people.cn/n3/2021/0318/c90000-9830122.html</td>\n",
       "      <td>2021-03-18</td>\n",
       "      <td>en</td>\n",
       "      <td>Artificial intelligence improves parking efficiency in Chinese cities - People's Daily Online</td>\n",
       "      <td>\\n\\nArtificial intelligence improves parking efficiency in Chinese cities - People's Daily Online\\n\\nHome\\nChina Politics\\nForeign Affairs\\nOpinions\\nVideo: We Are China\\nBusiness\\nMilitary\\nWorld\\nSociety\\nCulture\\nTravel\\nScience\\nSports\\nPhoto\\n\\nLanguages\\n\\nChinese\\nJapanese\\nFrench\\nSpanish\\nRussian\\nArabic\\nKorean\\nGerman\\nPortuguese\\nThursday, March 18, 2021\\nHome&gt;&gt;\\n\\t\\t\\nArtificial intelligence improves parking efficiency in Chinese cities\\nBy Liu Shiyao (People's Daily) 09:16, Mar...</td>\n",
       "      <td>\\n\\nArtificial intelligence improves parking efficiency in Chinese cities   People's Daily Online\\n\\nHome\\nChina Politics\\nForeign Affairs\\nOpinions\\nVideo: We Are China\\nBusiness\\nMilitary\\nWorld\\nSociety\\nCulture\\nTravel\\nScience\\nSports\\nPhoto\\n\\nLanguages\\n\\nChinese\\nJapanese\\nFrench\\nSpanish\\nRussian\\nArabic\\nKorean\\nGerman\\nPortuguese\\nThursday, March 18, 2021\\nHome \\n  \\nArtificial intelligence improves parking efficiency in Chinese cities\\nBy Liu Shiyao  People's Daily  09:16, March ...</td>\n",
       "      <td>5752</td>\n",
       "      <td>True</td>\n",
       "      <td>[, Artificial intelligence improves parking efficiency in Chinese cities   People's Daily Online, Home\\nChina Politics\\nForeign Affairs\\nOpinions\\nVideo: We Are China\\nBusiness\\nMilitary\\nWorld\\nSociety\\nCulture\\nTravel\\nScience\\nSports\\nPhoto, Languages, Chinese\\nJapanese\\nFrench\\nSpanish\\nRussian\\nArabic\\nKorean\\nGerman\\nPortuguese\\nThursday, March 18, 2021\\nHome \\n  \\nArtificial intelligence improves parking efficiency in Chinese cities\\nBy Liu Shiyao  People's Daily  09:16, March 18, 202...</td>\n",
       "      <td>20</td>\n",
       "    </tr>\n",
       "    <tr>\n",
       "      <th>1</th>\n",
       "      <td>http://newsparliament.com/2020/02/27/children-with-autism-saw-their-learning-and-social-skills-boosted-after-playing-with-this-ai-robot/</td>\n",
       "      <td>2020-02-27</td>\n",
       "      <td>en</td>\n",
       "      <td>Children With Autism Saw Their Learning and Social Skills Boosted After Playing With This AI Robot – News Parliament</td>\n",
       "      <td>\\nChildren With Autism Saw Their Learning and Social Skills Boosted After Playing With This AI Robot – News Parliament\\n \\n\\nSkip to content\\n\\t\\t\\tThursday, February 27, 2020\\t\\t\\n\\nLatest:\\n\\n\\nMansplaining in conferences: How can we get him to forestall?\\n\\n\\nDrax power station to cease burning coal in March 2021\\n\\n\\nCoronavirus Could Explode in the U.S. Overnight Like it Did in Italy\\n\\n\\nCoronavirus: Dettol sales surge as markets fall again\\n\\n\\nLevi Strauss marks the next phase in cor...</td>\n",
       "      <td>\\nChildren With Autism Saw Their Learning and Social Skills Boosted After Playing With This AI Robot   News Parliament\\n \\n\\nSkip to content\\n   Thursday, February 27, 2020  \\n\\nLatest:\\n\\n\\nMansplaining in conferences: How can we get him to forestall?\\n\\n\\nDrax power station to cease burning coal in March 2021\\n\\n\\nCoronavirus Could Explode in the U.S. Overnight Like it Did in Italy\\n\\n\\nCoronavirus: Dettol sales surge as markets fall again\\n\\n\\nLevi Strauss marks the next phase in corporat...</td>\n",
       "      <td>10150</td>\n",
       "      <td>True</td>\n",
       "      <td>[\\nChildren With Autism Saw Their Learning and Social Skills Boosted After Playing With This AI Robot   News Parliament\\n , Skip to content\\n   Thursday, February 27, 2020  , Latest:, \\nMansplaining in conferences: How can we get him to forestall?, \\nDrax power station to cease burning coal in March 2021, \\nCoronavirus Could Explode in the U.S. Overnight Like it Did in Italy, \\nCoronavirus: Dettol sales surge as markets fall again, \\nLevi Strauss marks the next phase in corporate paid leave ...</td>\n",
       "      <td>60</td>\n",
       "    </tr>\n",
       "  </tbody>\n",
       "</table>\n",
       "</div>"
      ],
      "text/plain": [
       "                                                                                                                                        url   \n",
       "0                                                                                      http://en.people.cn/n3/2021/0318/c90000-9830122.html  \\\n",
       "1  http://newsparliament.com/2020/02/27/children-with-autism-saw-their-learning-and-social-skills-boosted-after-playing-with-this-ai-robot/   \n",
       "\n",
       "         date language   \n",
       "0  2021-03-18       en  \\\n",
       "1  2020-02-27       en   \n",
       "\n",
       "                                                                                                                  title   \n",
       "0                         Artificial intelligence improves parking efficiency in Chinese cities - People's Daily Online  \\\n",
       "1  Children With Autism Saw Their Learning and Social Skills Boosted After Playing With This AI Robot – News Parliament   \n",
       "\n",
       "                                                                                                                                                                                                                                                                                                                                                                                                                                                                                                                  text   \n",
       "0  \\n\\nArtificial intelligence improves parking efficiency in Chinese cities - People's Daily Online\\n\\nHome\\nChina Politics\\nForeign Affairs\\nOpinions\\nVideo: We Are China\\nBusiness\\nMilitary\\nWorld\\nSociety\\nCulture\\nTravel\\nScience\\nSports\\nPhoto\\n\\nLanguages\\n\\nChinese\\nJapanese\\nFrench\\nSpanish\\nRussian\\nArabic\\nKorean\\nGerman\\nPortuguese\\nThursday, March 18, 2021\\nHome>>\\n\\t\\t\\nArtificial intelligence improves parking efficiency in Chinese cities\\nBy Liu Shiyao (People's Daily) 09:16, Mar...  \\\n",
       "1  \\nChildren With Autism Saw Their Learning and Social Skills Boosted After Playing With This AI Robot – News Parliament\\n \\n\\nSkip to content\\n\\t\\t\\tThursday, February 27, 2020\\t\\t\\n\\nLatest:\\n\\n\\nMansplaining in conferences: How can we get him to forestall?\\n\\n\\nDrax power station to cease burning coal in March 2021\\n\\n\\nCoronavirus Could Explode in the U.S. Overnight Like it Did in Italy\\n\\n\\nCoronavirus: Dettol sales surge as markets fall again\\n\\n\\nLevi Strauss marks the next phase in cor...   \n",
       "\n",
       "                                                                                                                                                                                                                                                                                                                                                                                                                                                                                                           text_no_url   \n",
       "0  \\n\\nArtificial intelligence improves parking efficiency in Chinese cities   People's Daily Online\\n\\nHome\\nChina Politics\\nForeign Affairs\\nOpinions\\nVideo: We Are China\\nBusiness\\nMilitary\\nWorld\\nSociety\\nCulture\\nTravel\\nScience\\nSports\\nPhoto\\n\\nLanguages\\n\\nChinese\\nJapanese\\nFrench\\nSpanish\\nRussian\\nArabic\\nKorean\\nGerman\\nPortuguese\\nThursday, March 18, 2021\\nHome \\n  \\nArtificial intelligence improves parking efficiency in Chinese cities\\nBy Liu Shiyao  People's Daily  09:16, March ...  \\\n",
       "1  \\nChildren With Autism Saw Their Learning and Social Skills Boosted After Playing With This AI Robot   News Parliament\\n \\n\\nSkip to content\\n   Thursday, February 27, 2020  \\n\\nLatest:\\n\\n\\nMansplaining in conferences: How can we get him to forestall?\\n\\n\\nDrax power station to cease burning coal in March 2021\\n\\n\\nCoronavirus Could Explode in the U.S. Overnight Like it Did in Italy\\n\\n\\nCoronavirus: Dettol sales surge as markets fall again\\n\\n\\nLevi Strauss marks the next phase in corporat...   \n",
       "\n",
       "   text_len_initial  spilit_check   \n",
       "0              5752          True  \\\n",
       "1             10150          True   \n",
       "\n",
       "                                                                                                                                                                                                                                                                                                                                                                                                                                                                                                            text_split   \n",
       "0  [, Artificial intelligence improves parking efficiency in Chinese cities   People's Daily Online, Home\\nChina Politics\\nForeign Affairs\\nOpinions\\nVideo: We Are China\\nBusiness\\nMilitary\\nWorld\\nSociety\\nCulture\\nTravel\\nScience\\nSports\\nPhoto, Languages, Chinese\\nJapanese\\nFrench\\nSpanish\\nRussian\\nArabic\\nKorean\\nGerman\\nPortuguese\\nThursday, March 18, 2021\\nHome \\n  \\nArtificial intelligence improves parking efficiency in Chinese cities\\nBy Liu Shiyao  People's Daily  09:16, March 18, 202...  \\\n",
       "1  [\\nChildren With Autism Saw Their Learning and Social Skills Boosted After Playing With This AI Robot   News Parliament\\n , Skip to content\\n   Thursday, February 27, 2020  , Latest:, \\nMansplaining in conferences: How can we get him to forestall?, \\nDrax power station to cease burning coal in March 2021, \\nCoronavirus Could Explode in the U.S. Overnight Like it Did in Italy, \\nCoronavirus: Dettol sales surge as markets fall again, \\nLevi Strauss marks the next phase in corporate paid leave ...   \n",
       "\n",
       "   text_split_len  \n",
       "0              20  \n",
       "1              60  "
      ]
     },
     "execution_count": 30,
     "metadata": {},
     "output_type": "execute_result"
    }
   ],
   "source": [
    "df.head(2)"
   ]
  },
  {
   "attachments": {},
   "cell_type": "markdown",
   "metadata": {},
   "source": [
    "Now we see a distribution of the number of trunks per observation. 1/4 of the news has less than 2 trunks spilt by `\\n\\n` and the media length in 27 trunks. We can calculate the average length of the trunks and use it as a threshold to filter out the trunks that have less length."
   ]
  },
  {
   "cell_type": "code",
   "execution_count": 32,
   "metadata": {},
   "outputs": [
    {
     "data": {
      "text/plain": [
       "['',\n",
       " 'Forget ML, AI and Industry 4.0   obsolescence should be your focus   26 February 2021   Test   Rework Solutions   Dataweek\\nHome\\nAbout us\\nBack issues / E book / PDF\\nEMP Handbook\\nSubscribe\\nAdvertise',\n",
       " 'Categories',\n",
       " \"  Editor's Choice\\n  Multimedia, Videos\\n  Analogue, Mixed Signal, LSI\\n  Circuit   System Protection\\n  Computer/Embedded Technology\\n  Design Automation\\n  DSP, Micros   Memory\\n  Electronics Technology\\n  Enclosures, Racks, Cabinets   Panel Products\\n  Events\\n  Interconnection\\n  Manufacturing / Production Technology, Hardware   Services\\n  News\\n  Opto Electronics\\n  Passive Components\\n  Power Electronics / Power Management\\n  Programmable Logic\\n  Smart Home Automation\\n  Switches, Relays   Keypads\\n   s,  s, Wireless, IoT\\n  Test   Measurement\\n \",\n",
       " 'Categories',\n",
       " \"Editor's Choice\",\n",
       " '\\nMultimedia, Videos',\n",
       " '\\nAnalogue, Mixed Signal, LSI',\n",
       " '\\nCircuit   System Protection',\n",
       " '\\nComputer/Embedded Technology',\n",
       " '\\nDesign Automation',\n",
       " '\\nDSP, Micros   Memory',\n",
       " '\\nElectronics Technology',\n",
       " '\\nEnclosures, Racks, Cabinets   Panel Products',\n",
       " '\\nEvents',\n",
       " '\\nInterconnection',\n",
       " '\\nManufacturing / Production Technology, Hardware   Services',\n",
       " '\\nNews',\n",
       " '\\nOpto Electronics',\n",
       " '\\nPassive Components',\n",
       " '\\nPower Electronics / Power Management',\n",
       " '\\nProgrammable Logic',\n",
       " '\\nSmart Home Automation  ',\n",
       " '\\nSwitches, Relays   Keypads',\n",
       " '\\n s,  s, Wireless, IoT',\n",
       " '\\nTest   Measurement\\nManufacturing / Production Technology, Hardware   Services',\n",
       " 'Production/manufacturing equipment suppliers   service providers  ',\n",
       " ' printer friendly version\\nForget ML, AI and Industry 4.0   obsolescence should be your focus\\n26 February 2021\\nManufacturing / Production Technology, Hardware   Services\\nBy Willian Santos, international sales manager at ABI Electronics.',\n",
       " 'The world entered a new era of accelerated transformation in the last eighteen months that will continue to evolve and press forward for years  e. Most businesses are playing catch up trying to make sense of a new timeline where the ten years that had been set aside for careful planning and implementation of what  ing up next no longer exists. The next is happening now and, regardless of your industry or seniority, the status quo has shifted and you better face it. Back in 2019, I was invited to attend a pompous meeting in London at the Brazilian Embassy along with selected leading names from the oil and energy industry, to get an update on what was going to happen in the following decade. I could soon spot all the  ing up on PowerPoint slides from the  panies presenting:  missioning, decarbonisation, zero emissions, transition to green energy. Throughout the morning and most of the afternoon, we heard that most of these changes would kick in between 2030 35. And I recall a Shell executive pointing out that the business had explicitly concluded that the current  e streams were needed to provide the capital required for the transition to take place in due course.Whomever you talk to in the energy industry in 2021 would tell you to forget about that timeline. Change  e and the transition is happening much faster than anticipated, with big businesses scrambling to find the capital to fund all that is required. I could go on all day talking about how the pandemic and the impact it had on market demand and consumer behaviour messed up the timeline of transport, automotive, defence, manufacturing and so on. For instance, carrier planes that were due to be retired in 2017 are now required to remain in service at least until 2029. Projects in wind power involving upgrades of wind farms have been scrapped and new installations have drawn  petition from up  ing brands with operators tending to favour smaller turbines   for being efficient and cheaper to run   and choosing to buy from multiple suppliers instead of just  pany. Machine learning  ML , AI and Industry 4.0 knock at the door. Still, the biggest change yet to be fully appreciated by business leaders is how electronics effectively became the brain of every industrial asset and all infrastructure equipment in operation in recent years, and therefore what is required to deal with breakdowns and obsolescence. For instance, I lost count of the many rail connections that I have working in operations and maintenance who struggle with their CME   chief mechanical engineer   who, like the role suggests, is usually a mechanically biased individual who may have a less than ideal approach when  es to the handling of electronic failures. And you guessed right: less ideal means neither green nor cheap solutions, as illustrated in this video:   Many decision makers only realise the problem at hand and regret not following the tag  RepairDontWaste on LinkedIn in times like this, resulting  ments like, \"We did not anticipate that the equipment would  e obsolete so quickly!\" or, \"Spare circuit boards started to take weeks then months to arrive. Then we were told that they would no longer be supplied. We were quoted seven figure prices to upgrade our assembly line.\"By deferring the responsibility to the original equipment supplier and other third parties, you are bound to be caught off guard soon or later. And the risk exposure from insisting on this strategy is about to get exponentially higher; there is a  ponent shortage increasing lead times, and technology providers are dropping support for many products in order to remain viable.Last month, a wind turbine multinational in the US had to ship a bunch of expensive controller cards used in inverters and speed governing systems to its workshop in Brazil for repair as new replacement cards are not due back in stock for another six months. Good job that the local team had an electronic diagnostic equipment BoardMaster from ABI in the shop, ready to help the technicians locate the fault and repair the cards, which happened in record time.Poor decision making when  es to setting maintenance and repair strategies are often linked to  fake news  and myths such as:  A repaired electronic card  PCB/PCBA  will never be as good as a new one.  The manufacturer told us that special software was required to troubleshoot the card.  Troubleshooting down to  ponent level is impossible or would take too long.  Dedicated test and repair equipment is prohibitively expensive.The mentality here needs to change, and fast. The longer you take to embrace the new strategies for in house fault analysis, maintenance, and obsolescence planning of your key electronic circuits and assets, the more expensive it will get to keep them going. Hundreds of leading organisations have found in recent years that the belief in these myths was hindering their results  promising the operation   from GE Renewable to Collins Aerospace, where the latter reduced troubleshooting times on avionics circuit cards from 50 hours to 10 minutes. Then there is Lego in Mexico, where controller cards from 600  plastic moulding machines worth tens of thousands of dollars each have been mapped and are now repaired in house. In the US, an army engineer saved a mobile shelter unit worth 10 million dollars from being  missioned by repairing its HVAC circuit board that was deemed  irreparable  by the OEM. In the rail  panies like Alstom, CAF, Bombardier and operators like Irish Rail, SFMTA, TCDD and so many others have discovered the benefits of investing in the right tool and skill development programme to shield the business against parts shortages and accelerated obsolescence. Some of their stories, and the technology that is driving several top shelf global sustainability projects, were the subject of a YouTube series called ABI Labs. The series gives an in depth review of the key tests and techniques available in the British made BoardMaster hardware and software platform from ABI Electronics to handle predictive as well as corrective maintenance of critical electronics without wasting time or money. The ABI BoardMaster 19 inch rack universal diagnostic system is a uniquely versatile, self contained and easy to use test system. It offers the  prehensive set of test instruments for fault finding on almost any kind of PCB. As the product of choice  panies operating in rail transport, aerospace, military, automotive,  s and a range of other industrial sectors, the BoardMaster is ABI Electronics  top of the range solution that saves customers time and money, and increases asset availability and reliability. With the full range of instruments and a variety of test methods guaranteeing the best possible fault coverage, the BoardMaster 19 inch rack provides the ultimate in diagnostic tools.The BoardMaster 19 inch   plete with ABI\\'s multi licence and user friendly SYSTEM 8 Ultimate Software preinstalled. Customers are guaranteed to receive free software updates for life and will not be charged for additional seats or maintenance fees. The powerful yet easy to use software includes user access management, ABI\\'s exclusive TestFlow Manager, as well as a wealth of customisation options.',\n",
       " 'Credit s \\nTest   Rework Solutions\\nTel:\\n 27 11 704 6677',\n",
       " '\\nEmail: \\nsales testandrework.co.za',\n",
       " '\\n \\n ',\n",
       " '\\nArticles:\\nMore information and articles about Test   Rework Solutions\\nShare this article:\\nFurther reading:\\nSuccessful solder processing of high density connector arrays \\n26 February 2021, Spectrum Concepts\\n, Manufacturing / Production Technology, Hardware   Services\\nProcessing  ponent onto a printed circuit board  PCB  used to be fairly straightforward. Through hole products, or a single  or double row surface  ponent with a larger centreline, rarely ...\\nRead more...',\n",
       " 'Water based cleaners for electronic assemblies\\n26 February 2021, Vepac Electronics\\n, Manufacturing / Production Technology, Hardware   Services\\nThe purpose of cleaning, specifically within the rapidly expanding electronics industry, is essentially to improve product lifetime by ensuring good surface resistance and by preventing current leakage ...\\nRead more...',\n",
       " 'Pathfindr device helps people maintain safe social distancing\\n26 February 2021, RS Components  SA \\n, Manufacturing / Production Technology, Hardware   Services\\nThe Safe Distancing Assistant from Pathfindr is a new addition to RS Components  supplier portfolio specialising in asset intelligence using connectivity enabled location tracking.  \\n \\nDesigned for use ...\\nRead more...',\n",
       " 'Indium features low temp alloy at productronica China\\n26 February 2021, Techmet \\n, Manufacturing / Production Technology, Hardware   Services\\nIndium featured its award winning Durafuse LT   a novel, low temperature alloy system designed to provide high reliability in low temperature applications   during productronica China, which was held ...\\nRead more...',\n",
       " 'Assistance system supports efficient conductor processing\\n26 February 2021, Phoenix Contact\\n, Manufacturing / Production Technology, Hardware   Services\\nIn industrial control cabinet manufacturing, processes still feature multiple manual steps. Phoenix Contact offers a solution in the form of the ClipX WIRE assistance system from the ClipX product family, ...\\nRead more...',\n",
       " 'Battery operated UV C surface disinfector\\n26 February 2021, Electronic Industry Supplies\\n, Manufacturing / Production Technology, Hardware   Services\\nTouted by its maker, Heraeus, as the only battery operated UV C surface disinfector in the world, the Soluva Zone H promises chemical free, dry, contactless, fast, and absolutely reliable destruction ...\\nRead more...',\n",
       " 'PCB laser marking and FPC laser cutting machines\\n25 November 2020, Zetech\\n, Manufacturing / Production Technology, Hardware   Services\\nPCB laser marking and FPC laser cutting machines from HGTech can be integrated with SMT inline operation. The laser marking machine is designed for barcode marking, 2D codes and characters, graphics and ...\\nRead more...',\n",
       " 'High conductor pull out values with square crimping shape\\n25 November 2020, Phoenix Contact\\n, Manufacturing / Production Technology, Hardware   Services\\nThe Crimpfox Vario 4S crimping tool from Phoenix Contact ensures reliable processing of insulated, uninsulated, and TWIN ferrules.The integrated pressure lock guarantees  plete and process reliable ...\\nRead more...',\n",
       " 'Directory of Suppliers 2021 \\nEMP 2021 Electronics Manufacturing   Production Handbook\\n, Manufacturing / Production Technology, Hardware   Services\\nContact details and core business offering of prominent and  panies involved in, and supplying to, the local electronics manufacturing industry.\\nRead more...',\n",
       " 'The same old new normal\\nEMP 2021 Electronics Manufacturing   Production Handbook, Barracuda Holdings, Jemstech, Production Logix\\n, Manufacturing / Production Technology, Hardware   Services\\nTo find out how local contract electronics manufacturers have coped with the financial and operational fallout from the pandemic, Dataweek conducted a Q A with three of them.\\nRead more...',\n",
       " ' ',\n",
       " ' \\n ',\n",
       " \"Technews Publishing  Pty  Ltd\\n1st Floor, Stabilitas House\\n265 Kent Ave, Randburg, 2194\\nSouth Africa\\nPublications by Technews\\n   Dataweek Electronics   Communications Technology\\n   Electronics Buyers' Guide  EBG \\n   Hi Tech Security Solutions\\n   Hi Tech Security Business Directory\\n   Motion Control in Southern Africa\\n   Motion Control Buyers' Guide  MCBG \\n   South African Instrumentation   Control\\n   South African Instrumentation   Control Buyers' Guide  IBG \\n  Technews Publishing  Pty  Ltd   All Rights Reserved\\n\"]"
      ]
     },
     "execution_count": 32,
     "metadata": {},
     "output_type": "execute_result"
    }
   ],
   "source": [
    "df.iloc[2, :]['text_split']"
   ]
  },
  {
   "attachments": {},
   "cell_type": "markdown",
   "metadata": {},
   "source": [
    "### Trunk Cleaning"
   ]
  },
  {
   "attachments": {},
   "cell_type": "markdown",
   "metadata": {},
   "source": [
    "We see some trunks have less than 5 or 10 words because they used to be tags on the website guide dashboard."
   ]
  },
  {
   "cell_type": "code",
   "execution_count": 5,
   "metadata": {},
   "outputs": [],
   "source": [
    "# save checkpoint\n",
    "ckp_path = '/home/anthony/projects/nlp_runtime'\n",
    "#df[[i for i in df.columns if i != 'text_split_len_filtered']].to_parquet(ckp_path + 'checkpoint_0522_text_cleaning_ckp.parquet', index=False)\n",
    "\n",
    "# restart and reload to save RAM\n",
    "#df = pd.read_parquet(ckp_path + 'checkpoint_0522_text_cleaning_ckp.parquet', engine='pyarrow')"
   ]
  },
  {
   "cell_type": "code",
   "execution_count": 6,
   "metadata": {},
   "outputs": [],
   "source": [
    "# clean the text list first\n",
    "\n",
    "# remove word with pattern like Chinese\\nJapanese\\nFrench\\nSpanish\\nRussian\\nArabic\\nKorean\\nGerman\\nPortuguese\\nThursday\n",
    "def tag_word_remover(trunk):\n",
    "    if isinstance(trunk, str) and len(trunk) > 10:\n",
    "        cleaned_text = re.sub(r'\\b\\w*\\n+\\w*\\b', '', trunk) # remove tag word\n",
    "        cleaned_text = re.sub(r'\\b\\w{18,}\\b', '', cleaned_text) # remove concated word liek 'ChineseJapaneseEnglish'; most words are less than 18 characters\n",
    "        return cleaned_text\n",
    "    else:\n",
    "        return trunk\n",
    "    \n",
    "\n",
    "def text_list_cleaner(text_list):\n",
    "    '''\n",
    "    Input is the value of column 'text_split_filtered'--which is a list of splited text trunks\n",
    "    Output is a list of cleaned text trunks\n",
    "    '''\n",
    "    text_list_cleaned = []\n",
    "    for trunk in text_list:\n",
    "        # check if the text is string\n",
    "        if isinstance(trunk, str) and (len(trunk) > 0):\n",
    "                # check if the text is not only space\n",
    "                if trunk.isspace() == False:\n",
    "                    text_list_cleaned.append(tag_word_remover(trunk))\n",
    "    return text_list_cleaned\n",
    "\n",
    "\n",
    "\n",
    "# get average length of element in each obversation (text_split)\n",
    "def get_length(text_list):\n",
    "    '''\n",
    "    Take in a list of text trunks (dtype: str), find their index and lentgh, return a list of tuple, containing the index and length\n",
    "    '''\n",
    "    text_len = []\n",
    "    for idx, text in enumerate(text_list):\n",
    "        text_len.append((idx, len(text)))\n",
    "    return text_len\n",
    "\n",
    "def long_text_trunk_filter(text_list):\n",
    "    '''\n",
    "    1. calculate the average length of the input: extract the length from each tuple, then calculate the average;\n",
    "    2.1. filter out the text trunk whose length is less than the average lenghth by droppling the index of the tuple in the text_len results\n",
    "    2.2. extract only the index form the reamining tuples; \n",
    "    3. keep theh trunk in the original input using index\n",
    "    '''\n",
    "    # 1. get avg length\n",
    "    text_len = get_length(text_list)\n",
    "    text_len_ttl = [i[1] for i in text_len]\n",
    "    text_len_avg = sum(text_len_ttl)/len(text_len_ttl)\n",
    "    threshold = text_len_avg/2\n",
    "    # 2.1 & 2.2 filter out text trunk whose length is less than avg length\n",
    "    filtered_text_len_idx = [0] + [i[0] for i in text_len if i[1] >= threshold and i[0] != 0] # keep the first trunk because it's usually the title\n",
    "    # sort the elements in the list\n",
    "    filtered_text_len_idx.sort()\n",
    "    # 3. keep the trunk in the original input using index\n",
    "    filtered_text = [text_list[i] for i in filtered_text_len_idx]\n",
    "    \n",
    "    return filtered_text"
   ]
  },
  {
   "cell_type": "code",
   "execution_count": 7,
   "metadata": {},
   "outputs": [
    {
     "data": {
      "text/plain": [
       "\"def tag_word_remover(trunk):\\n    if isinstance(trunk, str) and len(trunk) > 10:\\n        cleaned_text = re.sub(r'\\x08\\\\w*\\n+\\\\w*\\x08', '', trunk)\\n        return cleaned_text\\n    else:\\n        return trunk\\n    \\ndf_test = df.iloc[0:5,:]['text_split_filtered']\\nprint(df_test)\\ndf_test.apply(lambda x: [tag_word_remover(i) for i in x])\""
      ]
     },
     "execution_count": 7,
     "metadata": {},
     "output_type": "execute_result"
    }
   ],
   "source": [
    "'''def tag_word_remover(trunk):\n",
    "    if isinstance(trunk, str) and len(trunk) > 10:\n",
    "        cleaned_text = re.sub(r'\\b\\w*\\n+\\w*\\b', '', trunk)\n",
    "        return cleaned_text\n",
    "    else:\n",
    "        return trunk\n",
    "    \n",
    "df_test = df.iloc[0:5,:]['text_split_filtered']\n",
    "print(df_test)\n",
    "df_test.apply(lambda x: [tag_word_remover(i) for i in x])'''"
   ]
  },
  {
   "cell_type": "code",
   "execution_count": 8,
   "metadata": {},
   "outputs": [
    {
     "data": {
      "application/vnd.jupyter.widget-view+json": {
       "model_id": "2bba042e97b54d5e9c25cf530509c410",
       "version_major": 2,
       "version_minor": 0
      },
      "text/plain": [
       "VBox(children=(HBox(children=(IntProgress(value=0, description='0.00%', max=16695), Label(value='0 / 16695')))…"
      ]
     },
     "metadata": {},
     "output_type": "display_data"
    },
    {
     "data": {
      "application/vnd.jupyter.widget-view+json": {
       "model_id": "c966f8f32a8c4277bf4d351d228448b2",
       "version_major": 2,
       "version_minor": 0
      },
      "text/plain": [
       "VBox(children=(HBox(children=(IntProgress(value=0, description='0.00%', max=16695), Label(value='0 / 16695')))…"
      ]
     },
     "metadata": {},
     "output_type": "display_data"
    }
   ],
   "source": [
    "# do it again to remove empty element\n",
    "df['text_split_filtered'] = df['text_split'].parallel_apply(lambda x: text_list_cleaner(x))\n",
    "df['text_split_filtered'] = df['text_split'].parallel_apply(lambda x: [re.sub('\\n|\\n \\n',' ',i) for i in x])"
   ]
  },
  {
   "cell_type": "code",
   "execution_count": 9,
   "metadata": {},
   "outputs": [
    {
     "data": {
      "text/html": [
       "<div>\n",
       "<style scoped>\n",
       "    .dataframe tbody tr th:only-of-type {\n",
       "        vertical-align: middle;\n",
       "    }\n",
       "\n",
       "    .dataframe tbody tr th {\n",
       "        vertical-align: top;\n",
       "    }\n",
       "\n",
       "    .dataframe thead th {\n",
       "        text-align: right;\n",
       "    }\n",
       "</style>\n",
       "<table border=\"1\" class=\"dataframe\">\n",
       "  <thead>\n",
       "    <tr style=\"text-align: right;\">\n",
       "      <th></th>\n",
       "      <th>text_split_filtered</th>\n",
       "    </tr>\n",
       "  </thead>\n",
       "  <tbody>\n",
       "    <tr>\n",
       "      <th>0</th>\n",
       "      <td>[, Artificial intelligence improves parking efficiency in Chinese cities   People's Daily Online, Home China Politics Foreign Affairs Opinions Video: We Are China Business Military World Society Culture Travel Science Sports Photo, Languages, Chinese Japanese French Spanish Russian Arabic Korean German Portuguese Thursday, March 18, 2021 Home     Artificial intelligence improves parking efficiency in Chinese cities By Liu Shiyao  People's Daily  09:16, March 18, 2021 Photo taken on July 1, 2...</td>\n",
       "    </tr>\n",
       "    <tr>\n",
       "      <th>1</th>\n",
       "      <td>[ Children With Autism Saw Their Learning and Social Skills Boosted After Playing With This AI Robot   News Parliament  , Skip to content    Thursday, February 27, 2020  , Latest:,  Mansplaining in conferences: How can we get him to forestall?,  Drax power station to cease burning coal in March 2021,  Coronavirus Could Explode in the U.S. Overnight Like it Did in Italy,  Coronavirus: Dettol sales surge as markets fall again,  Levi Strauss marks the next phase in corporate paid leave policies...</td>\n",
       "    </tr>\n",
       "    <tr>\n",
       "      <th>2</th>\n",
       "      <td>[, Forget ML, AI and Industry 4.0   obsolescence should be your focus   26 February 2021   Test   Rework Solutions   Dataweek Home About us Back issues / E book / PDF EMP Handbook Subscribe Advertise, Categories,   Editor's Choice   Multimedia, Videos   Analogue, Mixed Signal, LSI   Circuit   System Protection   Computer/Embedded Technology   Design Automation   DSP, Micros   Memory   Electronics Technology   Enclosures, Racks, Cabinets   Panel Products   Events   Interconnection   Manufactu...</td>\n",
       "    </tr>\n",
       "  </tbody>\n",
       "</table>\n",
       "</div>"
      ],
      "text/plain": [
       "                                                                                                                                                                                                                                                                                                                                                                                                                                                                                                   text_split_filtered\n",
       "0  [, Artificial intelligence improves parking efficiency in Chinese cities   People's Daily Online, Home China Politics Foreign Affairs Opinions Video: We Are China Business Military World Society Culture Travel Science Sports Photo, Languages, Chinese Japanese French Spanish Russian Arabic Korean German Portuguese Thursday, March 18, 2021 Home     Artificial intelligence improves parking efficiency in Chinese cities By Liu Shiyao  People's Daily  09:16, March 18, 2021 Photo taken on July 1, 2...\n",
       "1  [ Children With Autism Saw Their Learning and Social Skills Boosted After Playing With This AI Robot   News Parliament  , Skip to content    Thursday, February 27, 2020  , Latest:,  Mansplaining in conferences: How can we get him to forestall?,  Drax power station to cease burning coal in March 2021,  Coronavirus Could Explode in the U.S. Overnight Like it Did in Italy,  Coronavirus: Dettol sales surge as markets fall again,  Levi Strauss marks the next phase in corporate paid leave policies...\n",
       "2  [, Forget ML, AI and Industry 4.0   obsolescence should be your focus   26 February 2021   Test   Rework Solutions   Dataweek Home About us Back issues / E book / PDF EMP Handbook Subscribe Advertise, Categories,   Editor's Choice   Multimedia, Videos   Analogue, Mixed Signal, LSI   Circuit   System Protection   Computer/Embedded Technology   Design Automation   DSP, Micros   Memory   Electronics Technology   Enclosures, Racks, Cabinets   Panel Products   Events   Interconnection   Manufactu..."
      ]
     },
     "execution_count": 9,
     "metadata": {},
     "output_type": "execute_result"
    }
   ],
   "source": [
    "df[['text_split_filtered']].head(3)"
   ]
  },
  {
   "cell_type": "code",
   "execution_count": 10,
   "metadata": {},
   "outputs": [
    {
     "data": {
      "application/vnd.jupyter.widget-view+json": {
       "model_id": "4a53dc58382041e7a18edfa2f786e974",
       "version_major": 2,
       "version_minor": 0
      },
      "text/plain": [
       "VBox(children=(HBox(children=(IntProgress(value=0, description='0.00%', max=16695), Label(value='0 / 16695')))…"
      ]
     },
     "metadata": {},
     "output_type": "display_data"
    }
   ],
   "source": [
    "# remove empty element in the list\n",
    "df['text_split_filtered'] = df['text_split_filtered'].parallel_apply(lambda x: [i for i in x if len(i) > 0])"
   ]
  },
  {
   "cell_type": "code",
   "execution_count": 11,
   "metadata": {},
   "outputs": [
    {
     "data": {
      "text/html": [
       "<div>\n",
       "<style scoped>\n",
       "    .dataframe tbody tr th:only-of-type {\n",
       "        vertical-align: middle;\n",
       "    }\n",
       "\n",
       "    .dataframe tbody tr th {\n",
       "        vertical-align: top;\n",
       "    }\n",
       "\n",
       "    .dataframe thead th {\n",
       "        text-align: right;\n",
       "    }\n",
       "</style>\n",
       "<table border=\"1\" class=\"dataframe\">\n",
       "  <thead>\n",
       "    <tr style=\"text-align: right;\">\n",
       "      <th></th>\n",
       "      <th>text_split_filtered</th>\n",
       "    </tr>\n",
       "  </thead>\n",
       "  <tbody>\n",
       "    <tr>\n",
       "      <th>0</th>\n",
       "      <td>[Artificial intelligence improves parking efficiency in Chinese cities   People's Daily Online, Home China Politics Foreign Affairs Opinions Video: We Are China Business Military World Society Culture Travel Science Sports Photo, Languages, Chinese Japanese French Spanish Russian Arabic Korean German Portuguese Thursday, March 18, 2021 Home     Artificial intelligence improves parking efficiency in Chinese cities By Liu Shiyao  People's Daily  09:16, March 18, 2021 Photo taken on July 1, 201...</td>\n",
       "    </tr>\n",
       "    <tr>\n",
       "      <th>1</th>\n",
       "      <td>[ Children With Autism Saw Their Learning and Social Skills Boosted After Playing With This AI Robot   News Parliament  , Skip to content    Thursday, February 27, 2020  , Latest:,  Mansplaining in conferences: How can we get him to forestall?,  Drax power station to cease burning coal in March 2021,  Coronavirus Could Explode in the U.S. Overnight Like it Did in Italy,  Coronavirus: Dettol sales surge as markets fall again,  Levi Strauss marks the next phase in corporate paid leave policies...</td>\n",
       "    </tr>\n",
       "    <tr>\n",
       "      <th>2</th>\n",
       "      <td>[Forget ML, AI and Industry 4.0   obsolescence should be your focus   26 February 2021   Test   Rework Solutions   Dataweek Home About us Back issues / E book / PDF EMP Handbook Subscribe Advertise, Categories,   Editor's Choice   Multimedia, Videos   Analogue, Mixed Signal, LSI   Circuit   System Protection   Computer/Embedded Technology   Design Automation   DSP, Micros   Memory   Electronics Technology   Enclosures, Racks, Cabinets   Panel Products   Events   Interconnection   Manufacturi...</td>\n",
       "    </tr>\n",
       "  </tbody>\n",
       "</table>\n",
       "</div>"
      ],
      "text/plain": [
       "                                                                                                                                                                                                                                                                                                                                                                                                                                                                                                   text_split_filtered\n",
       "0  [Artificial intelligence improves parking efficiency in Chinese cities   People's Daily Online, Home China Politics Foreign Affairs Opinions Video: We Are China Business Military World Society Culture Travel Science Sports Photo, Languages, Chinese Japanese French Spanish Russian Arabic Korean German Portuguese Thursday, March 18, 2021 Home     Artificial intelligence improves parking efficiency in Chinese cities By Liu Shiyao  People's Daily  09:16, March 18, 2021 Photo taken on July 1, 201...\n",
       "1  [ Children With Autism Saw Their Learning and Social Skills Boosted After Playing With This AI Robot   News Parliament  , Skip to content    Thursday, February 27, 2020  , Latest:,  Mansplaining in conferences: How can we get him to forestall?,  Drax power station to cease burning coal in March 2021,  Coronavirus Could Explode in the U.S. Overnight Like it Did in Italy,  Coronavirus: Dettol sales surge as markets fall again,  Levi Strauss marks the next phase in corporate paid leave policies...\n",
       "2  [Forget ML, AI and Industry 4.0   obsolescence should be your focus   26 February 2021   Test   Rework Solutions   Dataweek Home About us Back issues / E book / PDF EMP Handbook Subscribe Advertise, Categories,   Editor's Choice   Multimedia, Videos   Analogue, Mixed Signal, LSI   Circuit   System Protection   Computer/Embedded Technology   Design Automation   DSP, Micros   Memory   Electronics Technology   Enclosures, Racks, Cabinets   Panel Products   Events   Interconnection   Manufacturi..."
      ]
     },
     "execution_count": 11,
     "metadata": {},
     "output_type": "execute_result"
    }
   ],
   "source": [
    "df[['text_split_filtered']].head(3)"
   ]
  },
  {
   "cell_type": "code",
   "execution_count": 12,
   "metadata": {},
   "outputs": [
    {
     "data": {
      "text/plain": [
       "[\"Artificial intelligence improves parking efficiency in Chinese cities   People's Daily Online\",\n",
       " \"Chinese Japanese French Spanish Russian Arabic Korean German Portuguese Thursday, March 18, 2021 Home     Artificial intelligence improves parking efficiency in Chinese cities By Liu Shiyao  People's Daily  09:16, March 18, 2021 Photo taken on July 1, 2019, shows a sign for electronic toll collection  ETC  newly set up at a roadside parking space on Yangzhuang road, Shijingshan district, Beijing. Some urban areas of the city started to use ETC system for roadside parking spaces since July 1, 2019.  People s Daily Online/Li Wenming \",\n",
       " ' Thanks to the application of an artificial intelligence  AI empowered roadside electronic toll collection  ETC  system, China s capital city Beijing has seen significant improvement in the efficiency of parking fee collection, turnover of roadside parking spots, order in roadside parking, as well as traffic congestion.',\n",
       " ' As the city further deepens its roadside parking reform, the ETC system has almost covered all the roadside parking spaces in the city, with the proportion of vehicles parked on roads using the system exceeding 90 percent.',\n",
       " ' With the AI empowered system, drivers can park their vehicles at the parking spots on the roadside, and then pay the parking charge via their mobile phones after they drive away.',\n",
       " '  This road used to be full of cars, and even the normal lanes were occupied. You could hardly move a bit during the morning and  mute time,  recalled a citizen surnamed Wang, who lives in Chaoyang district of Beijing.',\n",
       " '  Since the summer of 2019, roadside ETC devices have been installed here. With all the cars being parked in designated parking spots on the roadside, the road now seems brighter and wider,  Wang said.',\n",
       " ' The smart roadside ETC system  AIpark Sky Eye  adopted by Beijing is developed, operated, and maintained by AIpark, a Beijing based leading smart parking solution provider.',\n",
       " '  pany s intelligent system has brought into full play the advantages of AI technologies and effectively addressed the shortage of parking spaces and the problem of irregular parking in cities. The system has therefore been listed among the country s innovation projects that integrate AI deeply into the real economy in 2018 by China s Ministry of Industry and Information Technology  MIIT .',\n",
       " ' Traditional parking management equipment and monitoring devices have failed to meet the actual needs of cities due to limited application scenarios and technical capacity. There are many deficiencies in traditional parking systems. For example, magnetic devices cannot identify detailed information about vehicles; each video monitoring pile can only cover one parking spot; and manual collection of parking fees costs too much.',\n",
       " ' Such problems don t exist in smart machines. The  AIpark Sky Eye  system boasts strong stability and high recognition rate. Besides, it can resist the interference of extreme weather conditions like rain, snow, and fog, and  plete graphic evidence based on wheel path of vehicles.',\n",
       " ' Each set of cameras of the  AIpark Sky Eye  system can monitor multiple parking spots at the same time for 24 hours a day. The data collected by front end cameras are processed using multi dimensional deep learning algorithm before they are uploaded on to an  puting cloud platform for data enrichment. The platform then distributes identification results to transport authorities.',\n",
       " ' The most distinctive innovation in the technological package of the system is precision brought about by high mounted parking system cameras, according to Xiang Yanping, senior vice president of AIpark, noting that the cameras can recognize  plex static and dynamic reality scenes.',\n",
       " '  For example, the equipment can accurately identify irregular parking behaviors and state such as double parking and frequent maneuvers, precisely recognize detailed information including plate number and vehicle color, and make good judgment on the behaviors of drivers and pedestrians,  Xiang said.',\n",
       " ' Once the high mounted parking system cameras are installed, they can help with many aspects of integrated urban governance, which represents another advantage of the  AIpark Sky Eye  system.',\n",
       " ' Besides managing parking fee collection, high mounted camera system can also provide data for traffic improvements. The snapshots obtained from the camera system can help solve problems including illegal and inappropriate parking and vehicle theft.',\n",
       " \" So far, the smart ETC system of AIpark has been introduced into more than 20 cities in China, signaling increasingly important roles of AI in improving parking efficiency and order as well as new development opportunities for smart parking industry.  1 2 3  Photos Naval fleet steams in East China Sea Newborn golden snub nosed monkey makes debut In pics: birds across China Grain painting studio helps villagers to increase  e Related Stories Exhibition highlighting art science integration opens in BeijingChina s AI industry poised to enter boom timesAlibaba outlines 10 technology trends for 2019China s leading AI enterprise iFlytek to develop health information technologyCheetah Mobile wades into artificial intelligenceChina overtakes the US in investment in AI5 million artificial intelligence talents urgently needed in ChinaGraduate students give 'voice' to sign languageArtificial Intelligence in real livesMicrosoft embraces artificial intelligence About People's Daily Online    Join Us   Contact Us Copyright   2021 People's Daily Online. All Rights Reserved.   \"]"
      ]
     },
     "execution_count": 12,
     "metadata": {},
     "output_type": "execute_result"
    }
   ],
   "source": [
    "# debug\n",
    "test  = df.loc[0, 'text_split_filtered']\n",
    "long_text_trunk_filter(test)"
   ]
  },
  {
   "cell_type": "code",
   "execution_count": 13,
   "metadata": {},
   "outputs": [
    {
     "data": {
      "application/vnd.jupyter.widget-view+json": {
       "model_id": "47449d327e744c5a970a4802e3da0363",
       "version_major": 2,
       "version_minor": 0
      },
      "text/plain": [
       "VBox(children=(HBox(children=(IntProgress(value=0, description='0.00%', max=16695), Label(value='0 / 16695')))…"
      ]
     },
     "metadata": {},
     "output_type": "display_data"
    }
   ],
   "source": [
    "# parallel row apply function to dafaframe\n",
    "#df['text_split_filtered'] = df['text_split_filtered'].parallel_apply(lambda x: long_text_trunk_filter(x) if len(x) > 5 else short_text_trunk_filter(x))\n",
    "\n",
    "#for text with >10 trunks, remove trunks that is less than half of the average length\n",
    "df['text_split_filtered'] = df.parallel_apply(lambda row: long_text_trunk_filter(row['text_split_filtered']) if row['text_split_len']>10 else row['text_split_filtered'], axis=1)"
   ]
  },
  {
   "cell_type": "code",
   "execution_count": 14,
   "metadata": {},
   "outputs": [
    {
     "data": {
      "text/html": [
       "<div>\n",
       "<style scoped>\n",
       "    .dataframe tbody tr th:only-of-type {\n",
       "        vertical-align: middle;\n",
       "    }\n",
       "\n",
       "    .dataframe tbody tr th {\n",
       "        vertical-align: top;\n",
       "    }\n",
       "\n",
       "    .dataframe thead th {\n",
       "        text-align: right;\n",
       "    }\n",
       "</style>\n",
       "<table border=\"1\" class=\"dataframe\">\n",
       "  <thead>\n",
       "    <tr style=\"text-align: right;\">\n",
       "      <th></th>\n",
       "      <th>text_no_url</th>\n",
       "      <th>text_split_filtered</th>\n",
       "    </tr>\n",
       "  </thead>\n",
       "  <tbody>\n",
       "    <tr>\n",
       "      <th>0</th>\n",
       "      <td>\\n\\nArtificial intelligence improves parking efficiency in Chinese cities   People's Daily Online\\n\\nHome\\nChina Politics\\nForeign Affairs\\nOpinions\\nVideo: We Are China\\nBusiness\\nMilitary\\nWorld\\nSociety\\nCulture\\nTravel\\nScience\\nSports\\nPhoto\\n\\nLanguages\\n\\nChinese\\nJapanese\\nFrench\\nSpanish\\nRussian\\nArabic\\nKorean\\nGerman\\nPortuguese\\nThursday, March 18, 2021\\nHome \\n  \\nArtificial intelligence improves parking efficiency in Chinese cities\\nBy Liu Shiyao  People's Daily  09:16, March ...</td>\n",
       "      <td>[Artificial intelligence improves parking efficiency in Chinese cities   People's Daily Online, Chinese Japanese French Spanish Russian Arabic Korean German Portuguese Thursday, March 18, 2021 Home     Artificial intelligence improves parking efficiency in Chinese cities By Liu Shiyao  People's Daily  09:16, March 18, 2021 Photo taken on July 1, 2019, shows a sign for electronic toll collection  ETC  newly set up at a roadside parking space on Yangzhuang road, Shijingshan district, Beijing. ...</td>\n",
       "    </tr>\n",
       "    <tr>\n",
       "      <th>1</th>\n",
       "      <td>\\nChildren With Autism Saw Their Learning and Social Skills Boosted After Playing With This AI Robot   News Parliament\\n \\n\\nSkip to content\\n   Thursday, February 27, 2020  \\n\\nLatest:\\n\\n\\nMansplaining in conferences: How can we get him to forestall?\\n\\n\\nDrax power station to cease burning coal in March 2021\\n\\n\\nCoronavirus Could Explode in the U.S. Overnight Like it Did in Italy\\n\\n\\nCoronavirus: Dettol sales surge as markets fall again\\n\\n\\nLevi Strauss marks the next phase in corporat...</td>\n",
       "      <td>[ Children With Autism Saw Their Learning and Social Skills Boosted After Playing With This AI Robot   News Parliament  ,        Children With Autism Saw Their Learning and Social Skills Boosted After Playing With This AI Robot     ,   Author Recent Posts   admin  Latest posts by admin  see all   Mansplaining in conferences: How can we get him to forestall?   February 27, 2020   Coronavirus Could Explode in the U.S. Overnight Like it Did in Italy   February 27, 2020   Levi Strauss marks the ...</td>\n",
       "    </tr>\n",
       "    <tr>\n",
       "      <th>2</th>\n",
       "      <td>\\n\\nForget ML, AI and Industry 4.0   obsolescence should be your focus   26 February 2021   Test   Rework Solutions   Dataweek\\nHome\\nAbout us\\nBack issues / E book / PDF\\nEMP Handbook\\nSubscribe\\nAdvertise\\n\\nCategories\\n\\n  Editor's Choice\\n  Multimedia, Videos\\n  Analogue, Mixed Signal, LSI\\n  Circuit   System Protection\\n  Computer/Embedded Technology\\n  Design Automation\\n  DSP, Micros   Memory\\n  Electronics Technology\\n  Enclosures, Racks, Cabinets   Panel Products\\n  Events\\n  Interc...</td>\n",
       "      <td>[Forget ML, AI and Industry 4.0   obsolescence should be your focus   26 February 2021   Test   Rework Solutions   Dataweek Home About us Back issues / E book / PDF EMP Handbook Subscribe Advertise,   Editor's Choice   Multimedia, Videos   Analogue, Mixed Signal, LSI   Circuit   System Protection   Computer/Embedded Technology   Design Automation   DSP, Micros   Memory   Electronics Technology   Enclosures, Racks, Cabinets   Panel Products   Events   Interconnection   Manufacturing / Product...</td>\n",
       "    </tr>\n",
       "    <tr>\n",
       "      <th>3</th>\n",
       "      <td>\\n\\nStrategy Analytics: 71  of Smartphones Sold Globally in 2021 will be AI Powered   Consumer Electronics Net\\n \\nSkip to content\\n\\nConsumer Electronics Net\\n\\nPrimary Menu\\n\\nConsumer Electronics Net\\n\\nSearch for:\\n \\nHomeNewsStrategy Analytics: 71  of Smartphones Sold Globally in 2021 will be AI Powered \\n \\n                                 News\\n                             \\n \\nStrategy Analytics: 71  of Smartphones Sold Globally in 2021 will be AI Powered\\n                    7 hours...</td>\n",
       "      <td>[Strategy Analytics: 71  of Smartphones Sold Globally in 2021 will be AI Powered   Consumer Electronics Net   Skip to content, Search for:   HomeNewsStrategy Analytics: 71  of Smartphones Sold Globally in 2021 will be AI Powered                                     News                                 Strategy Analytics: 71  of Smartphones Sold Globally in 2021 will be AI Powered                     7 hours ago              , BOSTON BUSINESS WIRE Strategy Analytics in a newly published report...</td>\n",
       "    </tr>\n",
       "    <tr>\n",
       "      <th>4</th>\n",
       "      <td>\\n\\nOlympus to Support Endoscopic AI Diagnosis Education for Doctors in India and to Launch AI Diagnostic Support Application     IT Business Net\\n \\nSkip to content\\n\\nIT Business Net\\n\\nNews for IT Professionals\\nPrimary Menu\\n\\nIT Business Net\\nAbout IT Business Net\\n\\nSearch for:\\n \\nHome2020OctoberOlympus to Support Endoscopic AI Diagnosis Education for Doctors in India and to Launch AI Diagnostic Support Application \\n \\n                                 News\\n                          ...</td>\n",
       "      <td>[Olympus to Support Endoscopic AI Diagnosis Education for Doctors in India and to Launch AI Diagnostic Support Application     IT Business Net   Skip to content, Search for:   Home2020OctoberOlympus to Support Endoscopic AI Diagnosis Education for Doctors in India and to Launch AI Diagnostic Support Application                                     News                                 Olympus to Support Endoscopic AI Diagnosis Education for Doctors in India and to Launch AI Diagnostic Support ...</td>\n",
       "    </tr>\n",
       "  </tbody>\n",
       "</table>\n",
       "</div>"
      ],
      "text/plain": [
       "                                                                                                                                                                                                                                                                                                                                                                                                                                                                                                           text_no_url   \n",
       "0  \\n\\nArtificial intelligence improves parking efficiency in Chinese cities   People's Daily Online\\n\\nHome\\nChina Politics\\nForeign Affairs\\nOpinions\\nVideo: We Are China\\nBusiness\\nMilitary\\nWorld\\nSociety\\nCulture\\nTravel\\nScience\\nSports\\nPhoto\\n\\nLanguages\\n\\nChinese\\nJapanese\\nFrench\\nSpanish\\nRussian\\nArabic\\nKorean\\nGerman\\nPortuguese\\nThursday, March 18, 2021\\nHome \\n  \\nArtificial intelligence improves parking efficiency in Chinese cities\\nBy Liu Shiyao  People's Daily  09:16, March ...  \\\n",
       "1  \\nChildren With Autism Saw Their Learning and Social Skills Boosted After Playing With This AI Robot   News Parliament\\n \\n\\nSkip to content\\n   Thursday, February 27, 2020  \\n\\nLatest:\\n\\n\\nMansplaining in conferences: How can we get him to forestall?\\n\\n\\nDrax power station to cease burning coal in March 2021\\n\\n\\nCoronavirus Could Explode in the U.S. Overnight Like it Did in Italy\\n\\n\\nCoronavirus: Dettol sales surge as markets fall again\\n\\n\\nLevi Strauss marks the next phase in corporat...   \n",
       "2  \\n\\nForget ML, AI and Industry 4.0   obsolescence should be your focus   26 February 2021   Test   Rework Solutions   Dataweek\\nHome\\nAbout us\\nBack issues / E book / PDF\\nEMP Handbook\\nSubscribe\\nAdvertise\\n\\nCategories\\n\\n  Editor's Choice\\n  Multimedia, Videos\\n  Analogue, Mixed Signal, LSI\\n  Circuit   System Protection\\n  Computer/Embedded Technology\\n  Design Automation\\n  DSP, Micros   Memory\\n  Electronics Technology\\n  Enclosures, Racks, Cabinets   Panel Products\\n  Events\\n  Interc...   \n",
       "3  \\n\\nStrategy Analytics: 71  of Smartphones Sold Globally in 2021 will be AI Powered   Consumer Electronics Net\\n \\nSkip to content\\n\\nConsumer Electronics Net\\n\\nPrimary Menu\\n\\nConsumer Electronics Net\\n\\nSearch for:\\n \\nHomeNewsStrategy Analytics: 71  of Smartphones Sold Globally in 2021 will be AI Powered \\n \\n                                 News\\n                             \\n \\nStrategy Analytics: 71  of Smartphones Sold Globally in 2021 will be AI Powered\\n                    7 hours...   \n",
       "4  \\n\\nOlympus to Support Endoscopic AI Diagnosis Education for Doctors in India and to Launch AI Diagnostic Support Application     IT Business Net\\n \\nSkip to content\\n\\nIT Business Net\\n\\nNews for IT Professionals\\nPrimary Menu\\n\\nIT Business Net\\nAbout IT Business Net\\n\\nSearch for:\\n \\nHome2020OctoberOlympus to Support Endoscopic AI Diagnosis Education for Doctors in India and to Launch AI Diagnostic Support Application \\n \\n                                 News\\n                          ...   \n",
       "\n",
       "                                                                                                                                                                                                                                                                                                                                                                                                                                                                                                   text_split_filtered  \n",
       "0  [Artificial intelligence improves parking efficiency in Chinese cities   People's Daily Online, Chinese Japanese French Spanish Russian Arabic Korean German Portuguese Thursday, March 18, 2021 Home     Artificial intelligence improves parking efficiency in Chinese cities By Liu Shiyao  People's Daily  09:16, March 18, 2021 Photo taken on July 1, 2019, shows a sign for electronic toll collection  ETC  newly set up at a roadside parking space on Yangzhuang road, Shijingshan district, Beijing. ...  \n",
       "1  [ Children With Autism Saw Their Learning and Social Skills Boosted After Playing With This AI Robot   News Parliament  ,        Children With Autism Saw Their Learning and Social Skills Boosted After Playing With This AI Robot     ,   Author Recent Posts   admin  Latest posts by admin  see all   Mansplaining in conferences: How can we get him to forestall?   February 27, 2020   Coronavirus Could Explode in the U.S. Overnight Like it Did in Italy   February 27, 2020   Levi Strauss marks the ...  \n",
       "2  [Forget ML, AI and Industry 4.0   obsolescence should be your focus   26 February 2021   Test   Rework Solutions   Dataweek Home About us Back issues / E book / PDF EMP Handbook Subscribe Advertise,   Editor's Choice   Multimedia, Videos   Analogue, Mixed Signal, LSI   Circuit   System Protection   Computer/Embedded Technology   Design Automation   DSP, Micros   Memory   Electronics Technology   Enclosures, Racks, Cabinets   Panel Products   Events   Interconnection   Manufacturing / Product...  \n",
       "3  [Strategy Analytics: 71  of Smartphones Sold Globally in 2021 will be AI Powered   Consumer Electronics Net   Skip to content, Search for:   HomeNewsStrategy Analytics: 71  of Smartphones Sold Globally in 2021 will be AI Powered                                     News                                 Strategy Analytics: 71  of Smartphones Sold Globally in 2021 will be AI Powered                     7 hours ago              , BOSTON BUSINESS WIRE Strategy Analytics in a newly published report...  \n",
       "4  [Olympus to Support Endoscopic AI Diagnosis Education for Doctors in India and to Launch AI Diagnostic Support Application     IT Business Net   Skip to content, Search for:   Home2020OctoberOlympus to Support Endoscopic AI Diagnosis Education for Doctors in India and to Launch AI Diagnostic Support Application                                     News                                 Olympus to Support Endoscopic AI Diagnosis Education for Doctors in India and to Launch AI Diagnostic Support ...  "
      ]
     },
     "execution_count": 14,
     "metadata": {},
     "output_type": "execute_result"
    }
   ],
   "source": [
    "df[['text_no_url', 'text_split_filtered']].head(5)"
   ]
  },
  {
   "cell_type": "code",
   "execution_count": 15,
   "metadata": {},
   "outputs": [
    {
     "data": {
      "application/vnd.jupyter.widget-view+json": {
       "model_id": "97110c140205472396c44915d9e6eca6",
       "version_major": 2,
       "version_minor": 0
      },
      "text/plain": [
       "VBox(children=(HBox(children=(IntProgress(value=0, description='0.00%', max=16695), Label(value='0 / 16695')))…"
      ]
     },
     "metadata": {},
     "output_type": "display_data"
    }
   ],
   "source": [
    "# join the text trunks back to one string\n",
    "df['text_cleaned'] = df['text_split_filtered'].parallel_apply(lambda x: ' '.join(x))"
   ]
  },
  {
   "attachments": {},
   "cell_type": "markdown",
   "metadata": {},
   "source": [
    "Check cleaning results"
   ]
  },
  {
   "cell_type": "code",
   "execution_count": 17,
   "metadata": {},
   "outputs": [
    {
     "data": {
      "application/vnd.jupyter.widget-view+json": {
       "model_id": "ba8400d1a9b34137a48342dd9ef2abc3",
       "version_major": 2,
       "version_minor": 0
      },
      "text/plain": [
       "VBox(children=(HBox(children=(IntProgress(value=0, description='0.00%', max=16695), Label(value='0 / 16695')))…"
      ]
     },
     "metadata": {},
     "output_type": "display_data"
    }
   ],
   "source": [
    "# inital length is 'text_len_initial'\n",
    "# calculate the new length for 'text_split_filtered'\n",
    "df['text_len_final'] = df['text_cleaned'].parallel_apply(lambda x: sum([len(i) for i in x]))"
   ]
  },
  {
   "cell_type": "code",
   "execution_count": 18,
   "metadata": {},
   "outputs": [
    {
     "data": {
      "text/html": [
       "<div>\n",
       "<style scoped>\n",
       "    .dataframe tbody tr th:only-of-type {\n",
       "        vertical-align: middle;\n",
       "    }\n",
       "\n",
       "    .dataframe tbody tr th {\n",
       "        vertical-align: top;\n",
       "    }\n",
       "\n",
       "    .dataframe thead th {\n",
       "        text-align: right;\n",
       "    }\n",
       "</style>\n",
       "<table border=\"1\" class=\"dataframe\">\n",
       "  <thead>\n",
       "    <tr style=\"text-align: right;\">\n",
       "      <th></th>\n",
       "      <th>text_len_initial</th>\n",
       "      <th>text_len_final</th>\n",
       "    </tr>\n",
       "  </thead>\n",
       "  <tbody>\n",
       "    <tr>\n",
       "      <th>0</th>\n",
       "      <td>5752</td>\n",
       "      <td>5546</td>\n",
       "    </tr>\n",
       "    <tr>\n",
       "      <th>1</th>\n",
       "      <td>10150</td>\n",
       "      <td>8342</td>\n",
       "    </tr>\n",
       "    <tr>\n",
       "      <th>2</th>\n",
       "      <td>13520</td>\n",
       "      <td>12449</td>\n",
       "    </tr>\n",
       "    <tr>\n",
       "      <th>3</th>\n",
       "      <td>9490</td>\n",
       "      <td>8603</td>\n",
       "    </tr>\n",
       "    <tr>\n",
       "      <th>4</th>\n",
       "      <td>16639</td>\n",
       "      <td>13426</td>\n",
       "    </tr>\n",
       "  </tbody>\n",
       "</table>\n",
       "</div>"
      ],
      "text/plain": [
       "   text_len_initial  text_len_final\n",
       "0              5752            5546\n",
       "1             10150            8342\n",
       "2             13520           12449\n",
       "3              9490            8603\n",
       "4             16639           13426"
      ]
     },
     "execution_count": 18,
     "metadata": {},
     "output_type": "execute_result"
    }
   ],
   "source": [
    "df[['text_len_initial', 'text_len_final']].head(5)"
   ]
  },
  {
   "cell_type": "code",
   "execution_count": 19,
   "metadata": {},
   "outputs": [
    {
     "data": {
      "text/html": [
       "<div>\n",
       "<style scoped>\n",
       "    .dataframe tbody tr th:only-of-type {\n",
       "        vertical-align: middle;\n",
       "    }\n",
       "\n",
       "    .dataframe tbody tr th {\n",
       "        vertical-align: top;\n",
       "    }\n",
       "\n",
       "    .dataframe thead th {\n",
       "        text-align: right;\n",
       "    }\n",
       "</style>\n",
       "<table border=\"1\" class=\"dataframe\">\n",
       "  <thead>\n",
       "    <tr style=\"text-align: right;\">\n",
       "      <th></th>\n",
       "      <th>text_len_initial</th>\n",
       "      <th>text_len_final</th>\n",
       "    </tr>\n",
       "  </thead>\n",
       "  <tbody>\n",
       "    <tr>\n",
       "      <th>count</th>\n",
       "      <td>200332.000000</td>\n",
       "      <td>200332.000000</td>\n",
       "    </tr>\n",
       "    <tr>\n",
       "      <th>mean</th>\n",
       "      <td>9037.717873</td>\n",
       "      <td>8067.393437</td>\n",
       "    </tr>\n",
       "    <tr>\n",
       "      <th>std</th>\n",
       "      <td>7140.475426</td>\n",
       "      <td>6199.494217</td>\n",
       "    </tr>\n",
       "    <tr>\n",
       "      <th>min</th>\n",
       "      <td>18.000000</td>\n",
       "      <td>16.000000</td>\n",
       "    </tr>\n",
       "    <tr>\n",
       "      <th>25%</th>\n",
       "      <td>5526.000000</td>\n",
       "      <td>5026.000000</td>\n",
       "    </tr>\n",
       "    <tr>\n",
       "      <th>50%</th>\n",
       "      <td>7571.000000</td>\n",
       "      <td>6809.500000</td>\n",
       "    </tr>\n",
       "    <tr>\n",
       "      <th>75%</th>\n",
       "      <td>10966.000000</td>\n",
       "      <td>9703.000000</td>\n",
       "    </tr>\n",
       "    <tr>\n",
       "      <th>max</th>\n",
       "      <td>580772.000000</td>\n",
       "      <td>367509.000000</td>\n",
       "    </tr>\n",
       "  </tbody>\n",
       "</table>\n",
       "</div>"
      ],
      "text/plain": [
       "       text_len_initial  text_len_final\n",
       "count     200332.000000   200332.000000\n",
       "mean        9037.717873     8067.393437\n",
       "std         7140.475426     6199.494217\n",
       "min           18.000000       16.000000\n",
       "25%         5526.000000     5026.000000\n",
       "50%         7571.000000     6809.500000\n",
       "75%        10966.000000     9703.000000\n",
       "max       580772.000000   367509.000000"
      ]
     },
     "execution_count": 19,
     "metadata": {},
     "output_type": "execute_result"
    }
   ],
   "source": [
    "df[['text_len_initial', 'text_len_final']].describe()"
   ]
  },
  {
   "cell_type": "code",
   "execution_count": 20,
   "metadata": {},
   "outputs": [
    {
     "data": {
      "text/plain": [
       "count    200332.000000\n",
       "mean         10.061080\n",
       "std           6.755879\n",
       "min           0.000000\n",
       "25%           4.432716\n",
       "50%           9.775012\n",
       "75%          14.716259\n",
       "max          83.843962\n",
       "Name: reduced_ratio, dtype: float64"
      ]
     },
     "execution_count": 20,
     "metadata": {},
     "output_type": "execute_result"
    }
   ],
   "source": [
    "# calculate ratio of length reduction\n",
    "df['reduced_ratio'] = (1 - df['text_len_final']/df['text_len_initial'])*100\n",
    "df['reduced_ratio'].describe()"
   ]
  },
  {
   "cell_type": "code",
   "execution_count": 21,
   "metadata": {},
   "outputs": [
    {
     "data": {
      "application/vnd.jupyter.widget-view+json": {
       "model_id": "a9b4054caba143e8b6cbcb888d87fc7a",
       "version_major": 2,
       "version_minor": 0
      },
      "text/plain": [
       "VBox(children=(HBox(children=(IntProgress(value=0, description='0.00%', max=16695), Label(value='0 / 16695')))…"
      ]
     },
     "metadata": {},
     "output_type": "display_data"
    }
   ],
   "source": [
    "# remove concated long words again using tag_word_remover\n",
    "df['text_cleaned'] = df['text_cleaned'].parallel_apply(lambda x: tag_word_remover(x))"
   ]
  },
  {
   "cell_type": "code",
   "execution_count": 25,
   "metadata": {},
   "outputs": [
    {
     "data": {
      "text/html": [
       "<div>\n",
       "<style scoped>\n",
       "    .dataframe tbody tr th:only-of-type {\n",
       "        vertical-align: middle;\n",
       "    }\n",
       "\n",
       "    .dataframe tbody tr th {\n",
       "        vertical-align: top;\n",
       "    }\n",
       "\n",
       "    .dataframe thead th {\n",
       "        text-align: right;\n",
       "    }\n",
       "</style>\n",
       "<table border=\"1\" class=\"dataframe\">\n",
       "  <thead>\n",
       "    <tr style=\"text-align: right;\">\n",
       "      <th></th>\n",
       "      <th>text_no_url</th>\n",
       "      <th>text_cleaned</th>\n",
       "    </tr>\n",
       "  </thead>\n",
       "  <tbody>\n",
       "    <tr>\n",
       "      <th>102264</th>\n",
       "      <td>Shield AI CFO to Participate in Cowen's 44th Annual Aerospace/Defense  amp; Industrials Conference\\n\\nSkip to contentSkyWarn 13 WeatherSportScene 13Community FirstHello WisconsinLook InsideHomepageElection ResultsNewsLatest NewscastsLocalStateMinnesota NewsRegionalNationalCourtCrimeState LegislaturePoliticsEducationHealthCoronavirusCOVID 19 Case CountsElection ResultsNBC NewsSkyWarn 13 WeatherSkyCam NetworkClosingsPrecipitationSnowfallWeather LinksSportScene 13ScoreboardSportScene 13 Spotlig...</td>\n",
       "      <td>Shield AI CFO to Participate in Cowen's 44th Annual Aerospace/Defense  amp; Industrials Conference Skip to contentSkyWarn 13 WeatherSportScene 13Community FirstHello WisconsinLook  ResultsNewsLatest    19 Case CountsElection ResultsNBC NewsSkyWarn 13 WeatherSkyCam  LinksSportScene  13 SpotlightNBC SportsCommunity FirstSunshine AwardCommunity  13 SpotlightHello WisconsinMorning ConnectionLook InsideTell us where we should look inside here!Vaccine TeamWagner TailsBuddy Check 13Submit Photos an...</td>\n",
       "    </tr>\n",
       "    <tr>\n",
       "      <th>175649</th>\n",
       "      <td>Is ChatGPT HIPAA Compliant, and What Does it Mean for the Future of Healthcare?\\n\\nSkip to contentNewsWeatherSportsSubmit Hometown Heroes PhotosMidday News InterviewsDownload Our AppsLive NewscastsNewsCrimeEducationHealthInternationalLocalMilitary MattersNationalNews VideosRegionalStateWTOK News 11 Special ReportsLive NewscastsWeatherHurricaneEast Mississippi Electric Power RadarClosings   DelaysWednesday Weather WhysWeather LinksWeather VideosSportsWendy's Giant of the WeekAll Scholastic Te...</td>\n",
       "      <td>Is ChatGPT HIPAA Compliant, and What Does it Mean for the Future of Healthcare? Skip to  Hometown Heroes PhotosMidday News  Our AppsLive    News 11 Special ReportsLive  Mississippi Electric Power RadarClosings   DelaysWednesday Weather WhysWeather LinksWeather VideosSportsWendy's Giant of the WeekAll Scholastic TeamNationalTeam Of The  FridaySports VideosCamera NetworkGreat Health DivideSalute to ExcellenceContact UsMeet the  CareersAdvertise with UsSubmit a StoryHow to Buy a Copy of a  Resu...</td>\n",
       "    </tr>\n",
       "    <tr>\n",
       "      <th>195977</th>\n",
       "      <td>\\n\\nPredictive Analytics And Machine Learning Market: Growth, Trends, Current Scenario, User Demand, Growth Analysis, Benefits and Regional Overview 2021 2027   Atlantic Financial Management\\n\\nSkip to content\\nSat. Feb 13th, 2021                         \\n Atlantic Financial Management\\n\\n  \\n \\n \\nEnergy\\nPressroom\\nSpace\\nAll News\\nContact\\n \\n  \\n \\n \\n\\n \\n  \\n                                 All News \\n                              \\n  \\n                  Predictive Analytics And Machi...</td>\n",
       "      <td>Predictive Analytics And Machine Learning Market: Growth, Trends, Current Scenario, User Demand, Growth Analysis, Benefits and Regional Overview 2021 2027   Atlantic Financial Management                                       All News                                                      Predictive Analytics And Machine Learning Market: Growth, Trends, Current Scenario, User Demand, Growth Analysis, Benefits and Regional Overview 2021 2027 Byhitesh                          Feb 13, 2021 LOS ANG...</td>\n",
       "    </tr>\n",
       "    <tr>\n",
       "      <th>81009</th>\n",
       "      <td>Is ChatGPT HIPAA Compliant, and What Does it Mean for the Future of Healthcare?\\n\\nSkip to contentAvera Medical MinuteLocal GuideSomeone You Should KnowTouchstone Energy Scholar of the WeekHomeWeatherSportsSubmit ItLivestreamLatest newscastsDelays and CancellationsHomeNewsAgricultureCrimeEconomyEducationEntertainmentInternationalNationalMaking A DifferenceRegionalScienceStateTechnologyLivestreamWeatherInteractive RadarSioux FallsNortheast SDCentral SDDelays and CancellationsSkycam NetworkMap...</td>\n",
       "      <td>Is ChatGPT HIPAA Compliant, and What Does it Mean for the Future of Healthcare? Skip to contentAvera Medical MinuteLocal GuideSomeone You Should KnowTouchstone Energy Scholar of the   newscastsDelays and  A  RadarSioux FallsNortheast SDCentral SDDelays and  NetworkMap RoomRoad  Of The WeekPlay of the WeekPigskin  ResultsNational Election MapsSouth Dakota Election MapsIowa Election MapsMinnesota Election MapsMorningMr. FoodOwning Your  of the WeekAvera Medical MinuteContact UsMeet the TeamCar...</td>\n",
       "    </tr>\n",
       "    <tr>\n",
       "      <th>164034</th>\n",
       "      <td>\\nSix key considerations for ethical AI in financial services   Biometric Update\\nAbout Us\\nSubscribe\\n \\n\\nrss\\n \\nlinkedin\\n \\ntwitter\\n \\nfacebook\\n \\nspotify\\n \\n\\n\\nSearch for:\\n\\n\\nAll Content\\nCompanies\\n\\n\\nSearch\\nBiometrics News\\n\\nAll Biometrics News\\nAccess Control\\nBehavioral Biometrics\\nBiometric R D\\nBorder and Port Security\\nCivil / National ID\\nCommercial Applications\\nConsumer Electronics\\nDeveloping Nations\\nElections\\nFacial Recognition\\nFinancial Services\\nFingerprint Re...</td>\n",
       "      <td>Six key considerations for ethical AI in financial services   Biometric Update About Us Subscribe   All Biometrics News Access Control Behavioral Biometrics Biometric R D Border and Port Security Civil / National ID Commercial Applications Consumer Electronics Developing Nations Elections Facial Recognition Financial Services Fingerprint Recognition Government Services Healthcare Biometrics Industry Insights Interviews Iris / Eye Recognition Law Enforcement Liveness Detection Market Researc...</td>\n",
       "    </tr>\n",
       "  </tbody>\n",
       "</table>\n",
       "</div>"
      ],
      "text/plain": [
       "                                                                                                                                                                                                                                                                                                                                                                                                                                                                                                                text_no_url   \n",
       "102264  Shield AI CFO to Participate in Cowen's 44th Annual Aerospace/Defense  amp; Industrials Conference\\n\\nSkip to contentSkyWarn 13 WeatherSportScene 13Community FirstHello WisconsinLook InsideHomepageElection ResultsNewsLatest NewscastsLocalStateMinnesota NewsRegionalNationalCourtCrimeState LegislaturePoliticsEducationHealthCoronavirusCOVID 19 Case CountsElection ResultsNBC NewsSkyWarn 13 WeatherSkyCam NetworkClosingsPrecipitationSnowfallWeather LinksSportScene 13ScoreboardSportScene 13 Spotlig...  \\\n",
       "175649  Is ChatGPT HIPAA Compliant, and What Does it Mean for the Future of Healthcare?\\n\\nSkip to contentNewsWeatherSportsSubmit Hometown Heroes PhotosMidday News InterviewsDownload Our AppsLive NewscastsNewsCrimeEducationHealthInternationalLocalMilitary MattersNationalNews VideosRegionalStateWTOK News 11 Special ReportsLive NewscastsWeatherHurricaneEast Mississippi Electric Power RadarClosings   DelaysWednesday Weather WhysWeather LinksWeather VideosSportsWendy's Giant of the WeekAll Scholastic Te...   \n",
       "195977  \\n\\nPredictive Analytics And Machine Learning Market: Growth, Trends, Current Scenario, User Demand, Growth Analysis, Benefits and Regional Overview 2021 2027   Atlantic Financial Management\\n\\nSkip to content\\nSat. Feb 13th, 2021                         \\n Atlantic Financial Management\\n\\n  \\n \\n \\nEnergy\\nPressroom\\nSpace\\nAll News\\nContact\\n \\n  \\n \\n \\n\\n \\n  \\n                                 All News \\n                              \\n  \\n                  Predictive Analytics And Machi...   \n",
       "81009   Is ChatGPT HIPAA Compliant, and What Does it Mean for the Future of Healthcare?\\n\\nSkip to contentAvera Medical MinuteLocal GuideSomeone You Should KnowTouchstone Energy Scholar of the WeekHomeWeatherSportsSubmit ItLivestreamLatest newscastsDelays and CancellationsHomeNewsAgricultureCrimeEconomyEducationEntertainmentInternationalNationalMaking A DifferenceRegionalScienceStateTechnologyLivestreamWeatherInteractive RadarSioux FallsNortheast SDCentral SDDelays and CancellationsSkycam NetworkMap...   \n",
       "164034  \\nSix key considerations for ethical AI in financial services   Biometric Update\\nAbout Us\\nSubscribe\\n \\n\\nrss\\n \\nlinkedin\\n \\ntwitter\\n \\nfacebook\\n \\nspotify\\n \\n\\n\\nSearch for:\\n\\n\\nAll Content\\nCompanies\\n\\n\\nSearch\\nBiometrics News\\n\\nAll Biometrics News\\nAccess Control\\nBehavioral Biometrics\\nBiometric R D\\nBorder and Port Security\\nCivil / National ID\\nCommercial Applications\\nConsumer Electronics\\nDeveloping Nations\\nElections\\nFacial Recognition\\nFinancial Services\\nFingerprint Re...   \n",
       "\n",
       "                                                                                                                                                                                                                                                                                                                                                                                                                                                                                                               text_cleaned  \n",
       "102264  Shield AI CFO to Participate in Cowen's 44th Annual Aerospace/Defense  amp; Industrials Conference Skip to contentSkyWarn 13 WeatherSportScene 13Community FirstHello WisconsinLook  ResultsNewsLatest    19 Case CountsElection ResultsNBC NewsSkyWarn 13 WeatherSkyCam  LinksSportScene  13 SpotlightNBC SportsCommunity FirstSunshine AwardCommunity  13 SpotlightHello WisconsinMorning ConnectionLook InsideTell us where we should look inside here!Vaccine TeamWagner TailsBuddy Check 13Submit Photos an...  \n",
       "175649  Is ChatGPT HIPAA Compliant, and What Does it Mean for the Future of Healthcare? Skip to  Hometown Heroes PhotosMidday News  Our AppsLive    News 11 Special ReportsLive  Mississippi Electric Power RadarClosings   DelaysWednesday Weather WhysWeather LinksWeather VideosSportsWendy's Giant of the WeekAll Scholastic TeamNationalTeam Of The  FridaySports VideosCamera NetworkGreat Health DivideSalute to ExcellenceContact UsMeet the  CareersAdvertise with UsSubmit a StoryHow to Buy a Copy of a  Resu...  \n",
       "195977  Predictive Analytics And Machine Learning Market: Growth, Trends, Current Scenario, User Demand, Growth Analysis, Benefits and Regional Overview 2021 2027   Atlantic Financial Management                                       All News                                                      Predictive Analytics And Machine Learning Market: Growth, Trends, Current Scenario, User Demand, Growth Analysis, Benefits and Regional Overview 2021 2027 Byhitesh                          Feb 13, 2021 LOS ANG...  \n",
       "81009   Is ChatGPT HIPAA Compliant, and What Does it Mean for the Future of Healthcare? Skip to contentAvera Medical MinuteLocal GuideSomeone You Should KnowTouchstone Energy Scholar of the   newscastsDelays and  A  RadarSioux FallsNortheast SDCentral SDDelays and  NetworkMap RoomRoad  Of The WeekPlay of the WeekPigskin  ResultsNational Election MapsSouth Dakota Election MapsIowa Election MapsMinnesota Election MapsMorningMr. FoodOwning Your  of the WeekAvera Medical MinuteContact UsMeet the TeamCar...  \n",
       "164034   Six key considerations for ethical AI in financial services   Biometric Update About Us Subscribe   All Biometrics News Access Control Behavioral Biometrics Biometric R D Border and Port Security Civil / National ID Commercial Applications Consumer Electronics Developing Nations Elections Facial Recognition Financial Services Fingerprint Recognition Government Services Healthcare Biometrics Industry Insights Interviews Iris / Eye Recognition Law Enforcement Liveness Detection Market Researc...  "
      ]
     },
     "execution_count": 25,
     "metadata": {},
     "output_type": "execute_result"
    }
   ],
   "source": [
    "# mannual check\n",
    "#df[['text_no_url','text_split_filtered', 'text_cleaned']].sample(5)\n",
    "df[['text_no_url', 'text_cleaned']].sample(5)"
   ]
  },
  {
   "attachments": {},
   "cell_type": "markdown",
   "metadata": {},
   "source": [
    "We might still see words like 'NormalWeatherSign', but the text is so much cleaner than before. It helps the following process to run more efficiently."
   ]
  },
  {
   "cell_type": "code",
   "execution_count": 24,
   "metadata": {},
   "outputs": [
    {
     "data": {
      "text/plain": [
       "17"
      ]
     },
     "execution_count": 24,
     "metadata": {},
     "output_type": "execute_result"
    }
   ],
   "source": [
    "len('NormalWeatherSign') # this because I set the threshold for long words to be > 18; but it is sufficient to keep words as such from affecting the models further"
   ]
  },
  {
   "cell_type": "code",
   "execution_count": 16,
   "metadata": {},
   "outputs": [
    {
     "name": "stdout",
     "output_type": "stream",
     "text": [
      "<class 'pandas.core.frame.DataFrame'>\n",
      "RangeIndex: 200332 entries, 0 to 200331\n",
      "Data columns (total 12 columns):\n",
      " #   Column               Non-Null Count   Dtype \n",
      "---  ------               --------------   ----- \n",
      " 0   url                  200332 non-null  object\n",
      " 1   date                 200332 non-null  object\n",
      " 2   language             200332 non-null  object\n",
      " 3   title                200332 non-null  object\n",
      " 4   text                 200332 non-null  object\n",
      " 5   text_no_url          200332 non-null  object\n",
      " 6   text_len_initial     200332 non-null  int64 \n",
      " 7   spilit_check         200332 non-null  bool  \n",
      " 8   text_split           200332 non-null  object\n",
      " 9   text_split_len       200332 non-null  int64 \n",
      " 10  text_split_filtered  200332 non-null  object\n",
      " 11  text_cleaned         200332 non-null  object\n",
      "dtypes: bool(1), int64(2), object(9)\n",
      "memory usage: 17.0+ MB\n"
     ]
    }
   ],
   "source": [
    "df.info()"
   ]
  },
  {
   "cell_type": "code",
   "execution_count": 26,
   "metadata": {},
   "outputs": [],
   "source": [
    "df_save = df[['url', 'date', 'language', 'title', 'text_no_url', 'text_cleaned']]"
   ]
  },
  {
   "cell_type": "code",
   "execution_count": 27,
   "metadata": {},
   "outputs": [],
   "source": [
    "# save a copy at bucket\n",
    "bucket_write = path_bucket + '/' + 'checkpoint_0523_cleaned_data.parquet'\n",
    "df_save.to_parquet(bucket_write, index=False)"
   ]
  },
  {
   "cell_type": "code",
   "execution_count": 29,
   "metadata": {},
   "outputs": [
    {
     "data": {
      "text/plain": [
       "'gs://msca-sp23-bucket/nlp_data/checkpoint_0523_cleaned_data.parquet'"
      ]
     },
     "execution_count": 29,
     "metadata": {},
     "output_type": "execute_result"
    }
   ],
   "source": [
    "bucket_write"
   ]
  },
  {
   "cell_type": "code",
   "execution_count": null,
   "metadata": {},
   "outputs": [],
   "source": []
  }
 ],
 "metadata": {
  "colab": {
   "provenance": []
  },
  "environment": {
   "kernel": "python39",
   "name": "pytorch-gpu.1-13.m108",
   "type": "gcloud",
   "uri": "gcr.io/deeplearning-platform-release/pytorch-gpu.1-13:m108"
  },
  "kernelspec": {
   "display_name": "Python 3 (ipykernel)",
   "language": "python",
   "name": "python3"
  },
  "language_info": {
   "codemirror_mode": {
    "name": "ipython",
    "version": 3
   },
   "file_extension": ".py",
   "mimetype": "text/x-python",
   "name": "python",
   "nbconvert_exporter": "python",
   "pygments_lexer": "ipython3",
   "version": "3.10.0"
  }
 },
 "nbformat": 4,
 "nbformat_minor": 4
}
