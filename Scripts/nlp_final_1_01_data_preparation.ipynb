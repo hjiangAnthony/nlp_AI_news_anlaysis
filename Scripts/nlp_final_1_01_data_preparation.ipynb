{
 "cells": [
  {
   "cell_type": "markdown",
   "metadata": {
    "id": "zL394YhPLmA-"
   },
   "source": [
    "## NLP Class Final Project Read Data"
   ]
  },
  {
   "cell_type": "markdown",
   "metadata": {},
   "source": [
    "# NLP Final Project 1.01: Data Preparation\n",
    "\n",
    "This notebook serves to:\n",
    "- download raw data\n",
    "- pre-clean raw text"
   ]
  },
  {
   "cell_type": "markdown",
   "metadata": {},
   "source": [
    "## Set-up"
   ]
  },
  {
   "cell_type": "code",
   "execution_count": 1,
   "metadata": {
    "id": "xs3PFdExLmBB",
    "tags": []
   },
   "outputs": [],
   "source": [
    "import pandas as pd\n",
    "pd.set_option('display.max_rows', 100)\n",
    "pd.set_option('display.max_columns', None)\n",
    "pd.set_option('display.max_colwidth', 500)\n",
    "\n",
    "import warnings\n",
    "warnings.filterwarnings(\"ignore\")"
   ]
  },
  {
   "cell_type": "code",
   "execution_count": 4,
   "metadata": {
    "id": "zHjlhULQWEnx",
    "tags": []
   },
   "outputs": [
    {
     "name": "stdout",
     "output_type": "stream",
     "text": [
      "INFO: Pandarallel will run on 8 workers.\n",
      "INFO: Pandarallel will use Memory file system to transfer data between the main process and workers.\n"
     ]
    }
   ],
   "source": [
    "from pprint import pprint\n",
    "import re\n",
    "from tqdm import tqdm\n",
    "tqdm.pandas()\n",
    "import numpy as np\n",
    "\n",
    "from pandarallel import pandarallel\n",
    "pandarallel.initialize(progress_bar=True)"
   ]
  },
  {
   "cell_type": "code",
   "execution_count": 8,
   "metadata": {
    "colab": {
     "base_uri": "https://localhost:8080/"
    },
    "id": "HL8ZntFWN9QS",
    "outputId": "ce571519-c983-405a-82dc-c412f0f88d85",
    "tags": []
   },
   "outputs": [
    {
     "name": "stdout",
     "output_type": "stream",
     "text": [
      "/home/jupyter/nlp_AI_news_anlaysis/data\n"
     ]
    }
   ],
   "source": [
    "#!pwd\n",
    "import os\n",
    "\n",
    "# Google Bucket\n",
    "path = 'msca-sp23-bucket/ml_data'\n",
    "file = 'BMI-20230313T174553Z-001.zip'\n",
    "\n",
    "os.chdir(runtime_path)\n",
    "print(os.getcwd())"
   ]
  },
  {
   "cell_type": "markdown",
   "metadata": {},
   "source": [
    "## Read data"
   ]
  },
  {
   "cell_type": "code",
   "execution_count": 4,
   "metadata": {
    "id": "4CljCmgRO3Nj"
   },
   "outputs": [],
   "source": [
    "#df = pd.read_parquet('news_final_project.parquet', engine='pyarrow')"
   ]
  },
  {
   "cell_type": "code",
   "execution_count": 5,
   "metadata": {
    "colab": {
     "base_uri": "https://localhost:8080/",
     "height": 1000
    },
    "id": "JIaEHP36PVBT",
    "outputId": "a1a80c4a-01e8-43e5-c3ee-a519d4ef23cf"
   },
   "outputs": [
    {
     "data": {
      "text/html": [
       "<div>\n",
       "<style scoped>\n",
       "    .dataframe tbody tr th:only-of-type {\n",
       "        vertical-align: middle;\n",
       "    }\n",
       "\n",
       "    .dataframe tbody tr th {\n",
       "        vertical-align: top;\n",
       "    }\n",
       "\n",
       "    .dataframe thead th {\n",
       "        text-align: right;\n",
       "    }\n",
       "</style>\n",
       "<table border=\"1\" class=\"dataframe\">\n",
       "  <thead>\n",
       "    <tr style=\"text-align: right;\">\n",
       "      <th></th>\n",
       "      <th>url</th>\n",
       "      <th>date</th>\n",
       "      <th>language</th>\n",
       "      <th>title</th>\n",
       "      <th>text</th>\n",
       "    </tr>\n",
       "  </thead>\n",
       "  <tbody>\n",
       "    <tr>\n",
       "      <th>0</th>\n",
       "      <td>http://en.people.cn/n3/2021/0318/c90000-9830122.html</td>\n",
       "      <td>2021-03-18</td>\n",
       "      <td>en</td>\n",
       "      <td>Artificial intelligence improves parking efficiency in Chinese cities - People's Daily Online</td>\n",
       "      <td>\\n\\nArtificial intelligence improves parking efficiency in Chinese cities - People's Daily Online\\n\\nHome\\nChina Politics\\nForeign Affairs\\nOpinions\\nVideo: We Are China\\nBusiness\\nMilitary\\nWorld\\nSociety\\nCulture\\nTravel\\nScience\\nSports\\nPhoto\\n\\nLanguages\\n\\nChinese\\nJapanese\\nFrench\\nSpanish\\nRussian\\nArabic\\nKorean\\nGerman\\nPortuguese\\nThursday, March 18, 2021\\nHome&gt;&gt;\\n\\t\\t\\nArtificial intelligence improves parking efficiency in Chinese cities\\nBy Liu Shiyao (People's Daily) 09:16, Mar...</td>\n",
       "    </tr>\n",
       "    <tr>\n",
       "      <th>1</th>\n",
       "      <td>http://newsparliament.com/2020/02/27/children-with-autism-saw-their-learning-and-social-skills-boosted-after-playing-with-this-ai-robot/</td>\n",
       "      <td>2020-02-27</td>\n",
       "      <td>en</td>\n",
       "      <td>Children With Autism Saw Their Learning and Social Skills Boosted After Playing With This AI Robot – News Parliament</td>\n",
       "      <td>\\nChildren With Autism Saw Their Learning and Social Skills Boosted After Playing With This AI Robot – News Parliament\\n \\n\\nSkip to content\\n\\t\\t\\tThursday, February 27, 2020\\t\\t\\n\\nLatest:\\n\\n\\nMansplaining in conferences: How can we get him to forestall?\\n\\n\\nDrax power station to cease burning coal in March 2021\\n\\n\\nCoronavirus Could Explode in the U.S. Overnight Like it Did in Italy\\n\\n\\nCoronavirus: Dettol sales surge as markets fall again\\n\\n\\nLevi Strauss marks the next phase in cor...</td>\n",
       "    </tr>\n",
       "    <tr>\n",
       "      <th>2</th>\n",
       "      <td>http://www.dataweek.co.za/12835r</td>\n",
       "      <td>2021-03-26</td>\n",
       "      <td>en</td>\n",
       "      <td>Forget ML, AI and Industry 4.0 – obsolescence should be your focus - 26 February 2021 - Test &amp; Rework Solutions - Dataweek</td>\n",
       "      <td>\\n\\nForget ML, AI and Industry 4.0 – obsolescence should be your focus - 26 February 2021 - Test &amp; Rework Solutions - Dataweek\\nHome\\nAbout us\\nBack issues / E-book / PDF\\nEMP Handbook\\nSubscribe\\nAdvertise\\n\\nCategories\\n\\n▸ Editor's Choice\\n▸ Multimedia, Videos\\n▸ Analogue, Mixed Signal, LSI\\n▸ Circuit &amp; System Protection\\n▸ Computer/Embedded Technology\\n▸ Design Automation\\n▸ DSP, Micros &amp; Memory\\n▸ Electronics Technology\\n▸ Enclosures, Racks, Cabinets &amp; Panel Products\\n▸ Events\\n▸ Interc...</td>\n",
       "    </tr>\n",
       "    <tr>\n",
       "      <th>3</th>\n",
       "      <td>http://www.homeoffice.consumerelectronicsnet.com/strategy-analytics-71-of-smartphones-sold-globally-in-2021-will-be-ai-powered/</td>\n",
       "      <td>2021-03-10</td>\n",
       "      <td>en</td>\n",
       "      <td>Strategy Analytics: 71% of Smartphones Sold Globally in 2021 will be AI Powered – Consumer Electronics Net</td>\n",
       "      <td>\\n\\nStrategy Analytics: 71% of Smartphones Sold Globally in 2021 will be AI Powered – Consumer Electronics Net\\n \\nSkip to content\\n\\nConsumer Electronics Net\\n\\nPrimary Menu\\n\\nConsumer Electronics Net\\n\\nSearch for:\\n \\nHomeNewsStrategy Analytics: 71% of Smartphones Sold Globally in 2021 will be AI Powered \\n \\n                                 News\\n                             \\n \\nStrategy Analytics: 71% of Smartphones Sold Globally in 2021 will be AI Powered\\n                    7 hours...</td>\n",
       "    </tr>\n",
       "    <tr>\n",
       "      <th>4</th>\n",
       "      <td>http://www.itbusinessnet.com/2020/10/olympus-to-support-endoscopic-ai-diagnosis-education-for-doctors-in-india-and-to-launch-ai-diagnostic-support-application/?utm_source=rss&amp;utm_medium=rss&amp;utm_campaign=olympus-to-support-endoscopic-ai-diagnosis-education-for-doctors-in-india-and-to-launch-ai-diagnostic-support-application</td>\n",
       "      <td>2020-10-20</td>\n",
       "      <td>en</td>\n",
       "      <td>Olympus to Support Endoscopic AI Diagnosis Education for Doctors in India and to Launch AI Diagnostic Support Application | | IT Business Net</td>\n",
       "      <td>\\n\\nOlympus to Support Endoscopic AI Diagnosis Education for Doctors in India and to Launch AI Diagnostic Support Application | | IT Business Net\\n \\nSkip to content\\n\\nIT Business Net\\n\\nNews for IT Professionals\\nPrimary Menu\\n\\nIT Business Net\\nAbout IT Business Net\\n\\nSearch for:\\n \\nHome2020OctoberOlympus to Support Endoscopic AI Diagnosis Education for Doctors in India and to Launch AI Diagnostic Support Application \\n \\n                                 News\\n                          ...</td>\n",
       "    </tr>\n",
       "  </tbody>\n",
       "</table>\n",
       "</div>"
      ],
      "text/plain": [
       "                                                                                                                                                                                                                                                                                                                                    url  \\\n",
       "0                                                                                                                                                                                                                                                                                  http://en.people.cn/n3/2021/0318/c90000-9830122.html   \n",
       "1                                                                                                                                                                                              http://newsparliament.com/2020/02/27/children-with-autism-saw-their-learning-and-social-skills-boosted-after-playing-with-this-ai-robot/   \n",
       "2                                                                                                                                                                                                                                                                                                      http://www.dataweek.co.za/12835r   \n",
       "3                                                                                                                                                                                                       http://www.homeoffice.consumerelectronicsnet.com/strategy-analytics-71-of-smartphones-sold-globally-in-2021-will-be-ai-powered/   \n",
       "4  http://www.itbusinessnet.com/2020/10/olympus-to-support-endoscopic-ai-diagnosis-education-for-doctors-in-india-and-to-launch-ai-diagnostic-support-application/?utm_source=rss&utm_medium=rss&utm_campaign=olympus-to-support-endoscopic-ai-diagnosis-education-for-doctors-in-india-and-to-launch-ai-diagnostic-support-application   \n",
       "\n",
       "         date language  \\\n",
       "0  2021-03-18       en   \n",
       "1  2020-02-27       en   \n",
       "2  2021-03-26       en   \n",
       "3  2021-03-10       en   \n",
       "4  2020-10-20       en   \n",
       "\n",
       "                                                                                                                                           title  \\\n",
       "0                                                  Artificial intelligence improves parking efficiency in Chinese cities - People's Daily Online   \n",
       "1                           Children With Autism Saw Their Learning and Social Skills Boosted After Playing With This AI Robot – News Parliament   \n",
       "2                     Forget ML, AI and Industry 4.0 – obsolescence should be your focus - 26 February 2021 - Test & Rework Solutions - Dataweek   \n",
       "3                                     Strategy Analytics: 71% of Smartphones Sold Globally in 2021 will be AI Powered – Consumer Electronics Net   \n",
       "4  Olympus to Support Endoscopic AI Diagnosis Education for Doctors in India and to Launch AI Diagnostic Support Application | | IT Business Net   \n",
       "\n",
       "                                                                                                                                                                                                                                                                                                                                                                                                                                                                                                                  text  \n",
       "0  \\n\\nArtificial intelligence improves parking efficiency in Chinese cities - People's Daily Online\\n\\nHome\\nChina Politics\\nForeign Affairs\\nOpinions\\nVideo: We Are China\\nBusiness\\nMilitary\\nWorld\\nSociety\\nCulture\\nTravel\\nScience\\nSports\\nPhoto\\n\\nLanguages\\n\\nChinese\\nJapanese\\nFrench\\nSpanish\\nRussian\\nArabic\\nKorean\\nGerman\\nPortuguese\\nThursday, March 18, 2021\\nHome>>\\n\\t\\t\\nArtificial intelligence improves parking efficiency in Chinese cities\\nBy Liu Shiyao (People's Daily) 09:16, Mar...  \n",
       "1  \\nChildren With Autism Saw Their Learning and Social Skills Boosted After Playing With This AI Robot – News Parliament\\n \\n\\nSkip to content\\n\\t\\t\\tThursday, February 27, 2020\\t\\t\\n\\nLatest:\\n\\n\\nMansplaining in conferences: How can we get him to forestall?\\n\\n\\nDrax power station to cease burning coal in March 2021\\n\\n\\nCoronavirus Could Explode in the U.S. Overnight Like it Did in Italy\\n\\n\\nCoronavirus: Dettol sales surge as markets fall again\\n\\n\\nLevi Strauss marks the next phase in cor...  \n",
       "2  \\n\\nForget ML, AI and Industry 4.0 – obsolescence should be your focus - 26 February 2021 - Test & Rework Solutions - Dataweek\\nHome\\nAbout us\\nBack issues / E-book / PDF\\nEMP Handbook\\nSubscribe\\nAdvertise\\n\\nCategories\\n\\n▸ Editor's Choice\\n▸ Multimedia, Videos\\n▸ Analogue, Mixed Signal, LSI\\n▸ Circuit & System Protection\\n▸ Computer/Embedded Technology\\n▸ Design Automation\\n▸ DSP, Micros & Memory\\n▸ Electronics Technology\\n▸ Enclosures, Racks, Cabinets & Panel Products\\n▸ Events\\n▸ Interc...  \n",
       "3  \\n\\nStrategy Analytics: 71% of Smartphones Sold Globally in 2021 will be AI Powered – Consumer Electronics Net\\n \\nSkip to content\\n\\nConsumer Electronics Net\\n\\nPrimary Menu\\n\\nConsumer Electronics Net\\n\\nSearch for:\\n \\nHomeNewsStrategy Analytics: 71% of Smartphones Sold Globally in 2021 will be AI Powered \\n \\n                                 News\\n                             \\n \\nStrategy Analytics: 71% of Smartphones Sold Globally in 2021 will be AI Powered\\n                    7 hours...  \n",
       "4  \\n\\nOlympus to Support Endoscopic AI Diagnosis Education for Doctors in India and to Launch AI Diagnostic Support Application | | IT Business Net\\n \\nSkip to content\\n\\nIT Business Net\\n\\nNews for IT Professionals\\nPrimary Menu\\n\\nIT Business Net\\nAbout IT Business Net\\n\\nSearch for:\\n \\nHome2020OctoberOlympus to Support Endoscopic AI Diagnosis Education for Doctors in India and to Launch AI Diagnostic Support Application \\n \\n                                 News\\n                          ...  "
      ]
     },
     "execution_count": 5,
     "metadata": {},
     "output_type": "execute_result"
    }
   ],
   "source": [
    "#df = df_news_final_project.copy()\n",
    "#df = df.sample(20000, random_state=42)\n",
    "df.head(5)"
   ]
  },
  {
   "cell_type": "code",
   "execution_count": 6,
   "metadata": {
    "colab": {
     "base_uri": "https://localhost:8080/"
    },
    "id": "CN2QOogkVpqN",
    "outputId": "46cf814f-7655-481c-c8e0-3d1f4b0ff917"
   },
   "outputs": [
    {
     "name": "stdout",
     "output_type": "stream",
     "text": [
      "<class 'pandas.core.frame.DataFrame'>\n",
      "RangeIndex: 200332 entries, 0 to 200331\n",
      "Data columns (total 5 columns):\n",
      " #   Column    Non-Null Count   Dtype \n",
      "---  ------    --------------   ----- \n",
      " 0   url       200332 non-null  object\n",
      " 1   date      200332 non-null  object\n",
      " 2   language  200332 non-null  object\n",
      " 3   title     200332 non-null  object\n",
      " 4   text      200332 non-null  object\n",
      "dtypes: object(5)\n",
      "memory usage: 7.6+ MB\n"
     ]
    }
   ],
   "source": [
    "df.info()"
   ]
  },
  {
   "cell_type": "code",
   "execution_count": 7,
   "metadata": {
    "colab": {
     "base_uri": "https://localhost:8080/",
     "height": 554
    },
    "id": "VRG6y98MV3kv",
    "outputId": "a7becd52-dca2-49b2-9ae3-467571ca2cf1"
   },
   "outputs": [
    {
     "name": "stdout",
     "output_type": "stream",
     "text": [
      "Series([], dtype: float64)\n"
     ]
    },
    {
     "data": {
      "text/plain": [
       "<AxesSubplot:title={'center':\"Each column's missing values %\"}>"
      ]
     },
     "execution_count": 7,
     "metadata": {},
     "output_type": "execute_result"
    },
    {
     "data": {
      "image/png": "[encoded data removed]",
      "text/plain": [
       "<Figure size 800x500 with 1 Axes>"
      ]
     },
     "metadata": {},
     "output_type": "display_data"
    }
   ],
   "source": [
    "# missing value\n",
    "print((df.isnull().sum()[df.isnull().sum()/len(df)>0]/len(df)).sort_values(ascending =False))\n",
    "pd.DataFrame((df.isnull().sum()/len(df)).sort_values(ascending =False)).plot(kind='bar',figsize=(8,5),title='Each column\\'s missing values %')"
   ]
  },
  {
   "cell_type": "markdown",
   "metadata": {},
   "source": [
    "## Text Cleaning"
   ]
  },
  {
   "cell_type": "code",
   "execution_count": 6,
   "metadata": {
    "colab": {
     "base_uri": "https://localhost:8080/",
     "height": 824
    },
    "id": "kKaHZKVv5Cf1",
    "outputId": "5a8395c0-3ccb-4489-f38f-2d9bcd85c834"
   },
   "outputs": [
    {
     "data": {
      "application/vnd.jupyter.widget-view+json": {
       "model_id": "814d00fa31694b7f97b76a56ea86039a",
       "version_major": 2,
       "version_minor": 0
      },
      "text/plain": [
       "VBox(children=(HBox(children=(IntProgress(value=0, description='0.00%', max=50083), Label(value='0 / 50083')))…"
      ]
     },
     "metadata": {},
     "output_type": "display_data"
    },
    {
     "data": {
      "application/vnd.jupyter.widget-view+json": {
       "model_id": "bc33c96efeae41a7ac20122c6265c861",
       "version_major": 2,
       "version_minor": 0
      },
      "text/plain": [
       "VBox(children=(HBox(children=(IntProgress(value=0, description='0.00%', max=50083), Label(value='0 / 50083')))…"
      ]
     },
     "metadata": {},
     "output_type": "display_data"
    }
   ],
   "source": [
    "# remove URL (started in '//' or be like 'http\\S+') and newline (started in '\\n') and url\n",
    "# only keep alphabet, number, and punctuation\n",
    "\n",
    "df['text_no_url'] = df['text'].parallel_apply(lambda x: re.sub('http\\S+|www\\S+|\\S+.com|https\\S+|\\S+.htmlSOURCE|\\xa0|\\t|©|@',' ',x))\n",
    "df['text_no_url'] = df['text_no_url'].parallel_apply(lambda x: re.sub('[^A-Za-z0-9.,!?/:;\\\"\\'\\s]+', ' ',x))"
   ]
  },
  {
   "cell_type": "code",
   "execution_count": 9,
   "metadata": {
    "colab": {
     "base_uri": "https://localhost:8080/",
     "height": 35
    },
    "id": "6tO99EpO5u54",
    "outputId": "5eae93c3-671f-4ccd-9b8b-a91b0494eca2"
   },
   "outputs": [
    {
     "data": {
      "text/html": [
       "<div>\n",
       "<style scoped>\n",
       "    .dataframe tbody tr th:only-of-type {\n",
       "        vertical-align: middle;\n",
       "    }\n",
       "\n",
       "    .dataframe tbody tr th {\n",
       "        vertical-align: top;\n",
       "    }\n",
       "\n",
       "    .dataframe thead th {\n",
       "        text-align: right;\n",
       "    }\n",
       "</style>\n",
       "<table border=\"1\" class=\"dataframe\">\n",
       "  <thead>\n",
       "    <tr style=\"text-align: right;\">\n",
       "      <th></th>\n",
       "      <th>text</th>\n",
       "      <th>text_no_url</th>\n",
       "    </tr>\n",
       "  </thead>\n",
       "  <tbody>\n",
       "    <tr>\n",
       "      <th>2</th>\n",
       "      <td>\\n\\nForget ML, AI and Industry 4.0 – obsolescence should be your focus - 26 February 2021 - Test &amp; Rework Solutions - Dataweek\\nHome\\nAbout us\\nBack issues / E-book / PDF\\nEMP Handbook\\nSubscribe\\nAdvertise\\n\\nCategories\\n\\n▸ Editor's Choice\\n▸ Multimedia, Videos\\n▸ Analogue, Mixed Signal, LSI\\n▸ Circuit &amp; System Protection\\n▸ Computer/Embedded Technology\\n▸ Design Automation\\n▸ DSP, Micros &amp; Memory\\n▸ Electronics Technology\\n▸ Enclosures, Racks, Cabinets &amp; Panel Products\\n▸ Events\\n▸ Interc...</td>\n",
       "      <td>\\n\\nForget ML, AI and Industry 4.0   obsolescence should be your focus   26 February 2021   Test   Rework Solutions   Dataweek\\nHome\\nAbout us\\nBack issues / E book / PDF\\nEMP Handbook\\nSubscribe\\nAdvertise\\n\\nCategories\\n\\n  Editor's Choice\\n  Multimedia, Videos\\n  Analogue, Mixed Signal, LSI\\n  Circuit   System Protection\\n  Computer/Embedded Technology\\n  Design Automation\\n  DSP, Micros   Memory\\n  Electronics Technology\\n  Enclosures, Racks, Cabinets   Panel Products\\n  Events\\n  Interc...</td>\n",
       "    </tr>\n",
       "  </tbody>\n",
       "</table>\n",
       "</div>"
      ],
      "text/plain": [
       "                                                                                                                                                                                                                                                                                                                                                                                                                                                                                                                  text  \\\n",
       "2  \\n\\nForget ML, AI and Industry 4.0 – obsolescence should be your focus - 26 February 2021 - Test & Rework Solutions - Dataweek\\nHome\\nAbout us\\nBack issues / E-book / PDF\\nEMP Handbook\\nSubscribe\\nAdvertise\\n\\nCategories\\n\\n▸ Editor's Choice\\n▸ Multimedia, Videos\\n▸ Analogue, Mixed Signal, LSI\\n▸ Circuit & System Protection\\n▸ Computer/Embedded Technology\\n▸ Design Automation\\n▸ DSP, Micros & Memory\\n▸ Electronics Technology\\n▸ Enclosures, Racks, Cabinets & Panel Products\\n▸ Events\\n▸ Interc...   \n",
       "\n",
       "                                                                                                                                                                                                                                                                                                                                                                                                                                                                                                           text_no_url  \n",
       "2  \\n\\nForget ML, AI and Industry 4.0   obsolescence should be your focus   26 February 2021   Test   Rework Solutions   Dataweek\\nHome\\nAbout us\\nBack issues / E book / PDF\\nEMP Handbook\\nSubscribe\\nAdvertise\\n\\nCategories\\n\\n  Editor's Choice\\n  Multimedia, Videos\\n  Analogue, Mixed Signal, LSI\\n  Circuit   System Protection\\n  Computer/Embedded Technology\\n  Design Automation\\n  DSP, Micros   Memory\\n  Electronics Technology\\n  Enclosures, Racks, Cabinets   Panel Products\\n  Events\\n  Interc...  "
      ]
     },
     "execution_count": 9,
     "metadata": {},
     "output_type": "execute_result"
    }
   ],
   "source": [
    "df[['text','text_no_url']].iloc[2:3,:]"
   ]
  },
  {
   "cell_type": "markdown",
   "metadata": {},
   "source": [
    "## Split sentences (rule-based)"
   ]
  },
  {
   "cell_type": "markdown",
   "metadata": {},
   "source": [
    "**Notes:**\n",
    "1. What is the best way to split sentences?\n",
    "    - rule-based approach\n",
    "        - `\\n\\n` sign: paragraphs in new articles normally breaks with two new lines. If we can break the whole document into sentences by `\\n\\n`, we can select the sentences has the most words as the title of the article.\n",
    "        - `all rights reserved` sign: this sign is normally at the end of the article. If we can break the whole document into sentences by `all rights reserved`, we can select the sentences before the break word as the content.\n",
    "    - model-based approach\n",
    "        - `spacy` sentence tokenizer"
   ]
  },
  {
   "cell_type": "code",
   "execution_count": 16,
   "metadata": {},
   "outputs": [
    {
     "data": {
      "application/vnd.jupyter.widget-view+json": {
       "model_id": "73d5b972bce0414aa499fce2f6800592",
       "version_major": 2,
       "version_minor": 0
      },
      "text/plain": [
       "VBox(children=(HBox(children=(IntProgress(value=0, description='0.00%', max=50083), Label(value='0 / 50083')))…"
      ]
     },
     "metadata": {},
     "output_type": "display_data"
    }
   ],
   "source": [
    "# create a new True/False column telling whether each value of column 'text_url' has the string \"all rights reserved\", case insensitive\n",
    "df['spilit_check'] = df['text_no_url'].parallel_apply(lambda x: True if re.search('all rights reserved', x, re.IGNORECASE) else False)"
   ]
  },
  {
   "cell_type": "code",
   "execution_count": 19,
   "metadata": {},
   "outputs": [
    {
     "data": {
      "text/plain": [
       "False    138619\n",
       "True      61713\n",
       "Name: spilit_check, dtype: int64"
      ]
     },
     "execution_count": 19,
     "metadata": {},
     "output_type": "execute_result"
    }
   ],
   "source": [
    "df['spilit_check'].value_counts()"
   ]
  },
  {
   "cell_type": "markdown",
   "metadata": {},
   "source": [
    "Only about 40% of the articles include \"all rights reserved\" sign. So we need more filtering rules."
   ]
  },
  {
   "cell_type": "code",
   "execution_count": 7,
   "metadata": {},
   "outputs": [],
   "source": [
    "# define a function to split text with \"all right reserved\" into sentences\n",
    "def words_split(search_word, input_text):\n",
    "    if re.search(search_word, input_text, re.IGNORECASE):\n",
    "        split_list = input_text.split(search_word)\n",
    "        if len(split_list) <= 2:\n",
    "            return split_list[0]\n",
    "        elif len(split_list) > 2: # return everything before the last split\n",
    "            print('multiple split')\n",
    "            return split_list[:-1]\n",
    "        else:\n",
    "            return 'bug'\n",
    "    else: # return input if no search_word in input_text\n",
    "        return input_text"
   ]
  },
  {
   "cell_type": "code",
   "execution_count": 8,
   "metadata": {},
   "outputs": [
    {
     "data": {
      "application/vnd.jupyter.widget-view+json": {
       "model_id": "76a15bd5f0c3404fb863b3836ed4f82a",
       "version_major": 2,
       "version_minor": 0
      },
      "text/plain": [
       "VBox(children=(HBox(children=(IntProgress(value=0, description='0.00%', max=50083), Label(value='0 / 50083')))…"
      ]
     },
     "metadata": {},
     "output_type": "display_data"
    }
   ],
   "source": [
    "# split text with our function\n",
    "df['text_split'] = df['text_no_url'].parallel_apply(lambda x: words_split('all rights reserved', x))"
   ]
  },
  {
   "cell_type": "code",
   "execution_count": 39,
   "metadata": {},
   "outputs": [
    {
     "data": {
      "text/plain": [
       "\"\\n\\nArtificial intelligence improves parking efficiency in Chinese cities   People's Daily Online\\n\\nHome\\nChina Politics\\nForeign Affairs\\nOpinions\\nVideo: We Are China\\nBusiness\\nMilitary\\nWorld\\nSociety\\nCulture\\nTravel\\nScience\\nSports\\nPhoto\\n\\nLanguages\\n\\nChinese\\nJapanese\\nFrench\\nSpanish\\nRussian\\nArabic\\nKorean\\nGerman\\nPortuguese\\nThursday, March 18, 2021\\nHome \\n  \\nArtificial intelligence improves parking efficiency in Chinese cities\\nBy Liu Shiyao  People's Daily  09:16, March 18, 2021\\nPhoto taken on July 1, 2019, shows a sign for electronic toll collection  ETC  newly set up at a roadside parking space on Yangzhuang road, Shijingshan district, Beijing. Some urban areas of the city started to use ETC system for roadside parking spaces since July 1, 2019.  People s Daily Online/Li Wenming \\n\\n Thanks to the application of an artificial intelligence  AI empowered roadside electronic toll collection  ETC  system, China s capital city Beijing has seen significant improvement in the efficiency of parking fee collection, turnover of roadside parking spots, order in roadside parking, as well as traffic congestion.\\n\\n As the city further deepens its roadside parking reform, the ETC system has almost covered all the roadside parking spaces in the city, with the proportion of vehicles parked on roads using the system exceeding 90 percent.\\n\\n With the AI empowered system, drivers can park their vehicles at the parking spots on the roadside, and then pay the parking charge via their mobile phones after they drive away.\\n\\n  This road used to be full of cars, and even the normal lanes were occupied. You could hardly move a bit during the morning and  mute time,  recalled a citizen surnamed Wang, who lives in Chaoyang district of Beijing.\\n\\n  Since the summer of 2019, roadside ETC devices have been installed here. With all the cars being parked in designated parking spots on the roadside, the road now seems brighter and wider,  Wang said.\\n\\n The smart roadside ETC system  AIpark Sky Eye  adopted by Beijing is developed, operated, and maintained by AIpark, a Beijing based leading smart parking solution provider.\\n\\n  pany s intelligent system has brought into full play the advantages of AI technologies and effectively addressed the shortage of parking spaces and the problem of irregular parking in cities. The system has therefore been listed among the country s innovation projects that integrate AI deeply into the real economy in 2018 by China s Ministry of Industry and Information Technology  MIIT .\\n\\n Traditional parking management equipment and monitoring devices have failed to meet the actual needs of cities due to limited application scenarios and technical capacity. There are many deficiencies in traditional parking systems. For example, magnetic devices cannot identify detailed information about vehicles; each video monitoring pile can only cover one parking spot; and manual collection of parking fees costs too much.\\n\\n Such problems don t exist in smart machines. The  AIpark Sky Eye  system boasts strong stability and high recognition rate. Besides, it can resist the interference of extreme weather conditions like rain, snow, and fog, and  plete graphic evidence based on wheel path of vehicles.\\n\\n Each set of cameras of the  AIpark Sky Eye  system can monitor multiple parking spots at the same time for 24 hours a day. The data collected by front end cameras are processed using multi dimensional deep learning algorithm before they are uploaded on to an  puting cloud platform for data enrichment. The platform then distributes identification results to transport authorities.\\n\\n The most distinctive innovation in the technological package of the system is precision brought about by high mounted parking system cameras, according to Xiang Yanping, senior vice president of AIpark, noting that the cameras can recognize  plex static and dynamic reality scenes.\\n\\n  For example, the equipment can accurately identify irregular parking behaviors and state such as double parking and frequent maneuvers, precisely recognize detailed information including plate number and vehicle color, and make good judgment on the behaviors of drivers and pedestrians,  Xiang said.\\n\\n Once the high mounted parking system cameras are installed, they can help with many aspects of integrated urban governance, which represents another advantage of the  AIpark Sky Eye  system.\\n\\n Besides managing parking fee collection, high mounted camera system can also provide data for traffic improvements. The snapshots obtained from the camera system can help solve problems including illegal and inappropriate parking and vehicle theft.\\n\\n So far, the smart ETC system of AIpark has been introduced into more than 20 cities in China, signaling increasingly important roles of AI in improving parking efficiency and order as well as new development opportunities for smart parking industry.\\n 1 2 3 \\nPhotos\\nNaval fleet steams in East China Sea\\nNewborn golden snub nosed monkey makes debut\\nIn pics: birds across China\\nGrain painting studio helps villagers to increase  e\\nRelated Stories\\nExhibition highlighting art science integration opens in BeijingChina s AI industry poised to enter boom timesAlibaba outlines 10 technology trends for 2019China s leading AI enterprise iFlytek to develop health information technologyCheetah Mobile wades into artificial intelligenceChina overtakes the US in investment in AI5 million artificial intelligence talents urgently needed in ChinaGraduate students give 'voice' to sign languageArtificial Intelligence in real livesMicrosoft embraces artificial intelligence\\nAbout People's Daily Online    Join Us   Contact Us\\nCopyright   2021 People's Daily Online. All Rights Reserved.\\n \\n\""
      ]
     },
     "execution_count": 39,
     "metadata": {},
     "output_type": "execute_result"
    }
   ],
   "source": [
    "'''# debug\n",
    "test = df.iloc[0,:]['text_no_url']\n",
    "words_split('all rights reserved', test)\n",
    "# check results\n",
    "df[['text_no_url','text_split']]'''"
   ]
  },
  {
   "cell_type": "code",
   "execution_count": 9,
   "metadata": {},
   "outputs": [
    {
     "data": {
      "application/vnd.jupyter.widget-view+json": {
       "model_id": "40134e183a6945cf825d6b6446faa2a7",
       "version_major": 2,
       "version_minor": 0
      },
      "text/plain": [
       "VBox(children=(HBox(children=(IntProgress(value=0, description='0.00%', max=50083), Label(value='0 / 50083')))…"
      ]
     },
     "metadata": {},
     "output_type": "display_data"
    }
   ],
   "source": [
    "# split 'text_sent' by '\\n\\n'\n",
    "df['text_split'] = df['text_split'].parallel_apply(lambda x: x.split('\\n\\n'))"
   ]
  },
  {
   "cell_type": "code",
   "execution_count": 43,
   "metadata": {},
   "outputs": [
    {
     "data": {
      "application/vnd.jupyter.widget-view+json": {
       "model_id": "be92dc6278ef4b728eac893aae24e19f",
       "version_major": 2,
       "version_minor": 0
      },
      "text/plain": [
       "VBox(children=(HBox(children=(IntProgress(value=0, description='0.00%', max=50083), Label(value='0 / 50083')))…"
      ]
     },
     "metadata": {},
     "output_type": "display_data"
    }
   ],
   "source": [
    "# get the length of each text_split\n",
    "text_split_len = df['text_split'].parallel_apply(lambda x: len(x))"
   ]
  },
  {
   "cell_type": "code",
   "execution_count": 45,
   "metadata": {},
   "outputs": [
    {
     "data": {
      "text/plain": [
       "count    200332.000000\n",
       "mean         54.302128\n",
       "std          92.590373\n",
       "min           1.000000\n",
       "25%           2.000000\n",
       "50%          27.000000\n",
       "75%          67.000000\n",
       "max        4314.000000\n",
       "Name: text_split, dtype: float64"
      ]
     },
     "execution_count": 45,
     "metadata": {},
     "output_type": "execute_result"
    }
   ],
   "source": [
    "text_split_len.describe()"
   ]
  },
  {
   "cell_type": "markdown",
   "metadata": {},
   "source": [
    "Now we see a distribution of the number of trunks per observation. 1/4 of the news has less than 2 trunks spilt by `\\n\\n` and the media length in 27 trunks. We can calculate the average length of the trunks and use it as a threshold to filter out the trunks that have less length."
   ]
  },
  {
   "cell_type": "code",
   "execution_count": 23,
   "metadata": {},
   "outputs": [],
   "source": [
    "# get average length of element in each obversation (text_split)\n",
    "def get_length(text_list):\n",
    "    '''\n",
    "    Take in a list of text trunks (dtype: str), find their index and lentgh, return a list of tuple, containing the index and length\n",
    "    '''\n",
    "    text_len = []\n",
    "    for idx, text in enumerate(text_list):\n",
    "        text_len.append((idx, len(text)))\n",
    "    return text_len\n",
    "\n",
    "def filter_text_trunk(text_list):\n",
    "    '''\n",
    "    Takes in the output of get_length(); \n",
    "    1. calculate the average length of the input: extract the length from each tuple, then calculate the average;\n",
    "    2.1. filter out the text trunk whose length is less than the average lenghth by droppling the index of the tuple in the text_len results\n",
    "    2.2. extract only the index form the reamining tuples; \n",
    "    3. keep theh trunk in the original input using index\n",
    "    '''\n",
    "    # 1. get avg length\n",
    "    text_len = get_length(text_list)\n",
    "    text_len_ttl = [i[1] for i in text_len]\n",
    "    text_len_avg = sum(text_len_ttl)/len(text_len_ttl)\n",
    "    threshold = text_len_avg/2\n",
    "    # 2.1 & 2.2 filter out text trunk whose length is less than avg length\n",
    "    filtered_text_len_idx = [i[0] for i in text_len if i[1] >= threshold]\n",
    "    # sort the elements in the list\n",
    "    filtered_text_len_idx.sort()\n",
    "    # 3. keep the trunk in the original input using index\n",
    "    filtered_text = [text_list[i] for i in filtered_text_len_idx]\n",
    "    return filtered_text"
   ]
  },
  {
   "cell_type": "code",
   "execution_count": 24,
   "metadata": {},
   "outputs": [
    {
     "data": {
      "application/vnd.jupyter.widget-view+json": {
       "model_id": "ed6c3f4a363c44d1b0cd4f2d139b541d",
       "version_major": 2,
       "version_minor": 0
      },
      "text/plain": [
       "VBox(children=(HBox(children=(IntProgress(value=0, description='0.00%', max=50083), Label(value='0 / 50083')))…"
      ]
     },
     "metadata": {},
     "output_type": "display_data"
    },
    {
     "data": {
      "application/vnd.jupyter.widget-view+json": {
       "model_id": "ae11c6bcb6c74c119b3b2f312713f1e1",
       "version_major": 2,
       "version_minor": 0
      },
      "text/plain": [
       "VBox(children=(HBox(children=(IntProgress(value=0, description='0.00%', max=50083), Label(value='0 / 50083')))…"
      ]
     },
     "metadata": {},
     "output_type": "display_data"
    }
   ],
   "source": [
    "# before we apply, we need to clean the `\\n` in each text trunk\n",
    "df['text_split_filtered'] = df['text_split'].parallel_apply(lambda x: [re.sub('\\n|\\n \\n',' ',i) for i in x])\n",
    "\n",
    "# apply function to df\n",
    "df['text_split_filtered'] = df['text_split_filtered'].parallel_apply(lambda x: filter_text_trunk(x))"
   ]
  },
  {
   "cell_type": "code",
   "execution_count": 43,
   "metadata": {},
   "outputs": [
    {
     "data": {
      "text/html": [
       "<div>\n",
       "<style scoped>\n",
       "    .dataframe tbody tr th:only-of-type {\n",
       "        vertical-align: middle;\n",
       "    }\n",
       "\n",
       "    .dataframe tbody tr th {\n",
       "        vertical-align: top;\n",
       "    }\n",
       "\n",
       "    .dataframe thead th {\n",
       "        text-align: right;\n",
       "    }\n",
       "</style>\n",
       "<table border=\"1\" class=\"dataframe\">\n",
       "  <thead>\n",
       "    <tr style=\"text-align: right;\">\n",
       "      <th></th>\n",
       "      <th>title</th>\n",
       "      <th>text_no_url</th>\n",
       "      <th>text_split_filtered</th>\n",
       "    </tr>\n",
       "  </thead>\n",
       "  <tbody>\n",
       "    <tr>\n",
       "      <th>6297</th>\n",
       "      <td>A data scientist's guide to open source community analysis | Opensource.com</td>\n",
       "      <td>\\n\\nA data scientist's guide to open  munity analysis    \\n\\n      Skip to main content\\n    \\nUser account menu\\n\\n\\nLog in\\n\\n\\nSign Up\\n\\n\\nFacebook\\n\\n\\nTwitter\\n\\n\\nRSS\\nMain navigation\\n\\n\\nArticles\\n\\n\\nLinux\\n\\n\\nCommand line\\n\\nKubernetes\\n\\n\\nProgramming\\n\\n\\nGo\\n\\n\\nJavaScript\\n\\n\\nPython\\n\\nContainers\\n\\n\\nSysadmin\\n\\n\\nDevOps\\n\\n\\nGaming\\n\\n\\nHardware\\n\\n\\n3D printing\\n\\n\\nArduino\\n\\n\\nRaspberry Pi\\n\\nGovernment\\n\\n\\nLaw\\n\\n\\nOpen Organization\\n\\n\\nWhat is an open organization?\\...</td>\n",
       "      <td>[Consider this framework for establishing data analysis of your own open source project.           By , Image by:   In the golden age of data analysis, open  munities are not exempt from the frenzy around getting some big, fancy numbers onto presentation slides. Such information can bring even more value if you master the art of generating a well analyzed question with proper execution. You might expect me, a data scientist, to tell you that data analysis and automation will inform  munity d...</td>\n",
       "    </tr>\n",
       "    <tr>\n",
       "      <th>85796</th>\n",
       "      <td>2021-2027 Blockchain AI Market Analysis:  Industry Showing Massive Growth in Future by – The Market Eagle</td>\n",
       "      <td>\\n\\n2021 2027 Blockchain AI Market Analysis:  Industry Showing Massive Growth in Future by   The Market Eagle\\n\\r\\nSkip to content\\n\\nMon. Apr 5th, 2021             \\n\\n The Market Eagle\\nNews\\n  \\n \\n \\nEnergy\\nNews\\nSpace\\nAll News\\nContact\\n \\n\\n\\n \\n \\r\\n                                 All News\\r\\n                              \\r\\n                                 News\\r\\n                              \\n \\r\\n                  2021 2027 Blockchain AI Market Analysis:  Industry Showing Mas...</td>\n",
       "      <td>[2021 2027 Blockchain AI Market Analysis:  Industry Showing Massive Growth in Future by   The Market Eagle \\r Skip to content,     \\r                                  All News\\r                               \\r                                  News\\r                                 \\r                   2021 2027 Blockchain AI Market Analysis:  Industry Showing Massive Growth in Future by, Blockchain AI Market, Blockchain AI Market Analysis, Blockchain AI Market Forecast, Blockchain AI Market...</td>\n",
       "    </tr>\n",
       "    <tr>\n",
       "      <th>172229</th>\n",
       "      <td>Artificial Intelligence Market Detail Analysis focusing on Key Players like Google Inc., IBM Corporation, Microsoft Corporation, General Vision, Enlitic, Inc., Next IT Corporation, – The Courier</td>\n",
       "      <td>\\nArtificial Intelligence Market Detail Analysis focusing on Key Players like Google Inc., IBM Corporation, Microsoft Corporation, General Vision, Enlitic, Inc., Next IT Corporation,   The Courier\\n\\n\\r\\n      Monday, December 7 2020     \\n\\nBreaking News\\nCognitive Data Management Market Outlook, Geographical Segmentation, Industry Size   Share, Comprehensive Analysis to 2027\\n\\n\\nGlobal Clinical Electrophoresis Market Research Insights 2020 2026\\n\\n\\nGlobal Diabetic Neuropathy Market Insig...</td>\n",
       "      <td>[ Artificial Intelligence Market Detail Analysis focusing on Key Players like Google Inc., IBM Corporation, Microsoft Corporation, General Vision, Enlitic, Inc., Next IT Corporation,   The Courier, Breaking News Cognitive Data Management Market Outlook, Geographical Segmentation, Industry Size   Share, Comprehensive Analysis to 2027,  Industrial Ethernet Market Proceeds To Witness Huge Upswing Over Assessment Period by 2025   Alphabet, Facebook, Baidu,  Cloud Based Contact Center Market Deta...</td>\n",
       "    </tr>\n",
       "    <tr>\n",
       "      <th>71184</th>\n",
       "      <td>The sentience debate in the era of generative AI is getting hotter | Mint</td>\n",
       "      <td>\\n\\n\\nThe sentience debate in the era of generative AI is getting hotter   Mint \\n\\n  Get the latest financial, economic and market news, instantly.  I'll Do This LaterAllow\\n  Sign InMy AccountSubscribeMy Readse paperNewslettersIFSC Code Finder NewWeb StoriesMintGenieFor You\\n \\nTop Sections News Companies Company NewsStart upsCompany ResultsTop Company Leader Technology GadgetsTech ReviewsApp NewsFoldable Smartphones5G Tech Markets Stock MarketsCommodity NewsMark To MarketIPO NewsLive Blog...</td>\n",
       "      <td>[  Get the latest financial, economic and market news, instantly.  I'll Do This LaterAllow   Sign InMy AccountSubscribeMy Readse paperNewslettersIFSC Code Finder NewWeb StoriesMintGenieFor You   Top Sections News Companies Company NewsStart upsCompany ResultsTop Company Leader Technology GadgetsTech ReviewsApp NewsFoldable Smartphones5G Tech Markets Stock MarketsCommodity NewsMark To MarketIPO NewsLive Blog Money Personal FinanceQ AOpinion Photos Mutual Funds Mint 50   Top Mutual FundsNews I...</td>\n",
       "    </tr>\n",
       "    <tr>\n",
       "      <th>61276</th>\n",
       "      <td>Grimes' welcomed the use of her voice in AI music, sparking legal questions : NPR</td>\n",
       "      <td>\\nGrimes'  ed the use of her voice in AI music, sparking legal questions : NPR\\n\\nAccessibility links \\nSkip to main content\\nKeyboard shortcuts for audio player\\n\\n                    Open Navigation Menu\\n                \\nNPR Shop\\n \\n                    Close Navigation Menu\\n\\nHome\\nNews\\nExpand/collapse submenu for News\\n\\n\\nNational\\nWorld\\nPolitics\\nBusiness\\nHealth\\nScience\\nClimate\\nRace\\n\\nCulture\\nExpand/collapse submenu for Culture\\n\\n\\nBooks\\nMovies\\nTelevision\\nPop Culture\\nFo...</td>\n",
       "      <td>[ Grimes'  ed the use of her voice in AI music, sparking legal questions : NPR, Accessibility links  Skip to main content Keyboard shortcuts for audio player,                     Open Navigation Menu                  NPR Shop                       Close Navigation Menu, Home News Expand/collapse submenu for News,  National World Politics Business Health Science Climate Race, Culture Expand/collapse submenu for Culture,  Books Movies Television Pop Culture Food Art   Design  Performing Arts L...</td>\n",
       "    </tr>\n",
       "  </tbody>\n",
       "</table>\n",
       "</div>"
      ],
      "text/plain": [
       "                                                                                                                                                                                                     title  \\\n",
       "6297                                                                                                                           A data scientist's guide to open source community analysis | Opensource.com   \n",
       "85796                                                                                            2021-2027 Blockchain AI Market Analysis:  Industry Showing Massive Growth in Future by – The Market Eagle   \n",
       "172229  Artificial Intelligence Market Detail Analysis focusing on Key Players like Google Inc., IBM Corporation, Microsoft Corporation, General Vision, Enlitic, Inc., Next IT Corporation, – The Courier   \n",
       "71184                                                                                                                            The sentience debate in the era of generative AI is getting hotter | Mint   \n",
       "61276                                                                                                                    Grimes' welcomed the use of her voice in AI music, sparking legal questions : NPR   \n",
       "\n",
       "                                                                                                                                                                                                                                                                                                                                                                                                                                                                                                                text_no_url  \\\n",
       "6297    \\n\\nA data scientist's guide to open  munity analysis    \\n\\n      Skip to main content\\n    \\nUser account menu\\n\\n\\nLog in\\n\\n\\nSign Up\\n\\n\\nFacebook\\n\\n\\nTwitter\\n\\n\\nRSS\\nMain navigation\\n\\n\\nArticles\\n\\n\\nLinux\\n\\n\\nCommand line\\n\\nKubernetes\\n\\n\\nProgramming\\n\\n\\nGo\\n\\n\\nJavaScript\\n\\n\\nPython\\n\\nContainers\\n\\n\\nSysadmin\\n\\n\\nDevOps\\n\\n\\nGaming\\n\\n\\nHardware\\n\\n\\n3D printing\\n\\n\\nArduino\\n\\n\\nRaspberry Pi\\n\\nGovernment\\n\\n\\nLaw\\n\\n\\nOpen Organization\\n\\n\\nWhat is an open organization?\\...   \n",
       "85796   \\n\\n2021 2027 Blockchain AI Market Analysis:  Industry Showing Massive Growth in Future by   The Market Eagle\\n\\r\\nSkip to content\\n\\nMon. Apr 5th, 2021             \\n\\n The Market Eagle\\nNews\\n  \\n \\n \\nEnergy\\nNews\\nSpace\\nAll News\\nContact\\n \\n\\n\\n \\n \\r\\n                                 All News\\r\\n                              \\r\\n                                 News\\r\\n                              \\n \\r\\n                  2021 2027 Blockchain AI Market Analysis:  Industry Showing Mas...   \n",
       "172229  \\nArtificial Intelligence Market Detail Analysis focusing on Key Players like Google Inc., IBM Corporation, Microsoft Corporation, General Vision, Enlitic, Inc., Next IT Corporation,   The Courier\\n\\n\\r\\n      Monday, December 7 2020     \\n\\nBreaking News\\nCognitive Data Management Market Outlook, Geographical Segmentation, Industry Size   Share, Comprehensive Analysis to 2027\\n\\n\\nGlobal Clinical Electrophoresis Market Research Insights 2020 2026\\n\\n\\nGlobal Diabetic Neuropathy Market Insig...   \n",
       "71184   \\n\\n\\nThe sentience debate in the era of generative AI is getting hotter   Mint \\n\\n  Get the latest financial, economic and market news, instantly.  I'll Do This LaterAllow\\n  Sign InMy AccountSubscribeMy Readse paperNewslettersIFSC Code Finder NewWeb StoriesMintGenieFor You\\n \\nTop Sections News Companies Company NewsStart upsCompany ResultsTop Company Leader Technology GadgetsTech ReviewsApp NewsFoldable Smartphones5G Tech Markets Stock MarketsCommodity NewsMark To MarketIPO NewsLive Blog...   \n",
       "61276   \\nGrimes'  ed the use of her voice in AI music, sparking legal questions : NPR\\n\\nAccessibility links \\nSkip to main content\\nKeyboard shortcuts for audio player\\n\\n                    Open Navigation Menu\\n                \\nNPR Shop\\n \\n                    Close Navigation Menu\\n\\nHome\\nNews\\nExpand/collapse submenu for News\\n\\n\\nNational\\nWorld\\nPolitics\\nBusiness\\nHealth\\nScience\\nClimate\\nRace\\n\\nCulture\\nExpand/collapse submenu for Culture\\n\\n\\nBooks\\nMovies\\nTelevision\\nPop Culture\\nFo...   \n",
       "\n",
       "                                                                                                                                                                                                                                                                                                                                                                                                                                                                                                        text_split_filtered  \n",
       "6297    [Consider this framework for establishing data analysis of your own open source project.           By , Image by:   In the golden age of data analysis, open  munities are not exempt from the frenzy around getting some big, fancy numbers onto presentation slides. Such information can bring even more value if you master the art of generating a well analyzed question with proper execution. You might expect me, a data scientist, to tell you that data analysis and automation will inform  munity d...  \n",
       "85796   [2021 2027 Blockchain AI Market Analysis:  Industry Showing Massive Growth in Future by   The Market Eagle \\r Skip to content,     \\r                                  All News\\r                               \\r                                  News\\r                                 \\r                   2021 2027 Blockchain AI Market Analysis:  Industry Showing Massive Growth in Future by, Blockchain AI Market, Blockchain AI Market Analysis, Blockchain AI Market Forecast, Blockchain AI Market...  \n",
       "172229  [ Artificial Intelligence Market Detail Analysis focusing on Key Players like Google Inc., IBM Corporation, Microsoft Corporation, General Vision, Enlitic, Inc., Next IT Corporation,   The Courier, Breaking News Cognitive Data Management Market Outlook, Geographical Segmentation, Industry Size   Share, Comprehensive Analysis to 2027,  Industrial Ethernet Market Proceeds To Witness Huge Upswing Over Assessment Period by 2025   Alphabet, Facebook, Baidu,  Cloud Based Contact Center Market Deta...  \n",
       "71184   [  Get the latest financial, economic and market news, instantly.  I'll Do This LaterAllow   Sign InMy AccountSubscribeMy Readse paperNewslettersIFSC Code Finder NewWeb StoriesMintGenieFor You   Top Sections News Companies Company NewsStart upsCompany ResultsTop Company Leader Technology GadgetsTech ReviewsApp NewsFoldable Smartphones5G Tech Markets Stock MarketsCommodity NewsMark To MarketIPO NewsLive Blog Money Personal FinanceQ AOpinion Photos Mutual Funds Mint 50   Top Mutual FundsNews I...  \n",
       "61276   [ Grimes'  ed the use of her voice in AI music, sparking legal questions : NPR, Accessibility links  Skip to main content Keyboard shortcuts for audio player,                     Open Navigation Menu                  NPR Shop                       Close Navigation Menu, Home News Expand/collapse submenu for News,  National World Politics Business Health Science Climate Race, Culture Expand/collapse submenu for Culture,  Books Movies Television Pop Culture Food Art   Design  Performing Arts L...  "
      ]
     },
     "execution_count": 43,
     "metadata": {},
     "output_type": "execute_result"
    }
   ],
   "source": [
    "df[['title','text_no_url', 'text_split_filtered']].sample(5)\n",
    "#df[['title','text_no_url', 'text_split_filtered']].head(5)"
   ]
  },
  {
   "cell_type": "code",
   "execution_count": 28,
   "metadata": {},
   "outputs": [
    {
     "data": {
      "text/plain": [
       "5709"
      ]
     },
     "execution_count": 28,
     "metadata": {},
     "output_type": "execute_result"
    }
   ],
   "source": [
    "# original article length\n",
    "len(df[['title','text_no_url', 'text_split_filtered']].iloc[0,1])"
   ]
  },
  {
   "cell_type": "code",
   "execution_count": 31,
   "metadata": {},
   "outputs": [
    {
     "data": {
      "text/plain": [
       "5437"
      ]
     },
     "execution_count": 31,
     "metadata": {},
     "output_type": "execute_result"
    }
   ],
   "source": [
    "# get total length of the tmp\n",
    "tmp = df[['title','text_no_url', 'text_split_filtered']].iloc[0,2]\n",
    "tmp_len = [len(i) for i in tmp]\n",
    "sum(tmp_len)"
   ]
  },
  {
   "cell_type": "code",
   "execution_count": 46,
   "metadata": {},
   "outputs": [
    {
     "data": {
      "text/html": [
       "<div>\n",
       "<style scoped>\n",
       "    .dataframe tbody tr th:only-of-type {\n",
       "        vertical-align: middle;\n",
       "    }\n",
       "\n",
       "    .dataframe tbody tr th {\n",
       "        vertical-align: top;\n",
       "    }\n",
       "\n",
       "    .dataframe thead th {\n",
       "        text-align: right;\n",
       "    }\n",
       "</style>\n",
       "<table border=\"1\" class=\"dataframe\">\n",
       "  <thead>\n",
       "    <tr style=\"text-align: right;\">\n",
       "      <th></th>\n",
       "      <th>url</th>\n",
       "      <th>date</th>\n",
       "      <th>language</th>\n",
       "      <th>title</th>\n",
       "      <th>text</th>\n",
       "      <th>text_split_filtered</th>\n",
       "    </tr>\n",
       "  </thead>\n",
       "  <tbody>\n",
       "    <tr>\n",
       "      <th>0</th>\n",
       "      <td>http://en.people.cn/n3/2021/0318/c90000-9830122.html</td>\n",
       "      <td>2021-03-18</td>\n",
       "      <td>en</td>\n",
       "      <td>Artificial intelligence improves parking efficiency in Chinese cities - People's Daily Online</td>\n",
       "      <td>\\n\\nArtificial intelligence improves parking efficiency in Chinese cities - People's Daily Online\\n\\nHome\\nChina Politics\\nForeign Affairs\\nOpinions\\nVideo: We Are China\\nBusiness\\nMilitary\\nWorld\\nSociety\\nCulture\\nTravel\\nScience\\nSports\\nPhoto\\n\\nLanguages\\n\\nChinese\\nJapanese\\nFrench\\nSpanish\\nRussian\\nArabic\\nKorean\\nGerman\\nPortuguese\\nThursday, March 18, 2021\\nHome&gt;&gt;\\n\\t\\t\\nArtificial intelligence improves parking efficiency in Chinese cities\\nBy Liu Shiyao (People's Daily) 09:16, Mar...</td>\n",
       "      <td>[Chinese Japanese French Spanish Russian Arabic Korean German Portuguese Thursday, March 18, 2021 Home     Artificial intelligence improves parking efficiency in Chinese cities By Liu Shiyao  People's Daily  09:16, March 18, 2021 Photo taken on July 1, 2019, shows a sign for electronic toll collection  ETC  newly set up at a roadside parking space on Yangzhuang road, Shijingshan district, Beijing. Some urban areas of the city started to use ETC system for roadside parking spaces since July 1...</td>\n",
       "    </tr>\n",
       "    <tr>\n",
       "      <th>1</th>\n",
       "      <td>http://newsparliament.com/2020/02/27/children-with-autism-saw-their-learning-and-social-skills-boosted-after-playing-with-this-ai-robot/</td>\n",
       "      <td>2020-02-27</td>\n",
       "      <td>en</td>\n",
       "      <td>Children With Autism Saw Their Learning and Social Skills Boosted After Playing With This AI Robot – News Parliament</td>\n",
       "      <td>\\nChildren With Autism Saw Their Learning and Social Skills Boosted After Playing With This AI Robot – News Parliament\\n \\n\\nSkip to content\\n\\t\\t\\tThursday, February 27, 2020\\t\\t\\n\\nLatest:\\n\\n\\nMansplaining in conferences: How can we get him to forestall?\\n\\n\\nDrax power station to cease burning coal in March 2021\\n\\n\\nCoronavirus Could Explode in the U.S. Overnight Like it Did in Italy\\n\\n\\nCoronavirus: Dettol sales surge as markets fall again\\n\\n\\nLevi Strauss marks the next phase in cor...</td>\n",
       "      <td>[ Children With Autism Saw Their Learning and Social Skills Boosted After Playing With This AI Robot   News Parliament  ,        Children With Autism Saw Their Learning and Social Skills Boosted After Playing With This AI Robot     ,   Author Recent Posts   admin  Latest posts by admin  see all   Mansplaining in conferences: How can we get him to forestall?   February 27, 2020   Coronavirus Could Explode in the U.S. Overnight Like it Did in Italy   February 27, 2020   Levi Strauss marks the ...</td>\n",
       "    </tr>\n",
       "    <tr>\n",
       "      <th>2</th>\n",
       "      <td>http://www.dataweek.co.za/12835r</td>\n",
       "      <td>2021-03-26</td>\n",
       "      <td>en</td>\n",
       "      <td>Forget ML, AI and Industry 4.0 – obsolescence should be your focus - 26 February 2021 - Test &amp; Rework Solutions - Dataweek</td>\n",
       "      <td>\\n\\nForget ML, AI and Industry 4.0 – obsolescence should be your focus - 26 February 2021 - Test &amp; Rework Solutions - Dataweek\\nHome\\nAbout us\\nBack issues / E-book / PDF\\nEMP Handbook\\nSubscribe\\nAdvertise\\n\\nCategories\\n\\n▸ Editor's Choice\\n▸ Multimedia, Videos\\n▸ Analogue, Mixed Signal, LSI\\n▸ Circuit &amp; System Protection\\n▸ Computer/Embedded Technology\\n▸ Design Automation\\n▸ DSP, Micros &amp; Memory\\n▸ Electronics Technology\\n▸ Enclosures, Racks, Cabinets &amp; Panel Products\\n▸ Events\\n▸ Interc...</td>\n",
       "      <td>[Forget ML, AI and Industry 4.0   obsolescence should be your focus   26 February 2021   Test   Rework Solutions   Dataweek Home About us Back issues / E book / PDF EMP Handbook Subscribe Advertise,   Editor's Choice   Multimedia, Videos   Analogue, Mixed Signal, LSI   Circuit   System Protection   Computer/Embedded Technology   Design Automation   DSP, Micros   Memory   Electronics Technology   Enclosures, Racks, Cabinets   Panel Products   Events   Interconnection   Manufacturing / Product...</td>\n",
       "    </tr>\n",
       "    <tr>\n",
       "      <th>3</th>\n",
       "      <td>http://www.homeoffice.consumerelectronicsnet.com/strategy-analytics-71-of-smartphones-sold-globally-in-2021-will-be-ai-powered/</td>\n",
       "      <td>2021-03-10</td>\n",
       "      <td>en</td>\n",
       "      <td>Strategy Analytics: 71% of Smartphones Sold Globally in 2021 will be AI Powered – Consumer Electronics Net</td>\n",
       "      <td>\\n\\nStrategy Analytics: 71% of Smartphones Sold Globally in 2021 will be AI Powered – Consumer Electronics Net\\n \\nSkip to content\\n\\nConsumer Electronics Net\\n\\nPrimary Menu\\n\\nConsumer Electronics Net\\n\\nSearch for:\\n \\nHomeNewsStrategy Analytics: 71% of Smartphones Sold Globally in 2021 will be AI Powered \\n \\n                                 News\\n                             \\n \\nStrategy Analytics: 71% of Smartphones Sold Globally in 2021 will be AI Powered\\n                    7 hours...</td>\n",
       "      <td>[Strategy Analytics: 71  of Smartphones Sold Globally in 2021 will be AI Powered   Consumer Electronics Net   Skip to content, Search for:   HomeNewsStrategy Analytics: 71  of Smartphones Sold Globally in 2021 will be AI Powered                                     News                                 Strategy Analytics: 71  of Smartphones Sold Globally in 2021 will be AI Powered                     7 hours ago              , BOSTON BUSINESS WIRE Strategy Analytics in a newly published report...</td>\n",
       "    </tr>\n",
       "    <tr>\n",
       "      <th>4</th>\n",
       "      <td>http://www.itbusinessnet.com/2020/10/olympus-to-support-endoscopic-ai-diagnosis-education-for-doctors-in-india-and-to-launch-ai-diagnostic-support-application/?utm_source=rss&amp;utm_medium=rss&amp;utm_campaign=olympus-to-support-endoscopic-ai-diagnosis-education-for-doctors-in-india-and-to-launch-ai-diagnostic-support-application</td>\n",
       "      <td>2020-10-20</td>\n",
       "      <td>en</td>\n",
       "      <td>Olympus to Support Endoscopic AI Diagnosis Education for Doctors in India and to Launch AI Diagnostic Support Application | | IT Business Net</td>\n",
       "      <td>\\n\\nOlympus to Support Endoscopic AI Diagnosis Education for Doctors in India and to Launch AI Diagnostic Support Application | | IT Business Net\\n \\nSkip to content\\n\\nIT Business Net\\n\\nNews for IT Professionals\\nPrimary Menu\\n\\nIT Business Net\\nAbout IT Business Net\\n\\nSearch for:\\n \\nHome2020OctoberOlympus to Support Endoscopic AI Diagnosis Education for Doctors in India and to Launch AI Diagnostic Support Application \\n \\n                                 News\\n                          ...</td>\n",
       "      <td>[Search for:   Home2020OctoberOlympus to Support Endoscopic AI Diagnosis Education for Doctors in India and to Launch AI Diagnostic Support Application                                     News                                 Olympus to Support Endoscopic AI Diagnosis Education for Doctors in India and to Launch AI Diagnostic Support Application, TOKYO, Oct 20, 2020    ACN Newswire     Olympus Corporation took part in a ground breaking project as a business promoter, in cooperation with the M...</td>\n",
       "    </tr>\n",
       "  </tbody>\n",
       "</table>\n",
       "</div>"
      ],
      "text/plain": [
       "                                                                                                                                                                                                                                                                                                                                    url  \\\n",
       "0                                                                                                                                                                                                                                                                                  http://en.people.cn/n3/2021/0318/c90000-9830122.html   \n",
       "1                                                                                                                                                                                              http://newsparliament.com/2020/02/27/children-with-autism-saw-their-learning-and-social-skills-boosted-after-playing-with-this-ai-robot/   \n",
       "2                                                                                                                                                                                                                                                                                                      http://www.dataweek.co.za/12835r   \n",
       "3                                                                                                                                                                                                       http://www.homeoffice.consumerelectronicsnet.com/strategy-analytics-71-of-smartphones-sold-globally-in-2021-will-be-ai-powered/   \n",
       "4  http://www.itbusinessnet.com/2020/10/olympus-to-support-endoscopic-ai-diagnosis-education-for-doctors-in-india-and-to-launch-ai-diagnostic-support-application/?utm_source=rss&utm_medium=rss&utm_campaign=olympus-to-support-endoscopic-ai-diagnosis-education-for-doctors-in-india-and-to-launch-ai-diagnostic-support-application   \n",
       "\n",
       "         date language  \\\n",
       "0  2021-03-18       en   \n",
       "1  2020-02-27       en   \n",
       "2  2021-03-26       en   \n",
       "3  2021-03-10       en   \n",
       "4  2020-10-20       en   \n",
       "\n",
       "                                                                                                                                           title  \\\n",
       "0                                                  Artificial intelligence improves parking efficiency in Chinese cities - People's Daily Online   \n",
       "1                           Children With Autism Saw Their Learning and Social Skills Boosted After Playing With This AI Robot – News Parliament   \n",
       "2                     Forget ML, AI and Industry 4.0 – obsolescence should be your focus - 26 February 2021 - Test & Rework Solutions - Dataweek   \n",
       "3                                     Strategy Analytics: 71% of Smartphones Sold Globally in 2021 will be AI Powered – Consumer Electronics Net   \n",
       "4  Olympus to Support Endoscopic AI Diagnosis Education for Doctors in India and to Launch AI Diagnostic Support Application | | IT Business Net   \n",
       "\n",
       "                                                                                                                                                                                                                                                                                                                                                                                                                                                                                                                  text  \\\n",
       "0  \\n\\nArtificial intelligence improves parking efficiency in Chinese cities - People's Daily Online\\n\\nHome\\nChina Politics\\nForeign Affairs\\nOpinions\\nVideo: We Are China\\nBusiness\\nMilitary\\nWorld\\nSociety\\nCulture\\nTravel\\nScience\\nSports\\nPhoto\\n\\nLanguages\\n\\nChinese\\nJapanese\\nFrench\\nSpanish\\nRussian\\nArabic\\nKorean\\nGerman\\nPortuguese\\nThursday, March 18, 2021\\nHome>>\\n\\t\\t\\nArtificial intelligence improves parking efficiency in Chinese cities\\nBy Liu Shiyao (People's Daily) 09:16, Mar...   \n",
       "1  \\nChildren With Autism Saw Their Learning and Social Skills Boosted After Playing With This AI Robot – News Parliament\\n \\n\\nSkip to content\\n\\t\\t\\tThursday, February 27, 2020\\t\\t\\n\\nLatest:\\n\\n\\nMansplaining in conferences: How can we get him to forestall?\\n\\n\\nDrax power station to cease burning coal in March 2021\\n\\n\\nCoronavirus Could Explode in the U.S. Overnight Like it Did in Italy\\n\\n\\nCoronavirus: Dettol sales surge as markets fall again\\n\\n\\nLevi Strauss marks the next phase in cor...   \n",
       "2  \\n\\nForget ML, AI and Industry 4.0 – obsolescence should be your focus - 26 February 2021 - Test & Rework Solutions - Dataweek\\nHome\\nAbout us\\nBack issues / E-book / PDF\\nEMP Handbook\\nSubscribe\\nAdvertise\\n\\nCategories\\n\\n▸ Editor's Choice\\n▸ Multimedia, Videos\\n▸ Analogue, Mixed Signal, LSI\\n▸ Circuit & System Protection\\n▸ Computer/Embedded Technology\\n▸ Design Automation\\n▸ DSP, Micros & Memory\\n▸ Electronics Technology\\n▸ Enclosures, Racks, Cabinets & Panel Products\\n▸ Events\\n▸ Interc...   \n",
       "3  \\n\\nStrategy Analytics: 71% of Smartphones Sold Globally in 2021 will be AI Powered – Consumer Electronics Net\\n \\nSkip to content\\n\\nConsumer Electronics Net\\n\\nPrimary Menu\\n\\nConsumer Electronics Net\\n\\nSearch for:\\n \\nHomeNewsStrategy Analytics: 71% of Smartphones Sold Globally in 2021 will be AI Powered \\n \\n                                 News\\n                             \\n \\nStrategy Analytics: 71% of Smartphones Sold Globally in 2021 will be AI Powered\\n                    7 hours...   \n",
       "4  \\n\\nOlympus to Support Endoscopic AI Diagnosis Education for Doctors in India and to Launch AI Diagnostic Support Application | | IT Business Net\\n \\nSkip to content\\n\\nIT Business Net\\n\\nNews for IT Professionals\\nPrimary Menu\\n\\nIT Business Net\\nAbout IT Business Net\\n\\nSearch for:\\n \\nHome2020OctoberOlympus to Support Endoscopic AI Diagnosis Education for Doctors in India and to Launch AI Diagnostic Support Application \\n \\n                                 News\\n                          ...   \n",
       "\n",
       "                                                                                                                                                                                                                                                                                                                                                                                                                                                                                                   text_split_filtered  \n",
       "0  [Chinese Japanese French Spanish Russian Arabic Korean German Portuguese Thursday, March 18, 2021 Home     Artificial intelligence improves parking efficiency in Chinese cities By Liu Shiyao  People's Daily  09:16, March 18, 2021 Photo taken on July 1, 2019, shows a sign for electronic toll collection  ETC  newly set up at a roadside parking space on Yangzhuang road, Shijingshan district, Beijing. Some urban areas of the city started to use ETC system for roadside parking spaces since July 1...  \n",
       "1  [ Children With Autism Saw Their Learning and Social Skills Boosted After Playing With This AI Robot   News Parliament  ,        Children With Autism Saw Their Learning and Social Skills Boosted After Playing With This AI Robot     ,   Author Recent Posts   admin  Latest posts by admin  see all   Mansplaining in conferences: How can we get him to forestall?   February 27, 2020   Coronavirus Could Explode in the U.S. Overnight Like it Did in Italy   February 27, 2020   Levi Strauss marks the ...  \n",
       "2  [Forget ML, AI and Industry 4.0   obsolescence should be your focus   26 February 2021   Test   Rework Solutions   Dataweek Home About us Back issues / E book / PDF EMP Handbook Subscribe Advertise,   Editor's Choice   Multimedia, Videos   Analogue, Mixed Signal, LSI   Circuit   System Protection   Computer/Embedded Technology   Design Automation   DSP, Micros   Memory   Electronics Technology   Enclosures, Racks, Cabinets   Panel Products   Events   Interconnection   Manufacturing / Product...  \n",
       "3  [Strategy Analytics: 71  of Smartphones Sold Globally in 2021 will be AI Powered   Consumer Electronics Net   Skip to content, Search for:   HomeNewsStrategy Analytics: 71  of Smartphones Sold Globally in 2021 will be AI Powered                                     News                                 Strategy Analytics: 71  of Smartphones Sold Globally in 2021 will be AI Powered                     7 hours ago              , BOSTON BUSINESS WIRE Strategy Analytics in a newly published report...  \n",
       "4  [Search for:   Home2020OctoberOlympus to Support Endoscopic AI Diagnosis Education for Doctors in India and to Launch AI Diagnostic Support Application                                     News                                 Olympus to Support Endoscopic AI Diagnosis Education for Doctors in India and to Launch AI Diagnostic Support Application, TOKYO, Oct 20, 2020    ACN Newswire     Olympus Corporation took part in a ground breaking project as a business promoter, in cooperation with the M...  "
      ]
     },
     "execution_count": 46,
     "metadata": {},
     "output_type": "execute_result"
    }
   ],
   "source": [
    "# save a checkpoint results\n",
    "df = df[['url', 'date', 'language', 'title', 'text', 'text_split_filtered']]\n",
    "df.head()"
   ]
  },
  {
   "cell_type": "code",
   "execution_count": 16,
   "metadata": {
    "tags": []
   },
   "outputs": [
    {
     "data": {
      "text/html": [
       "<div>\n",
       "<style scoped>\n",
       "    .dataframe tbody tr th:only-of-type {\n",
       "        vertical-align: middle;\n",
       "    }\n",
       "\n",
       "    .dataframe tbody tr th {\n",
       "        vertical-align: top;\n",
       "    }\n",
       "\n",
       "    .dataframe thead th {\n",
       "        text-align: right;\n",
       "    }\n",
       "</style>\n",
       "<table border=\"1\" class=\"dataframe\">\n",
       "  <thead>\n",
       "    <tr style=\"text-align: right;\">\n",
       "      <th></th>\n",
       "      <th>url</th>\n",
       "      <th>date</th>\n",
       "      <th>language</th>\n",
       "      <th>title</th>\n",
       "      <th>text</th>\n",
       "      <th>text_split_filtered</th>\n",
       "    </tr>\n",
       "  </thead>\n",
       "  <tbody>\n",
       "    <tr>\n",
       "      <th>0</th>\n",
       "      <td>http://en.people.cn/n3/2021/0318/c90000-9830122.html</td>\n",
       "      <td>2021-03-18</td>\n",
       "      <td>en</td>\n",
       "      <td>Artificial intelligence improves parking efficiency in Chinese cities - People's Daily Online</td>\n",
       "      <td>\\n\\nArtificial intelligence improves parking efficiency in Chinese cities - People's Daily Online\\n\\nHome\\nChina Politics\\nForeign Affairs\\nOpinions\\nVideo: We Are China\\nBusiness\\nMilitary\\nWorld\\nSociety\\nCulture\\nTravel\\nScience\\nSports\\nPhoto\\n\\nLanguages\\n\\nChinese\\nJapanese\\nFrench\\nSpanish\\nRussian\\nArabic\\nKorean\\nGerman\\nPortuguese\\nThursday, March 18, 2021\\nHome&gt;&gt;\\n\\t\\t\\nArtificial intelligence improves parking efficiency in Chinese cities\\nBy Liu Shiyao (People's Daily) 09:16, Mar...</td>\n",
       "      <td>[Chinese Japanese French Spanish Russian Arabic Korean German Portuguese Thursday, March 18, 2021 Home     Artificial intelligence improves parking efficiency in Chinese cities By Liu Shiyao  People's Daily  09:16, March 18, 2021 Photo taken on July 1, 2019, shows a sign for electronic toll collection  ETC  newly set up at a roadside parking space on Yangzhuang road, Shijingshan district, Beijing. Some urban areas of the city started to use ETC system for roadside parking spaces since July 1...</td>\n",
       "    </tr>\n",
       "    <tr>\n",
       "      <th>1</th>\n",
       "      <td>http://newsparliament.com/2020/02/27/children-with-autism-saw-their-learning-and-social-skills-boosted-after-playing-with-this-ai-robot/</td>\n",
       "      <td>2020-02-27</td>\n",
       "      <td>en</td>\n",
       "      <td>Children With Autism Saw Their Learning and Social Skills Boosted After Playing With This AI Robot – News Parliament</td>\n",
       "      <td>\\nChildren With Autism Saw Their Learning and Social Skills Boosted After Playing With This AI Robot – News Parliament\\n \\n\\nSkip to content\\n\\t\\t\\tThursday, February 27, 2020\\t\\t\\n\\nLatest:\\n\\n\\nMansplaining in conferences: How can we get him to forestall?\\n\\n\\nDrax power station to cease burning coal in March 2021\\n\\n\\nCoronavirus Could Explode in the U.S. Overnight Like it Did in Italy\\n\\n\\nCoronavirus: Dettol sales surge as markets fall again\\n\\n\\nLevi Strauss marks the next phase in cor...</td>\n",
       "      <td>[ Children With Autism Saw Their Learning and Social Skills Boosted After Playing With This AI Robot   News Parliament  ,        Children With Autism Saw Their Learning and Social Skills Boosted After Playing With This AI Robot     ,   Author Recent Posts   admin  Latest posts by admin  see all   Mansplaining in conferences: How can we get him to forestall?   February 27, 2020   Coronavirus Could Explode in the U.S. Overnight Like it Did in Italy   February 27, 2020   Levi Strauss marks the ...</td>\n",
       "    </tr>\n",
       "    <tr>\n",
       "      <th>2</th>\n",
       "      <td>http://www.dataweek.co.za/12835r</td>\n",
       "      <td>2021-03-26</td>\n",
       "      <td>en</td>\n",
       "      <td>Forget ML, AI and Industry 4.0 – obsolescence should be your focus - 26 February 2021 - Test &amp; Rework Solutions - Dataweek</td>\n",
       "      <td>\\n\\nForget ML, AI and Industry 4.0 – obsolescence should be your focus - 26 February 2021 - Test &amp; Rework Solutions - Dataweek\\nHome\\nAbout us\\nBack issues / E-book / PDF\\nEMP Handbook\\nSubscribe\\nAdvertise\\n\\nCategories\\n\\n▸ Editor's Choice\\n▸ Multimedia, Videos\\n▸ Analogue, Mixed Signal, LSI\\n▸ Circuit &amp; System Protection\\n▸ Computer/Embedded Technology\\n▸ Design Automation\\n▸ DSP, Micros &amp; Memory\\n▸ Electronics Technology\\n▸ Enclosures, Racks, Cabinets &amp; Panel Products\\n▸ Events\\n▸ Interc...</td>\n",
       "      <td>[Forget ML, AI and Industry 4.0   obsolescence should be your focus   26 February 2021   Test   Rework Solutions   Dataweek Home About us Back issues / E book / PDF EMP Handbook Subscribe Advertise,   Editor's Choice   Multimedia, Videos   Analogue, Mixed Signal, LSI   Circuit   System Protection   Computer/Embedded Technology   Design Automation   DSP, Micros   Memory   Electronics Technology   Enclosures, Racks, Cabinets   Panel Products   Events   Interconnection   Manufacturing / Product...</td>\n",
       "    </tr>\n",
       "    <tr>\n",
       "      <th>3</th>\n",
       "      <td>http://www.homeoffice.consumerelectronicsnet.com/strategy-analytics-71-of-smartphones-sold-globally-in-2021-will-be-ai-powered/</td>\n",
       "      <td>2021-03-10</td>\n",
       "      <td>en</td>\n",
       "      <td>Strategy Analytics: 71% of Smartphones Sold Globally in 2021 will be AI Powered – Consumer Electronics Net</td>\n",
       "      <td>\\n\\nStrategy Analytics: 71% of Smartphones Sold Globally in 2021 will be AI Powered – Consumer Electronics Net\\n \\nSkip to content\\n\\nConsumer Electronics Net\\n\\nPrimary Menu\\n\\nConsumer Electronics Net\\n\\nSearch for:\\n \\nHomeNewsStrategy Analytics: 71% of Smartphones Sold Globally in 2021 will be AI Powered \\n \\n                                 News\\n                             \\n \\nStrategy Analytics: 71% of Smartphones Sold Globally in 2021 will be AI Powered\\n                    7 hours...</td>\n",
       "      <td>[Strategy Analytics: 71  of Smartphones Sold Globally in 2021 will be AI Powered   Consumer Electronics Net   Skip to content, Search for:   HomeNewsStrategy Analytics: 71  of Smartphones Sold Globally in 2021 will be AI Powered                                     News                                 Strategy Analytics: 71  of Smartphones Sold Globally in 2021 will be AI Powered                     7 hours ago              , BOSTON BUSINESS WIRE Strategy Analytics in a newly published report...</td>\n",
       "    </tr>\n",
       "    <tr>\n",
       "      <th>4</th>\n",
       "      <td>http://www.itbusinessnet.com/2020/10/olympus-to-support-endoscopic-ai-diagnosis-education-for-doctors-in-india-and-to-launch-ai-diagnostic-support-application/?utm_source=rss&amp;utm_medium=rss&amp;utm_campaign=olympus-to-support-endoscopic-ai-diagnosis-education-for-doctors-in-india-and-to-launch-ai-diagnostic-support-application</td>\n",
       "      <td>2020-10-20</td>\n",
       "      <td>en</td>\n",
       "      <td>Olympus to Support Endoscopic AI Diagnosis Education for Doctors in India and to Launch AI Diagnostic Support Application | | IT Business Net</td>\n",
       "      <td>\\n\\nOlympus to Support Endoscopic AI Diagnosis Education for Doctors in India and to Launch AI Diagnostic Support Application | | IT Business Net\\n \\nSkip to content\\n\\nIT Business Net\\n\\nNews for IT Professionals\\nPrimary Menu\\n\\nIT Business Net\\nAbout IT Business Net\\n\\nSearch for:\\n \\nHome2020OctoberOlympus to Support Endoscopic AI Diagnosis Education for Doctors in India and to Launch AI Diagnostic Support Application \\n \\n                                 News\\n                          ...</td>\n",
       "      <td>[Search for:   Home2020OctoberOlympus to Support Endoscopic AI Diagnosis Education for Doctors in India and to Launch AI Diagnostic Support Application                                     News                                 Olympus to Support Endoscopic AI Diagnosis Education for Doctors in India and to Launch AI Diagnostic Support Application, TOKYO, Oct 20, 2020    ACN Newswire     Olympus Corporation took part in a ground breaking project as a business promoter, in cooperation with the M...</td>\n",
       "    </tr>\n",
       "  </tbody>\n",
       "</table>\n",
       "</div>"
      ],
      "text/plain": [
       "                                                                                                                                                                                                                                                                                                                                    url   \n",
       "0                                                                                                                                                                                                                                                                                  http://en.people.cn/n3/2021/0318/c90000-9830122.html  \\\n",
       "1                                                                                                                                                                                              http://newsparliament.com/2020/02/27/children-with-autism-saw-their-learning-and-social-skills-boosted-after-playing-with-this-ai-robot/   \n",
       "2                                                                                                                                                                                                                                                                                                      http://www.dataweek.co.za/12835r   \n",
       "3                                                                                                                                                                                                       http://www.homeoffice.consumerelectronicsnet.com/strategy-analytics-71-of-smartphones-sold-globally-in-2021-will-be-ai-powered/   \n",
       "4  http://www.itbusinessnet.com/2020/10/olympus-to-support-endoscopic-ai-diagnosis-education-for-doctors-in-india-and-to-launch-ai-diagnostic-support-application/?utm_source=rss&utm_medium=rss&utm_campaign=olympus-to-support-endoscopic-ai-diagnosis-education-for-doctors-in-india-and-to-launch-ai-diagnostic-support-application   \n",
       "\n",
       "         date language   \n",
       "0  2021-03-18       en  \\\n",
       "1  2020-02-27       en   \n",
       "2  2021-03-26       en   \n",
       "3  2021-03-10       en   \n",
       "4  2020-10-20       en   \n",
       "\n",
       "                                                                                                                                           title   \n",
       "0                                                  Artificial intelligence improves parking efficiency in Chinese cities - People's Daily Online  \\\n",
       "1                           Children With Autism Saw Their Learning and Social Skills Boosted After Playing With This AI Robot – News Parliament   \n",
       "2                     Forget ML, AI and Industry 4.0 – obsolescence should be your focus - 26 February 2021 - Test & Rework Solutions - Dataweek   \n",
       "3                                     Strategy Analytics: 71% of Smartphones Sold Globally in 2021 will be AI Powered – Consumer Electronics Net   \n",
       "4  Olympus to Support Endoscopic AI Diagnosis Education for Doctors in India and to Launch AI Diagnostic Support Application | | IT Business Net   \n",
       "\n",
       "                                                                                                                                                                                                                                                                                                                                                                                                                                                                                                                  text   \n",
       "0  \\n\\nArtificial intelligence improves parking efficiency in Chinese cities - People's Daily Online\\n\\nHome\\nChina Politics\\nForeign Affairs\\nOpinions\\nVideo: We Are China\\nBusiness\\nMilitary\\nWorld\\nSociety\\nCulture\\nTravel\\nScience\\nSports\\nPhoto\\n\\nLanguages\\n\\nChinese\\nJapanese\\nFrench\\nSpanish\\nRussian\\nArabic\\nKorean\\nGerman\\nPortuguese\\nThursday, March 18, 2021\\nHome>>\\n\\t\\t\\nArtificial intelligence improves parking efficiency in Chinese cities\\nBy Liu Shiyao (People's Daily) 09:16, Mar...  \\\n",
       "1  \\nChildren With Autism Saw Their Learning and Social Skills Boosted After Playing With This AI Robot – News Parliament\\n \\n\\nSkip to content\\n\\t\\t\\tThursday, February 27, 2020\\t\\t\\n\\nLatest:\\n\\n\\nMansplaining in conferences: How can we get him to forestall?\\n\\n\\nDrax power station to cease burning coal in March 2021\\n\\n\\nCoronavirus Could Explode in the U.S. Overnight Like it Did in Italy\\n\\n\\nCoronavirus: Dettol sales surge as markets fall again\\n\\n\\nLevi Strauss marks the next phase in cor...   \n",
       "2  \\n\\nForget ML, AI and Industry 4.0 – obsolescence should be your focus - 26 February 2021 - Test & Rework Solutions - Dataweek\\nHome\\nAbout us\\nBack issues / E-book / PDF\\nEMP Handbook\\nSubscribe\\nAdvertise\\n\\nCategories\\n\\n▸ Editor's Choice\\n▸ Multimedia, Videos\\n▸ Analogue, Mixed Signal, LSI\\n▸ Circuit & System Protection\\n▸ Computer/Embedded Technology\\n▸ Design Automation\\n▸ DSP, Micros & Memory\\n▸ Electronics Technology\\n▸ Enclosures, Racks, Cabinets & Panel Products\\n▸ Events\\n▸ Interc...   \n",
       "3  \\n\\nStrategy Analytics: 71% of Smartphones Sold Globally in 2021 will be AI Powered – Consumer Electronics Net\\n \\nSkip to content\\n\\nConsumer Electronics Net\\n\\nPrimary Menu\\n\\nConsumer Electronics Net\\n\\nSearch for:\\n \\nHomeNewsStrategy Analytics: 71% of Smartphones Sold Globally in 2021 will be AI Powered \\n \\n                                 News\\n                             \\n \\nStrategy Analytics: 71% of Smartphones Sold Globally in 2021 will be AI Powered\\n                    7 hours...   \n",
       "4  \\n\\nOlympus to Support Endoscopic AI Diagnosis Education for Doctors in India and to Launch AI Diagnostic Support Application | | IT Business Net\\n \\nSkip to content\\n\\nIT Business Net\\n\\nNews for IT Professionals\\nPrimary Menu\\n\\nIT Business Net\\nAbout IT Business Net\\n\\nSearch for:\\n \\nHome2020OctoberOlympus to Support Endoscopic AI Diagnosis Education for Doctors in India and to Launch AI Diagnostic Support Application \\n \\n                                 News\\n                          ...   \n",
       "\n",
       "                                                                                                                                                                                                                                                                                                                                                                                                                                                                                                   text_split_filtered  \n",
       "0  [Chinese Japanese French Spanish Russian Arabic Korean German Portuguese Thursday, March 18, 2021 Home     Artificial intelligence improves parking efficiency in Chinese cities By Liu Shiyao  People's Daily  09:16, March 18, 2021 Photo taken on July 1, 2019, shows a sign for electronic toll collection  ETC  newly set up at a roadside parking space on Yangzhuang road, Shijingshan district, Beijing. Some urban areas of the city started to use ETC system for roadside parking spaces since July 1...  \n",
       "1  [ Children With Autism Saw Their Learning and Social Skills Boosted After Playing With This AI Robot   News Parliament  ,        Children With Autism Saw Their Learning and Social Skills Boosted After Playing With This AI Robot     ,   Author Recent Posts   admin  Latest posts by admin  see all   Mansplaining in conferences: How can we get him to forestall?   February 27, 2020   Coronavirus Could Explode in the U.S. Overnight Like it Did in Italy   February 27, 2020   Levi Strauss marks the ...  \n",
       "2  [Forget ML, AI and Industry 4.0   obsolescence should be your focus   26 February 2021   Test   Rework Solutions   Dataweek Home About us Back issues / E book / PDF EMP Handbook Subscribe Advertise,   Editor's Choice   Multimedia, Videos   Analogue, Mixed Signal, LSI   Circuit   System Protection   Computer/Embedded Technology   Design Automation   DSP, Micros   Memory   Electronics Technology   Enclosures, Racks, Cabinets   Panel Products   Events   Interconnection   Manufacturing / Product...  \n",
       "3  [Strategy Analytics: 71  of Smartphones Sold Globally in 2021 will be AI Powered   Consumer Electronics Net   Skip to content, Search for:   HomeNewsStrategy Analytics: 71  of Smartphones Sold Globally in 2021 will be AI Powered                                     News                                 Strategy Analytics: 71  of Smartphones Sold Globally in 2021 will be AI Powered                     7 hours ago              , BOSTON BUSINESS WIRE Strategy Analytics in a newly published report...  \n",
       "4  [Search for:   Home2020OctoberOlympus to Support Endoscopic AI Diagnosis Education for Doctors in India and to Launch AI Diagnostic Support Application                                     News                                 Olympus to Support Endoscopic AI Diagnosis Education for Doctors in India and to Launch AI Diagnostic Support Application, TOKYO, Oct 20, 2020    ACN Newswire     Olympus Corporation took part in a ground breaking project as a business promoter, in cooperation with the M...  "
      ]
     },
     "execution_count": 16,
     "metadata": {},
     "output_type": "execute_result"
    }
   ],
   "source": [
    "#df.to_parquet('checkpoint_0512_sent_split.parquet', index=False)\n",
    "df = pd.read_parquet(path_bucket, engine='pyarrow')\n",
    "df.head()"
   ]
  },
  {
   "cell_type": "code",
   "execution_count": 17,
   "metadata": {
    "tags": []
   },
   "outputs": [
    {
     "data": {
      "text/plain": [
       "(200332, 6)"
      ]
     },
     "execution_count": 17,
     "metadata": {},
     "output_type": "execute_result"
    }
   ],
   "source": [
    "df.shape"
   ]
  },
  {
   "cell_type": "code",
   "execution_count": null,
   "metadata": {},
   "outputs": [],
   "source": []
  },
  {
   "cell_type": "code",
   "execution_count": null,
   "metadata": {
    "id": "XSPYpwWz7-Jg"
   },
   "outputs": [],
   "source": [
    "# import spacy\n",
    "# import spacy.cli\n",
    "# spacy.cli.download(\"en_core_web_md\")\n",
    "# nlp = spacy.load(\"en_core_web_md\")"
   ]
  }
 ],
 "metadata": {
  "colab": {
   "provenance": []
  },
  "environment": {
   "kernel": "python39",
   "name": "pytorch-gpu.1-13.m108",
   "type": "gcloud",
   "uri": "gcr.io/deeplearning-platform-release/pytorch-gpu.1-13:m108"
  },
  "kernelspec": {
   "display_name": "Python 3 (ipykernel)",
   "language": "python",
   "name": "python3"
  },
  "language_info": {
   "codemirror_mode": {
    "name": "ipython",
    "version": 3
   },
   "file_extension": ".py",
   "mimetype": "text/x-python",
   "name": "python",
   "nbconvert_exporter": "python",
   "pygments_lexer": "ipython3",
   "version": "3.10.10"
  }
 },
 "nbformat": 4,
 "nbformat_minor": 4
}
