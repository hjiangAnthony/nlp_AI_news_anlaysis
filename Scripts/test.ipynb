{
 "cells": [
  {
   "attachments": {},
   "cell_type": "markdown",
   "id": "18679008-4b02-4fdf-8b2d-16b4f0ae8dad",
   "metadata": {},
   "source": [
    "Notes\n",
    "\n",
    "1. [Explanations of SSH config for connecting to GCP](https://medium.com/@gratipine/explanations-of-ssh-config-for-connecting-to-gcp-ed913bd83b0d)\n",
    "2. [SSH to GCP Instance as Root User](https://www.suyogjadhav.com/misc/2019/09/07/SSH-to-GCP-as-root-from-Local-Machine/)\n",
    "3. [Connect VSCode to GCP VM](https://medium.com/google-cloud/choose-the-ide-you-want-and-develop-on-vertex-ai-workbench-part-i-94d19ca1d2ff)\n",
    "\n",
    "Test on edit and save\n",
    "check 2\n",
    "\n",
    "Use the following to gain acces to edit and save\n",
    "```\n",
    "sudo chown -R anthony /home/jupyter/nlp_final_scripts\n",
    "```"
   ]
  }
 ],
 "metadata": {
  "environment": {
   "kernel": "python3",
   "name": "pytorch-gpu.1-13.m108",
   "type": "gcloud",
   "uri": "gcr.io/deeplearning-platform-release/pytorch-gpu.1-13:m108"
  },
  "kernelspec": {
   "display_name": "Python [conda env:root] *",
   "language": "python",
   "name": "conda-root-py"
  },
  "language_info": {
   "codemirror_mode": {
    "name": "ipython",
    "version": 3
   },
   "file_extension": ".py",
   "mimetype": "text/x-python",
   "name": "python",
   "nbconvert_exporter": "python",
   "pygments_lexer": "ipython3",
   "version": "3.10.10"
  }
 },
 "nbformat": 4,
 "nbformat_minor": 5
}
