{
 "cells": [
  {
   "attachments": {},
   "cell_type": "markdown",
   "metadata": {},
   "source": [
    "## Set-up"
   ]
  },
  {
   "cell_type": "code",
   "execution_count": 1,
   "metadata": {},
   "outputs": [
    {
     "name": "stdout",
     "output_type": "stream",
     "text": [
      "INFO: Pandarallel will run on 12 workers.\n",
      "INFO: Pandarallel will use Memory file system to transfer data between the main process and workers.\n"
     ]
    }
   ],
   "source": [
    "import pandas as pd\n",
    "\n",
    "import warnings\n",
    "warnings.filterwarnings(\"ignore\")\n",
    "\n",
    "from pprint import pprint\n",
    "import re\n",
    "from tqdm import tqdm\n",
    "tqdm.pandas()\n",
    "import numpy as np\n",
    "\n",
    "from pandarallel import pandarallel\n",
    "pandarallel.initialize(nb_workers=12, progress_bar=True)\n",
    "\n",
    "import pandas as pd\n",
    "pd.set_option('display.max_rows', 100)\n",
    "pd.set_option('display.max_columns', None)\n",
    "pd.set_option('display.max_colwidth', 500)\n",
    "\n",
    "import warnings\n",
    "warnings.filterwarnings(\"ignore\")"
   ]
  },
  {
   "cell_type": "code",
   "execution_count": 2,
   "metadata": {},
   "outputs": [
    {
     "name": "stdout",
     "output_type": "stream",
     "text": [
      "/home/anthony/projects/nlp_runtime\n"
     ]
    }
   ],
   "source": [
    "#!pwd\n",
    "import os\n",
    "\n",
    "# Google Bucket\n",
    "# file name checkpoint_0512_sent_split.parquet\n",
    "path_bucket = 'gs://msca-sp23-bucket/nlp_data'\n",
    "runtime_path = '/home/anthony/projects/nlp_runtime'\n",
    "bucket_read = path_bucket + '/' + 'checkpoint_0525_full_article_split.parquet'\n",
    "\n",
    "os.chdir(runtime_path)\n",
    "print(os.getcwd())"
   ]
  },
  {
   "cell_type": "code",
   "execution_count": 3,
   "metadata": {},
   "outputs": [
    {
     "name": "stderr",
     "output_type": "stream",
     "text": [
      "2023-05-25 20:55:50.882505: I tensorflow/core/platform/cpu_feature_guard.cc:182] This TensorFlow binary is optimized to use available CPU instructions in performance-critical operations.\n",
      "To enable the following instructions: AVX2 FMA, in other operations, rebuild TensorFlow with the appropriate compiler flags.\n",
      "2023-05-25 20:55:51.793787: W tensorflow/compiler/tf2tensorrt/utils/py_utils.cc:38] TF-TRT Warning: Could not find TensorRT\n"
     ]
    }
   ],
   "source": [
    "import spacy"
   ]
  },
  {
   "cell_type": "code",
   "execution_count": 4,
   "metadata": {},
   "outputs": [],
   "source": [
    "import en_core_web_md\n",
    "nlp = spacy.load(\"en_core_web_md\")"
   ]
  },
  {
   "attachments": {},
   "cell_type": "markdown",
   "metadata": {},
   "source": [
    "## Preparation"
   ]
  },
  {
   "cell_type": "code",
   "execution_count": 5,
   "metadata": {},
   "outputs": [
    {
     "data": {
      "text/html": [
       "<div>\n",
       "<style scoped>\n",
       "    .dataframe tbody tr th:only-of-type {\n",
       "        vertical-align: middle;\n",
       "    }\n",
       "\n",
       "    .dataframe tbody tr th {\n",
       "        vertical-align: top;\n",
       "    }\n",
       "\n",
       "    .dataframe thead th {\n",
       "        text-align: right;\n",
       "    }\n",
       "</style>\n",
       "<table border=\"1\" class=\"dataframe\">\n",
       "  <thead>\n",
       "    <tr style=\"text-align: right;\">\n",
       "      <th></th>\n",
       "      <th>url</th>\n",
       "      <th>date</th>\n",
       "      <th>title</th>\n",
       "      <th>text_cleaned</th>\n",
       "      <th>article_topic</th>\n",
       "      <th>domain</th>\n",
       "      <th>article_id</th>\n",
       "      <th>sentences</th>\n",
       "      <th>entities</th>\n",
       "    </tr>\n",
       "  </thead>\n",
       "  <tbody>\n",
       "    <tr>\n",
       "      <th>0</th>\n",
       "      <td>https://theenterpriseleader.com/2020/01/01/decentralized-machine-learning-reaches-market-cap-of-15919-00-dml.html</td>\n",
       "      <td>2020-01-01</td>\n",
       "      <td>Decentralized Machine Learning Reaches Market Cap of $15,919.00 (DML) - Enterprise Leader</td>\n",
       "      <td>Decentralized Machine Learning Reaches Market Cap of 15,919.00 DML Enterprise Leader Daily Ratings News for Decentralized Machine Learning Complete the form below to receive the latest headlines and analysts' mendations for Decentralized Machine Learning with our free daily email newsletter: Follow EnterpriseLeade Recent Posts GE Announces Its Plan To Sell The Distributed Power Business To Advent International Ebang Communication Resorts To The Filing Of An IPO In Hong Kong How to Open DAA, ...</td>\n",
       "      <td>3</td>\n",
       "      <td>theenterpriseleader.com</td>\n",
       "      <td>1</td>\n",
       "      <td>[Decentralized Machine Learning Reaches Market Cap of 15,919.00 DML Enterprise Leader Daily Ratings News for Decentralized Machine Learning Complete the form below to receive the latest headlines and analysts' mendations for Decentralized Machine Learning with our free daily email newsletter: Follow EnterpriseLeade Recent Posts GE Announces Its Plan To Sell The Distributed Power Business To Advent International Ebang Communication Resorts To The Filing Of An IPO In Hong Kong How to Open DAA,...</td>\n",
       "      <td>[[Decentralized Machine Learning Reaches Market Cap, ORG], [Decentralized Machine Learning, ORG], [Hong Kong, GPE], [NRG, ORG], [IMG, ORG], [Mistake Foxconn Launches Investigation After Reports Of Harsh Working Conditions, ORG], [Flagstar Bancorp, ORG], [Wells Fargo UK, ORG], [Royal Bank Of Scotland RBS, ORG], [France, GPE], [China, GPE], [FII IPO Uber, ORG], [Paris Deutsche Bank Plans To Slash, ORG], [Samsung, ORG], [Apple Back In Court, ORG], [Apple, ORG], [Goldman Sachs, ORG], [JPMorgan C...</td>\n",
       "    </tr>\n",
       "    <tr>\n",
       "      <th>1</th>\n",
       "      <td>https://marketreportobserver.com/artificial-intelligence-ai-in-marketing-market-scope-size-share-trends-forecast-by-2026/</td>\n",
       "      <td>2020-01-01</td>\n",
       "      <td>Artificial Intelligence (AI) in Marketing Market Scope, Size, Share, Trends, Forecast by 2026 – Market Reports Observer</td>\n",
       "      <td>Artificial Intelligence AI in Marketing Market Scope, Size, Share, Trends, Forecast by 2026 Market Reports Observer Skip to content 488 E 11th Ave, Eugene, OR 97401, USA 1 541 687 2347 email protected Market Reports Observer Artificial intelligence AI is the ability to process information in a way similar to the thought process of humans in learning, decision making, and problem solving. Enterprises are now identifying the value associated with integrating AI into their business processes. ...</td>\n",
       "      <td>1</td>\n",
       "      <td>marketreportobserver.com</td>\n",
       "      <td>2</td>\n",
       "      <td>[ Artificial Intelligence AI in Marketing Market Scope, Size, Share, Trends, Forecast by 2026 Market Reports Observer Skip to content 488 E 11th Ave, Eugene, OR 97401, USA 1 541 687 2347 email protected Market Reports Observer Artificial intelligence AI is the ability to process information in a way similar to the thought process of humans in learning, decision making, and problem solving., Enterprises are now identifying the value associated with integrating AI into their business processes...</td>\n",
       "      <td>[[USA, GPE], [Market Reports Observer Artificial, ORG], [North America, LOC], [South America, LOC], [Europe, LOC], [Asia Pacific, LOC], [Middle East Africa, LOC], [North America, LOC], [North America, LOC], [Asia Pacific, LOC], [Japan, GPE], [China, GPE], [India, GPE], [Europe, LOC], [Middle East Africa, LOC], [South America, LOC], [Artificial Intelligence AI in Marketing Market, ORG], [IBM Corporation, ORG], [Google Inc., ORG], [Intel Corporation, ORG], [Microsoft Corporation, ORG], [NVIDIA...</td>\n",
       "    </tr>\n",
       "    <tr>\n",
       "      <th>2</th>\n",
       "      <td>https://www.themarketsdaily.com/2020/01/01/lisk-machine-learning-24-hour-trading-volume-tops-10-00-lml.html</td>\n",
       "      <td>2020-01-01</td>\n",
       "      <td>Lisk Machine Learning 24 Hour Trading Volume Tops $10.00 (LML) - Markets Daily</td>\n",
       "      <td>Lisk Machine Learning 24 Hour Trading Volume Tops 10.00 LML Markets Daily Home Privacy Policy About/ Contact Business Stocks Technology Health Lifestyle Politics Daily Ratings News for Lisk Machine Learning Complete the form below to receive the latest headlines and analysts' mendations for Lisk Machine Learning with our free daily email newsletter: Follow TheMarketsDaily Recent Posts TERA Price Down 14.5 Over Last 7 Days TERA Mindexcoin MIC Hits 1 Day Trading Volume of 1,347.00 Garlicoin G...</td>\n",
       "      <td>5</td>\n",
       "      <td>themarketsdaily.com</td>\n",
       "      <td>3</td>\n",
       "      <td>[ Lisk Machine Learning 24 Hour Trading Volume Tops 10.00 LML Markets Daily Home Privacy Policy About/ Contact Business Stocks Technology Health Lifestyle Politics Daily Ratings News for Lisk Machine Learning Complete the form below to receive the latest headlines and analysts' mendations for Lisk Machine Learning with our free daily email newsletter: Follow TheMarketsDaily Recent Posts TERA Price Down 14.5 Over Last 7 Days TERA Mindexcoin MIC Hits 1 Day Trading Volume of 1,347.00 Garlicoin ...</td>\n",
       "      <td>[[Lisk Machine Learning, ORG], [Lisk Machine Learning Complete, ORG], [Lisk Machine Learning, ORG], [Garlicoin GRLC Market Capitalization Achieves, ORG], [EVBG, ORG], [BroadVision NASDAQ, ORG], [BVSN Denny s Corp NASDAQ, ORG], [Teradyne, ORG], [TER, ORG], [Community Trust Bancorp, ORG], [LML, ORG], [US, GPE], [Lisk Machine Learning, ORG], [Lisk Machine Learning, ORG], [Lisk Machine Learning, ORG], [US, GPE], [Lisk Machine Learning, ORG], [Bitcoin SV BSV, ORG], [TRON TRX, ORG], [Neo NEO, ORG]...</td>\n",
       "    </tr>\n",
       "  </tbody>\n",
       "</table>\n",
       "</div>"
      ],
      "text/plain": [
       "                                                                                                                         url   \n",
       "0          https://theenterpriseleader.com/2020/01/01/decentralized-machine-learning-reaches-market-cap-of-15919-00-dml.html  \\\n",
       "1  https://marketreportobserver.com/artificial-intelligence-ai-in-marketing-market-scope-size-share-trends-forecast-by-2026/   \n",
       "2                https://www.themarketsdaily.com/2020/01/01/lisk-machine-learning-24-hour-trading-volume-tops-10-00-lml.html   \n",
       "\n",
       "        date   \n",
       "0 2020-01-01  \\\n",
       "1 2020-01-01   \n",
       "2 2020-01-01   \n",
       "\n",
       "                                                                                                                     title   \n",
       "0                                Decentralized Machine Learning Reaches Market Cap of $15,919.00 (DML) - Enterprise Leader  \\\n",
       "1  Artificial Intelligence (AI) in Marketing Market Scope, Size, Share, Trends, Forecast by 2026 – Market Reports Observer   \n",
       "2                                           Lisk Machine Learning 24 Hour Trading Volume Tops $10.00 (LML) - Markets Daily   \n",
       "\n",
       "                                                                                                                                                                                                                                                                                                                                                                                                                                                                                                          text_cleaned   \n",
       "0  Decentralized Machine Learning Reaches Market Cap of 15,919.00 DML Enterprise Leader Daily Ratings News for Decentralized Machine Learning Complete the form below to receive the latest headlines and analysts' mendations for Decentralized Machine Learning with our free daily email newsletter: Follow EnterpriseLeade Recent Posts GE Announces Its Plan To Sell The Distributed Power Business To Advent International Ebang Communication Resorts To The Filing Of An IPO In Hong Kong How to Open DAA, ...  \\\n",
       "1   Artificial Intelligence AI in Marketing Market Scope, Size, Share, Trends, Forecast by 2026 Market Reports Observer Skip to content 488 E 11th Ave, Eugene, OR 97401, USA 1 541 687 2347 email protected Market Reports Observer Artificial intelligence AI is the ability to process information in a way similar to the thought process of humans in learning, decision making, and problem solving. Enterprises are now identifying the value associated with integrating AI into their business processes. ...   \n",
       "2   Lisk Machine Learning 24 Hour Trading Volume Tops 10.00 LML Markets Daily Home Privacy Policy About/ Contact Business Stocks Technology Health Lifestyle Politics Daily Ratings News for Lisk Machine Learning Complete the form below to receive the latest headlines and analysts' mendations for Lisk Machine Learning with our free daily email newsletter: Follow TheMarketsDaily Recent Posts TERA Price Down 14.5 Over Last 7 Days TERA Mindexcoin MIC Hits 1 Day Trading Volume of 1,347.00 Garlicoin G...   \n",
       "\n",
       "   article_topic                    domain  article_id   \n",
       "0              3   theenterpriseleader.com           1  \\\n",
       "1              1  marketreportobserver.com           2   \n",
       "2              5       themarketsdaily.com           3   \n",
       "\n",
       "                                                                                                                                                                                                                                                                                                                                                                                                                                                                                                             sentences   \n",
       "0  [Decentralized Machine Learning Reaches Market Cap of 15,919.00 DML Enterprise Leader Daily Ratings News for Decentralized Machine Learning Complete the form below to receive the latest headlines and analysts' mendations for Decentralized Machine Learning with our free daily email newsletter: Follow EnterpriseLeade Recent Posts GE Announces Its Plan To Sell The Distributed Power Business To Advent International Ebang Communication Resorts To The Filing Of An IPO In Hong Kong How to Open DAA,...  \\\n",
       "1  [ Artificial Intelligence AI in Marketing Market Scope, Size, Share, Trends, Forecast by 2026 Market Reports Observer Skip to content 488 E 11th Ave, Eugene, OR 97401, USA 1 541 687 2347 email protected Market Reports Observer Artificial intelligence AI is the ability to process information in a way similar to the thought process of humans in learning, decision making, and problem solving., Enterprises are now identifying the value associated with integrating AI into their business processes...   \n",
       "2  [ Lisk Machine Learning 24 Hour Trading Volume Tops 10.00 LML Markets Daily Home Privacy Policy About/ Contact Business Stocks Technology Health Lifestyle Politics Daily Ratings News for Lisk Machine Learning Complete the form below to receive the latest headlines and analysts' mendations for Lisk Machine Learning with our free daily email newsletter: Follow TheMarketsDaily Recent Posts TERA Price Down 14.5 Over Last 7 Days TERA Mindexcoin MIC Hits 1 Day Trading Volume of 1,347.00 Garlicoin ...   \n",
       "\n",
       "                                                                                                                                                                                                                                                                                                                                                                                                                                                                                                              entities  \n",
       "0  [[Decentralized Machine Learning Reaches Market Cap, ORG], [Decentralized Machine Learning, ORG], [Hong Kong, GPE], [NRG, ORG], [IMG, ORG], [Mistake Foxconn Launches Investigation After Reports Of Harsh Working Conditions, ORG], [Flagstar Bancorp, ORG], [Wells Fargo UK, ORG], [Royal Bank Of Scotland RBS, ORG], [France, GPE], [China, GPE], [FII IPO Uber, ORG], [Paris Deutsche Bank Plans To Slash, ORG], [Samsung, ORG], [Apple Back In Court, ORG], [Apple, ORG], [Goldman Sachs, ORG], [JPMorgan C...  \n",
       "1  [[USA, GPE], [Market Reports Observer Artificial, ORG], [North America, LOC], [South America, LOC], [Europe, LOC], [Asia Pacific, LOC], [Middle East Africa, LOC], [North America, LOC], [North America, LOC], [Asia Pacific, LOC], [Japan, GPE], [China, GPE], [India, GPE], [Europe, LOC], [Middle East Africa, LOC], [South America, LOC], [Artificial Intelligence AI in Marketing Market, ORG], [IBM Corporation, ORG], [Google Inc., ORG], [Intel Corporation, ORG], [Microsoft Corporation, ORG], [NVIDIA...  \n",
       "2  [[Lisk Machine Learning, ORG], [Lisk Machine Learning Complete, ORG], [Lisk Machine Learning, ORG], [Garlicoin GRLC Market Capitalization Achieves, ORG], [EVBG, ORG], [BroadVision NASDAQ, ORG], [BVSN Denny s Corp NASDAQ, ORG], [Teradyne, ORG], [TER, ORG], [Community Trust Bancorp, ORG], [LML, ORG], [US, GPE], [Lisk Machine Learning, ORG], [Lisk Machine Learning, ORG], [Lisk Machine Learning, ORG], [US, GPE], [Lisk Machine Learning, ORG], [Bitcoin SV BSV, ORG], [TRON TRX, ORG], [Neo NEO, ORG]...  "
      ]
     },
     "execution_count": 5,
     "metadata": {},
     "output_type": "execute_result"
    }
   ],
   "source": [
    "df_raw = pd.read_parquet(bucket_read, engine='pyarrow')\n",
    "df_raw.head(3)"
   ]
  },
  {
   "attachments": {},
   "cell_type": "markdown",
   "metadata": {},
   "source": [
    "## Quick look at sentences and entities"
   ]
  },
  {
   "attachments": {},
   "cell_type": "markdown",
   "metadata": {},
   "source": [
    "Structure of columns: sentences, entities"
   ]
  },
  {
   "cell_type": "code",
   "execution_count": 6,
   "metadata": {},
   "outputs": [],
   "source": [
    "test = df_raw.head(1)\n",
    "sents = test['sentences'].values[0]\n",
    "entities = test['entities'].values[0]"
   ]
  },
  {
   "cell_type": "code",
   "execution_count": 7,
   "metadata": {},
   "outputs": [
    {
     "name": "stdout",
     "output_type": "stream",
     "text": [
      "Number of null values in sentences: 0\n",
      "Number of null values in entities: 0\n"
     ]
    }
   ],
   "source": [
    "# check null / nan value in the two columns\n",
    "print(f'Number of null values in sentences: {df_raw[\"sentences\"].isnull().sum()}')\n",
    "print(f'Number of null values in entities: {df_raw[\"entities\"].isnull().sum()}')"
   ]
  },
  {
   "cell_type": "code",
   "execution_count": 8,
   "metadata": {},
   "outputs": [
    {
     "name": "stdout",
     "output_type": "stream",
     "text": [
      "There are 28 sentences for article 1\n",
      "There are 60 entities for article 1\n"
     ]
    }
   ],
   "source": [
    "print(f'There are {len(sents)} sentences for article 1')\n",
    "print(f'There are {len(entities)} entities for article 1')"
   ]
  },
  {
   "attachments": {},
   "cell_type": "markdown",
   "metadata": {},
   "source": [
    "## Breakdown by sentences"
   ]
  },
  {
   "cell_type": "code",
   "execution_count": 9,
   "metadata": {},
   "outputs": [
    {
     "data": {
      "text/html": [
       "<div>\n",
       "<style scoped>\n",
       "    .dataframe tbody tr th:only-of-type {\n",
       "        vertical-align: middle;\n",
       "    }\n",
       "\n",
       "    .dataframe tbody tr th {\n",
       "        vertical-align: top;\n",
       "    }\n",
       "\n",
       "    .dataframe thead th {\n",
       "        text-align: right;\n",
       "    }\n",
       "</style>\n",
       "<table border=\"1\" class=\"dataframe\">\n",
       "  <thead>\n",
       "    <tr style=\"text-align: right;\">\n",
       "      <th></th>\n",
       "      <th>date</th>\n",
       "      <th>title</th>\n",
       "      <th>article_id</th>\n",
       "      <th>sentences</th>\n",
       "    </tr>\n",
       "  </thead>\n",
       "  <tbody>\n",
       "    <tr>\n",
       "      <th>0</th>\n",
       "      <td>2020-01-01</td>\n",
       "      <td>Decentralized Machine Learning Reaches Market Cap of $15,919.00 (DML) - Enterprise Leader</td>\n",
       "      <td>1</td>\n",
       "      <td>[Decentralized Machine Learning Reaches Market Cap of 15,919.00 DML Enterprise Leader Daily Ratings News for Decentralized Machine Learning Complete the form below to receive the latest headlines and analysts' mendations for Decentralized Machine Learning with our free daily email newsletter: Follow EnterpriseLeade Recent Posts GE Announces Its Plan To Sell The Distributed Power Business To Advent International Ebang Communication Resorts To The Filing Of An IPO In Hong Kong How to Open DAA,...</td>\n",
       "    </tr>\n",
       "    <tr>\n",
       "      <th>1</th>\n",
       "      <td>2020-01-01</td>\n",
       "      <td>Artificial Intelligence (AI) in Marketing Market Scope, Size, Share, Trends, Forecast by 2026 – Market Reports Observer</td>\n",
       "      <td>2</td>\n",
       "      <td>[ Artificial Intelligence AI in Marketing Market Scope, Size, Share, Trends, Forecast by 2026 Market Reports Observer Skip to content 488 E 11th Ave, Eugene, OR 97401, USA 1 541 687 2347 email protected Market Reports Observer Artificial intelligence AI is the ability to process information in a way similar to the thought process of humans in learning, decision making, and problem solving., Enterprises are now identifying the value associated with integrating AI into their business processes...</td>\n",
       "    </tr>\n",
       "    <tr>\n",
       "      <th>2</th>\n",
       "      <td>2020-01-01</td>\n",
       "      <td>Lisk Machine Learning 24 Hour Trading Volume Tops $10.00 (LML) - Markets Daily</td>\n",
       "      <td>3</td>\n",
       "      <td>[ Lisk Machine Learning 24 Hour Trading Volume Tops 10.00 LML Markets Daily Home Privacy Policy About/ Contact Business Stocks Technology Health Lifestyle Politics Daily Ratings News for Lisk Machine Learning Complete the form below to receive the latest headlines and analysts' mendations for Lisk Machine Learning with our free daily email newsletter: Follow TheMarketsDaily Recent Posts TERA Price Down 14.5 Over Last 7 Days TERA Mindexcoin MIC Hits 1 Day Trading Volume of 1,347.00 Garlicoin ...</td>\n",
       "    </tr>\n",
       "  </tbody>\n",
       "</table>\n",
       "</div>"
      ],
      "text/plain": [
       "        date   \n",
       "0 2020-01-01  \\\n",
       "1 2020-01-01   \n",
       "2 2020-01-01   \n",
       "\n",
       "                                                                                                                     title   \n",
       "0                                Decentralized Machine Learning Reaches Market Cap of $15,919.00 (DML) - Enterprise Leader  \\\n",
       "1  Artificial Intelligence (AI) in Marketing Market Scope, Size, Share, Trends, Forecast by 2026 – Market Reports Observer   \n",
       "2                                           Lisk Machine Learning 24 Hour Trading Volume Tops $10.00 (LML) - Markets Daily   \n",
       "\n",
       "   article_id   \n",
       "0           1  \\\n",
       "1           2   \n",
       "2           3   \n",
       "\n",
       "                                                                                                                                                                                                                                                                                                                                                                                                                                                                                                             sentences  \n",
       "0  [Decentralized Machine Learning Reaches Market Cap of 15,919.00 DML Enterprise Leader Daily Ratings News for Decentralized Machine Learning Complete the form below to receive the latest headlines and analysts' mendations for Decentralized Machine Learning with our free daily email newsletter: Follow EnterpriseLeade Recent Posts GE Announces Its Plan To Sell The Distributed Power Business To Advent International Ebang Communication Resorts To The Filing Of An IPO In Hong Kong How to Open DAA,...  \n",
       "1  [ Artificial Intelligence AI in Marketing Market Scope, Size, Share, Trends, Forecast by 2026 Market Reports Observer Skip to content 488 E 11th Ave, Eugene, OR 97401, USA 1 541 687 2347 email protected Market Reports Observer Artificial intelligence AI is the ability to process information in a way similar to the thought process of humans in learning, decision making, and problem solving., Enterprises are now identifying the value associated with integrating AI into their business processes...  \n",
       "2  [ Lisk Machine Learning 24 Hour Trading Volume Tops 10.00 LML Markets Daily Home Privacy Policy About/ Contact Business Stocks Technology Health Lifestyle Politics Daily Ratings News for Lisk Machine Learning Complete the form below to receive the latest headlines and analysts' mendations for Lisk Machine Learning with our free daily email newsletter: Follow TheMarketsDaily Recent Posts TERA Price Down 14.5 Over Last 7 Days TERA Mindexcoin MIC Hits 1 Day Trading Volume of 1,347.00 Garlicoin ...  "
      ]
     },
     "execution_count": 9,
     "metadata": {},
     "output_type": "execute_result"
    }
   ],
   "source": [
    "# select the necessary columns\n",
    "df_sentences = df_raw[['date','title', 'article_id', 'sentences']]\n",
    "df_sentences.head(3)"
   ]
  },
  {
   "cell_type": "code",
   "execution_count": 10,
   "metadata": {},
   "outputs": [],
   "source": [
    "# explode the dataframe by sentence\n",
    "df_sentences_exp = df_sentences.explode('sentences')"
   ]
  },
  {
   "cell_type": "code",
   "execution_count": 11,
   "metadata": {},
   "outputs": [
    {
     "name": "stdout",
     "output_type": "stream",
     "text": [
      "Previous number of rows: 133258\n",
      "New number of rows: 4489276\n"
     ]
    }
   ],
   "source": [
    "print(f'Previous number of rows: {len(df_sentences)}')\n",
    "print(f'New number of rows: {len(df_sentences_exp)}')"
   ]
  },
  {
   "cell_type": "code",
   "execution_count": 12,
   "metadata": {},
   "outputs": [],
   "source": [
    "# sort by date\n",
    "df_sentences_exp.sort_values(by=['article_id'], inplace=True)"
   ]
  },
  {
   "cell_type": "code",
   "execution_count": 13,
   "metadata": {},
   "outputs": [
    {
     "name": "stdout",
     "output_type": "stream",
     "text": [
      "New number of rows: 2223016\n"
     ]
    }
   ],
   "source": [
    "# drop duplicates\n",
    "df_sentences_exp.drop_duplicates(subset='sentences', inplace=True, keep='first')\n",
    "print(f'New number of rows: {len(df_sentences_exp)}')"
   ]
  },
  {
   "cell_type": "code",
   "execution_count": 14,
   "metadata": {},
   "outputs": [
    {
     "data": {
      "text/html": [
       "<div>\n",
       "<style scoped>\n",
       "    .dataframe tbody tr th:only-of-type {\n",
       "        vertical-align: middle;\n",
       "    }\n",
       "\n",
       "    .dataframe tbody tr th {\n",
       "        vertical-align: top;\n",
       "    }\n",
       "\n",
       "    .dataframe thead th {\n",
       "        text-align: right;\n",
       "    }\n",
       "</style>\n",
       "<table border=\"1\" class=\"dataframe\">\n",
       "  <thead>\n",
       "    <tr style=\"text-align: right;\">\n",
       "      <th></th>\n",
       "      <th>date</th>\n",
       "      <th>title</th>\n",
       "      <th>article_id</th>\n",
       "      <th>sentences</th>\n",
       "    </tr>\n",
       "  </thead>\n",
       "  <tbody>\n",
       "    <tr>\n",
       "      <th>57839</th>\n",
       "      <td>2022-01-18</td>\n",
       "      <td>The Poisson Multinomial Distribution and Its Applications in Voting Theory, Ecological Inference, and Machine Learning - NewsBreak</td>\n",
       "      <td>57840</td>\n",
       "      <td>In spite of this, the use of image analysis in the development of these systems is still recent and underexplored, especially in materials often studied via optical imaging techniques such as liquid crystals.</td>\n",
       "    </tr>\n",
       "    <tr>\n",
       "      <th>47248</th>\n",
       "      <td>2021-10-22</td>\n",
       "      <td>GoldSpot Discoveries Corp.: GoldSpot Discoveries Engaged by Ranchero Gold to Apply AI on the Santa Daniela Project in Sonora Mexico</td>\n",
       "      <td>47249</td>\n",
       "      <td>Our leading team of expert scientist's merge geoscience and data science to deliver bespoke solutions that save time, reduce costs and produce far more accurate results than ever before possible.</td>\n",
       "    </tr>\n",
       "    <tr>\n",
       "      <th>73972</th>\n",
       "      <td>2022-06-29</td>\n",
       "      <td>Artificial Intelligence Investments Will Likely Push Aterian’s Price Up (ATER) | Seeking Alpha</td>\n",
       "      <td>73973</td>\n",
       "      <td>Investors that purchase shares of mon stock during a short squeeze may lose a significant portion or all of their investment.</td>\n",
       "    </tr>\n",
       "    <tr>\n",
       "      <th>21756</th>\n",
       "      <td>2020-12-06</td>\n",
       "      <td>Global Artificial Neural Network Software Market 2026 The leading Industry Players : GMDH, Artificial Intelligence Techniques, Oracle, IBM, Microsoft etc. – Canaan Mountain Herald</td>\n",
       "      <td>21757</td>\n",
       "      <td>USA: 1 972 362 8199 IND: 91 895 659 5155 Post navigation Non Contact Temperature Sales Market Report 2020 Analysis On Trends by various Key Plares: Fluke, Accurate Sensors, OMRON, IFM Electronic, Turck Non Volatile Dual In Line Memory Module NVDIMM Sales Market Report 2020 Current Trends, Future Aspect Analysis by Top Competitors: Viking Technology Inc., AgigA Tech Inc.?,</td>\n",
       "    </tr>\n",
       "    <tr>\n",
       "      <th>7776</th>\n",
       "      <td>2020-04-22</td>\n",
       "      <td>Edge AI Software Market 2020, Global Industry Analysis, Size, Share, Growth, Trends and Forecast - 2025</td>\n",
       "      <td>7777</td>\n",
       "      <td>13Key Players Profiles13.1 IBM13.1.1 IBM Company Details13.1.2 IBM Business Overview and Its Total Revenue13.1.3 IBM Edge AI Software Introduction13.1.4 IBM Revenue in Edge AI Software Business 2015 2020 13.1.5 IBM Recent Development13.2 Microsoft13.2.1 Microsoft Company Details13.2.2 Microsoft Business Overview and Its Total Revenue13.2.3 Microsoft Edge AI Software Introduction13.2.4 Microsoft Revenue in Edge AI Software Business 2015 2020 13.2.5 Microsoft Recent Development13.3 Intel13.3.1...</td>\n",
       "    </tr>\n",
       "  </tbody>\n",
       "</table>\n",
       "</div>"
      ],
      "text/plain": [
       "            date   \n",
       "57839 2022-01-18  \\\n",
       "47248 2021-10-22   \n",
       "73972 2022-06-29   \n",
       "21756 2020-12-06   \n",
       "7776  2020-04-22   \n",
       "\n",
       "                                                                                                                                                                                     title   \n",
       "57839                                                   The Poisson Multinomial Distribution and Its Applications in Voting Theory, Ecological Inference, and Machine Learning - NewsBreak  \\\n",
       "47248                                                  GoldSpot Discoveries Corp.: GoldSpot Discoveries Engaged by Ranchero Gold to Apply AI on the Santa Daniela Project in Sonora Mexico   \n",
       "73972                                                                                       Artificial Intelligence Investments Will Likely Push Aterian’s Price Up (ATER) | Seeking Alpha   \n",
       "21756  Global Artificial Neural Network Software Market 2026 The leading Industry Players : GMDH, Artificial Intelligence Techniques, Oracle, IBM, Microsoft etc. – Canaan Mountain Herald   \n",
       "7776                                                                               Edge AI Software Market 2020, Global Industry Analysis, Size, Share, Growth, Trends and Forecast - 2025   \n",
       "\n",
       "       article_id   \n",
       "57839       57840  \\\n",
       "47248       47249   \n",
       "73972       73973   \n",
       "21756       21757   \n",
       "7776         7777   \n",
       "\n",
       "                                                                                                                                                                                                                                                                                                                                                                                                                                                                                                                 sentences  \n",
       "57839                                                                                                                                                                                                                                                                                                     In spite of this, the use of image analysis in the development of these systems is still recent and underexplored, especially in materials often studied via optical imaging techniques such as liquid crystals.  \n",
       "47248                                                                                                                                                                                                                                                                                                                  Our leading team of expert scientist's merge geoscience and data science to deliver bespoke solutions that save time, reduce costs and produce far more accurate results than ever before possible.  \n",
       "73972                                                                                                                                                                                                                                                                                                                                                                                        Investors that purchase shares of mon stock during a short squeeze may lose a significant portion or all of their investment.  \n",
       "21756                                                                                                                               USA: 1 972 362 8199 IND: 91 895 659 5155 Post navigation Non Contact Temperature Sales Market Report 2020 Analysis On Trends by various Key Plares: Fluke, Accurate Sensors, OMRON, IFM Electronic, Turck Non Volatile Dual In Line Memory Module NVDIMM Sales Market Report 2020 Current Trends, Future Aspect Analysis by Top Competitors: Viking Technology Inc., AgigA Tech Inc.?,  \n",
       "7776   13Key Players Profiles13.1 IBM13.1.1 IBM Company Details13.1.2 IBM Business Overview and Its Total Revenue13.1.3 IBM Edge AI Software Introduction13.1.4 IBM Revenue in Edge AI Software Business 2015 2020 13.1.5 IBM Recent Development13.2 Microsoft13.2.1 Microsoft Company Details13.2.2 Microsoft Business Overview and Its Total Revenue13.2.3 Microsoft Edge AI Software Introduction13.2.4 Microsoft Revenue in Edge AI Software Business 2015 2020 13.2.5 Microsoft Recent Development13.3 Intel13.3.1...  "
      ]
     },
     "execution_count": 14,
     "metadata": {},
     "output_type": "execute_result"
    }
   ],
   "source": [
    "df_sentences_exp.sample(5)"
   ]
  },
  {
   "cell_type": "code",
   "execution_count": 36,
   "metadata": {},
   "outputs": [
    {
     "name": "stdout",
     "output_type": "stream",
     "text": [
      "count   2223016.00\n",
      "mean        281.37\n",
      "std         537.98\n",
      "min           1.00\n",
      "25%         101.00\n",
      "50%         156.00\n",
      "75%         246.00\n",
      "max       46098.00\n",
      "Name: sentences, dtype: float64\n"
     ]
    }
   ],
   "source": [
    "# Get the description of the sentence lengths\n",
    "sent_len = df_sentences_exp['sentences'].str.len().describe()\n",
    "\n",
    "# Convert scientific notation to actual number format\n",
    "pd.options.display.float_format = '{:.2f}'.format\n",
    "\n",
    "# Print the updated description\n",
    "print(sent_len)"
   ]
  },
  {
   "cell_type": "code",
   "execution_count": 21,
   "metadata": {},
   "outputs": [
    {
     "data": {
      "application/vnd.jupyter.widget-view+json": {
       "model_id": "70f4d763c47d4af089f32736f40459a8",
       "version_major": 2,
       "version_minor": 0
      },
      "text/plain": [
       "Downloading (…)okenizer_config.json:   0%|          | 0.00/333 [00:00<?, ?B/s]"
      ]
     },
     "metadata": {},
     "output_type": "display_data"
    },
    {
     "data": {
      "application/vnd.jupyter.widget-view+json": {
       "model_id": "2bc6b1f863024a0892fdbdd214ab4390",
       "version_major": 2,
       "version_minor": 0
      },
      "text/plain": [
       "Downloading (…)olve/main/vocab.json:   0%|          | 0.00/798k [00:00<?, ?B/s]"
      ]
     },
     "metadata": {},
     "output_type": "display_data"
    },
    {
     "data": {
      "application/vnd.jupyter.widget-view+json": {
       "model_id": "35f3fe15da9141aeb5527b27ca8a22f4",
       "version_major": 2,
       "version_minor": 0
      },
      "text/plain": [
       "Downloading (…)olve/main/merges.txt:   0%|          | 0.00/456k [00:00<?, ?B/s]"
      ]
     },
     "metadata": {},
     "output_type": "display_data"
    },
    {
     "data": {
      "application/vnd.jupyter.widget-view+json": {
       "model_id": "4cdb994e3e5d4067960c8a01113db7b5",
       "version_major": 2,
       "version_minor": 0
      },
      "text/plain": [
       "Downloading (…)/main/tokenizer.json:   0%|          | 0.00/1.36M [00:00<?, ?B/s]"
      ]
     },
     "metadata": {},
     "output_type": "display_data"
    },
    {
     "data": {
      "application/vnd.jupyter.widget-view+json": {
       "model_id": "db2292c1bfa547f1837df9b72651a165",
       "version_major": 2,
       "version_minor": 0
      },
      "text/plain": [
       "Downloading (…)cial_tokens_map.json:   0%|          | 0.00/239 [00:00<?, ?B/s]"
      ]
     },
     "metadata": {},
     "output_type": "display_data"
    },
    {
     "data": {
      "application/vnd.jupyter.widget-view+json": {
       "model_id": "39ab1c2f404f4027acd3ddc563fc7d01",
       "version_major": 2,
       "version_minor": 0
      },
      "text/plain": [
       "Downloading (…)lve/main/config.json:   0%|          | 0.00/933 [00:00<?, ?B/s]"
      ]
     },
     "metadata": {},
     "output_type": "display_data"
    },
    {
     "data": {
      "application/vnd.jupyter.widget-view+json": {
       "model_id": "e38a591a9afd484f976d0e9d23f32622",
       "version_major": 2,
       "version_minor": 0
      },
      "text/plain": [
       "Downloading pytorch_model.bin:   0%|          | 0.00/329M [00:00<?, ?B/s]"
      ]
     },
     "metadata": {},
     "output_type": "display_data"
    }
   ],
   "source": [
    "from transformers import AutoTokenizer, AutoModelForSequenceClassification\n",
    "\n",
    "tokenizer = AutoTokenizer.from_pretrained(\"mrm8488/distilroberta-finetuned-financial-news-sentiment-analysis\")\n",
    "model = AutoModelForSequenceClassification.from_pretrained(\"mrm8488/distilroberta-finetuned-financial-news-sentiment-analysis\")"
   ]
  },
  {
   "cell_type": "code",
   "execution_count": 22,
   "metadata": {},
   "outputs": [],
   "source": [
    "from transformers import pipeline\n",
    "\n",
    "pipe = pipeline(\"text-classification\", model=model, tokenizer=tokenizer)\n"
   ]
  },
  {
   "cell_type": "code",
   "execution_count": 32,
   "metadata": {},
   "outputs": [
    {
     "name": "stdout",
     "output_type": "stream",
     "text": [
      "Roey is the CTO and a Co founder of BeyondMinds, a start up that helps enterprises achieve sustainable value from AI.\n",
      "[{'label': 'neutral', 'score': 0.9998063445091248}]\n"
     ]
    }
   ],
   "source": [
    "test = df_sentences_exp.sample(1)['sentences'].values[0]\n",
    "print(test)\n",
    "print(pipe(test))"
   ]
  },
  {
   "cell_type": "code",
   "execution_count": 34,
   "metadata": {},
   "outputs": [],
   "source": [
    "# save a checkpoint\n",
    "df_sentences_exp.to_parquet(path_bucket + '/' +'checkpoint_0525_full_article_split_sentences.parquet', engine='pyarrow')"
   ]
  },
  {
   "attachments": {},
   "cell_type": "markdown",
   "metadata": {},
   "source": [
    "## Methodology: How to measure sentiments within an article.\n",
    "\n",
    "As we have split sentences with SpaCy for each article, and the sentences are exploded into a dataframe. Now what we have is a dataframe of sentences instead of a df of articles. \n",
    "\n",
    "The primary idea is to use aggregated sentiment scores with sentences, rather than the overall sentiment of an article. The benefit of such method is that:\n",
    "1. it reduces token size for input; this is particularly helpful when we are using transformer and Bert-based models\n",
    "2. it is more accurate by aggregating the sentiment of sentences because \n",
    "    - full article sentiment has a lot of noises (e.g. unclean text like other titles/ads text from parsing)\n",
    "    - full article is computationally expensive for text embedding"
   ]
  },
  {
   "attachments": {},
   "cell_type": "markdown",
   "metadata": {},
   "source": [
    "# Reference\n",
    "1. Sentiment Analysis in 10 Minutes with BERT and TensorFlow. https://towardsdatascience.com/sentiment-analysis-in-10-minutes-with-bert-and-hugging-face-294e8a04b671"
   ]
  },
  {
   "attachments": {},
   "cell_type": "markdown",
   "metadata": {},
   "source": []
  }
 ],
 "metadata": {
  "kernelspec": {
   "display_name": "nlp",
   "language": "python",
   "name": "python3"
  },
  "language_info": {
   "codemirror_mode": {
    "name": "ipython",
    "version": 3
   },
   "file_extension": ".py",
   "mimetype": "text/x-python",
   "name": "python",
   "nbconvert_exporter": "python",
   "pygments_lexer": "ipython3",
   "version": "3.10.0"
  },
  "orig_nbformat": 4
 },
 "nbformat": 4,
 "nbformat_minor": 2
}
