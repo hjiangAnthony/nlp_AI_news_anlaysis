{
 "cells": [
  {
   "attachments": {},
   "cell_type": "markdown",
   "metadata": {},
   "source": [
    "## Preparation"
   ]
  },
  {
   "cell_type": "code",
   "execution_count": 1,
   "metadata": {},
   "outputs": [
    {
     "name": "stdout",
     "output_type": "stream",
     "text": [
      "INFO: Pandarallel will run on 12 workers.\n",
      "INFO: Pandarallel will use Memory file system to transfer data between the main process and workers.\n"
     ]
    }
   ],
   "source": [
    "import warnings\n",
    "warnings.filterwarnings(\"ignore\")\n",
    "\n",
    "from pprint import pprint\n",
    "import re\n",
    "from tqdm import tqdm\n",
    "\n",
    "from pandarallel import pandarallel\n",
    "pandarallel.initialize(nb_workers=12, progress_bar=True)\n",
    "import pandas as pd\n",
    "pd.set_option('display.max_rows', 100)\n",
    "pd.set_option('display.max_columns', None)\n",
    "pd.set_option('display.max_colwidth', 500)\n",
    "\n",
    "import warnings\n",
    "warnings.filterwarnings(\"ignore\")\n",
    "\n",
    "import numpy as np\n",
    "import pickle"
   ]
  },
  {
   "cell_type": "code",
   "execution_count": 2,
   "metadata": {},
   "outputs": [
    {
     "name": "stdout",
     "output_type": "stream",
     "text": [
      "/home/anthony/projects/nlp_runtime\n"
     ]
    }
   ],
   "source": [
    "#!pwd\n",
    "import os\n",
    "\n",
    "# Google Bucket\n",
    "# file name checkpoint_0512_sent_split.parquet\n",
    "path_bucket = 'gs://msca-sp23-bucket/nlp_data'\n",
    "runtime_path = '/home/anthony/projects/nlp_runtime'\n",
    "bucket_read = path_bucket + '/' + 'checkpoint_0526_filtered_sentences_sentiment_ner.parquet'\n",
    "\n",
    "os.chdir(runtime_path)\n",
    "print(os.getcwd())"
   ]
  },
  {
   "cell_type": "code",
   "execution_count": 3,
   "metadata": {},
   "outputs": [],
   "source": [
    "df = pd.read_parquet(bucket_read, engine='pyarrow')\n",
    "df['target_sentiment'] = df['target_sentiment'].apply(pickle.loads)"
   ]
  },
  {
   "cell_type": "code",
   "execution_count": 4,
   "metadata": {},
   "outputs": [
    {
     "data": {
      "text/html": [
       "<div>\n",
       "<style scoped>\n",
       "    .dataframe tbody tr th:only-of-type {\n",
       "        vertical-align: middle;\n",
       "    }\n",
       "\n",
       "    .dataframe tbody tr th {\n",
       "        vertical-align: top;\n",
       "    }\n",
       "\n",
       "    .dataframe thead th {\n",
       "        text-align: right;\n",
       "    }\n",
       "</style>\n",
       "<table border=\"1\" class=\"dataframe\">\n",
       "  <thead>\n",
       "    <tr style=\"text-align: right;\">\n",
       "      <th></th>\n",
       "      <th>date</th>\n",
       "      <th>title</th>\n",
       "      <th>article_id</th>\n",
       "      <th>sentences</th>\n",
       "      <th>target_sentiment</th>\n",
       "      <th>sentiment</th>\n",
       "      <th>sentiment_score</th>\n",
       "    </tr>\n",
       "  </thead>\n",
       "  <tbody>\n",
       "    <tr>\n",
       "      <th>0</th>\n",
       "      <td>2020-01-01</td>\n",
       "      <td>Decentralized Machine Learning Reaches Market Cap of $15,919.00 (DML) - Enterprise Leader</td>\n",
       "      <td>1</td>\n",
       "      <td>Decentralized Machine Learning Reaches Market Cap of 15,919.00 DML Enterprise Leader Daily Ratings News for Decentralized Machine Learning Complete the form below to receive the latest headlines and analysts' mendations for Decentralized Machine Learning with our free daily email newsletter: Follow EnterpriseLeade Recent Posts GE Announces Its Plan To Sell The Distributed Power Business To Advent International Ebang Communication Resorts To The Filing Of An IPO In Hong Kong How to Open DAA, ...</td>\n",
       "      <td>[(Decentralized Machine Learning Reaches Market Cap, ORG, 0.0), (Decentralized Machine Learning, ORG, 0.0), (Hong Kong, GPE, 0.0), (NRG, ORG, 0.0), (IMG, ORG, 0.0)]</td>\n",
       "      <td>neutral</td>\n",
       "      <td>0.999812</td>\n",
       "    </tr>\n",
       "    <tr>\n",
       "      <th>0</th>\n",
       "      <td>2020-01-01</td>\n",
       "      <td>Decentralized Machine Learning Reaches Market Cap of $15,919.00 (DML) - Enterprise Leader</td>\n",
       "      <td>1</td>\n",
       "      <td>3 Ways to Tell if Your Next Business Move will be a Mistake Foxconn Launches Investigation After Reports Of Harsh Working Conditions At Its Factory Flagstar Bancorp Acquires 52 Retails Branches Belonging To Wells Fargo</td>\n",
       "      <td>[(Mistake Foxconn Launches Investigation After Reports Of Harsh Working Conditions, ORG, -0.2), (Flagstar Bancorp, ORG, 0.0), (Wells Fargo, ORG, 0.0)]</td>\n",
       "      <td>neutral</td>\n",
       "      <td>0.999812</td>\n",
       "    </tr>\n",
       "  </tbody>\n",
       "</table>\n",
       "</div>"
      ],
      "text/plain": [
       "        date   \n",
       "0 2020-01-01  \\\n",
       "0 2020-01-01   \n",
       "\n",
       "                                                                                       title   \n",
       "0  Decentralized Machine Learning Reaches Market Cap of $15,919.00 (DML) - Enterprise Leader  \\\n",
       "0  Decentralized Machine Learning Reaches Market Cap of $15,919.00 (DML) - Enterprise Leader   \n",
       "\n",
       "   article_id   \n",
       "0           1  \\\n",
       "0           1   \n",
       "\n",
       "                                                                                                                                                                                                                                                                                                                                                                                                                                                                                                             sentences   \n",
       "0  Decentralized Machine Learning Reaches Market Cap of 15,919.00 DML Enterprise Leader Daily Ratings News for Decentralized Machine Learning Complete the form below to receive the latest headlines and analysts' mendations for Decentralized Machine Learning with our free daily email newsletter: Follow EnterpriseLeade Recent Posts GE Announces Its Plan To Sell The Distributed Power Business To Advent International Ebang Communication Resorts To The Filing Of An IPO In Hong Kong How to Open DAA, ...  \\\n",
       "0                                                                                                                                                                                                                                                                                           3 Ways to Tell if Your Next Business Move will be a Mistake Foxconn Launches Investigation After Reports Of Harsh Working Conditions At Its Factory Flagstar Bancorp Acquires 52 Retails Branches Belonging To Wells Fargo   \n",
       "\n",
       "                                                                                                                                                       target_sentiment   \n",
       "0  [(Decentralized Machine Learning Reaches Market Cap, ORG, 0.0), (Decentralized Machine Learning, ORG, 0.0), (Hong Kong, GPE, 0.0), (NRG, ORG, 0.0), (IMG, ORG, 0.0)]  \\\n",
       "0                [(Mistake Foxconn Launches Investigation After Reports Of Harsh Working Conditions, ORG, -0.2), (Flagstar Bancorp, ORG, 0.0), (Wells Fargo, ORG, 0.0)]   \n",
       "\n",
       "  sentiment  sentiment_score  \n",
       "0   neutral         0.999812  \n",
       "0   neutral         0.999812  "
      ]
     },
     "execution_count": 4,
     "metadata": {},
     "output_type": "execute_result"
    }
   ],
   "source": [
    "df.head(2)"
   ]
  },
  {
   "attachments": {},
   "cell_type": "markdown",
   "metadata": {},
   "source": [
    "## Sentiment Quality Check"
   ]
  },
  {
   "cell_type": "code",
   "execution_count": 25,
   "metadata": {},
   "outputs": [
    {
     "name": "stdout",
     "output_type": "stream",
     "text": [
      "<class 'pandas.core.frame.DataFrame'>\n",
      "Index: 2223016 entries, 0 to 133257\n",
      "Data columns (total 7 columns):\n",
      " #   Column            Dtype         \n",
      "---  ------            -----         \n",
      " 0   date              datetime64[ns]\n",
      " 1   title             object        \n",
      " 2   article_id        int64         \n",
      " 3   sentences         object        \n",
      " 4   target_sentiment  object        \n",
      " 5   sentiment         object        \n",
      " 6   sentiment_score   float32       \n",
      "dtypes: datetime64[ns](1), float32(1), int64(1), object(4)\n",
      "memory usage: 127.2+ MB\n"
     ]
    }
   ],
   "source": [
    "df.info()"
   ]
  },
  {
   "cell_type": "code",
   "execution_count": 24,
   "metadata": {},
   "outputs": [
    {
     "data": {
      "text/plain": [
       "sentiment\n",
       "neutral     1735701\n",
       "positive     403518\n",
       "negative      83797\n",
       "Name: count, dtype: int64"
      ]
     },
     "execution_count": 24,
     "metadata": {},
     "output_type": "execute_result"
    }
   ],
   "source": [
    "df['sentiment'].value_counts()"
   ]
  },
  {
   "cell_type": "code",
   "execution_count": 5,
   "metadata": {},
   "outputs": [],
   "source": [
    "# replace {'positive':1, 'negative':-1, 'neutral':0}\n",
    "df['sentiment_value'] = df['sentiment'].apply(lambda x: 1 if x == 'positive' else -1 if x == 'negative' else 0)"
   ]
  },
  {
   "cell_type": "code",
   "execution_count": 6,
   "metadata": {},
   "outputs": [
    {
     "data": {
      "text/html": [
       "<div>\n",
       "<style scoped>\n",
       "    .dataframe tbody tr th:only-of-type {\n",
       "        vertical-align: middle;\n",
       "    }\n",
       "\n",
       "    .dataframe tbody tr th {\n",
       "        vertical-align: top;\n",
       "    }\n",
       "\n",
       "    .dataframe thead th {\n",
       "        text-align: right;\n",
       "    }\n",
       "</style>\n",
       "<table border=\"1\" class=\"dataframe\">\n",
       "  <thead>\n",
       "    <tr style=\"text-align: right;\">\n",
       "      <th></th>\n",
       "      <th>title</th>\n",
       "      <th>sentences</th>\n",
       "      <th>target_sentiment</th>\n",
       "      <th>sentiment</th>\n",
       "    </tr>\n",
       "  </thead>\n",
       "  <tbody>\n",
       "    <tr>\n",
       "      <th>114908</th>\n",
       "      <td>What is Bing with ChatGPT? Here's everything we know | ZDNET</td>\n",
       "      <td>You can also install the Bing Mobile app.</td>\n",
       "      <td>[(Bing Mobile, ORG, 0.0)]</td>\n",
       "      <td>negative</td>\n",
       "    </tr>\n",
       "    <tr>\n",
       "      <th>84162</th>\n",
       "      <td>11 Tech Experts On How Small Businesses Can Effectively Leverage Machine Learning</td>\n",
       "      <td>Denver Hunter, PenServ Plan Services, Inc. 4.</td>\n",
       "      <td>[(Denver Hunter, PERSON, 0.0), (PenServ Plan Services, Inc. 4, ORG, 0.0)]</td>\n",
       "      <td>negative</td>\n",
       "    </tr>\n",
       "    <tr>\n",
       "      <th>115703</th>\n",
       "      <td>Safety and AI — How this Fusion Heralds a New Dawn in Workplace Safety – FocusTechnica</td>\n",
       "      <td>Be it a food pany or any warehouse, for that matter, life threatening accidents are right around the corner.</td>\n",
       "      <td>[]</td>\n",
       "      <td>negative</td>\n",
       "    </tr>\n",
       "    <tr>\n",
       "      <th>3316</th>\n",
       "      <td>Current Trends and Future Demand of Pancreatic Cancer Diagnostics Using Artificial Intelligence Market Top Business Growing Strategies, Technological Innovation and Emerging Trends of Outlook To 2024 – News Parent</td>\n",
       "      <td>The exhaustive analysis of various trends of the global Pancreatic Cancer Diagnostics Using Artificial Intelligence Market to help identify market expansions To Know More About The Assumptions in This Market Report: While each report initially generated is prepared with a set benchmark of the industry, the reports are customizable to meet the requirements of the client.</td>\n",
       "      <td>[(Pancreatic Cancer Diagnostics Using Artificial Intelligence Market, ORG, -0.6)]</td>\n",
       "      <td>negative</td>\n",
       "    </tr>\n",
       "    <tr>\n",
       "      <th>62868</th>\n",
       "      <td>How AI helped deliver cash aid to many of the poorest people in Togo - NewsBreak</td>\n",
       "      <td>PUBLIC HEALTH 1 DAY Internal Twitter Data Reveals How Many People Are Tweeting About CryptoTwitter has e the primary platform for crypto discussion on the internet, and internal data from pany reveals just how many people are joining the conversation.</td>\n",
       "      <td>[(CryptoTwitter, ORG, 0.0)]</td>\n",
       "      <td>negative</td>\n",
       "    </tr>\n",
       "  </tbody>\n",
       "</table>\n",
       "</div>"
      ],
      "text/plain": [
       "                                                                                                                                                                                                                        title   \n",
       "114908                                                                                                                                                           What is Bing with ChatGPT? Here's everything we know | ZDNET  \\\n",
       "84162                                                                                                                                       11 Tech Experts On How Small Businesses Can Effectively Leverage Machine Learning   \n",
       "115703                                                                                                                                 Safety and AI — How this Fusion Heralds a New Dawn in Workplace Safety – FocusTechnica   \n",
       "3316    Current Trends and Future Demand of Pancreatic Cancer Diagnostics Using Artificial Intelligence Market Top Business Growing Strategies, Technological Innovation and Emerging Trends of Outlook To 2024 – News Parent   \n",
       "62868                                                                                                                                        How AI helped deliver cash aid to many of the poorest people in Togo - NewsBreak   \n",
       "\n",
       "                                                                                                                                                                                                                                                                                                                                                                                   sentences   \n",
       "114908                                                                                                                                                                                                                                                                                                                                             You can also install the Bing Mobile app.  \\\n",
       "84162                                                                                                                                                                                                                                                                                                                                          Denver Hunter, PenServ Plan Services, Inc. 4.   \n",
       "115703                                                                                                                                                                                                                                                                          Be it a food pany or any warehouse, for that matter, life threatening accidents are right around the corner.   \n",
       "3316    The exhaustive analysis of various trends of the global Pancreatic Cancer Diagnostics Using Artificial Intelligence Market to help identify market expansions To Know More About The Assumptions in This Market Report: While each report initially generated is prepared with a set benchmark of the industry, the reports are customizable to meet the requirements of the client.   \n",
       "62868                                                                                                                            PUBLIC HEALTH 1 DAY Internal Twitter Data Reveals How Many People Are Tweeting About CryptoTwitter has e the primary platform for crypto discussion on the internet, and internal data from pany reveals just how many people are joining the conversation.   \n",
       "\n",
       "                                                                         target_sentiment   \n",
       "114908                                                          [(Bing Mobile, ORG, 0.0)]  \\\n",
       "84162           [(Denver Hunter, PERSON, 0.0), (PenServ Plan Services, Inc. 4, ORG, 0.0)]   \n",
       "115703                                                                                 []   \n",
       "3316    [(Pancreatic Cancer Diagnostics Using Artificial Intelligence Market, ORG, -0.6)]   \n",
       "62868                                                         [(CryptoTwitter, ORG, 0.0)]   \n",
       "\n",
       "       sentiment  \n",
       "114908  negative  \n",
       "84162   negative  \n",
       "115703  negative  \n",
       "3316    negative  \n",
       "62868   negative  "
      ]
     },
     "execution_count": 6,
     "metadata": {},
     "output_type": "execute_result"
    }
   ],
   "source": [
    "df[df['sentiment_value'] == -1].sample(5)[['title', 'sentences', 'target_sentiment', 'sentiment']]"
   ]
  },
  {
   "cell_type": "code",
   "execution_count": 38,
   "metadata": {},
   "outputs": [
    {
     "data": {
      "text/html": [
       "<div>\n",
       "<style scoped>\n",
       "    .dataframe tbody tr th:only-of-type {\n",
       "        vertical-align: middle;\n",
       "    }\n",
       "\n",
       "    .dataframe tbody tr th {\n",
       "        vertical-align: top;\n",
       "    }\n",
       "\n",
       "    .dataframe thead th {\n",
       "        text-align: right;\n",
       "    }\n",
       "</style>\n",
       "<table border=\"1\" class=\"dataframe\">\n",
       "  <thead>\n",
       "    <tr style=\"text-align: right;\">\n",
       "      <th></th>\n",
       "      <th>title</th>\n",
       "      <th>sentences</th>\n",
       "      <th>target_sentiment</th>\n",
       "      <th>sentiment</th>\n",
       "    </tr>\n",
       "  </thead>\n",
       "  <tbody>\n",
       "    <tr>\n",
       "      <th>53040</th>\n",
       "      <td>Duality and Intel Collaborate to Offer Accelerated Homomorphic Encryption-based Machine Learning Applications on Amazon Web Services (AWS)</td>\n",
       "      <td>The collaboration focused on accelerating ML applications with HE on the new 3rd Gen Intel Xeon Scalable processors.</td>\n",
       "      <td>[(ML, ORG, 0.0), (Intel, ORG, 0.0)]</td>\n",
       "      <td>neutral</td>\n",
       "    </tr>\n",
       "    <tr>\n",
       "      <th>7627</th>\n",
       "      <td>Global Artificial Intelligence in Military Market Industry Latest Trends &amp; Outlook 2020-2027 – NJ MMA News</td>\n",
       "      <td>Global Artificial Intelligence in Military Therapy Type Segment Analysis 6.</td>\n",
       "      <td>[(Global Artificial Intelligence in Military Therapy Type Segment Analysis 6, ORG, -0.2333333333333333)]</td>\n",
       "      <td>neutral</td>\n",
       "    </tr>\n",
       "    <tr>\n",
       "      <th>64537</th>\n",
       "      <td>Hirose and eTopus Technology Develop Combined PCIe Gen6 64Gbps PAM4 Interconnect Solution for AI Training Applications</td>\n",
       "      <td>About eTopus Technology Inc. eTopus is an innovator and technology leader in high performance, DSP based, mixed signal, ultra high speed semiconductor interconnect solutions.</td>\n",
       "      <td>[(About eTopus Technology Inc. eTopus, ORG, 0.0), (DSP, ORG, 0.0)]</td>\n",
       "      <td>neutral</td>\n",
       "    </tr>\n",
       "    <tr>\n",
       "      <th>125524</th>\n",
       "      <td>Pausing AI Development Would 'Simply Benefit China,' Says Eric Schmidt</td>\n",
       "      <td>Instead of a pause, he said leaders should collectively discuss appropriate guardrails \"ASAP.\"</td>\n",
       "      <td>[]</td>\n",
       "      <td>neutral</td>\n",
       "    </tr>\n",
       "    <tr>\n",
       "      <th>4820</th>\n",
       "      <td>Global IoT, Data Management, 5G and Artificial Intelligence Market 2025 – Financial Analyst</td>\n",
       "      <td>For many years Artificial Intelligence AI was just a futuristic concept but with recent progress in Machine Learning capabilities; the AI sector has been firmly pushed into the spotlight.</td>\n",
       "      <td>[(Artificial Intelligence AI, ORG, -0.6), (Machine Learning, ORG, 0.0), (AI, ORG, 0.0)]</td>\n",
       "      <td>neutral</td>\n",
       "    </tr>\n",
       "  </tbody>\n",
       "</table>\n",
       "</div>"
      ],
      "text/plain": [
       "                                                                                                                                             title   \n",
       "53040   Duality and Intel Collaborate to Offer Accelerated Homomorphic Encryption-based Machine Learning Applications on Amazon Web Services (AWS)  \\\n",
       "7627                                    Global Artificial Intelligence in Military Market Industry Latest Trends & Outlook 2020-2027 – NJ MMA News   \n",
       "64537                      Hirose and eTopus Technology Develop Combined PCIe Gen6 64Gbps PAM4 Interconnect Solution for AI Training Applications    \n",
       "125524                                                                      Pausing AI Development Would 'Simply Benefit China,' Says Eric Schmidt   \n",
       "4820                                                   Global IoT, Data Management, 5G and Artificial Intelligence Market 2025 – Financial Analyst   \n",
       "\n",
       "                                                                                                                                                                                          sentences   \n",
       "53040                                                                          The collaboration focused on accelerating ML applications with HE on the new 3rd Gen Intel Xeon Scalable processors.  \\\n",
       "7627                                                                                                                    Global Artificial Intelligence in Military Therapy Type Segment Analysis 6.   \n",
       "64537                About eTopus Technology Inc. eTopus is an innovator and technology leader in high performance, DSP based, mixed signal, ultra high speed semiconductor interconnect solutions.   \n",
       "125524                                                                                               Instead of a pause, he said leaders should collectively discuss appropriate guardrails \"ASAP.\"   \n",
       "4820    For many years Artificial Intelligence AI was just a futuristic concept but with recent progress in Machine Learning capabilities; the AI sector has been firmly pushed into the spotlight.   \n",
       "\n",
       "                                                                                                target_sentiment   \n",
       "53040                                                                        [(ML, ORG, 0.0), (Intel, ORG, 0.0)]  \\\n",
       "7627    [(Global Artificial Intelligence in Military Therapy Type Segment Analysis 6, ORG, -0.2333333333333333)]   \n",
       "64537                                         [(About eTopus Technology Inc. eTopus, ORG, 0.0), (DSP, ORG, 0.0)]   \n",
       "125524                                                                                                        []   \n",
       "4820                     [(Artificial Intelligence AI, ORG, -0.6), (Machine Learning, ORG, 0.0), (AI, ORG, 0.0)]   \n",
       "\n",
       "       sentiment  \n",
       "53040    neutral  \n",
       "7627     neutral  \n",
       "64537    neutral  \n",
       "125524   neutral  \n",
       "4820     neutral  "
      ]
     },
     "execution_count": 38,
     "metadata": {},
     "output_type": "execute_result"
    }
   ],
   "source": [
    "df[df['sentiment_value'] == 0].sample(5)[['title', 'sentences', 'target_sentiment', 'sentiment']]"
   ]
  },
  {
   "cell_type": "code",
   "execution_count": 40,
   "metadata": {},
   "outputs": [
    {
     "data": {
      "text/html": [
       "<div>\n",
       "<style scoped>\n",
       "    .dataframe tbody tr th:only-of-type {\n",
       "        vertical-align: middle;\n",
       "    }\n",
       "\n",
       "    .dataframe tbody tr th {\n",
       "        vertical-align: top;\n",
       "    }\n",
       "\n",
       "    .dataframe thead th {\n",
       "        text-align: right;\n",
       "    }\n",
       "</style>\n",
       "<table border=\"1\" class=\"dataframe\">\n",
       "  <thead>\n",
       "    <tr style=\"text-align: right;\">\n",
       "      <th></th>\n",
       "      <th>title</th>\n",
       "      <th>sentences</th>\n",
       "      <th>target_sentiment</th>\n",
       "      <th>sentiment</th>\n",
       "    </tr>\n",
       "  </thead>\n",
       "  <tbody>\n",
       "    <tr>\n",
       "      <th>121481</th>\n",
       "      <td>Better Late Than Never: 3 Artificial Intelligence (AI) Stocks That Still Have Massive Upside | Nasdaq</td>\n",
       "      <td>SentinelOne scores very high on benchmarks such as MITRE's ATT CK Evaluations, and research firm Gartner gave it the top rank in endpoint protection.</td>\n",
       "      <td>[(SentinelOne, ORG, 0.0), (MITRE, ORG, 0.0), (ATT CK Evaluations, ORG, 0.0), (Gartner, PERSON, 0.0)]</td>\n",
       "      <td>positive</td>\n",
       "    </tr>\n",
       "    <tr>\n",
       "      <th>14486</th>\n",
       "      <td>ACTO raises $11.5 million to bolster life sciences sales with AI | VentureBeat</td>\n",
       "      <td>ACTO raises 11.5 million to bolster life sciences sales with AI VentureBeat AR/VR Big Data Cloud Commerce Dev Enterprise Entrepreneur Marketing Media Mobile Security Social Transportation The Machine AI Machine Learning Computer Vision Natural Language Processing Robotic Process Automation GamesBeat Newsletters Got a news tip?</td>\n",
       "      <td>[(ACTO, ORG, 0.0), (AI VentureBeat AR/VR Big Data Cloud Commerce Dev Enterprise Entrepreneur Marketing Media Mobile Security Social Transportation The Machine AI Machine Learning Computer Vision Natural Language Processing Robotic Process Automation GamesBeat Newsletters Got, ORG, 0.008333333333333331)]</td>\n",
       "      <td>positive</td>\n",
       "    </tr>\n",
       "    <tr>\n",
       "      <th>71290</th>\n",
       "      <td>Explainable machine learning for precise fatigue crack tip detection - NewsBreak</td>\n",
       "      <td>A novel variant that predicts a p.Ser76Thr in IGFBP4 Thr allele frequency\" \" 0.02 was identified which associated with the maximum BMI measured during adulthood BMI 39.8\" kg/m2 for Thr allele bined with heterozygotes vs. 36.2\" kg/m2 for Ser allele homozygotes, \" \" 6.7 per Thr allele, p\" \" 8.0\" \" 10 5, adjusted for age, sex, birth year and the first five genetic ponents and the maximum age and sex adjusted BMI z score measured during childhood/adolescence z score 0.70 SD for Thr allele hetero...</td>\n",
       "      <td>[(Ser, PERSON, 0.0), (BMI, ORG, 0.0), (Ser, PERSON, 0.0)]</td>\n",
       "      <td>positive</td>\n",
       "    </tr>\n",
       "    <tr>\n",
       "      <th>29076</th>\n",
       "      <td>Industrial Research on Artificial Intelligence (AI) As a Service Market 2020 with In-depth Analysis of Product Supply and Demand: Google, Amazon web services, IBM, Microsoft, SAP, Salesforce, and more – Redhill Market Analytics</td>\n",
       "      <td>A Artificial Intelligence AI As a Service Market provides an extensive view of size; trends and shape have been developed in this report to identify factors that will exhibit a significant impact in boosting the sales of Artificial Intelligence AI As a Service Market in the near future.</td>\n",
       "      <td>[(Artificial Intelligence AI, ORG, -0.6)]</td>\n",
       "      <td>positive</td>\n",
       "    </tr>\n",
       "    <tr>\n",
       "      <th>14905</th>\n",
       "      <td>Great Learning collaborates with Northwestern University to launch online 'Master of Science in Data Science Programme' | Business</td>\n",
       "      <td>When Di Maio appeare... Zimbabwe protest organiser, journalist freed on bail, banned from posting on Twitter A Zimbabwe opposition politician and a journalist detained for more than a month on suspicion of planning anti government protests over corruption and the worst economic crisis in more than a decade were released on bail on Wednesday.</td>\n",
       "      <td>[(Di Maio appeare, PERSON, 0.0), (Zimbabwe, GPE, 0.0), (Zimbabwe, GPE, 0.0)]</td>\n",
       "      <td>positive</td>\n",
       "    </tr>\n",
       "  </tbody>\n",
       "</table>\n",
       "</div>"
      ],
      "text/plain": [
       "                                                                                                                                                                                                                                      title   \n",
       "121481                                                                                                                                Better Late Than Never: 3 Artificial Intelligence (AI) Stocks That Still Have Massive Upside | Nasdaq  \\\n",
       "14486                                                                                                                                                        ACTO raises $11.5 million to bolster life sciences sales with AI | VentureBeat   \n",
       "71290                                                                                                                                                      Explainable machine learning for precise fatigue crack tip detection - NewsBreak   \n",
       "29076   Industrial Research on Artificial Intelligence (AI) As a Service Market 2020 with In-depth Analysis of Product Supply and Demand: Google, Amazon web services, IBM, Microsoft, SAP, Salesforce, and more – Redhill Market Analytics   \n",
       "14905                                                                                                    Great Learning collaborates with Northwestern University to launch online 'Master of Science in Data Science Programme' | Business   \n",
       "\n",
       "                                                                                                                                                                                                                                                                                                                                                                                                                                                                                                                  sentences   \n",
       "121481                                                                                                                                                                                                                                                                                                                                                                SentinelOne scores very high on benchmarks such as MITRE's ATT CK Evaluations, and research firm Gartner gave it the top rank in endpoint protection.  \\\n",
       "14486                                                                                                                                                                              ACTO raises 11.5 million to bolster life sciences sales with AI VentureBeat AR/VR Big Data Cloud Commerce Dev Enterprise Entrepreneur Marketing Media Mobile Security Social Transportation The Machine AI Machine Learning Computer Vision Natural Language Processing Robotic Process Automation GamesBeat Newsletters Got a news tip?   \n",
       "71290   A novel variant that predicts a p.Ser76Thr in IGFBP4 Thr allele frequency\" \" 0.02 was identified which associated with the maximum BMI measured during adulthood BMI 39.8\" kg/m2 for Thr allele bined with heterozygotes vs. 36.2\" kg/m2 for Ser allele homozygotes, \" \" 6.7 per Thr allele, p\" \" 8.0\" \" 10 5, adjusted for age, sex, birth year and the first five genetic ponents and the maximum age and sex adjusted BMI z score measured during childhood/adolescence z score 0.70 SD for Thr allele hetero...   \n",
       "29076                                                                                                                                                                                                                       A Artificial Intelligence AI As a Service Market provides an extensive view of size; trends and shape have been developed in this report to identify factors that will exhibit a significant impact in boosting the sales of Artificial Intelligence AI As a Service Market in the near future.   \n",
       "14905                                                                                                                                                               When Di Maio appeare... Zimbabwe protest organiser, journalist freed on bail, banned from posting on Twitter A Zimbabwe opposition politician and a journalist detained for more than a month on suspicion of planning anti government protests over corruption and the worst economic crisis in more than a decade were released on bail on Wednesday.   \n",
       "\n",
       "                                                                                                                                                                                                                                                                                                        target_sentiment   \n",
       "121481                                                                                                                                                                                                              [(SentinelOne, ORG, 0.0), (MITRE, ORG, 0.0), (ATT CK Evaluations, ORG, 0.0), (Gartner, PERSON, 0.0)]  \\\n",
       "14486   [(ACTO, ORG, 0.0), (AI VentureBeat AR/VR Big Data Cloud Commerce Dev Enterprise Entrepreneur Marketing Media Mobile Security Social Transportation The Machine AI Machine Learning Computer Vision Natural Language Processing Robotic Process Automation GamesBeat Newsletters Got, ORG, 0.008333333333333331)]   \n",
       "71290                                                                                                                                                                                                                                                          [(Ser, PERSON, 0.0), (BMI, ORG, 0.0), (Ser, PERSON, 0.0)]   \n",
       "29076                                                                                                                                                                                                                                                                          [(Artificial Intelligence AI, ORG, -0.6)]   \n",
       "14905                                                                                                                                                                                                                                       [(Di Maio appeare, PERSON, 0.0), (Zimbabwe, GPE, 0.0), (Zimbabwe, GPE, 0.0)]   \n",
       "\n",
       "       sentiment  \n",
       "121481  positive  \n",
       "14486   positive  \n",
       "71290   positive  \n",
       "29076   positive  \n",
       "14905   positive  "
      ]
     },
     "execution_count": 40,
     "metadata": {},
     "output_type": "execute_result"
    }
   ],
   "source": [
    "df[df['sentiment_value'] == 1].sample(5)[['title', 'sentences', 'target_sentiment', 'sentiment']]"
   ]
  },
  {
   "attachments": {},
   "cell_type": "markdown",
   "metadata": {},
   "source": [
    "Most sentences are neutral. The performance comparsion between target_sentiment (by spacy & textblob) and single sentence sentiment (by distil-bert) obviously differ.\n",
    "- single sentence sentiment is still valuable because some setences have no entities (e.g. 'it cannot learn to love' for AI) and has a negative sentiment\n",
    "- target_sentiment tends to lose some context like the Di Maio one. He is released, while the target_sentiment identified no sentiments towards entitites; however, the event (sentence) is overall in a positive tone"
   ]
  },
  {
   "attachments": {},
   "cell_type": "markdown",
   "metadata": {},
   "source": [
    "## Aggregate Sentence Sentiments"
   ]
  },
  {
   "cell_type": "code",
   "execution_count": 45,
   "metadata": {},
   "outputs": [
    {
     "data": {
      "text/plain": [
       "(133258, 9)"
      ]
     },
     "execution_count": 45,
     "metadata": {},
     "output_type": "execute_result"
    }
   ],
   "source": [
    "# prepare main df\n",
    "bucket_read = path_bucket + '/' + 'checkpoint_0525_full_article_split.parquet'\n",
    "df_main = pd.read_parquet(bucket_read, engine='pyarrow')\n",
    "\n",
    "df_main.shape"
   ]
  },
  {
   "cell_type": "code",
   "execution_count": 47,
   "metadata": {},
   "outputs": [
    {
     "data": {
      "text/html": [
       "<div>\n",
       "<style scoped>\n",
       "    .dataframe tbody tr th:only-of-type {\n",
       "        vertical-align: middle;\n",
       "    }\n",
       "\n",
       "    .dataframe tbody tr th {\n",
       "        vertical-align: top;\n",
       "    }\n",
       "\n",
       "    .dataframe thead th {\n",
       "        text-align: right;\n",
       "    }\n",
       "</style>\n",
       "<table border=\"1\" class=\"dataframe\">\n",
       "  <thead>\n",
       "    <tr style=\"text-align: right;\">\n",
       "      <th></th>\n",
       "      <th>date</th>\n",
       "      <th>title</th>\n",
       "      <th>text_cleaned</th>\n",
       "      <th>article_topic</th>\n",
       "      <th>domain</th>\n",
       "      <th>article_id</th>\n",
       "    </tr>\n",
       "  </thead>\n",
       "  <tbody>\n",
       "    <tr>\n",
       "      <th>0</th>\n",
       "      <td>2020-01-01</td>\n",
       "      <td>Decentralized Machine Learning Reaches Market Cap of $15,919.00 (DML) - Enterprise Leader</td>\n",
       "      <td>Decentralized Machine Learning Reaches Market Cap of 15,919.00 DML Enterprise Leader Daily Ratings News for Decentralized Machine Learning Complete the form below to receive the latest headlines and analysts' mendations for Decentralized Machine Learning with our free daily email newsletter: Follow EnterpriseLeade Recent Posts GE Announces Its Plan To Sell The Distributed Power Business To Advent International Ebang Communication Resorts To The Filing Of An IPO In Hong Kong How to Open DAA, ...</td>\n",
       "      <td>3</td>\n",
       "      <td>theenterpriseleader.com</td>\n",
       "      <td>1</td>\n",
       "    </tr>\n",
       "    <tr>\n",
       "      <th>1</th>\n",
       "      <td>2020-01-01</td>\n",
       "      <td>Artificial Intelligence (AI) in Marketing Market Scope, Size, Share, Trends, Forecast by 2026 – Market Reports Observer</td>\n",
       "      <td>Artificial Intelligence AI in Marketing Market Scope, Size, Share, Trends, Forecast by 2026 Market Reports Observer Skip to content 488 E 11th Ave, Eugene, OR 97401, USA 1 541 687 2347 email protected Market Reports Observer Artificial intelligence AI is the ability to process information in a way similar to the thought process of humans in learning, decision making, and problem solving. Enterprises are now identifying the value associated with integrating AI into their business processes. ...</td>\n",
       "      <td>1</td>\n",
       "      <td>marketreportobserver.com</td>\n",
       "      <td>2</td>\n",
       "    </tr>\n",
       "  </tbody>\n",
       "</table>\n",
       "</div>"
      ],
      "text/plain": [
       "        date   \n",
       "0 2020-01-01  \\\n",
       "1 2020-01-01   \n",
       "\n",
       "                                                                                                                     title   \n",
       "0                                Decentralized Machine Learning Reaches Market Cap of $15,919.00 (DML) - Enterprise Leader  \\\n",
       "1  Artificial Intelligence (AI) in Marketing Market Scope, Size, Share, Trends, Forecast by 2026 – Market Reports Observer   \n",
       "\n",
       "                                                                                                                                                                                                                                                                                                                                                                                                                                                                                                          text_cleaned   \n",
       "0  Decentralized Machine Learning Reaches Market Cap of 15,919.00 DML Enterprise Leader Daily Ratings News for Decentralized Machine Learning Complete the form below to receive the latest headlines and analysts' mendations for Decentralized Machine Learning with our free daily email newsletter: Follow EnterpriseLeade Recent Posts GE Announces Its Plan To Sell The Distributed Power Business To Advent International Ebang Communication Resorts To The Filing Of An IPO In Hong Kong How to Open DAA, ...  \\\n",
       "1   Artificial Intelligence AI in Marketing Market Scope, Size, Share, Trends, Forecast by 2026 Market Reports Observer Skip to content 488 E 11th Ave, Eugene, OR 97401, USA 1 541 687 2347 email protected Market Reports Observer Artificial intelligence AI is the ability to process information in a way similar to the thought process of humans in learning, decision making, and problem solving. Enterprises are now identifying the value associated with integrating AI into their business processes. ...   \n",
       "\n",
       "   article_topic                    domain  article_id  \n",
       "0              3   theenterpriseleader.com           1  \n",
       "1              1  marketreportobserver.com           2  "
      ]
     },
     "execution_count": 47,
     "metadata": {},
     "output_type": "execute_result"
    }
   ],
   "source": [
    "# drop unnecessary columns\n",
    "df_main.drop(columns=['entities', 'sentences', 'url'], inplace=True)\n",
    "df_main.head(2)"
   ]
  },
  {
   "attachments": {},
   "cell_type": "markdown",
   "metadata": {},
   "source": [
    "First, we have to clean the sentiments:\n",
    "\n",
    "Solution#1\n",
    "- reduce sentiments with score lower than 90.\n",
    "- group by article_id and get count of three types of sentiments\n",
    "- choose the sentiment with highst counts;\n",
    "    - if we have a tie, then give it `neutral`\n",
    "    - but the issue is that sometimes highest counts lie (e.g. pos:113, negative:112, neutral:22), we can't call it a positive article simply because pos has highest counts\n",
    "\n",
    "Solution#2\n",
    "- replace sentiment label with value: {positive:1, negative:-1, neutral:0}\n",
    "- calculate article average based on article_id\n",
    "- if abs(sentiment) > 1.3, then we call it either positive or negative\n"
   ]
  },
  {
   "cell_type": "code",
   "execution_count": 41,
   "metadata": {},
   "outputs": [
    {
     "data": {
      "text/html": [
       "<div>\n",
       "<style scoped>\n",
       "    .dataframe tbody tr th:only-of-type {\n",
       "        vertical-align: middle;\n",
       "    }\n",
       "\n",
       "    .dataframe tbody tr th {\n",
       "        vertical-align: top;\n",
       "    }\n",
       "\n",
       "    .dataframe thead th {\n",
       "        text-align: right;\n",
       "    }\n",
       "</style>\n",
       "<table border=\"1\" class=\"dataframe\">\n",
       "  <thead>\n",
       "    <tr style=\"text-align: right;\">\n",
       "      <th></th>\n",
       "      <th>article_id</th>\n",
       "      <th>sentences</th>\n",
       "      <th>sentiment_value</th>\n",
       "      <th>sentiment_score</th>\n",
       "    </tr>\n",
       "  </thead>\n",
       "  <tbody>\n",
       "    <tr>\n",
       "      <th>0</th>\n",
       "      <td>1</td>\n",
       "      <td>Decentralized Machine Learning Reaches Market Cap of 15,919.00 DML Enterprise Leader Daily Ratings News for Decentralized Machine Learning Complete the form below to receive the latest headlines and analysts' mendations for Decentralized Machine Learning with our free daily email newsletter: Follow EnterpriseLeade Recent Posts GE Announces Its Plan To Sell The Distributed Power Business To Advent International Ebang Communication Resorts To The Filing Of An IPO In Hong Kong How to Open DAA, ...</td>\n",
       "      <td>0</td>\n",
       "      <td>0.999812</td>\n",
       "    </tr>\n",
       "    <tr>\n",
       "      <th>0</th>\n",
       "      <td>1</td>\n",
       "      <td>3 Ways to Tell if Your Next Business Move will be a Mistake Foxconn Launches Investigation After Reports Of Harsh Working Conditions At Its Factory Flagstar Bancorp Acquires 52 Retails Branches Belonging To Wells Fargo</td>\n",
       "      <td>0</td>\n",
       "      <td>0.999812</td>\n",
       "    </tr>\n",
       "  </tbody>\n",
       "</table>\n",
       "</div>"
      ],
      "text/plain": [
       "   article_id   \n",
       "0           1  \\\n",
       "0           1   \n",
       "\n",
       "                                                                                                                                                                                                                                                                                                                                                                                                                                                                                                             sentences   \n",
       "0  Decentralized Machine Learning Reaches Market Cap of 15,919.00 DML Enterprise Leader Daily Ratings News for Decentralized Machine Learning Complete the form below to receive the latest headlines and analysts' mendations for Decentralized Machine Learning with our free daily email newsletter: Follow EnterpriseLeade Recent Posts GE Announces Its Plan To Sell The Distributed Power Business To Advent International Ebang Communication Resorts To The Filing Of An IPO In Hong Kong How to Open DAA, ...  \\\n",
       "0                                                                                                                                                                                                                                                                                           3 Ways to Tell if Your Next Business Move will be a Mistake Foxconn Launches Investigation After Reports Of Harsh Working Conditions At Its Factory Flagstar Bancorp Acquires 52 Retails Branches Belonging To Wells Fargo   \n",
       "\n",
       "   sentiment_value  sentiment_score  \n",
       "0                0         0.999812  \n",
       "0                0         0.999812  "
      ]
     },
     "execution_count": 41,
     "metadata": {},
     "output_type": "execute_result"
    }
   ],
   "source": [
    "# select setence df\n",
    "sentences = df[['article_id', 'sentences', 'sentiment_value', 'sentiment_score']]\n",
    "sentences.head(2)"
   ]
  },
  {
   "cell_type": "code",
   "execution_count": 42,
   "metadata": {},
   "outputs": [
    {
     "name": "stdout",
     "output_type": "stream",
     "text": [
      "Prior length: 2223016, after length: 2102156\n"
     ]
    }
   ],
   "source": [
    "# remove rows that has sentiment_score < 0.90\n",
    "prior_len = sentences.shape[0]\n",
    "sentences = sentences[sentences['sentiment_score'] >= 0.90]\n",
    "print(f'Prior length: {prior_len}, after length: {sentences.shape[0]}')"
   ]
  },
  {
   "cell_type": "code",
   "execution_count": 43,
   "metadata": {},
   "outputs": [
    {
     "data": {
      "text/html": [
       "<div>\n",
       "<style scoped>\n",
       "    .dataframe tbody tr th:only-of-type {\n",
       "        vertical-align: middle;\n",
       "    }\n",
       "\n",
       "    .dataframe tbody tr th {\n",
       "        vertical-align: top;\n",
       "    }\n",
       "\n",
       "    .dataframe thead th {\n",
       "        text-align: right;\n",
       "    }\n",
       "</style>\n",
       "<table border=\"1\" class=\"dataframe\">\n",
       "  <thead>\n",
       "    <tr style=\"text-align: right;\">\n",
       "      <th></th>\n",
       "      <th>article_id</th>\n",
       "      <th>sentiment_value</th>\n",
       "    </tr>\n",
       "  </thead>\n",
       "  <tbody>\n",
       "    <tr>\n",
       "      <th>0</th>\n",
       "      <td>1</td>\n",
       "      <td>0.0</td>\n",
       "    </tr>\n",
       "    <tr>\n",
       "      <th>1</th>\n",
       "      <td>3</td>\n",
       "      <td>0.0</td>\n",
       "    </tr>\n",
       "  </tbody>\n",
       "</table>\n",
       "</div>"
      ],
      "text/plain": [
       "   article_id  sentiment_value\n",
       "0           1              0.0\n",
       "1           3              0.0"
      ]
     },
     "execution_count": 43,
     "metadata": {},
     "output_type": "execute_result"
    }
   ],
   "source": [
    "# group by article_id, calculate avg sentiment_value\n",
    "sentences_gb = sentences.groupby('article_id').agg({'sentiment_value': 'mean'}).reset_index()\n",
    "sentences_gb.head(2)"
   ]
  },
  {
   "cell_type": "code",
   "execution_count": 44,
   "metadata": {},
   "outputs": [
    {
     "data": {
      "text/plain": [
       "124222"
      ]
     },
     "execution_count": 44,
     "metadata": {},
     "output_type": "execute_result"
    }
   ],
   "source": [
    "# check length\n",
    "sentences_gb.shape[0]"
   ]
  },
  {
   "cell_type": "code",
   "execution_count": 48,
   "metadata": {},
   "outputs": [],
   "source": [
    "# left join df_main and sentences_gb\n",
    "df_main = df_main.merge(sentences_gb, how='left', on='article_id')"
   ]
  },
  {
   "cell_type": "code",
   "execution_count": 50,
   "metadata": {},
   "outputs": [
    {
     "data": {
      "text/plain": [
       "sentiment_value\n",
       "False    124222\n",
       "True       9036\n",
       "Name: count, dtype: int64"
      ]
     },
     "execution_count": 50,
     "metadata": {},
     "output_type": "execute_result"
    }
   ],
   "source": [
    "df_main.sentiment_value.isna().value_counts()"
   ]
  },
  {
   "attachments": {},
   "cell_type": "markdown",
   "metadata": {},
   "source": [
    "Not too much null sentiments. Don't have to worry much."
   ]
  },
  {
   "cell_type": "code",
   "execution_count": 51,
   "metadata": {},
   "outputs": [],
   "source": [
    "# # save a checkpoint\n",
    "# bucket_write = path_bucket + '/' + 'checkpoint_0526_main.parquet'\n",
    "# df_main.to_parquet(bucket_write, engine='pyarrow')"
   ]
  },
  {
   "attachments": {},
   "cell_type": "markdown",
   "metadata": {},
   "source": [
    "## Aggregate Target Sentiment and Entities"
   ]
  },
  {
   "cell_type": "code",
   "execution_count": 7,
   "metadata": {},
   "outputs": [
    {
     "data": {
      "text/html": [
       "<div>\n",
       "<style scoped>\n",
       "    .dataframe tbody tr th:only-of-type {\n",
       "        vertical-align: middle;\n",
       "    }\n",
       "\n",
       "    .dataframe tbody tr th {\n",
       "        vertical-align: top;\n",
       "    }\n",
       "\n",
       "    .dataframe thead th {\n",
       "        text-align: right;\n",
       "    }\n",
       "</style>\n",
       "<table border=\"1\" class=\"dataframe\">\n",
       "  <thead>\n",
       "    <tr style=\"text-align: right;\">\n",
       "      <th></th>\n",
       "      <th>article_id</th>\n",
       "      <th>sentences</th>\n",
       "      <th>target_sentiment</th>\n",
       "    </tr>\n",
       "  </thead>\n",
       "  <tbody>\n",
       "    <tr>\n",
       "      <th>0</th>\n",
       "      <td>1</td>\n",
       "      <td>Decentralized Machine Learning Reaches Market Cap of 15,919.00 DML Enterprise Leader Daily Ratings News for Decentralized Machine Learning Complete the form below to receive the latest headlines and analysts' mendations for Decentralized Machine Learning with our free daily email newsletter: Follow EnterpriseLeade Recent Posts GE Announces Its Plan To Sell The Distributed Power Business To Advent International Ebang Communication Resorts To The Filing Of An IPO In Hong Kong How to Open DAA, ...</td>\n",
       "      <td>[(Decentralized Machine Learning Reaches Market Cap, ORG, 0.0), (Decentralized Machine Learning, ORG, 0.0), (Hong Kong, GPE, 0.0), (NRG, ORG, 0.0), (IMG, ORG, 0.0)]</td>\n",
       "    </tr>\n",
       "    <tr>\n",
       "      <th>0</th>\n",
       "      <td>1</td>\n",
       "      <td>3 Ways to Tell if Your Next Business Move will be a Mistake Foxconn Launches Investigation After Reports Of Harsh Working Conditions At Its Factory Flagstar Bancorp Acquires 52 Retails Branches Belonging To Wells Fargo</td>\n",
       "      <td>[(Mistake Foxconn Launches Investigation After Reports Of Harsh Working Conditions, ORG, -0.2), (Flagstar Bancorp, ORG, 0.0), (Wells Fargo, ORG, 0.0)]</td>\n",
       "    </tr>\n",
       "  </tbody>\n",
       "</table>\n",
       "</div>"
      ],
      "text/plain": [
       "   article_id   \n",
       "0           1  \\\n",
       "0           1   \n",
       "\n",
       "                                                                                                                                                                                                                                                                                                                                                                                                                                                                                                             sentences   \n",
       "0  Decentralized Machine Learning Reaches Market Cap of 15,919.00 DML Enterprise Leader Daily Ratings News for Decentralized Machine Learning Complete the form below to receive the latest headlines and analysts' mendations for Decentralized Machine Learning with our free daily email newsletter: Follow EnterpriseLeade Recent Posts GE Announces Its Plan To Sell The Distributed Power Business To Advent International Ebang Communication Resorts To The Filing Of An IPO In Hong Kong How to Open DAA, ...  \\\n",
       "0                                                                                                                                                                                                                                                                                           3 Ways to Tell if Your Next Business Move will be a Mistake Foxconn Launches Investigation After Reports Of Harsh Working Conditions At Its Factory Flagstar Bancorp Acquires 52 Retails Branches Belonging To Wells Fargo   \n",
       "\n",
       "                                                                                                                                                       target_sentiment  \n",
       "0  [(Decentralized Machine Learning Reaches Market Cap, ORG, 0.0), (Decentralized Machine Learning, ORG, 0.0), (Hong Kong, GPE, 0.0), (NRG, ORG, 0.0), (IMG, ORG, 0.0)]  \n",
       "0                [(Mistake Foxconn Launches Investigation After Reports Of Harsh Working Conditions, ORG, -0.2), (Flagstar Bancorp, ORG, 0.0), (Wells Fargo, ORG, 0.0)]  "
      ]
     },
     "execution_count": 7,
     "metadata": {},
     "output_type": "execute_result"
    }
   ],
   "source": [
    "# select setence df\n",
    "target_sentiment = df[['article_id', 'sentences', 'target_sentiment']]\n",
    "target_sentiment.head(2)"
   ]
  },
  {
   "attachments": {},
   "cell_type": "markdown",
   "metadata": {},
   "source": [
    "helper functions"
   ]
  },
  {
   "cell_type": "code",
   "execution_count": 8,
   "metadata": {},
   "outputs": [
    {
     "data": {
      "text/plain": [
       "\"\\nTODO: the column 'target_sentiment' will be aggregated\\nOUTPUT: the ideal output should be a tuple (Name, Label, Sentiment_Polarity, Count of Occurrence)\\nPROCESS: 1/ for each artile_id, we first append all target_sentiment into a list\\n         2/ then we count the occurence of each sentiment and add each frequency to the corresponding tuple\\n         3/ calculate the average sentiment polarity\\n         4/ sort by 1. count of occurence, 2. sentiment polarity\\n\""
      ]
     },
     "execution_count": 8,
     "metadata": {},
     "output_type": "execute_result"
    }
   ],
   "source": [
    "'''\n",
    "TODO: the column 'target_sentiment' will be aggregated\n",
    "OUTPUT: the ideal output should be a tuple (Name, Label, Sentiment_Polarity, Count of Occurrence)\n",
    "PROCESS: 1/ for each artile_id, we first append all target_sentiment into a list\n",
    "         2/ then we count the occurence of each sentiment and add each frequency to the corresponding tuple\n",
    "         3/ calculate the average sentiment polarity\n",
    "         4/ sort by 1. count of occurence, 2. sentiment polarity\n",
    "'''"
   ]
  },
  {
   "cell_type": "code",
   "execution_count": 9,
   "metadata": {},
   "outputs": [
    {
     "data": {
      "text/html": [
       "<div>\n",
       "<style scoped>\n",
       "    .dataframe tbody tr th:only-of-type {\n",
       "        vertical-align: middle;\n",
       "    }\n",
       "\n",
       "    .dataframe tbody tr th {\n",
       "        vertical-align: top;\n",
       "    }\n",
       "\n",
       "    .dataframe thead th {\n",
       "        text-align: right;\n",
       "    }\n",
       "</style>\n",
       "<table border=\"1\" class=\"dataframe\">\n",
       "  <thead>\n",
       "    <tr style=\"text-align: right;\">\n",
       "      <th></th>\n",
       "      <th>article_id</th>\n",
       "      <th>target_sentiment</th>\n",
       "    </tr>\n",
       "  </thead>\n",
       "  <tbody>\n",
       "    <tr>\n",
       "      <th>0</th>\n",
       "      <td>1</td>\n",
       "      <td>[(Decentralized Machine Learning Reaches Market Cap, ORG, 0.0), (Decentralized Machine Learning, ORG, 0.0), (Hong Kong, GPE, 0.0), (NRG, ORG, 0.0), (IMG, ORG, 0.0), (Mistake Foxconn Launches Investigation After Reports Of Harsh Working Conditions, ORG, -0.2), (Flagstar Bancorp, ORG, 0.0), (Wells Fargo, ORG, 0.0), (Monster Beverage Corp NASDAQ, ORG, 0.0), (GE, ORG, 0.0), (IPO, ORG, 0.0), (Hong Kong, GPE, 0.0), (NRG, ORG, 0.0), (IMG, ORG, 0.0), (Decentralized Machine Learning Daily Enter, ORG,...</td>\n",
       "    </tr>\n",
       "    <tr>\n",
       "      <th>1</th>\n",
       "      <td>2</td>\n",
       "      <td>[(Intelligence AI, ORG, 0.0), (Natural Language Processing NLP, ORG, 0.1), (North America, LOC, 0.0), (Intelligence AI, ORG, 0.0), (Intelligence AI, ORG, 0.0), (Intelligence AI, ORG, 0.0), (North America, LOC, 0.0), (South America, LOC, 0.0), (Europe, LOC, 0.0), (Asia Pacific, LOC, 0.0), (Middle East Africa, LOC, 0.0), (Intelligence AI, ORG, 0.0), (Artificial Intelligence AI in Marketing Market, ORG, -0.6), (IBM Corporation, ORG, 0.0), (Google Inc., ORG, 0.0), (Inc., ORG, 0.0), (Albert Techn...</td>\n",
       "    </tr>\n",
       "  </tbody>\n",
       "</table>\n",
       "</div>"
      ],
      "text/plain": [
       "   article_id   \n",
       "0           1  \\\n",
       "1           2   \n",
       "\n",
       "                                                                                                                                                                                                                                                                                                                                                                                                                                                                                                      target_sentiment  \n",
       "0  [(Decentralized Machine Learning Reaches Market Cap, ORG, 0.0), (Decentralized Machine Learning, ORG, 0.0), (Hong Kong, GPE, 0.0), (NRG, ORG, 0.0), (IMG, ORG, 0.0), (Mistake Foxconn Launches Investigation After Reports Of Harsh Working Conditions, ORG, -0.2), (Flagstar Bancorp, ORG, 0.0), (Wells Fargo, ORG, 0.0), (Monster Beverage Corp NASDAQ, ORG, 0.0), (GE, ORG, 0.0), (IPO, ORG, 0.0), (Hong Kong, GPE, 0.0), (NRG, ORG, 0.0), (IMG, ORG, 0.0), (Decentralized Machine Learning Daily Enter, ORG,...  \n",
       "1  [(Intelligence AI, ORG, 0.0), (Natural Language Processing NLP, ORG, 0.1), (North America, LOC, 0.0), (Intelligence AI, ORG, 0.0), (Intelligence AI, ORG, 0.0), (Intelligence AI, ORG, 0.0), (North America, LOC, 0.0), (South America, LOC, 0.0), (Europe, LOC, 0.0), (Asia Pacific, LOC, 0.0), (Middle East Africa, LOC, 0.0), (Intelligence AI, ORG, 0.0), (Artificial Intelligence AI in Marketing Market, ORG, -0.6), (IBM Corporation, ORG, 0.0), (Google Inc., ORG, 0.0), (Inc., ORG, 0.0), (Albert Techn...  "
      ]
     },
     "execution_count": 9,
     "metadata": {},
     "output_type": "execute_result"
    }
   ],
   "source": [
    "# group by article_id, append all target_sentiment into a list\n",
    "target_sentiment_gb = target_sentiment.groupby('article_id').agg({'target_sentiment': 'sum'}).reset_index()\n",
    "target_sentiment_gb.head(2)"
   ]
  },
  {
   "cell_type": "code",
   "execution_count": 10,
   "metadata": {},
   "outputs": [],
   "source": [
    "# write a function to count the occurence of each entity tuple and add each frequency to the corresponding tuple\n",
    "# it also calculates the average sentiment polarity\n",
    "\n",
    "def target_sentiment_aggregator(sentiment_list):\n",
    "    '''\n",
    "    INPUT: a list of tuples. For example: (Google, ORG, 1.0)\n",
    "    OUTPUT: a list of tuples. (Name, Label, Sentiment_Polarity, Count of Occurrence). For example: [(Google, ORG, 1.0, 2), (Apple, ORG, 0.5, 1)]\n",
    "    '''\n",
    "    \n",
    "    if len(target_sentiment) > 0:\n",
    "        # create a dictionary to store the count of occurence of each tuple\n",
    "        # create a dictionary to store the sum of sentiment polarity of each tuple\n",
    "        sentiment_dict, sentiment_polarity_dict = {}, {}\n",
    "        for pair in sentiment_list:\n",
    "            if pair in sentiment_dict:\n",
    "                sentiment_dict[pair] += 1\n",
    "            else:\n",
    "                sentiment_dict[pair] = 1\n",
    "            if pair in sentiment_polarity_dict:\n",
    "                sentiment_polarity_dict[pair] += pair[2]\n",
    "            else:\n",
    "                sentiment_polarity_dict[pair] = pair[2]\n",
    "        # create a list of tuples. (Name, Label, Sentiment_Polarity, Count of Occurrence)\n",
    "        sentiment_agg = []\n",
    "        for key, value in sentiment_dict.items():\n",
    "            sentiment_agg.append((key[0], key[1], sentiment_polarity_dict[key]/value, value))\n",
    "        # sort by 1. count of occurence, 2. sentiment polarity\n",
    "        sentiment_agg.sort(key=lambda x: (x[3], x[2]), reverse=True)\n",
    "    else:\n",
    "        sentiment_agg = []\n",
    "    return sentiment_agg"
   ]
  },
  {
   "cell_type": "code",
   "execution_count": null,
   "metadata": {},
   "outputs": [],
   "source": [
    "# test = target_sentiment_gb.head(10)\n",
    "# test['aggregate_target_sentiment'] = test['target_sentiment'].parallel_apply(target_sentiment_aggregator)"
   ]
  },
  {
   "cell_type": "code",
   "execution_count": 13,
   "metadata": {},
   "outputs": [
    {
     "data": {
      "application/vnd.jupyter.widget-view+json": {
       "model_id": "6aa92a13d2c143699247e273c0ea93a1",
       "version_major": 2,
       "version_minor": 0
      },
      "text/plain": [
       "VBox(children=(HBox(children=(IntProgress(value=0, description='0.00%', max=10977), Label(value='0 / 10977')))…"
      ]
     },
     "metadata": {},
     "output_type": "display_data"
    }
   ],
   "source": [
    "# apply on the target_sentiment_gb df\n",
    "target_sentiment_gb['aggregate_target_sentiment'] = target_sentiment_gb['target_sentiment'].parallel_apply(target_sentiment_aggregator)"
   ]
  },
  {
   "cell_type": "code",
   "execution_count": 14,
   "metadata": {},
   "outputs": [
    {
     "data": {
      "text/html": [
       "<div>\n",
       "<style scoped>\n",
       "    .dataframe tbody tr th:only-of-type {\n",
       "        vertical-align: middle;\n",
       "    }\n",
       "\n",
       "    .dataframe tbody tr th {\n",
       "        vertical-align: top;\n",
       "    }\n",
       "\n",
       "    .dataframe thead th {\n",
       "        text-align: right;\n",
       "    }\n",
       "</style>\n",
       "<table border=\"1\" class=\"dataframe\">\n",
       "  <thead>\n",
       "    <tr style=\"text-align: right;\">\n",
       "      <th></th>\n",
       "      <th>article_id</th>\n",
       "      <th>target_sentiment</th>\n",
       "      <th>aggregate_target_sentiment</th>\n",
       "    </tr>\n",
       "  </thead>\n",
       "  <tbody>\n",
       "    <tr>\n",
       "      <th>0</th>\n",
       "      <td>1</td>\n",
       "      <td>[(Decentralized Machine Learning Reaches Market Cap, ORG, 0.0), (Decentralized Machine Learning, ORG, 0.0), (Hong Kong, GPE, 0.0), (NRG, ORG, 0.0), (IMG, ORG, 0.0), (Mistake Foxconn Launches Investigation After Reports Of Harsh Working Conditions, ORG, -0.2), (Flagstar Bancorp, ORG, 0.0), (Wells Fargo, ORG, 0.0), (Monster Beverage Corp NASDAQ, ORG, 0.0), (GE, ORG, 0.0), (IPO, ORG, 0.0), (Hong Kong, GPE, 0.0), (NRG, ORG, 0.0), (IMG, ORG, 0.0), (Decentralized Machine Learning Daily Enter, ORG,...</td>\n",
       "      <td>[(Decentralized Machine Learning, ORG, 0.0, 11), (US, GPE, 0.0, 4), (Hong Kong, GPE, 0.0, 2), (NRG, ORG, 0.0, 2), (IMG, ORG, 0.0, 2), (Flagstar Bancorp, ORG, 0.0, 2), (IDEX, ORG, 0.0, 2), (Mistake Foxconn Launches Investigation After Reports Of Harsh Working Conditions, ORG, -0.2, 2), (Stellar XLM, ORG, 0.25, 1), (Decentralized Machine Learning Reaches Market Cap, ORG, 0.0, 1), (Wells Fargo, ORG, 0.0, 1), (Monster Beverage Corp NASDAQ, ORG, 0.0, 1), (GE, ORG, 0.0, 1), (IPO, ORG, 0.0, 1), (De...</td>\n",
       "    </tr>\n",
       "    <tr>\n",
       "      <th>1</th>\n",
       "      <td>2</td>\n",
       "      <td>[(Intelligence AI, ORG, 0.0), (Natural Language Processing NLP, ORG, 0.1), (North America, LOC, 0.0), (Intelligence AI, ORG, 0.0), (Intelligence AI, ORG, 0.0), (Intelligence AI, ORG, 0.0), (North America, LOC, 0.0), (South America, LOC, 0.0), (Europe, LOC, 0.0), (Asia Pacific, LOC, 0.0), (Middle East Africa, LOC, 0.0), (Intelligence AI, ORG, 0.0), (Artificial Intelligence AI in Marketing Market, ORG, -0.6), (IBM Corporation, ORG, 0.0), (Google Inc., ORG, 0.0), (Inc., ORG, 0.0), (Albert Techn...</td>\n",
       "      <td>[(Intelligence AI, ORG, 0.0, 9), (North America, LOC, 0.0, 3), (South America, LOC, 0.0, 2), (Europe, LOC, 0.0, 2), (Middle East Africa, LOC, 0.0, 2), (Inc., ORG, 0.0, 2), (AI, ORG, 0.0, 2), (Artificial Intelligence AI, ORG, -0.6, 2), (Natural Language Processing NLP, ORG, 0.1, 1), (Asia Pacific, LOC, 0.0, 1), (IBM Corporation, ORG, 0.0, 1), (Google Inc., ORG, 0.0, 1), (Albert Technologies, PERSON, 0.0, 1), (Intel Corporation, ORG, 0.0, 1), (Microsoft Corporation, ORG, 0.0, 1), (NVIDIA Corpo...</td>\n",
       "    </tr>\n",
       "    <tr>\n",
       "      <th>2</th>\n",
       "      <td>3</td>\n",
       "      <td>[(Lisk Machine Learning, ORG, 0.0), (Lisk Machine Learning s, ORG, 0.0), (Lisk Machine Learning s, ORG, 0.0), (gny io, PERSON, 0.0), (Lisk Machine Learning, ORG, 0.0), (Lisk Machine Learning, ORG, 0.0), (U.S., GPE, 0.0), (Lisk Machine Learning Daily Enter, ORG, 0.0), (Lisk Machine Learning, ORG, 0.0), (Bitcoin or, ORG, 0.0), (Lisk Machine Learning, ORG, 0.0), (Atmos Energy Co., ORG, 0.0), (SeaTown Holdings Pte, ORG, 0.0), (Diabetes Patients and Advocates Fight Back Against Skyrocketing Insul...</td>\n",
       "      <td>[(Lisk Machine Learning, ORG, 0.0, 12), (U.S., GPE, 0.0, 3), (Lisk Machine Learning s, ORG, 0.0, 2), (US, GPE, 0.0, 2), (Stellar XLM, ORG, 0.25, 1), (Lisk Machine Learning Complete, ORG, 0.1, 1), (gny io, PERSON, 0.0, 1), (Lisk Machine Learning Daily Enter, ORG, 0.0, 1), (Bitcoin or, ORG, 0.0, 1), (Atmos Energy Co., ORG, 0.0, 1), (SeaTown Holdings Pte, ORG, 0.0, 1), (Diabetes Patients and Advocates Fight Back Against Skyrocketing Insulin Prices Lowe s Sales, ORG, 0.0, 1), (Bitcoin or Ethereu...</td>\n",
       "    </tr>\n",
       "  </tbody>\n",
       "</table>\n",
       "</div>"
      ],
      "text/plain": [
       "   article_id   \n",
       "0           1  \\\n",
       "1           2   \n",
       "2           3   \n",
       "\n",
       "                                                                                                                                                                                                                                                                                                                                                                                                                                                                                                      target_sentiment   \n",
       "0  [(Decentralized Machine Learning Reaches Market Cap, ORG, 0.0), (Decentralized Machine Learning, ORG, 0.0), (Hong Kong, GPE, 0.0), (NRG, ORG, 0.0), (IMG, ORG, 0.0), (Mistake Foxconn Launches Investigation After Reports Of Harsh Working Conditions, ORG, -0.2), (Flagstar Bancorp, ORG, 0.0), (Wells Fargo, ORG, 0.0), (Monster Beverage Corp NASDAQ, ORG, 0.0), (GE, ORG, 0.0), (IPO, ORG, 0.0), (Hong Kong, GPE, 0.0), (NRG, ORG, 0.0), (IMG, ORG, 0.0), (Decentralized Machine Learning Daily Enter, ORG,...  \\\n",
       "1  [(Intelligence AI, ORG, 0.0), (Natural Language Processing NLP, ORG, 0.1), (North America, LOC, 0.0), (Intelligence AI, ORG, 0.0), (Intelligence AI, ORG, 0.0), (Intelligence AI, ORG, 0.0), (North America, LOC, 0.0), (South America, LOC, 0.0), (Europe, LOC, 0.0), (Asia Pacific, LOC, 0.0), (Middle East Africa, LOC, 0.0), (Intelligence AI, ORG, 0.0), (Artificial Intelligence AI in Marketing Market, ORG, -0.6), (IBM Corporation, ORG, 0.0), (Google Inc., ORG, 0.0), (Inc., ORG, 0.0), (Albert Techn...   \n",
       "2  [(Lisk Machine Learning, ORG, 0.0), (Lisk Machine Learning s, ORG, 0.0), (Lisk Machine Learning s, ORG, 0.0), (gny io, PERSON, 0.0), (Lisk Machine Learning, ORG, 0.0), (Lisk Machine Learning, ORG, 0.0), (U.S., GPE, 0.0), (Lisk Machine Learning Daily Enter, ORG, 0.0), (Lisk Machine Learning, ORG, 0.0), (Bitcoin or, ORG, 0.0), (Lisk Machine Learning, ORG, 0.0), (Atmos Energy Co., ORG, 0.0), (SeaTown Holdings Pte, ORG, 0.0), (Diabetes Patients and Advocates Fight Back Against Skyrocketing Insul...   \n",
       "\n",
       "                                                                                                                                                                                                                                                                                                                                                                                                                                                                                            aggregate_target_sentiment  \n",
       "0  [(Decentralized Machine Learning, ORG, 0.0, 11), (US, GPE, 0.0, 4), (Hong Kong, GPE, 0.0, 2), (NRG, ORG, 0.0, 2), (IMG, ORG, 0.0, 2), (Flagstar Bancorp, ORG, 0.0, 2), (IDEX, ORG, 0.0, 2), (Mistake Foxconn Launches Investigation After Reports Of Harsh Working Conditions, ORG, -0.2, 2), (Stellar XLM, ORG, 0.25, 1), (Decentralized Machine Learning Reaches Market Cap, ORG, 0.0, 1), (Wells Fargo, ORG, 0.0, 1), (Monster Beverage Corp NASDAQ, ORG, 0.0, 1), (GE, ORG, 0.0, 1), (IPO, ORG, 0.0, 1), (De...  \n",
       "1  [(Intelligence AI, ORG, 0.0, 9), (North America, LOC, 0.0, 3), (South America, LOC, 0.0, 2), (Europe, LOC, 0.0, 2), (Middle East Africa, LOC, 0.0, 2), (Inc., ORG, 0.0, 2), (AI, ORG, 0.0, 2), (Artificial Intelligence AI, ORG, -0.6, 2), (Natural Language Processing NLP, ORG, 0.1, 1), (Asia Pacific, LOC, 0.0, 1), (IBM Corporation, ORG, 0.0, 1), (Google Inc., ORG, 0.0, 1), (Albert Technologies, PERSON, 0.0, 1), (Intel Corporation, ORG, 0.0, 1), (Microsoft Corporation, ORG, 0.0, 1), (NVIDIA Corpo...  \n",
       "2  [(Lisk Machine Learning, ORG, 0.0, 12), (U.S., GPE, 0.0, 3), (Lisk Machine Learning s, ORG, 0.0, 2), (US, GPE, 0.0, 2), (Stellar XLM, ORG, 0.25, 1), (Lisk Machine Learning Complete, ORG, 0.1, 1), (gny io, PERSON, 0.0, 1), (Lisk Machine Learning Daily Enter, ORG, 0.0, 1), (Bitcoin or, ORG, 0.0, 1), (Atmos Energy Co., ORG, 0.0, 1), (SeaTown Holdings Pte, ORG, 0.0, 1), (Diabetes Patients and Advocates Fight Back Against Skyrocketing Insulin Prices Lowe s Sales, ORG, 0.0, 1), (Bitcoin or Ethereu...  "
      ]
     },
     "execution_count": 14,
     "metadata": {},
     "output_type": "execute_result"
    }
   ],
   "source": [
    "target_sentiment_gb.head(3)"
   ]
  },
  {
   "cell_type": "code",
   "execution_count": 17,
   "metadata": {},
   "outputs": [
    {
     "data": {
      "text/plain": [
       "(131714, 2)"
      ]
     },
     "execution_count": 17,
     "metadata": {},
     "output_type": "execute_result"
    }
   ],
   "source": [
    "target_sentiment_gb.shape"
   ]
  },
  {
   "cell_type": "code",
   "execution_count": 18,
   "metadata": {},
   "outputs": [],
   "source": [
    "# save a checkpoint\n",
    "bucket_read = path_bucket + '/' + 'checkpoint_0526_main.parquet'\n",
    "df_main = pd.read_parquet(bucket_read, engine='pyarrow')"
   ]
  },
  {
   "cell_type": "code",
   "execution_count": null,
   "metadata": {},
   "outputs": [],
   "source": [
    "# select only article_id and aggregate_target_sentiment\n",
    "target_sentiment_gb = target_sentiment_gb[['article_id', 'aggregate_target_sentiment']]"
   ]
  },
  {
   "cell_type": "code",
   "execution_count": 19,
   "metadata": {},
   "outputs": [],
   "source": [
    "# left join df_main and target_sentiment_gb\n",
    "df_main = df_main.merge(target_sentiment_gb, how='left', on='article_id')"
   ]
  },
  {
   "cell_type": "code",
   "execution_count": null,
   "metadata": {},
   "outputs": [],
   "source": [
    "# test = df.head(10)\n",
    "# test['sentiment_value'] = test['sentiment_value'].fillna(test['aggregate_target_sentiment'].parallel_apply(extract_sentiment_avg))\n",
    "# test.head(10)"
   ]
  },
  {
   "cell_type": "code",
   "execution_count": null,
   "metadata": {},
   "outputs": [],
   "source": [
    "# import pickle\n",
    "# bucket_read = path_bucket + '/' + 'checkpoint_0526_main.parquet'\n",
    "# df = pd.read_parquet(bucket_read, engine='pyarrow')\n",
    "# df['aggregate_target_sentiment'] = df['aggregate_target_sentiment'].apply(pickle.loads)"
   ]
  },
  {
   "cell_type": "code",
   "execution_count": 28,
   "metadata": {},
   "outputs": [],
   "source": [
    "# if the 'sentiment_value' is NaN, then set it to the average of top 10 results of 'aggregate_target_sentiment'\n",
    "\n",
    "def extract_sentiment_avg(tgt_sentiment_list):\n",
    "    '''\n",
    "    Input: an aggregate_target_sentiment list\n",
    "    Output: the average of the top 10 sentiment tuples' polarity\n",
    "    '''\n",
    "    if (isinstance(tgt_sentiment_list, list)) and (len(tgt_sentiment_list) > 0):\n",
    "        top_10 = tgt_sentiment_list[:10]\n",
    "        polarity_sum = 0\n",
    "        for tup in top_10:\n",
    "            polarity_sum += tup[2]\n",
    "        return polarity_sum/10\n",
    "    else:\n",
    "        return None"
   ]
  },
  {
   "cell_type": "code",
   "execution_count": 29,
   "metadata": {},
   "outputs": [
    {
     "data": {
      "application/vnd.jupyter.widget-view+json": {
       "model_id": "89d978e828674ddeb42d73b5da8d92a2",
       "version_major": 2,
       "version_minor": 0
      },
      "text/plain": [
       "VBox(children=(HBox(children=(IntProgress(value=0, description='0.00%', max=11105), Label(value='0 / 11105')))…"
      ]
     },
     "metadata": {},
     "output_type": "display_data"
    }
   ],
   "source": [
    "df['sentiment_value'] = df['sentiment_value'].fillna(df['aggregate_target_sentiment'].parallel_apply(extract_sentiment_avg))"
   ]
  },
  {
   "cell_type": "code",
   "execution_count": 30,
   "metadata": {},
   "outputs": [
    {
     "data": {
      "text/plain": [
       "sentiment_value\n",
       "False    131713\n",
       "True       1545\n",
       "Name: count, dtype: int64"
      ]
     },
     "execution_count": 30,
     "metadata": {},
     "output_type": "execute_result"
    }
   ],
   "source": [
    "df['sentiment_value'].isna().value_counts()"
   ]
  },
  {
   "attachments": {},
   "cell_type": "markdown",
   "metadata": {},
   "source": [
    "If the sentiment_value is still None/NaN, it indicates that neither the single sentences is certain (score>0.9) about its sentiment nor there're any entities identified with sentiments within that artile."
   ]
  },
  {
   "cell_type": "code",
   "execution_count": 31,
   "metadata": {},
   "outputs": [],
   "source": [
    "# drop na\n",
    "df = df.dropna(subset=['sentiment_value'])"
   ]
  },
  {
   "cell_type": "code",
   "execution_count": 33,
   "metadata": {},
   "outputs": [],
   "source": [
    "# # save a checkpoint\n",
    "# # Assuming `df` is your DataFrame and `col` is the column with the complex datatype\n",
    "# df['aggregate_target_sentiment'] = df['aggregate_target_sentiment'].apply(pickle.dumps)\n",
    "\n",
    "# # Then you can save the DataFrame as parquet\n",
    "# bucket_write = path_bucket + '/' + 'checkpoint_0526_main.parquet'\n",
    "# df.to_parquet(bucket_write, engine='pyarrow')"
   ]
  },
  {
   "cell_type": "code",
   "execution_count": null,
   "metadata": {},
   "outputs": [],
   "source": []
  },
  {
   "attachments": {},
   "cell_type": "markdown",
   "metadata": {},
   "source": [
    "## Analysis of Project Questions"
   ]
  },
  {
   "cell_type": "code",
   "execution_count": 3,
   "metadata": {},
   "outputs": [],
   "source": [
    "import matplotlib.pyplot as plt\n",
    "import seaborn as sns\n",
    "\n",
    "# set up the figure size: font size (12). title font size (14), label size (10)\n",
    "plt.rcParams['font.size'] = 12\n",
    "plt.rcParams['axes.titlesize'] = 14\n",
    "plt.rcParams['axes.labelsize'] = 10"
   ]
  },
  {
   "cell_type": "code",
   "execution_count": 4,
   "metadata": {},
   "outputs": [],
   "source": [
    "import pickle\n",
    "bucket_read = path_bucket + '/' + 'checkpoint_0526_main.parquet'\n",
    "df = pd.read_parquet(bucket_read, engine='pyarrow')\n",
    "df['aggregate_target_sentiment'] = df['aggregate_target_sentiment'].apply(pickle.loads)"
   ]
  },
  {
   "cell_type": "code",
   "execution_count": 5,
   "metadata": {},
   "outputs": [
    {
     "data": {
      "text/html": [
       "<div>\n",
       "<style scoped>\n",
       "    .dataframe tbody tr th:only-of-type {\n",
       "        vertical-align: middle;\n",
       "    }\n",
       "\n",
       "    .dataframe tbody tr th {\n",
       "        vertical-align: top;\n",
       "    }\n",
       "\n",
       "    .dataframe thead th {\n",
       "        text-align: right;\n",
       "    }\n",
       "</style>\n",
       "<table border=\"1\" class=\"dataframe\">\n",
       "  <thead>\n",
       "    <tr style=\"text-align: right;\">\n",
       "      <th></th>\n",
       "      <th>date</th>\n",
       "      <th>title</th>\n",
       "      <th>text_cleaned</th>\n",
       "      <th>article_topic</th>\n",
       "      <th>domain</th>\n",
       "      <th>article_id</th>\n",
       "      <th>sentiment_value</th>\n",
       "      <th>aggregate_target_sentiment</th>\n",
       "    </tr>\n",
       "  </thead>\n",
       "  <tbody>\n",
       "    <tr>\n",
       "      <th>0</th>\n",
       "      <td>2020-01-01</td>\n",
       "      <td>Decentralized Machine Learning Reaches Market Cap of $15,919.00 (DML) - Enterprise Leader</td>\n",
       "      <td>Decentralized Machine Learning Reaches Market Cap of 15,919.00 DML Enterprise Leader Daily Ratings News for Decentralized Machine Learning Complete the form below to receive the latest headlines and analysts' mendations for Decentralized Machine Learning with our free daily email newsletter: Follow EnterpriseLeade Recent Posts GE Announces Its Plan To Sell The Distributed Power Business To Advent International Ebang Communication Resorts To The Filing Of An IPO In Hong Kong How to Open DAA, ...</td>\n",
       "      <td>3</td>\n",
       "      <td>theenterpriseleader.com</td>\n",
       "      <td>1</td>\n",
       "      <td>0.00</td>\n",
       "      <td>[(Decentralized Machine Learning, ORG, 0.0, 11), (US, GPE, 0.0, 4), (Hong Kong, GPE, 0.0, 2), (NRG, ORG, 0.0, 2), (IMG, ORG, 0.0, 2), (Flagstar Bancorp, ORG, 0.0, 2), (IDEX, ORG, 0.0, 2), (Mistake Foxconn Launches Investigation After Reports Of Harsh Working Conditions, ORG, -0.2, 2), (Stellar XLM, ORG, 0.25, 1), (Decentralized Machine Learning Reaches Market Cap, ORG, 0.0, 1), (Wells Fargo, ORG, 0.0, 1), (Monster Beverage Corp NASDAQ, ORG, 0.0, 1), (GE, ORG, 0.0, 1), (IPO, ORG, 0.0, 1), (De...</td>\n",
       "    </tr>\n",
       "    <tr>\n",
       "      <th>1</th>\n",
       "      <td>2020-01-01</td>\n",
       "      <td>Artificial Intelligence (AI) in Marketing Market Scope, Size, Share, Trends, Forecast by 2026 – Market Reports Observer</td>\n",
       "      <td>Artificial Intelligence AI in Marketing Market Scope, Size, Share, Trends, Forecast by 2026 Market Reports Observer Skip to content 488 E 11th Ave, Eugene, OR 97401, USA 1 541 687 2347 email protected Market Reports Observer Artificial intelligence AI is the ability to process information in a way similar to the thought process of humans in learning, decision making, and problem solving. Enterprises are now identifying the value associated with integrating AI into their business processes. ...</td>\n",
       "      <td>1</td>\n",
       "      <td>marketreportobserver.com</td>\n",
       "      <td>2</td>\n",
       "      <td>-0.05</td>\n",
       "      <td>[(Intelligence AI, ORG, 0.0, 9), (North America, LOC, 0.0, 3), (South America, LOC, 0.0, 2), (Europe, LOC, 0.0, 2), (Middle East Africa, LOC, 0.0, 2), (Inc., ORG, 0.0, 2), (AI, ORG, 0.0, 2), (Artificial Intelligence AI, ORG, -0.6, 2), (Natural Language Processing NLP, ORG, 0.1, 1), (Asia Pacific, LOC, 0.0, 1), (IBM Corporation, ORG, 0.0, 1), (Google Inc., ORG, 0.0, 1), (Albert Technologies, PERSON, 0.0, 1), (Intel Corporation, ORG, 0.0, 1), (Microsoft Corporation, ORG, 0.0, 1), (NVIDIA Corpo...</td>\n",
       "    </tr>\n",
       "  </tbody>\n",
       "</table>\n",
       "</div>"
      ],
      "text/plain": [
       "        date   \n",
       "0 2020-01-01  \\\n",
       "1 2020-01-01   \n",
       "\n",
       "                                                                                                                     title   \n",
       "0                                Decentralized Machine Learning Reaches Market Cap of $15,919.00 (DML) - Enterprise Leader  \\\n",
       "1  Artificial Intelligence (AI) in Marketing Market Scope, Size, Share, Trends, Forecast by 2026 – Market Reports Observer   \n",
       "\n",
       "                                                                                                                                                                                                                                                                                                                                                                                                                                                                                                          text_cleaned   \n",
       "0  Decentralized Machine Learning Reaches Market Cap of 15,919.00 DML Enterprise Leader Daily Ratings News for Decentralized Machine Learning Complete the form below to receive the latest headlines and analysts' mendations for Decentralized Machine Learning with our free daily email newsletter: Follow EnterpriseLeade Recent Posts GE Announces Its Plan To Sell The Distributed Power Business To Advent International Ebang Communication Resorts To The Filing Of An IPO In Hong Kong How to Open DAA, ...  \\\n",
       "1   Artificial Intelligence AI in Marketing Market Scope, Size, Share, Trends, Forecast by 2026 Market Reports Observer Skip to content 488 E 11th Ave, Eugene, OR 97401, USA 1 541 687 2347 email protected Market Reports Observer Artificial intelligence AI is the ability to process information in a way similar to the thought process of humans in learning, decision making, and problem solving. Enterprises are now identifying the value associated with integrating AI into their business processes. ...   \n",
       "\n",
       "   article_topic                    domain  article_id  sentiment_value   \n",
       "0              3   theenterpriseleader.com           1             0.00  \\\n",
       "1              1  marketreportobserver.com           2            -0.05   \n",
       "\n",
       "                                                                                                                                                                                                                                                                                                                                                                                                                                                                                            aggregate_target_sentiment  \n",
       "0  [(Decentralized Machine Learning, ORG, 0.0, 11), (US, GPE, 0.0, 4), (Hong Kong, GPE, 0.0, 2), (NRG, ORG, 0.0, 2), (IMG, ORG, 0.0, 2), (Flagstar Bancorp, ORG, 0.0, 2), (IDEX, ORG, 0.0, 2), (Mistake Foxconn Launches Investigation After Reports Of Harsh Working Conditions, ORG, -0.2, 2), (Stellar XLM, ORG, 0.25, 1), (Decentralized Machine Learning Reaches Market Cap, ORG, 0.0, 1), (Wells Fargo, ORG, 0.0, 1), (Monster Beverage Corp NASDAQ, ORG, 0.0, 1), (GE, ORG, 0.0, 1), (IPO, ORG, 0.0, 1), (De...  \n",
       "1  [(Intelligence AI, ORG, 0.0, 9), (North America, LOC, 0.0, 3), (South America, LOC, 0.0, 2), (Europe, LOC, 0.0, 2), (Middle East Africa, LOC, 0.0, 2), (Inc., ORG, 0.0, 2), (AI, ORG, 0.0, 2), (Artificial Intelligence AI, ORG, -0.6, 2), (Natural Language Processing NLP, ORG, 0.1, 1), (Asia Pacific, LOC, 0.0, 1), (IBM Corporation, ORG, 0.0, 1), (Google Inc., ORG, 0.0, 1), (Albert Technologies, PERSON, 0.0, 1), (Intel Corporation, ORG, 0.0, 1), (Microsoft Corporation, ORG, 0.0, 1), (NVIDIA Corpo...  "
      ]
     },
     "execution_count": 5,
     "metadata": {},
     "output_type": "execute_result"
    }
   ],
   "source": [
    "df.head(2)"
   ]
  },
  {
   "attachments": {},
   "cell_type": "markdown",
   "metadata": {},
   "source": [
    "### Counts of Publication over time"
   ]
  },
  {
   "cell_type": "code",
   "execution_count": 20,
   "metadata": {},
   "outputs": [
    {
     "data": {
      "text/html": [
       "<div>\n",
       "<style scoped>\n",
       "    .dataframe tbody tr th:only-of-type {\n",
       "        vertical-align: middle;\n",
       "    }\n",
       "\n",
       "    .dataframe tbody tr th {\n",
       "        vertical-align: top;\n",
       "    }\n",
       "\n",
       "    .dataframe thead th {\n",
       "        text-align: right;\n",
       "    }\n",
       "</style>\n",
       "<table border=\"1\" class=\"dataframe\">\n",
       "  <thead>\n",
       "    <tr style=\"text-align: right;\">\n",
       "      <th></th>\n",
       "      <th>date</th>\n",
       "      <th>article_id</th>\n",
       "    </tr>\n",
       "  </thead>\n",
       "  <tbody>\n",
       "    <tr>\n",
       "      <th>0</th>\n",
       "      <td>2020-01</td>\n",
       "      <td>1866</td>\n",
       "    </tr>\n",
       "    <tr>\n",
       "      <th>1</th>\n",
       "      <td>2020-02</td>\n",
       "      <td>1835</td>\n",
       "    </tr>\n",
       "  </tbody>\n",
       "</table>\n",
       "</div>"
      ],
      "text/plain": [
       "      date  article_id\n",
       "0  2020-01        1866\n",
       "1  2020-02        1835"
      ]
     },
     "execution_count": 20,
     "metadata": {},
     "output_type": "execute_result"
    }
   ],
   "source": [
    "# convert date to YYYY-MM format\n",
    "df_tmp = df[['article_id', 'date']]\n",
    "df_tmp['date'] = df_tmp['date'].dt.strftime('%Y-%m')\n",
    "\n",
    "# group by week to get the count of articles\n",
    "df_month = df_tmp.groupby('date').agg({'article_id': 'count'}).reset_index()\n",
    "df_month.head(2)"
   ]
  },
  {
   "cell_type": "code",
   "execution_count": 22,
   "metadata": {},
   "outputs": [
    {
     "data": {
      "image/png": "[encoded data removed]",
      "text/plain": [
       "<Figure size 1600x800 with 1 Axes>"
      ]
     },
     "metadata": {},
     "output_type": "display_data"
    }
   ],
   "source": [
    "# use matplotlib to make a time series plot\n",
    "plt.figure(figsize=(16, 8))\n",
    "plt.plot(df_month['date'], df_month['article_id'])\n",
    "plt.title('Number of Articles by Month')\n",
    "# rotate the xticks\n",
    "plt.xlabel('Date (YYYY-MM)')\n",
    "plt.ylabel('Number of Articles')\n",
    "plt.xticks(rotation=90)\n",
    "plt.show()"
   ]
  },
  {
   "attachments": {},
   "cell_type": "markdown",
   "metadata": {},
   "source": [
    "### Sentiment Change overtime"
   ]
  },
  {
   "cell_type": "code",
   "execution_count": 6,
   "metadata": {},
   "outputs": [
    {
     "data": {
      "text/html": [
       "<div>\n",
       "<style scoped>\n",
       "    .dataframe tbody tr th:only-of-type {\n",
       "        vertical-align: middle;\n",
       "    }\n",
       "\n",
       "    .dataframe tbody tr th {\n",
       "        vertical-align: top;\n",
       "    }\n",
       "\n",
       "    .dataframe thead th {\n",
       "        text-align: right;\n",
       "    }\n",
       "</style>\n",
       "<table border=\"1\" class=\"dataframe\">\n",
       "  <thead>\n",
       "    <tr style=\"text-align: right;\">\n",
       "      <th></th>\n",
       "      <th>month</th>\n",
       "      <th>sentiment_value</th>\n",
       "    </tr>\n",
       "  </thead>\n",
       "  <tbody>\n",
       "    <tr>\n",
       "      <th>0</th>\n",
       "      <td>2020-01</td>\n",
       "      <td>0.127906</td>\n",
       "    </tr>\n",
       "    <tr>\n",
       "      <th>1</th>\n",
       "      <td>2020-02</td>\n",
       "      <td>0.142418</td>\n",
       "    </tr>\n",
       "  </tbody>\n",
       "</table>\n",
       "</div>"
      ],
      "text/plain": [
       "     month  sentiment_value\n",
       "0  2020-01         0.127906\n",
       "1  2020-02         0.142418"
      ]
     },
     "execution_count": 6,
     "metadata": {},
     "output_type": "execute_result"
    }
   ],
   "source": [
    "# create a temp df\n",
    "df_tmp = df[['article_id', 'date', 'sentiment_value']]\n",
    "\n",
    "# convert date to YYYY-MM format\n",
    "df_tmp['month'] = df_tmp['date'].dt.strftime('%Y-%m')\n",
    "\n",
    "# groupby 'month' to calculate the average sentiment value\n",
    "df_month = df_tmp.groupby('month').agg({'sentiment_value': 'mean'}).reset_index()\n",
    "df_month.head(2)"
   ]
  },
  {
   "cell_type": "code",
   "execution_count": 7,
   "metadata": {},
   "outputs": [
    {
     "data": {
      "image/png": "[encoded data removed]",
      "text/plain": [
       "<Figure size 1600x800 with 1 Axes>"
      ]
     },
     "metadata": {},
     "output_type": "display_data"
    }
   ],
   "source": [
    "# use matplotlib to make a time series plot\n",
    "plt.figure(figsize=(16, 8))\n",
    "plt.plot(df_month['month'], df_month['sentiment_value'])\n",
    "plt.title('Average Sentiment Value by Month')\n",
    "# rotate the xticks\n",
    "plt.xlabel('Date (YYYY-MM)')\n",
    "plt.ylabel('Average Sentiment Value')\n",
    "plt.xticks(rotation=90)\n",
    "plt.show()"
   ]
  },
  {
   "attachments": {},
   "cell_type": "markdown",
   "metadata": {},
   "source": [
    "## Sentiment change over time, with scale of publications (热度)\n",
    "\n",
    "We can combine the two plots above:\n",
    "$Heatness_{monthly} = avg\\_sentiment \\times monthly\\_publications$"
   ]
  },
  {
   "cell_type": "code",
   "execution_count": 8,
   "metadata": {},
   "outputs": [
    {
     "data": {
      "text/html": [
       "<div>\n",
       "<style scoped>\n",
       "    .dataframe tbody tr th:only-of-type {\n",
       "        vertical-align: middle;\n",
       "    }\n",
       "\n",
       "    .dataframe tbody tr th {\n",
       "        vertical-align: top;\n",
       "    }\n",
       "\n",
       "    .dataframe thead th {\n",
       "        text-align: right;\n",
       "    }\n",
       "</style>\n",
       "<table border=\"1\" class=\"dataframe\">\n",
       "  <thead>\n",
       "    <tr style=\"text-align: right;\">\n",
       "      <th></th>\n",
       "      <th>month</th>\n",
       "      <th>sentiment_value</th>\n",
       "      <th>article_id</th>\n",
       "      <th>heatness</th>\n",
       "    </tr>\n",
       "  </thead>\n",
       "  <tbody>\n",
       "    <tr>\n",
       "      <th>0</th>\n",
       "      <td>2020-01</td>\n",
       "      <td>0.127906</td>\n",
       "      <td>1819</td>\n",
       "      <td>232.660304</td>\n",
       "    </tr>\n",
       "    <tr>\n",
       "      <th>1</th>\n",
       "      <td>2020-02</td>\n",
       "      <td>0.142418</td>\n",
       "      <td>1808</td>\n",
       "      <td>257.491162</td>\n",
       "    </tr>\n",
       "  </tbody>\n",
       "</table>\n",
       "</div>"
      ],
      "text/plain": [
       "     month  sentiment_value  article_id    heatness\n",
       "0  2020-01         0.127906        1819  232.660304\n",
       "1  2020-02         0.142418        1808  257.491162"
      ]
     },
     "execution_count": 8,
     "metadata": {},
     "output_type": "execute_result"
    }
   ],
   "source": [
    "# create a temp df\n",
    "df_tmp = df[['article_id', 'date', 'sentiment_value']]\n",
    "\n",
    "# convert date to YYYY-MM format\n",
    "df_tmp['month'] = df_tmp['date'].dt.strftime('%Y-%m')\n",
    "\n",
    "# groupby 'month' to calculate the average sentiment value\n",
    "df_month = df_tmp.groupby('month').agg({'sentiment_value': 'mean', 'article_id': 'count'}).reset_index()\n",
    "df_month['heatness'] = df_month['sentiment_value'] * df_month['article_id']\n",
    "df_month.head(2)"
   ]
  },
  {
   "cell_type": "code",
   "execution_count": 9,
   "metadata": {},
   "outputs": [
    {
     "data": {
      "image/png": "[encoded data removed]",
      "text/plain": [
       "<Figure size 1600x800 with 1 Axes>"
      ]
     },
     "metadata": {},
     "output_type": "display_data"
    }
   ],
   "source": [
    "# use matplotlib to make a time series plot\n",
    "plt.figure(figsize=(16, 8))\n",
    "plt.plot(df_month['month'], df_month['heatness'])\n",
    "plt.title('Heatness by Month')\n",
    "# rotate the xticks\n",
    "plt.xlabel('Date (YYYY-MM)')\n",
    "plt.ylabel('Heatness')\n",
    "plt.xticks(rotation=90)\n",
    "plt.show()"
   ]
  },
  {
   "cell_type": "code",
   "execution_count": null,
   "metadata": {},
   "outputs": [],
   "source": []
  }
 ],
 "metadata": {
  "kernelspec": {
   "display_name": "nlp",
   "language": "python",
   "name": "python3"
  },
  "language_info": {
   "codemirror_mode": {
    "name": "ipython",
    "version": 3
   },
   "file_extension": ".py",
   "mimetype": "text/x-python",
   "name": "python",
   "nbconvert_exporter": "python",
   "pygments_lexer": "ipython3",
   "version": "3.10.0"
  },
  "orig_nbformat": 4
 },
 "nbformat": 4,
 "nbformat_minor": 2
}
