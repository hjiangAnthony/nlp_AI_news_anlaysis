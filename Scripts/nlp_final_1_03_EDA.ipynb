{
 "cells": [
  {
   "attachments": {},
   "cell_type": "markdown",
   "metadata": {},
   "source": [
    "## Set-up"
   ]
  },
  {
   "cell_type": "code",
   "execution_count": 1,
   "metadata": {},
   "outputs": [
    {
     "name": "stdout",
     "output_type": "stream",
     "text": [
      "INFO: Pandarallel will run on 12 workers.\n",
      "INFO: Pandarallel will use Memory file system to transfer data between the main process and workers.\n"
     ]
    }
   ],
   "source": [
    "import pandas as pd\n",
    "\n",
    "import warnings\n",
    "warnings.filterwarnings(\"ignore\")\n",
    "\n",
    "from pprint import pprint\n",
    "import re\n",
    "from tqdm import tqdm\n",
    "tqdm.pandas()\n",
    "import numpy as np\n",
    "\n",
    "from pandarallel import pandarallel\n",
    "pandarallel.initialize(nb_workers=12, progress_bar=True)\n",
    "\n",
    "import pandas as pd\n",
    "pd.set_option('display.max_rows', 100)\n",
    "pd.set_option('display.max_columns', None)\n",
    "pd.set_option('display.max_colwidth', 500)\n",
    "\n",
    "import warnings\n",
    "warnings.filterwarnings(\"ignore\")"
   ]
  },
  {
   "cell_type": "code",
   "execution_count": 2,
   "metadata": {},
   "outputs": [
    {
     "name": "stdout",
     "output_type": "stream",
     "text": [
      "/home/anthony/projects/nlp_runtime\n"
     ]
    }
   ],
   "source": [
    "#!pwd\n",
    "import os\n",
    "\n",
    "# Google Bucket\n",
    "# file name checkpoint_0512_sent_split.parquet\n",
    "path_bucket = 'gs://msca-sp23-bucket/nlp_data'\n",
    "runtime_path = '/home/anthony/projects/nlp_runtime'\n",
    "bucket_read = path_bucket + '/' + 'checkpoint_0524_lda_data_lda_8_topics.parquet'\n",
    "\n",
    "os.chdir(runtime_path)\n",
    "print(os.getcwd())"
   ]
  },
  {
   "cell_type": "code",
   "execution_count": 3,
   "metadata": {},
   "outputs": [
    {
     "name": "stderr",
     "output_type": "stream",
     "text": [
      "2023-05-25 04:04:33.802037: I tensorflow/core/platform/cpu_feature_guard.cc:182] This TensorFlow binary is optimized to use available CPU instructions in performance-critical operations.\n",
      "To enable the following instructions: AVX2 FMA, in other operations, rebuild TensorFlow with the appropriate compiler flags.\n",
      "2023-05-25 04:04:34.801794: W tensorflow/compiler/tf2tensorrt/utils/py_utils.cc:38] TF-TRT Warning: Could not find TensorRT\n"
     ]
    }
   ],
   "source": [
    "import spacy"
   ]
  },
  {
   "cell_type": "code",
   "execution_count": 4,
   "metadata": {},
   "outputs": [],
   "source": [
    "import en_core_web_md\n",
    "nlp = spacy.load(\"en_core_web_md\")"
   ]
  },
  {
   "attachments": {},
   "cell_type": "markdown",
   "metadata": {},
   "source": [
    "## Preparation"
   ]
  },
  {
   "cell_type": "code",
   "execution_count": 5,
   "metadata": {},
   "outputs": [
    {
     "data": {
      "text/html": [
       "<div>\n",
       "<style scoped>\n",
       "    .dataframe tbody tr th:only-of-type {\n",
       "        vertical-align: middle;\n",
       "    }\n",
       "\n",
       "    .dataframe tbody tr th {\n",
       "        vertical-align: top;\n",
       "    }\n",
       "\n",
       "    .dataframe thead th {\n",
       "        text-align: right;\n",
       "    }\n",
       "</style>\n",
       "<table border=\"1\" class=\"dataframe\">\n",
       "  <thead>\n",
       "    <tr style=\"text-align: right;\">\n",
       "      <th></th>\n",
       "      <th>url</th>\n",
       "      <th>date</th>\n",
       "      <th>title</th>\n",
       "      <th>text_cleaned</th>\n",
       "      <th>text_lda</th>\n",
       "      <th>tokens</th>\n",
       "      <th>topic</th>\n",
       "    </tr>\n",
       "  </thead>\n",
       "  <tbody>\n",
       "    <tr>\n",
       "      <th>0</th>\n",
       "      <td>http://en.people.cn/n3/2021/0318/c90000-9830122.html</td>\n",
       "      <td>2021-03-18</td>\n",
       "      <td>Artificial intelligence improves parking efficiency in Chinese cities - People's Daily Online</td>\n",
       "      <td>Artificial intelligence improves parking efficiency in Chinese cities   People's Daily Online Chinese Japanese French Spanish Russian Arabic Korean German Portuguese Thursday, March 18, 2021 Home     Artificial intelligence improves parking efficiency in Chinese cities By Liu Shiyao  People's Daily  09:16, March 18, 2021 Photo taken on July 1, 2019, shows a sign for electronic toll collection  ETC  newly set up at a roadside parking space on Yangzhuang road, Shijingshan district, Beijing. So...</td>\n",
       "      <td>Artificial intelligence improves parking efficiency in Chinese cities   People's Daily Online Chinese Japanese French Spanish Russian Arabic Korean German Portuguese Thursday, March 18, 2021 Home     Artificial intelligence improves parking efficiency in Chinese cities By Liu Shiyao  People's Daily  09:16, March 18, 2021 Photo taken on July 1, 2019, shows a sign for electronic toll collection  ETC  newly set up at a roadside parking space on Yangzhuang road, Shijingshan district, Beijing. So...</td>\n",
       "      <td>[artificial, intelligence, improve, parking, efficiency, chinese, city, people, daily, online, chinese, japanese, french, spanish, russian, arabic, korean, german, portuguese, thursday, march, home, artificial, intelligence, improve, parking, efficiency, chinese, city, liu, shiyao, people, daily, march, photo, take, july, show, sign, electronic, toll, collection, etc, set, roadside, parking, space, yangzhuang, road, shijingshan, district, beijing, urban, area, city, start, use, etc, system, ...</td>\n",
       "      <td>0</td>\n",
       "    </tr>\n",
       "    <tr>\n",
       "      <th>1</th>\n",
       "      <td>http://newsparliament.com/2020/02/27/children-with-autism-saw-their-learning-and-social-skills-boosted-after-playing-with-this-ai-robot/</td>\n",
       "      <td>2020-02-27</td>\n",
       "      <td>Children With Autism Saw Their Learning and Social Skills Boosted After Playing With This AI Robot – News Parliament</td>\n",
       "      <td>Children With Autism Saw Their Learning and Social Skills Boosted After Playing With This AI Robot   News Parliament          Children With Autism Saw Their Learning and Social Skills Boosted After Playing With This AI Robot        Author Recent Posts   admin  Latest posts by admin  see all   Mansplaining in conferences: How can we get him to forestall?   February 27, 2020   Coronavirus Could Explode in the U.S. Overnight Like it Did in Italy   February 27, 2020   Levi Strauss marks the nex...</td>\n",
       "      <td>Children With Autism Saw Their Learning and Social Skills Boosted After Playing With This AI Robot   News Parliament          Children With Autism Saw Their Learning and Social Skills Boosted After Playing With This AI Robot        Author Recent Posts   admin  Latest posts by admin  see all   Mansplaining in conferences: How can we get him to forestall?   February 27, 2020   Coronavirus Could Explode in the U.S. Overnight Like it Did in Italy   February 27, 2020   Levi Strauss marks the nex...</td>\n",
       "      <td>[children, autism, see, learning, social, skills, boost, play, ai, robot, news, parliament, children, autism, see, learning, social, skills, boost, play, ai, robot, author, recent, posts, admin, late, post, admin, mansplaining, conference, forestall, february, coronavirus, explode, overnight, like, italy, february, levi, strauss, mark, phase, corporate, pay, leave, policy, february, scientist, design, clever, robotic, help, youngster, autism, spice, study, social, talent, hope, era, future, ...</td>\n",
       "      <td>6</td>\n",
       "    </tr>\n",
       "    <tr>\n",
       "      <th>2</th>\n",
       "      <td>http://www.dataweek.co.za/12835r</td>\n",
       "      <td>2021-03-26</td>\n",
       "      <td>Forget ML, AI and Industry 4.0 – obsolescence should be your focus - 26 February 2021 - Test &amp; Rework Solutions - Dataweek</td>\n",
       "      <td>Forget ML, AI and Industry 4.0   obsolescence should be your focus   26 February 2021   Test   Rework Solutions   Dataweek Home About us Back issues / E book / PDF EMP Handbook Subscribe Advertise   Editor's Choice   Multimedia, Videos   Analogue, Mixed Signal, LSI   Circuit   System Protection   Computer/Embedded Technology   Design Automation   DSP, Micros   Memory   Electronics Technology   Enclosures, Racks, Cabinets   Panel Products   Events   Interconnection   Manufacturing / Productio...</td>\n",
       "      <td>Forget ML, AI and Industry 4.0   obsolescence should be your focus   26 February 2021   Test   Rework Solutions   Dataweek Home About us Back issues / E book / PDF EMP Handbook Subscribe Advertise   Editor's Choice   Multimedia, Videos   Analogue, Mixed Signal, LSI   Circuit   System Protection   Computer/Embedded Technology   Design Automation   DSP, Micros   Memory   Electronics Technology   Enclosures, Racks, Cabinets   Panel Products   Events   Interconnection   Manufacturing / Productio...</td>\n",
       "      <td>[forget, ml, ai, industry, obsolescence, focus, february, test, rework, solutions, dataweek, home, issue, e, book, pdf, emp, handbook, subscribe, advertise, editor, choice, multimedia, videos, analogue, mixed, signal, lsi, circuit, system, protection, computer, embedded, technology, design, automation, dsp, micros, memory, electronics, technology, enclosures, racks, cabinets, panel, products, event, interconnection, manufacturing, production, technology, hardware, services, news, opto, elect...</td>\n",
       "      <td>2</td>\n",
       "    </tr>\n",
       "  </tbody>\n",
       "</table>\n",
       "</div>"
      ],
      "text/plain": [
       "                                                                                                                                        url   \n",
       "0                                                                                      http://en.people.cn/n3/2021/0318/c90000-9830122.html  \\\n",
       "1  http://newsparliament.com/2020/02/27/children-with-autism-saw-their-learning-and-social-skills-boosted-after-playing-with-this-ai-robot/   \n",
       "2                                                                                                          http://www.dataweek.co.za/12835r   \n",
       "\n",
       "         date   \n",
       "0  2021-03-18  \\\n",
       "1  2020-02-27   \n",
       "2  2021-03-26   \n",
       "\n",
       "                                                                                                                        title   \n",
       "0                               Artificial intelligence improves parking efficiency in Chinese cities - People's Daily Online  \\\n",
       "1        Children With Autism Saw Their Learning and Social Skills Boosted After Playing With This AI Robot – News Parliament   \n",
       "2  Forget ML, AI and Industry 4.0 – obsolescence should be your focus - 26 February 2021 - Test & Rework Solutions - Dataweek   \n",
       "\n",
       "                                                                                                                                                                                                                                                                                                                                                                                                                                                                                                          text_cleaned   \n",
       "0  Artificial intelligence improves parking efficiency in Chinese cities   People's Daily Online Chinese Japanese French Spanish Russian Arabic Korean German Portuguese Thursday, March 18, 2021 Home     Artificial intelligence improves parking efficiency in Chinese cities By Liu Shiyao  People's Daily  09:16, March 18, 2021 Photo taken on July 1, 2019, shows a sign for electronic toll collection  ETC  newly set up at a roadside parking space on Yangzhuang road, Shijingshan district, Beijing. So...  \\\n",
       "1   Children With Autism Saw Their Learning and Social Skills Boosted After Playing With This AI Robot   News Parliament          Children With Autism Saw Their Learning and Social Skills Boosted After Playing With This AI Robot        Author Recent Posts   admin  Latest posts by admin  see all   Mansplaining in conferences: How can we get him to forestall?   February 27, 2020   Coronavirus Could Explode in the U.S. Overnight Like it Did in Italy   February 27, 2020   Levi Strauss marks the nex...   \n",
       "2  Forget ML, AI and Industry 4.0   obsolescence should be your focus   26 February 2021   Test   Rework Solutions   Dataweek Home About us Back issues / E book / PDF EMP Handbook Subscribe Advertise   Editor's Choice   Multimedia, Videos   Analogue, Mixed Signal, LSI   Circuit   System Protection   Computer/Embedded Technology   Design Automation   DSP, Micros   Memory   Electronics Technology   Enclosures, Racks, Cabinets   Panel Products   Events   Interconnection   Manufacturing / Productio...   \n",
       "\n",
       "                                                                                                                                                                                                                                                                                                                                                                                                                                                                                                              text_lda   \n",
       "0  Artificial intelligence improves parking efficiency in Chinese cities   People's Daily Online Chinese Japanese French Spanish Russian Arabic Korean German Portuguese Thursday, March 18, 2021 Home     Artificial intelligence improves parking efficiency in Chinese cities By Liu Shiyao  People's Daily  09:16, March 18, 2021 Photo taken on July 1, 2019, shows a sign for electronic toll collection  ETC  newly set up at a roadside parking space on Yangzhuang road, Shijingshan district, Beijing. So...  \\\n",
       "1   Children With Autism Saw Their Learning and Social Skills Boosted After Playing With This AI Robot   News Parliament          Children With Autism Saw Their Learning and Social Skills Boosted After Playing With This AI Robot        Author Recent Posts   admin  Latest posts by admin  see all   Mansplaining in conferences: How can we get him to forestall?   February 27, 2020   Coronavirus Could Explode in the U.S. Overnight Like it Did in Italy   February 27, 2020   Levi Strauss marks the nex...   \n",
       "2  Forget ML, AI and Industry 4.0   obsolescence should be your focus   26 February 2021   Test   Rework Solutions   Dataweek Home About us Back issues / E book / PDF EMP Handbook Subscribe Advertise   Editor's Choice   Multimedia, Videos   Analogue, Mixed Signal, LSI   Circuit   System Protection   Computer/Embedded Technology   Design Automation   DSP, Micros   Memory   Electronics Technology   Enclosures, Racks, Cabinets   Panel Products   Events   Interconnection   Manufacturing / Productio...   \n",
       "\n",
       "                                                                                                                                                                                                                                                                                                                                                                                                                                                                                                                tokens   \n",
       "0  [artificial, intelligence, improve, parking, efficiency, chinese, city, people, daily, online, chinese, japanese, french, spanish, russian, arabic, korean, german, portuguese, thursday, march, home, artificial, intelligence, improve, parking, efficiency, chinese, city, liu, shiyao, people, daily, march, photo, take, july, show, sign, electronic, toll, collection, etc, set, roadside, parking, space, yangzhuang, road, shijingshan, district, beijing, urban, area, city, start, use, etc, system, ...  \\\n",
       "1  [children, autism, see, learning, social, skills, boost, play, ai, robot, news, parliament, children, autism, see, learning, social, skills, boost, play, ai, robot, author, recent, posts, admin, late, post, admin, mansplaining, conference, forestall, february, coronavirus, explode, overnight, like, italy, february, levi, strauss, mark, phase, corporate, pay, leave, policy, february, scientist, design, clever, robotic, help, youngster, autism, spice, study, social, talent, hope, era, future, ...   \n",
       "2  [forget, ml, ai, industry, obsolescence, focus, february, test, rework, solutions, dataweek, home, issue, e, book, pdf, emp, handbook, subscribe, advertise, editor, choice, multimedia, videos, analogue, mixed, signal, lsi, circuit, system, protection, computer, embedded, technology, design, automation, dsp, micros, memory, electronics, technology, enclosures, racks, cabinets, panel, products, event, interconnection, manufacturing, production, technology, hardware, services, news, opto, elect...   \n",
       "\n",
       "   topic  \n",
       "0      0  \n",
       "1      6  \n",
       "2      2  "
      ]
     },
     "execution_count": 5,
     "metadata": {},
     "output_type": "execute_result"
    }
   ],
   "source": [
    "df_raw = pd.read_parquet(bucket_read, engine='pyarrow')\n",
    "df_raw.head(3)"
   ]
  },
  {
   "cell_type": "code",
   "execution_count": 6,
   "metadata": {},
   "outputs": [],
   "source": [
    "# rename column: text_lda -> text_40_percent\n",
    "df_raw.rename(columns={'text_lda':'text_40_pct'}, inplace=True)"
   ]
  },
  {
   "attachments": {},
   "cell_type": "markdown",
   "metadata": {},
   "source": [
    "## News source check and filtering\n",
    "\n",
    "I want to control for sources of reputation and good quality. So, here are the steps:\n",
    "- extract domain names\n",
    "- count the number of articles per domain name in this dataset\n",
    "- expplore the distribution of publications by domain name\n",
    "- make decision on filtering"
   ]
  },
  {
   "cell_type": "code",
   "execution_count": 7,
   "metadata": {},
   "outputs": [],
   "source": [
    "import re"
   ]
  },
  {
   "cell_type": "code",
   "execution_count": 8,
   "metadata": {},
   "outputs": [
    {
     "data": {
      "application/vnd.jupyter.widget-view+json": {
       "model_id": "b26f26ceed7f4cd29ab7900a512cdb10",
       "version_major": 2,
       "version_minor": 0
      },
      "text/plain": [
       "VBox(children=(HBox(children=(IntProgress(value=0, description='0.00%', max=15457), Label(value='0 / 15457')))…"
      ]
     },
     "metadata": {},
     "output_type": "display_data"
    }
   ],
   "source": [
    "# extract domain name from url\n",
    "df_raw['domain'] = df_raw['url'].parallel_apply(lambda x: re.match(r\"^(?:https?:\\/\\/)?(?:www\\.)?([^\\/\\n]+)\", x).group(1))"
   ]
  },
  {
   "cell_type": "code",
   "execution_count": 9,
   "metadata": {},
   "outputs": [
    {
     "data": {
      "text/html": [
       "<div>\n",
       "<style scoped>\n",
       "    .dataframe tbody tr th:only-of-type {\n",
       "        vertical-align: middle;\n",
       "    }\n",
       "\n",
       "    .dataframe tbody tr th {\n",
       "        vertical-align: top;\n",
       "    }\n",
       "\n",
       "    .dataframe thead th {\n",
       "        text-align: right;\n",
       "    }\n",
       "</style>\n",
       "<table border=\"1\" class=\"dataframe\">\n",
       "  <thead>\n",
       "    <tr style=\"text-align: right;\">\n",
       "      <th></th>\n",
       "      <th>url</th>\n",
       "      <th>domain</th>\n",
       "    </tr>\n",
       "  </thead>\n",
       "  <tbody>\n",
       "    <tr>\n",
       "      <th>0</th>\n",
       "      <td>http://en.people.cn/n3/2021/0318/c90000-9830122.html</td>\n",
       "      <td>en.people.cn</td>\n",
       "    </tr>\n",
       "    <tr>\n",
       "      <th>1</th>\n",
       "      <td>http://newsparliament.com/2020/02/27/children-with-autism-saw-their-learning-and-social-skills-boosted-after-playing-with-this-ai-robot/</td>\n",
       "      <td>newsparliament.com</td>\n",
       "    </tr>\n",
       "  </tbody>\n",
       "</table>\n",
       "</div>"
      ],
      "text/plain": [
       "                                                                                                                                        url   \n",
       "0                                                                                      http://en.people.cn/n3/2021/0318/c90000-9830122.html  \\\n",
       "1  http://newsparliament.com/2020/02/27/children-with-autism-saw-their-learning-and-social-skills-boosted-after-playing-with-this-ai-robot/   \n",
       "\n",
       "               domain  \n",
       "0        en.people.cn  \n",
       "1  newsparliament.com  "
      ]
     },
     "execution_count": 9,
     "metadata": {},
     "output_type": "execute_result"
    }
   ],
   "source": [
    "df_raw[['url', 'domain']].head(2)"
   ]
  },
  {
   "cell_type": "code",
   "execution_count": 17,
   "metadata": {},
   "outputs": [],
   "source": [
    "# count frequency by domain\n",
    "domain_counts = df_raw['domain'].value_counts().sort_values(ascending=False)"
   ]
  },
  {
   "cell_type": "code",
   "execution_count": 18,
   "metadata": {},
   "outputs": [
    {
     "data": {
      "text/plain": [
       "count    5412.000000\n",
       "mean       34.271803\n",
       "std       130.443829\n",
       "min         1.000000\n",
       "25%         1.000000\n",
       "50%         4.000000\n",
       "75%        16.000000\n",
       "max      3209.000000\n",
       "Name: count, dtype: float64"
      ]
     },
     "execution_count": 18,
     "metadata": {},
     "output_type": "execute_result"
    }
   ],
   "source": [
    "domain_counts.describe()"
   ]
  },
  {
   "cell_type": "code",
   "execution_count": 12,
   "metadata": {},
   "outputs": [
    {
     "data": {
      "image/png": "[encoded data removed]",
      "text/plain": [
       "<Figure size 400x800 with 1 Axes>"
      ]
     },
     "metadata": {},
     "output_type": "display_data"
    }
   ],
   "source": [
    "# get top 10 domains\n",
    "domain_counts = df_raw['domain'].value_counts().sort_values(ascending=False).head(20)\n",
    "\n",
    "# plot the distribution of counts by domain\n",
    "import matplotlib.pyplot as plt\n",
    "import seaborn as sns\n",
    "\n",
    "plt.figure(figsize=(4, 8), dpi=100)\n",
    "sns.barplot(x=domain_counts.values, y=domain_counts.index)\n",
    "plt.title('Top 20 Domains by Count')\n",
    "plt.xlabel('Count')\n",
    "plt.ylabel('Domain')\n",
    "plt.show()"
   ]
  },
  {
   "cell_type": "code",
   "execution_count": 19,
   "metadata": {},
   "outputs": [
    {
     "name": "stdout",
     "output_type": "stream",
     "text": [
      "Total number of domain names 5412\n",
      "Total number of news articles 185479\n",
      "Top 100 domain names has 72386 articles\n"
     ]
    }
   ],
   "source": [
    "domain_counts = df_raw['domain'].value_counts().sort_values(ascending=False)\n",
    "\n",
    "# total number of domains from the dataset\n",
    "print(f'Total number of domain names {len(domain_counts)}')\n",
    "print(f'Total number of news articles {domain_counts.sum()}')\n",
    "print(f'Top 100 domain names has {domain_counts[:100].sum()} articles')"
   ]
  },
  {
   "cell_type": "code",
   "execution_count": 20,
   "metadata": {},
   "outputs": [
    {
     "name": "stdout",
     "output_type": "stream",
     "text": [
      "There are 352 frequent publishers that publish more than 100 articles\n",
      "These publishers take up 6.504% of total publishers (aka. domains)\n",
      "Their articles of publications take up 70.231% of total articles\n"
     ]
    }
   ],
   "source": [
    "# get domain names that publish more than 100 articles\n",
    "frequent_publisher = domain_counts[domain_counts > 100]\n",
    "\n",
    "# their tottotal number of articles over the total number of articles\n",
    "frequent_publisher_article_ratio = 100 * domain_counts[domain_counts > 100].sum() / domain_counts.sum()\n",
    "frequent_publisher_article_ratio = round(frequent_publisher_article_ratio, 3)\n",
    "\n",
    "# number of frequent publishers over all publishers(domains)\n",
    "frequent_publisher_count = 100*(len(frequent_publisher) / len(domain_counts))\n",
    "frequent_publisher_ratio = round(frequent_publisher_count, 3)\n",
    "\n",
    "print(f'There are {len(frequent_publisher)} frequent publishers that publish more than 100 articles')\n",
    "print(f'These publishers take up {frequent_publisher_ratio}% of total publishers (aka. domains)')\n",
    "print(f'Their articles of publications take up {frequent_publisher_article_ratio}% of total articles')"
   ]
  },
  {
   "attachments": {},
   "cell_type": "markdown",
   "metadata": {},
   "source": [
    "From above we see that: \n",
    "1. there are 5412 domain names; in other words, 5412 new sources\n",
    "2. the total number of articles is 185479, while the top 100 domain names (based on counts of articles per domain) publish 117319 articles (roughly 63% of the total articles)\n",
    "3. only the top 75% domains that have more than 16 articles published\n",
    "4. only 6.5% domains have publihsed more than 100 articles; and the sum of their publications takes up 70% of the total articles\n",
    "\n",
    "**Short summary**\n",
    "\n",
    "The purpose for this section is to figure out what sources--specifically, domain names--are valuable in covering AI-related news. With emphrasis on such domain names, the number of articles can be reduced to a smaller scale so that the processing efficiency can be improved. The rationale is that if a topic is important then the popular publishers (domain names) will cover it.\n",
    "\n",
    "The trade off of this method is the issue of when minor topics are covered but with few publications, or when reputable sources (e.g. Ruters, NYT) have less publications while less reputable sources with more reposts/ origibal articles in this dataset. In addition, new websites will repost articles from each other, thereby the counts of publication do not reflect the its news coverage, quality of report, and weight of reputation."
   ]
  },
  {
   "attachments": {},
   "cell_type": "markdown",
   "metadata": {},
   "source": [
    "## Adding credential news domain to the filter list\n",
    "\n",
    "In this section, I want to see if I add credible sources to the filter."
   ]
  },
  {
   "cell_type": "code",
   "execution_count": 21,
   "metadata": {},
   "outputs": [
    {
     "data": {
      "text/plain": [
       "url             119\n",
       "date            119\n",
       "title           119\n",
       "text_cleaned    119\n",
       "text_40_pct     119\n",
       "tokens          119\n",
       "topic           119\n",
       "domain          119\n",
       "dtype: int64"
      ]
     },
     "execution_count": 21,
     "metadata": {},
     "output_type": "execute_result"
    }
   ],
   "source": [
    "# take bbc for example\n",
    "df_raw[df_raw['domain'].str.contains('bbc.co.uk')].count()"
   ]
  },
  {
   "cell_type": "code",
   "execution_count": 22,
   "metadata": {},
   "outputs": [
    {
     "data": {
      "text/plain": [
       "url             84\n",
       "date            84\n",
       "title           84\n",
       "text_cleaned    84\n",
       "text_40_pct     84\n",
       "tokens          84\n",
       "topic           84\n",
       "domain          84\n",
       "dtype: int64"
      ]
     },
     "execution_count": 22,
     "metadata": {},
     "output_type": "execute_result"
    }
   ],
   "source": [
    "# take bbc for example\n",
    "df_raw[df_raw['domain'].str.contains('bbc.com')].count()"
   ]
  },
  {
   "cell_type": "code",
   "execution_count": 55,
   "metadata": {},
   "outputs": [],
   "source": [
    "domain_names_patch = [\n",
    "    \"washingtonpost\",\"nytimes\",\"cnn\",\"bbc\",\"theguardian\",\"reuters\",\n",
    "    \"bloomberg\",\"forbes\",\"wsj\",\"economist\",\"ft\",\"businessinsider\",\"cnbc\",\n",
    "    \"techcrunch\",\"zdnet\",\"venturebeat\",\"abcnews\",\"usatoday\",\"nbcnews\",\"latimes\",\n",
    "    \"foxnews\",\"apnews\",\"huffpost\",\"usatoday\",\"npr\",\"thetimes\",\"independent\",\n",
    "    \"mirror\",\"telegraph\",\"express\",\"chronicle\",\"financialtimes\",\"dailymail\",\n",
    "    \"aimagazine\", \"analyticsinsight\", \"aitrends\", \"news.mit\", \"wired.co.uk\",\n",
    "    \"openai.com\", \"emerj.com\", \"extremetech.com\", \"technologyreview\", \"microsof\",\n",
    "    \"google\", \"amazon\", \"facebook\", \"twitter\", \"apple\", \"ibm\", \"intel\", \"nvidia\",\n",
    "    \"goldmansachs\", \"jpmorgan\", \"morganstanley\", \"bankofamerica\", \"citi\", \"wellsfargo\"]"
   ]
  },
  {
   "cell_type": "code",
   "execution_count": 56,
   "metadata": {},
   "outputs": [],
   "source": [
    "# get domain names that publish more than 100 articles\n",
    "domain_filter_list = frequent_publisher.index.tolist()"
   ]
  },
  {
   "cell_type": "code",
   "execution_count": 57,
   "metadata": {},
   "outputs": [
    {
     "data": {
      "application/vnd.jupyter.widget-view+json": {
       "model_id": "ea01988eee3645aa8369d1858890ad43",
       "version_major": 2,
       "version_minor": 0
      },
      "text/plain": [
       "VBox(children=(HBox(children=(IntProgress(value=0, description='0.00%', max=15457), Label(value='0 / 15457')))…"
      ]
     },
     "metadata": {},
     "output_type": "display_data"
    }
   ],
   "source": [
    "# use domain_names_patch to filter out domain names\n",
    "def domain_filter(domain):\n",
    "    match_status = False\n",
    "    if isinstance(domain, str):\n",
    "        for domain_name in domain_filter_list: # e.g. washingtonpost.com == washingtonpost.com\n",
    "            if (domain_name == domain):\n",
    "                match_status = True\n",
    "            else:\n",
    "                for domain_name in domain_names_patch: # e.g. bbc in bbc.co.uk\n",
    "                    if domain_name in domain:\n",
    "                        match_status = True\n",
    "    return match_status\n",
    "\n",
    "df_filtered = df_raw[df_raw['domain'].parallel_apply(domain_filter)]"
   ]
  },
  {
   "cell_type": "code",
   "execution_count": 58,
   "metadata": {},
   "outputs": [
    {
     "data": {
      "text/plain": [
       "count     557.000000\n",
       "mean      239.242370\n",
       "std       340.729994\n",
       "min         1.000000\n",
       "25%        10.000000\n",
       "50%       141.000000\n",
       "75%       402.000000\n",
       "max      3209.000000\n",
       "Name: count, dtype: float64"
      ]
     },
     "execution_count": 58,
     "metadata": {},
     "output_type": "execute_result"
    }
   ],
   "source": [
    "# check the filtered results\n",
    "domain_counts = df_filtered['domain'].value_counts().sort_values(ascending=False)\n",
    "domain_counts.describe()"
   ]
  },
  {
   "cell_type": "code",
   "execution_count": 59,
   "metadata": {},
   "outputs": [
    {
     "name": "stdout",
     "output_type": "stream",
     "text": [
      "There are 557 frequent publishers found\n",
      "Total number of aricitles of filtered dataframe is 133258,\n",
      "which is 71.845% of the total number of articles\n"
     ]
    }
   ],
   "source": [
    "# check total number of articles\n",
    "filtered_ratio = round((100*domain_counts.sum() / df_raw['domain'].value_counts().sum()), 3)\n",
    "\n",
    "print(f'There are {len(domain_counts)} frequent publishers found')\n",
    "print(f'Total number of aricitles of filtered dataframe is {domain_counts.sum()},')\n",
    "print(f'which is {filtered_ratio}% of the total number of articles')"
   ]
  },
  {
   "cell_type": "code",
   "execution_count": 60,
   "metadata": {},
   "outputs": [
    {
     "data": {
      "text/html": [
       "<div>\n",
       "<style scoped>\n",
       "    .dataframe tbody tr th:only-of-type {\n",
       "        vertical-align: middle;\n",
       "    }\n",
       "\n",
       "    .dataframe tbody tr th {\n",
       "        vertical-align: top;\n",
       "    }\n",
       "\n",
       "    .dataframe thead th {\n",
       "        text-align: right;\n",
       "    }\n",
       "</style>\n",
       "<table border=\"1\" class=\"dataframe\">\n",
       "  <thead>\n",
       "    <tr style=\"text-align: right;\">\n",
       "      <th></th>\n",
       "      <th>url</th>\n",
       "      <th>date</th>\n",
       "      <th>title</th>\n",
       "      <th>text_cleaned</th>\n",
       "      <th>text_40_pct</th>\n",
       "      <th>tokens</th>\n",
       "      <th>topic</th>\n",
       "      <th>domain</th>\n",
       "    </tr>\n",
       "  </thead>\n",
       "  <tbody>\n",
       "    <tr>\n",
       "      <th>4</th>\n",
       "      <td>http://www.itbusinessnet.com/2020/10/olympus-to-support-endoscopic-ai-diagnosis-education-for-doctors-in-india-and-to-launch-ai-diagnostic-support-application/?utm_source=rss&amp;utm_medium=rss&amp;utm_campaign=olympus-to-support-endoscopic-ai-diagnosis-education-for-doctors-in-india-and-to-launch-ai-diagnostic-support-application</td>\n",
       "      <td>2020-10-20</td>\n",
       "      <td>Olympus to Support Endoscopic AI Diagnosis Education for Doctors in India and to Launch AI Diagnostic Support Application | | IT Business Net</td>\n",
       "      <td>Olympus to Support Endoscopic AI Diagnosis Education for Doctors in India and to Launch AI Diagnostic Support Application     IT Business Net   Skip to content Search for:    to Support Endoscopic AI Diagnosis Education for Doctors in India and to Launch AI Diagnostic Support Application                                     News                                 Olympus to Support Endoscopic AI Diagnosis Education for Doctors in India and to Launch AI Diagnostic Support Application TOKYO, Oct 2...</td>\n",
       "      <td>Olympus to Support Endoscopic AI Diagnosis Education for Doctors in India and to Launch AI Diagnostic Support Application     IT Business Net   Skip to content Search for:    to Support Endoscopic AI Diagnosis Education for Doctors in India and to Launch AI Diagnostic Support Application                                     News                                 Olympus to Support Endoscopic AI Diagnosis Education for Doctors in India and to Launch AI Diagnostic Support Application TOKYO, Oct 2...</td>\n",
       "      <td>[olympus, support, endoscopic, ai, diagnosis, education, doctors, india, launch, ai, diagnostic, support, application, business, net, skip, content, search, support, endoscopic, ai, diagnosis, education, doctors, india, launch, ai, diagnostic, support, application, news, olympus, support, endoscopic, ai, diagnosis, education, doctors, india, launch, ai, diagnostic, support, application, tokyo, oct, acn, newswire, olympus, corporation, take, ground, break, project, business, promoter, coopera...</td>\n",
       "      <td>0</td>\n",
       "      <td>itbusinessnet.com</td>\n",
       "    </tr>\n",
       "    <tr>\n",
       "      <th>8</th>\n",
       "      <td>https://3wnews.org/uncategorised/1351502/artificial-intelligence-in-behavioral-and-mental-health-care-market-to-witness-astonishing-growth-by-2026-focusing-on-leading-players-advancedmd-cerner-core-solutions-credible-behavioral-healt/</td>\n",
       "      <td>2020-06-14</td>\n",
       "      <td>Artificial Intelligence In Behavioral And Mental Health Care Market to Witness Astonishing Growth by 2026 Focusing on Leading Players – AdvancedMD , Cerner , Core Solutions , Credible Behavioral Health – 3w Market News Reports</td>\n",
       "      <td>Artificial Intelligence In Behavioral And Mental Health Care Market to Witness Astonishing Growth by 2026 Focusing on Leading Players   AdvancedMD , Cerner , Core Solutions , Credible Behavioral Health   3w Market News Reports 3rd Market Reports and Analytics News Market Reports Industry Analytics Industry Reports Market Research Business Opportunity Emerging Trends Growth Prospects   You are hereHomeGlobal NewsArtificial Intelligence In Behavioral And Mental Health Care Market to Witness A...</td>\n",
       "      <td>Artificial Intelligence In Behavioral And Mental Health Care Market to Witness Astonishing Growth by 2026 Focusing on Leading Players   AdvancedMD , Cerner , Core Solutions , Credible Behavioral Health   3w Market News Reports 3rd Market Reports and Analytics News Market Reports Industry Analytics Industry Reports Market Research Business Opportunity Emerging Trends Growth Prospects   You are hereHomeGlobal NewsArtificial Intelligence In Behavioral And Mental Health Care Market to Witness A...</td>\n",
       "      <td>[artificial, intelligence, behavioral, mental, health, care, market, witness, astonishing, growth, focus, lead, players, advancedmd, cerner, core, solutions, credible, behavioral, health, market, news, report, market, reports, analytics, news, market, reports, industry, analytics, industry, reports, market, research, business, opportunity, emerging, trend, growth, prospect, herehomeglobal, newsartificial, intelligence, behavioral, mental, health, care, market, witness, astonishing, growth, f...</td>\n",
       "      <td>0</td>\n",
       "      <td>3wnews.org</td>\n",
       "    </tr>\n",
       "    <tr>\n",
       "      <th>9</th>\n",
       "      <td>https://3wnews.org/uncategorised/2350145/ai-machine-learning-market-2020-expected-to-reach-xx-million-by-2024-ibm-baidu-soundhound-zebra-medical-vision-prisma-iris-ai/</td>\n",
       "      <td>2020-07-10</td>\n",
       "      <td>AI/ Machine Learning Market 2020 Expected to Reach $XX Million by 2024 – IBM, BAIDU, SOUNDHOUND, ZEBRA MEDICAL VISION, PRISMA, IRIS AI – 3w Market News Reports</td>\n",
       "      <td>AI/ Machine Learning Market 2020 Expected to Reach  XX Million by 2024   IBM, BAIDU, SOUNDHOUND, ZEBRA MEDICAL VISION, PRISMA, IRIS AI   3w Market News Reports The Global AI/ Machine Learning Market report is aimed at highlighting a firsthand documentation of all the best practices in the AI/ Machine Learning industry that subsequently set the growth course active. These vital market oriented details are highly crucial to  e cut  petition and all the growth oriented practices typically embra...</td>\n",
       "      <td>AI/ Machine Learning Market 2020 Expected to Reach  XX Million by 2024   IBM, BAIDU, SOUNDHOUND, ZEBRA MEDICAL VISION, PRISMA, IRIS AI   3w Market News Reports The Global AI/ Machine Learning Market report is aimed at highlighting a firsthand documentation of all the best practices in the AI/ Machine Learning industry that subsequently set the growth course active. These vital market oriented details are highly crucial to  e cut  petition and all the growth oriented practices typically embra...</td>\n",
       "      <td>[machine, learning, market, expect, reach, xx, million, ibm, baidu, soundhound, zebra, medical, vision, prisma, iris, ai, market, news, report, global, machine, learning, market, report, aim, highlight, firsthand, documentation, good, practice, machine, learning, industry, set, growth, course, active, vital, market, orient, detail, crucial, e, cut, petition, growth, orient, practice, embrace, frontline, player, machine, learning, market, factor, touch, point, research, highlight, report, pos...</td>\n",
       "      <td>3</td>\n",
       "      <td>3wnews.org</td>\n",
       "    </tr>\n",
       "  </tbody>\n",
       "</table>\n",
       "</div>"
      ],
      "text/plain": [
       "                                                                                                                                                                                                                                                                                                                                    url   \n",
       "4  http://www.itbusinessnet.com/2020/10/olympus-to-support-endoscopic-ai-diagnosis-education-for-doctors-in-india-and-to-launch-ai-diagnostic-support-application/?utm_source=rss&utm_medium=rss&utm_campaign=olympus-to-support-endoscopic-ai-diagnosis-education-for-doctors-in-india-and-to-launch-ai-diagnostic-support-application  \\\n",
       "8                                                                                            https://3wnews.org/uncategorised/1351502/artificial-intelligence-in-behavioral-and-mental-health-care-market-to-witness-astonishing-growth-by-2026-focusing-on-leading-players-advancedmd-cerner-core-solutions-credible-behavioral-healt/   \n",
       "9                                                                                                                                                               https://3wnews.org/uncategorised/2350145/ai-machine-learning-market-2020-expected-to-reach-xx-million-by-2024-ibm-baidu-soundhound-zebra-medical-vision-prisma-iris-ai/   \n",
       "\n",
       "         date   \n",
       "4  2020-10-20  \\\n",
       "8  2020-06-14   \n",
       "9  2020-07-10   \n",
       "\n",
       "                                                                                                                                                                                                                                title   \n",
       "4                                                                                       Olympus to Support Endoscopic AI Diagnosis Education for Doctors in India and to Launch AI Diagnostic Support Application | | IT Business Net  \\\n",
       "8  Artificial Intelligence In Behavioral And Mental Health Care Market to Witness Astonishing Growth by 2026 Focusing on Leading Players – AdvancedMD , Cerner , Core Solutions , Credible Behavioral Health – 3w Market News Reports   \n",
       "9                                                                     AI/ Machine Learning Market 2020 Expected to Reach $XX Million by 2024 – IBM, BAIDU, SOUNDHOUND, ZEBRA MEDICAL VISION, PRISMA, IRIS AI – 3w Market News Reports   \n",
       "\n",
       "                                                                                                                                                                                                                                                                                                                                                                                                                                                                                                          text_cleaned   \n",
       "4  Olympus to Support Endoscopic AI Diagnosis Education for Doctors in India and to Launch AI Diagnostic Support Application     IT Business Net   Skip to content Search for:    to Support Endoscopic AI Diagnosis Education for Doctors in India and to Launch AI Diagnostic Support Application                                     News                                 Olympus to Support Endoscopic AI Diagnosis Education for Doctors in India and to Launch AI Diagnostic Support Application TOKYO, Oct 2...  \\\n",
       "8   Artificial Intelligence In Behavioral And Mental Health Care Market to Witness Astonishing Growth by 2026 Focusing on Leading Players   AdvancedMD , Cerner , Core Solutions , Credible Behavioral Health   3w Market News Reports 3rd Market Reports and Analytics News Market Reports Industry Analytics Industry Reports Market Research Business Opportunity Emerging Trends Growth Prospects   You are hereHomeGlobal NewsArtificial Intelligence In Behavioral And Mental Health Care Market to Witness A...   \n",
       "9  AI/ Machine Learning Market 2020 Expected to Reach  XX Million by 2024   IBM, BAIDU, SOUNDHOUND, ZEBRA MEDICAL VISION, PRISMA, IRIS AI   3w Market News Reports The Global AI/ Machine Learning Market report is aimed at highlighting a firsthand documentation of all the best practices in the AI/ Machine Learning industry that subsequently set the growth course active. These vital market oriented details are highly crucial to  e cut  petition and all the growth oriented practices typically embra...   \n",
       "\n",
       "                                                                                                                                                                                                                                                                                                                                                                                                                                                                                                           text_40_pct   \n",
       "4  Olympus to Support Endoscopic AI Diagnosis Education for Doctors in India and to Launch AI Diagnostic Support Application     IT Business Net   Skip to content Search for:    to Support Endoscopic AI Diagnosis Education for Doctors in India and to Launch AI Diagnostic Support Application                                     News                                 Olympus to Support Endoscopic AI Diagnosis Education for Doctors in India and to Launch AI Diagnostic Support Application TOKYO, Oct 2...  \\\n",
       "8   Artificial Intelligence In Behavioral And Mental Health Care Market to Witness Astonishing Growth by 2026 Focusing on Leading Players   AdvancedMD , Cerner , Core Solutions , Credible Behavioral Health   3w Market News Reports 3rd Market Reports and Analytics News Market Reports Industry Analytics Industry Reports Market Research Business Opportunity Emerging Trends Growth Prospects   You are hereHomeGlobal NewsArtificial Intelligence In Behavioral And Mental Health Care Market to Witness A...   \n",
       "9  AI/ Machine Learning Market 2020 Expected to Reach  XX Million by 2024   IBM, BAIDU, SOUNDHOUND, ZEBRA MEDICAL VISION, PRISMA, IRIS AI   3w Market News Reports The Global AI/ Machine Learning Market report is aimed at highlighting a firsthand documentation of all the best practices in the AI/ Machine Learning industry that subsequently set the growth course active. These vital market oriented details are highly crucial to  e cut  petition and all the growth oriented practices typically embra...   \n",
       "\n",
       "                                                                                                                                                                                                                                                                                                                                                                                                                                                                                                                tokens   \n",
       "4  [olympus, support, endoscopic, ai, diagnosis, education, doctors, india, launch, ai, diagnostic, support, application, business, net, skip, content, search, support, endoscopic, ai, diagnosis, education, doctors, india, launch, ai, diagnostic, support, application, news, olympus, support, endoscopic, ai, diagnosis, education, doctors, india, launch, ai, diagnostic, support, application, tokyo, oct, acn, newswire, olympus, corporation, take, ground, break, project, business, promoter, coopera...  \\\n",
       "8  [artificial, intelligence, behavioral, mental, health, care, market, witness, astonishing, growth, focus, lead, players, advancedmd, cerner, core, solutions, credible, behavioral, health, market, news, report, market, reports, analytics, news, market, reports, industry, analytics, industry, reports, market, research, business, opportunity, emerging, trend, growth, prospect, herehomeglobal, newsartificial, intelligence, behavioral, mental, health, care, market, witness, astonishing, growth, f...   \n",
       "9  [machine, learning, market, expect, reach, xx, million, ibm, baidu, soundhound, zebra, medical, vision, prisma, iris, ai, market, news, report, global, machine, learning, market, report, aim, highlight, firsthand, documentation, good, practice, machine, learning, industry, set, growth, course, active, vital, market, orient, detail, crucial, e, cut, petition, growth, orient, practice, embrace, frontline, player, machine, learning, market, factor, touch, point, research, highlight, report, pos...   \n",
       "\n",
       "   topic             domain  \n",
       "4      0  itbusinessnet.com  \n",
       "8      0         3wnews.org  \n",
       "9      3         3wnews.org  "
      ]
     },
     "execution_count": 60,
     "metadata": {},
     "output_type": "execute_result"
    }
   ],
   "source": [
    "df_filtered.head(3)"
   ]
  },
  {
   "cell_type": "code",
   "execution_count": 69,
   "metadata": {},
   "outputs": [],
   "source": [
    "# convert date (YYYY-MM-DD) to datetime\n",
    "df_filtered['date'] = pd.to_datetime(df_filtered['date'])\n",
    "\n",
    "# sort by date, ascending\n",
    "df_filtered.sort_values(by='date', inplace=True)\n",
    "\n",
    "# reset index\n",
    "df_filtered.reset_index(drop=True, inplace=True)"
   ]
  },
  {
   "cell_type": "code",
   "execution_count": 73,
   "metadata": {},
   "outputs": [],
   "source": [
    "# prepare before split into sentences\n",
    "\n",
    "# rename columns\n",
    "df_filtered.rename(columns={'topic': 'article_topic'}, inplace=True)\n",
    "\n",
    "# add article id (start from 1)\n",
    "df_filtered['article_id'] = df_filtered.index + 1"
   ]
  },
  {
   "cell_type": "code",
   "execution_count": null,
   "metadata": {},
   "outputs": [],
   "source": []
  },
  {
   "cell_type": "code",
   "execution_count": 77,
   "metadata": {},
   "outputs": [
    {
     "data": {
      "application/vnd.jupyter.widget-view+json": {
       "model_id": "576824b71c6648edabb557db6e00dc7e",
       "version_major": 2,
       "version_minor": 0
      },
      "text/plain": [
       "VBox(children=(HBox(children=(IntProgress(value=0, description='0.00%', max=11105), Label(value='0 / 11105')))…"
      ]
     },
     "metadata": {},
     "output_type": "display_data"
    }
   ],
   "source": [
    "# check length to estimate processing time\n",
    "article_length = df_filtered['text_cleaned'].parallel_apply(lambda x: len(x.split()))"
   ]
  },
  {
   "cell_type": "code",
   "execution_count": 78,
   "metadata": {},
   "outputs": [
    {
     "data": {
      "text/plain": [
       "count    133258.000000\n",
       "mean       1139.964385\n",
       "std         914.733843\n",
       "min           9.000000\n",
       "25%         724.000000\n",
       "50%         958.000000\n",
       "75%        1327.000000\n",
       "max       41738.000000\n",
       "Name: text_cleaned, dtype: float64"
      ]
     },
     "execution_count": 78,
     "metadata": {},
     "output_type": "execute_result"
    }
   ],
   "source": [
    "article_length.describe()"
   ]
  },
  {
   "cell_type": "code",
   "execution_count": 79,
   "metadata": {},
   "outputs": [
    {
     "data": {
      "text/html": [
       "<div>\n",
       "<style scoped>\n",
       "    .dataframe tbody tr th:only-of-type {\n",
       "        vertical-align: middle;\n",
       "    }\n",
       "\n",
       "    .dataframe tbody tr th {\n",
       "        vertical-align: top;\n",
       "    }\n",
       "\n",
       "    .dataframe thead th {\n",
       "        text-align: right;\n",
       "    }\n",
       "</style>\n",
       "<table border=\"1\" class=\"dataframe\">\n",
       "  <thead>\n",
       "    <tr style=\"text-align: right;\">\n",
       "      <th></th>\n",
       "      <th>url</th>\n",
       "      <th>date</th>\n",
       "      <th>title</th>\n",
       "      <th>text_cleaned</th>\n",
       "      <th>text_40_pct</th>\n",
       "      <th>tokens</th>\n",
       "      <th>article_topic</th>\n",
       "      <th>domain</th>\n",
       "      <th>article_id</th>\n",
       "    </tr>\n",
       "  </thead>\n",
       "  <tbody>\n",
       "    <tr>\n",
       "      <th>0</th>\n",
       "      <td>https://theenterpriseleader.com/2020/01/01/decentralized-machine-learning-reaches-market-cap-of-15919-00-dml.html</td>\n",
       "      <td>2020-01-01</td>\n",
       "      <td>Decentralized Machine Learning Reaches Market Cap of $15,919.00 (DML) - Enterprise Leader</td>\n",
       "      <td>Decentralized Machine Learning Reaches Market Cap of  15,919.00  DML    Enterprise Leader Daily Ratings   News for Decentralized Machine Learning          Complete the form below to receive the latest headlines and analysts'  mendations for Decentralized Machine Learning with our free daily email newsletter:   Follow  EnterpriseLeade Recent Posts GE Announces Its Plan To Sell The Distributed Power Business To Advent International Ebang Communication Resorts To The Filing Of An IPO In Hong Ko...</td>\n",
       "      <td>Decentralized Machine Learning Reaches Market Cap of  15,919.00  DML    Enterprise Leader Daily Ratings   News for Decentralized Machine Learning          Complete the form below to receive the latest headlines and analysts'  mendations for Decentralized Machine Learning with our free daily email newsletter:   Follow  EnterpriseLeade Recent Posts GE Announces Its Plan To Sell The Distributed Power Business To Advent International Ebang Communication Resorts To The Filing Of An IPO In Hong Ko...</td>\n",
       "      <td>[decentralize, machine, learning, reach, market, cap, dml, enterprise, leader, daily, ratings, news, decentralized, machine, learning, complete, form, receive, late, headline, analyst, mendation, decentralized, machine, learning, free, daily, email, newsletter, follow, enterpriseleade, recent, posts, ge, announce, plan, sell, distributed, power, business, advent, international, ebang, communication, resorts, filing, ipo, hong, kong, open, daa, vcd, nrg, img, mdf, files, smart, risky, way, te...</td>\n",
       "      <td>3</td>\n",
       "      <td>theenterpriseleader.com</td>\n",
       "      <td>1</td>\n",
       "    </tr>\n",
       "  </tbody>\n",
       "</table>\n",
       "</div>"
      ],
      "text/plain": [
       "                                                                                                                 url   \n",
       "0  https://theenterpriseleader.com/2020/01/01/decentralized-machine-learning-reaches-market-cap-of-15919-00-dml.html  \\\n",
       "\n",
       "        date   \n",
       "0 2020-01-01  \\\n",
       "\n",
       "                                                                                       title   \n",
       "0  Decentralized Machine Learning Reaches Market Cap of $15,919.00 (DML) - Enterprise Leader  \\\n",
       "\n",
       "                                                                                                                                                                                                                                                                                                                                                                                                                                                                                                          text_cleaned   \n",
       "0  Decentralized Machine Learning Reaches Market Cap of  15,919.00  DML    Enterprise Leader Daily Ratings   News for Decentralized Machine Learning          Complete the form below to receive the latest headlines and analysts'  mendations for Decentralized Machine Learning with our free daily email newsletter:   Follow  EnterpriseLeade Recent Posts GE Announces Its Plan To Sell The Distributed Power Business To Advent International Ebang Communication Resorts To The Filing Of An IPO In Hong Ko...  \\\n",
       "\n",
       "                                                                                                                                                                                                                                                                                                                                                                                                                                                                                                           text_40_pct   \n",
       "0  Decentralized Machine Learning Reaches Market Cap of  15,919.00  DML    Enterprise Leader Daily Ratings   News for Decentralized Machine Learning          Complete the form below to receive the latest headlines and analysts'  mendations for Decentralized Machine Learning with our free daily email newsletter:   Follow  EnterpriseLeade Recent Posts GE Announces Its Plan To Sell The Distributed Power Business To Advent International Ebang Communication Resorts To The Filing Of An IPO In Hong Ko...  \\\n",
       "\n",
       "                                                                                                                                                                                                                                                                                                                                                                                                                                                                                                                tokens   \n",
       "0  [decentralize, machine, learning, reach, market, cap, dml, enterprise, leader, daily, ratings, news, decentralized, machine, learning, complete, form, receive, late, headline, analyst, mendation, decentralized, machine, learning, free, daily, email, newsletter, follow, enterpriseleade, recent, posts, ge, announce, plan, sell, distributed, power, business, advent, international, ebang, communication, resorts, filing, ipo, hong, kong, open, daa, vcd, nrg, img, mdf, files, smart, risky, way, te...  \\\n",
       "\n",
       "   article_topic                   domain  article_id  \n",
       "0              3  theenterpriseleader.com           1  "
      ]
     },
     "execution_count": 79,
     "metadata": {},
     "output_type": "execute_result"
    }
   ],
   "source": [
    "df_filtered.head(1)"
   ]
  },
  {
   "cell_type": "code",
   "execution_count": 96,
   "metadata": {},
   "outputs": [
    {
     "data": {
      "application/vnd.jupyter.widget-view+json": {
       "model_id": "f18b5e9e1e37428b931e9245cbb04556",
       "version_major": 2,
       "version_minor": 0
      },
      "text/plain": [
       "VBox(children=(HBox(children=(IntProgress(value=0, description='0.00%', max=11105), Label(value='0 / 11105')))…"
      ]
     },
     "metadata": {},
     "output_type": "display_data"
    }
   ],
   "source": [
    "# split into sentences with full articles\n",
    "\n",
    "# remove unnecessary columns\n",
    "df_full = df_filtered[[i for i in df_filtered.columns if i not in ['text_40_pct', 'tokens']]]\n",
    "\n",
    "# remove ,ultiple consecutive spaces\n",
    "df_full['text_cleaned'] = df_full['text_cleaned'].parallel_apply(lambda x: re.sub(r'\\s+', ' ', x))"
   ]
  },
  {
   "cell_type": "code",
   "execution_count": 97,
   "metadata": {},
   "outputs": [
    {
     "data": {
      "text/html": [
       "<div>\n",
       "<style scoped>\n",
       "    .dataframe tbody tr th:only-of-type {\n",
       "        vertical-align: middle;\n",
       "    }\n",
       "\n",
       "    .dataframe tbody tr th {\n",
       "        vertical-align: top;\n",
       "    }\n",
       "\n",
       "    .dataframe thead th {\n",
       "        text-align: right;\n",
       "    }\n",
       "</style>\n",
       "<table border=\"1\" class=\"dataframe\">\n",
       "  <thead>\n",
       "    <tr style=\"text-align: right;\">\n",
       "      <th></th>\n",
       "      <th>url</th>\n",
       "      <th>date</th>\n",
       "      <th>title</th>\n",
       "      <th>text_cleaned</th>\n",
       "      <th>article_topic</th>\n",
       "      <th>domain</th>\n",
       "      <th>article_id</th>\n",
       "    </tr>\n",
       "  </thead>\n",
       "  <tbody>\n",
       "    <tr>\n",
       "      <th>0</th>\n",
       "      <td>https://theenterpriseleader.com/2020/01/01/decentralized-machine-learning-reaches-market-cap-of-15919-00-dml.html</td>\n",
       "      <td>2020-01-01</td>\n",
       "      <td>Decentralized Machine Learning Reaches Market Cap of $15,919.00 (DML) - Enterprise Leader</td>\n",
       "      <td>Decentralized Machine Learning Reaches Market Cap of 15,919.00 DML Enterprise Leader Daily Ratings News for Decentralized Machine Learning Complete the form below to receive the latest headlines and analysts' mendations for Decentralized Machine Learning with our free daily email newsletter: Follow EnterpriseLeade Recent Posts GE Announces Its Plan To Sell The Distributed Power Business To Advent International Ebang Communication Resorts To The Filing Of An IPO In Hong Kong How to Open DAA, ...</td>\n",
       "      <td>3</td>\n",
       "      <td>theenterpriseleader.com</td>\n",
       "      <td>1</td>\n",
       "    </tr>\n",
       "  </tbody>\n",
       "</table>\n",
       "</div>"
      ],
      "text/plain": [
       "                                                                                                                 url   \n",
       "0  https://theenterpriseleader.com/2020/01/01/decentralized-machine-learning-reaches-market-cap-of-15919-00-dml.html  \\\n",
       "\n",
       "        date   \n",
       "0 2020-01-01  \\\n",
       "\n",
       "                                                                                       title   \n",
       "0  Decentralized Machine Learning Reaches Market Cap of $15,919.00 (DML) - Enterprise Leader  \\\n",
       "\n",
       "                                                                                                                                                                                                                                                                                                                                                                                                                                                                                                          text_cleaned   \n",
       "0  Decentralized Machine Learning Reaches Market Cap of 15,919.00 DML Enterprise Leader Daily Ratings News for Decentralized Machine Learning Complete the form below to receive the latest headlines and analysts' mendations for Decentralized Machine Learning with our free daily email newsletter: Follow EnterpriseLeade Recent Posts GE Announces Its Plan To Sell The Distributed Power Business To Advent International Ebang Communication Resorts To The Filing Of An IPO In Hong Kong How to Open DAA, ...  \\\n",
       "\n",
       "   article_topic                   domain  article_id  \n",
       "0              3  theenterpriseleader.com           1  "
      ]
     },
     "execution_count": 97,
     "metadata": {},
     "output_type": "execute_result"
    }
   ],
   "source": [
    "df_full.head(1)"
   ]
  },
  {
   "cell_type": "code",
   "execution_count": 105,
   "metadata": {},
   "outputs": [],
   "source": [
    "# save a checkpoint for the filtered dataframe (with full articles)\n",
    "#df_full.to_parquet(path_bucket + '/' + 'checkpoint_0524_source_filtered_full_article.parquet', engine='pyarrow')"
   ]
  },
  {
   "attachments": {},
   "cell_type": "markdown",
   "metadata": {},
   "source": [
    "Note:\n",
    "- Maybe we can limit the length of sentences (having len(sent) >=10)\n",
    "- "
   ]
  },
  {
   "cell_type": "code",
   "execution_count": 145,
   "metadata": {},
   "outputs": [],
   "source": [
    "# split into sentences with full articles\n",
    "text = df_full['text_cleaned']\n",
    "\n",
    "# make containers\n",
    "sentences = []\n",
    "entities = []\n",
    "pass_list = ['ai', 'intelligence ai', 'artificial intelligence ai', 'android', 'software', \n",
    "             'natural language processing nlp', 'inc.', 'org.', 'co.', 'ltd.', 'corp.']\n",
    "\n",
    "# split into sentences with nlp pipe\n",
    "for doc in nlp.pipe(text, batch_size=50, disable=['tok2vec', 'tagger', 'parser', 'senter', 'attribute_ruler', 'lemmatizer'], n_process=12):\n",
    "    article_sents = [sent.text for sent in doc.sents]\n",
    "    article_entities = [(ent.text, ent.label_) for ent in doc.ents \n",
    "                        if (ent.label_ in [\"ORG\", \"PER\", \"LOC\", \"GPE\"]) and (ent.text.lower() not in pass_list)]\n",
    "    sentences.append(article_sents)\n",
    "    entities.append(article_entities)"
   ]
  },
  {
   "cell_type": "code",
   "execution_count": 146,
   "metadata": {},
   "outputs": [],
   "source": [
    "# save sentences and entities\n",
    "df_full['sentences'] = sentences\n",
    "df_full['entities'] = entities"
   ]
  },
  {
   "cell_type": "code",
   "execution_count": 147,
   "metadata": {},
   "outputs": [],
   "source": [
    "# save the checkpoint\n",
    "df_full.to_parquet(path_bucket + '/' + 'checkpoint_0524_full_article_split.parquet', engine='pyarrow')"
   ]
  },
  {
   "cell_type": "code",
   "execution_count": 148,
   "metadata": {},
   "outputs": [
    {
     "data": {
      "text/plain": [
       "(133258, 9)"
      ]
     },
     "execution_count": 148,
     "metadata": {},
     "output_type": "execute_result"
    }
   ],
   "source": [
    "df_full.shape"
   ]
  },
  {
   "cell_type": "code",
   "execution_count": 149,
   "metadata": {},
   "outputs": [
    {
     "data": {
      "text/html": [
       "<div>\n",
       "<style scoped>\n",
       "    .dataframe tbody tr th:only-of-type {\n",
       "        vertical-align: middle;\n",
       "    }\n",
       "\n",
       "    .dataframe tbody tr th {\n",
       "        vertical-align: top;\n",
       "    }\n",
       "\n",
       "    .dataframe thead th {\n",
       "        text-align: right;\n",
       "    }\n",
       "</style>\n",
       "<table border=\"1\" class=\"dataframe\">\n",
       "  <thead>\n",
       "    <tr style=\"text-align: right;\">\n",
       "      <th></th>\n",
       "      <th>sentences</th>\n",
       "      <th>entities</th>\n",
       "    </tr>\n",
       "  </thead>\n",
       "  <tbody>\n",
       "    <tr>\n",
       "      <th>0</th>\n",
       "      <td>[Decentralized Machine Learning Reaches Market Cap of 15,919.00 DML Enterprise Leader Daily Ratings News for Decentralized Machine Learning Complete the form below to receive the latest headlines and analysts' mendations for Decentralized Machine Learning with our free daily email newsletter: Follow EnterpriseLeade Recent Posts GE Announces Its Plan To Sell The Distributed Power Business To Advent International Ebang Communication Resorts To The Filing Of An IPO In Hong Kong How to Open DAA,...</td>\n",
       "      <td>[(Decentralized Machine Learning Reaches Market Cap, ORG), (Decentralized Machine Learning, ORG), (Hong Kong, GPE), (NRG, ORG), (IMG, ORG), (Mistake Foxconn Launches Investigation After Reports Of Harsh Working Conditions, ORG), (Flagstar Bancorp, ORG), (Wells Fargo UK, ORG), (Royal Bank Of Scotland RBS, ORG), (France, GPE), (China, GPE), (FII IPO Uber, ORG), (Paris Deutsche Bank Plans To Slash, ORG), (Samsung, ORG), (Apple Back In Court, ORG), (Apple, ORG), (Goldman Sachs, ORG), (JPMorgan C...</td>\n",
       "    </tr>\n",
       "    <tr>\n",
       "      <th>1</th>\n",
       "      <td>[ Artificial Intelligence AI in Marketing Market Scope, Size, Share, Trends, Forecast by 2026 Market Reports Observer Skip to content 488 E 11th Ave, Eugene, OR 97401, USA 1 541 687 2347 email protected Market Reports Observer Artificial intelligence AI is the ability to process information in a way similar to the thought process of humans in learning, decision making, and problem solving., Enterprises are now identifying the value associated with integrating AI into their business processes...</td>\n",
       "      <td>[(USA, GPE), (Market Reports Observer Artificial, ORG), (North America, LOC), (South America, LOC), (Europe, LOC), (Asia Pacific, LOC), (Middle East Africa, LOC), (North America, LOC), (North America, LOC), (Asia Pacific, LOC), (Japan, GPE), (China, GPE), (India, GPE), (Europe, LOC), (Middle East Africa, LOC), (South America, LOC), (Artificial Intelligence AI in Marketing Market, ORG), (IBM Corporation, ORG), (Google Inc., ORG), (Intel Corporation, ORG), (Microsoft Corporation, ORG), (NVIDIA...</td>\n",
       "    </tr>\n",
       "    <tr>\n",
       "      <th>2</th>\n",
       "      <td>[ Lisk Machine Learning 24 Hour Trading Volume Tops 10.00 LML Markets Daily Home Privacy Policy About/ Contact Business Stocks Technology Health Lifestyle Politics Daily Ratings News for Lisk Machine Learning Complete the form below to receive the latest headlines and analysts' mendations for Lisk Machine Learning with our free daily email newsletter: Follow TheMarketsDaily Recent Posts TERA Price Down 14.5 Over Last 7 Days TERA Mindexcoin MIC Hits 1 Day Trading Volume of 1,347.00 Garlicoin ...</td>\n",
       "      <td>[(Lisk Machine Learning, ORG), (Lisk Machine Learning Complete, ORG), (Lisk Machine Learning, ORG), (Garlicoin GRLC Market Capitalization Achieves, ORG), (EVBG, ORG), (BroadVision NASDAQ, ORG), (BVSN Denny s Corp NASDAQ, ORG), (Teradyne, ORG), (TER, ORG), (Community Trust Bancorp, ORG), (LML, ORG), (US, GPE), (Lisk Machine Learning, ORG), (Lisk Machine Learning, ORG), (Lisk Machine Learning, ORG), (US, GPE), (Lisk Machine Learning, ORG), (Bitcoin SV BSV, ORG), (TRON TRX, ORG), (Neo NEO, ORG)...</td>\n",
       "    </tr>\n",
       "    <tr>\n",
       "      <th>3</th>\n",
       "      <td>[ Google's AI can detect breast cancer more accurately than experts Engadget Engadget Login Home Reviews Gear Gaming Entertainment Tomorrow Audio Video Deals Buyer's Guide Holiday Gift Guide Fitness Tech Home Entertainment Personal Security Back to School Outdoor Tech Parenting and Tech Camera Guide Best of CES Phones Laptops View All Log in Sign up Engadget 3 related articles Login WSJ: FDA vape ban will target fruit flavored pods Scientist who edited babies' genes sentenced to three years ...</td>\n",
       "      <td>[(Google, ORG), (Engadget Engadget Login Home Reviews, ORG), (Login WSJ, ORG), (FDA, ORG), (Scientist, ORG), (New York, GPE), (Apple, ORG), (Google, ORG), (EUV, ORG), (SpaceX, ORG), (the ISS Scientist, ORG), (Google, ORG), (georginatorbet 2h ago, ORG), (Medicine BSIP, ORG), (UK, GPE), (Google, ORG), (mon, ORG), (US, GPE), (UK, GPE), (US, GPE), (UK, GPE), (US, GPE), (UK, GPE), (UK, GPE), (National Health System, ORG), (UK, GPE), (NHS, ORG), (Google Health, ORG), (Google, ORG), (NHS, ORG), (go...</td>\n",
       "    </tr>\n",
       "    <tr>\n",
       "      <th>4</th>\n",
       "      <td>[ The future is sci fi: On Philip K Dick's Do Androids Dream of Electric Sheep, AI and artificial empathy Entertainment News, Firstpost Toggle navigation Prahlad Srihari Jan 01, 2020 09:10:39 IST As we embark on a new decade, how do visions of the 2020s imagined in books like Do Androids Dream of Electric Sheep?,, films like Soylent Green, or even manga like Ghost in the Shell match up against our reality?, In this series insert tag page hyperlink , we look at seven pop culture artefacts fro...</td>\n",
       "      <td>[(Philip K Dick's, ORG), (Entertainment News, ORG), (Firstpost Toggle, ORG), (Shell, ORG), (Ex Machina, ORG), (Androids Dream of Electric, ORG), (Philip K Dick, ORG), (San Francisco, GPE), (Earth, LOC), (Deckard, ORG), (SRI International, ORG), (Siri, GPE), (Androids Dream of Electric Sheep, ORG), (CNBC, ORG), (BuzzPatrol, ORG), (Androids Dream of Electric Sheep, ORG), (Philip K Dick, ORG), (sci fi, ORG), (sci fi films, ORG), (sci fi stories, ORG), (Social Media Stalkers' Guide, ORG), (Socia...</td>\n",
       "    </tr>\n",
       "    <tr>\n",
       "      <th>5</th>\n",
       "      <td>[dMACQ Software uses RPA, AI and ML for automated One News Page Global ScienceTechnology Computer Industry One News Page Computer Industry News dMACQ Software uses RPA, AI and ML for automated testing of industrial ponents dMACQ Software uses RPA, AI and ML for automated testing of industrial ponents Wednesday, 1 January 2020 2 hours ago In this project, dMACQ Software has used robotic process automation RPA with artificial intelligence and machine learning for automated testing of industria...</td>\n",
       "      <td>[(The post dMACQ Software, ORG), (CRN India, ORG), (KongNorth, GPE), (Iraq, GPE), (Popular Mobilisation Forces, ORG), (US, GPE), (North Korea, GPE), (Contact us Disclaimer Press Room Terms Conditions Content Accreditation RSS News, ORG), (the News DMCA / Content Removal Privacy Data Protection Policy How, ORG), (Pinterest One News, ORG), (One News Page Ltd., ORG)]</td>\n",
       "    </tr>\n",
       "    <tr>\n",
       "      <th>6</th>\n",
       "      <td>[ Politics More Security Get 6 issues for 9 SUBSCRIBE Follow WIRED e to WIRED UK., This site uses cookies to improve your experience and deliver personalised advertising., You can opt out at any time or find out more by reading our cookie policy., DeepMind's new AI can spot breast cancer just as well as your doctor Early research suggests Google's algorithm can improve the accuracy of mammogram screenings, potentially alleviating some of the UK's radiologist shortage One in eight women will ...</td>\n",
       "      <td>[(UK, GPE), (Google, ORG), (UK, GPE), (US, GPE), (UK, GPE), (US, GPE), (UK, GPE), (Google, ORG), (NHS, ORG), (Cancer Research, ORG), (Imperial College, ORG), (Northwestern University, ORG), (Royal Surrey County Hospital, ORG), (Google Health, ORG), (US, GPE), (UK, GPE), (UK, GPE), (Google Health, ORG), (Cancer Research, ORG), (UK, GPE), (US, GPE), (UK, GPE), (US, GPE), (Google Health, ORG), (US, GPE), (UK, GPE), (US, GPE), (UK, GPE), (US, GPE), (NHS, ORG), (UK, GPE), (US, GPE), (UK, GPE), (N...</td>\n",
       "    </tr>\n",
       "    <tr>\n",
       "      <th>7</th>\n",
       "      <td>[ New artificial intelligence spots breast tumours that trained doctors miss Daily Mail Online Advertisement show ad Survival of the richest!, Inside luxury doomsday proof bunker being built in Kansas where homes are sold to the ultra wealthy for 4.5M with access to a swimming pool and movie theater 15 stories below ground Family of man stabbed in the head during the anti Semitic NY Hanukkah attack release a harrowing hospital photo of him as they say he may be permanently paralyzed and neve...</td>\n",
       "      <td>[(Daily Mail Online Advertisement, ORG), (Kansas, GPE), (Semitic NY Hanukkah, ORG), (Beverly Hills, GPE), (Texas, GPE), (Iran, GPE), (US, GPE), (US, GPE), (Baghdad, GPE), (Iran, GPE), (Pentagon, ORG), (Kuwait, GPE), (Iran, GPE), (US, GPE), (Baghdad, GPE), (Iran, GPE), (US, GPE), (Baghdad, GPE), (Hezbollah, ORG), (FAA, ORG), (Colorado, GPE), (Nebraska, GPE), (Idaho, GPE), (Nissan, ORG), (Japan, GPE), (Navy, ORG), (SEALS, ORG), (Tesla, ORG), (Model S, ORG), (LA, GPE), (Honda, ORG), (D.C., GPE)...</td>\n",
       "    </tr>\n",
       "    <tr>\n",
       "      <th>8</th>\n",
       "      <td>[ Google's AI can detect breast cancer more accurately than experts Engadget Engadget Login Home Reviews Gear Gaming Entertainment Tomorrow Audio Video Deals Buyer's Guide Holiday Gift Guide Fitness Tech Home Entertainment Personal Security Back to School Outdoor Tech Parenting and Tech Camera Guide Best of CES Phones Laptops View All Log in Sign up Engadget 3 related articles Login WSJ: FDA vape ban will target fruit flavored pods Scientist who edited babies' genes sentenced to three years ...</td>\n",
       "      <td>[(Google, ORG), (Engadget Engadget Login Home Reviews, ORG), (Login WSJ, ORG), (FDA, ORG), (Scientist, ORG), (New York, GPE), (Apple, ORG), (Google, ORG), (EUV, ORG), (SpaceX, ORG), (the ISS Scientist, ORG), (Google, ORG), (georginatorbet 1h ago, GPE), (Medicine BSIP, ORG), (UK, GPE), (Google, ORG), (mon, ORG), (US, GPE), (UK, GPE), (US, GPE), (UK, GPE), (US, GPE), (UK, GPE), (UK, GPE), (National Health System, ORG), (UK, GPE), (NHS, ORG), (Google Health, ORG), (Google, ORG), (NHS, ORG), (go...</td>\n",
       "    </tr>\n",
       "    <tr>\n",
       "      <th>9</th>\n",
       "      <td>[Data Science Platform Market Sluggish Growth Rate Foreseen by 2017 2025 Market Research Sheets Unified Communication as a Service UCaaS Market New Era Of Industry Forecast 2017 2025 Managed Security Service Market Promising Growth Opportunities Forecast 2017 2025 Smart Grid Security Market Recent Trends, Development,Growth Forecast 2017 2025 News Technology Data Science Platform Market Sluggish Growth Rate Foreseen by 2017 2025 January 1, 20205 Min Read email protected Global Data Science P...</td>\n",
       "      <td>[(Data Science Platform Market, ORG), (Smart Grid Security Market Recent Trends, Development, ORG), (News Technology Data Science Platform Market, ORG), (Global Data Science Platform Market, ORG), (the Report Global Data Science Platform Market, ORG), (DevOps, ORG), (Global Data Science Platform Market, ORG), (Global Data Science Platform Market, ORG), (Google, ORG), (Facebook, ORG), (NASA, ORG), (the Report Global Data Science Platform Market: Regional Outlook Geographically, ORG), (North A...</td>\n",
       "    </tr>\n",
       "  </tbody>\n",
       "</table>\n",
       "</div>"
      ],
      "text/plain": [
       "                                                                                                                                                                                                                                                                                                                                                                                                                                                                                                             sentences   \n",
       "0  [Decentralized Machine Learning Reaches Market Cap of 15,919.00 DML Enterprise Leader Daily Ratings News for Decentralized Machine Learning Complete the form below to receive the latest headlines and analysts' mendations for Decentralized Machine Learning with our free daily email newsletter: Follow EnterpriseLeade Recent Posts GE Announces Its Plan To Sell The Distributed Power Business To Advent International Ebang Communication Resorts To The Filing Of An IPO In Hong Kong How to Open DAA,...  \\\n",
       "1  [ Artificial Intelligence AI in Marketing Market Scope, Size, Share, Trends, Forecast by 2026 Market Reports Observer Skip to content 488 E 11th Ave, Eugene, OR 97401, USA 1 541 687 2347 email protected Market Reports Observer Artificial intelligence AI is the ability to process information in a way similar to the thought process of humans in learning, decision making, and problem solving., Enterprises are now identifying the value associated with integrating AI into their business processes...   \n",
       "2  [ Lisk Machine Learning 24 Hour Trading Volume Tops 10.00 LML Markets Daily Home Privacy Policy About/ Contact Business Stocks Technology Health Lifestyle Politics Daily Ratings News for Lisk Machine Learning Complete the form below to receive the latest headlines and analysts' mendations for Lisk Machine Learning with our free daily email newsletter: Follow TheMarketsDaily Recent Posts TERA Price Down 14.5 Over Last 7 Days TERA Mindexcoin MIC Hits 1 Day Trading Volume of 1,347.00 Garlicoin ...   \n",
       "3  [ Google's AI can detect breast cancer more accurately than experts Engadget Engadget Login Home Reviews Gear Gaming Entertainment Tomorrow Audio Video Deals Buyer's Guide Holiday Gift Guide Fitness Tech Home Entertainment Personal Security Back to School Outdoor Tech Parenting and Tech Camera Guide Best of CES Phones Laptops View All Log in Sign up Engadget 3 related articles Login WSJ: FDA vape ban will target fruit flavored pods Scientist who edited babies' genes sentenced to three years ...   \n",
       "4  [ The future is sci fi: On Philip K Dick's Do Androids Dream of Electric Sheep, AI and artificial empathy Entertainment News, Firstpost Toggle navigation Prahlad Srihari Jan 01, 2020 09:10:39 IST As we embark on a new decade, how do visions of the 2020s imagined in books like Do Androids Dream of Electric Sheep?,, films like Soylent Green, or even manga like Ghost in the Shell match up against our reality?, In this series insert tag page hyperlink , we look at seven pop culture artefacts fro...   \n",
       "5  [dMACQ Software uses RPA, AI and ML for automated One News Page Global ScienceTechnology Computer Industry One News Page Computer Industry News dMACQ Software uses RPA, AI and ML for automated testing of industrial ponents dMACQ Software uses RPA, AI and ML for automated testing of industrial ponents Wednesday, 1 January 2020 2 hours ago In this project, dMACQ Software has used robotic process automation RPA with artificial intelligence and machine learning for automated testing of industria...   \n",
       "6  [ Politics More Security Get 6 issues for 9 SUBSCRIBE Follow WIRED e to WIRED UK., This site uses cookies to improve your experience and deliver personalised advertising., You can opt out at any time or find out more by reading our cookie policy., DeepMind's new AI can spot breast cancer just as well as your doctor Early research suggests Google's algorithm can improve the accuracy of mammogram screenings, potentially alleviating some of the UK's radiologist shortage One in eight women will ...   \n",
       "7  [ New artificial intelligence spots breast tumours that trained doctors miss Daily Mail Online Advertisement show ad Survival of the richest!, Inside luxury doomsday proof bunker being built in Kansas where homes are sold to the ultra wealthy for 4.5M with access to a swimming pool and movie theater 15 stories below ground Family of man stabbed in the head during the anti Semitic NY Hanukkah attack release a harrowing hospital photo of him as they say he may be permanently paralyzed and neve...   \n",
       "8  [ Google's AI can detect breast cancer more accurately than experts Engadget Engadget Login Home Reviews Gear Gaming Entertainment Tomorrow Audio Video Deals Buyer's Guide Holiday Gift Guide Fitness Tech Home Entertainment Personal Security Back to School Outdoor Tech Parenting and Tech Camera Guide Best of CES Phones Laptops View All Log in Sign up Engadget 3 related articles Login WSJ: FDA vape ban will target fruit flavored pods Scientist who edited babies' genes sentenced to three years ...   \n",
       "9  [Data Science Platform Market Sluggish Growth Rate Foreseen by 2017 2025 Market Research Sheets Unified Communication as a Service UCaaS Market New Era Of Industry Forecast 2017 2025 Managed Security Service Market Promising Growth Opportunities Forecast 2017 2025 Smart Grid Security Market Recent Trends, Development,Growth Forecast 2017 2025 News Technology Data Science Platform Market Sluggish Growth Rate Foreseen by 2017 2025 January 1, 20205 Min Read email protected Global Data Science P...   \n",
       "\n",
       "                                                                                                                                                                                                                                                                                                                                                                                                                                                                                                              entities  \n",
       "0  [(Decentralized Machine Learning Reaches Market Cap, ORG), (Decentralized Machine Learning, ORG), (Hong Kong, GPE), (NRG, ORG), (IMG, ORG), (Mistake Foxconn Launches Investigation After Reports Of Harsh Working Conditions, ORG), (Flagstar Bancorp, ORG), (Wells Fargo UK, ORG), (Royal Bank Of Scotland RBS, ORG), (France, GPE), (China, GPE), (FII IPO Uber, ORG), (Paris Deutsche Bank Plans To Slash, ORG), (Samsung, ORG), (Apple Back In Court, ORG), (Apple, ORG), (Goldman Sachs, ORG), (JPMorgan C...  \n",
       "1  [(USA, GPE), (Market Reports Observer Artificial, ORG), (North America, LOC), (South America, LOC), (Europe, LOC), (Asia Pacific, LOC), (Middle East Africa, LOC), (North America, LOC), (North America, LOC), (Asia Pacific, LOC), (Japan, GPE), (China, GPE), (India, GPE), (Europe, LOC), (Middle East Africa, LOC), (South America, LOC), (Artificial Intelligence AI in Marketing Market, ORG), (IBM Corporation, ORG), (Google Inc., ORG), (Intel Corporation, ORG), (Microsoft Corporation, ORG), (NVIDIA...  \n",
       "2  [(Lisk Machine Learning, ORG), (Lisk Machine Learning Complete, ORG), (Lisk Machine Learning, ORG), (Garlicoin GRLC Market Capitalization Achieves, ORG), (EVBG, ORG), (BroadVision NASDAQ, ORG), (BVSN Denny s Corp NASDAQ, ORG), (Teradyne, ORG), (TER, ORG), (Community Trust Bancorp, ORG), (LML, ORG), (US, GPE), (Lisk Machine Learning, ORG), (Lisk Machine Learning, ORG), (Lisk Machine Learning, ORG), (US, GPE), (Lisk Machine Learning, ORG), (Bitcoin SV BSV, ORG), (TRON TRX, ORG), (Neo NEO, ORG)...  \n",
       "3  [(Google, ORG), (Engadget Engadget Login Home Reviews, ORG), (Login WSJ, ORG), (FDA, ORG), (Scientist, ORG), (New York, GPE), (Apple, ORG), (Google, ORG), (EUV, ORG), (SpaceX, ORG), (the ISS Scientist, ORG), (Google, ORG), (georginatorbet 2h ago, ORG), (Medicine BSIP, ORG), (UK, GPE), (Google, ORG), (mon, ORG), (US, GPE), (UK, GPE), (US, GPE), (UK, GPE), (US, GPE), (UK, GPE), (UK, GPE), (National Health System, ORG), (UK, GPE), (NHS, ORG), (Google Health, ORG), (Google, ORG), (NHS, ORG), (go...  \n",
       "4  [(Philip K Dick's, ORG), (Entertainment News, ORG), (Firstpost Toggle, ORG), (Shell, ORG), (Ex Machina, ORG), (Androids Dream of Electric, ORG), (Philip K Dick, ORG), (San Francisco, GPE), (Earth, LOC), (Deckard, ORG), (SRI International, ORG), (Siri, GPE), (Androids Dream of Electric Sheep, ORG), (CNBC, ORG), (BuzzPatrol, ORG), (Androids Dream of Electric Sheep, ORG), (Philip K Dick, ORG), (sci fi, ORG), (sci fi films, ORG), (sci fi stories, ORG), (Social Media Stalkers' Guide, ORG), (Socia...  \n",
       "5                                                                                                                                       [(The post dMACQ Software, ORG), (CRN India, ORG), (KongNorth, GPE), (Iraq, GPE), (Popular Mobilisation Forces, ORG), (US, GPE), (North Korea, GPE), (Contact us Disclaimer Press Room Terms Conditions Content Accreditation RSS News, ORG), (the News DMCA / Content Removal Privacy Data Protection Policy How, ORG), (Pinterest One News, ORG), (One News Page Ltd., ORG)]  \n",
       "6  [(UK, GPE), (Google, ORG), (UK, GPE), (US, GPE), (UK, GPE), (US, GPE), (UK, GPE), (Google, ORG), (NHS, ORG), (Cancer Research, ORG), (Imperial College, ORG), (Northwestern University, ORG), (Royal Surrey County Hospital, ORG), (Google Health, ORG), (US, GPE), (UK, GPE), (UK, GPE), (Google Health, ORG), (Cancer Research, ORG), (UK, GPE), (US, GPE), (UK, GPE), (US, GPE), (Google Health, ORG), (US, GPE), (UK, GPE), (US, GPE), (UK, GPE), (US, GPE), (NHS, ORG), (UK, GPE), (US, GPE), (UK, GPE), (N...  \n",
       "7  [(Daily Mail Online Advertisement, ORG), (Kansas, GPE), (Semitic NY Hanukkah, ORG), (Beverly Hills, GPE), (Texas, GPE), (Iran, GPE), (US, GPE), (US, GPE), (Baghdad, GPE), (Iran, GPE), (Pentagon, ORG), (Kuwait, GPE), (Iran, GPE), (US, GPE), (Baghdad, GPE), (Iran, GPE), (US, GPE), (Baghdad, GPE), (Hezbollah, ORG), (FAA, ORG), (Colorado, GPE), (Nebraska, GPE), (Idaho, GPE), (Nissan, ORG), (Japan, GPE), (Navy, ORG), (SEALS, ORG), (Tesla, ORG), (Model S, ORG), (LA, GPE), (Honda, ORG), (D.C., GPE)...  \n",
       "8  [(Google, ORG), (Engadget Engadget Login Home Reviews, ORG), (Login WSJ, ORG), (FDA, ORG), (Scientist, ORG), (New York, GPE), (Apple, ORG), (Google, ORG), (EUV, ORG), (SpaceX, ORG), (the ISS Scientist, ORG), (Google, ORG), (georginatorbet 1h ago, GPE), (Medicine BSIP, ORG), (UK, GPE), (Google, ORG), (mon, ORG), (US, GPE), (UK, GPE), (US, GPE), (UK, GPE), (US, GPE), (UK, GPE), (UK, GPE), (National Health System, ORG), (UK, GPE), (NHS, ORG), (Google Health, ORG), (Google, ORG), (NHS, ORG), (go...  \n",
       "9  [(Data Science Platform Market, ORG), (Smart Grid Security Market Recent Trends, Development, ORG), (News Technology Data Science Platform Market, ORG), (Global Data Science Platform Market, ORG), (the Report Global Data Science Platform Market, ORG), (DevOps, ORG), (Global Data Science Platform Market, ORG), (Global Data Science Platform Market, ORG), (Google, ORG), (Facebook, ORG), (NASA, ORG), (the Report Global Data Science Platform Market: Regional Outlook Geographically, ORG), (North A...  "
      ]
     },
     "execution_count": 149,
     "metadata": {},
     "output_type": "execute_result"
    }
   ],
   "source": [
    "df_full.head(10)[['sentences', 'entities']]"
   ]
  },
  {
   "cell_type": "code",
   "execution_count": null,
   "metadata": {},
   "outputs": [],
   "source": []
  }
 ],
 "metadata": {
  "kernelspec": {
   "display_name": "nlp",
   "language": "python",
   "name": "python3"
  },
  "language_info": {
   "codemirror_mode": {
    "name": "ipython",
    "version": 3
   },
   "file_extension": ".py",
   "mimetype": "text/x-python",
   "name": "python",
   "nbconvert_exporter": "python",
   "pygments_lexer": "ipython3",
   "version": "3.10.0"
  },
  "orig_nbformat": 4
 },
 "nbformat": 4,
 "nbformat_minor": 2
}
