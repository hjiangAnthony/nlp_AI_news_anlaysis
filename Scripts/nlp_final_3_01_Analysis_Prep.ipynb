{
 "cells": [
  {
   "attachments": {},
   "cell_type": "markdown",
   "metadata": {},
   "source": [
    "## Preparation"
   ]
  },
  {
   "cell_type": "code",
   "execution_count": 1,
   "metadata": {},
   "outputs": [
    {
     "name": "stdout",
     "output_type": "stream",
     "text": [
      "INFO: Pandarallel will run on 12 workers.\n",
      "INFO: Pandarallel will use Memory file system to transfer data between the main process and workers.\n"
     ]
    }
   ],
   "source": [
    "import warnings\n",
    "warnings.filterwarnings(\"ignore\")\n",
    "\n",
    "from pprint import pprint\n",
    "import re\n",
    "from tqdm import tqdm\n",
    "\n",
    "from pandarallel import pandarallel\n",
    "pandarallel.initialize(nb_workers=12, progress_bar=False)\n",
    "import pandas as pd\n",
    "pd.set_option('display.max_rows', 100)\n",
    "pd.set_option('display.max_columns', None)\n",
    "pd.set_option('display.max_colwidth', 500)\n",
    "\n",
    "import warnings\n",
    "warnings.filterwarnings(\"ignore\")\n",
    "\n",
    "import numpy as np\n",
    "import pickle"
   ]
  },
  {
   "cell_type": "code",
   "execution_count": 2,
   "metadata": {},
   "outputs": [
    {
     "name": "stdout",
     "output_type": "stream",
     "text": [
      "/home/anthony/projects/nlp_runtime\n"
     ]
    }
   ],
   "source": [
    "#!pwd\n",
    "import os\n",
    "\n",
    "# Google Bucket\n",
    "# file name checkpoint_0512_sent_split.parquet\n",
    "path_bucket = 'gs://msca-sp23-bucket/nlp_data'\n",
    "runtime_path = '/home/anthony/projects/nlp_runtime'\n",
    "bucket_read = path_bucket + '/' + 'checkpoint_0526_filtered_sentences_sentiment_ner.parquet'\n",
    "\n",
    "os.chdir(runtime_path)\n",
    "print(os.getcwd())"
   ]
  },
  {
   "cell_type": "code",
   "execution_count": 3,
   "metadata": {},
   "outputs": [],
   "source": [
    "df = pd.read_parquet(bucket_read, engine='pyarrow')\n",
    "df['target_sentiment'] = df['target_sentiment'].apply(pickle.loads)"
   ]
  },
  {
   "cell_type": "code",
   "execution_count": 4,
   "metadata": {},
   "outputs": [
    {
     "data": {
      "text/html": [
       "<div>\n",
       "<style scoped>\n",
       "    .dataframe tbody tr th:only-of-type {\n",
       "        vertical-align: middle;\n",
       "    }\n",
       "\n",
       "    .dataframe tbody tr th {\n",
       "        vertical-align: top;\n",
       "    }\n",
       "\n",
       "    .dataframe thead th {\n",
       "        text-align: right;\n",
       "    }\n",
       "</style>\n",
       "<table border=\"1\" class=\"dataframe\">\n",
       "  <thead>\n",
       "    <tr style=\"text-align: right;\">\n",
       "      <th></th>\n",
       "      <th>date</th>\n",
       "      <th>title</th>\n",
       "      <th>article_id</th>\n",
       "      <th>sentences</th>\n",
       "      <th>target_sentiment</th>\n",
       "      <th>sentiment</th>\n",
       "      <th>sentiment_score</th>\n",
       "    </tr>\n",
       "  </thead>\n",
       "  <tbody>\n",
       "    <tr>\n",
       "      <th>0</th>\n",
       "      <td>2020-01-01</td>\n",
       "      <td>Decentralized Machine Learning Reaches Market Cap of $15,919.00 (DML) - Enterprise Leader</td>\n",
       "      <td>1</td>\n",
       "      <td>Decentralized Machine Learning Reaches Market Cap of 15,919.00 DML Enterprise Leader Daily Ratings News for Decentralized Machine Learning Complete the form below to receive the latest headlines and analysts' mendations for Decentralized Machine Learning with our free daily email newsletter: Follow EnterpriseLeade Recent Posts GE Announces Its Plan To Sell The Distributed Power Business To Advent International Ebang Communication Resorts To The Filing Of An IPO In Hong Kong How to Open DAA, ...</td>\n",
       "      <td>[(Decentralized Machine Learning Reaches Market Cap, ORG, 0.0), (Decentralized Machine Learning, ORG, 0.0), (Hong Kong, GPE, 0.0), (NRG, ORG, 0.0), (IMG, ORG, 0.0)]</td>\n",
       "      <td>neutral</td>\n",
       "      <td>0.999812</td>\n",
       "    </tr>\n",
       "    <tr>\n",
       "      <th>0</th>\n",
       "      <td>2020-01-01</td>\n",
       "      <td>Decentralized Machine Learning Reaches Market Cap of $15,919.00 (DML) - Enterprise Leader</td>\n",
       "      <td>1</td>\n",
       "      <td>3 Ways to Tell if Your Next Business Move will be a Mistake Foxconn Launches Investigation After Reports Of Harsh Working Conditions At Its Factory Flagstar Bancorp Acquires 52 Retails Branches Belonging To Wells Fargo</td>\n",
       "      <td>[(Mistake Foxconn Launches Investigation After Reports Of Harsh Working Conditions, ORG, -0.2), (Flagstar Bancorp, ORG, 0.0), (Wells Fargo, ORG, 0.0)]</td>\n",
       "      <td>neutral</td>\n",
       "      <td>0.999812</td>\n",
       "    </tr>\n",
       "  </tbody>\n",
       "</table>\n",
       "</div>"
      ],
      "text/plain": [
       "        date   \n",
       "0 2020-01-01  \\\n",
       "0 2020-01-01   \n",
       "\n",
       "                                                                                       title   \n",
       "0  Decentralized Machine Learning Reaches Market Cap of $15,919.00 (DML) - Enterprise Leader  \\\n",
       "0  Decentralized Machine Learning Reaches Market Cap of $15,919.00 (DML) - Enterprise Leader   \n",
       "\n",
       "   article_id   \n",
       "0           1  \\\n",
       "0           1   \n",
       "\n",
       "                                                                                                                                                                                                                                                                                                                                                                                                                                                                                                             sentences   \n",
       "0  Decentralized Machine Learning Reaches Market Cap of 15,919.00 DML Enterprise Leader Daily Ratings News for Decentralized Machine Learning Complete the form below to receive the latest headlines and analysts' mendations for Decentralized Machine Learning with our free daily email newsletter: Follow EnterpriseLeade Recent Posts GE Announces Its Plan To Sell The Distributed Power Business To Advent International Ebang Communication Resorts To The Filing Of An IPO In Hong Kong How to Open DAA, ...  \\\n",
       "0                                                                                                                                                                                                                                                                                           3 Ways to Tell if Your Next Business Move will be a Mistake Foxconn Launches Investigation After Reports Of Harsh Working Conditions At Its Factory Flagstar Bancorp Acquires 52 Retails Branches Belonging To Wells Fargo   \n",
       "\n",
       "                                                                                                                                                       target_sentiment   \n",
       "0  [(Decentralized Machine Learning Reaches Market Cap, ORG, 0.0), (Decentralized Machine Learning, ORG, 0.0), (Hong Kong, GPE, 0.0), (NRG, ORG, 0.0), (IMG, ORG, 0.0)]  \\\n",
       "0                [(Mistake Foxconn Launches Investigation After Reports Of Harsh Working Conditions, ORG, -0.2), (Flagstar Bancorp, ORG, 0.0), (Wells Fargo, ORG, 0.0)]   \n",
       "\n",
       "  sentiment  sentiment_score  \n",
       "0   neutral         0.999812  \n",
       "0   neutral         0.999812  "
      ]
     },
     "execution_count": 4,
     "metadata": {},
     "output_type": "execute_result"
    }
   ],
   "source": [
    "df.head(2)"
   ]
  },
  {
   "attachments": {},
   "cell_type": "markdown",
   "metadata": {},
   "source": [
    "## Sentiment Quality Check"
   ]
  },
  {
   "cell_type": "code",
   "execution_count": 25,
   "metadata": {},
   "outputs": [
    {
     "name": "stdout",
     "output_type": "stream",
     "text": [
      "<class 'pandas.core.frame.DataFrame'>\n",
      "Index: 2223016 entries, 0 to 133257\n",
      "Data columns (total 7 columns):\n",
      " #   Column            Dtype         \n",
      "---  ------            -----         \n",
      " 0   date              datetime64[ns]\n",
      " 1   title             object        \n",
      " 2   article_id        int64         \n",
      " 3   sentences         object        \n",
      " 4   target_sentiment  object        \n",
      " 5   sentiment         object        \n",
      " 6   sentiment_score   float32       \n",
      "dtypes: datetime64[ns](1), float32(1), int64(1), object(4)\n",
      "memory usage: 127.2+ MB\n"
     ]
    }
   ],
   "source": [
    "df.info()"
   ]
  },
  {
   "cell_type": "code",
   "execution_count": 24,
   "metadata": {},
   "outputs": [
    {
     "data": {
      "text/plain": [
       "sentiment\n",
       "neutral     1735701\n",
       "positive     403518\n",
       "negative      83797\n",
       "Name: count, dtype: int64"
      ]
     },
     "execution_count": 24,
     "metadata": {},
     "output_type": "execute_result"
    }
   ],
   "source": [
    "df['sentiment'].value_counts()"
   ]
  },
  {
   "cell_type": "code",
   "execution_count": 5,
   "metadata": {},
   "outputs": [],
   "source": [
    "# replace {'positive':1, 'negative':-1, 'neutral':0}\n",
    "df['sentiment_value'] = df['sentiment'].apply(lambda x: 1 if x == 'positive' else -1 if x == 'negative' else 0)"
   ]
  },
  {
   "cell_type": "code",
   "execution_count": 6,
   "metadata": {},
   "outputs": [
    {
     "data": {
      "text/html": [
       "<div>\n",
       "<style scoped>\n",
       "    .dataframe tbody tr th:only-of-type {\n",
       "        vertical-align: middle;\n",
       "    }\n",
       "\n",
       "    .dataframe tbody tr th {\n",
       "        vertical-align: top;\n",
       "    }\n",
       "\n",
       "    .dataframe thead th {\n",
       "        text-align: right;\n",
       "    }\n",
       "</style>\n",
       "<table border=\"1\" class=\"dataframe\">\n",
       "  <thead>\n",
       "    <tr style=\"text-align: right;\">\n",
       "      <th></th>\n",
       "      <th>title</th>\n",
       "      <th>sentences</th>\n",
       "      <th>target_sentiment</th>\n",
       "      <th>sentiment</th>\n",
       "    </tr>\n",
       "  </thead>\n",
       "  <tbody>\n",
       "    <tr>\n",
       "      <th>114908</th>\n",
       "      <td>What is Bing with ChatGPT? Here's everything we know | ZDNET</td>\n",
       "      <td>You can also install the Bing Mobile app.</td>\n",
       "      <td>[(Bing Mobile, ORG, 0.0)]</td>\n",
       "      <td>negative</td>\n",
       "    </tr>\n",
       "    <tr>\n",
       "      <th>84162</th>\n",
       "      <td>11 Tech Experts On How Small Businesses Can Effectively Leverage Machine Learning</td>\n",
       "      <td>Denver Hunter, PenServ Plan Services, Inc. 4.</td>\n",
       "      <td>[(Denver Hunter, PERSON, 0.0), (PenServ Plan Services, Inc. 4, ORG, 0.0)]</td>\n",
       "      <td>negative</td>\n",
       "    </tr>\n",
       "    <tr>\n",
       "      <th>115703</th>\n",
       "      <td>Safety and AI — How this Fusion Heralds a New Dawn in Workplace Safety – FocusTechnica</td>\n",
       "      <td>Be it a food pany or any warehouse, for that matter, life threatening accidents are right around the corner.</td>\n",
       "      <td>[]</td>\n",
       "      <td>negative</td>\n",
       "    </tr>\n",
       "    <tr>\n",
       "      <th>3316</th>\n",
       "      <td>Current Trends and Future Demand of Pancreatic Cancer Diagnostics Using Artificial Intelligence Market Top Business Growing Strategies, Technological Innovation and Emerging Trends of Outlook To 2024 – News Parent</td>\n",
       "      <td>The exhaustive analysis of various trends of the global Pancreatic Cancer Diagnostics Using Artificial Intelligence Market to help identify market expansions To Know More About The Assumptions in This Market Report: While each report initially generated is prepared with a set benchmark of the industry, the reports are customizable to meet the requirements of the client.</td>\n",
       "      <td>[(Pancreatic Cancer Diagnostics Using Artificial Intelligence Market, ORG, -0.6)]</td>\n",
       "      <td>negative</td>\n",
       "    </tr>\n",
       "    <tr>\n",
       "      <th>62868</th>\n",
       "      <td>How AI helped deliver cash aid to many of the poorest people in Togo - NewsBreak</td>\n",
       "      <td>PUBLIC HEALTH 1 DAY Internal Twitter Data Reveals How Many People Are Tweeting About CryptoTwitter has e the primary platform for crypto discussion on the internet, and internal data from pany reveals just how many people are joining the conversation.</td>\n",
       "      <td>[(CryptoTwitter, ORG, 0.0)]</td>\n",
       "      <td>negative</td>\n",
       "    </tr>\n",
       "  </tbody>\n",
       "</table>\n",
       "</div>"
      ],
      "text/plain": [
       "                                                                                                                                                                                                                        title   \n",
       "114908                                                                                                                                                           What is Bing with ChatGPT? Here's everything we know | ZDNET  \\\n",
       "84162                                                                                                                                       11 Tech Experts On How Small Businesses Can Effectively Leverage Machine Learning   \n",
       "115703                                                                                                                                 Safety and AI — How this Fusion Heralds a New Dawn in Workplace Safety – FocusTechnica   \n",
       "3316    Current Trends and Future Demand of Pancreatic Cancer Diagnostics Using Artificial Intelligence Market Top Business Growing Strategies, Technological Innovation and Emerging Trends of Outlook To 2024 – News Parent   \n",
       "62868                                                                                                                                        How AI helped deliver cash aid to many of the poorest people in Togo - NewsBreak   \n",
       "\n",
       "                                                                                                                                                                                                                                                                                                                                                                                   sentences   \n",
       "114908                                                                                                                                                                                                                                                                                                                                             You can also install the Bing Mobile app.  \\\n",
       "84162                                                                                                                                                                                                                                                                                                                                          Denver Hunter, PenServ Plan Services, Inc. 4.   \n",
       "115703                                                                                                                                                                                                                                                                          Be it a food pany or any warehouse, for that matter, life threatening accidents are right around the corner.   \n",
       "3316    The exhaustive analysis of various trends of the global Pancreatic Cancer Diagnostics Using Artificial Intelligence Market to help identify market expansions To Know More About The Assumptions in This Market Report: While each report initially generated is prepared with a set benchmark of the industry, the reports are customizable to meet the requirements of the client.   \n",
       "62868                                                                                                                            PUBLIC HEALTH 1 DAY Internal Twitter Data Reveals How Many People Are Tweeting About CryptoTwitter has e the primary platform for crypto discussion on the internet, and internal data from pany reveals just how many people are joining the conversation.   \n",
       "\n",
       "                                                                         target_sentiment   \n",
       "114908                                                          [(Bing Mobile, ORG, 0.0)]  \\\n",
       "84162           [(Denver Hunter, PERSON, 0.0), (PenServ Plan Services, Inc. 4, ORG, 0.0)]   \n",
       "115703                                                                                 []   \n",
       "3316    [(Pancreatic Cancer Diagnostics Using Artificial Intelligence Market, ORG, -0.6)]   \n",
       "62868                                                         [(CryptoTwitter, ORG, 0.0)]   \n",
       "\n",
       "       sentiment  \n",
       "114908  negative  \n",
       "84162   negative  \n",
       "115703  negative  \n",
       "3316    negative  \n",
       "62868   negative  "
      ]
     },
     "execution_count": 6,
     "metadata": {},
     "output_type": "execute_result"
    }
   ],
   "source": [
    "df[df['sentiment_value'] == -1].sample(5)[['title', 'sentences', 'target_sentiment', 'sentiment']]"
   ]
  },
  {
   "cell_type": "code",
   "execution_count": 38,
   "metadata": {},
   "outputs": [
    {
     "data": {
      "text/html": [
       "<div>\n",
       "<style scoped>\n",
       "    .dataframe tbody tr th:only-of-type {\n",
       "        vertical-align: middle;\n",
       "    }\n",
       "\n",
       "    .dataframe tbody tr th {\n",
       "        vertical-align: top;\n",
       "    }\n",
       "\n",
       "    .dataframe thead th {\n",
       "        text-align: right;\n",
       "    }\n",
       "</style>\n",
       "<table border=\"1\" class=\"dataframe\">\n",
       "  <thead>\n",
       "    <tr style=\"text-align: right;\">\n",
       "      <th></th>\n",
       "      <th>title</th>\n",
       "      <th>sentences</th>\n",
       "      <th>target_sentiment</th>\n",
       "      <th>sentiment</th>\n",
       "    </tr>\n",
       "  </thead>\n",
       "  <tbody>\n",
       "    <tr>\n",
       "      <th>53040</th>\n",
       "      <td>Duality and Intel Collaborate to Offer Accelerated Homomorphic Encryption-based Machine Learning Applications on Amazon Web Services (AWS)</td>\n",
       "      <td>The collaboration focused on accelerating ML applications with HE on the new 3rd Gen Intel Xeon Scalable processors.</td>\n",
       "      <td>[(ML, ORG, 0.0), (Intel, ORG, 0.0)]</td>\n",
       "      <td>neutral</td>\n",
       "    </tr>\n",
       "    <tr>\n",
       "      <th>7627</th>\n",
       "      <td>Global Artificial Intelligence in Military Market Industry Latest Trends &amp; Outlook 2020-2027 – NJ MMA News</td>\n",
       "      <td>Global Artificial Intelligence in Military Therapy Type Segment Analysis 6.</td>\n",
       "      <td>[(Global Artificial Intelligence in Military Therapy Type Segment Analysis 6, ORG, -0.2333333333333333)]</td>\n",
       "      <td>neutral</td>\n",
       "    </tr>\n",
       "    <tr>\n",
       "      <th>64537</th>\n",
       "      <td>Hirose and eTopus Technology Develop Combined PCIe Gen6 64Gbps PAM4 Interconnect Solution for AI Training Applications</td>\n",
       "      <td>About eTopus Technology Inc. eTopus is an innovator and technology leader in high performance, DSP based, mixed signal, ultra high speed semiconductor interconnect solutions.</td>\n",
       "      <td>[(About eTopus Technology Inc. eTopus, ORG, 0.0), (DSP, ORG, 0.0)]</td>\n",
       "      <td>neutral</td>\n",
       "    </tr>\n",
       "    <tr>\n",
       "      <th>125524</th>\n",
       "      <td>Pausing AI Development Would 'Simply Benefit China,' Says Eric Schmidt</td>\n",
       "      <td>Instead of a pause, he said leaders should collectively discuss appropriate guardrails \"ASAP.\"</td>\n",
       "      <td>[]</td>\n",
       "      <td>neutral</td>\n",
       "    </tr>\n",
       "    <tr>\n",
       "      <th>4820</th>\n",
       "      <td>Global IoT, Data Management, 5G and Artificial Intelligence Market 2025 – Financial Analyst</td>\n",
       "      <td>For many years Artificial Intelligence AI was just a futuristic concept but with recent progress in Machine Learning capabilities; the AI sector has been firmly pushed into the spotlight.</td>\n",
       "      <td>[(Artificial Intelligence AI, ORG, -0.6), (Machine Learning, ORG, 0.0), (AI, ORG, 0.0)]</td>\n",
       "      <td>neutral</td>\n",
       "    </tr>\n",
       "  </tbody>\n",
       "</table>\n",
       "</div>"
      ],
      "text/plain": [
       "                                                                                                                                             title   \n",
       "53040   Duality and Intel Collaborate to Offer Accelerated Homomorphic Encryption-based Machine Learning Applications on Amazon Web Services (AWS)  \\\n",
       "7627                                    Global Artificial Intelligence in Military Market Industry Latest Trends & Outlook 2020-2027 – NJ MMA News   \n",
       "64537                      Hirose and eTopus Technology Develop Combined PCIe Gen6 64Gbps PAM4 Interconnect Solution for AI Training Applications    \n",
       "125524                                                                      Pausing AI Development Would 'Simply Benefit China,' Says Eric Schmidt   \n",
       "4820                                                   Global IoT, Data Management, 5G and Artificial Intelligence Market 2025 – Financial Analyst   \n",
       "\n",
       "                                                                                                                                                                                          sentences   \n",
       "53040                                                                          The collaboration focused on accelerating ML applications with HE on the new 3rd Gen Intel Xeon Scalable processors.  \\\n",
       "7627                                                                                                                    Global Artificial Intelligence in Military Therapy Type Segment Analysis 6.   \n",
       "64537                About eTopus Technology Inc. eTopus is an innovator and technology leader in high performance, DSP based, mixed signal, ultra high speed semiconductor interconnect solutions.   \n",
       "125524                                                                                               Instead of a pause, he said leaders should collectively discuss appropriate guardrails \"ASAP.\"   \n",
       "4820    For many years Artificial Intelligence AI was just a futuristic concept but with recent progress in Machine Learning capabilities; the AI sector has been firmly pushed into the spotlight.   \n",
       "\n",
       "                                                                                                target_sentiment   \n",
       "53040                                                                        [(ML, ORG, 0.0), (Intel, ORG, 0.0)]  \\\n",
       "7627    [(Global Artificial Intelligence in Military Therapy Type Segment Analysis 6, ORG, -0.2333333333333333)]   \n",
       "64537                                         [(About eTopus Technology Inc. eTopus, ORG, 0.0), (DSP, ORG, 0.0)]   \n",
       "125524                                                                                                        []   \n",
       "4820                     [(Artificial Intelligence AI, ORG, -0.6), (Machine Learning, ORG, 0.0), (AI, ORG, 0.0)]   \n",
       "\n",
       "       sentiment  \n",
       "53040    neutral  \n",
       "7627     neutral  \n",
       "64537    neutral  \n",
       "125524   neutral  \n",
       "4820     neutral  "
      ]
     },
     "execution_count": 38,
     "metadata": {},
     "output_type": "execute_result"
    }
   ],
   "source": [
    "df[df['sentiment_value'] == 0].sample(5)[['title', 'sentences', 'target_sentiment', 'sentiment']]"
   ]
  },
  {
   "cell_type": "code",
   "execution_count": 40,
   "metadata": {},
   "outputs": [
    {
     "data": {
      "text/html": [
       "<div>\n",
       "<style scoped>\n",
       "    .dataframe tbody tr th:only-of-type {\n",
       "        vertical-align: middle;\n",
       "    }\n",
       "\n",
       "    .dataframe tbody tr th {\n",
       "        vertical-align: top;\n",
       "    }\n",
       "\n",
       "    .dataframe thead th {\n",
       "        text-align: right;\n",
       "    }\n",
       "</style>\n",
       "<table border=\"1\" class=\"dataframe\">\n",
       "  <thead>\n",
       "    <tr style=\"text-align: right;\">\n",
       "      <th></th>\n",
       "      <th>title</th>\n",
       "      <th>sentences</th>\n",
       "      <th>target_sentiment</th>\n",
       "      <th>sentiment</th>\n",
       "    </tr>\n",
       "  </thead>\n",
       "  <tbody>\n",
       "    <tr>\n",
       "      <th>121481</th>\n",
       "      <td>Better Late Than Never: 3 Artificial Intelligence (AI) Stocks That Still Have Massive Upside | Nasdaq</td>\n",
       "      <td>SentinelOne scores very high on benchmarks such as MITRE's ATT CK Evaluations, and research firm Gartner gave it the top rank in endpoint protection.</td>\n",
       "      <td>[(SentinelOne, ORG, 0.0), (MITRE, ORG, 0.0), (ATT CK Evaluations, ORG, 0.0), (Gartner, PERSON, 0.0)]</td>\n",
       "      <td>positive</td>\n",
       "    </tr>\n",
       "    <tr>\n",
       "      <th>14486</th>\n",
       "      <td>ACTO raises $11.5 million to bolster life sciences sales with AI | VentureBeat</td>\n",
       "      <td>ACTO raises 11.5 million to bolster life sciences sales with AI VentureBeat AR/VR Big Data Cloud Commerce Dev Enterprise Entrepreneur Marketing Media Mobile Security Social Transportation The Machine AI Machine Learning Computer Vision Natural Language Processing Robotic Process Automation GamesBeat Newsletters Got a news tip?</td>\n",
       "      <td>[(ACTO, ORG, 0.0), (AI VentureBeat AR/VR Big Data Cloud Commerce Dev Enterprise Entrepreneur Marketing Media Mobile Security Social Transportation The Machine AI Machine Learning Computer Vision Natural Language Processing Robotic Process Automation GamesBeat Newsletters Got, ORG, 0.008333333333333331)]</td>\n",
       "      <td>positive</td>\n",
       "    </tr>\n",
       "    <tr>\n",
       "      <th>71290</th>\n",
       "      <td>Explainable machine learning for precise fatigue crack tip detection - NewsBreak</td>\n",
       "      <td>A novel variant that predicts a p.Ser76Thr in IGFBP4 Thr allele frequency\" \" 0.02 was identified which associated with the maximum BMI measured during adulthood BMI 39.8\" kg/m2 for Thr allele bined with heterozygotes vs. 36.2\" kg/m2 for Ser allele homozygotes, \" \" 6.7 per Thr allele, p\" \" 8.0\" \" 10 5, adjusted for age, sex, birth year and the first five genetic ponents and the maximum age and sex adjusted BMI z score measured during childhood/adolescence z score 0.70 SD for Thr allele hetero...</td>\n",
       "      <td>[(Ser, PERSON, 0.0), (BMI, ORG, 0.0), (Ser, PERSON, 0.0)]</td>\n",
       "      <td>positive</td>\n",
       "    </tr>\n",
       "    <tr>\n",
       "      <th>29076</th>\n",
       "      <td>Industrial Research on Artificial Intelligence (AI) As a Service Market 2020 with In-depth Analysis of Product Supply and Demand: Google, Amazon web services, IBM, Microsoft, SAP, Salesforce, and more – Redhill Market Analytics</td>\n",
       "      <td>A Artificial Intelligence AI As a Service Market provides an extensive view of size; trends and shape have been developed in this report to identify factors that will exhibit a significant impact in boosting the sales of Artificial Intelligence AI As a Service Market in the near future.</td>\n",
       "      <td>[(Artificial Intelligence AI, ORG, -0.6)]</td>\n",
       "      <td>positive</td>\n",
       "    </tr>\n",
       "    <tr>\n",
       "      <th>14905</th>\n",
       "      <td>Great Learning collaborates with Northwestern University to launch online 'Master of Science in Data Science Programme' | Business</td>\n",
       "      <td>When Di Maio appeare... Zimbabwe protest organiser, journalist freed on bail, banned from posting on Twitter A Zimbabwe opposition politician and a journalist detained for more than a month on suspicion of planning anti government protests over corruption and the worst economic crisis in more than a decade were released on bail on Wednesday.</td>\n",
       "      <td>[(Di Maio appeare, PERSON, 0.0), (Zimbabwe, GPE, 0.0), (Zimbabwe, GPE, 0.0)]</td>\n",
       "      <td>positive</td>\n",
       "    </tr>\n",
       "  </tbody>\n",
       "</table>\n",
       "</div>"
      ],
      "text/plain": [
       "                                                                                                                                                                                                                                      title   \n",
       "121481                                                                                                                                Better Late Than Never: 3 Artificial Intelligence (AI) Stocks That Still Have Massive Upside | Nasdaq  \\\n",
       "14486                                                                                                                                                        ACTO raises $11.5 million to bolster life sciences sales with AI | VentureBeat   \n",
       "71290                                                                                                                                                      Explainable machine learning for precise fatigue crack tip detection - NewsBreak   \n",
       "29076   Industrial Research on Artificial Intelligence (AI) As a Service Market 2020 with In-depth Analysis of Product Supply and Demand: Google, Amazon web services, IBM, Microsoft, SAP, Salesforce, and more – Redhill Market Analytics   \n",
       "14905                                                                                                    Great Learning collaborates with Northwestern University to launch online 'Master of Science in Data Science Programme' | Business   \n",
       "\n",
       "                                                                                                                                                                                                                                                                                                                                                                                                                                                                                                                  sentences   \n",
       "121481                                                                                                                                                                                                                                                                                                                                                                SentinelOne scores very high on benchmarks such as MITRE's ATT CK Evaluations, and research firm Gartner gave it the top rank in endpoint protection.  \\\n",
       "14486                                                                                                                                                                              ACTO raises 11.5 million to bolster life sciences sales with AI VentureBeat AR/VR Big Data Cloud Commerce Dev Enterprise Entrepreneur Marketing Media Mobile Security Social Transportation The Machine AI Machine Learning Computer Vision Natural Language Processing Robotic Process Automation GamesBeat Newsletters Got a news tip?   \n",
       "71290   A novel variant that predicts a p.Ser76Thr in IGFBP4 Thr allele frequency\" \" 0.02 was identified which associated with the maximum BMI measured during adulthood BMI 39.8\" kg/m2 for Thr allele bined with heterozygotes vs. 36.2\" kg/m2 for Ser allele homozygotes, \" \" 6.7 per Thr allele, p\" \" 8.0\" \" 10 5, adjusted for age, sex, birth year and the first five genetic ponents and the maximum age and sex adjusted BMI z score measured during childhood/adolescence z score 0.70 SD for Thr allele hetero...   \n",
       "29076                                                                                                                                                                                                                       A Artificial Intelligence AI As a Service Market provides an extensive view of size; trends and shape have been developed in this report to identify factors that will exhibit a significant impact in boosting the sales of Artificial Intelligence AI As a Service Market in the near future.   \n",
       "14905                                                                                                                                                               When Di Maio appeare... Zimbabwe protest organiser, journalist freed on bail, banned from posting on Twitter A Zimbabwe opposition politician and a journalist detained for more than a month on suspicion of planning anti government protests over corruption and the worst economic crisis in more than a decade were released on bail on Wednesday.   \n",
       "\n",
       "                                                                                                                                                                                                                                                                                                        target_sentiment   \n",
       "121481                                                                                                                                                                                                              [(SentinelOne, ORG, 0.0), (MITRE, ORG, 0.0), (ATT CK Evaluations, ORG, 0.0), (Gartner, PERSON, 0.0)]  \\\n",
       "14486   [(ACTO, ORG, 0.0), (AI VentureBeat AR/VR Big Data Cloud Commerce Dev Enterprise Entrepreneur Marketing Media Mobile Security Social Transportation The Machine AI Machine Learning Computer Vision Natural Language Processing Robotic Process Automation GamesBeat Newsletters Got, ORG, 0.008333333333333331)]   \n",
       "71290                                                                                                                                                                                                                                                          [(Ser, PERSON, 0.0), (BMI, ORG, 0.0), (Ser, PERSON, 0.0)]   \n",
       "29076                                                                                                                                                                                                                                                                          [(Artificial Intelligence AI, ORG, -0.6)]   \n",
       "14905                                                                                                                                                                                                                                       [(Di Maio appeare, PERSON, 0.0), (Zimbabwe, GPE, 0.0), (Zimbabwe, GPE, 0.0)]   \n",
       "\n",
       "       sentiment  \n",
       "121481  positive  \n",
       "14486   positive  \n",
       "71290   positive  \n",
       "29076   positive  \n",
       "14905   positive  "
      ]
     },
     "execution_count": 40,
     "metadata": {},
     "output_type": "execute_result"
    }
   ],
   "source": [
    "df[df['sentiment_value'] == 1].sample(5)[['title', 'sentences', 'target_sentiment', 'sentiment']]"
   ]
  },
  {
   "attachments": {},
   "cell_type": "markdown",
   "metadata": {},
   "source": [
    "Most sentences are neutral. The performance comparsion between target_sentiment (by spacy & textblob) and single sentence sentiment (by distil-bert) obviously differ.\n",
    "- single sentence sentiment is still valuable because some setences have no entities (e.g. 'it cannot learn to love' for AI) and has a negative sentiment\n",
    "- target_sentiment tends to lose some context like the Di Maio one. He is released, while the target_sentiment identified no sentiments towards entitites; however, the event (sentence) is overall in a positive tone"
   ]
  },
  {
   "attachments": {},
   "cell_type": "markdown",
   "metadata": {},
   "source": [
    "## Aggregate Sentence Sentiments"
   ]
  },
  {
   "cell_type": "code",
   "execution_count": 45,
   "metadata": {},
   "outputs": [
    {
     "data": {
      "text/plain": [
       "(133258, 9)"
      ]
     },
     "execution_count": 45,
     "metadata": {},
     "output_type": "execute_result"
    }
   ],
   "source": [
    "# prepare main df\n",
    "bucket_read = path_bucket + '/' + 'checkpoint_0525_full_article_split.parquet'\n",
    "df_main = pd.read_parquet(bucket_read, engine='pyarrow')\n",
    "\n",
    "df_main.shape"
   ]
  },
  {
   "cell_type": "code",
   "execution_count": 47,
   "metadata": {},
   "outputs": [
    {
     "data": {
      "text/html": [
       "<div>\n",
       "<style scoped>\n",
       "    .dataframe tbody tr th:only-of-type {\n",
       "        vertical-align: middle;\n",
       "    }\n",
       "\n",
       "    .dataframe tbody tr th {\n",
       "        vertical-align: top;\n",
       "    }\n",
       "\n",
       "    .dataframe thead th {\n",
       "        text-align: right;\n",
       "    }\n",
       "</style>\n",
       "<table border=\"1\" class=\"dataframe\">\n",
       "  <thead>\n",
       "    <tr style=\"text-align: right;\">\n",
       "      <th></th>\n",
       "      <th>date</th>\n",
       "      <th>title</th>\n",
       "      <th>text_cleaned</th>\n",
       "      <th>article_topic</th>\n",
       "      <th>domain</th>\n",
       "      <th>article_id</th>\n",
       "    </tr>\n",
       "  </thead>\n",
       "  <tbody>\n",
       "    <tr>\n",
       "      <th>0</th>\n",
       "      <td>2020-01-01</td>\n",
       "      <td>Decentralized Machine Learning Reaches Market Cap of $15,919.00 (DML) - Enterprise Leader</td>\n",
       "      <td>Decentralized Machine Learning Reaches Market Cap of 15,919.00 DML Enterprise Leader Daily Ratings News for Decentralized Machine Learning Complete the form below to receive the latest headlines and analysts' mendations for Decentralized Machine Learning with our free daily email newsletter: Follow EnterpriseLeade Recent Posts GE Announces Its Plan To Sell The Distributed Power Business To Advent International Ebang Communication Resorts To The Filing Of An IPO In Hong Kong How to Open DAA, ...</td>\n",
       "      <td>3</td>\n",
       "      <td>theenterpriseleader.com</td>\n",
       "      <td>1</td>\n",
       "    </tr>\n",
       "    <tr>\n",
       "      <th>1</th>\n",
       "      <td>2020-01-01</td>\n",
       "      <td>Artificial Intelligence (AI) in Marketing Market Scope, Size, Share, Trends, Forecast by 2026 – Market Reports Observer</td>\n",
       "      <td>Artificial Intelligence AI in Marketing Market Scope, Size, Share, Trends, Forecast by 2026 Market Reports Observer Skip to content 488 E 11th Ave, Eugene, OR 97401, USA 1 541 687 2347 email protected Market Reports Observer Artificial intelligence AI is the ability to process information in a way similar to the thought process of humans in learning, decision making, and problem solving. Enterprises are now identifying the value associated with integrating AI into their business processes. ...</td>\n",
       "      <td>1</td>\n",
       "      <td>marketreportobserver.com</td>\n",
       "      <td>2</td>\n",
       "    </tr>\n",
       "  </tbody>\n",
       "</table>\n",
       "</div>"
      ],
      "text/plain": [
       "        date   \n",
       "0 2020-01-01  \\\n",
       "1 2020-01-01   \n",
       "\n",
       "                                                                                                                     title   \n",
       "0                                Decentralized Machine Learning Reaches Market Cap of $15,919.00 (DML) - Enterprise Leader  \\\n",
       "1  Artificial Intelligence (AI) in Marketing Market Scope, Size, Share, Trends, Forecast by 2026 – Market Reports Observer   \n",
       "\n",
       "                                                                                                                                                                                                                                                                                                                                                                                                                                                                                                          text_cleaned   \n",
       "0  Decentralized Machine Learning Reaches Market Cap of 15,919.00 DML Enterprise Leader Daily Ratings News for Decentralized Machine Learning Complete the form below to receive the latest headlines and analysts' mendations for Decentralized Machine Learning with our free daily email newsletter: Follow EnterpriseLeade Recent Posts GE Announces Its Plan To Sell The Distributed Power Business To Advent International Ebang Communication Resorts To The Filing Of An IPO In Hong Kong How to Open DAA, ...  \\\n",
       "1   Artificial Intelligence AI in Marketing Market Scope, Size, Share, Trends, Forecast by 2026 Market Reports Observer Skip to content 488 E 11th Ave, Eugene, OR 97401, USA 1 541 687 2347 email protected Market Reports Observer Artificial intelligence AI is the ability to process information in a way similar to the thought process of humans in learning, decision making, and problem solving. Enterprises are now identifying the value associated with integrating AI into their business processes. ...   \n",
       "\n",
       "   article_topic                    domain  article_id  \n",
       "0              3   theenterpriseleader.com           1  \n",
       "1              1  marketreportobserver.com           2  "
      ]
     },
     "execution_count": 47,
     "metadata": {},
     "output_type": "execute_result"
    }
   ],
   "source": [
    "# drop unnecessary columns\n",
    "df_main.drop(columns=['entities', 'sentences', 'url'], inplace=True)\n",
    "df_main.head(2)"
   ]
  },
  {
   "attachments": {},
   "cell_type": "markdown",
   "metadata": {},
   "source": [
    "First, we have to clean the sentiments:\n",
    "\n",
    "Solution#1\n",
    "- reduce sentiments with score lower than 90.\n",
    "- group by article_id and get count of three types of sentiments\n",
    "- choose the sentiment with highst counts;\n",
    "    - if we have a tie, then give it `neutral`\n",
    "    - but the issue is that sometimes highest counts lie (e.g. pos:113, negative:112, neutral:22), we can't call it a positive article simply because pos has highest counts\n",
    "\n",
    "Solution#2\n",
    "- replace sentiment label with value: {positive:1, negative:-1, neutral:0}\n",
    "- calculate article average based on article_id\n",
    "- if abs(sentiment) > 1.3, then we call it either positive or negative\n"
   ]
  },
  {
   "cell_type": "code",
   "execution_count": 41,
   "metadata": {},
   "outputs": [
    {
     "data": {
      "text/html": [
       "<div>\n",
       "<style scoped>\n",
       "    .dataframe tbody tr th:only-of-type {\n",
       "        vertical-align: middle;\n",
       "    }\n",
       "\n",
       "    .dataframe tbody tr th {\n",
       "        vertical-align: top;\n",
       "    }\n",
       "\n",
       "    .dataframe thead th {\n",
       "        text-align: right;\n",
       "    }\n",
       "</style>\n",
       "<table border=\"1\" class=\"dataframe\">\n",
       "  <thead>\n",
       "    <tr style=\"text-align: right;\">\n",
       "      <th></th>\n",
       "      <th>article_id</th>\n",
       "      <th>sentences</th>\n",
       "      <th>sentiment_value</th>\n",
       "      <th>sentiment_score</th>\n",
       "    </tr>\n",
       "  </thead>\n",
       "  <tbody>\n",
       "    <tr>\n",
       "      <th>0</th>\n",
       "      <td>1</td>\n",
       "      <td>Decentralized Machine Learning Reaches Market Cap of 15,919.00 DML Enterprise Leader Daily Ratings News for Decentralized Machine Learning Complete the form below to receive the latest headlines and analysts' mendations for Decentralized Machine Learning with our free daily email newsletter: Follow EnterpriseLeade Recent Posts GE Announces Its Plan To Sell The Distributed Power Business To Advent International Ebang Communication Resorts To The Filing Of An IPO In Hong Kong How to Open DAA, ...</td>\n",
       "      <td>0</td>\n",
       "      <td>0.999812</td>\n",
       "    </tr>\n",
       "    <tr>\n",
       "      <th>0</th>\n",
       "      <td>1</td>\n",
       "      <td>3 Ways to Tell if Your Next Business Move will be a Mistake Foxconn Launches Investigation After Reports Of Harsh Working Conditions At Its Factory Flagstar Bancorp Acquires 52 Retails Branches Belonging To Wells Fargo</td>\n",
       "      <td>0</td>\n",
       "      <td>0.999812</td>\n",
       "    </tr>\n",
       "  </tbody>\n",
       "</table>\n",
       "</div>"
      ],
      "text/plain": [
       "   article_id   \n",
       "0           1  \\\n",
       "0           1   \n",
       "\n",
       "                                                                                                                                                                                                                                                                                                                                                                                                                                                                                                             sentences   \n",
       "0  Decentralized Machine Learning Reaches Market Cap of 15,919.00 DML Enterprise Leader Daily Ratings News for Decentralized Machine Learning Complete the form below to receive the latest headlines and analysts' mendations for Decentralized Machine Learning with our free daily email newsletter: Follow EnterpriseLeade Recent Posts GE Announces Its Plan To Sell The Distributed Power Business To Advent International Ebang Communication Resorts To The Filing Of An IPO In Hong Kong How to Open DAA, ...  \\\n",
       "0                                                                                                                                                                                                                                                                                           3 Ways to Tell if Your Next Business Move will be a Mistake Foxconn Launches Investigation After Reports Of Harsh Working Conditions At Its Factory Flagstar Bancorp Acquires 52 Retails Branches Belonging To Wells Fargo   \n",
       "\n",
       "   sentiment_value  sentiment_score  \n",
       "0                0         0.999812  \n",
       "0                0         0.999812  "
      ]
     },
     "execution_count": 41,
     "metadata": {},
     "output_type": "execute_result"
    }
   ],
   "source": [
    "# select setence df\n",
    "sentences = df[['article_id', 'sentences', 'sentiment_value', 'sentiment_score']]\n",
    "sentences.head(2)"
   ]
  },
  {
   "cell_type": "code",
   "execution_count": 42,
   "metadata": {},
   "outputs": [
    {
     "name": "stdout",
     "output_type": "stream",
     "text": [
      "Prior length: 2223016, after length: 2102156\n"
     ]
    }
   ],
   "source": [
    "# remove rows that has sentiment_score < 0.90\n",
    "prior_len = sentences.shape[0]\n",
    "sentences = sentences[sentences['sentiment_score'] >= 0.90]\n",
    "print(f'Prior length: {prior_len}, after length: {sentences.shape[0]}')"
   ]
  },
  {
   "cell_type": "code",
   "execution_count": 43,
   "metadata": {},
   "outputs": [
    {
     "data": {
      "text/html": [
       "<div>\n",
       "<style scoped>\n",
       "    .dataframe tbody tr th:only-of-type {\n",
       "        vertical-align: middle;\n",
       "    }\n",
       "\n",
       "    .dataframe tbody tr th {\n",
       "        vertical-align: top;\n",
       "    }\n",
       "\n",
       "    .dataframe thead th {\n",
       "        text-align: right;\n",
       "    }\n",
       "</style>\n",
       "<table border=\"1\" class=\"dataframe\">\n",
       "  <thead>\n",
       "    <tr style=\"text-align: right;\">\n",
       "      <th></th>\n",
       "      <th>article_id</th>\n",
       "      <th>sentiment_value</th>\n",
       "    </tr>\n",
       "  </thead>\n",
       "  <tbody>\n",
       "    <tr>\n",
       "      <th>0</th>\n",
       "      <td>1</td>\n",
       "      <td>0.0</td>\n",
       "    </tr>\n",
       "    <tr>\n",
       "      <th>1</th>\n",
       "      <td>3</td>\n",
       "      <td>0.0</td>\n",
       "    </tr>\n",
       "  </tbody>\n",
       "</table>\n",
       "</div>"
      ],
      "text/plain": [
       "   article_id  sentiment_value\n",
       "0           1              0.0\n",
       "1           3              0.0"
      ]
     },
     "execution_count": 43,
     "metadata": {},
     "output_type": "execute_result"
    }
   ],
   "source": [
    "# group by article_id, calculate avg sentiment_value\n",
    "sentences_gb = sentences.groupby('article_id').agg({'sentiment_value': 'mean'}).reset_index()\n",
    "sentences_gb.head(2)"
   ]
  },
  {
   "cell_type": "code",
   "execution_count": 44,
   "metadata": {},
   "outputs": [
    {
     "data": {
      "text/plain": [
       "124222"
      ]
     },
     "execution_count": 44,
     "metadata": {},
     "output_type": "execute_result"
    }
   ],
   "source": [
    "# check length\n",
    "sentences_gb.shape[0]"
   ]
  },
  {
   "cell_type": "code",
   "execution_count": 48,
   "metadata": {},
   "outputs": [],
   "source": [
    "# left join df_main and sentences_gb\n",
    "df_main = df_main.merge(sentences_gb, how='left', on='article_id')"
   ]
  },
  {
   "cell_type": "code",
   "execution_count": 50,
   "metadata": {},
   "outputs": [
    {
     "data": {
      "text/plain": [
       "sentiment_value\n",
       "False    124222\n",
       "True       9036\n",
       "Name: count, dtype: int64"
      ]
     },
     "execution_count": 50,
     "metadata": {},
     "output_type": "execute_result"
    }
   ],
   "source": [
    "df_main.sentiment_value.isna().value_counts()"
   ]
  },
  {
   "attachments": {},
   "cell_type": "markdown",
   "metadata": {},
   "source": [
    "Not too much null sentiments. Don't have to worry much."
   ]
  },
  {
   "cell_type": "code",
   "execution_count": 51,
   "metadata": {},
   "outputs": [],
   "source": [
    "# # save a checkpoint\n",
    "# bucket_write = path_bucket + '/' + 'checkpoint_0526_main.parquet'\n",
    "# df_main.to_parquet(bucket_write, engine='pyarrow')"
   ]
  },
  {
   "attachments": {},
   "cell_type": "markdown",
   "metadata": {},
   "source": [
    "## Aggregate Target Sentiment and Entities"
   ]
  },
  {
   "cell_type": "code",
   "execution_count": 7,
   "metadata": {},
   "outputs": [
    {
     "data": {
      "text/html": [
       "<div>\n",
       "<style scoped>\n",
       "    .dataframe tbody tr th:only-of-type {\n",
       "        vertical-align: middle;\n",
       "    }\n",
       "\n",
       "    .dataframe tbody tr th {\n",
       "        vertical-align: top;\n",
       "    }\n",
       "\n",
       "    .dataframe thead th {\n",
       "        text-align: right;\n",
       "    }\n",
       "</style>\n",
       "<table border=\"1\" class=\"dataframe\">\n",
       "  <thead>\n",
       "    <tr style=\"text-align: right;\">\n",
       "      <th></th>\n",
       "      <th>article_id</th>\n",
       "      <th>sentences</th>\n",
       "      <th>target_sentiment</th>\n",
       "    </tr>\n",
       "  </thead>\n",
       "  <tbody>\n",
       "    <tr>\n",
       "      <th>0</th>\n",
       "      <td>1</td>\n",
       "      <td>Decentralized Machine Learning Reaches Market Cap of 15,919.00 DML Enterprise Leader Daily Ratings News for Decentralized Machine Learning Complete the form below to receive the latest headlines and analysts' mendations for Decentralized Machine Learning with our free daily email newsletter: Follow EnterpriseLeade Recent Posts GE Announces Its Plan To Sell The Distributed Power Business To Advent International Ebang Communication Resorts To The Filing Of An IPO In Hong Kong How to Open DAA, ...</td>\n",
       "      <td>[(Decentralized Machine Learning Reaches Market Cap, ORG, 0.0), (Decentralized Machine Learning, ORG, 0.0), (Hong Kong, GPE, 0.0), (NRG, ORG, 0.0), (IMG, ORG, 0.0)]</td>\n",
       "    </tr>\n",
       "    <tr>\n",
       "      <th>0</th>\n",
       "      <td>1</td>\n",
       "      <td>3 Ways to Tell if Your Next Business Move will be a Mistake Foxconn Launches Investigation After Reports Of Harsh Working Conditions At Its Factory Flagstar Bancorp Acquires 52 Retails Branches Belonging To Wells Fargo</td>\n",
       "      <td>[(Mistake Foxconn Launches Investigation After Reports Of Harsh Working Conditions, ORG, -0.2), (Flagstar Bancorp, ORG, 0.0), (Wells Fargo, ORG, 0.0)]</td>\n",
       "    </tr>\n",
       "  </tbody>\n",
       "</table>\n",
       "</div>"
      ],
      "text/plain": [
       "   article_id   \n",
       "0           1  \\\n",
       "0           1   \n",
       "\n",
       "                                                                                                                                                                                                                                                                                                                                                                                                                                                                                                             sentences   \n",
       "0  Decentralized Machine Learning Reaches Market Cap of 15,919.00 DML Enterprise Leader Daily Ratings News for Decentralized Machine Learning Complete the form below to receive the latest headlines and analysts' mendations for Decentralized Machine Learning with our free daily email newsletter: Follow EnterpriseLeade Recent Posts GE Announces Its Plan To Sell The Distributed Power Business To Advent International Ebang Communication Resorts To The Filing Of An IPO In Hong Kong How to Open DAA, ...  \\\n",
       "0                                                                                                                                                                                                                                                                                           3 Ways to Tell if Your Next Business Move will be a Mistake Foxconn Launches Investigation After Reports Of Harsh Working Conditions At Its Factory Flagstar Bancorp Acquires 52 Retails Branches Belonging To Wells Fargo   \n",
       "\n",
       "                                                                                                                                                       target_sentiment  \n",
       "0  [(Decentralized Machine Learning Reaches Market Cap, ORG, 0.0), (Decentralized Machine Learning, ORG, 0.0), (Hong Kong, GPE, 0.0), (NRG, ORG, 0.0), (IMG, ORG, 0.0)]  \n",
       "0                [(Mistake Foxconn Launches Investigation After Reports Of Harsh Working Conditions, ORG, -0.2), (Flagstar Bancorp, ORG, 0.0), (Wells Fargo, ORG, 0.0)]  "
      ]
     },
     "execution_count": 7,
     "metadata": {},
     "output_type": "execute_result"
    }
   ],
   "source": [
    "# select setence df\n",
    "target_sentiment = df[['article_id', 'sentences', 'target_sentiment']]\n",
    "target_sentiment.head(2)"
   ]
  },
  {
   "attachments": {},
   "cell_type": "markdown",
   "metadata": {},
   "source": [
    "helper functions"
   ]
  },
  {
   "cell_type": "code",
   "execution_count": 8,
   "metadata": {},
   "outputs": [
    {
     "data": {
      "text/plain": [
       "\"\\nTODO: the column 'target_sentiment' will be aggregated\\nOUTPUT: the ideal output should be a tuple (Name, Label, Sentiment_Polarity, Count of Occurrence)\\nPROCESS: 1/ for each artile_id, we first append all target_sentiment into a list\\n         2/ then we count the occurence of each sentiment and add each frequency to the corresponding tuple\\n         3/ calculate the average sentiment polarity\\n         4/ sort by 1. count of occurence, 2. sentiment polarity\\n\""
      ]
     },
     "execution_count": 8,
     "metadata": {},
     "output_type": "execute_result"
    }
   ],
   "source": [
    "'''\n",
    "TODO: the column 'target_sentiment' will be aggregated\n",
    "OUTPUT: the ideal output should be a tuple (Name, Label, Sentiment_Polarity, Count of Occurrence)\n",
    "PROCESS: 1/ for each artile_id, we first append all target_sentiment into a list\n",
    "         2/ then we count the occurence of each sentiment and add each frequency to the corresponding tuple\n",
    "         3/ calculate the average sentiment polarity\n",
    "         4/ sort by 1. count of occurence, 2. sentiment polarity\n",
    "'''"
   ]
  },
  {
   "cell_type": "code",
   "execution_count": 9,
   "metadata": {},
   "outputs": [
    {
     "data": {
      "text/html": [
       "<div>\n",
       "<style scoped>\n",
       "    .dataframe tbody tr th:only-of-type {\n",
       "        vertical-align: middle;\n",
       "    }\n",
       "\n",
       "    .dataframe tbody tr th {\n",
       "        vertical-align: top;\n",
       "    }\n",
       "\n",
       "    .dataframe thead th {\n",
       "        text-align: right;\n",
       "    }\n",
       "</style>\n",
       "<table border=\"1\" class=\"dataframe\">\n",
       "  <thead>\n",
       "    <tr style=\"text-align: right;\">\n",
       "      <th></th>\n",
       "      <th>article_id</th>\n",
       "      <th>target_sentiment</th>\n",
       "    </tr>\n",
       "  </thead>\n",
       "  <tbody>\n",
       "    <tr>\n",
       "      <th>0</th>\n",
       "      <td>1</td>\n",
       "      <td>[(Decentralized Machine Learning Reaches Market Cap, ORG, 0.0), (Decentralized Machine Learning, ORG, 0.0), (Hong Kong, GPE, 0.0), (NRG, ORG, 0.0), (IMG, ORG, 0.0), (Mistake Foxconn Launches Investigation After Reports Of Harsh Working Conditions, ORG, -0.2), (Flagstar Bancorp, ORG, 0.0), (Wells Fargo, ORG, 0.0), (Monster Beverage Corp NASDAQ, ORG, 0.0), (GE, ORG, 0.0), (IPO, ORG, 0.0), (Hong Kong, GPE, 0.0), (NRG, ORG, 0.0), (IMG, ORG, 0.0), (Decentralized Machine Learning Daily Enter, ORG,...</td>\n",
       "    </tr>\n",
       "    <tr>\n",
       "      <th>1</th>\n",
       "      <td>2</td>\n",
       "      <td>[(Intelligence AI, ORG, 0.0), (Natural Language Processing NLP, ORG, 0.1), (North America, LOC, 0.0), (Intelligence AI, ORG, 0.0), (Intelligence AI, ORG, 0.0), (Intelligence AI, ORG, 0.0), (North America, LOC, 0.0), (South America, LOC, 0.0), (Europe, LOC, 0.0), (Asia Pacific, LOC, 0.0), (Middle East Africa, LOC, 0.0), (Intelligence AI, ORG, 0.0), (Artificial Intelligence AI in Marketing Market, ORG, -0.6), (IBM Corporation, ORG, 0.0), (Google Inc., ORG, 0.0), (Inc., ORG, 0.0), (Albert Techn...</td>\n",
       "    </tr>\n",
       "  </tbody>\n",
       "</table>\n",
       "</div>"
      ],
      "text/plain": [
       "   article_id   \n",
       "0           1  \\\n",
       "1           2   \n",
       "\n",
       "                                                                                                                                                                                                                                                                                                                                                                                                                                                                                                      target_sentiment  \n",
       "0  [(Decentralized Machine Learning Reaches Market Cap, ORG, 0.0), (Decentralized Machine Learning, ORG, 0.0), (Hong Kong, GPE, 0.0), (NRG, ORG, 0.0), (IMG, ORG, 0.0), (Mistake Foxconn Launches Investigation After Reports Of Harsh Working Conditions, ORG, -0.2), (Flagstar Bancorp, ORG, 0.0), (Wells Fargo, ORG, 0.0), (Monster Beverage Corp NASDAQ, ORG, 0.0), (GE, ORG, 0.0), (IPO, ORG, 0.0), (Hong Kong, GPE, 0.0), (NRG, ORG, 0.0), (IMG, ORG, 0.0), (Decentralized Machine Learning Daily Enter, ORG,...  \n",
       "1  [(Intelligence AI, ORG, 0.0), (Natural Language Processing NLP, ORG, 0.1), (North America, LOC, 0.0), (Intelligence AI, ORG, 0.0), (Intelligence AI, ORG, 0.0), (Intelligence AI, ORG, 0.0), (North America, LOC, 0.0), (South America, LOC, 0.0), (Europe, LOC, 0.0), (Asia Pacific, LOC, 0.0), (Middle East Africa, LOC, 0.0), (Intelligence AI, ORG, 0.0), (Artificial Intelligence AI in Marketing Market, ORG, -0.6), (IBM Corporation, ORG, 0.0), (Google Inc., ORG, 0.0), (Inc., ORG, 0.0), (Albert Techn...  "
      ]
     },
     "execution_count": 9,
     "metadata": {},
     "output_type": "execute_result"
    }
   ],
   "source": [
    "# group by article_id, append all target_sentiment into a list\n",
    "target_sentiment_gb = target_sentiment.groupby('article_id').agg({'target_sentiment': 'sum'}).reset_index()\n",
    "target_sentiment_gb.head(2)"
   ]
  },
  {
   "cell_type": "code",
   "execution_count": 10,
   "metadata": {},
   "outputs": [],
   "source": [
    "# write a function to count the occurence of each entity tuple and add each frequency to the corresponding tuple\n",
    "# it also calculates the average sentiment polarity\n",
    "\n",
    "def target_sentiment_aggregator(sentiment_list):\n",
    "    '''\n",
    "    INPUT: a list of tuples. For example: (Google, ORG, 1.0)\n",
    "    OUTPUT: a list of tuples. (Name, Label, Sentiment_Polarity, Count of Occurrence). For example: [(Google, ORG, 1.0, 2), (Apple, ORG, 0.5, 1)]\n",
    "    '''\n",
    "    \n",
    "    if len(target_sentiment) > 0:\n",
    "        # create a dictionary to store the count of occurence of each tuple\n",
    "        # create a dictionary to store the sum of sentiment polarity of each tuple\n",
    "        sentiment_dict, sentiment_polarity_dict = {}, {}\n",
    "        for pair in sentiment_list:\n",
    "            if pair in sentiment_dict:\n",
    "                sentiment_dict[pair] += 1\n",
    "            else:\n",
    "                sentiment_dict[pair] = 1\n",
    "            if pair in sentiment_polarity_dict:\n",
    "                sentiment_polarity_dict[pair] += pair[2]\n",
    "            else:\n",
    "                sentiment_polarity_dict[pair] = pair[2]\n",
    "        # create a list of tuples. (Name, Label, Sentiment_Polarity, Count of Occurrence)\n",
    "        sentiment_agg = []\n",
    "        for key, value in sentiment_dict.items():\n",
    "            sentiment_agg.append((key[0], key[1], sentiment_polarity_dict[key]/value, value))\n",
    "        # sort by 1. count of occurence, 2. sentiment polarity\n",
    "        sentiment_agg.sort(key=lambda x: (x[3], x[2]), reverse=True)\n",
    "    else:\n",
    "        sentiment_agg = []\n",
    "    return sentiment_agg"
   ]
  },
  {
   "cell_type": "code",
   "execution_count": null,
   "metadata": {},
   "outputs": [],
   "source": [
    "# test = target_sentiment_gb.head(10)\n",
    "# test['aggregate_target_sentiment'] = test['target_sentiment'].parallel_apply(target_sentiment_aggregator)"
   ]
  },
  {
   "cell_type": "code",
   "execution_count": 13,
   "metadata": {},
   "outputs": [
    {
     "data": {
      "application/vnd.jupyter.widget-view+json": {
       "model_id": "6aa92a13d2c143699247e273c0ea93a1",
       "version_major": 2,
       "version_minor": 0
      },
      "text/plain": [
       "VBox(children=(HBox(children=(IntProgress(value=0, description='0.00%', max=10977), Label(value='0 / 10977')))…"
      ]
     },
     "metadata": {},
     "output_type": "display_data"
    }
   ],
   "source": [
    "# apply on the target_sentiment_gb df\n",
    "target_sentiment_gb['aggregate_target_sentiment'] = target_sentiment_gb['target_sentiment'].parallel_apply(target_sentiment_aggregator)"
   ]
  },
  {
   "cell_type": "code",
   "execution_count": 14,
   "metadata": {},
   "outputs": [
    {
     "data": {
      "text/html": [
       "<div>\n",
       "<style scoped>\n",
       "    .dataframe tbody tr th:only-of-type {\n",
       "        vertical-align: middle;\n",
       "    }\n",
       "\n",
       "    .dataframe tbody tr th {\n",
       "        vertical-align: top;\n",
       "    }\n",
       "\n",
       "    .dataframe thead th {\n",
       "        text-align: right;\n",
       "    }\n",
       "</style>\n",
       "<table border=\"1\" class=\"dataframe\">\n",
       "  <thead>\n",
       "    <tr style=\"text-align: right;\">\n",
       "      <th></th>\n",
       "      <th>article_id</th>\n",
       "      <th>target_sentiment</th>\n",
       "      <th>aggregate_target_sentiment</th>\n",
       "    </tr>\n",
       "  </thead>\n",
       "  <tbody>\n",
       "    <tr>\n",
       "      <th>0</th>\n",
       "      <td>1</td>\n",
       "      <td>[(Decentralized Machine Learning Reaches Market Cap, ORG, 0.0), (Decentralized Machine Learning, ORG, 0.0), (Hong Kong, GPE, 0.0), (NRG, ORG, 0.0), (IMG, ORG, 0.0), (Mistake Foxconn Launches Investigation After Reports Of Harsh Working Conditions, ORG, -0.2), (Flagstar Bancorp, ORG, 0.0), (Wells Fargo, ORG, 0.0), (Monster Beverage Corp NASDAQ, ORG, 0.0), (GE, ORG, 0.0), (IPO, ORG, 0.0), (Hong Kong, GPE, 0.0), (NRG, ORG, 0.0), (IMG, ORG, 0.0), (Decentralized Machine Learning Daily Enter, ORG,...</td>\n",
       "      <td>[(Decentralized Machine Learning, ORG, 0.0, 11), (US, GPE, 0.0, 4), (Hong Kong, GPE, 0.0, 2), (NRG, ORG, 0.0, 2), (IMG, ORG, 0.0, 2), (Flagstar Bancorp, ORG, 0.0, 2), (IDEX, ORG, 0.0, 2), (Mistake Foxconn Launches Investigation After Reports Of Harsh Working Conditions, ORG, -0.2, 2), (Stellar XLM, ORG, 0.25, 1), (Decentralized Machine Learning Reaches Market Cap, ORG, 0.0, 1), (Wells Fargo, ORG, 0.0, 1), (Monster Beverage Corp NASDAQ, ORG, 0.0, 1), (GE, ORG, 0.0, 1), (IPO, ORG, 0.0, 1), (De...</td>\n",
       "    </tr>\n",
       "    <tr>\n",
       "      <th>1</th>\n",
       "      <td>2</td>\n",
       "      <td>[(Intelligence AI, ORG, 0.0), (Natural Language Processing NLP, ORG, 0.1), (North America, LOC, 0.0), (Intelligence AI, ORG, 0.0), (Intelligence AI, ORG, 0.0), (Intelligence AI, ORG, 0.0), (North America, LOC, 0.0), (South America, LOC, 0.0), (Europe, LOC, 0.0), (Asia Pacific, LOC, 0.0), (Middle East Africa, LOC, 0.0), (Intelligence AI, ORG, 0.0), (Artificial Intelligence AI in Marketing Market, ORG, -0.6), (IBM Corporation, ORG, 0.0), (Google Inc., ORG, 0.0), (Inc., ORG, 0.0), (Albert Techn...</td>\n",
       "      <td>[(Intelligence AI, ORG, 0.0, 9), (North America, LOC, 0.0, 3), (South America, LOC, 0.0, 2), (Europe, LOC, 0.0, 2), (Middle East Africa, LOC, 0.0, 2), (Inc., ORG, 0.0, 2), (AI, ORG, 0.0, 2), (Artificial Intelligence AI, ORG, -0.6, 2), (Natural Language Processing NLP, ORG, 0.1, 1), (Asia Pacific, LOC, 0.0, 1), (IBM Corporation, ORG, 0.0, 1), (Google Inc., ORG, 0.0, 1), (Albert Technologies, PERSON, 0.0, 1), (Intel Corporation, ORG, 0.0, 1), (Microsoft Corporation, ORG, 0.0, 1), (NVIDIA Corpo...</td>\n",
       "    </tr>\n",
       "    <tr>\n",
       "      <th>2</th>\n",
       "      <td>3</td>\n",
       "      <td>[(Lisk Machine Learning, ORG, 0.0), (Lisk Machine Learning s, ORG, 0.0), (Lisk Machine Learning s, ORG, 0.0), (gny io, PERSON, 0.0), (Lisk Machine Learning, ORG, 0.0), (Lisk Machine Learning, ORG, 0.0), (U.S., GPE, 0.0), (Lisk Machine Learning Daily Enter, ORG, 0.0), (Lisk Machine Learning, ORG, 0.0), (Bitcoin or, ORG, 0.0), (Lisk Machine Learning, ORG, 0.0), (Atmos Energy Co., ORG, 0.0), (SeaTown Holdings Pte, ORG, 0.0), (Diabetes Patients and Advocates Fight Back Against Skyrocketing Insul...</td>\n",
       "      <td>[(Lisk Machine Learning, ORG, 0.0, 12), (U.S., GPE, 0.0, 3), (Lisk Machine Learning s, ORG, 0.0, 2), (US, GPE, 0.0, 2), (Stellar XLM, ORG, 0.25, 1), (Lisk Machine Learning Complete, ORG, 0.1, 1), (gny io, PERSON, 0.0, 1), (Lisk Machine Learning Daily Enter, ORG, 0.0, 1), (Bitcoin or, ORG, 0.0, 1), (Atmos Energy Co., ORG, 0.0, 1), (SeaTown Holdings Pte, ORG, 0.0, 1), (Diabetes Patients and Advocates Fight Back Against Skyrocketing Insulin Prices Lowe s Sales, ORG, 0.0, 1), (Bitcoin or Ethereu...</td>\n",
       "    </tr>\n",
       "  </tbody>\n",
       "</table>\n",
       "</div>"
      ],
      "text/plain": [
       "   article_id   \n",
       "0           1  \\\n",
       "1           2   \n",
       "2           3   \n",
       "\n",
       "                                                                                                                                                                                                                                                                                                                                                                                                                                                                                                      target_sentiment   \n",
       "0  [(Decentralized Machine Learning Reaches Market Cap, ORG, 0.0), (Decentralized Machine Learning, ORG, 0.0), (Hong Kong, GPE, 0.0), (NRG, ORG, 0.0), (IMG, ORG, 0.0), (Mistake Foxconn Launches Investigation After Reports Of Harsh Working Conditions, ORG, -0.2), (Flagstar Bancorp, ORG, 0.0), (Wells Fargo, ORG, 0.0), (Monster Beverage Corp NASDAQ, ORG, 0.0), (GE, ORG, 0.0), (IPO, ORG, 0.0), (Hong Kong, GPE, 0.0), (NRG, ORG, 0.0), (IMG, ORG, 0.0), (Decentralized Machine Learning Daily Enter, ORG,...  \\\n",
       "1  [(Intelligence AI, ORG, 0.0), (Natural Language Processing NLP, ORG, 0.1), (North America, LOC, 0.0), (Intelligence AI, ORG, 0.0), (Intelligence AI, ORG, 0.0), (Intelligence AI, ORG, 0.0), (North America, LOC, 0.0), (South America, LOC, 0.0), (Europe, LOC, 0.0), (Asia Pacific, LOC, 0.0), (Middle East Africa, LOC, 0.0), (Intelligence AI, ORG, 0.0), (Artificial Intelligence AI in Marketing Market, ORG, -0.6), (IBM Corporation, ORG, 0.0), (Google Inc., ORG, 0.0), (Inc., ORG, 0.0), (Albert Techn...   \n",
       "2  [(Lisk Machine Learning, ORG, 0.0), (Lisk Machine Learning s, ORG, 0.0), (Lisk Machine Learning s, ORG, 0.0), (gny io, PERSON, 0.0), (Lisk Machine Learning, ORG, 0.0), (Lisk Machine Learning, ORG, 0.0), (U.S., GPE, 0.0), (Lisk Machine Learning Daily Enter, ORG, 0.0), (Lisk Machine Learning, ORG, 0.0), (Bitcoin or, ORG, 0.0), (Lisk Machine Learning, ORG, 0.0), (Atmos Energy Co., ORG, 0.0), (SeaTown Holdings Pte, ORG, 0.0), (Diabetes Patients and Advocates Fight Back Against Skyrocketing Insul...   \n",
       "\n",
       "                                                                                                                                                                                                                                                                                                                                                                                                                                                                                            aggregate_target_sentiment  \n",
       "0  [(Decentralized Machine Learning, ORG, 0.0, 11), (US, GPE, 0.0, 4), (Hong Kong, GPE, 0.0, 2), (NRG, ORG, 0.0, 2), (IMG, ORG, 0.0, 2), (Flagstar Bancorp, ORG, 0.0, 2), (IDEX, ORG, 0.0, 2), (Mistake Foxconn Launches Investigation After Reports Of Harsh Working Conditions, ORG, -0.2, 2), (Stellar XLM, ORG, 0.25, 1), (Decentralized Machine Learning Reaches Market Cap, ORG, 0.0, 1), (Wells Fargo, ORG, 0.0, 1), (Monster Beverage Corp NASDAQ, ORG, 0.0, 1), (GE, ORG, 0.0, 1), (IPO, ORG, 0.0, 1), (De...  \n",
       "1  [(Intelligence AI, ORG, 0.0, 9), (North America, LOC, 0.0, 3), (South America, LOC, 0.0, 2), (Europe, LOC, 0.0, 2), (Middle East Africa, LOC, 0.0, 2), (Inc., ORG, 0.0, 2), (AI, ORG, 0.0, 2), (Artificial Intelligence AI, ORG, -0.6, 2), (Natural Language Processing NLP, ORG, 0.1, 1), (Asia Pacific, LOC, 0.0, 1), (IBM Corporation, ORG, 0.0, 1), (Google Inc., ORG, 0.0, 1), (Albert Technologies, PERSON, 0.0, 1), (Intel Corporation, ORG, 0.0, 1), (Microsoft Corporation, ORG, 0.0, 1), (NVIDIA Corpo...  \n",
       "2  [(Lisk Machine Learning, ORG, 0.0, 12), (U.S., GPE, 0.0, 3), (Lisk Machine Learning s, ORG, 0.0, 2), (US, GPE, 0.0, 2), (Stellar XLM, ORG, 0.25, 1), (Lisk Machine Learning Complete, ORG, 0.1, 1), (gny io, PERSON, 0.0, 1), (Lisk Machine Learning Daily Enter, ORG, 0.0, 1), (Bitcoin or, ORG, 0.0, 1), (Atmos Energy Co., ORG, 0.0, 1), (SeaTown Holdings Pte, ORG, 0.0, 1), (Diabetes Patients and Advocates Fight Back Against Skyrocketing Insulin Prices Lowe s Sales, ORG, 0.0, 1), (Bitcoin or Ethereu...  "
      ]
     },
     "execution_count": 14,
     "metadata": {},
     "output_type": "execute_result"
    }
   ],
   "source": [
    "target_sentiment_gb.head(3)"
   ]
  },
  {
   "cell_type": "code",
   "execution_count": 17,
   "metadata": {},
   "outputs": [
    {
     "data": {
      "text/plain": [
       "(131714, 2)"
      ]
     },
     "execution_count": 17,
     "metadata": {},
     "output_type": "execute_result"
    }
   ],
   "source": [
    "target_sentiment_gb.shape"
   ]
  },
  {
   "cell_type": "code",
   "execution_count": 18,
   "metadata": {},
   "outputs": [],
   "source": [
    "# save a checkpoint\n",
    "bucket_read = path_bucket + '/' + 'checkpoint_0526_main.parquet'\n",
    "df_main = pd.read_parquet(bucket_read, engine='pyarrow')"
   ]
  },
  {
   "cell_type": "code",
   "execution_count": null,
   "metadata": {},
   "outputs": [],
   "source": [
    "# select only article_id and aggregate_target_sentiment\n",
    "target_sentiment_gb = target_sentiment_gb[['article_id', 'aggregate_target_sentiment']]"
   ]
  },
  {
   "cell_type": "code",
   "execution_count": 19,
   "metadata": {},
   "outputs": [],
   "source": [
    "# left join df_main and target_sentiment_gb\n",
    "df_main = df_main.merge(target_sentiment_gb, how='left', on='article_id')"
   ]
  },
  {
   "cell_type": "code",
   "execution_count": null,
   "metadata": {},
   "outputs": [],
   "source": [
    "# test = df.head(10)\n",
    "# test['sentiment_value'] = test['sentiment_value'].fillna(test['aggregate_target_sentiment'].parallel_apply(extract_sentiment_avg))\n",
    "# test.head(10)"
   ]
  },
  {
   "cell_type": "code",
   "execution_count": null,
   "metadata": {},
   "outputs": [],
   "source": [
    "# import pickle\n",
    "# bucket_read = path_bucket + '/' + 'checkpoint_0526_main.parquet'\n",
    "# df = pd.read_parquet(bucket_read, engine='pyarrow')\n",
    "# df['aggregate_target_sentiment'] = df['aggregate_target_sentiment'].apply(pickle.loads)"
   ]
  },
  {
   "cell_type": "code",
   "execution_count": 28,
   "metadata": {},
   "outputs": [],
   "source": [
    "# if the 'sentiment_value' is NaN, then set it to the average of top 10 results of 'aggregate_target_sentiment'\n",
    "\n",
    "def extract_sentiment_avg(tgt_sentiment_list):\n",
    "    '''\n",
    "    Input: an aggregate_target_sentiment list\n",
    "    Output: the average of the top 10 sentiment tuples' polarity\n",
    "    '''\n",
    "    if (isinstance(tgt_sentiment_list, list)) and (len(tgt_sentiment_list) > 0):\n",
    "        top_10 = tgt_sentiment_list[:10]\n",
    "        polarity_sum = 0\n",
    "        for tup in top_10:\n",
    "            polarity_sum += tup[2]\n",
    "        return polarity_sum/10\n",
    "    else:\n",
    "        return None"
   ]
  },
  {
   "cell_type": "code",
   "execution_count": 29,
   "metadata": {},
   "outputs": [
    {
     "data": {
      "application/vnd.jupyter.widget-view+json": {
       "model_id": "89d978e828674ddeb42d73b5da8d92a2",
       "version_major": 2,
       "version_minor": 0
      },
      "text/plain": [
       "VBox(children=(HBox(children=(IntProgress(value=0, description='0.00%', max=11105), Label(value='0 / 11105')))…"
      ]
     },
     "metadata": {},
     "output_type": "display_data"
    }
   ],
   "source": [
    "df['sentiment_value'] = df['sentiment_value'].fillna(df['aggregate_target_sentiment'].parallel_apply(extract_sentiment_avg))"
   ]
  },
  {
   "cell_type": "code",
   "execution_count": 30,
   "metadata": {},
   "outputs": [
    {
     "data": {
      "text/plain": [
       "sentiment_value\n",
       "False    131713\n",
       "True       1545\n",
       "Name: count, dtype: int64"
      ]
     },
     "execution_count": 30,
     "metadata": {},
     "output_type": "execute_result"
    }
   ],
   "source": [
    "df['sentiment_value'].isna().value_counts()"
   ]
  },
  {
   "attachments": {},
   "cell_type": "markdown",
   "metadata": {},
   "source": [
    "If the sentiment_value is still None/NaN, it indicates that neither the single sentences is certain (score>0.9) about its sentiment nor there're any entities identified with sentiments within that artile."
   ]
  },
  {
   "cell_type": "code",
   "execution_count": 31,
   "metadata": {},
   "outputs": [],
   "source": [
    "# drop na\n",
    "df = df.dropna(subset=['sentiment_value'])"
   ]
  },
  {
   "cell_type": "code",
   "execution_count": 21,
   "metadata": {},
   "outputs": [],
   "source": [
    "# # save a checkpoint\n",
    "# # Assuming `df` is your DataFrame and `col` is the column with the complex datatype\n",
    "# df['aggregate_target_sentiment'] = df['aggregate_target_sentiment'].apply(pickle.dumps)\n",
    "\n",
    "# # Then you can save the DataFrame as parquet\n",
    "# bucket_write = path_bucket + '/' + 'checkpoint_0526_main.parquet'\n",
    "# df.to_parquet(bucket_write, engine='pyarrow')"
   ]
  },
  {
   "cell_type": "code",
   "execution_count": 18,
   "metadata": {},
   "outputs": [
    {
     "data": {
      "text/html": [
       "<div>\n",
       "<style scoped>\n",
       "    .dataframe tbody tr th:only-of-type {\n",
       "        vertical-align: middle;\n",
       "    }\n",
       "\n",
       "    .dataframe tbody tr th {\n",
       "        vertical-align: top;\n",
       "    }\n",
       "\n",
       "    .dataframe thead th {\n",
       "        text-align: right;\n",
       "    }\n",
       "</style>\n",
       "<table border=\"1\" class=\"dataframe\">\n",
       "  <thead>\n",
       "    <tr style=\"text-align: right;\">\n",
       "      <th></th>\n",
       "      <th>url</th>\n",
       "      <th>article_id</th>\n",
       "    </tr>\n",
       "  </thead>\n",
       "  <tbody>\n",
       "    <tr>\n",
       "      <th>0</th>\n",
       "      <td>https://theenterpriseleader.com/2020/01/01/decentralized-machine-learning-reaches-market-cap-of-15919-00-dml.html</td>\n",
       "      <td>1</td>\n",
       "    </tr>\n",
       "    <tr>\n",
       "      <th>1</th>\n",
       "      <td>https://marketreportobserver.com/artificial-intelligence-ai-in-marketing-market-scope-size-share-trends-forecast-by-2026/</td>\n",
       "      <td>2</td>\n",
       "    </tr>\n",
       "  </tbody>\n",
       "</table>\n",
       "</div>"
      ],
      "text/plain": [
       "                                                                                                                         url   \n",
       "0          https://theenterpriseleader.com/2020/01/01/decentralized-machine-learning-reaches-market-cap-of-15919-00-dml.html  \\\n",
       "1  https://marketreportobserver.com/artificial-intelligence-ai-in-marketing-market-scope-size-share-trends-forecast-by-2026/   \n",
       "\n",
       "   article_id  \n",
       "0           1  \n",
       "1           2  "
      ]
     },
     "execution_count": 18,
     "metadata": {},
     "output_type": "execute_result"
    }
   ],
   "source": [
    "'''# prepare main df\n",
    "bucket_read = path_bucket + '/' + 'checkpoint_0525_full_article_split.parquet'\n",
    "df_main = pd.read_parquet(bucket_read, engine='pyarrow')\n",
    "df_main.shape\n",
    "\n",
    "df_main = df_main[['url', 'article_id']]\n",
    "#df_main.head(2)\n",
    "# left join df and df_main\n",
    "df = df.merge(df_main, how='left', on='article_id')'''"
   ]
  },
  {
   "cell_type": "code",
   "execution_count": 3,
   "metadata": {},
   "outputs": [],
   "source": [
    "bucket_write = path_bucket + '/' + 'checkpoint_0526_main.parquet'\n",
    "\n",
    "df = pd.read_parquet(bucket_write, engine='pyarrow')\n",
    "df['aggregate_target_sentiment'] = df['aggregate_target_sentiment'].apply(pickle.loads)"
   ]
  },
  {
   "attachments": {},
   "cell_type": "markdown",
   "metadata": {},
   "source": [
    "## Analysis of Project Questions"
   ]
  },
  {
   "cell_type": "code",
   "execution_count": 4,
   "metadata": {},
   "outputs": [],
   "source": [
    "import matplotlib.pyplot as plt\n",
    "import seaborn as sns\n",
    "\n",
    "# set up the figure size: font size (12). title font size (14), label size (10)\n",
    "plt.rcParams['font.size'] = 12\n",
    "plt.rcParams['axes.titlesize'] = 14\n",
    "plt.rcParams['axes.labelsize'] = 10"
   ]
  },
  {
   "attachments": {},
   "cell_type": "markdown",
   "metadata": {},
   "source": [
    "### Sentiment Quality Check\n",
    "\n",
    "Note that I have the sentiment_value from the average single sentence sentiment per article. By setting a postive/negative/neutral threshold, we can conert the value to a label.\n",
    "\n",
    "But we need to check the quality of such threshold."
   ]
  },
  {
   "cell_type": "code",
   "execution_count": 28,
   "metadata": {},
   "outputs": [
    {
     "data": {
      "image/png": "[encoded data removed]",
      "text/plain": [
       "<Figure size 1200x400 with 2 Axes>"
      ]
     },
     "metadata": {},
     "output_type": "display_data"
    }
   ],
   "source": [
    "sent_values = df['sentiment_value']\n",
    "negative_values, positive_values = sent_values[sent_values < 0], sent_values[sent_values > 0]\n",
    "\n",
    "# plot the distribution of sentiment_value (positive & negative), with subplots\n",
    "fig, ax = plt.subplots(1, 2, figsize=(12, 4))\n",
    "sns.distplot(negative_values, ax=ax[0], color='green')\n",
    "sns.distplot(positive_values, ax=ax[1], color='red')\n",
    "ax[0].set_title('Negative Sentiment Distribution')\n",
    "ax[1].set_title('Positive Sentiment Distribution')\n",
    "plt.show()"
   ]
  },
  {
   "cell_type": "code",
   "execution_count": 5,
   "metadata": {},
   "outputs": [
    {
     "data": {
      "text/plain": [
       "sentiment_label\n",
       "neutral     105012\n",
       "positive     22373\n",
       "negative      4328\n",
       "Name: count, dtype: int64"
      ]
     },
     "execution_count": 5,
     "metadata": {},
     "output_type": "execute_result"
    }
   ],
   "source": [
    "# make sentiment label with 'sentiment_value': postive (x > 0.3), negative (< -0.3), neutral (otherwise)\n",
    "df['sentiment_label'] = df['sentiment_value'].parallel_apply(lambda x: 'positive' if x > 0.05 else ('negative' if x < -0.05 else 'neutral'))\n",
    "df['sentiment_label'].value_counts()"
   ]
  },
  {
   "attachments": {},
   "cell_type": "markdown",
   "metadata": {},
   "source": [
    "Negative articles based on sentiment_label are overall less."
   ]
  },
  {
   "cell_type": "code",
   "execution_count": 11,
   "metadata": {},
   "outputs": [
    {
     "data": {
      "text/plain": [
       "dtype('O')"
      ]
     },
     "execution_count": 11,
     "metadata": {},
     "output_type": "execute_result"
    }
   ],
   "source": [
    "df['sentiment_label'].dtype"
   ]
  },
  {
   "cell_type": "code",
   "execution_count": 29,
   "metadata": {},
   "outputs": [
    {
     "data": {
      "text/html": [
       "<div>\n",
       "<style scoped>\n",
       "    .dataframe tbody tr th:only-of-type {\n",
       "        vertical-align: middle;\n",
       "    }\n",
       "\n",
       "    .dataframe tbody tr th {\n",
       "        vertical-align: top;\n",
       "    }\n",
       "\n",
       "    .dataframe thead th {\n",
       "        text-align: right;\n",
       "    }\n",
       "</style>\n",
       "<table border=\"1\" class=\"dataframe\">\n",
       "  <thead>\n",
       "    <tr style=\"text-align: right;\">\n",
       "      <th></th>\n",
       "      <th>url</th>\n",
       "      <th>title</th>\n",
       "      <th>text_cleaned</th>\n",
       "      <th>aggregate_target_sentiment</th>\n",
       "      <th>sentiment_label</th>\n",
       "      <th>sentiment_value</th>\n",
       "    </tr>\n",
       "  </thead>\n",
       "  <tbody>\n",
       "    <tr>\n",
       "      <th>1674</th>\n",
       "      <td>https://www.engadget.com/2020-01-30-peta-replace-punxsutawney-phil-with-ai.html</td>\n",
       "      <td>PETA wants to replace Punxsutawney Phil with an animatronic AI | Engadget</td>\n",
       "      <td>PETA wants to replace Punxsutawney Phil with an animatronic AI Engadget Engadget Login Home Reviews Gear Gaming Entertainment Tomorrow Audio Video Deals Buyer's Guide Holiday Gift Guide Fitness Tech Home Entertainment Personal Security Back to School Outdoor Tech Parenting and Tech Camera Guide Best of CES Phones Laptops View All Log in Sign up Engadget Scientists make jellyfish swim faster to prepare for deep sea exploration Robotic finger can sweat like a human to cool down Interior Depar...</td>\n",
       "      <td>[(Punxsutawney Phil, PERSON, 0.0, 4), (Phil, PERSON, 0.0, 3), (The Washington Post, ORG, 0.0, 2), (Newkirk, PERSON, 0.0, 2), (Bill Deeley, PERSON, 0.0, 1), (the Groundhog Club, ORG, 0.0, 1), (View 'Overwatch', ORG, 0.0, 1), (View Discord, ORG, 0.0, 1), (Sonos View Apple, ORG, 0.0, 1), (US, GPE, 0.0, 1), (iconeye, PERSON, 0.0, 1), (the Punxsutawney Memorial Library, ORG, 0.0, 1), (AI Engadget Engadget Login Home Reviews Gear Gaming Entertainment, ORG, 0.0, 1), (Interior Department, ORG, 0.0, ...</td>\n",
       "      <td>negative</td>\n",
       "      <td>-1.00</td>\n",
       "    </tr>\n",
       "    <tr>\n",
       "      <th>88776</th>\n",
       "      <td>https://www.wdtv.com/prnewswire/2022/10/19/introducing-an-ethical-decision-framework-guide-responsible-ai-investment-management/</td>\n",
       "      <td>Introducing an Ethical Decision Framework to Guide Responsible AI in Investment Management</td>\n",
       "      <td>Introducing an Ethical Decision Framework to Guide Responsible AI in Investment Management Skip to NewscastLatest VideoBOGO CamsSports5th QuarterBlack Sit DownHouse CallContact UsMeet the TeamClosed Captioning/Audio Description ComplaintsFind Us on CableMeTVFox 10CW Health DivideFirst at 4 ForumElection an Obituary5 Daily DigestTV ListingsCOVID 19 MapSubmit Your Photos and VideosCircle Country Music LifestyleGray DC BureauInvestigate to Wealth with John HaltermanMr. Food5News Award Nominatio...</td>\n",
       "      <td>[(Food5News Award NominationsLatest NewscastsPress Releases3, ORG, 0.0, 1), (CFA Institute, ORG, 0.0, 1), (the global association of investment professionals, ORG, 0.0, 1), (4 ForumElection, ORG, 0.0, 1), (DigestTV, PERSON, 0.0, 1), (ListingsCOVID, PERSON, 0.0, 1), (MapSubmit, ORG, 0.0, 1), (VideosCircle Country Music, ORG, 0.0, 1), (BureauInvestigate, ORG, 0.0, 1), (Wealth, ORG, 0.0, 1), (John HaltermanMr, PERSON, 0.0, 1)]</td>\n",
       "      <td>negative</td>\n",
       "      <td>-1.00</td>\n",
       "    </tr>\n",
       "    <tr>\n",
       "      <th>6423</th>\n",
       "      <td>https://honestversion.com/2020/04/06/global-artificial-intelligence-chipsets-market-2019-basic-competitors-ibm-corp-microsoft-corp-google-inc-fingenius-ltd-nvidia-corporation-intel-corporation/</td>\n",
       "      <td>Global Artificial Intelligence Chipsets Market 2019 Basic Competitors:- IBM Corp., Microsoft Corp., Google Inc., FinGenius Ltd., NVIDIA Corporation, Intel Corporation – Honest Version</td>\n",
       "      <td>Global Artificial Intelligence Chipsets Market 2019 Basic Competitors: IBM Corp., Microsoft Corp., Google Inc., FinGenius Ltd., NVIDIA Corporation, Intel Corporation Honest Version Honest Version Global Artificial Intelligence Chipsets Market 2019 Basic Competitors: IBM Corp., Microsoft Corp., Google Inc., FinGenius Ltd., NVIDIA Corporation, Intel Corporation Hiren.s April 6, 2020 Business Artificial Intelligence Chipsets Market Artificial Intelligence Chipsets Market report highlights the c...</td>\n",
       "      <td>[(Artificial Intelligence Chipsets Market, ORG, -0.6, 5), (Artificial Intelligence, ORG, -0.6, 5), (IBM Corp., ORG, 0.0, 3), (Microsoft Corp., ORG, 0.0, 3), (Google Inc., ORG, 0.0, 3), (FinGenius Ltd., ORG, 0.0, 3), (NVIDIA Corporation, ORG, 0.0, 3), (Intel Corporation, ORG, 0.0, 3), (United States, GPE, 0.0, 2), (Panama, GPE, 0.0, 2), (Global Artificial Intelligence Chipsets Market, ORG, -0.3, 2), (Artificial Intelligence Chipsets Market Research Report, ORG, -0.6, 2), (Natural Language Pro...</td>\n",
       "      <td>negative</td>\n",
       "      <td>-0.12</td>\n",
       "    </tr>\n",
       "    <tr>\n",
       "      <th>131486</th>\n",
       "      <td>https://www.tolerance.ca/ArticleExt.aspx?ID=531224&amp;L=en</td>\n",
       "      <td>\\r \\tTolerance.ca® - The defence review fails to address the third revolution in warfare: artificial intelligence\\r</td>\n",
       "      <td>Tolerance.ca The defence review fails to address the third revolution in warfare: artificial intelligence Director / Editor: Victor Teboul, Ph.D. Looking inside ourselves and out at the world Independent and neutral with regard to all political and religious orientations, Tolerance.ca aims to promote awareness of the major democratic principles on which tolerance is based. Fran ais Looking inside ourselves and out at the world Independent and neutral with regard to all political and religio...</td>\n",
       "      <td>[(First Nations, ORG, 0.25, 1), (Australia, GPE, 0.0, 1), (Uzbekistan, GPE, 0.0, 1), (Archibald, PERSON, 0.0, 1), (Yumba Meta, ORG, 0.0, 1), (USA, GPE, 0.0, 1), (Advertising Subscription Log, ORG, 0.0, 1), (Victor Teboul, PERSON, 0.0, 1), (Tolerance.ca, ORG, 0.0, 1)]</td>\n",
       "      <td>negative</td>\n",
       "      <td>-1.00</td>\n",
       "    </tr>\n",
       "    <tr>\n",
       "      <th>86205</th>\n",
       "      <td>https://www.actionnews5.com/prnewswire/2022/09/29/new-poll-voters-prioritize-pandemic-prevention-express-concerns-over-artificial-intelligence/</td>\n",
       "      <td>New Poll: Voters Prioritize Pandemic Prevention, Express Concerns Over Artificial Intelligence</td>\n",
       "      <td>New Poll: Voters Prioritize Pandemic Prevention, Express Concerns Over Artificial Intelligence Skip to contentAdvertise with UsBluff City LifeContestsChick fil A Community ChampionsMid South HeroesWendy's Giant of the WeekWatch LiveLatest Health Your PicsDigital DeskHomeWatch LiveShare Your PicsRecent VideoDownload Our DeskBack to SchoolGood NewsPolitical Day BreakdownWeather Star LifeBridging the Great Health History MonthMid South FootballCollege BasketballFriday Football City LifeDigital ...</td>\n",
       "      <td>[(UsBluff City, GPE, 0.0, 1), (the WeekWatch LiveLatest Health, ORG, 0.0, 1), (DeskBack, PERSON, 0.0, 1), (SchoolGood NewsPolitical Day, ORG, 0.0, 1), (BreakdownWeather Star LifeBridging, PERSON, 0.0, 1), (MonthMid, ORG, 0.0, 1), (Moore Information Group, ORG, 0.0, 1), (the American Dream Institute, ORG, 0.0, 1), (Artificial Intelligence Skip, ORG, -0.6, 1)]</td>\n",
       "      <td>negative</td>\n",
       "      <td>-0.06</td>\n",
       "    </tr>\n",
       "  </tbody>\n",
       "</table>\n",
       "</div>"
      ],
      "text/plain": [
       "                                                                                                                                                                                                      url   \n",
       "1674                                                                                                                      https://www.engadget.com/2020-01-30-peta-replace-punxsutawney-phil-with-ai.html  \\\n",
       "88776                                                                    https://www.wdtv.com/prnewswire/2022/10/19/introducing-an-ethical-decision-framework-guide-responsible-ai-investment-management/   \n",
       "6423    https://honestversion.com/2020/04/06/global-artificial-intelligence-chipsets-market-2019-basic-competitors-ibm-corp-microsoft-corp-google-inc-fingenius-ltd-nvidia-corporation-intel-corporation/   \n",
       "131486                                                                                                                                            https://www.tolerance.ca/ArticleExt.aspx?ID=531224&L=en   \n",
       "86205                                                     https://www.actionnews5.com/prnewswire/2022/09/29/new-poll-voters-prioritize-pandemic-prevention-express-concerns-over-artificial-intelligence/   \n",
       "\n",
       "                                                                                                                                                                                          title   \n",
       "1674                                                                                                                  PETA wants to replace Punxsutawney Phil with an animatronic AI | Engadget  \\\n",
       "88776                                                                                                Introducing an Ethical Decision Framework to Guide Responsible AI in Investment Management   \n",
       "6423    Global Artificial Intelligence Chipsets Market 2019 Basic Competitors:- IBM Corp., Microsoft Corp., Google Inc., FinGenius Ltd., NVIDIA Corporation, Intel Corporation – Honest Version   \n",
       "131486                                                                     \\r \\tTolerance.ca® - The defence review fails to address the third revolution in warfare: artificial intelligence\\r    \n",
       "86205                                                                                            New Poll: Voters Prioritize Pandemic Prevention, Express Concerns Over Artificial Intelligence   \n",
       "\n",
       "                                                                                                                                                                                                                                                                                                                                                                                                                                                                                                               text_cleaned   \n",
       "1674     PETA wants to replace Punxsutawney Phil with an animatronic AI Engadget Engadget Login Home Reviews Gear Gaming Entertainment Tomorrow Audio Video Deals Buyer's Guide Holiday Gift Guide Fitness Tech Home Entertainment Personal Security Back to School Outdoor Tech Parenting and Tech Camera Guide Best of CES Phones Laptops View All Log in Sign up Engadget Scientists make jellyfish swim faster to prepare for deep sea exploration Robotic finger can sweat like a human to cool down Interior Depar...  \\\n",
       "88776   Introducing an Ethical Decision Framework to Guide Responsible AI in Investment Management Skip to NewscastLatest VideoBOGO CamsSports5th QuarterBlack Sit DownHouse CallContact UsMeet the TeamClosed Captioning/Audio Description ComplaintsFind Us on CableMeTVFox 10CW Health DivideFirst at 4 ForumElection an Obituary5 Daily DigestTV ListingsCOVID 19 MapSubmit Your Photos and VideosCircle Country Music LifestyleGray DC BureauInvestigate to Wealth with John HaltermanMr. Food5News Award Nominatio...   \n",
       "6423    Global Artificial Intelligence Chipsets Market 2019 Basic Competitors: IBM Corp., Microsoft Corp., Google Inc., FinGenius Ltd., NVIDIA Corporation, Intel Corporation Honest Version Honest Version Global Artificial Intelligence Chipsets Market 2019 Basic Competitors: IBM Corp., Microsoft Corp., Google Inc., FinGenius Ltd., NVIDIA Corporation, Intel Corporation Hiren.s April 6, 2020 Business Artificial Intelligence Chipsets Market Artificial Intelligence Chipsets Market report highlights the c...   \n",
       "131486   Tolerance.ca The defence review fails to address the third revolution in warfare: artificial intelligence Director / Editor: Victor Teboul, Ph.D. Looking inside ourselves and out at the world Independent and neutral with regard to all political and religious orientations, Tolerance.ca aims to promote awareness of the major democratic principles on which tolerance is based. Fran ais Looking inside ourselves and out at the world Independent and neutral with regard to all political and religio...   \n",
       "86205   New Poll: Voters Prioritize Pandemic Prevention, Express Concerns Over Artificial Intelligence Skip to contentAdvertise with UsBluff City LifeContestsChick fil A Community ChampionsMid South HeroesWendy's Giant of the WeekWatch LiveLatest Health Your PicsDigital DeskHomeWatch LiveShare Your PicsRecent VideoDownload Our DeskBack to SchoolGood NewsPolitical Day BreakdownWeather Star LifeBridging the Great Health History MonthMid South FootballCollege BasketballFriday Football City LifeDigital ...   \n",
       "\n",
       "                                                                                                                                                                                                                                                                                                                                                                                                                                                                                                 aggregate_target_sentiment   \n",
       "1674    [(Punxsutawney Phil, PERSON, 0.0, 4), (Phil, PERSON, 0.0, 3), (The Washington Post, ORG, 0.0, 2), (Newkirk, PERSON, 0.0, 2), (Bill Deeley, PERSON, 0.0, 1), (the Groundhog Club, ORG, 0.0, 1), (View 'Overwatch', ORG, 0.0, 1), (View Discord, ORG, 0.0, 1), (Sonos View Apple, ORG, 0.0, 1), (US, GPE, 0.0, 1), (iconeye, PERSON, 0.0, 1), (the Punxsutawney Memorial Library, ORG, 0.0, 1), (AI Engadget Engadget Login Home Reviews Gear Gaming Entertainment, ORG, 0.0, 1), (Interior Department, ORG, 0.0, ...  \\\n",
       "88776                                                                           [(Food5News Award NominationsLatest NewscastsPress Releases3, ORG, 0.0, 1), (CFA Institute, ORG, 0.0, 1), (the global association of investment professionals, ORG, 0.0, 1), (4 ForumElection, ORG, 0.0, 1), (DigestTV, PERSON, 0.0, 1), (ListingsCOVID, PERSON, 0.0, 1), (MapSubmit, ORG, 0.0, 1), (VideosCircle Country Music, ORG, 0.0, 1), (BureauInvestigate, ORG, 0.0, 1), (Wealth, ORG, 0.0, 1), (John HaltermanMr, PERSON, 0.0, 1)]   \n",
       "6423    [(Artificial Intelligence Chipsets Market, ORG, -0.6, 5), (Artificial Intelligence, ORG, -0.6, 5), (IBM Corp., ORG, 0.0, 3), (Microsoft Corp., ORG, 0.0, 3), (Google Inc., ORG, 0.0, 3), (FinGenius Ltd., ORG, 0.0, 3), (NVIDIA Corporation, ORG, 0.0, 3), (Intel Corporation, ORG, 0.0, 3), (United States, GPE, 0.0, 2), (Panama, GPE, 0.0, 2), (Global Artificial Intelligence Chipsets Market, ORG, -0.3, 2), (Artificial Intelligence Chipsets Market Research Report, ORG, -0.6, 2), (Natural Language Pro...   \n",
       "131486                                                                                                                                                                                                                                          [(First Nations, ORG, 0.25, 1), (Australia, GPE, 0.0, 1), (Uzbekistan, GPE, 0.0, 1), (Archibald, PERSON, 0.0, 1), (Yumba Meta, ORG, 0.0, 1), (USA, GPE, 0.0, 1), (Advertising Subscription Log, ORG, 0.0, 1), (Victor Teboul, PERSON, 0.0, 1), (Tolerance.ca, ORG, 0.0, 1)]   \n",
       "86205                                                                                                                                              [(UsBluff City, GPE, 0.0, 1), (the WeekWatch LiveLatest Health, ORG, 0.0, 1), (DeskBack, PERSON, 0.0, 1), (SchoolGood NewsPolitical Day, ORG, 0.0, 1), (BreakdownWeather Star LifeBridging, PERSON, 0.0, 1), (MonthMid, ORG, 0.0, 1), (Moore Information Group, ORG, 0.0, 1), (the American Dream Institute, ORG, 0.0, 1), (Artificial Intelligence Skip, ORG, -0.6, 1)]   \n",
       "\n",
       "       sentiment_label  sentiment_value  \n",
       "1674          negative            -1.00  \n",
       "88776         negative            -1.00  \n",
       "6423          negative            -0.12  \n",
       "131486        negative            -1.00  \n",
       "86205         negative            -0.06  "
      ]
     },
     "execution_count": 29,
     "metadata": {},
     "output_type": "execute_result"
    }
   ],
   "source": [
    "df[df['sentiment_label'] == 'negative'].sample(5)[['url','title', 'text_cleaned', 'aggregate_target_sentiment', 'sentiment_label', 'sentiment_value']]"
   ]
  },
  {
   "cell_type": "code",
   "execution_count": 8,
   "metadata": {},
   "outputs": [
    {
     "data": {
      "text/html": [
       "<div>\n",
       "<style scoped>\n",
       "    .dataframe tbody tr th:only-of-type {\n",
       "        vertical-align: middle;\n",
       "    }\n",
       "\n",
       "    .dataframe tbody tr th {\n",
       "        vertical-align: top;\n",
       "    }\n",
       "\n",
       "    .dataframe thead th {\n",
       "        text-align: right;\n",
       "    }\n",
       "</style>\n",
       "<table border=\"1\" class=\"dataframe\">\n",
       "  <thead>\n",
       "    <tr style=\"text-align: right;\">\n",
       "      <th></th>\n",
       "      <th>url</th>\n",
       "      <th>title</th>\n",
       "      <th>text_cleaned</th>\n",
       "      <th>aggregate_target_sentiment</th>\n",
       "      <th>sentiment_label</th>\n",
       "      <th>sentiment_value</th>\n",
       "    </tr>\n",
       "  </thead>\n",
       "  <tbody>\n",
       "    <tr>\n",
       "      <th>60434</th>\n",
       "      <td>https://www.benzinga.com/quote/GFAI</td>\n",
       "      <td>Guardforce AI Co (NASDAQ:GFAI) Stock Price, News, Charts - Benzinga</td>\n",
       "      <td>Guardforce AI Co NASDAQ:GFAI Stock Price, News, Charts BenzingaMy accountMy AccountLog InForgot PasswordQQQ DIA SPY TLT GLD BTC/USD Data inNews TradesBiotech/ Pre MarketAfter GroupGlobal StocksRatings Analyst TargetIdeas Trade IdeasLong IdeasShort The PressJim CramerRumorsBest Stocks ETFsBest Penny StocksBest S P 500 ETFsBest Swing Trade StocksBest Blue Chip StocksBest High Volume Penny StocksBest Small Cap ETFsFintech Finance Compare Online BrokersStock BrokersForex BrokersFutures BrokersCr...</td>\n",
       "      <td>[(Guardforce AI Co NASDAQ, ORG, 0.0, 5), (GFAI, ORG, 0.0, 4), (Guardforce AI Co, ORG, 0.0, 4), (AI Co, ORG, 0.0, 4), (Guardforce AI Co., ORG, 0.0, 3), (Hadyai, GPE, 0.0, 3), (EF Hutton, ORG, 0.0, 2), (ActualSurpriseEPS, ORG, 0.0, 2), (Thailand, GPE, 0.0, 2), (agoGuardforce, ORG, 0.0, 2), (Greater Bay, LOC, 0.5, 1), (Guardforce AI Co GFAI, ORG, 0.0, 1), (Guardforce AI Co's, ORG, 0.0, 1), (AI Co Ltd, ORG, 0.0, 1), (AI Enters Macau, ORG, 0.0, 1), (Malaysia, GPE, 0.0, 1), (Macau, GPE, 0.0, 1), (...</td>\n",
       "      <td>positive</td>\n",
       "      <td>1.0</td>\n",
       "    </tr>\n",
       "    <tr>\n",
       "      <th>12322</th>\n",
       "      <td>https://www.finanznachrichten.de/nachrichten-2020-07/50169577-knime-solves-key-enterprise-challenges-to-use-data-science-in-production-004.htm</td>\n",
       "      <td>KNIME Solves Key Enterprise Challenges to Use Data Science in Production</td>\n",
       "      <td>KNIME Solves Key Enterprise Challenges to Use Data Science in ProductionAnzeige Mehr auf FNAlle im BlickpunktAd hoc NewsMeistgelesene NewsKonjunktur und bersichtAlle NewsTermineThemen DossiersIndizes bersicht nach Indizes/M P 500NASDAQ 100EURO STOXX 50FTSE Aktienkursliste L S Online Broker VergleichXETRA Orderbuch bersichtXETRA Orderbuch? P 500NASDAQ 100EURO STOXX 50FTSE bersichtBau / / / nke / / E / PapierHotels / / / / / R / l / anlegenWas bringt eine Nachrichten Watchlist?Dienstag, 14.07....</td>\n",
       "      <td>[(KNIME, ORG, 0.0, 13), (KNIME Server, ORG, 0.0, 5), (KNIME Analytics Platform, ORG, 0.0, 4), (AWS, ORG, 0.0, 2), (Executor Groups, ORG, 0.0, 1), (AWS Auto Scaling, ORG, 0.0, 1), (Auditability KNIME's, ORG, 0.0, 1), (Metadata Mapping, ORG, 0.0, 1), (Platform Availability KNIME, ORG, 0.0, 1), (Zurich, GPE, 0.0, 1), (Austin TX, GPE, 0.0, 1), (Konstanz, GPE, 0.0, 1), (Berlin, GPE, 0.0, 1), (KNIME WebPortal, PERSON, 0.0, 1), (autoscale, GPE, 0.0, 1), (AI, ORG, 0.0, 1), (WebPortal View, ORG, 0.0,...</td>\n",
       "      <td>positive</td>\n",
       "      <td>1.0</td>\n",
       "    </tr>\n",
       "    <tr>\n",
       "      <th>57291</th>\n",
       "      <td>https://www.prnewswire.com/news-releases/domino-data-lab-hosts-january-26-virtual-event-unleashing-exceptional-performance-with-data-science-301465510.html</td>\n",
       "      <td>Domino Data Lab Hosts January 26 Virtual Event: Unleashing Exceptional Performance with Data Science</td>\n",
       "      <td>Domino Data Lab Hosts January 26 Virtual Event: Unleashing Exceptional Performance with Data Science Resources Blog Journalists Log In Sign Up Data Privacy Search Search When typing in this field, a list of search results will appear and be automatically updated as you type. Searching for your content... No results found. Please change your search terms and try again. All News Releases All Public Company English only Auto TransportationAll Automotive Transportation Aerospace, Defense Air Fr...</td>\n",
       "      <td>[(Domino Data Lab, ORG, 0.0, 5), (Atul Gawande, PERSON, 0.0, 3), (Nick Elprin, PERSON, 0.0, 2), (Najat Khan, PERSON, 0.0, 2), (MediaAll Entertain, ORG, 0.0, 2), (Motion Picture Magazines Music Publishing Information Services Radio Podcast Television Entertain, ORG, 0.0, 2), (Forest Products Containers Precious Metals Textiles Tobacco Heavy Industry Manufacturing Overview, ORG, 0.15, 1), (New York Times, ORG, 0.13636363636363635, 1), (Policy International Affairs Homeland Security Labor Union...</td>\n",
       "      <td>positive</td>\n",
       "      <td>1.0</td>\n",
       "    </tr>\n",
       "    <tr>\n",
       "      <th>44840</th>\n",
       "      <td>https://www.kfyrtv.com/prnewswire/2021/10/14/imagine-climate-future-your-neighbourhood-or-anywhere-else-using-artificial-intelligence/</td>\n",
       "      <td>Imagine the Climate Future in your Neighbourhood (or anywhere else) Using Artificial Intelligence</td>\n",
       "      <td>Imagine the Climate Future in your Neighbourhood or anywhere else Using Artificial Intelligence Skip to 19 UpdatesAG ExpoDakota RadarWeather GraphicsLive SkyWatch CamerasRoad ConditionsSkySpy AppSportsSports UsMeet the TeamContact UsWays To WatchJob News VideoSchedule a ResultsState Results MapNational Results MapMeTVLive Photos and VideosFull Court Press with Greta Van SusterenCircle Country Music and LifestyleGray DC BureauInvestigate TVPowerNationDan's GardenHealth TalkKMOT Ag ExpoOff The...</td>\n",
       "      <td>[(AI, ORG, 0.0, 1), (Mila, ORG, 0.0, 1), (ExpoDakota, ORG, 0.0, 1), (ConditionsSkySpy, PERSON, 0.0, 1), (AppSportsSports UsMeet, PERSON, 0.0, 1), (ResultsState, ORG, 0.0, 1), (VideosFull Court Press, ORG, 0.0, 1), (Greta Van SusterenCircle Country Music, PERSON, 0.0, 1), (GardenHealth TalkKMOT Ag ExpoOff The Beaten PathMr, ORG, 0.0, 1)]</td>\n",
       "      <td>positive</td>\n",
       "      <td>1.0</td>\n",
       "    </tr>\n",
       "    <tr>\n",
       "      <th>13537</th>\n",
       "      <td>https://www.prnewswire.com/news-releases/vida-appoints-digital-health-technology-leader-karen-drexler-to-board-of-directors-underscoring-focus-on-market-expansion-of-ai-solutions-301109874.html</td>\n",
       "      <td>VIDA appoints digital health technology leader Karen Drexler to board of directors, underscoring focus on market expansion of AI solutions</td>\n",
       "      <td>VIDA appoints digital health technology leader Karen Drexler to board of directors, underscoring focus on market expansion of AI solutions Resources Blog Journalists Log In Sign Up Data Privacy Searching for your content... No results found. Please change your search terms and try again. All News Releases All Public Company English only All Multimedia All Photos All Videos All Trending Topics Business Money Auto Transportation All Automotive Transportation Aerospace, Defense Auto Transporta...</td>\n",
       "      <td>[(VIDA, GPE, 0.0, 6), (Drexler, PERSON, 0.0, 6), (VIDA, ORG, 0.0, 3), (Karen Drexler, PERSON, 0.0, 3), (AI, ORG, 0.0, 2), (VIDA Diagnostics, Inc., ORG, 0.0, 2), (Stanford, ORG, 0.0, 2), (Johnson, PERSON, 0.0, 2), (Media Advertising Entertain, ORG, 0.0, 2), (Forest Products Containers Precious Metals Textiles Tobacco, ORG, 0.5, 1), (Policy International Affairs Homeland Security Labor Union Legal Issues Natural Disasters, ORG, 0.10000000000000002, 1), (European Economic Area, LOC, 0.1, 1), (F...</td>\n",
       "      <td>positive</td>\n",
       "      <td>1.0</td>\n",
       "    </tr>\n",
       "  </tbody>\n",
       "</table>\n",
       "</div>"
      ],
      "text/plain": [
       "                                                                                                                                                                                                     url   \n",
       "60434                                                                                                                                                                https://www.benzinga.com/quote/GFAI  \\\n",
       "12322                                                     https://www.finanznachrichten.de/nachrichten-2020-07/50169577-knime-solves-key-enterprise-challenges-to-use-data-science-in-production-004.htm   \n",
       "57291                                        https://www.prnewswire.com/news-releases/domino-data-lab-hosts-january-26-virtual-event-unleashing-exceptional-performance-with-data-science-301465510.html   \n",
       "44840                                                             https://www.kfyrtv.com/prnewswire/2021/10/14/imagine-climate-future-your-neighbourhood-or-anywhere-else-using-artificial-intelligence/   \n",
       "13537  https://www.prnewswire.com/news-releases/vida-appoints-digital-health-technology-leader-karen-drexler-to-board-of-directors-underscoring-focus-on-market-expansion-of-ai-solutions-301109874.html   \n",
       "\n",
       "                                                                                                                                            title   \n",
       "60434                                                                         Guardforce AI Co (NASDAQ:GFAI) Stock Price, News, Charts - Benzinga  \\\n",
       "12322                                                                    KNIME Solves Key Enterprise Challenges to Use Data Science in Production   \n",
       "57291                                        Domino Data Lab Hosts January 26 Virtual Event: Unleashing Exceptional Performance with Data Science   \n",
       "44840                                           Imagine the Climate Future in your Neighbourhood (or anywhere else) Using Artificial Intelligence   \n",
       "13537  VIDA appoints digital health technology leader Karen Drexler to board of directors, underscoring focus on market expansion of AI solutions   \n",
       "\n",
       "                                                                                                                                                                                                                                                                                                                                                                                                                                                                                                              text_cleaned   \n",
       "60434  Guardforce AI Co NASDAQ:GFAI Stock Price, News, Charts BenzingaMy accountMy AccountLog InForgot PasswordQQQ DIA SPY TLT GLD BTC/USD Data inNews TradesBiotech/ Pre MarketAfter GroupGlobal StocksRatings Analyst TargetIdeas Trade IdeasLong IdeasShort The PressJim CramerRumorsBest Stocks ETFsBest Penny StocksBest S P 500 ETFsBest Swing Trade StocksBest Blue Chip StocksBest High Volume Penny StocksBest Small Cap ETFsFintech Finance Compare Online BrokersStock BrokersForex BrokersFutures BrokersCr...  \\\n",
       "12322  KNIME Solves Key Enterprise Challenges to Use Data Science in ProductionAnzeige Mehr auf FNAlle im BlickpunktAd hoc NewsMeistgelesene NewsKonjunktur und bersichtAlle NewsTermineThemen DossiersIndizes bersicht nach Indizes/M P 500NASDAQ 100EURO STOXX 50FTSE Aktienkursliste L S Online Broker VergleichXETRA Orderbuch bersichtXETRA Orderbuch? P 500NASDAQ 100EURO STOXX 50FTSE bersichtBau / / / nke / / E / PapierHotels / / / / / R / l / anlegenWas bringt eine Nachrichten Watchlist?Dienstag, 14.07....   \n",
       "57291   Domino Data Lab Hosts January 26 Virtual Event: Unleashing Exceptional Performance with Data Science Resources Blog Journalists Log In Sign Up Data Privacy Search Search When typing in this field, a list of search results will appear and be automatically updated as you type. Searching for your content... No results found. Please change your search terms and try again. All News Releases All Public Company English only Auto TransportationAll Automotive Transportation Aerospace, Defense Air Fr...   \n",
       "44840  Imagine the Climate Future in your Neighbourhood or anywhere else Using Artificial Intelligence Skip to 19 UpdatesAG ExpoDakota RadarWeather GraphicsLive SkyWatch CamerasRoad ConditionsSkySpy AppSportsSports UsMeet the TeamContact UsWays To WatchJob News VideoSchedule a ResultsState Results MapNational Results MapMeTVLive Photos and VideosFull Court Press with Greta Van SusterenCircle Country Music and LifestyleGray DC BureauInvestigate TVPowerNationDan's GardenHealth TalkKMOT Ag ExpoOff The...   \n",
       "13537   VIDA appoints digital health technology leader Karen Drexler to board of directors, underscoring focus on market expansion of AI solutions Resources Blog Journalists Log In Sign Up Data Privacy Searching for your content... No results found. Please change your search terms and try again. All News Releases All Public Company English only All Multimedia All Photos All Videos All Trending Topics Business Money Auto Transportation All Automotive Transportation Aerospace, Defense Auto Transporta...   \n",
       "\n",
       "                                                                                                                                                                                                                                                                                                                                                                                                                                                                                                aggregate_target_sentiment   \n",
       "60434  [(Guardforce AI Co NASDAQ, ORG, 0.0, 5), (GFAI, ORG, 0.0, 4), (Guardforce AI Co, ORG, 0.0, 4), (AI Co, ORG, 0.0, 4), (Guardforce AI Co., ORG, 0.0, 3), (Hadyai, GPE, 0.0, 3), (EF Hutton, ORG, 0.0, 2), (ActualSurpriseEPS, ORG, 0.0, 2), (Thailand, GPE, 0.0, 2), (agoGuardforce, ORG, 0.0, 2), (Greater Bay, LOC, 0.5, 1), (Guardforce AI Co GFAI, ORG, 0.0, 1), (Guardforce AI Co's, ORG, 0.0, 1), (AI Co Ltd, ORG, 0.0, 1), (AI Enters Macau, ORG, 0.0, 1), (Malaysia, GPE, 0.0, 1), (Macau, GPE, 0.0, 1), (...  \\\n",
       "12322  [(KNIME, ORG, 0.0, 13), (KNIME Server, ORG, 0.0, 5), (KNIME Analytics Platform, ORG, 0.0, 4), (AWS, ORG, 0.0, 2), (Executor Groups, ORG, 0.0, 1), (AWS Auto Scaling, ORG, 0.0, 1), (Auditability KNIME's, ORG, 0.0, 1), (Metadata Mapping, ORG, 0.0, 1), (Platform Availability KNIME, ORG, 0.0, 1), (Zurich, GPE, 0.0, 1), (Austin TX, GPE, 0.0, 1), (Konstanz, GPE, 0.0, 1), (Berlin, GPE, 0.0, 1), (KNIME WebPortal, PERSON, 0.0, 1), (autoscale, GPE, 0.0, 1), (AI, ORG, 0.0, 1), (WebPortal View, ORG, 0.0,...   \n",
       "57291  [(Domino Data Lab, ORG, 0.0, 5), (Atul Gawande, PERSON, 0.0, 3), (Nick Elprin, PERSON, 0.0, 2), (Najat Khan, PERSON, 0.0, 2), (MediaAll Entertain, ORG, 0.0, 2), (Motion Picture Magazines Music Publishing Information Services Radio Podcast Television Entertain, ORG, 0.0, 2), (Forest Products Containers Precious Metals Textiles Tobacco Heavy Industry Manufacturing Overview, ORG, 0.15, 1), (New York Times, ORG, 0.13636363636363635, 1), (Policy International Affairs Homeland Security Labor Union...   \n",
       "44840                                                                                                                                                                   [(AI, ORG, 0.0, 1), (Mila, ORG, 0.0, 1), (ExpoDakota, ORG, 0.0, 1), (ConditionsSkySpy, PERSON, 0.0, 1), (AppSportsSports UsMeet, PERSON, 0.0, 1), (ResultsState, ORG, 0.0, 1), (VideosFull Court Press, ORG, 0.0, 1), (Greta Van SusterenCircle Country Music, PERSON, 0.0, 1), (GardenHealth TalkKMOT Ag ExpoOff The Beaten PathMr, ORG, 0.0, 1)]   \n",
       "13537  [(VIDA, GPE, 0.0, 6), (Drexler, PERSON, 0.0, 6), (VIDA, ORG, 0.0, 3), (Karen Drexler, PERSON, 0.0, 3), (AI, ORG, 0.0, 2), (VIDA Diagnostics, Inc., ORG, 0.0, 2), (Stanford, ORG, 0.0, 2), (Johnson, PERSON, 0.0, 2), (Media Advertising Entertain, ORG, 0.0, 2), (Forest Products Containers Precious Metals Textiles Tobacco, ORG, 0.5, 1), (Policy International Affairs Homeland Security Labor Union Legal Issues Natural Disasters, ORG, 0.10000000000000002, 1), (European Economic Area, LOC, 0.1, 1), (F...   \n",
       "\n",
       "      sentiment_label  sentiment_value  \n",
       "60434        positive              1.0  \n",
       "12322        positive              1.0  \n",
       "57291        positive              1.0  \n",
       "44840        positive              1.0  \n",
       "13537        positive              1.0  "
      ]
     },
     "execution_count": 8,
     "metadata": {},
     "output_type": "execute_result"
    }
   ],
   "source": [
    "df[df['sentiment_label'] == 'positive'].sample(5)[['url','title', 'text_cleaned', 'aggregate_target_sentiment', 'sentiment_label', 'sentiment_value']]"
   ]
  },
  {
   "attachments": {},
   "cell_type": "markdown",
   "metadata": {},
   "source": [
    "We notice 2 things:\n",
    "1. Disibution is affected by extreme values (value=1 or -1)\n",
    "2. Negative sentiment detection is not as accurate as positive sentiment\n",
    "\n",
    "Two solutions:\n",
    "- Filtering out rows with extreme values, at cost of losing information\n",
    "- Average the sentiment_value and the aggregated sentiment value from the aggregated_target_sentiment\n",
    "\n",
    "Let's try solution#2"
   ]
  },
  {
   "cell_type": "code",
   "execution_count": 6,
   "metadata": {},
   "outputs": [],
   "source": [
    "# helper function to get the avg sentiment from the top 10 target sentiment\n",
    "def extract_sentiment_avg(tgt_sentiment_list, top=10):\n",
    "    '''\n",
    "    Input: an aggregate_target_sentiment list of tuples. Each tuple looks like (VIDA, GPE, 0.0, 6) -> (target, label, polarity, count of occurrence)\n",
    "    Output: the weighted average of the top n sentiment tuples' polarity (weight is the occurrence of the target)\n",
    "    '''\n",
    "    if (isinstance(tgt_sentiment_list, list)) and (len(tgt_sentiment_list) > 0):\n",
    "        top_n = tgt_sentiment_list[:top]\n",
    "        polarity_sum = 0\n",
    "        weight_sum = 0\n",
    "        for tup in top_n:\n",
    "            polarity_sum += tup[2] * tup[3] # polarity * weight\n",
    "            weight_sum += tup[3] # weight\n",
    "        return polarity_sum/weight_sum"
   ]
  },
  {
   "cell_type": "code",
   "execution_count": 30,
   "metadata": {},
   "outputs": [
    {
     "data": {
      "text/html": [
       "<div>\n",
       "<style scoped>\n",
       "    .dataframe tbody tr th:only-of-type {\n",
       "        vertical-align: middle;\n",
       "    }\n",
       "\n",
       "    .dataframe tbody tr th {\n",
       "        vertical-align: top;\n",
       "    }\n",
       "\n",
       "    .dataframe thead th {\n",
       "        text-align: right;\n",
       "    }\n",
       "</style>\n",
       "<table border=\"1\" class=\"dataframe\">\n",
       "  <thead>\n",
       "    <tr style=\"text-align: right;\">\n",
       "      <th></th>\n",
       "      <th>url</th>\n",
       "      <th>title</th>\n",
       "      <th>aggregate_target_sentiment</th>\n",
       "      <th>sentiment_label</th>\n",
       "      <th>sentiment_value</th>\n",
       "      <th>avg_agg_sentiment</th>\n",
       "    </tr>\n",
       "  </thead>\n",
       "  <tbody>\n",
       "    <tr>\n",
       "      <th>13</th>\n",
       "      <td>https://www.midlothianmirror.com/business/20191231/art-meets-artificial-intelligence-austin-artists-explore-new-meaning-in-data</td>\n",
       "      <td>Art meets artificial intelligence: Austin artists explore new meaning in data - Business - Midlothian Mirror - Midlothian, TX</td>\n",
       "      <td>[(Beira, GPE, 0.0, 11), (Morton, PERSON, 0.0, 8), (Pricer, PERSON, 0.0, 4), (Austin, GPE, 0.0, 4), (Austin, PERSON, 0.0, 3), (Midlothian, GPE, 0.0, 2), (TX, GPE, 0.0, 2), (Bradley, ORG, 0.0, 2), (News LeaderGlen Rose, ORG, 0.6, 1), (Creative Commons, ORG, 0.5, 1), (New York, GPE, 0.13636363636363635, 1), (the United States, GPE, 0.0, 1), (Portugal, GPE, 0.0, 1), (the University of Texas, ORG, 0.0, 1), (Jo o Beira, PERSON, 0.0, 1), (Datagrama Visuals, ORG, 0.0, 1), (Digital, ORG, 0.0, 1), (Mi...</td>\n",
       "      <td>negative</td>\n",
       "      <td>-1.0</td>\n",
       "      <td>0.028947</td>\n",
       "    </tr>\n",
       "    <tr>\n",
       "      <th>15</th>\n",
       "      <td>https://economictimes.indiatimes.com/tech/internet/artificial-intelligence-research-hub-to-come-up-in-hyderabad/articleshow/73075381.cms</td>\n",
       "      <td>Artificial Intelligence research hub to come up in Hyderabad - The Economic Times</td>\n",
       "      <td>[(Hyderabad, GPE, 0.0, 4), (Intel, ORG, 0.0, 4), (India, GPE, 0.0, 2), (Manoj NaravaneIntel, PERSON, 0.0, 2), (Putin, PERSON, 0.0, 2), (Donald Trump, PERSON, 0.0, 2), (KremlinArmed, PERSON, 0.0, 2), (Telangana, GPE, 0.0, 2), (Artificial Intelligence, ORG, -0.6, 2), (the Latest News in Business, ORG, 0.5, 1), (The Economic Times Business News App, ORG, 0.2, 1), (The Economic TimesorFill, ORG, 0.2, 1), (Hyderabad The Economic Times, ORG, 0.2, 1), (New Delhi, GPE, 0.13636363636363635, 1), (FUND...</td>\n",
       "      <td>negative</td>\n",
       "      <td>-1.0</td>\n",
       "      <td>-0.030435</td>\n",
       "    </tr>\n",
       "    <tr>\n",
       "      <th>16</th>\n",
       "      <td>https://marketreportobserver.com/artificial-intelligence-ai-as-a-service-market-will-generate-new-growth-opportunities-in-the-next-upcoming-year-key-players-google-amazon-web-services-ibm-microsoft-sap-salesforce-intel-baid/</td>\n",
       "      <td>Artificial Intelligence (AI) As a Service Market Will Generate New Growth Opportunities in the next upcoming year Key Players- Google, Amazon web services, IBM, Microsoft, SAP, Salesforce, Intel, Baidu, FICO, SAS, BigML – Market Reports Observer</td>\n",
       "      <td>[(Artificial Intelligence AI, ORG, -0.6, 8), (Amazon, ORG, 0.0, 4), (IBM, ORG, 0.0, 4), (Microsoft, ORG, 0.0, 4), (SAP, ORG, 0.0, 4), (Salesforce, ORG, 0.0, 4), (Intel, ORG, 0.0, 4), (Baidu, ORG, 0.0, 4), (SAS, ORG, 0.0, 4), (Key Players Google, ORG, 0.0, 3), (Global Artificial Intelligence, ORG, -0.3, 3), (the Artificial Intelligence AI As a Service, ORG, -0.6, 2), (Sanjay Jain, PERSON, 0.0, 1), (US, GPE, 0.0, 1), (Intel Corporation, ORG, 0.0, 1), (Toshiba Corp, ORG, 0.0, 1), (Amkor Technol...</td>\n",
       "      <td>negative</td>\n",
       "      <td>-1.0</td>\n",
       "      <td>-0.111628</td>\n",
       "    </tr>\n",
       "    <tr>\n",
       "      <th>20</th>\n",
       "      <td>https://www.forbes.com/sites/aliciakelso/2020/01/02/ghost-kitchens-ai-and-pos-systems-restaurant-tech-providers-predict-top-2020-trends/</td>\n",
       "      <td>Ghost Kitchens, AI and POS Systems: Restaurant Tech Providers Predict Top 2020 Trends</td>\n",
       "      <td>[(AI, ORG, 0.0, 5), (DoorDash, ORG, 0.0, 5), (Olo, PERSON, 0.0, 3), (Ordermark, PERSON, 0.0, 3), (Forbes Insights, PERSON, 0.0, 3), (KFC, ORG, 0.0, 2), (Robbins, PERSON, 0.0, 2), (Mobivity, ORG, 0.0, 2), (McDonald s, ORG, 0.0, 2), (Toast, ORG, 0.0, 2), (Uber Eats, ORG, 0.0, 2), (Restaurant Tech Providers, ORG, 0.0, 2), (New York City, GPE, 0.13636363636363635, 1), (Wealthiest Celebrate New Milestones Ghost, ORG, 0.13636363636363635, 1), (Zume Inc. Direct, ORG, 0.1, 1), (China, GPE, 0.0, 1), ...</td>\n",
       "      <td>negative</td>\n",
       "      <td>-1.0</td>\n",
       "      <td>0.000000</td>\n",
       "    </tr>\n",
       "    <tr>\n",
       "      <th>24</th>\n",
       "      <td>https://www.thehindubusinessline.com/info-tech/telangana-targets-to-become-artificial-intelligence-hub-targets-to-attract-200-startups/article30459275.ece</td>\n",
       "      <td>Telangana targets to become artificial intelligence hub; targets to attract 200 startups - The Hindu BusinessLine</td>\n",
       "      <td>[(India, GPE, 0.0, 3), (Telangana, GPE, 0.0, 3), (Intel, ORG, 0.0, 3), (AI, ORG, 0.0, 3), (Hyderabad, LOC, 0.0, 2), (CAA, ORG, 0.0, 2), (Mukhtar Abbas, PERSON, 0.0, 2), (Adobe, ORG, 0.0, 2), (Hyderabad, GPE, 0.0, 2), (State, ORG, 0.0, 2), (Technical Analysis Research Reports More Sign in Latest News BL, ORG, 0.3333333333333333, 1), (Sportstar Chennai Super Kings The Hindu Centre Young World Club Classifieds, ORG, 0.21666666666666667, 1), (Home Real Estate Markets Portfolio Tracker Companies ...</td>\n",
       "      <td>negative</td>\n",
       "      <td>-1.0</td>\n",
       "      <td>0.000000</td>\n",
       "    </tr>\n",
       "  </tbody>\n",
       "</table>\n",
       "</div>"
      ],
      "text/plain": [
       "                                                                                                                                                                                                                                 url   \n",
       "13                                                                                                   https://www.midlothianmirror.com/business/20191231/art-meets-artificial-intelligence-austin-artists-explore-new-meaning-in-data  \\\n",
       "15                                                                                          https://economictimes.indiatimes.com/tech/internet/artificial-intelligence-research-hub-to-come-up-in-hyderabad/articleshow/73075381.cms   \n",
       "16  https://marketreportobserver.com/artificial-intelligence-ai-as-a-service-market-will-generate-new-growth-opportunities-in-the-next-upcoming-year-key-players-google-amazon-web-services-ibm-microsoft-sap-salesforce-intel-baid/   \n",
       "20                                                                                          https://www.forbes.com/sites/aliciakelso/2020/01/02/ghost-kitchens-ai-and-pos-systems-restaurant-tech-providers-predict-top-2020-trends/   \n",
       "24                                                                        https://www.thehindubusinessline.com/info-tech/telangana-targets-to-become-artificial-intelligence-hub-targets-to-attract-200-startups/article30459275.ece   \n",
       "\n",
       "                                                                                                                                                                                                                                                    title   \n",
       "13                                                                                                                          Art meets artificial intelligence: Austin artists explore new meaning in data - Business - Midlothian Mirror - Midlothian, TX  \\\n",
       "15                                                                                                                                                                      Artificial Intelligence research hub to come up in Hyderabad - The Economic Times   \n",
       "16  Artificial Intelligence (AI) As a Service Market Will Generate New Growth Opportunities in the next upcoming year Key Players- Google, Amazon web services, IBM, Microsoft, SAP, Salesforce, Intel, Baidu, FICO, SAS, BigML – Market Reports Observer   \n",
       "20                                                                                                                                                                  Ghost Kitchens, AI and POS Systems: Restaurant Tech Providers Predict Top 2020 Trends   \n",
       "24                                                                                                                                     Telangana targets to become artificial intelligence hub; targets to attract 200 startups - The Hindu BusinessLine    \n",
       "\n",
       "                                                                                                                                                                                                                                                                                                                                                                                                                                                                                             aggregate_target_sentiment   \n",
       "13  [(Beira, GPE, 0.0, 11), (Morton, PERSON, 0.0, 8), (Pricer, PERSON, 0.0, 4), (Austin, GPE, 0.0, 4), (Austin, PERSON, 0.0, 3), (Midlothian, GPE, 0.0, 2), (TX, GPE, 0.0, 2), (Bradley, ORG, 0.0, 2), (News LeaderGlen Rose, ORG, 0.6, 1), (Creative Commons, ORG, 0.5, 1), (New York, GPE, 0.13636363636363635, 1), (the United States, GPE, 0.0, 1), (Portugal, GPE, 0.0, 1), (the University of Texas, ORG, 0.0, 1), (Jo o Beira, PERSON, 0.0, 1), (Datagrama Visuals, ORG, 0.0, 1), (Digital, ORG, 0.0, 1), (Mi...  \\\n",
       "15  [(Hyderabad, GPE, 0.0, 4), (Intel, ORG, 0.0, 4), (India, GPE, 0.0, 2), (Manoj NaravaneIntel, PERSON, 0.0, 2), (Putin, PERSON, 0.0, 2), (Donald Trump, PERSON, 0.0, 2), (KremlinArmed, PERSON, 0.0, 2), (Telangana, GPE, 0.0, 2), (Artificial Intelligence, ORG, -0.6, 2), (the Latest News in Business, ORG, 0.5, 1), (The Economic Times Business News App, ORG, 0.2, 1), (The Economic TimesorFill, ORG, 0.2, 1), (Hyderabad The Economic Times, ORG, 0.2, 1), (New Delhi, GPE, 0.13636363636363635, 1), (FUND...   \n",
       "16  [(Artificial Intelligence AI, ORG, -0.6, 8), (Amazon, ORG, 0.0, 4), (IBM, ORG, 0.0, 4), (Microsoft, ORG, 0.0, 4), (SAP, ORG, 0.0, 4), (Salesforce, ORG, 0.0, 4), (Intel, ORG, 0.0, 4), (Baidu, ORG, 0.0, 4), (SAS, ORG, 0.0, 4), (Key Players Google, ORG, 0.0, 3), (Global Artificial Intelligence, ORG, -0.3, 3), (the Artificial Intelligence AI As a Service, ORG, -0.6, 2), (Sanjay Jain, PERSON, 0.0, 1), (US, GPE, 0.0, 1), (Intel Corporation, ORG, 0.0, 1), (Toshiba Corp, ORG, 0.0, 1), (Amkor Technol...   \n",
       "20  [(AI, ORG, 0.0, 5), (DoorDash, ORG, 0.0, 5), (Olo, PERSON, 0.0, 3), (Ordermark, PERSON, 0.0, 3), (Forbes Insights, PERSON, 0.0, 3), (KFC, ORG, 0.0, 2), (Robbins, PERSON, 0.0, 2), (Mobivity, ORG, 0.0, 2), (McDonald s, ORG, 0.0, 2), (Toast, ORG, 0.0, 2), (Uber Eats, ORG, 0.0, 2), (Restaurant Tech Providers, ORG, 0.0, 2), (New York City, GPE, 0.13636363636363635, 1), (Wealthiest Celebrate New Milestones Ghost, ORG, 0.13636363636363635, 1), (Zume Inc. Direct, ORG, 0.1, 1), (China, GPE, 0.0, 1), ...   \n",
       "24  [(India, GPE, 0.0, 3), (Telangana, GPE, 0.0, 3), (Intel, ORG, 0.0, 3), (AI, ORG, 0.0, 3), (Hyderabad, LOC, 0.0, 2), (CAA, ORG, 0.0, 2), (Mukhtar Abbas, PERSON, 0.0, 2), (Adobe, ORG, 0.0, 2), (Hyderabad, GPE, 0.0, 2), (State, ORG, 0.0, 2), (Technical Analysis Research Reports More Sign in Latest News BL, ORG, 0.3333333333333333, 1), (Sportstar Chennai Super Kings The Hindu Centre Young World Club Classifieds, ORG, 0.21666666666666667, 1), (Home Real Estate Markets Portfolio Tracker Companies ...   \n",
       "\n",
       "   sentiment_label  sentiment_value  avg_agg_sentiment  \n",
       "13        negative             -1.0           0.028947  \n",
       "15        negative             -1.0          -0.030435  \n",
       "16        negative             -1.0          -0.111628  \n",
       "20        negative             -1.0           0.000000  \n",
       "24        negative             -1.0           0.000000  "
      ]
     },
     "execution_count": 30,
     "metadata": {},
     "output_type": "execute_result"
    }
   ],
   "source": [
    "test_df = df[df['sentiment_label'] == 'negative'].head(10)\n",
    "test_df['avg_agg_sentiment'] = test_df['aggregate_target_sentiment'].apply(extract_sentiment_avg)\n",
    "test_df.head(5)[['url','title', 'aggregate_target_sentiment', 'sentiment_label', 'sentiment_value','avg_agg_sentiment']]"
   ]
  },
  {
   "cell_type": "code",
   "execution_count": 36,
   "metadata": {},
   "outputs": [
    {
     "data": {
      "text/html": [
       "<div>\n",
       "<style scoped>\n",
       "    .dataframe tbody tr th:only-of-type {\n",
       "        vertical-align: middle;\n",
       "    }\n",
       "\n",
       "    .dataframe tbody tr th {\n",
       "        vertical-align: top;\n",
       "    }\n",
       "\n",
       "    .dataframe thead th {\n",
       "        text-align: right;\n",
       "    }\n",
       "</style>\n",
       "<table border=\"1\" class=\"dataframe\">\n",
       "  <thead>\n",
       "    <tr style=\"text-align: right;\">\n",
       "      <th></th>\n",
       "      <th>url</th>\n",
       "      <th>title</th>\n",
       "      <th>aggregate_target_sentiment</th>\n",
       "      <th>sentiment_label</th>\n",
       "      <th>sentiment_value</th>\n",
       "      <th>avg_agg_sentiment</th>\n",
       "    </tr>\n",
       "  </thead>\n",
       "  <tbody>\n",
       "    <tr>\n",
       "      <th>108352</th>\n",
       "      <td>https://www.cio.com/article/455895/straumann-group-is-transforming-dentistry-with-data-ai.html</td>\n",
       "      <td>Straumann Group is transforming dentistry with data, AI | CIO</td>\n",
       "      <td>[(Iyengar, PERSON, 0.0, 7), (AI, ORG, 0.0, 5), (Data Tech, ORG, 0.0, 5), (ML, ORG, 0.0, 4), (Thor Olavsrud, PERSON, 0.0, 3), (Findability Sciences, ORG, 0.0, 2), (Straumann Group, ORG, 0.0, 2), (Awards CIO Digital Magazine, ORG, 0.0, 2), (Straumann, PERSON, 0.0, 2), (Iyengar s, ORG, 0.0, 2), (Findability.ai, ORG, 0.0, 1), (NLP, ORG, 0.0, 1), (Transformative CIO, ORG, 0.0, 1), (Lenovo, ORG, 0.0, 1), (Baratunde Thurston, PERSON, 0.0, 1), (AI CIO g United States States Events Newsletters White ...</td>\n",
       "      <td>positive</td>\n",
       "      <td>1.0</td>\n",
       "      <td>0.000000</td>\n",
       "    </tr>\n",
       "    <tr>\n",
       "      <th>129994</th>\n",
       "      <td>https://www.kait8.com/prnewswire/2023/04/25/cujo-ai-wins-prestigious-global-infosec-award-rsa-2023/</td>\n",
       "      <td>CUJO AI Wins a Prestigious Global Infosec Award at RSA 2023</td>\n",
       "      <td>[(CUJO, ORG, 0.0, 2), (KindnessMedical MinuteTake, PERSON, 0.0, 1), (Digital AppsSubmit, ORG, 0.0, 1), (CamsWeather, PERSON, 0.0, 1), (Arkansas, GPE, 0.0, 1), (State, ORG, 0.0, 1), (TodayA, ORG, 0.0, 1), (KindnessTeacher, PERSON, 0.0, 1), (the MonthPump AlertHealthGreat Health, ORG, 0.0, 1), (DivideHealthy Heart, PERSON, 0.0, 1), (KAITAbout UsMeet Our News TeamKAIT, ORG, 0.0, 1), (Biden, PERSON, 0.0, 1), (Global InfoSec Awards, ORG, 0.0, 1)]</td>\n",
       "      <td>positive</td>\n",
       "      <td>1.0</td>\n",
       "      <td>0.000000</td>\n",
       "    </tr>\n",
       "    <tr>\n",
       "      <th>34655</th>\n",
       "      <td>https://www.forbes.com/sites/lanceeliot/2021/05/26/memorial-day-traveling-in-an-era-of-ai-self-driving-cars/</td>\n",
       "      <td>Memorial Day Traveling In An Era Of AI Self-Driving Cars</td>\n",
       "      <td>[(AI, ORG, 0.0, 11), (Doubles Tesla s Rolling, PERSON, 0.0, 2), (Crossovers Best Electric Cars Best Sports Cars, ORG, 1.0, 1), (Top Women Wealth Advisors, ORG, 0.5, 1), (Success Emotional EQuity Paid Program, ORG, 0.15, 1), (Don, PERSON, 0.0, 1), (the Twilight Zone, LOC, 0.0, 1), (Faster Than Lithium Ion, PERSON, 0.0, 1), (America, GPE, 0.0, 1), (Richest Self Made Women, ORG, 0.0, 1), (China, GPE, 0.0, 1), (Richest India's, LOC, 0.0, 1), (Richest Indonesia's, GPE, 0.0, 1), (Richest Korea's, ...</td>\n",
       "      <td>positive</td>\n",
       "      <td>1.0</td>\n",
       "      <td>0.078571</td>\n",
       "    </tr>\n",
       "    <tr>\n",
       "      <th>83965</th>\n",
       "      <td>https://www.hindustantimes.com/technology/now-you-can-write-articles-using-artificial-intelligence-tool-like-this-101663244964673-amp.html</td>\n",
       "      <td>Now, you can write articles using artificial intelligence tool, like this - Hindustan Times</td>\n",
       "      <td>[(Artificial Intelligence, ORG, -0.6, 3), (Chandra Daily Wrap Public Health Economic Policy International Affairs Climate Change Gender Equality Daily Sudoku Daily Crossword Daily Word Jumble CricHT Fantasy Auto HT Tech HT Bangla HT School HT Brand Stories, ORG, 0.028571428571428574, 1), (Mumbai, GPE, 0.0, 1), (Chennai, GPE, 0.0, 1), (Kolkata, GPE, 0.0, 1), (Jaipur, GPE, 0.0, 1), (Compatibility Calculator, ORG, 0.0, 1), (Aur Batao Vikram, PERSON, 0.0, 1), (Hindustan Times, ORG, 0.0, 1), (Hom...</td>\n",
       "      <td>positive</td>\n",
       "      <td>1.0</td>\n",
       "      <td>-0.147619</td>\n",
       "    </tr>\n",
       "    <tr>\n",
       "      <th>73991</th>\n",
       "      <td>https://www.fox8live.com/prnewswire/2022/07/06/calypsoai-recognized-cool-vendor-ai-core-technologies-by-gartner/</td>\n",
       "      <td>CalypsoAI Recognized as a Cool Vendor in AI Core Technologies by Gartner®</td>\n",
       "      <td>[(AI Core Technologies, ORG, 0.0, 2), (Gartner Cool Vendor, ORG, 0.35, 1), (Golden Apple AwardGolden Apple Nomination, ORG, 0.3, 1), (Gartner Skip, ORG, 0.0, 1), (BusinessDownload, ORG, 0.0, 1), (olNOLA, ORG, 0.0, 1), (News StoriesMorning, ORG, 0.0, 1), (StormThe, ORG, 0.0, 1), (David Bernard FridayPlayer, PERSON, 0.0, 1), (the Masked Singer Digital Tracking BoardHeart, ORG, 0.0, 1), (AppsLatest, ORG, 0.0, 1), (BureauInvestigate, ORG, 0.0, 1), (TVPress, GPE, 0.0, 1), (AI Core Technologies Sc...</td>\n",
       "      <td>positive</td>\n",
       "      <td>1.0</td>\n",
       "      <td>0.059091</td>\n",
       "    </tr>\n",
       "  </tbody>\n",
       "</table>\n",
       "</div>"
      ],
      "text/plain": [
       "                                                                                                                                               url   \n",
       "108352                                              https://www.cio.com/article/455895/straumann-group-is-transforming-dentistry-with-data-ai.html  \\\n",
       "129994                                         https://www.kait8.com/prnewswire/2023/04/25/cujo-ai-wins-prestigious-global-infosec-award-rsa-2023/   \n",
       "34655                                 https://www.forbes.com/sites/lanceeliot/2021/05/26/memorial-day-traveling-in-an-era-of-ai-self-driving-cars/   \n",
       "83965   https://www.hindustantimes.com/technology/now-you-can-write-articles-using-artificial-intelligence-tool-like-this-101663244964673-amp.html   \n",
       "73991                             https://www.fox8live.com/prnewswire/2022/07/06/calypsoai-recognized-cool-vendor-ai-core-technologies-by-gartner/   \n",
       "\n",
       "                                                                                              title   \n",
       "108352                                Straumann Group is transforming dentistry with data, AI | CIO  \\\n",
       "129994                                  CUJO AI Wins a Prestigious Global Infosec Award at RSA 2023   \n",
       "34655                                      Memorial Day Traveling In An Era Of AI Self-Driving Cars   \n",
       "83965   Now, you can write articles using artificial intelligence tool, like this - Hindustan Times   \n",
       "73991                     CalypsoAI Recognized as a Cool Vendor in AI Core Technologies by Gartner®   \n",
       "\n",
       "                                                                                                                                                                                                                                                                                                                                                                                                                                                                                                 aggregate_target_sentiment   \n",
       "108352  [(Iyengar, PERSON, 0.0, 7), (AI, ORG, 0.0, 5), (Data Tech, ORG, 0.0, 5), (ML, ORG, 0.0, 4), (Thor Olavsrud, PERSON, 0.0, 3), (Findability Sciences, ORG, 0.0, 2), (Straumann Group, ORG, 0.0, 2), (Awards CIO Digital Magazine, ORG, 0.0, 2), (Straumann, PERSON, 0.0, 2), (Iyengar s, ORG, 0.0, 2), (Findability.ai, ORG, 0.0, 1), (NLP, ORG, 0.0, 1), (Transformative CIO, ORG, 0.0, 1), (Lenovo, ORG, 0.0, 1), (Baratunde Thurston, PERSON, 0.0, 1), (AI CIO g United States States Events Newsletters White ...  \\\n",
       "129994                                                        [(CUJO, ORG, 0.0, 2), (KindnessMedical MinuteTake, PERSON, 0.0, 1), (Digital AppsSubmit, ORG, 0.0, 1), (CamsWeather, PERSON, 0.0, 1), (Arkansas, GPE, 0.0, 1), (State, ORG, 0.0, 1), (TodayA, ORG, 0.0, 1), (KindnessTeacher, PERSON, 0.0, 1), (the MonthPump AlertHealthGreat Health, ORG, 0.0, 1), (DivideHealthy Heart, PERSON, 0.0, 1), (KAITAbout UsMeet Our News TeamKAIT, ORG, 0.0, 1), (Biden, PERSON, 0.0, 1), (Global InfoSec Awards, ORG, 0.0, 1)]   \n",
       "34655   [(AI, ORG, 0.0, 11), (Doubles Tesla s Rolling, PERSON, 0.0, 2), (Crossovers Best Electric Cars Best Sports Cars, ORG, 1.0, 1), (Top Women Wealth Advisors, ORG, 0.5, 1), (Success Emotional EQuity Paid Program, ORG, 0.15, 1), (Don, PERSON, 0.0, 1), (the Twilight Zone, LOC, 0.0, 1), (Faster Than Lithium Ion, PERSON, 0.0, 1), (America, GPE, 0.0, 1), (Richest Self Made Women, ORG, 0.0, 1), (China, GPE, 0.0, 1), (Richest India's, LOC, 0.0, 1), (Richest Indonesia's, GPE, 0.0, 1), (Richest Korea's, ...   \n",
       "83965   [(Artificial Intelligence, ORG, -0.6, 3), (Chandra Daily Wrap Public Health Economic Policy International Affairs Climate Change Gender Equality Daily Sudoku Daily Crossword Daily Word Jumble CricHT Fantasy Auto HT Tech HT Bangla HT School HT Brand Stories, ORG, 0.028571428571428574, 1), (Mumbai, GPE, 0.0, 1), (Chennai, GPE, 0.0, 1), (Kolkata, GPE, 0.0, 1), (Jaipur, GPE, 0.0, 1), (Compatibility Calculator, ORG, 0.0, 1), (Aur Batao Vikram, PERSON, 0.0, 1), (Hindustan Times, ORG, 0.0, 1), (Hom...   \n",
       "73991   [(AI Core Technologies, ORG, 0.0, 2), (Gartner Cool Vendor, ORG, 0.35, 1), (Golden Apple AwardGolden Apple Nomination, ORG, 0.3, 1), (Gartner Skip, ORG, 0.0, 1), (BusinessDownload, ORG, 0.0, 1), (olNOLA, ORG, 0.0, 1), (News StoriesMorning, ORG, 0.0, 1), (StormThe, ORG, 0.0, 1), (David Bernard FridayPlayer, PERSON, 0.0, 1), (the Masked Singer Digital Tracking BoardHeart, ORG, 0.0, 1), (AppsLatest, ORG, 0.0, 1), (BureauInvestigate, ORG, 0.0, 1), (TVPress, GPE, 0.0, 1), (AI Core Technologies Sc...   \n",
       "\n",
       "       sentiment_label  sentiment_value  avg_agg_sentiment  \n",
       "108352        positive              1.0           0.000000  \n",
       "129994        positive              1.0           0.000000  \n",
       "34655         positive              1.0           0.078571  \n",
       "83965         positive              1.0          -0.147619  \n",
       "73991         positive              1.0           0.059091  "
      ]
     },
     "execution_count": 36,
     "metadata": {},
     "output_type": "execute_result"
    }
   ],
   "source": [
    "test_df = df[df['sentiment_label'] == 'positive'].sample(10)\n",
    "test_df['avg_agg_sentiment'] = test_df['aggregate_target_sentiment'].apply(extract_sentiment_avg)\n",
    "test_df.head(5)[['url','title', 'aggregate_target_sentiment', 'sentiment_label', 'sentiment_value','avg_agg_sentiment']]"
   ]
  },
  {
   "attachments": {},
   "cell_type": "markdown",
   "metadata": {},
   "source": [
    "Mannual checks tell me:\n",
    "- The problem with sentiment_value is that it comes from the average of single-sentence-generated sentiment per article, so:\n",
    "    - single sentence will only give positive/nagative/neutral results, which is 1/0/-1. This greatly affects the average, which is less clear than polarity\n",
    "- However, single sentence sentiment helps to overcome the context issue faced by avg_aggregate_sentiment\n",
    "    - One example is `Now, you can write articles using artificial intelligence tool, like this - Hindustan Times`. The article talks about how AI is limited and might be abused. However, the article is overall talking about writing with AI--in a neutral tone. \n",
    "\n",
    "One better solution is to take a weighted average of the two sentiment values.\n"
   ]
  },
  {
   "cell_type": "code",
   "execution_count": 7,
   "metadata": {},
   "outputs": [],
   "source": [
    "# apply extract_sentiment_avg to the whole df\n",
    "df['avg_agg_sentiment'] = df['aggregate_target_sentiment'].parallel_apply(extract_sentiment_avg)"
   ]
  },
  {
   "cell_type": "code",
   "execution_count": 38,
   "metadata": {},
   "outputs": [
    {
     "data": {
      "image/png": "[encoded data removed]",
      "text/plain": [
       "<Figure size 1200x400 with 2 Axes>"
      ]
     },
     "metadata": {},
     "output_type": "display_data"
    }
   ],
   "source": [
    "sent_values = df['avg_agg_sentiment']\n",
    "negative_values, positive_values = sent_values[sent_values < 0], sent_values[sent_values > 0]\n",
    "\n",
    "# plot the distribution of sentiment_value (positive & negative), with subplots\n",
    "fig, ax = plt.subplots(1, 2, figsize=(12, 4))\n",
    "sns.distplot(negative_values, ax=ax[0], color='green')\n",
    "sns.distplot(positive_values, ax=ax[1], color='red')\n",
    "ax[0].set_title('Aggregated Negative Sentiment Distribution')\n",
    "ax[1].set_title('Aggregated Positive Sentiment Distribution')\n",
    "plt.show()"
   ]
  },
  {
   "cell_type": "code",
   "execution_count": 39,
   "metadata": {},
   "outputs": [
    {
     "name": "stdout",
     "output_type": "stream",
     "text": [
      "<class 'pandas.core.frame.DataFrame'>\n",
      "RangeIndex: 131713 entries, 0 to 131712\n",
      "Data columns (total 11 columns):\n",
      " #   Column                      Non-Null Count   Dtype         \n",
      "---  ------                      --------------   -----         \n",
      " 0   date                        131713 non-null  datetime64[ns]\n",
      " 1   title                       131713 non-null  object        \n",
      " 2   text_cleaned                131713 non-null  object        \n",
      " 3   article_topic               131713 non-null  int64         \n",
      " 4   domain                      131713 non-null  object        \n",
      " 5   article_id                  131713 non-null  int64         \n",
      " 6   sentiment_value             131713 non-null  float64       \n",
      " 7   aggregate_target_sentiment  131713 non-null  object        \n",
      " 8   sentiment_label             131713 non-null  object        \n",
      " 9   url                         131713 non-null  object        \n",
      " 10  avg_agg_sentiment           131672 non-null  float64       \n",
      "dtypes: datetime64[ns](1), float64(2), int64(2), object(6)\n",
      "memory usage: 11.1+ MB\n"
     ]
    }
   ],
   "source": [
    "# just to check how many columns I have\n",
    "df.info()"
   ]
  },
  {
   "cell_type": "code",
   "execution_count": 43,
   "metadata": {},
   "outputs": [
    {
     "data": {
      "image/png": "[encoded data removed]",
      "text/plain": [
       "<Figure size 1200x400 with 2 Axes>"
      ]
     },
     "metadata": {},
     "output_type": "display_data"
    }
   ],
   "source": [
    "# note: weighted sentiment calculation is missing due to save error\n",
    "\n",
    "sent_values = df['sentiment_value_weighted']\n",
    "negative_values, positive_values = sent_values[sent_values < 0], sent_values[sent_values > 0]\n",
    "\n",
    "# plot the distribution of sentiment_value (positive & negative), with subplots\n",
    "fig, ax = plt.subplots(1, 2, figsize=(12, 4))\n",
    "sns.distplot(negative_values, ax=ax[0], color='green')\n",
    "sns.distplot(positive_values, ax=ax[1], color='red')\n",
    "ax[0].set_title('Weighted Negative Sentiment Distribution')\n",
    "ax[1].set_title('Weighted Positive Sentiment Distribution')\n",
    "plt.show()"
   ]
  },
  {
   "cell_type": "code",
   "execution_count": 44,
   "metadata": {},
   "outputs": [
    {
     "data": {
      "application/vnd.jupyter.widget-view+json": {
       "model_id": "7e250c17463440a4a726ca4dc0511199",
       "version_major": 2,
       "version_minor": 0
      },
      "text/plain": [
       "VBox(children=(HBox(children=(IntProgress(value=0, description='0.00%', max=10977), Label(value='0 / 10977')))…"
      ]
     },
     "metadata": {},
     "output_type": "display_data"
    }
   ],
   "source": [
    "# lastly, let's see how often the two columns (avg_agg_sentiment and sentiment_value) agree with each other. \n",
    "# In other words, how often the two columns are in accordance (both positive or both negative or both neutral)\n",
    "\n",
    "\n",
    "def aggrement(row):\n",
    "    if row['sentiment_value'] > 0 and row['avg_agg_sentiment'] > 0:\n",
    "        return 'positive'\n",
    "    elif row['sentiment_value'] < 0 and row['avg_agg_sentiment'] < 0:\n",
    "        return 'negative'\n",
    "    elif row['sentiment_value'] == 0 and row['avg_agg_sentiment'] == 0:\n",
    "        return 'neutral'\n",
    "    else:\n",
    "        return 'disagree'\n",
    "\n",
    "df['aggrement'] = df.parallel_apply(aggrement, axis=1)"
   ]
  },
  {
   "cell_type": "code",
   "execution_count": 45,
   "metadata": {},
   "outputs": [
    {
     "data": {
      "image/png": "[encoded data removed]",
      "text/plain": [
       "<Figure size 640x480 with 1 Axes>"
      ]
     },
     "metadata": {},
     "output_type": "display_data"
    }
   ],
   "source": [
    "# make a pie chart of the aggrement\n",
    "df['aggrement'].value_counts().plot(kind='pie', autopct='%1.0f%%', colors=['green', 'red', 'blue', 'yellow'])\n",
    "plt.title('Aggrement between sentiment_value and avg_agg_sentiment')\n",
    "plt.show()"
   ]
  },
  {
   "attachments": {},
   "cell_type": "markdown",
   "metadata": {},
   "source": [
    "#### Fixing Sentiment Disaggrement\n",
    "\n",
    "For simplicity, I will remove 1.0 or -1.0 value in sentiment_value and replace with None. The rationale is--based on the way sentiment_value is calculated--there's little chance that all sentences in an article is positive or negative at the same time,which is an extreme case! The most common case should be a lots of neutral sentiments and the absolute avg value shold not be 1."
   ]
  },
  {
   "cell_type": "code",
   "execution_count": 8,
   "metadata": {},
   "outputs": [],
   "source": [
    "# fixing the sentiment_value: if abs(sentiment_value) = 1, set it to None\n",
    "df['sentiment_value'] = df['sentiment_value'].parallel_apply(lambda x: None if abs(x) == 1 else x)"
   ]
  },
  {
   "cell_type": "code",
   "execution_count": 9,
   "metadata": {},
   "outputs": [],
   "source": [
    "# take a weighted average of the sentiment_value and avg_agg_sentiment (default: 0.3 vs 0.7)\n",
    "# if sentiment_value is None, then use avg_agg_sentiment\n",
    "df['sentiment_value_weighted'] = df.parallel_apply(lambda row: row['avg_agg_sentiment'] if row['sentiment_value'] is None \\\n",
    "                                                   else (row['sentiment_value']*0.3 + row['avg_agg_sentiment']*0.7), axis=1)"
   ]
  },
  {
   "cell_type": "code",
   "execution_count": 51,
   "metadata": {},
   "outputs": [
    {
     "data": {
      "image/png": "[encoded data removed]",
      "text/plain": [
       "<Figure size 1200x400 with 2 Axes>"
      ]
     },
     "metadata": {},
     "output_type": "display_data"
    }
   ],
   "source": [
    "# check distribution of sentiment_value_weighted\n",
    "sent_values = df['sentiment_value_weighted']\n",
    "negative_values, positive_values = sent_values[sent_values < 0], sent_values[sent_values > 0]\n",
    "\n",
    "# plot the distribution of sentiment_value (positive & negative), with subplots\n",
    "fig, ax = plt.subplots(1, 2, figsize=(12, 4))\n",
    "sns.distplot(negative_values, ax=ax[0], color='green')\n",
    "sns.distplot(positive_values, ax=ax[1], color='red')\n",
    "ax[0].set_title('Weighted Negative Sentiment Distribution')\n",
    "ax[1].set_title('Weighted Positive Sentiment Distribution')\n",
    "plt.show()"
   ]
  },
  {
   "cell_type": "code",
   "execution_count": 10,
   "metadata": {},
   "outputs": [
    {
     "data": {
      "text/html": [
       "<div>\n",
       "<style scoped>\n",
       "    .dataframe tbody tr th:only-of-type {\n",
       "        vertical-align: middle;\n",
       "    }\n",
       "\n",
       "    .dataframe tbody tr th {\n",
       "        vertical-align: top;\n",
       "    }\n",
       "\n",
       "    .dataframe thead th {\n",
       "        text-align: right;\n",
       "    }\n",
       "</style>\n",
       "<table border=\"1\" class=\"dataframe\">\n",
       "  <thead>\n",
       "    <tr style=\"text-align: right;\">\n",
       "      <th></th>\n",
       "      <th>date</th>\n",
       "      <th>title</th>\n",
       "      <th>text_cleaned</th>\n",
       "      <th>article_topic</th>\n",
       "      <th>domain</th>\n",
       "      <th>article_id</th>\n",
       "      <th>sentiment_value</th>\n",
       "      <th>aggregate_target_sentiment</th>\n",
       "      <th>sentiment_label</th>\n",
       "      <th>url</th>\n",
       "      <th>avg_agg_sentiment</th>\n",
       "      <th>sentiment_value_weighted</th>\n",
       "    </tr>\n",
       "  </thead>\n",
       "  <tbody>\n",
       "    <tr>\n",
       "      <th>0</th>\n",
       "      <td>2020-01-01</td>\n",
       "      <td>Decentralized Machine Learning Reaches Market Cap of $15,919.00 (DML) - Enterprise Leader</td>\n",
       "      <td>Decentralized Machine Learning Reaches Market Cap of 15,919.00 DML Enterprise Leader Daily Ratings News for Decentralized Machine Learning Complete the form below to receive the latest headlines and analysts' mendations for Decentralized Machine Learning with our free daily email newsletter: Follow EnterpriseLeade Recent Posts GE Announces Its Plan To Sell The Distributed Power Business To Advent International Ebang Communication Resorts To The Filing Of An IPO In Hong Kong How to Open DAA, ...</td>\n",
       "      <td>3</td>\n",
       "      <td>theenterpriseleader.com</td>\n",
       "      <td>1</td>\n",
       "      <td>0.0</td>\n",
       "      <td>[(Decentralized Machine Learning, ORG, 0.0, 11), (US, GPE, 0.0, 4), (Hong Kong, GPE, 0.0, 2), (NRG, ORG, 0.0, 2), (IMG, ORG, 0.0, 2), (Flagstar Bancorp, ORG, 0.0, 2), (IDEX, ORG, 0.0, 2), (Mistake Foxconn Launches Investigation After Reports Of Harsh Working Conditions, ORG, -0.2, 2), (Stellar XLM, ORG, 0.25, 1), (Decentralized Machine Learning Reaches Market Cap, ORG, 0.0, 1), (Wells Fargo, ORG, 0.0, 1), (Monster Beverage Corp NASDAQ, ORG, 0.0, 1), (GE, ORG, 0.0, 1), (IPO, ORG, 0.0, 1), (De...</td>\n",
       "      <td>neutral</td>\n",
       "      <td>https://theenterpriseleader.com/2020/01/01/decentralized-machine-learning-reaches-market-cap-of-15919-00-dml.html</td>\n",
       "      <td>-0.005172</td>\n",
       "      <td>-0.003621</td>\n",
       "    </tr>\n",
       "  </tbody>\n",
       "</table>\n",
       "</div>"
      ],
      "text/plain": [
       "        date   \n",
       "0 2020-01-01  \\\n",
       "\n",
       "                                                                                       title   \n",
       "0  Decentralized Machine Learning Reaches Market Cap of $15,919.00 (DML) - Enterprise Leader  \\\n",
       "\n",
       "                                                                                                                                                                                                                                                                                                                                                                                                                                                                                                          text_cleaned   \n",
       "0  Decentralized Machine Learning Reaches Market Cap of 15,919.00 DML Enterprise Leader Daily Ratings News for Decentralized Machine Learning Complete the form below to receive the latest headlines and analysts' mendations for Decentralized Machine Learning with our free daily email newsletter: Follow EnterpriseLeade Recent Posts GE Announces Its Plan To Sell The Distributed Power Business To Advent International Ebang Communication Resorts To The Filing Of An IPO In Hong Kong How to Open DAA, ...  \\\n",
       "\n",
       "   article_topic                   domain  article_id  sentiment_value   \n",
       "0              3  theenterpriseleader.com           1              0.0  \\\n",
       "\n",
       "                                                                                                                                                                                                                                                                                                                                                                                                                                                                                            aggregate_target_sentiment   \n",
       "0  [(Decentralized Machine Learning, ORG, 0.0, 11), (US, GPE, 0.0, 4), (Hong Kong, GPE, 0.0, 2), (NRG, ORG, 0.0, 2), (IMG, ORG, 0.0, 2), (Flagstar Bancorp, ORG, 0.0, 2), (IDEX, ORG, 0.0, 2), (Mistake Foxconn Launches Investigation After Reports Of Harsh Working Conditions, ORG, -0.2, 2), (Stellar XLM, ORG, 0.25, 1), (Decentralized Machine Learning Reaches Market Cap, ORG, 0.0, 1), (Wells Fargo, ORG, 0.0, 1), (Monster Beverage Corp NASDAQ, ORG, 0.0, 1), (GE, ORG, 0.0, 1), (IPO, ORG, 0.0, 1), (De...  \\\n",
       "\n",
       "  sentiment_label   \n",
       "0         neutral  \\\n",
       "\n",
       "                                                                                                                 url   \n",
       "0  https://theenterpriseleader.com/2020/01/01/decentralized-machine-learning-reaches-market-cap-of-15919-00-dml.html  \\\n",
       "\n",
       "   avg_agg_sentiment  sentiment_value_weighted  \n",
       "0          -0.005172                 -0.003621  "
      ]
     },
     "execution_count": 10,
     "metadata": {},
     "output_type": "execute_result"
    }
   ],
   "source": [
    "df.head(1)"
   ]
  },
  {
   "cell_type": "code",
   "execution_count": 11,
   "metadata": {},
   "outputs": [
    {
     "data": {
      "text/html": [
       "<div>\n",
       "<style scoped>\n",
       "    .dataframe tbody tr th:only-of-type {\n",
       "        vertical-align: middle;\n",
       "    }\n",
       "\n",
       "    .dataframe tbody tr th {\n",
       "        vertical-align: top;\n",
       "    }\n",
       "\n",
       "    .dataframe thead th {\n",
       "        text-align: right;\n",
       "    }\n",
       "</style>\n",
       "<table border=\"1\" class=\"dataframe\">\n",
       "  <thead>\n",
       "    <tr style=\"text-align: right;\">\n",
       "      <th></th>\n",
       "      <th>url</th>\n",
       "      <th>date</th>\n",
       "      <th>article_id</th>\n",
       "      <th>title</th>\n",
       "      <th>text_cleaned</th>\n",
       "      <th>aggregate_target_sentiment</th>\n",
       "      <th>sentiment_value_weighted</th>\n",
       "    </tr>\n",
       "  </thead>\n",
       "  <tbody>\n",
       "    <tr>\n",
       "      <th>0</th>\n",
       "      <td>https://theenterpriseleader.com/2020/01/01/decentralized-machine-learning-reaches-market-cap-of-15919-00-dml.html</td>\n",
       "      <td>2020-01-01</td>\n",
       "      <td>1</td>\n",
       "      <td>Decentralized Machine Learning Reaches Market Cap of $15,919.00 (DML) - Enterprise Leader</td>\n",
       "      <td>Decentralized Machine Learning Reaches Market Cap of 15,919.00 DML Enterprise Leader Daily Ratings News for Decentralized Machine Learning Complete the form below to receive the latest headlines and analysts' mendations for Decentralized Machine Learning with our free daily email newsletter: Follow EnterpriseLeade Recent Posts GE Announces Its Plan To Sell The Distributed Power Business To Advent International Ebang Communication Resorts To The Filing Of An IPO In Hong Kong How to Open DAA, ...</td>\n",
       "      <td>[(Decentralized Machine Learning, ORG, 0.0, 11), (US, GPE, 0.0, 4), (Hong Kong, GPE, 0.0, 2), (NRG, ORG, 0.0, 2), (IMG, ORG, 0.0, 2), (Flagstar Bancorp, ORG, 0.0, 2), (IDEX, ORG, 0.0, 2), (Mistake Foxconn Launches Investigation After Reports Of Harsh Working Conditions, ORG, -0.2, 2), (Stellar XLM, ORG, 0.25, 1), (Decentralized Machine Learning Reaches Market Cap, ORG, 0.0, 1), (Wells Fargo, ORG, 0.0, 1), (Monster Beverage Corp NASDAQ, ORG, 0.0, 1), (GE, ORG, 0.0, 1), (IPO, ORG, 0.0, 1), (De...</td>\n",
       "      <td>-0.003621</td>\n",
       "    </tr>\n",
       "  </tbody>\n",
       "</table>\n",
       "</div>"
      ],
      "text/plain": [
       "                                                                                                                 url   \n",
       "0  https://theenterpriseleader.com/2020/01/01/decentralized-machine-learning-reaches-market-cap-of-15919-00-dml.html  \\\n",
       "\n",
       "        date  article_id   \n",
       "0 2020-01-01           1  \\\n",
       "\n",
       "                                                                                       title   \n",
       "0  Decentralized Machine Learning Reaches Market Cap of $15,919.00 (DML) - Enterprise Leader  \\\n",
       "\n",
       "                                                                                                                                                                                                                                                                                                                                                                                                                                                                                                          text_cleaned   \n",
       "0  Decentralized Machine Learning Reaches Market Cap of 15,919.00 DML Enterprise Leader Daily Ratings News for Decentralized Machine Learning Complete the form below to receive the latest headlines and analysts' mendations for Decentralized Machine Learning with our free daily email newsletter: Follow EnterpriseLeade Recent Posts GE Announces Its Plan To Sell The Distributed Power Business To Advent International Ebang Communication Resorts To The Filing Of An IPO In Hong Kong How to Open DAA, ...  \\\n",
       "\n",
       "                                                                                                                                                                                                                                                                                                                                                                                                                                                                                            aggregate_target_sentiment   \n",
       "0  [(Decentralized Machine Learning, ORG, 0.0, 11), (US, GPE, 0.0, 4), (Hong Kong, GPE, 0.0, 2), (NRG, ORG, 0.0, 2), (IMG, ORG, 0.0, 2), (Flagstar Bancorp, ORG, 0.0, 2), (IDEX, ORG, 0.0, 2), (Mistake Foxconn Launches Investigation After Reports Of Harsh Working Conditions, ORG, -0.2, 2), (Stellar XLM, ORG, 0.25, 1), (Decentralized Machine Learning Reaches Market Cap, ORG, 0.0, 1), (Wells Fargo, ORG, 0.0, 1), (Monster Beverage Corp NASDAQ, ORG, 0.0, 1), (GE, ORG, 0.0, 1), (IPO, ORG, 0.0, 1), (De...  \\\n",
       "\n",
       "   sentiment_value_weighted  \n",
       "0                 -0.003621  "
      ]
     },
     "execution_count": 11,
     "metadata": {},
     "output_type": "execute_result"
    }
   ],
   "source": [
    "df_save = df[['url', 'date', 'article_id', 'title', 'text_cleaned', 'aggregate_target_sentiment', 'sentiment_value_weighted']]\n",
    "df_save.head(1)"
   ]
  },
  {
   "cell_type": "code",
   "execution_count": 12,
   "metadata": {},
   "outputs": [
    {
     "data": {
      "text/plain": [
       "(131713, 7)"
      ]
     },
     "execution_count": 12,
     "metadata": {},
     "output_type": "execute_result"
    }
   ],
   "source": [
    "df_save.shape"
   ]
  },
  {
   "cell_type": "code",
   "execution_count": 13,
   "metadata": {},
   "outputs": [],
   "source": [
    "# save a checkpoint\n",
    "# Assuming `df` is your DataFrame and `col` is the column with the complex datatype\n",
    "df_save['aggregate_target_sentiment'] = df_save['aggregate_target_sentiment'].apply(pickle.dumps)\n",
    "\n",
    "# Then you can save the DataFrame as parquet\n",
    "bucket_write = path_bucket + '/' + 'checkpoint_0526_main_weighted_sent.parquet'\n",
    "df_save.to_parquet(bucket_write, engine='pyarrow')"
   ]
  },
  {
   "attachments": {},
   "cell_type": "markdown",
   "metadata": {},
   "source": [
    "## Industry"
   ]
  },
  {
   "cell_type": "code",
   "execution_count": null,
   "metadata": {},
   "outputs": [],
   "source": []
  }
 ],
 "metadata": {
  "kernelspec": {
   "display_name": "nlp",
   "language": "python",
   "name": "python3"
  },
  "language_info": {
   "codemirror_mode": {
    "name": "ipython",
    "version": 3
   },
   "file_extension": ".py",
   "mimetype": "text/x-python",
   "name": "python",
   "nbconvert_exporter": "python",
   "pygments_lexer": "ipython3",
   "version": "3.10.0"
  },
  "orig_nbformat": 4
 },
 "nbformat": 4,
 "nbformat_minor": 2
}
