{
 "cells": [
  {
   "attachments": {},
   "cell_type": "markdown",
   "metadata": {},
   "source": [
    "## Set-up"
   ]
  },
  {
   "cell_type": "code",
   "execution_count": 1,
   "metadata": {},
   "outputs": [
    {
     "name": "stdout",
     "output_type": "stream",
     "text": [
      "INFO: Pandarallel will run on 8 workers.\n",
      "INFO: Pandarallel will use Memory file system to transfer data between the main process and workers.\n"
     ]
    }
   ],
   "source": [
    "import pandas as pd\n",
    "\n",
    "import warnings\n",
    "warnings.filterwarnings(\"ignore\")\n",
    "\n",
    "from pprint import pprint\n",
    "import re\n",
    "from tqdm import tqdm\n",
    "tqdm.pandas()\n",
    "import numpy as np\n",
    "\n",
    "from pandarallel import pandarallel\n",
    "pandarallel.initialize(progress_bar=True)"
   ]
  },
  {
   "cell_type": "code",
   "execution_count": 2,
   "metadata": {},
   "outputs": [
    {
     "name": "stdout",
     "output_type": "stream",
     "text": [
      "/home/jupyter/data/nlp_final\n"
     ]
    }
   ],
   "source": [
    "#!pwd\n",
    "import os\n",
    "\n",
    "# Google Bucket\n",
    "# file name checkpoint_0512_sent_split.parquet\n",
    "path_bucket = 'gs://msca-sp23-bucket/nlp_data'\n",
    "path_bucket_df_cleaned = path_bucket + '/' + 'df_cleaned_0514.parquet'\n",
    "runtime_path = '/home/jupyter/data/nlp_final'\n",
    "\n",
    "os.chdir(runtime_path)\n",
    "print(os.getcwd())"
   ]
  },
  {
   "cell_type": "code",
   "execution_count": 3,
   "metadata": {},
   "outputs": [],
   "source": [
    "import pandas as pd\n",
    "pd.set_option('display.max_rows', 100)\n",
    "pd.set_option('display.max_columns', None)\n",
    "pd.set_option('display.max_colwidth', 500)\n",
    "\n",
    "import warnings\n",
    "warnings.filterwarnings(\"ignore\")"
   ]
  },
  {
   "cell_type": "code",
   "execution_count": 4,
   "metadata": {},
   "outputs": [],
   "source": [
    "import gensim\n",
    "from gensim import corpora, models\n",
    "from gensim.models.ldamulticore import LdaMulticore\n",
    "from gensim.utils import simple_preprocess\n",
    "from gensim.models import CoherenceModel\n",
    "\n",
    "import pyLDAvis\n",
    "import pyLDAvis.gensim_models as gensimvis\n",
    "pyLDAvis.enable_notebook()"
   ]
  },
  {
   "cell_type": "code",
   "execution_count": 5,
   "metadata": {},
   "outputs": [],
   "source": [
    "import nltk as nltk\n",
    "from nltk.corpus import stopwords\n",
    "\n",
    "import multiprocessing"
   ]
  },
  {
   "cell_type": "code",
   "execution_count": 6,
   "metadata": {},
   "outputs": [
    {
     "name": "stdout",
     "output_type": "stream",
     "text": [
      "Collecting en-core-web-md==3.5.0\n",
      "  Downloading https://github.com/explosion/spacy-models/releases/download/en_core_web_md-3.5.0/en_core_web_md-3.5.0-py3-none-any.whl (42.8 MB)\n",
      "\u001b[2K     ━━━━━━━━━━━━━━━━━━━━━━━━━━━━━━━━━━━━━━━━ 42.8/42.8 MB 30.6 MB/s eta 0:00:00\n",
      "\u001b[?25hRequirement already satisfied: spacy<3.6.0,>=3.5.0 in /opt/conda/envs/nlp/lib/python3.10/site-packages (from en-core-web-md==3.5.0) (3.5.2)\n",
      "Requirement already satisfied: spacy-legacy<3.1.0,>=3.0.11 in /opt/conda/envs/nlp/lib/python3.10/site-packages (from spacy<3.6.0,>=3.5.0->en-core-web-md==3.5.0) (3.0.12)\n",
      "Requirement already satisfied: spacy-loggers<2.0.0,>=1.0.0 in /opt/conda/envs/nlp/lib/python3.10/site-packages (from spacy<3.6.0,>=3.5.0->en-core-web-md==3.5.0) (1.0.4)\n",
      "Requirement already satisfied: murmurhash<1.1.0,>=0.28.0 in /opt/conda/envs/nlp/lib/python3.10/site-packages (from spacy<3.6.0,>=3.5.0->en-core-web-md==3.5.0) (1.0.9)\n",
      "Requirement already satisfied: cymem<2.1.0,>=2.0.2 in /opt/conda/envs/nlp/lib/python3.10/site-packages (from spacy<3.6.0,>=3.5.0->en-core-web-md==3.5.0) (2.0.7)\n",
      "Requirement already satisfied: preshed<3.1.0,>=3.0.2 in /opt/conda/envs/nlp/lib/python3.10/site-packages (from spacy<3.6.0,>=3.5.0->en-core-web-md==3.5.0) (3.0.8)\n",
      "Requirement already satisfied: thinc<8.2.0,>=8.1.8 in /opt/conda/envs/nlp/lib/python3.10/site-packages (from spacy<3.6.0,>=3.5.0->en-core-web-md==3.5.0) (8.1.10)\n",
      "Requirement already satisfied: wasabi<1.2.0,>=0.9.1 in /opt/conda/envs/nlp/lib/python3.10/site-packages (from spacy<3.6.0,>=3.5.0->en-core-web-md==3.5.0) (1.1.1)\n",
      "Requirement already satisfied: srsly<3.0.0,>=2.4.3 in /opt/conda/envs/nlp/lib/python3.10/site-packages (from spacy<3.6.0,>=3.5.0->en-core-web-md==3.5.0) (2.4.6)\n",
      "Requirement already satisfied: catalogue<2.1.0,>=2.0.6 in /opt/conda/envs/nlp/lib/python3.10/site-packages (from spacy<3.6.0,>=3.5.0->en-core-web-md==3.5.0) (2.0.8)\n",
      "Requirement already satisfied: typer<0.8.0,>=0.3.0 in /opt/conda/envs/nlp/lib/python3.10/site-packages (from spacy<3.6.0,>=3.5.0->en-core-web-md==3.5.0) (0.7.0)\n",
      "Requirement already satisfied: pathy>=0.10.0 in /opt/conda/envs/nlp/lib/python3.10/site-packages (from spacy<3.6.0,>=3.5.0->en-core-web-md==3.5.0) (0.10.1)\n",
      "Requirement already satisfied: smart-open<7.0.0,>=5.2.1 in /opt/conda/envs/nlp/lib/python3.10/site-packages (from spacy<3.6.0,>=3.5.0->en-core-web-md==3.5.0) (5.2.1)\n",
      "Requirement already satisfied: tqdm<5.0.0,>=4.38.0 in /opt/conda/envs/nlp/lib/python3.10/site-packages (from spacy<3.6.0,>=3.5.0->en-core-web-md==3.5.0) (4.65.0)\n",
      "Requirement already satisfied: numpy>=1.15.0 in /opt/conda/envs/nlp/lib/python3.10/site-packages (from spacy<3.6.0,>=3.5.0->en-core-web-md==3.5.0) (1.24.3)\n",
      "Requirement already satisfied: requests<3.0.0,>=2.13.0 in /opt/conda/envs/nlp/lib/python3.10/site-packages (from spacy<3.6.0,>=3.5.0->en-core-web-md==3.5.0) (2.29.0)\n",
      "Requirement already satisfied: pydantic!=1.8,!=1.8.1,<1.11.0,>=1.7.4 in /opt/conda/envs/nlp/lib/python3.10/site-packages (from spacy<3.6.0,>=3.5.0->en-core-web-md==3.5.0) (1.10.7)\n",
      "Requirement already satisfied: jinja2 in /opt/conda/envs/nlp/lib/python3.10/site-packages (from spacy<3.6.0,>=3.5.0->en-core-web-md==3.5.0) (3.1.2)\n",
      "Requirement already satisfied: setuptools in /opt/conda/envs/nlp/lib/python3.10/site-packages (from spacy<3.6.0,>=3.5.0->en-core-web-md==3.5.0) (67.7.2)\n",
      "Requirement already satisfied: packaging>=20.0 in /opt/conda/envs/nlp/lib/python3.10/site-packages (from spacy<3.6.0,>=3.5.0->en-core-web-md==3.5.0) (23.1)\n",
      "Requirement already satisfied: langcodes<4.0.0,>=3.2.0 in /opt/conda/envs/nlp/lib/python3.10/site-packages (from spacy<3.6.0,>=3.5.0->en-core-web-md==3.5.0) (3.3.0)\n",
      "Requirement already satisfied: typing-extensions>=4.2.0 in /opt/conda/envs/nlp/lib/python3.10/site-packages (from pydantic!=1.8,!=1.8.1,<1.11.0,>=1.7.4->spacy<3.6.0,>=3.5.0->en-core-web-md==3.5.0) (4.5.0)\n",
      "Requirement already satisfied: charset-normalizer<4,>=2 in /opt/conda/envs/nlp/lib/python3.10/site-packages (from requests<3.0.0,>=2.13.0->spacy<3.6.0,>=3.5.0->en-core-web-md==3.5.0) (3.1.0)\n",
      "Requirement already satisfied: idna<4,>=2.5 in /opt/conda/envs/nlp/lib/python3.10/site-packages (from requests<3.0.0,>=2.13.0->spacy<3.6.0,>=3.5.0->en-core-web-md==3.5.0) (3.4)\n",
      "Requirement already satisfied: urllib3<1.27,>=1.21.1 in /opt/conda/envs/nlp/lib/python3.10/site-packages (from requests<3.0.0,>=2.13.0->spacy<3.6.0,>=3.5.0->en-core-web-md==3.5.0) (1.26.15)\n",
      "Requirement already satisfied: certifi>=2017.4.17 in /opt/conda/envs/nlp/lib/python3.10/site-packages (from requests<3.0.0,>=2.13.0->spacy<3.6.0,>=3.5.0->en-core-web-md==3.5.0) (2023.5.7)\n",
      "Requirement already satisfied: blis<0.8.0,>=0.7.8 in /opt/conda/envs/nlp/lib/python3.10/site-packages (from thinc<8.2.0,>=8.1.8->spacy<3.6.0,>=3.5.0->en-core-web-md==3.5.0) (0.7.9)\n",
      "Requirement already satisfied: confection<1.0.0,>=0.0.1 in /opt/conda/envs/nlp/lib/python3.10/site-packages (from thinc<8.2.0,>=8.1.8->spacy<3.6.0,>=3.5.0->en-core-web-md==3.5.0) (0.0.4)\n",
      "Requirement already satisfied: click<9.0.0,>=7.1.1 in /opt/conda/envs/nlp/lib/python3.10/site-packages (from typer<0.8.0,>=0.3.0->spacy<3.6.0,>=3.5.0->en-core-web-md==3.5.0) (8.1.3)\n",
      "Requirement already satisfied: MarkupSafe>=2.0 in /opt/conda/envs/nlp/lib/python3.10/site-packages (from jinja2->spacy<3.6.0,>=3.5.0->en-core-web-md==3.5.0) (2.1.2)\n",
      "\u001b[38;5;2m✔ Download and installation successful\u001b[0m\n",
      "You can now load the package via spacy.load('en_core_web_md')\n"
     ]
    }
   ],
   "source": [
    "import spacy\n",
    "import spacy.cli\n",
    "spacy.cli.download(\"en_core_web_md\")\n",
    "nlp = spacy.load(\"en_core_web_md\")"
   ]
  },
  {
   "cell_type": "code",
   "execution_count": 7,
   "metadata": {},
   "outputs": [
    {
     "name": "stderr",
     "output_type": "stream",
     "text": [
      "[nltk_data] Downloading package punkt to /home/anthony/nltk_data...\n",
      "[nltk_data]   Package punkt is already up-to-date!\n",
      "[nltk_data] Downloading package averaged_perceptron_tagger to\n",
      "[nltk_data]     /home/anthony/nltk_data...\n",
      "[nltk_data]   Package averaged_perceptron_tagger is already up-to-\n",
      "[nltk_data]       date!\n",
      "[nltk_data] Downloading package maxent_ne_chunker to\n",
      "[nltk_data]     /home/anthony/nltk_data...\n",
      "[nltk_data]   Package maxent_ne_chunker is already up-to-date!\n",
      "[nltk_data] Downloading package words to /home/anthony/nltk_data...\n",
      "[nltk_data]   Package words is already up-to-date!\n",
      "[nltk_data] Downloading package stopwords to\n",
      "[nltk_data]     /home/anthony/nltk_data...\n",
      "[nltk_data]   Package stopwords is already up-to-date!\n"
     ]
    },
    {
     "data": {
      "text/plain": [
       "True"
      ]
     },
     "execution_count": 7,
     "metadata": {},
     "output_type": "execute_result"
    }
   ],
   "source": [
    "nltk.download('punkt')\n",
    "nltk.download('averaged_perceptron_tagger')\n",
    "nltk.download('maxent_ne_chunker')\n",
    "nltk.download('words')\n",
    "nltk.download('stopwords')"
   ]
  },
  {
   "cell_type": "code",
   "execution_count": 8,
   "metadata": {},
   "outputs": [
    {
     "name": "stdout",
     "output_type": "stream",
     "text": [
      "(50000, 5)\n"
     ]
    },
    {
     "data": {
      "text/html": [
       "<div>\n",
       "<style scoped>\n",
       "    .dataframe tbody tr th:only-of-type {\n",
       "        vertical-align: middle;\n",
       "    }\n",
       "\n",
       "    .dataframe tbody tr th {\n",
       "        vertical-align: top;\n",
       "    }\n",
       "\n",
       "    .dataframe thead th {\n",
       "        text-align: right;\n",
       "    }\n",
       "</style>\n",
       "<table border=\"1\" class=\"dataframe\">\n",
       "  <thead>\n",
       "    <tr style=\"text-align: right;\">\n",
       "      <th></th>\n",
       "      <th>url</th>\n",
       "      <th>date</th>\n",
       "      <th>title</th>\n",
       "      <th>text_split</th>\n",
       "      <th>text</th>\n",
       "    </tr>\n",
       "  </thead>\n",
       "  <tbody>\n",
       "    <tr>\n",
       "      <th>158935</th>\n",
       "      <td>https://cio.economictimes.indiatimes.com/news/business-analytics/anil-kumar-aays-analytics-on-how-large-enterprises-are-democratising-data-science-ml-in-the-corporate-finance-space/96214109</td>\n",
       "      <td>2022-12-14</td>\n",
       "      <td>Anil Kumar, Aays Analytics on how large enterprises are democratising data science, ML in the corporate finance space, CIO News, ET CIO</td>\n",
       "      <td>[Accept the updated privacy   cookie policy Dear user, ET CIO privacy and cookie policy has been updated to align with the new data regulations in European Union. Please review and accept these changes below to continue using the website.You can see our privacy policy   our cookie policy. We use cookies to ensure the best experience for you on our website.If you choose to ignore this message, we'll assume that you are happy to receive all cookies on ET CIO. AnalyticsNecessaryNewsletter  Name...</td>\n",
       "      <td>Accept the updated privacy   cookie policy Dear user, ET CIO privacy and cookie policy has been updated to align with the new data regulations in European Union. Please review and accept these changes below to continue using the website.You can see our privacy policy   our cookie policy. We use cookies to ensure the best experience for you on our website.If you choose to ignore this message, we'll assume that you are happy to receive all cookies on ET CIO. AnalyticsNecessaryNewsletter  NameP...</td>\n",
       "    </tr>\n",
       "  </tbody>\n",
       "</table>\n",
       "</div>"
      ],
      "text/plain": [
       "                                                                                                                                                                                                  url   \n",
       "158935  https://cio.economictimes.indiatimes.com/news/business-analytics/anil-kumar-aays-analytics-on-how-large-enterprises-are-democratising-data-science-ml-in-the-corporate-finance-space/96214109  \\\n",
       "\n",
       "              date   \n",
       "158935  2022-12-14  \\\n",
       "\n",
       "                                                                                                                                               title   \n",
       "158935       Anil Kumar, Aays Analytics on how large enterprises are democratising data science, ML in the corporate finance space, CIO News, ET CIO  \\\n",
       "\n",
       "                                                                                                                                                                                                                                                                                                                                                                                                                                                                                                                 text_split   \n",
       "158935  [Accept the updated privacy   cookie policy Dear user, ET CIO privacy and cookie policy has been updated to align with the new data regulations in European Union. Please review and accept these changes below to continue using the website.You can see our privacy policy   our cookie policy. We use cookies to ensure the best experience for you on our website.If you choose to ignore this message, we'll assume that you are happy to receive all cookies on ET CIO. AnalyticsNecessaryNewsletter  Name...  \\\n",
       "\n",
       "                                                                                                                                                                                                                                                                                                                                                                                                                                                                                                                       text  \n",
       "158935  Accept the updated privacy   cookie policy Dear user, ET CIO privacy and cookie policy has been updated to align with the new data regulations in European Union. Please review and accept these changes below to continue using the website.You can see our privacy policy   our cookie policy. We use cookies to ensure the best experience for you on our website.If you choose to ignore this message, we'll assume that you are happy to receive all cookies on ET CIO. AnalyticsNecessaryNewsletter  NameP...  "
      ]
     },
     "execution_count": 8,
     "metadata": {},
     "output_type": "execute_result"
    }
   ],
   "source": [
    "# read data\n",
    "df_raw = pd.read_parquet(path_bucket_df_cleaned, engine='pyarrow')\n",
    "\n",
    "# take a sample\n",
    "df = df_raw.sample(150000, random_state=42)\n",
    "print(df.shape)\n",
    "df.head(1)"
   ]
  },
  {
   "attachments": {},
   "cell_type": "markdown",
   "metadata": {},
   "source": [
    "## LDA, on overall topics"
   ]
  },
  {
   "attachments": {},
   "cell_type": "markdown",
   "metadata": {},
   "source": [
    "### Text Prep\n",
    "\n",
    "I want to utilize parallelization as much as possile to save time"
   ]
  },
  {
   "attachments": {},
   "cell_type": "markdown",
   "metadata": {},
   "source": [
    "Helper Functions"
   ]
  },
  {
   "cell_type": "code",
   "execution_count": 9,
   "metadata": {},
   "outputs": [
    {
     "name": "stdout",
     "output_type": "stream",
     "text": [
      "CPU times: user 2.49 ms, sys: 0 ns, total: 2.49 ms\n",
      "Wall time: 1.64 ms\n"
     ]
    }
   ],
   "source": [
    "%%time\n",
    "\n",
    "def sent_to_words(sentences):\n",
    "    for sentence in sentences:\n",
    "        yield(gensim.utils.simple_preprocess(str(sentence), deacc=True))\n",
    "\n",
    "# Define functions for stopwords, bigrams, trigrams and lemmatization\n",
    "stop_words = stopwords.words('english')\n",
    "def remove_stopwords(texts):\n",
    "    return [[word for word in simple_preprocess(str(doc)) if word not in stop_words] for doc in texts]\n",
    "\n",
    "def make_bigrams(texts):\n",
    "    return [bigram_mod[doc] for doc in texts]\n",
    "\n",
    "def make_trigrams(texts):\n",
    "    return [trigram_mod[bigram_mod[doc]] for doc in texts]\n",
    "\n",
    "def lemmatization(texts, allowed_postags=['NOUN', 'ADJ', 'VERB', 'ADV']):\n",
    "    \"\"\"https://spacy.io/api/annotation\"\"\"\n",
    "    texts_out = []\n",
    "    for sent in texts:\n",
    "        doc = nlp(\" \".join(sent)) \n",
    "        texts_out.append([token.lemma_ for token in doc if token.pos_ in allowed_postags])\n",
    "    return texts_out"
   ]
  },
  {
   "cell_type": "code",
   "execution_count": 10,
   "metadata": {},
   "outputs": [
    {
     "data": {
      "application/vnd.jupyter.widget-view+json": {
       "model_id": "6f5bfcb9f4024fda80aa844c157f92c3",
       "version_major": 2,
       "version_minor": 0
      },
      "text/plain": [
       "VBox(children=(HBox(children=(IntProgress(value=0, description='0.00%', max=6250), Label(value='0 / 6250'))), …"
      ]
     },
     "metadata": {},
     "output_type": "display_data"
    }
   ],
   "source": [
    "# select the text\n",
    "df_text = df[['text']]\n",
    "#df_title = df['title']\n",
    "\n",
    "# remove punctuation and numbers using parallel_apply\n",
    "df_text['text_cleaned'] = df_text['text'].parallel_apply(lambda x: re.sub('[^A-Za-z]+', ' ', x))\n",
    "#df_title['title_cleaned'] = df_title.parallel_apply(lambda x: re.sub('[^A-Za-z]+', ' ', x))"
   ]
  },
  {
   "cell_type": "code",
   "execution_count": 11,
   "metadata": {},
   "outputs": [
    {
     "name": "stdout",
     "output_type": "stream",
     "text": [
      "<class 'pandas.core.frame.DataFrame'>\n",
      "Index: 49865 entries, 158935 to 90694\n",
      "Data columns (total 2 columns):\n",
      " #   Column        Non-Null Count  Dtype \n",
      "---  ------        --------------  ----- \n",
      " 0   text          49865 non-null  object\n",
      " 1   text_cleaned  49865 non-null  object\n",
      "dtypes: object(2)\n",
      "memory usage: 1.1+ MB\n"
     ]
    }
   ],
   "source": [
    "# drop na and duplicates\n",
    "df_text = df_text.dropna().drop_duplicates()\n",
    "# convert to str type\n",
    "df_text['text_cleaned'] = df_text['text_cleaned'].astype(str)\n",
    "df_text.info()"
   ]
  },
  {
   "cell_type": "code",
   "execution_count": 12,
   "metadata": {},
   "outputs": [
    {
     "data": {
      "application/vnd.jupyter.widget-view+json": {
       "model_id": "bd1ffa0035d741119c1996aed11bec40",
       "version_major": 2,
       "version_minor": 0
      },
      "text/plain": [
       "VBox(children=(HBox(children=(IntProgress(value=0, description='0.00%', max=6234), Label(value='0 / 6234'))), …"
      ]
     },
     "metadata": {},
     "output_type": "display_data"
    }
   ],
   "source": [
    "# save a copy\n",
    "df_text_before = df_text.copy()\n",
    "\n",
    "# define a function to handle errors\n",
    "def handle_errors(func):\n",
    "    def wrapper(x):\n",
    "        try:\n",
    "            return func(x)\n",
    "        except Exception as e:\n",
    "            print(f\"Error processing row: {x}\")\n",
    "            return np.nan\n",
    "    return wrapper\n",
    "\n",
    "# define the remove_stopwords function with the handle_errors decorator\n",
    "@handle_errors\n",
    "def remove_stopwords(row): \n",
    "    return [i for i in simple_preprocess(row) if i not in stopwords.words('english')]\n",
    "\n",
    "# apply remove_stopwords function with try/except\n",
    "df_text['text_cleaned'] = df_text['text_cleaned'].parallel_apply(remove_stopwords)"
   ]
  },
  {
   "cell_type": "code",
   "execution_count": 13,
   "metadata": {},
   "outputs": [
    {
     "data": {
      "text/html": [
       "<div>\n",
       "<style scoped>\n",
       "    .dataframe tbody tr th:only-of-type {\n",
       "        vertical-align: middle;\n",
       "    }\n",
       "\n",
       "    .dataframe tbody tr th {\n",
       "        vertical-align: top;\n",
       "    }\n",
       "\n",
       "    .dataframe thead th {\n",
       "        text-align: right;\n",
       "    }\n",
       "</style>\n",
       "<table border=\"1\" class=\"dataframe\">\n",
       "  <thead>\n",
       "    <tr style=\"text-align: right;\">\n",
       "      <th></th>\n",
       "      <th>text</th>\n",
       "      <th>text_cleaned</th>\n",
       "    </tr>\n",
       "  </thead>\n",
       "  <tbody>\n",
       "    <tr>\n",
       "      <th>158935</th>\n",
       "      <td>Accept the updated privacy   cookie policy Dear user, ET CIO privacy and cookie policy has been updated to align with the new data regulations in European Union. Please review and accept these changes below to continue using the website.You can see our privacy policy   our cookie policy. We use cookies to ensure the best experience for you on our website.If you choose to ignore this message, we'll assume that you are happy to receive all cookies on ET CIO. AnalyticsNecessaryNewsletter  NameP...</td>\n",
       "      <td>[accept, updated, privacy, cookie, policy, dear, user, et, cio, privacy, cookie, policy, updated, align, new, data, regulations, european, union, please, review, accept, changes, continue, using, website, see, privacy, policy, cookie, policy, use, cookies, ensure, best, experience, website, choose, ignore, message, assume, happy, receive, cookies, et, cio, google, analyticsgoogle, yearhttpsto, track, visitors, site, origin, behaviour, ibeat, analyticsibeat, yearhttpsto, track, article, yearh...</td>\n",
       "    </tr>\n",
       "    <tr>\n",
       "      <th>77297</th>\n",
       "      <td>Skip to contentWeatherCOVID 19 CoverageWho's HiringLivestreamElection PodcastHomeElection ResultsNewsAPContestsNationalWildlife WatchWCAX News Livestream WeatherClosingsRadarSki   Board ReportWeather CamsWCAX Weather AppWeather FAQWeather FeaturesAstronomySportsCommunity CalendarContact UsMeet the TeamAdvertise With UsCommunity PartnersGot a Story Idea?Order Channel 3 News StoriesWCAX JobsPaid InternshipsStream News Live and On DemandNewsletterECHO, Leahy Center for Lake ChamplainJumpOnITVid...</td>\n",
       "      <td>[skip, coveragewho, watchwcax, news, livestream, board, reportweather, camswcax, weather, appweather, faqweather, calendarcontact, usmeet, teamadvertise, uscommunity, partnersgot, story, idea, order, channel, news, storieswcax, jobspaid, news, live, leahy, center, lake, resultscovid, mapfoodbankshow, watch, listingssubmit, photos, videoscircle, country, music, lifestylegray, dc, fencebuy, vermont, firstmade, vermontbusiness, breaksuper, seniorsyou, quote, melatest, newscastspress, releases, ...</td>\n",
       "    </tr>\n",
       "    <tr>\n",
       "      <th>99045</th>\n",
       "      <td>Nvidia puts AI at center of latest GeForce graphics card upgrade   The Seattle Times   Traffic Lab Law   Justice Local Politics Education Education Lab Eastside Environment Health Data Mental Health Project Homeless Times Watchdog Boeing   Aerospace Amazon Microsoft Technology Real Estate Economy Artificial Intelligence Seahawks Mariners Huskies Cougars Storm Sounders Kraken Reign High School Sports On TV/Radio Movies Books Music Theater Classical Music TV/Streaming Comics Games   Puzzles H...</td>\n",
       "      <td>[nvidia, puts, ai, center, latest, geforce, graphics, card, upgrade, seattle, times, traffic, lab, law, justice, local, politics, education, education, lab, eastside, environment, health, data, mental, health, project, homeless, times, watchdog, boeing, aerospace, amazon, microsoft, technology, real, estate, economy, artificial, intelligence, seahawks, mariners, huskies, cougars, storm, sounders, kraken, reign, high, school, sports, tv, radio, movies, books, music, theater, classical, music,...</td>\n",
       "    </tr>\n",
       "    <tr>\n",
       "      <th>79651</th>\n",
       "      <td>BusinessTechnologyWorldNationalPoliticsMedia   CultureOpinionSportsSocial CapitalCryptoListings   MoreSpotlightGlossaryEditionsAustralia EditionIndia EditionInternational EditionSingapore EditionUnited KingdomUnited StatesNEWSLETTERFollow Us KEY POINTSThe beta version of SK  's \"A.\"   pronounced \"A dot\"   was launched in South Korea in May 2022A. is reportedly based on generative AI just like ChatGPTSKT will reportedly integrate various services it owns into the chatbotSouth Korea's SK   is ...</td>\n",
       "      <td>[editionindia, editionunited, kingdomunited, us, key, pointsthe, beta, version, sk, pronounced, dot, launched, south, korea, may, reportedly, based, generative, ai, like, chatgptskt, reportedly, integrate, various, services, owns, chatbotsouth, korea, sk, planning, year, fully, launch, artificial, intelligence, chatbot, executive, pany, said, offer, lot, booming, chatgpt, mobile, world, congress, barcelona, spain, skt, vice, president, eric, davis, told, cnbc, pany, launched, beta, version, ...</td>\n",
       "    </tr>\n",
       "    <tr>\n",
       "      <th>4568</th>\n",
       "      <td>Skip to contentAsk the ExpertContestsDay Trippin'Healthcare TodayHeroes Among UsThe ShoppesProud to be a FarmerWatch LiveNewsWeatherSportsLocker Room Report2022 ElectionsLatest VideoCoronavirusContact UsHomeWatch WALB LiveWALB on RokuNewsBinge It!Civil Rights LegacyCrimeEducationEditorialsHealthGood NewsMultimediaInvestigateNationalPoliticsStateSweet Tea   History PodcastWeatherFirst View 10 CamerasHurricane CoverageClosingsRadarCoronavirusFind out where the COVID 19 vaccine is available in ...</td>\n",
       "      <td>[skip, contentask, trippin, healthcare, todayheroes, among, usthe, shoppesproud, farmerwatch, room, report, electionslatest, ushomewatch, walb, livewalb, rokunewsbinge, civil, rights, tea, history, view, covid, vaccine, available, areaarea, hospitals, daily, covid, numbersphoebe, covid, numbers, sportsfish, game, forecasthigh, school, sportssports, talklocker, room, reportlocker, room, report, weekplayer, weekgame, weekteam, weekcoach, week, electionslatest, videostuff, educatorsask, expertc...</td>\n",
       "    </tr>\n",
       "  </tbody>\n",
       "</table>\n",
       "</div>"
      ],
      "text/plain": [
       "                                                                                                                                                                                                                                                                                                                                                                                                                                                                                                                       text   \n",
       "158935  Accept the updated privacy   cookie policy Dear user, ET CIO privacy and cookie policy has been updated to align with the new data regulations in European Union. Please review and accept these changes below to continue using the website.You can see our privacy policy   our cookie policy. We use cookies to ensure the best experience for you on our website.If you choose to ignore this message, we'll assume that you are happy to receive all cookies on ET CIO. AnalyticsNecessaryNewsletter  NameP...  \\\n",
       "77297   Skip to contentWeatherCOVID 19 CoverageWho's HiringLivestreamElection PodcastHomeElection ResultsNewsAPContestsNationalWildlife WatchWCAX News Livestream WeatherClosingsRadarSki   Board ReportWeather CamsWCAX Weather AppWeather FAQWeather FeaturesAstronomySportsCommunity CalendarContact UsMeet the TeamAdvertise With UsCommunity PartnersGot a Story Idea?Order Channel 3 News StoriesWCAX JobsPaid InternshipsStream News Live and On DemandNewsletterECHO, Leahy Center for Lake ChamplainJumpOnITVid...   \n",
       "99045    Nvidia puts AI at center of latest GeForce graphics card upgrade   The Seattle Times   Traffic Lab Law   Justice Local Politics Education Education Lab Eastside Environment Health Data Mental Health Project Homeless Times Watchdog Boeing   Aerospace Amazon Microsoft Technology Real Estate Economy Artificial Intelligence Seahawks Mariners Huskies Cougars Storm Sounders Kraken Reign High School Sports On TV/Radio Movies Books Music Theater Classical Music TV/Streaming Comics Games   Puzzles H...   \n",
       "79651   BusinessTechnologyWorldNationalPoliticsMedia   CultureOpinionSportsSocial CapitalCryptoListings   MoreSpotlightGlossaryEditionsAustralia EditionIndia EditionInternational EditionSingapore EditionUnited KingdomUnited StatesNEWSLETTERFollow Us KEY POINTSThe beta version of SK  's \"A.\"   pronounced \"A dot\"   was launched in South Korea in May 2022A. is reportedly based on generative AI just like ChatGPTSKT will reportedly integrate various services it owns into the chatbotSouth Korea's SK   is ...   \n",
       "4568    Skip to contentAsk the ExpertContestsDay Trippin'Healthcare TodayHeroes Among UsThe ShoppesProud to be a FarmerWatch LiveNewsWeatherSportsLocker Room Report2022 ElectionsLatest VideoCoronavirusContact UsHomeWatch WALB LiveWALB on RokuNewsBinge It!Civil Rights LegacyCrimeEducationEditorialsHealthGood NewsMultimediaInvestigateNationalPoliticsStateSweet Tea   History PodcastWeatherFirst View 10 CamerasHurricane CoverageClosingsRadarCoronavirusFind out where the COVID 19 vaccine is available in ...   \n",
       "\n",
       "                                                                                                                                                                                                                                                                                                                                                                                                                                                                                                               text_cleaned  \n",
       "158935  [accept, updated, privacy, cookie, policy, dear, user, et, cio, privacy, cookie, policy, updated, align, new, data, regulations, european, union, please, review, accept, changes, continue, using, website, see, privacy, policy, cookie, policy, use, cookies, ensure, best, experience, website, choose, ignore, message, assume, happy, receive, cookies, et, cio, google, analyticsgoogle, yearhttpsto, track, visitors, site, origin, behaviour, ibeat, analyticsibeat, yearhttpsto, track, article, yearh...  \n",
       "77297   [skip, coveragewho, watchwcax, news, livestream, board, reportweather, camswcax, weather, appweather, faqweather, calendarcontact, usmeet, teamadvertise, uscommunity, partnersgot, story, idea, order, channel, news, storieswcax, jobspaid, news, live, leahy, center, lake, resultscovid, mapfoodbankshow, watch, listingssubmit, photos, videoscircle, country, music, lifestylegray, dc, fencebuy, vermont, firstmade, vermontbusiness, breaksuper, seniorsyou, quote, melatest, newscastspress, releases, ...  \n",
       "99045   [nvidia, puts, ai, center, latest, geforce, graphics, card, upgrade, seattle, times, traffic, lab, law, justice, local, politics, education, education, lab, eastside, environment, health, data, mental, health, project, homeless, times, watchdog, boeing, aerospace, amazon, microsoft, technology, real, estate, economy, artificial, intelligence, seahawks, mariners, huskies, cougars, storm, sounders, kraken, reign, high, school, sports, tv, radio, movies, books, music, theater, classical, music,...  \n",
       "79651   [editionindia, editionunited, kingdomunited, us, key, pointsthe, beta, version, sk, pronounced, dot, launched, south, korea, may, reportedly, based, generative, ai, like, chatgptskt, reportedly, integrate, various, services, owns, chatbotsouth, korea, sk, planning, year, fully, launch, artificial, intelligence, chatbot, executive, pany, said, offer, lot, booming, chatgpt, mobile, world, congress, barcelona, spain, skt, vice, president, eric, davis, told, cnbc, pany, launched, beta, version, ...  \n",
       "4568    [skip, contentask, trippin, healthcare, todayheroes, among, usthe, shoppesproud, farmerwatch, room, report, electionslatest, ushomewatch, walb, livewalb, rokunewsbinge, civil, rights, tea, history, view, covid, vaccine, available, areaarea, hospitals, daily, covid, numbersphoebe, covid, numbers, sportsfish, game, forecasthigh, school, sportssports, talklocker, room, reportlocker, room, report, weekplayer, weekgame, weekteam, weekcoach, week, electionslatest, videostuff, educatorsask, expertc...  "
      ]
     },
     "execution_count": 13,
     "metadata": {},
     "output_type": "execute_result"
    }
   ],
   "source": [
    "df_text.head()"
   ]
  },
  {
   "cell_type": "code",
   "execution_count": 14,
   "metadata": {},
   "outputs": [],
   "source": [
    "# save checkpoint\n",
    "checkpoint_path = '/home/jupyter/data/nlp_final'+'df_text_0514_lda.parquet'\n",
    "#df_text.to_parquet(checkpoint_path, engine='pyarrow')\n",
    "\n",
    "# read data\n",
    "#df_text = pd.read_parquet(checkpoint_path, engine='pyarrow')"
   ]
  },
  {
   "attachments": {},
   "cell_type": "markdown",
   "metadata": {},
   "source": [
    "### titleza LDA"
   ]
  },
  {
   "cell_type": "code",
   "execution_count": 15,
   "metadata": {},
   "outputs": [
    {
     "name": "stdout",
     "output_type": "stream",
     "text": [
      "CPU times: user 2min 8s, sys: 1.03 s, total: 2min 9s\n",
      "Wall time: 2min 9s\n"
     ]
    }
   ],
   "source": [
    "%%time\n",
    "# tokenize the text\n",
    "data_list = df_text['text_cleaned'].tolist()\n",
    "data_tokens = list(sent_to_words(data_list))"
   ]
  },
  {
   "cell_type": "code",
   "execution_count": 16,
   "metadata": {},
   "outputs": [
    {
     "name": "stdout",
     "output_type": "stream",
     "text": [
      "CPU times: user 2min 46s, sys: 1.35 s, total: 2min 47s\n",
      "Wall time: 2min 47s\n"
     ]
    }
   ],
   "source": [
    "%%time\n",
    "# create bigrams & trigrams\n",
    "bigram = gensim.models.Phrases(data_tokens, min_count=1, threshold=1)\n",
    "trigram = gensim.models.Phrases(bigram[data_tokens], threshold=1)\n",
    "\n",
    "bigram_mod = gensim.models.phrases.Phraser(bigram)\n",
    "trigram_mod = gensim.models.phrases.Phraser(trigram)"
   ]
  },
  {
   "cell_type": "code",
   "execution_count": 17,
   "metadata": {},
   "outputs": [
    {
     "name": "stdout",
     "output_type": "stream",
     "text": [
      "['cio_privacy_cookie_policy', 'updated_align_new', 'data_regulations_european_union', 'please_review_accept_change', 'use_cookies_ensure_b', 'experience_website_choose_ignore', 'message_assume_happy_receive', 'cookies_et_cio_google', 'analyticsgoogle_yearhttpsto_track_visitor', 'site_origin', 'track_article_yearhttpsto_track', 'visitors_site', 'behaviour_optouttime', 'dayhttpsstores_user', 'internet_hourshttpsto_serve_content', 'relevant_internet', 'identify_userostidtime', 'yearhttpsoauth_user', 'accross_internet_fingerprinting_uniquely', 'identify_client', 'browsers_namepurpose_daily_daily', 'list_important', 'news_security', 'news_bfsi_new', 'government_news_hospitality', 'news_et', 'travelworld_new', 'infra_new', 'news_ciosea', 'news_hrsea_news_hrme', 'news_ing_event', 'cfo_meet_discussion_revise', 'companies_act_new', 'drive', 'transformation', 'hr', 'agorajesh', 'communication', 'strategic_shift', 'cloud_first', 'cloud_smart', 'day', 'tech', 'apprentice', 'increase', 'tech', 'enterprise', 'ai_critical', 'mahurkar_findability', 'science', 'actions_ciso', 'must_take', 'reduce', 'cybersecurity_induced', 'friction_richard', 'pichan_join', 'cioindustry_redefine', 'smart', 'industry', 'eymanaging_people', 'hard', 'building_machine', 'software_sanjeev', 'barnwal_co', 'founder_cto', 'meeshowe_go', 'paperless_soon', 'digitizing_aviation', 'logs_vinod', 'bhat_vistarageorge', 'harb_opentext', 'metaverse_shape', 'tomorrow', 'supply_chainevolve', 'landscape', 'enterprise_security', 'eye', 'ciosindustrie', 'itesbankingcase_studie', 'march_etcio_bfsi_digital', 'spectrum_february', 'etcio_informals_november_rd', 'data_strategy_summit', 'summit_etcio_bfsi_digital', 'building_block', 'need', 'brand_solutions_unlock_full', 'eventsthis_hub_brought_zoom', 'manage_access_iam_return', 'officeaiops_trump', 'card_assure_optimal_application', 'performance_resourcingdata_fabric_modern', 'business', 'new_age_sap_environment', 'better_fast_continuous_teste', 'platformgrow_digital', 'business_maximize', 'vdi_leveragere_imagine_hybrid', 'officeai_technology_redefining_customer', 'competitive_edgepowering_video_enable', 'worldleadership_circle', 'powered_hcishro', 'road_modern', 'digital_worldbuilding_customer_experience', 'business_hybrid', 'cloudunlock_next', 'level_employee_customer_experience', 'customer_experience_cloud_base', 'enterprise_secops_cio_newslat', 'cio_newsbusiness', 'analytic', 'exclusive', 'aays_analytic', 'large_enterprise', 'democratise', 'corporate_finance', 'spacenow', 'finance_function', 'ai', 'finance_leader', 'realizing_skill', 'data_scientist', 'essential_part', 'toolset_desire', 'able_apply', 'advanced_analytical', 'methods_like', 'gain_deeper_insight', 'apply', 'build_petitive', 'advantage', 'finance_function', 'science', 'recently_starte', 'happen', 'past_year', 'gradually', 'permeate', 'wider_society', 'include', 'finance_function', 'finance_function', 'majority', 'finance_function', 'large_enterprise', 'analyst', 'team', 'basic', 'analytics_skill', 'work', 'get', 'jobs_done', 'finance_function', 'ai', 'finance_leader', 'realizing_skill', 'data_scientist', 'essential_part', 'toolset_desire', 'able_apply', 'advanced_analytical', 'methods_like', 'gain_deeper_insight', 'apply', 'build_petitive', 'finance_function', 'science', 'different_domain', 'marketing_sale', 'supply_chain', 'solve', 'objective', 'problem', 'image_classification', 'task_automation', 'finance_function', 'require_high', 'accuracy_result', 'finance', 'used_directly', 'senior_management', 'make_strategic_decision', 'significantly_change', 'future_direction', 'organization', 'help_businesse', 'find_way', 'maximize_profit', 'minimize_risk', 'make', 'new_investment', 'corporate', 'financeadvance', 'better_governance', 'control', 'closure', 'accounts_alway', 'time_consuming_process', 'lack', 'system', 'could_raise', 'red_flag', 'specific', 'transaction', 'often_define', 'variance', 'identify_anomalie', 'even', 'finance_function', 'large_enterprise', 'based_anomalie', 'outlier_detection', 'aid', 'specific', 'cost', 'centre', 'business_segment', 'control', 'account', 'analytics_risk', 'customer', 'business', 'large_enterprise', 'certain', 'customers_paye', 'time', 'high_number', 'low_value', 'deduction', 'certain', 'customer_group', 'lead', 'working_capital', 'blockade', 'advanced_solution', 'overdue', 'profiling', 'turn', 'providing_actionable', 'input', 'business', 'reduce', 'overdue', 'proactively', 'solution', 'would_provide', 'ponent', 'overdue', 'correlation', 'underlying_business', 'dimension', 'cash', 'analytic', 'important', 'finance_team', 'understand', 'key_reason', 'payment', 'delay', 'tracking_monitore', 'customer', 'payment', 'pattern', 'critical', 'accounting', 'need', 'finance_team', 'often_lack', 'visibility_operational', 'drivers_behind', 'cash_flow', 'lack', 'integrate', 'would_provide', 'clarity', 'finance_team', 'end_end', 'cash_conversion', 'cycle', 'result', 'proactive', 'sufficiently_accurate', 'view', 'future', 'cash_flow', 'struggle', 'ai_ml', 'lead', 'solutions_help', 'identify', 'cash_flow', 'working_capital', 'optimization', 'opportunity', 'customer_segmentation', 'organisation', 'often_face', 'challenge', 'fit', 'size', 'approach', 'manage', 'process', 'distinct', 'way', 'group', 'customer', 'proper_attention', 'give', 'take_proactive', 'action', 'ml_base', 'clustering_algorithm', 'help', 'bucket', 'customer', 'group', 'viz', 'prompt', 'payer', 'late_payer', 'large_small', 'customer', 'high_order', 'low', 'order', 'value_customer', 'large_enterprise', 'implement_successful', 'finance', 'analytic', 'projectsalign', 'specific_need', 'organisation', 'differ', 'term', 'maturity', 'adopt', 'use', 'technology', 'space', 'corporate_finance', 'varied_nature', 'product_categorie', 'service_offering', 'also', 'mandate', 'use', 'customise', 'finance', 'analytics_solution', 'organization', 'hence', 'corporate_finance', 'leader', 'top_management', 'deliberate', 'thoroughly', 'type', 'solution', 'require', 'integrate', 'mechanism', 'adopt', 'build_effective', 'financial', 'analytical', 'system', 'pany', 'reliable_relevant', 'datum', 'data_require', 'finance', 'analytics_space', 'reliable', 'must_also', 'pertain', 'relevant', 'dimension', 'financial_implication', 'datum', 'misuse', 'huge', 'could_cost', 'organisation', 'revenue', 'thereby_leading', 'pletely', 'devastating_impact', 'organisation', 'start', 'enterprise', 'modestly', 'develop', 'small_scale', 'pocs_moving', 'full_fledge', 'deployment', 'involves_builde', 'large_scale', 'data_analytic', 'infrastructure', 'team', 'morale', 'poc', 'team', 'provide', 'confident', 'way', 'simple', 'persuade', 'shareholder', 'senior_leadership', 'undertake', 'large_scale', 'effort', 'awareness', 'literacy', 'professional', 'handle', 'responsibility', 'corporate_finance', 'high', 'leaders_must', 'understand', 'realise_importance', 'solution', 'profitability', 'returns_investment', 'initiative', 'must_also', 'receive_support', 'shareholder', 'cost', 'incur', 'develop', 'required_infrastructure', 'considered_part', 'investment', 'yield_desire', 'result', 'future', 'analytic', 'aay', 'views_expressed_solely_author', 'organization_directly', 'indirectly_follow_connect_u', 'twitter_facebook', 'linkedin_youtubebusiness', 'read_app_read_app', 'rajesh_awasthi', 'tata_communication', 'strategic_shift', 'many_businesse', 'realise', 'understand_need', 'correct', 'resource', 'ensure', 'harnessing_benefit', 'strategically', 'result', 'organisation', 'plex_fragmente', 'various', 'cloud_platform', 'public_private', 'edge', 'industry', 'industry', 'actions_ciso', 'must_take', 'reduce', 'cybersecurity_induced', 'friction_richard', 'addiscott_gartner', 'decode', 'drive', 'transformation', 'top_megatrend', 'help_enterprise', 'digitally_transform', 'consider', 'cutting_edge', 'part_daily_live', 'widely_accepte', 'much_quicker', 'ever', 'help', 'reshape', 'business_landscape', 'ing_year', 'whatsapp', 'data', 'million_user', 'datum', 'leaked_aiim', 'restore', 'datum', 'online_service', 'take_time', 'resume', 'rajesh_awasthi', 'tata_communication', 'strategic_shift', 'cloud_first', 'cloud_smart', 'upgrade', 'mobile', 'era', 'core_banke', 'anil_kumar', 'aays_analytic', 'large_enterprise', 'democratise', 'corporate_finance', 'space', 'announces_partnership', 'databrick', 'empower_businesse', 'unlock_power', 'integrated_data', 'ecosystem', 'multi', 'spur', 'growth', 'tech', 'expertise', 'blink', 'paytm', 'stance', 'may_take', 'fundamental', 'cap', 'buy', 'sneha_poddar', 'tell', 'change', 'cloud_native', 'strategies_digital', 'business', 'speed_automation', 'news', 'news', 'news_security', 'news_bfsi_new', 'government_news_hospitality', 'news_et', 'travelworld_new', 'infra_new', 'news_ciosea', 'studiesstrategy_mgmttech', 'talkcio_wallsecret', 'diary_itesbanking_contact_u', 'advertise_us_various_option', 'advertise_us_including_event', 'etc_please_contact_us', 'know_detail']\n",
      "CPU times: user 48min 58s, sys: 3.57 s, total: 49min 2s\n",
      "Wall time: 49min 2s\n"
     ]
    }
   ],
   "source": [
    "%%time\n",
    "# Remove Stop Words\n",
    "#data_tokens_nostops = remove_stopwords(data_tokens)\n",
    "\n",
    "# Create n-grams\n",
    "data_words_bigrams = make_bigrams(data_tokens)\n",
    "data_words_trigrams = make_trigrams(data_tokens)\n",
    "\n",
    "# Combine tokens and n-grams\n",
    "# data_tokens_cobnined = data_tokens_nostops + data_words_bigrams + data_words_trigrams\n",
    "data_tokens_cobnined = data_words_trigrams\n",
    "\n",
    "# Lemmatize text keeping only noun, adj, vb, adv\n",
    "data_lemmatized = lemmatization(data_tokens_cobnined, allowed_postags=['NOUN', 'ADJ', 'VERB', 'ADV'])\n",
    "\n",
    "print(*data_lemmatized[:1])"
   ]
  },
  {
   "cell_type": "code",
   "execution_count": 8,
   "metadata": {},
   "outputs": [],
   "source": [
    "checkpoint_path = '/home/jupyter/data/nlp_final'\n",
    "\n",
    "# # save the limmatized data to txt\n",
    "# path = checkpoint_path + '/' + 'data_lemmatized.txt'\n",
    "# with open(path, 'w') as f:\n",
    "#     for item in data_lemmatized:\n",
    "#         f.write(\"%s\\n\" % item)\n",
    "\n",
    "# read the limmatized data from txt\n",
    "path = checkpoint_path + '/' + 'data_lemmatized.txt'\n",
    "with open(path, 'r') as f:\n",
    "    data_read = f.read().splitlines()\n",
    "\n",
    "# read each element (a str) of data_read to a list; append to data_lemmatized\n",
    "data_lemmatized = []\n",
    "\n",
    "def string_to_list(str):\n",
    "    # revemo al \" and []\n",
    "    str = str.replace('\"', '')\n",
    "    str = str.replace('\\'', '')\n",
    "    str = str.replace('[', '')\n",
    "    str = str.replace(']', '')\n",
    "    # split by ', '\n",
    "    output_list = str.split(', ')\n",
    "    return output_list\n",
    "\n",
    "for i in range(len(data_read)):\n",
    "    data_lemmatized.append(string_to_list(data_read[i]))"
   ]
  },
  {
   "cell_type": "code",
   "execution_count": 10,
   "metadata": {},
   "outputs": [
    {
     "name": "stdout",
     "output_type": "stream",
     "text": [
      "CPU times: user 1min 46s, sys: 3.63 s, total: 1min 50s\n",
      "Wall time: 1min 50s\n"
     ]
    }
   ],
   "source": [
    "%%time\n",
    "\n",
    "# Creating the term dictionary of our courpus, where every unique term is assigned an index. \n",
    "dictionary = corpora.Dictionary(data_lemmatized)\n",
    "\n",
    "# Converting list of documents (corpus) into Document Term Matrix using dictionary prepared above.\n",
    "doc_term_matrix = [dictionary.doc2bow(doc) for doc in data_lemmatized]"
   ]
  },
  {
   "cell_type": "code",
   "execution_count": 11,
   "metadata": {},
   "outputs": [
    {
     "name": "stdout",
     "output_type": "stream",
     "text": [
      "Using 15 workers\n"
     ]
    }
   ],
   "source": [
    "num_processors = multiprocessing.cpu_count()\n",
    "workers = num_processors-1\n",
    "print(f'Using {workers} workers')"
   ]
  },
  {
   "cell_type": "code",
   "execution_count": 12,
   "metadata": {},
   "outputs": [],
   "source": [
    "# supporting function\n",
    "def compute_coherence_values(corpus, dictionary, k, a, b):\n",
    "    \n",
    "    lda_model = LdaMulticore(corpus=doc_term_matrix,\n",
    "                       id2word=dictionary,\n",
    "                       num_topics=k,\n",
    "                       random_state=100,                  \n",
    "                       passes=10,\n",
    "                       alpha=a,\n",
    "                       eta=b,\n",
    "                       workers=workers)\n",
    "    \n",
    "    coherence_model_lda = CoherenceModel(model=lda_model, texts=data_lemmatized, dictionary=dictionary, coherence='c_v')\n",
    "    \n",
    "    return coherence_model_lda.get_coherence()"
   ]
  },
  {
   "cell_type": "code",
   "execution_count": 13,
   "metadata": {},
   "outputs": [],
   "source": [
    "grid = {}\n",
    "grid['Validation_Set'] = {}\n",
    "\n",
    "# Topics range\n",
    "min_topics = 2\n",
    "max_topics = 10\n",
    "step_size = 1\n",
    "topics_range = range(min_topics, max_topics+1, step_size)\n",
    "\n",
    "# Alpha parameter\n",
    "alpha = ['asymmetric'] # Run for number of topics only\n",
    "\n",
    "# Beta parameter\n",
    "beta = ['auto'] # Run for number of topics only\n",
    "\n",
    "# Validation sets\n",
    "num_of_docs = len(doc_term_matrix)\n",
    "corpus_sets = [# gensim.utils.ClippedCorpus(doc_term_matrix, num_of_docs*0.25), \n",
    "               # gensim.utils.ClippedCorpus(doc_term_matrix, num_of_docs*0.5), \n",
    "               # gensim.utils.ClippedCorpus(doc_term_matrix, num_of_docs*0.75), \n",
    "               doc_term_matrix]\n",
    "\n",
    "corpus_title = ['100% Corpus']\n",
    "model_results = {\n",
    "                 'Topics': [],\n",
    "                 'Alpha': [],\n",
    "                 'Beta': [],\n",
    "                 'Coherence': []\n",
    "                }"
   ]
  },
  {
   "cell_type": "code",
   "execution_count": 14,
   "metadata": {},
   "outputs": [
    {
     "data": {
      "text/plain": [
       "\"%%time \\n\\nitr = 0\\nitr_total = len(beta)*len(alpha)*len(topics_range)*len(corpus_title)\\nprint(f'LDA will execute {itr_total} iterations')\\n\\n# iterate through hyperparameters\\nfor i in tqdm(range(len(corpus_sets))):\\n    # iterate through number of topics\\n    for k in topics_range:\\n        # iterate through alpha values\\n        #tic()\\n        for a in alpha:\\n            # iterare through beta values\\n            for b in beta:\\n                # get the coherence score for the given parameters\\n                itr += 1\\n                cv = compute_coherence_values(corpus=corpus_sets[i], dictionary=dictionary,\\n                                              k=k, a=a, b=b)\\n                # Save the model results\\n                model_results['Topics'].append(k)\\n                model_results['Alpha'].append(a)\\n                model_results['Beta'].append(b)\\n                model_results['Coherence'].append(cv)\\n                pct_completed = round((itr / itr_total * 100),1)\\n        print(f'Completed model based on {k} LDA topics. Finished {pct_completed}% of LDA runs')\\n\\nlda_tuning = pd.DataFrame(model_results)     \""
      ]
     },
     "execution_count": 14,
     "metadata": {},
     "output_type": "execute_result"
    }
   ],
   "source": [
    "'''%%time \n",
    "\n",
    "itr = 0\n",
    "itr_total = len(beta)*len(alpha)*len(topics_range)*len(corpus_title)\n",
    "print(f'LDA will execute {itr_total} iterations')\n",
    "\n",
    "# iterate through hyperparameters\n",
    "for i in tqdm(range(len(corpus_sets))):\n",
    "    # iterate through number of topics\n",
    "    for k in topics_range:\n",
    "        # iterate through alpha values\n",
    "        #tic()\n",
    "        for a in alpha:\n",
    "            # iterare through beta values\n",
    "            for b in beta:\n",
    "                # get the coherence score for the given parameters\n",
    "                itr += 1\n",
    "                cv = compute_coherence_values(corpus=corpus_sets[i], dictionary=dictionary,\n",
    "                                              k=k, a=a, b=b)\n",
    "                # Save the model results\n",
    "                model_results['Topics'].append(k)\n",
    "                model_results['Alpha'].append(a)\n",
    "                model_results['Beta'].append(b)\n",
    "                model_results['Coherence'].append(cv)\n",
    "                pct_completed = round((itr / itr_total * 100),1)\n",
    "        print(f'Completed model based on {k} LDA topics. Finished {pct_completed}% of LDA runs')\n",
    "\n",
    "lda_tuning = pd.DataFrame(model_results)     '''"
   ]
  },
  {
   "cell_type": "code",
   "execution_count": 15,
   "metadata": {},
   "outputs": [
    {
     "name": "stdout",
     "output_type": "stream",
     "text": [
      "LDA will execute 9 iterations\n"
     ]
    },
    {
     "name": "stderr",
     "output_type": "stream",
     "text": [
      "  0%|          | 0/1 [00:00<?, ?it/s]"
     ]
    },
    {
     "name": "stdout",
     "output_type": "stream",
     "text": [
      "Completed model based on 2 LDA topics. Finished 11.1% of LDA runs\n",
      "Completed model based on 3 LDA topics. Finished 22.2% of LDA runs\n",
      "Completed model based on 4 LDA topics. Finished 33.3% of LDA runs\n",
      "Completed model based on 5 LDA topics. Finished 44.4% of LDA runs\n",
      "Completed model based on 6 LDA topics. Finished 55.6% of LDA runs\n",
      "Completed model based on 7 LDA topics. Finished 66.7% of LDA runs\n",
      "Completed model based on 8 LDA topics. Finished 77.8% of LDA runs\n",
      "Completed model based on 9 LDA topics. Finished 88.9% of LDA runs\n"
     ]
    },
    {
     "name": "stderr",
     "output_type": "stream",
     "text": [
      "100%|██████████| 1/1 [1:36:17<00:00, 5777.04s/it]"
     ]
    },
    {
     "name": "stdout",
     "output_type": "stream",
     "text": [
      "Completed model based on 10 LDA topics. Finished 100.0% of LDA runs\n"
     ]
    },
    {
     "name": "stderr",
     "output_type": "stream",
     "text": [
      "\n"
     ]
    }
   ],
   "source": [
    "from joblib import Parallel, delayed\n",
    "\n",
    "def compute_coherence_values(corpus, dictionary, k, a, b):\n",
    "    lda_model = LdaMulticore(corpus=corpus,\n",
    "                       id2word=dictionary,\n",
    "                       num_topics=k,\n",
    "                       random_state=100,                  \n",
    "                       passes=10,\n",
    "                       alpha=a,\n",
    "                       eta=b,\n",
    "                       workers=workers)\n",
    "    coherence_model_lda = CoherenceModel(model=lda_model, texts=data_lemmatized, dictionary=dictionary, coherence='c_v')\n",
    "    return coherence_model_lda.get_coherence()\n",
    "\n",
    "itr = 0\n",
    "itr_total = len(beta)*len(alpha)*len(topics_range)*len(corpus_title)\n",
    "print(f'LDA will execute {itr_total} iterations')\n",
    "\n",
    "# iterate through hyperparameters\n",
    "for i in tqdm(range(len(corpus_sets))):\n",
    "    # iterate through number of topics\n",
    "    for k in topics_range:\n",
    "        # iterate through alpha values\n",
    "        #tic()\n",
    "        for a in alpha:\n",
    "            # iterate through beta values\n",
    "            jobs = []\n",
    "            for b in beta:\n",
    "                itr += 1\n",
    "                # run each beta value in parallel\n",
    "                job = delayed(compute_coherence_values)(corpus=corpus_sets[i], dictionary=dictionary,\n",
    "                                                  k=k, a=a, b=b)\n",
    "                jobs.append(job)\n",
    "            # compute coherence scores in parallel and save results\n",
    "            coherences = Parallel(n_jobs=min(8, len(jobs)))(jobs)\n",
    "            for b, cv in zip(beta, coherences):\n",
    "                model_results['Topics'].append(k)\n",
    "                model_results['Alpha'].append(a)\n",
    "                model_results['Beta'].append(b)\n",
    "                model_results['Coherence'].append(cv)\n",
    "            pct_completed = round((itr / itr_total * 100),1)\n",
    "        print(f'Completed model based on {k} LDA topics. Finished {pct_completed}% of LDA runs')\n",
    "\n",
    "lda_tuning = pd.DataFrame(model_results)\n"
   ]
  },
  {
   "cell_type": "code",
   "execution_count": 16,
   "metadata": {},
   "outputs": [
    {
     "data": {
      "text/html": [
       "<div>\n",
       "<style scoped>\n",
       "    .dataframe tbody tr th:only-of-type {\n",
       "        vertical-align: middle;\n",
       "    }\n",
       "\n",
       "    .dataframe tbody tr th {\n",
       "        vertical-align: top;\n",
       "    }\n",
       "\n",
       "    .dataframe thead th {\n",
       "        text-align: right;\n",
       "    }\n",
       "</style>\n",
       "<table border=\"1\" class=\"dataframe\">\n",
       "  <thead>\n",
       "    <tr style=\"text-align: right;\">\n",
       "      <th></th>\n",
       "      <th>Topics</th>\n",
       "      <th>Alpha</th>\n",
       "      <th>Beta</th>\n",
       "      <th>Coherence</th>\n",
       "    </tr>\n",
       "  </thead>\n",
       "  <tbody>\n",
       "    <tr>\n",
       "      <th>0</th>\n",
       "      <td>2</td>\n",
       "      <td>asymmetric</td>\n",
       "      <td>auto</td>\n",
       "      <td>0.399125</td>\n",
       "    </tr>\n",
       "    <tr>\n",
       "      <th>2</th>\n",
       "      <td>4</td>\n",
       "      <td>asymmetric</td>\n",
       "      <td>auto</td>\n",
       "      <td>0.370430</td>\n",
       "    </tr>\n",
       "    <tr>\n",
       "      <th>3</th>\n",
       "      <td>5</td>\n",
       "      <td>asymmetric</td>\n",
       "      <td>auto</td>\n",
       "      <td>0.353700</td>\n",
       "    </tr>\n",
       "    <tr>\n",
       "      <th>1</th>\n",
       "      <td>3</td>\n",
       "      <td>asymmetric</td>\n",
       "      <td>auto</td>\n",
       "      <td>0.353167</td>\n",
       "    </tr>\n",
       "    <tr>\n",
       "      <th>8</th>\n",
       "      <td>10</td>\n",
       "      <td>asymmetric</td>\n",
       "      <td>auto</td>\n",
       "      <td>0.343360</td>\n",
       "    </tr>\n",
       "    <tr>\n",
       "      <th>4</th>\n",
       "      <td>6</td>\n",
       "      <td>asymmetric</td>\n",
       "      <td>auto</td>\n",
       "      <td>0.338393</td>\n",
       "    </tr>\n",
       "    <tr>\n",
       "      <th>6</th>\n",
       "      <td>8</td>\n",
       "      <td>asymmetric</td>\n",
       "      <td>auto</td>\n",
       "      <td>0.338307</td>\n",
       "    </tr>\n",
       "    <tr>\n",
       "      <th>5</th>\n",
       "      <td>7</td>\n",
       "      <td>asymmetric</td>\n",
       "      <td>auto</td>\n",
       "      <td>0.337317</td>\n",
       "    </tr>\n",
       "    <tr>\n",
       "      <th>7</th>\n",
       "      <td>9</td>\n",
       "      <td>asymmetric</td>\n",
       "      <td>auto</td>\n",
       "      <td>0.328921</td>\n",
       "    </tr>\n",
       "  </tbody>\n",
       "</table>\n",
       "</div>"
      ],
      "text/plain": [
       "   Topics       Alpha  Beta  Coherence\n",
       "0       2  asymmetric  auto   0.399125\n",
       "2       4  asymmetric  auto   0.370430\n",
       "3       5  asymmetric  auto   0.353700\n",
       "1       3  asymmetric  auto   0.353167\n",
       "8      10  asymmetric  auto   0.343360\n",
       "4       6  asymmetric  auto   0.338393\n",
       "6       8  asymmetric  auto   0.338307\n",
       "5       7  asymmetric  auto   0.337317\n",
       "7       9  asymmetric  auto   0.328921"
      ]
     },
     "execution_count": 16,
     "metadata": {},
     "output_type": "execute_result"
    }
   ],
   "source": [
    "# Best LDA parameters\n",
    "lda_tuning.sort_values(by=['Coherence'], ascending=False).head(10)"
   ]
  },
  {
   "cell_type": "code",
   "execution_count": 17,
   "metadata": {},
   "outputs": [
    {
     "data": {
      "text/plain": [
       "<Axes: xlabel='Topics'>"
      ]
     },
     "execution_count": 17,
     "metadata": {},
     "output_type": "execute_result"
    },
    {
     "data": {
      "image/png": "[encoded data removed]",
      "text/plain": [
       "<Figure size 640x480 with 1 Axes>"
      ]
     },
     "metadata": {},
     "output_type": "display_data"
    }
   ],
   "source": [
    "lda_tuning.plot(x ='Topics', y='Coherence', kind = 'line', xticks=range(1,20))"
   ]
  },
  {
   "cell_type": "code",
   "execution_count": 18,
   "metadata": {},
   "outputs": [
    {
     "name": "stdout",
     "output_type": "stream",
     "text": [
      "Best Parameters: Topics: 2, Alpha: asymmetric, Beta: auto\n"
     ]
    }
   ],
   "source": [
    "lda_tuning_best = lda_tuning.sort_values(by=['Coherence'], ascending=False).head(1)\n",
    "\n",
    "\n",
    "tuned_topics = int(lda_tuning_best['Topics'].to_string(index=False))\n",
    "\n",
    "\n",
    "# Since the values for Alpha and Beta can be float, symmetric and asymmetric, we will either strip or convert to float\n",
    "try:\n",
    "    tuned_alpha = float(lda_tuning_best['Alpha'].to_string(index=False))\n",
    "except:\n",
    "    tuned_alpha = lda_tuning_best['Alpha'].to_string(index=False).strip()\n",
    "    \n",
    "\n",
    "try:\n",
    "    tuned_beta = float(lda_tuning_best['Beta'].to_string(index=False))\n",
    "except:\n",
    "    tuned_beta = lda_tuning_best['Beta'].to_string(index=False).strip()    \n",
    "    \n",
    "print(f'Best Parameters: Topics: {tuned_topics}, Alpha: {tuned_alpha}, Beta: {tuned_beta}')"
   ]
  },
  {
   "cell_type": "code",
   "execution_count": 22,
   "metadata": {},
   "outputs": [
    {
     "name": "stdout",
     "output_type": "stream",
     "text": [
      "\n",
      "Coherence Score:  Coherence_Measure(seg=<function s_one_set at 0x7fddaacc3d00>, prob=<function p_boolean_sliding_window at 0x7fddaace0040>, conf=<function cosine_similarity at 0x7fddaad28c10>, aggr=<function arithmetic_mean at 0x7fddaad292d0>)\n",
      "CPU times: user 4min 22s, sys: 1min 1s, total: 5min 23s\n",
      "Wall time: 5min 17s\n"
     ]
    }
   ],
   "source": [
    "%%time\n",
    "\n",
    "tuned_lda_model = LdaMulticore(corpus=doc_term_matrix,\n",
    "                       id2word=dictionary,\n",
    "                       #num_topics=tuned_topics,\n",
    "                       num_topics=4,\n",
    "                       random_state=100,\n",
    "                       passes=10,\n",
    "                       alpha=tuned_alpha,\n",
    "                       eta=tuned_beta,\n",
    "                       workers = workers)\n",
    "\n",
    "coherence_model_lda = CoherenceModel(model=tuned_lda_model, texts=data_lemmatized, dictionary=dictionary, coherence='c_v')\n",
    "print('\\nCoherence Score: ', coherence_model_lda)"
   ]
  },
  {
   "cell_type": "code",
   "execution_count": 23,
   "metadata": {},
   "outputs": [
    {
     "name": "stdout",
     "output_type": "stream",
     "text": [
      "CPU times: user 1min 5s, sys: 12.1 s, total: 1min 17s\n",
      "Wall time: 1min 11s\n"
     ]
    },
    {
     "data": {
      "text/html": [
       "\n",
       "<link rel=\"stylesheet\" type=\"text/css\" href=\"https://cdn.jsdelivr.net/gh/bmabey/pyLDAvis@3.4.0/pyLDAvis/js/ldavis.v1.0.0.css\">\n",
       "\n",
       "\n",
       "<div id=\"ldavis_el63471405748950564649006091958\" style=\"background-color:white;\"></div>\n",
       "<script type=\"text/javascript\">\n",
       "\n",
       "var ldavis_el63471405748950564649006091958_data = {\"mdsDat\": {\"x\": [-0.1394813070923312, -0.13023943829946802, 0.09155233397623062, 0.1781684114155686], \"y\": [-0.12801206738827958, 0.19748845866242234, -0.163827475187959, 0.0943510839138162], \"topics\": [1, 2, 3, 4], \"cluster\": [1, 1, 1, 1], \"Freq\": [64.94235616971747, 15.62112619101371, 10.675578031610451, 8.760939607658356]}, \"tinfo\": {\"Term\": [\"ai\", \"market\", \"industry\", \"technology\", \"report\", \"analysis\", \"global\", \"new\", \"market_report\", \"datum\", \"market_research\", \"business\", \"forecast\", \"service\", \"market_share\", \"research\", \"platform\", \"application\", \"growth\", \"pany\", \"market_growth\", \"say\", \"market_analysis\", \"solution\", \"market_size\", \"views_opinions_statements_press\", \"market_trend\", \"release_endorsed_gray_media\", \"release_provided_courtesy_prnewswire\", \"information\", \"mortgage_brokeralts_b\", \"investinginvest_artinv\", \"money_nuclear_power_arm\", \"estateinvest_wineinvest\", \"landinvest_real\", \"world_fractures_liberal_illiberal\", \"spheres_opinion_imf_charte\", \"china_popularity_rise\", \"south_world_fracture\", \"membership_see_pageview\", \"special_reports_trending_topic\", \"care_protect\", \"venture_capital_devices_diagnostic\", \"diabeloop\", \"first_launch_upvotes_comment\", \"toi_staff\", \"fall_detect\", \"liberal_illiberal_spheres_opinion\", \"ai_entanglement\", \"views_submission_open\", \"un_drugs_crime_office\", \"imf_charting_globalization_turn\", \"one_china_bigg\", \"feedback_directly\", \"artificial_intelligence_bard_conversational\", \"ai_free_daily\", \"vectara\", \"prime_edite\", \"finalists_joblegalsign_insign_uphome\", \"membershall_famegolden\", \"teamoffice_hoursgive\", \"pany_lying_useless_usually\", \"companyperson_contact\", \"models_driving_history_lye\", \"presence_online_quotes_allow\", \"online_form_accurate_real\", \"lower_insurance_rates_service\", \"agencies_brand_names_panie\", \"time_drivers_busy_worke\", \"online_quotes_sorted_easily\", \"multiple_car_insurance_quote\", \"insurance_industry_remained_untouche\", \"drivers_get_quotes_multiple\", \"presents_main_benefits_pare\", \"compare_autoinsurance_org_online\", \"etc_online_quotes_easily\", \"local_regional_insurers_provide\", \"car_insurance_quotes_visit\", \"best_offers_view_photo\", \"price_estimates_lower_deale\", \"using_brokerage_websites_allow\", \"longer_required_get_quote\", \"although_drivers_mended_choose\", \"brings_clients_best_deal\", \"policyholders_chance_discover_multiple\", \"unlike_physical_insurance_agencie\", \"panies_check_prices_driver\", \"potential_customer_granting_coverage\", \"write\", \"think\", \"example\", \"actually\", \"perhaps\", \"happen\", \"maybe\", \"seem\", \"often\", \"mean\", \"word\", \"image_credit\", \"puter\", \"say\", \"rather\", \"problem\", \"watch_video\", \"experiment\", \"bias\", \"instead\", \"simply\", \"even\", \"really\", \"case\", \"job\", \"call\", \"thing\", \"image\", \"human\", \"start\", \"already\", \"openai\", \"ask\", \"question\", \"work\", \"go\", \"find\", \"add\", \"however\", \"see\", \"use\", \"way\", \"take\", \"create\", \"make\", \"people\", \"chatgpt\", \"get\", \"video\", \"need\", \"model\", \"time\", \"build\", \"ai\", \"also\", \"technology\", \"new\", \"today\", \"news\", \"system\", \"datum\", \"pany\", \"well\", \"team\", \"include\", \"help\", \"business\", \"year\", \"world\", \"service\", \"report\", \"base\", \"market\", \"patient_warme\", \"renal_dialysis_machine\", \"ed_tech_smart_classroom\", \"multiple_currency_counterfeit_detector\", \"high_end_decorative_floore\", \"low_temperature_capacitive_sensor\", \"regions_overview\", \"exam_ref_perform_cloud\", \"dialysis_machine\", \"sandbox_solution\", \"juicer_market\", \"brake_shim\", \"quantum_computing_technologie\", \"digital_ultrasound\", \"deep_bioscience\", \"global_biopsy\", \"figures_report_studie\", \"magnetic_particle\", \"spread_across_pages_table\", \"ining_market\", \"energy_automobile\", \"trend_add\", \"drug_device_combination\", \"residential_router\", \"shatterproof_glass\", \"commercial_sevice\", \"global_bladder\", \"blockchain_cloud_service\", \"download_exam_ref_perform\", \"covid_impact_outlook_opportunitie\", \"market_report\", \"software_market\", \"legaltech_artificial_intelligence\", \"top_key_player\", \"market_player\", \"analysis_forecast\", \"artificial_intelligence_accounting_market\", \"market_size\", \"service_market\", \"automotive_artificial_intelligence_ai\", \"market_segmentation\", \"discovery_market\", \"artificial_intelligence_healthcare_market\", \"key_player\", \"forecast_global\", \"market_global\", \"etc_inforgrowth\", \"artificial_intelligence_based_security\", \"market_research_report\", \"global_artificial_intelligence_software\", \"market_forecast\", \"intelligence_ai_drug_discovery\", \"artificial_intelligence_ai_bfsi\", \"opportunities_forecast\", \"market_comprehensive\", \"accounting_market\", \"key_manufacturer\", \"market_growth\", \"market_analysis\", \"market_study\", \"market_dynamic\", \"report_offer\", \"top_player\", \"industry_size\", \"market_key_player\", \"growth_analysis\", \"market_driver\", \"top_companie\", \"market_research\", \"market_trend\", \"global_artificial_intelligence_ai\", \"market_overview\", \"market_share\", \"industry_growth\", \"leading_player\", \"report_provide\", \"market_segment\", \"market\", \"report_include\", \"platform_market\", \"growth_rate\", \"analysis\", \"forecast\", \"global\", \"industry\", \"report\", \"growth\", \"research\", \"application\", \"business\", \"ai\", \"technology\", \"datum\", \"information\", \"service\", \"product\", \"trend\", \"news\", \"include\", \"new\", \"base\", \"de_iluminaci_philips_signify\", \"para_profesionales_de_la\", \"ex_co\", \"productos_de_consumo_philip\", \"busco_solucione\", \"patrocinios_interesa\", \"cloud_vlab\", \"philips_busco_soluciones_de\", \"iluminaci_philip\", \"best_security_orchestration\", \"soluciones_para_profesionales_de\", \"client_strategies_tangible\", \"calculatorcpi_average\", \"three_years_pandemic_disruption\", \"candleinverted_hammershoote\", \"cabin_sensing_ai_solution\", \"public_license\", \"termsforex_retirement\", \"flow_index_mfi_move\", \"tools_enterprises_across\", \"state_withuser\", \"directional_index_adx_average\", \"true_range_atr_bollinger\", \"reports_regulated_market_transaction\", \"care_resuscitation_rheumatology_service\", \"litecoin_ltc_nft_newseconomic\", \"chart_patternrounde\", \"medizinisches_fachpersonal\", \"converterglobal_statistic\", \"wedgehead_shoulder\", \"notification_shares_buy_back\", \"buy_back_digi_communication\", \"shares_buy_back_digi\", \"back_digi_communications_report\", \"digi_communications_reports_regulate\", \"regulated_market_transactions_occurre\", \"digi_communications_nv_announce\", \"article_law_fsa_regulation\", \"ethereum_eth_ada_ripple\", \"chartslive_rateslive\", \"index_rsi_stochastic_stc\", \"change_roc_relative_strength\", \"handleflags_triangleprice\", \"pattern_introbullish\", \"formationtriple_topdouble\", \"chartsforex_trader\", \"anniversary_fcc_public_inspection\", \"retro_tv_order_copy\", \"schedule_wdpn_tv_schedule\", \"story_wfmz_tv_th\", \"transactions_occurred_digi_symbol\", \"documents_concluded_digi_communication\", \"wfmz_tv_th_anniversary\", \"school_business_closings_send\", \"images_gifs_inappropriate_language\", \"memes_may_removed_moderator\", \"facebook_placed_wfmz_tv\", \"panies_please_note_clicke\", \"use_ment_posting_pliance\", \"post_acknowledge_read_term\", \"air_polite_inappropriate_post\", \"terms_ments_may_use\", \"weather_report_live_streame\", \"southeastern_pa_poconos_western\", \"posts_containing_offsite_link\", \"job_listings_similar_post\", \"wfmz_tv_new\", \"traffic_sports_family_programme\", \"us_photos_video_send\", \"tv_order_copy_story\", \"kim_kardashian\", \"fcc_public_inspection_file\", \"october_september_august_july\", \"june_may_april_march\", \"new\", \"ai\", \"technology\", \"service\", \"datum\", \"reveal\", \"use\", \"solution\", \"say\", \"business\", \"include\", \"make\", \"show\", \"year\", \"time\", \"views_opinions_statements_press\", \"release_provided_courtesy_prnewswire\", \"news\", \"release_endorsed_gray_media\", \"market\", \"platform\", \"information\", \"pany\", \"global\", \"industry\", \"work\", \"day\", \"system\", \"also\", \"world\", \"chatgpt\", \"support\", \"first\", \"marketing_improve\", \"fan_data_analytic\", \"marketing_strategies_machine_learne\", \"sales_volume_unit\", \"includes_stocks_bullish_bearish\", \"island_murano_stands_warne\", \"download_maine_public\", \"remember_must_die_luca\", \"package_one_know\", \"wafer_dicing_tape_sale\", \"forecast_designed_investor\", \"bruno_apshow_moreshow_less\", \"screening_database_daily\", \"rd_international_artificial_intelligence\", \"data_collection_labelle\", \"interplay_ai_human_judgment\", \"full_etfs_package_include\", \"cybersecurity_shipment\", \"market_size_million_chart\", \"designed_investors_analysts_need\", \"political_pulse_weekly_email\", \"newsletter_ten_weekly_email\", \"credo_ai_intelligent_saas\", \"ai_automate_waste\", \"ai_unchaine\", \"wafer_dicing_tape\", \"experts_warn_use\", \"bicycle_tire\", \"decibel_ai_fund_village\", \"plete_doctors_paperwork_expert\", \"pro_music_right\", \"france_english_geo_beat\", \"celebrities_british_royal_family\", \"video_studio_euronews_english\", \"ht_digital_content_huffpost\", \"crypto_focusbitcoin_btc_ethereum\", \"shoulders_top_formationhead_shoulder\", \"pulse_new_york_pulse\", \"lifestyle_news_entertainment_entertainment\", \"bottom_formationtriple\", \"franc_chf_new_zealand\", \"dollar_nzd_canadian_dollar\", \"topaverage_directional\", \"polkadot_dot_tron_trx\", \"patternrounding_bottomrise\", \"job_skills_interview_associate\", \"usa_today_new\", \"working_swiss_architectural_firm\", \"ltc_nft_newseconomic_pattern\", \"mae_exponential_moving_average\", \"termscpi_toolscpi\", \"ema_simple_moving_average\", \"drug_coated_endotracheal_tube\", \"shiba_inu_shib_litecoin\", \"international_wibbitz_top_storie\", \"british_pound_gbp_swiss\", \"consumer_technology_energy_natural\", \"ment_mediaall_entertain_ment\", \"american_children_diversity_equity\", \"media_advertising_art_book\", \"entertainment_film_motion_picture\", \"investing_accounting_news_issue\", \"shareholder_activism_shareholder_meeting\", \"natural_resources_environ_mentall\", \"travel_overviewview_travel_policy\", \"manufacturing_aerospace_defense_agriculture\", \"chemical_construction_building_general\", \"overviewview_policy_public_inter\", \"equipment_accessories_sports_overviewview\", \"investing_overviewview_financial_service\", \"consumer_products_retail_overviewview\", \"general_business_overviewview_general\", \"overviewview_health_sportsall_sport\", \"environ_ment_conservation_recycle\", \"engineering_math_supply_chain\", \"veterans_women_people_culture\", \"services_investingall_financial_service\", \"tourism_outdoors_camping_hike\", \"technology_overviewview\", \"general_sports_outdoors_campe\", \"medical_approval_medical_equipment\", \"heavy_industry_heavy_industry\", \"overview_view_people_culture\", \"hiking_sporting_events_sport\", \"acquisitions_mergers_takeovers_banke\", \"products_retail_animals_pet\", \"resourcesall_energy\", \"protocol_wireless_communications_unication\", \"electronic_commerce_electronic_game\", \"multimedia_internet_peripherals_social\", \"alternative_energies_chemical_electrical\", \"financial_technology_mobile_entertainment\", \"american_african_american_asian\", \"estate_corporate_expansion_earning\", \"licensing_new_products_service\", \"business_awards_commercial_real\", \"utilities_gas_general_manufacture\", \"energy_oil_gas_discoverie\", \"views_opinions_statements_press\", \"release_endorsed_gray_media\", \"release_provided_courtesy_prnewswire\", \"research_trade_show_new\", \"ai\", \"prnewswire_views_opinions_statement\", \"aboriginal_first_nations_native\", \"electronic_commerce_electronic_component\", \"media_group_necessarily_state\", \"group_inc_station_gray\", \"lifestylegray_dc\", \"technology\", \"new\", \"platform\", \"datum\", \"market\", \"pany\", \"industry\", \"ai_solution\", \"global\", \"solution\", \"service\", \"business\", \"use\", \"say\", \"news\", \"research\", \"panie\", \"base\", \"include\", \"application\", \"system\"], \"Freq\": [364815.0, 192653.0, 72930.0, 156779.0, 76957.0, 50112.0, 57407.0, 126925.0, 25236.0, 116842.0, 18800.0, 80128.0, 21172.0, 61258.0, 14137.0, 46761.0, 43993.0, 45553.0, 26812.0, 69981.0, 11965.0, 141128.0, 11608.0, 43190.0, 10490.0, 12403.0, 10406.0, 12041.0, 11912.0, 48131.0, 191.5347548529504, 218.97701953926705, 181.719703462317, 328.3589003006531, 355.78696998723814, 241.98469970534072, 229.81352812465988, 226.73190191460822, 200.41626646651667, 124.15657555896057, 167.62821067161713, 99.57894299222443, 155.32179113161715, 96.76115229037984, 647.8479655197772, 89.86304846188592, 89.27054251268028, 157.8087363521817, 87.34321746481716, 106.83806187987356, 185.80234773261725, 137.1714130034522, 257.1277880480013, 754.1302161491647, 226.55084281979177, 510.56013062336535, 85.54693599218848, 168.93173624813912, 167.9466719522516, 444.79344804010276, 751.6959193916807, 741.813285648953, 742.0025245603302, 741.8106214847804, 741.988204677903, 741.8877157355219, 741.9687229773917, 741.8896306035209, 741.8411761176337, 741.8409263522425, 741.5335484108413, 741.4746037785249, 741.5616886449133, 741.3693692937114, 741.3105079165255, 741.3269091772124, 742.0364093983991, 741.0689015281326, 740.5626270802288, 741.706885592314, 741.075145662912, 740.8558516494637, 741.1964483878907, 741.0191982152896, 740.8890704464894, 740.9252864282092, 740.9536764276723, 740.5688712150081, 15783.267844630373, 18376.835662797363, 20558.255951397794, 5270.045424443491, 3094.8139892157606, 7809.993941454392, 2571.712680398477, 4992.824822413296, 7645.7628731232235, 17841.523823536507, 7729.978434697774, 2073.1253451938546, 10819.95663291994, 126494.36571671531, 5976.639375538537, 14866.811354278241, 1901.533357764352, 3947.5130346739056, 4949.267070275142, 6668.2950250979, 3714.370029816022, 30178.1997765127, 6557.320598574843, 17199.82258429345, 15074.333758330315, 24090.21165938487, 11766.800579823514, 22505.433601378143, 20264.698361641356, 18894.508071072152, 10040.197074176274, 10706.515856414198, 12987.898914971734, 13339.203595249015, 60318.84549484996, 27268.857903554865, 28069.567117268918, 24018.375136637802, 19068.981518564466, 39199.18221612175, 103844.87809436637, 26382.906092977762, 30093.572601573498, 31332.89115549739, 59551.267826785006, 36095.24446367677, 35323.72383263653, 36016.73953800595, 29824.30819282393, 33037.0957008644, 37937.89762859566, 47461.519930136215, 21668.48909075403, 241447.72143138997, 50228.41427311926, 108698.44172715518, 90634.83317819975, 27802.9029327517, 57801.54070820263, 46088.457670589065, 80361.08614808824, 52415.490582257895, 38790.456805434755, 28897.416171408146, 46391.39977864311, 32979.58971720117, 52705.234421001405, 35588.60036299401, 32021.955905399005, 37996.33074139093, 40065.65099410542, 33377.461323049436, 37040.87888004603, 260.9425808275388, 186.5109582565332, 186.16072266105323, 140.0022485294766, 136.45305164278645, 125.80569128229561, 148.3438895508866, 118.89588282555063, 121.1897167037179, 143.11287491236368, 117.09122528055221, 111.60892376158542, 525.1630255848715, 221.91074721343446, 100.6623241429632, 98.74979627747457, 162.31937922768026, 130.69193743709826, 171.32292126697607, 140.78237333591042, 170.27509823179395, 144.2219175836246, 104.65282508933629, 83.20880515609537, 83.20880515609537, 83.1958733340483, 90.62082189830826, 85.57897333188232, 79.8102392140162, 134.96162155212517, 24396.445924986074, 8602.97401009012, 1224.2179342083339, 2732.750031600275, 5792.637932563724, 2755.2064434790245, 867.0105496455997, 10108.299856708505, 4901.640500163455, 590.0735428569677, 5258.447043301343, 1083.840127142644, 1370.8166335708906, 8868.56237427226, 1965.6545740789902, 4835.3231929027215, 1062.2932183689502, 738.4331328313694, 4358.344646929518, 864.1690934061654, 6273.002322930488, 512.0020254170014, 463.40260604100473, 1455.8656675440109, 1050.6515946450775, 494.01574840477747, 1079.1032452847644, 11447.72093012642, 11037.969354727407, 2925.3301447697795, 3778.8317616478253, 2656.5710960795973, 4220.982923262767, 1982.0799406186832, 1778.482455768436, 1651.4549751511165, 2398.170321699328, 2370.2198830491016, 17349.14613597614, 9696.749461358188, 5679.344317312072, 5645.04497985081, 12896.955892278136, 3197.753319849909, 3202.5204810959963, 3914.0973185669013, 4435.222251296619, 139109.39227907802, 3123.2198848386597, 3125.7233013473087, 3979.168524867423, 28585.313792157023, 14211.13004385009, 28985.291373292646, 31866.66642013935, 31083.454958504983, 13036.175713005383, 14359.977748776988, 13519.811558965814, 16751.72002871409, 34568.062065146274, 22927.52711758166, 17805.586285073892, 11056.05624261685, 11438.61340282041, 9637.02761364104, 7211.196189667693, 10023.545766405705, 9330.486136595282, 10468.0760228084, 8377.590265111776, 123.70152401786719, 123.6623001380546, 52.997137866907515, 123.66433934185505, 123.67954441180333, 103.04841318323625, 70.17945198204082, 532.48696921776, 532.6526784769264, 76.36462398445501, 443.4696741466017, 70.90299981104695, 381.6946637687786, 127.4689598821547, 382.04918413956193, 72.86084759141292, 109.09787548843425, 371.5286169566417, 381.4522038054988, 62.74990033968273, 100.88627550267404, 381.64063171103254, 381.69507434672494, 2882.127550572305, 109.31845164717096, 371.34799003208957, 371.11081283838683, 177.38519269043016, 371.19339374933907, 381.5244655240649, 2882.288716102198, 2749.5557637411343, 2868.511690995215, 2354.451241036905, 1874.1337290253907, 967.6539361322957, 921.5336606696509, 402.3277110277622, 381.39253314395563, 371.1144806680413, 371.16955285658486, 370.9959605008477, 371.1433032398785, 381.21270000343316, 371.22062875311684, 371.0807859045736, 975.9632673552303, 728.9547026103953, 1108.1274324012172, 683.3175952750721, 404.38637622286626, 389.38290004626487, 1102.4249974192808, 939.203512145752, 1150.8924648858952, 1151.045090394503, 1139.5463896839467, 1174.541754598436, 1175.1300306800356, 1174.199387334866, 1149.6625923333906, 1173.811473291109, 695.2653040278096, 944.8936845330227, 1146.1589938574587, 1156.6232571179962, 942.8141893501046, 942.8419991630074, 804.5572118107459, 795.4358121535618, 937.5449962172077, 1304.562155326962, 1968.2456394866374, 1984.295405129977, 14787.63108016914, 17764.03783802992, 10851.432789618415, 6769.387139661403, 9005.305293985291, 3245.611002156725, 8431.671626316376, 4953.379642176057, 8027.039286531754, 6033.315697903045, 5045.939458512466, 5130.403772620425, 3675.2642904572153, 4228.442198424401, 4476.040626818894, 2626.6749302943913, 2552.6530914439477, 4773.084902554408, 2543.0022104670884, 6220.456906896476, 3786.884120452504, 3765.7215097582557, 4068.473147411061, 3844.9431266967913, 4080.311806661235, 3930.1252405425066, 3180.902603954928, 3539.1713871577326, 3508.7746047303563, 3299.759116602254, 3248.0514774701164, 3186.52456565937, 3176.400917863165, 210.61713698762267, 132.25060415122283, 201.67025369876907, 100.71199708034766, 205.38310536242625, 118.24383199635521, 104.67025469615805, 110.92700579948358, 123.23675929318216, 83.06807847099854, 149.79318751099288, 78.33988073917057, 98.9318099488951, 177.16425117601543, 84.17814449786428, 95.79480307118062, 68.63938778072642, 49.09088873909761, 48.747724736255975, 81.11135067781049, 63.04231258585489, 63.02877314076012, 115.41691266706172, 69.27326517787168, 147.26373164361146, 61.882384786696974, 69.19519014462713, 46.54302742530467, 89.26295021078228, 69.23252891295361, 292.7285534224871, 230.45530490394185, 232.06485347104365, 247.96702439384842, 239.85272431932518, 178.87437687362214, 178.91297917373888, 167.30099847589491, 231.6301086840438, 178.72104588694955, 178.6957527883569, 178.73696077181003, 178.55609040780658, 181.92005005783957, 178.546835739405, 159.32693358300028, 203.02199685508256, 205.1385080706188, 178.52903398040442, 181.79124843498863, 178.52704602372106, 181.69995966706637, 325.22948876761365, 181.7614515475258, 178.6301389864128, 185.03105625915887, 1829.7410287808846, 2261.98274245715, 1870.4962522915016, 4212.37212107835, 4268.061504152312, 1212.861492401377, 1229.270828137703, 1136.2342756547876, 1134.1451465770704, 1136.3129852617756, 1132.9671081555855, 1132.5124613389648, 1134.058889473522, 1132.530341717721, 1131.613949843667, 1043.9530119348196, 1131.469828599821, 1133.3011747295373, 1128.262681668505, 1042.0731461843575, 1130.40949518422, 1140.2347183853021, 1040.5327380768188, 2159.0422571661647, 1136.3542269394097, 1127.0149187549848, 1037.5253302509072, 2149.323597428425, 1233.2637233716569, 1159.0190895571486, 1993.52691551045, 2060.6414113540222, 2005.5657116313478, 2014.058801689501, 2052.5190471388287, 1982.1521193845772, 2061.512608099863, 1658.3303735022214, 1656.0984709479017, 1653.5734739438155, 2063.4289534170343, 2076.517570369038, 6365.777117123016, 6206.4530587768, 6101.174826277349, 1530.9676269598442, 71035.98529078123, 3264.9596767558082, 2031.187126324364, 2120.5820117168373, 2989.917940250874, 2970.681887350341, 2717.94497990698, 14301.712416798582, 11035.012862383279, 6332.504877047538, 9670.228530524753, 10282.928550832734, 6646.857389983249, 5923.5818728041395, 3107.973904724956, 5234.325797859998, 4642.802255877796, 5053.91403412374, 4638.397393123248, 4684.460842845786, 4603.333880530744, 3889.342862334847, 3326.5386229791493, 3136.6159353628645, 3189.09655418482, 3252.155887947814, 3073.5857133723184, 3091.0516986271145], \"Total\": [364815.0, 192653.0, 72930.0, 156779.0, 76957.0, 50112.0, 57407.0, 126925.0, 25236.0, 116842.0, 18800.0, 80128.0, 21172.0, 61258.0, 14137.0, 46761.0, 43993.0, 45553.0, 26812.0, 69981.0, 11965.0, 141128.0, 11608.0, 43190.0, 10490.0, 12403.0, 10406.0, 12041.0, 11912.0, 48131.0, 192.40713421667553, 220.08539507686316, 182.732793808309, 330.2184138072217, 357.9290727068226, 243.44602290349994, 231.2158583770054, 228.12542818188837, 201.66170069107645, 125.02858172704275, 168.8226038132902, 100.30780913744522, 156.46315974881207, 97.48090959238714, 652.7730453698221, 90.54953101128335, 89.95997253534932, 159.0379366669173, 88.02427222039304, 107.69329907345761, 187.31826210927363, 138.30074076607218, 259.29369470900855, 760.5225114540132, 228.48273378795804, 514.9550522373813, 86.28854769258533, 170.4056562959167, 169.41626719903593, 448.69942688614765, 758.7268262351042, 749.1654419363854, 749.4804968825232, 749.2903861930533, 749.6541907452156, 749.624253331939, 749.7278427387809, 749.6593386449532, 749.6857858748272, 749.6884300793287, 749.4082782726956, 749.3575588954401, 749.4545505236847, 749.2723160853542, 749.216436393221, 749.263114506537, 750.0177564911551, 749.0470415333943, 748.5419246341412, 749.7666825816207, 749.1498514281384, 748.9821472573591, 749.3754518889807, 749.216539724456, 749.0932831366647, 749.1377498871708, 749.1742715640488, 748.8668902852523, 16556.95425324794, 19554.492194268158, 21928.195598800794, 5473.781057841107, 3180.8663674862632, 8192.728386181363, 2638.1604427891043, 5192.161376351987, 8022.785953991426, 19054.711402316792, 8116.288396854558, 2124.921303630792, 11471.000970326293, 141128.81207378156, 6267.152536493535, 15916.151014543932, 1952.6905005253184, 4118.1285584152, 5187.84929022733, 7033.723190623481, 3872.982088014705, 32849.47625291969, 6922.428056333685, 18532.901922392943, 16197.47702148822, 26298.82713276296, 12593.16463812718, 24581.14499439753, 22091.69526006282, 20595.43683095406, 10745.543326246094, 11504.193973264057, 14039.953726488327, 14440.056112902956, 68557.59962870061, 30264.765257943087, 31196.86356399183, 26570.804896506757, 20898.35275031546, 44455.325984521536, 123467.43588911073, 29455.45857726949, 33927.52896495064, 35403.01997044403, 69691.79239780834, 41243.79172155049, 40691.09803978849, 41642.42568797009, 34010.25056656239, 38028.48426201285, 44190.580325445015, 56755.11495881811, 24287.067968483658, 364815.8066253474, 62747.285280446835, 156779.11405115383, 126925.55314356057, 32222.10990540084, 76487.51423949758, 59118.488030449655, 116842.20625767218, 69981.63363295501, 49396.64343393828, 33877.31420434832, 64019.98126169867, 40973.24472469816, 80128.6675407418, 46346.93871657584, 41300.17442858539, 61258.24531799648, 76957.38969828947, 47906.41788035642, 192653.65661685323, 261.9410426660119, 187.2514562014639, 186.90685531047473, 140.7468705402398, 137.19755849111237, 126.54985266041503, 149.23267264006157, 119.63668077124089, 121.98258532760897, 144.06289566432105, 117.86967387372846, 112.35262445839442, 528.6895486329536, 223.48936964966515, 101.40253741175202, 99.49104397421615, 163.54837642193598, 131.70940601996804, 172.72711634399582, 141.96248813335566, 171.70748592896908, 145.476759046471, 105.58402285893857, 83.95158454535455, 83.95158454535455, 83.93865126694016, 91.44856935348064, 86.36480599047024, 80.5510444514344, 136.2148751129286, 25236.816003237138, 8859.580253198137, 1237.5499204608902, 2788.575970841089, 5962.994376317724, 2816.147030874295, 876.4954142476703, 10490.962942794995, 5054.419772770624, 595.6114658592583, 5429.495504604746, 1101.8487918287658, 1398.3872082285125, 9220.454845207729, 2013.3566973224229, 4998.020860216487, 1081.4611030868082, 749.3297893795653, 4503.8216387701605, 879.0721552605432, 6511.001411390803, 518.1685645552934, 468.5969093836939, 1489.5388743114215, 1071.7999408979756, 500.1942000790793, 1101.256393658577, 11965.194021533724, 11608.611315148984, 3020.087965350019, 3925.6023881772385, 2745.5597919739344, 4404.856257853298, 2037.8053335227212, 1826.1582518321854, 1695.4529146612865, 2481.423472101897, 2452.6006943430293, 18800.578352137338, 10406.253889756576, 5996.064020479168, 5976.28750751048, 14137.225779928416, 3352.470449631967, 3367.6207876127023, 4153.589269015467, 4758.116908037419, 192653.65661685323, 3305.3299558325593, 3316.2265426229183, 4447.2330008002, 50112.57866400166, 21172.700245654825, 57407.85748043451, 72930.63285134644, 76957.38969828947, 26812.482059738635, 46761.841661171566, 45553.85438846144, 80128.6675407418, 364815.8066253474, 156779.11405115383, 116842.20625767218, 48131.15021592928, 61258.24531799648, 45206.32051356591, 19137.65790514816, 76487.51423949758, 64019.98126169867, 126925.55314356057, 47906.41788035642, 125.51028171262574, 125.48525704601211, 53.78360634176433, 125.5189218745979, 125.5517391325758, 104.6467248999774, 71.31396933833577, 541.3405072369544, 541.5159898631933, 77.66011163123268, 451.2792516503945, 72.19221324331049, 388.6578986712604, 129.80244592886322, 389.0669485045318, 74.19983341872872, 111.11505090065052, 378.3986112651334, 388.5228129425805, 63.91494080824829, 102.7652386653034, 388.76734938684166, 388.8242133254932, 2936.3717215296283, 111.381509607333, 378.3697201574681, 378.1361743586623, 180.75651661708807, 378.32044832859873, 388.85195647724515, 2938.092794226133, 2805.2735749606004, 2928.1583038859785, 2401.50322080025, 1910.3533584215431, 986.2426931992134, 940.0752598533677, 410.25873523838885, 388.80509045825534, 378.2777518025796, 378.36782539418755, 378.2228289774392, 378.40267996514314, 388.78337073422875, 378.53955325246375, 378.39883709295225, 1011.0438217456102, 752.659453105597, 1154.3345459450857, 704.9239333570655, 412.85650175274134, 397.2606115676074, 1153.6538039711554, 978.5670694595076, 1207.595562673553, 1207.7897080982802, 1195.968316763289, 1235.016979829681, 1236.3012733549706, 1235.7277761326552, 1209.2284996203919, 1236.0331599258202, 720.3621716358559, 989.197864934147, 1208.7471288154713, 1220.4826733636714, 988.6993768275311, 990.1036293512199, 842.6743560077531, 834.7216463120676, 1074.0050719754242, 1669.965678328771, 2981.242497750221, 3202.14131981596, 126925.55314356057, 364815.8066253474, 156779.11405115383, 61258.24531799648, 116842.20625767218, 13860.023794064398, 123467.43588911073, 43190.94512349914, 141128.81207378156, 80128.6675407418, 64019.98126169867, 69691.79239780834, 30887.776397254424, 46346.93871657584, 56755.11495881811, 12403.589942883138, 11912.626689829933, 76487.51423949758, 12041.470074725428, 192653.65661685323, 43993.01692559747, 48131.15021592928, 69981.63363295501, 57407.85748043451, 72930.63285134644, 68557.59962870061, 31335.718994272032, 59118.488030449655, 62747.285280446835, 41300.17442858539, 40691.09803978849, 34464.12741379336, 35305.89655555795, 211.36888697515008, 133.0960824833669, 203.43551404005535, 101.60653459444998, 207.22242808319098, 119.3551548791596, 105.66236407563805, 112.020256845332, 124.63221544018366, 84.04492187923206, 151.66556402034448, 79.36339579433951, 100.25394070765896, 179.55039893035203, 85.33550037951797, 97.21272027621836, 69.70857493218968, 49.868419616032476, 49.52927323554738, 82.41415122562861, 64.05987853280772, 64.05781726973031, 117.30353423250335, 70.42255338943392, 149.7211515236076, 62.92119224389425, 70.36533232734676, 47.33669489105006, 90.78753095921172, 70.4214520123717, 298.47588764324865, 234.45738958439844, 236.29205202403895, 252.74737070298954, 244.42569300683766, 182.02755960591637, 182.0927890431883, 170.1984150313668, 236.41892070860504, 181.95365089510844, 182.0040253914415, 182.06213840346152, 181.9153343537367, 185.47227333576464, 182.00054103991744, 162.26327533271004, 207.2741942340067, 209.7606370701189, 182.04938672645517, 185.44695009468097, 182.06178899546308, 185.3892106201884, 336.50154891891407, 185.4862500989067, 182.2090025088703, 188.97941509505907, 2080.421574958671, 2615.174222364065, 2202.957724960856, 5260.961943006016, 5401.782790383542, 1399.241391166945, 1422.1972141301508, 1307.5671507197997, 1307.3609036169275, 1310.7470562992341, 1306.7738130169041, 1307.0815414427748, 1309.1215658458352, 1307.7694128730654, 1306.9662874051185, 1198.50022478776, 1307.1323904764017, 1309.963980392569, 1304.3845432613393, 1197.9457597471712, 1307.4966713625658, 1320.6067659112834, 1197.241655675951, 2647.281297756295, 1318.9085744000809, 1307.4901499175003, 1196.1770430010206, 2647.674246425693, 1444.793744313517, 1352.2143776274963, 2458.858920700457, 2553.1219918981537, 2495.4414317641, 2510.339089829721, 2564.5607306676507, 2485.638986799191, 2679.768787417984, 2090.6776917726265, 2089.828571940893, 2087.9285951041406, 2757.1975214276936, 2793.5946722037393, 12403.589942883138, 12041.470074725428, 11912.626689829933, 1953.0407219712636, 364815.8066253474, 6084.945092650885, 3063.7640726439176, 3330.430841592295, 5605.375166236428, 5551.200696338625, 5106.7365769163025, 156779.11405115383, 126925.55314356057, 43993.01692559747, 116842.20625767218, 192653.65661685323, 69981.63363295501, 72930.63285134644, 10459.849887565832, 57407.85748043451, 43190.94512349914, 61258.24531799648, 80128.6675407418, 123467.43588911073, 141128.81207378156, 76487.51423949758, 46761.841661171566, 41630.55984081181, 47906.41788035642, 64019.98126169867, 45553.85438846144, 59118.488030449655], \"Category\": [\"Default\", \"Default\", \"Default\", \"Default\", \"Default\", \"Default\", \"Default\", \"Default\", \"Default\", \"Default\", \"Default\", \"Default\", \"Default\", \"Default\", \"Default\", \"Default\", \"Default\", \"Default\", \"Default\", \"Default\", \"Default\", \"Default\", \"Default\", \"Default\", \"Default\", \"Default\", \"Default\", \"Default\", \"Default\", \"Default\", \"Topic1\", \"Topic1\", \"Topic1\", \"Topic1\", \"Topic1\", \"Topic1\", \"Topic1\", \"Topic1\", \"Topic1\", \"Topic1\", \"Topic1\", \"Topic1\", \"Topic1\", \"Topic1\", \"Topic1\", \"Topic1\", \"Topic1\", \"Topic1\", \"Topic1\", \"Topic1\", \"Topic1\", \"Topic1\", \"Topic1\", \"Topic1\", \"Topic1\", \"Topic1\", \"Topic1\", \"Topic1\", \"Topic1\", \"Topic1\", \"Topic1\", \"Topic1\", \"Topic1\", \"Topic1\", \"Topic1\", \"Topic1\", \"Topic1\", \"Topic1\", \"Topic1\", \"Topic1\", \"Topic1\", \"Topic1\", \"Topic1\", \"Topic1\", \"Topic1\", \"Topic1\", \"Topic1\", \"Topic1\", \"Topic1\", \"Topic1\", \"Topic1\", \"Topic1\", \"Topic1\", \"Topic1\", \"Topic1\", \"Topic1\", \"Topic1\", \"Topic1\", \"Topic1\", \"Topic1\", \"Topic1\", \"Topic1\", \"Topic1\", \"Topic1\", \"Topic1\", \"Topic1\", \"Topic1\", \"Topic1\", \"Topic1\", \"Topic1\", \"Topic1\", \"Topic1\", \"Topic1\", \"Topic1\", \"Topic1\", \"Topic1\", \"Topic1\", \"Topic1\", \"Topic1\", \"Topic1\", \"Topic1\", \"Topic1\", \"Topic1\", \"Topic1\", \"Topic1\", \"Topic1\", \"Topic1\", \"Topic1\", \"Topic1\", \"Topic1\", \"Topic1\", \"Topic1\", \"Topic1\", \"Topic1\", \"Topic1\", \"Topic1\", \"Topic1\", \"Topic1\", \"Topic1\", \"Topic1\", \"Topic1\", \"Topic1\", \"Topic1\", \"Topic1\", \"Topic1\", \"Topic1\", \"Topic1\", \"Topic1\", \"Topic1\", \"Topic1\", \"Topic1\", \"Topic1\", \"Topic1\", \"Topic1\", \"Topic1\", \"Topic1\", \"Topic1\", \"Topic1\", \"Topic1\", \"Topic1\", \"Topic1\", \"Topic1\", \"Topic1\", \"Topic1\", \"Topic1\", \"Topic1\", \"Topic1\", \"Topic1\", \"Topic1\", \"Topic1\", \"Topic1\", \"Topic2\", \"Topic2\", \"Topic2\", \"Topic2\", \"Topic2\", \"Topic2\", \"Topic2\", \"Topic2\", \"Topic2\", \"Topic2\", \"Topic2\", \"Topic2\", \"Topic2\", \"Topic2\", \"Topic2\", \"Topic2\", \"Topic2\", \"Topic2\", \"Topic2\", \"Topic2\", \"Topic2\", \"Topic2\", \"Topic2\", \"Topic2\", \"Topic2\", \"Topic2\", \"Topic2\", \"Topic2\", \"Topic2\", \"Topic2\", \"Topic2\", \"Topic2\", \"Topic2\", \"Topic2\", \"Topic2\", \"Topic2\", \"Topic2\", \"Topic2\", \"Topic2\", \"Topic2\", \"Topic2\", \"Topic2\", \"Topic2\", \"Topic2\", \"Topic2\", \"Topic2\", \"Topic2\", \"Topic2\", \"Topic2\", \"Topic2\", \"Topic2\", \"Topic2\", \"Topic2\", \"Topic2\", \"Topic2\", \"Topic2\", \"Topic2\", \"Topic2\", \"Topic2\", \"Topic2\", \"Topic2\", \"Topic2\", \"Topic2\", \"Topic2\", \"Topic2\", \"Topic2\", \"Topic2\", \"Topic2\", \"Topic2\", \"Topic2\", \"Topic2\", \"Topic2\", \"Topic2\", \"Topic2\", \"Topic2\", \"Topic2\", \"Topic2\", \"Topic2\", \"Topic2\", \"Topic2\", \"Topic2\", \"Topic2\", \"Topic2\", \"Topic2\", \"Topic2\", \"Topic2\", \"Topic2\", \"Topic2\", \"Topic2\", \"Topic2\", \"Topic2\", \"Topic2\", \"Topic2\", \"Topic2\", \"Topic2\", \"Topic2\", \"Topic2\", \"Topic2\", \"Topic2\", \"Topic2\", \"Topic2\", \"Topic3\", \"Topic3\", \"Topic3\", \"Topic3\", \"Topic3\", \"Topic3\", \"Topic3\", \"Topic3\", \"Topic3\", \"Topic3\", \"Topic3\", \"Topic3\", \"Topic3\", \"Topic3\", \"Topic3\", \"Topic3\", \"Topic3\", \"Topic3\", \"Topic3\", \"Topic3\", \"Topic3\", \"Topic3\", \"Topic3\", \"Topic3\", \"Topic3\", \"Topic3\", \"Topic3\", \"Topic3\", \"Topic3\", \"Topic3\", \"Topic3\", \"Topic3\", \"Topic3\", \"Topic3\", \"Topic3\", \"Topic3\", \"Topic3\", \"Topic3\", \"Topic3\", \"Topic3\", \"Topic3\", \"Topic3\", \"Topic3\", \"Topic3\", \"Topic3\", \"Topic3\", \"Topic3\", \"Topic3\", \"Topic3\", \"Topic3\", \"Topic3\", \"Topic3\", \"Topic3\", \"Topic3\", \"Topic3\", \"Topic3\", \"Topic3\", \"Topic3\", \"Topic3\", \"Topic3\", \"Topic3\", \"Topic3\", \"Topic3\", \"Topic3\", \"Topic3\", \"Topic3\", \"Topic3\", \"Topic3\", \"Topic3\", \"Topic3\", \"Topic3\", \"Topic3\", \"Topic3\", \"Topic3\", \"Topic3\", \"Topic3\", \"Topic3\", \"Topic3\", \"Topic3\", \"Topic3\", \"Topic3\", \"Topic3\", \"Topic3\", \"Topic3\", \"Topic3\", \"Topic3\", \"Topic3\", \"Topic3\", \"Topic3\", \"Topic3\", \"Topic3\", \"Topic3\", \"Topic3\", \"Topic3\", \"Topic3\", \"Topic3\", \"Topic3\", \"Topic3\", \"Topic3\", \"Topic3\", \"Topic3\", \"Topic3\", \"Topic3\", \"Topic3\", \"Topic3\", \"Topic3\", \"Topic3\", \"Topic4\", \"Topic4\", \"Topic4\", \"Topic4\", \"Topic4\", \"Topic4\", \"Topic4\", \"Topic4\", \"Topic4\", \"Topic4\", \"Topic4\", \"Topic4\", \"Topic4\", \"Topic4\", \"Topic4\", \"Topic4\", \"Topic4\", \"Topic4\", \"Topic4\", \"Topic4\", \"Topic4\", \"Topic4\", \"Topic4\", \"Topic4\", \"Topic4\", \"Topic4\", \"Topic4\", \"Topic4\", \"Topic4\", \"Topic4\", \"Topic4\", \"Topic4\", \"Topic4\", \"Topic4\", \"Topic4\", \"Topic4\", \"Topic4\", \"Topic4\", \"Topic4\", \"Topic4\", \"Topic4\", \"Topic4\", \"Topic4\", \"Topic4\", \"Topic4\", \"Topic4\", \"Topic4\", \"Topic4\", \"Topic4\", \"Topic4\", \"Topic4\", \"Topic4\", \"Topic4\", \"Topic4\", \"Topic4\", \"Topic4\", \"Topic4\", \"Topic4\", \"Topic4\", \"Topic4\", \"Topic4\", \"Topic4\", \"Topic4\", \"Topic4\", \"Topic4\", \"Topic4\", \"Topic4\", \"Topic4\", \"Topic4\", \"Topic4\", \"Topic4\", \"Topic4\", \"Topic4\", \"Topic4\", \"Topic4\", \"Topic4\", \"Topic4\", \"Topic4\", \"Topic4\", \"Topic4\", \"Topic4\", \"Topic4\", \"Topic4\", \"Topic4\", \"Topic4\", \"Topic4\", \"Topic4\", \"Topic4\", \"Topic4\", \"Topic4\", \"Topic4\", \"Topic4\", \"Topic4\", \"Topic4\", \"Topic4\", \"Topic4\", \"Topic4\", \"Topic4\", \"Topic4\", \"Topic4\", \"Topic4\", \"Topic4\", \"Topic4\", \"Topic4\", \"Topic4\", \"Topic4\", \"Topic4\", \"Topic4\", \"Topic4\", \"Topic4\", \"Topic4\", \"Topic4\", \"Topic4\", \"Topic4\", \"Topic4\", \"Topic4\", \"Topic4\", \"Topic4\", \"Topic4\", \"Topic4\", \"Topic4\", \"Topic4\", \"Topic4\", \"Topic4\", \"Topic4\", \"Topic4\", \"Topic4\", \"Topic4\", \"Topic4\", \"Topic4\"], \"logprob\": [30.0, 29.0, 28.0, 27.0, 26.0, 25.0, 24.0, 23.0, 22.0, 21.0, 20.0, 19.0, 18.0, 17.0, 16.0, 15.0, 14.0, 13.0, 12.0, 11.0, 10.0, 9.0, 8.0, 7.0, 6.0, 5.0, 4.0, 3.0, 2.0, 1.0, -11.6909, -11.557, -11.7435, -11.1519, -11.0717, -11.4571, -11.5087, -11.5222, -11.6456, -12.1244, -11.8242, -12.345, -11.9005, -12.3737, -10.4723, -12.4477, -12.4543, -11.8846, -12.4761, -12.2747, -11.7213, -12.0248, -11.3964, -10.3204, -11.523, -10.7105, -12.4969, -11.8165, -11.8223, -10.8484, -10.3237, -10.3369, -10.3366, -10.3369, -10.3367, -10.3368, -10.3367, -10.3368, -10.3369, -10.3369, -10.3373, -10.3374, -10.3372, -10.3375, -10.3376, -10.3376, -10.3366, -10.3379, -10.3386, -10.337, -10.3379, -10.3382, -10.3377, -10.338, -10.3381, -10.3381, -10.3381, -10.3386, -7.2793, -7.1271, -7.015, -8.3762, -8.9085, -7.9828, -9.0937, -8.4302, -8.0041, -7.1567, -7.9931, -9.3092, -7.6568, -5.198, -8.2504, -7.3391, -9.3956, -8.6652, -8.439, -8.1409, -8.726, -6.6311, -8.1577, -7.1933, -7.3252, -6.8564, -7.573, -6.9245, -7.0294, -7.0994, -7.7316, -7.6674, -7.4742, -7.4475, -5.9386, -6.7325, -6.7036, -6.8594, -7.0902, -6.3696, -5.3953, -6.7655, -6.6339, -6.5936, -5.9514, -6.4521, -6.4737, -6.4543, -6.6429, -6.5406, -6.4023, -6.1783, -6.9624, -4.5516, -6.1217, -5.3497, -5.5314, -6.7131, -5.9812, -6.2077, -5.6517, -6.079, -6.3801, -6.6745, -6.2011, -6.5423, -6.0735, -6.4662, -6.5718, -6.4007, -6.3477, -6.5304, -6.4262, -9.9568, -10.2926, -10.2945, -10.5795, -10.6051, -10.6864, -10.5216, -10.7429, -10.7238, -10.5575, -10.7582, -10.8061, -9.2574, -10.1188, -10.9093, -10.9285, -10.4316, -10.6483, -10.3776, -10.5739, -10.3837, -10.5498, -10.8705, -11.0998, -11.0998, -11.0999, -11.0144, -11.0717, -11.1415, -10.6161, -5.4189, -6.4613, -8.4111, -7.6081, -6.8568, -7.5999, -8.7561, -6.3, -7.0238, -9.1409, -6.9535, -8.5329, -8.298, -6.4308, -7.9375, -7.0374, -8.5529, -8.9166, -7.1413, -8.7593, -6.7771, -9.2828, -9.3825, -8.2378, -8.564, -9.3185, -8.5372, -6.1756, -6.212, -7.54, -7.2839, -7.6363, -7.1733, -7.9292, -8.0376, -8.1117, -7.7387, -7.7504, -5.7598, -6.3416, -6.8765, -6.8826, -6.0564, -7.4509, -7.4494, -7.2488, -7.1238, -3.6781, -7.4745, -7.4737, -7.2323, -5.2605, -5.9593, -5.2466, -5.1518, -5.1767, -6.0456, -5.9489, -6.0092, -5.7949, -5.0704, -5.481, -5.7338, -6.2104, -6.1764, -6.3477, -6.6377, -6.3084, -6.3801, -6.265, -6.4878, -10.3226, -10.3229, -11.1702, -10.3229, -10.3228, -10.5053, -10.8894, -8.8629, -8.8626, -10.8049, -9.0458, -10.8791, -9.1958, -10.2926, -9.1949, -10.8519, -10.4482, -9.2228, -9.1965, -11.0013, -10.5265, -9.196, -9.1958, -7.1742, -10.4462, -9.2233, -9.224, -9.9621, -9.2237, -9.1963, -7.1741, -7.2213, -7.1789, -7.3764, -7.6045, -8.2656, -8.3144, -9.1432, -9.1966, -9.2239, -9.2238, -9.2243, -9.2239, -9.1971, -9.2237, -9.224, -8.257, -8.5488, -8.13, -8.6135, -9.1381, -9.1759, -8.1352, -8.2954, -8.0922, -8.092, -8.1021, -8.0718, -8.0713, -8.0721, -8.0932, -8.0724, -8.5962, -8.2894, -8.0963, -8.0872, -8.2916, -8.2916, -8.4502, -8.4616, -8.2972, -7.9668, -7.5556, -7.5474, -5.5389, -5.3555, -5.8484, -6.3203, -6.0349, -7.0554, -6.1007, -6.6326, -6.1499, -6.4354, -6.6141, -6.5975, -6.9311, -6.7909, -6.734, -7.267, -7.2956, -6.6697, -7.2994, -6.4049, -6.9012, -6.9068, -6.8294, -6.8859, -6.8265, -6.864, -7.0755, -6.9688, -6.9774, -7.0388, -7.0546, -7.0738, -7.0769, -9.5928, -10.0581, -9.6362, -10.3305, -9.6179, -10.17, -10.292, -10.2339, -10.1287, -10.5231, -9.9335, -10.5817, -10.3484, -9.7657, -10.5099, -10.3806, -10.7139, -11.0491, -11.0561, -10.547, -10.799, -10.7992, -10.1942, -10.7047, -9.9506, -10.8176, -10.7059, -11.1024, -10.4512, -10.7053, -9.2635, -9.5027, -9.4958, -9.4295, -9.4628, -9.7561, -9.7559, -9.823, -9.4977, -9.757, -9.7571, -9.7569, -9.7579, -9.7392, -9.7579, -9.8718, -9.6295, -9.6191, -9.758, -9.7399, -9.7581, -9.7404, -9.1583, -9.7401, -9.7575, -9.7223, -7.4309, -7.2188, -7.4088, -6.597, -6.5839, -7.8421, -7.8286, -7.9073, -7.9092, -7.9073, -7.9102, -7.9106, -7.9092, -7.9106, -7.9114, -7.992, -7.9115, -7.9099, -7.9144, -7.9938, -7.9125, -7.9038, -7.9953, -7.2654, -7.9072, -7.9155, -7.9982, -7.2699, -7.8254, -7.8875, -7.3451, -7.312, -7.3391, -7.3349, -7.316, -7.3509, -7.3116, -7.5292, -7.5306, -7.5321, -7.3107, -7.3043, -6.1841, -6.2095, -6.2266, -7.6091, -3.7719, -6.8518, -7.3264, -7.2833, -6.9398, -6.9462, -7.0352, -5.3747, -5.634, -6.1893, -5.766, -5.7046, -6.1409, -6.2561, -6.9011, -6.3798, -6.4997, -6.4149, -6.5007, -6.4908, -6.5083, -6.6768, -6.8331, -6.8919, -6.8753, -6.8557, -6.9122, -6.9065], \"loglift\": [30.0, 29.0, 28.0, 27.0, 26.0, 25.0, 24.0, 23.0, 22.0, 21.0, 20.0, 19.0, 18.0, 17.0, 16.0, 15.0, 14.0, 13.0, 12.0, 11.0, 10.0, 9.0, 8.0, 7.0, 6.0, 5.0, 4.0, 3.0, 2.0, 1.0, 0.4271, 0.4266, 0.4261, 0.426, 0.4257, 0.4256, 0.4256, 0.4255, 0.4255, 0.4247, 0.4246, 0.4244, 0.4243, 0.4243, 0.4241, 0.4241, 0.424, 0.4239, 0.4239, 0.4237, 0.4235, 0.4235, 0.4233, 0.4232, 0.4232, 0.4231, 0.423, 0.423, 0.423, 0.4229, 0.4224, 0.4218, 0.4216, 0.4216, 0.4214, 0.4213, 0.4213, 0.4213, 0.4212, 0.4211, 0.4211, 0.4211, 0.4211, 0.4211, 0.4211, 0.421, 0.421, 0.421, 0.421, 0.4209, 0.4208, 0.4208, 0.4207, 0.4207, 0.4207, 0.4206, 0.4206, 0.4205, 0.3838, 0.3696, 0.3672, 0.3937, 0.4042, 0.3838, 0.4062, 0.3925, 0.3835, 0.3659, 0.3829, 0.407, 0.3732, 0.3222, 0.3842, 0.3635, 0.4051, 0.3894, 0.3846, 0.3783, 0.3899, 0.3469, 0.3775, 0.357, 0.3598, 0.344, 0.3638, 0.3434, 0.3453, 0.3455, 0.3638, 0.3598, 0.3538, 0.3524, 0.3036, 0.3274, 0.326, 0.3307, 0.3401, 0.3058, 0.2586, 0.3215, 0.3118, 0.3095, 0.2744, 0.2983, 0.2902, 0.2865, 0.3003, 0.291, 0.2791, 0.2528, 0.3176, 0.0189, 0.2091, 0.0654, 0.0949, 0.2842, 0.1516, 0.1827, 0.0574, 0.1426, 0.19, 0.2727, 0.1096, 0.2146, 0.0128, 0.1675, 0.1772, -0.0459, -0.2211, 0.0703, -1.2172, 1.8527, 1.8526, 1.8525, 1.8512, 1.8511, 1.8506, 1.8506, 1.8503, 1.85, 1.8499, 1.8499, 1.8499, 1.8499, 1.8495, 1.8492, 1.8491, 1.849, 1.8488, 1.8484, 1.8482, 1.8482, 1.8479, 1.8477, 1.8477, 1.8477, 1.8477, 1.8475, 1.8474, 1.8473, 1.8473, 1.8227, 1.8272, 1.8457, 1.8363, 1.8276, 1.8347, 1.8457, 1.8194, 1.8259, 1.8472, 1.8245, 1.8401, 1.8366, 1.8176, 1.8326, 1.8235, 1.8387, 1.8419, 1.8237, 1.8394, 1.8193, 1.8446, 1.8454, 1.8337, 1.8366, 1.8441, 1.8362, 1.8123, 1.8061, 1.8247, 1.8184, 1.8236, 1.8139, 1.8288, 1.8301, 1.8303, 1.8224, 1.8224, 1.7762, 1.7859, 1.8023, 1.7995, 1.7647, 1.8093, 1.8063, 1.7972, 1.7863, 1.5309, 1.7999, 1.7974, 1.7453, 1.2952, 1.4579, 1.1732, 1.0286, 0.95, 1.1354, 0.6759, 0.6418, 0.2914, -0.4999, -0.066, -0.0248, 0.3856, 0.1784, 0.3109, 0.8805, -0.1756, -0.0694, -0.6387, 0.1129, 2.2227, 2.2226, 2.2225, 2.2223, 2.2222, 2.2218, 2.2212, 2.2207, 2.2207, 2.2204, 2.2198, 2.2192, 2.2191, 2.2191, 2.219, 2.219, 2.2189, 2.2189, 2.2188, 2.2188, 2.2188, 2.2187, 2.2187, 2.2186, 2.2185, 2.2185, 2.2185, 2.2184, 2.2182, 2.2182, 2.218, 2.2172, 2.2166, 2.2174, 2.2181, 2.2182, 2.2173, 2.2177, 2.218, 2.2181, 2.218, 2.2179, 2.2178, 2.2175, 2.2177, 2.2177, 2.2019, 2.2052, 2.1964, 2.2061, 2.2165, 2.2172, 2.1918, 2.1962, 2.1891, 2.1891, 2.1889, 2.187, 2.1865, 2.1861, 2.1867, 2.1856, 2.2018, 2.1914, 2.184, 2.1835, 2.1897, 2.1883, 2.1909, 2.189, 2.1013, 1.9903, 1.822, 1.7587, 0.0874, -0.785, -0.4333, 0.0345, -0.3258, 0.7855, -0.4468, 0.0717, -0.6296, -0.3491, -0.3034, -0.3717, 0.1085, -0.1571, -0.3028, 0.6849, 0.6967, -0.5369, 0.6822, -1.1958, -0.2153, -0.3108, -0.6078, -0.4662, -0.6461, -0.6218, -0.0504, -0.5784, -0.6466, -0.2898, -0.2907, -0.1438, -0.1711, 2.4313, 2.4285, 2.4262, 2.426, 2.426, 2.4255, 2.4254, 2.4251, 2.4236, 2.4232, 2.4224, 2.4219, 2.4216, 2.4215, 2.4212, 2.4202, 2.4194, 2.4192, 2.419, 2.4189, 2.4189, 2.4187, 2.4187, 2.4184, 2.4183, 2.4182, 2.4181, 2.418, 2.4179, 2.4178, 2.4154, 2.4177, 2.4168, 2.4158, 2.416, 2.4174, 2.4173, 2.4177, 2.4144, 2.4169, 2.4165, 2.4164, 2.4162, 2.4155, 2.4157, 2.4166, 2.4141, 2.4126, 2.4153, 2.415, 2.4153, 2.4148, 2.4008, 2.4146, 2.415, 2.4138, 2.3065, 2.2898, 2.2713, 2.2126, 2.1993, 2.2919, 2.2891, 2.2944, 2.2927, 2.2921, 2.2921, 2.2915, 2.2913, 2.291, 2.2908, 2.2968, 2.2905, 2.29, 2.2898, 2.2955, 2.2893, 2.288, 2.2946, 2.231, 2.2859, 2.2863, 2.2926, 2.2263, 2.2766, 2.2807, 2.2251, 2.2206, 2.2163, 2.2146, 2.2121, 2.2085, 2.1726, 2.2032, 2.2022, 2.2016, 2.145, 2.1382, 1.7678, 1.7721, 1.7657, 2.1914, 0.7987, 1.8123, 2.0238, 1.9835, 1.8064, 1.8096, 1.8042, 0.0404, -0.0077, 0.4965, -0.0569, -0.4955, 0.0808, -0.0757, 1.2213, 0.0399, 0.2046, -0.0601, -0.4144, -0.8369, -0.988, -0.544, -0.2083, -0.1508, -0.2746, -0.545, -0.2612, -0.5162]}, \"token.table\": {\"Topic\": [1, 2, 3, 4, 1, 2, 3, 4, 1, 2, 3, 4, 1, 2, 3, 4, 1, 2, 3, 4, 1, 2, 3, 4, 1, 2, 3, 4, 4, 1, 1, 2, 3, 4, 1, 2, 3, 4, 1, 2, 4, 1, 2, 3, 4, 1, 2, 3, 4, 1, 2, 3, 4, 1, 2, 3, 4, 1, 2, 3, 4, 1, 2, 3, 4, 1, 2, 3, 4, 1, 2, 3, 4, 1, 2, 3, 4, 1, 2, 3, 4, 1, 2, 3, 4, 1, 2, 3, 4, 1, 2, 3, 4, 1, 2, 3, 4, 1, 2, 3, 4, 1, 2, 3, 4, 1, 2, 3, 4, 1, 2, 3, 4, 1, 2, 3, 4, 1, 2, 3, 4, 1, 2, 3, 4, 1, 2, 3, 4, 1, 3, 1, 2, 3, 4, 4, 2, 1, 2, 3, 4, 2, 1, 2, 3, 4, 1, 2, 3, 4, 4, 1, 2, 3, 4, 1, 2, 3, 1, 2, 3, 4, 1, 2, 3, 4, 1, 2, 3, 4, 1, 3, 1, 2, 3, 4, 1, 2, 3, 4, 1, 2, 3, 4, 1, 2, 3, 4, 1, 1, 2, 3, 4, 1, 2, 3, 4, 1, 2, 3, 4, 1, 2, 3, 4, 1, 2, 3, 4, 1, 2, 3, 4, 1, 2, 3, 4, 1, 2, 3, 4, 1, 2, 3, 4, 1, 2, 1, 3, 3, 2, 1, 2, 3, 4, 1, 2, 3, 4, 1, 2, 3, 4, 1, 2, 3, 4, 1, 2, 3, 4, 2, 4, 1, 2, 3, 4, 1, 4, 1, 2, 3, 4, 4, 2, 4, 1, 2, 3, 4, 1, 2, 3, 4, 1, 2, 3, 1, 4, 2, 1, 4, 1, 2, 1, 2, 3, 4, 1, 2, 3, 4, 1, 2, 4, 1, 2, 3, 4, 1, 2, 3, 4, 1, 2, 3, 4, 1, 2, 3, 4, 2, 4, 1, 2, 3, 4, 1, 2, 4, 2, 2, 1, 2, 3, 4, 1, 2, 3, 4, 1, 2, 3, 4, 1, 2, 4, 1, 2, 3, 4, 1, 2, 3, 4, 1, 2, 3, 4, 1, 2, 3, 4, 1, 2, 3, 4, 1, 2, 3, 4, 1, 2, 3, 4, 1, 2, 3, 4, 1, 2, 3, 4, 1, 2, 3, 4, 1, 2, 3, 4, 3, 2, 1, 2, 3, 4, 1, 2, 3, 4, 4, 1, 2, 3, 4, 1, 4, 1, 2, 3, 4, 1, 2, 3, 4, 2, 4, 1, 4, 1, 2, 3, 4, 1, 2, 3, 4, 1, 2, 3, 4, 1, 2, 3, 4, 1, 2, 3, 4, 1, 2, 3, 4, 1, 2, 4, 1, 2, 3, 4, 1, 2, 3, 4, 1, 2, 3, 4, 1, 2, 3, 4, 4, 1, 2, 3, 4, 1, 2, 3, 4, 1, 2, 3, 4, 1, 2, 3, 4, 1, 2, 3, 4, 1, 2, 3, 4, 2, 2, 1, 2, 3, 4, 1, 2, 3, 4, 1, 2, 3, 4, 1, 2, 3, 4, 1, 2, 3, 4, 1, 2, 3, 4, 1, 2, 3, 4, 1, 2, 3, 4, 1, 2, 3, 4, 2, 1, 2, 3, 4, 1, 2, 3, 4, 1, 2, 3, 4, 1, 2, 3, 4, 1, 2, 3, 4, 1, 2, 3, 4, 1, 2, 3, 4, 1, 2, 3, 4, 1, 1, 2, 3, 4, 1, 2, 4, 1, 2, 3, 4, 1, 2, 3, 4, 1, 2, 3, 4, 1, 2, 3, 4, 1, 2, 3, 4, 1, 2, 1, 2, 3, 4, 1, 2, 3, 4, 1, 2, 3, 4, 1, 2, 4, 1, 4, 1, 2, 3, 4, 1, 2, 3, 4, 1, 4, 1, 2, 3, 4, 1, 2, 3, 4, 1, 2, 3, 4, 2, 1, 2, 3, 4, 1, 2, 3, 4, 1, 2, 3, 4, 1, 2, 3, 4, 1, 2, 3, 4, 1, 2, 3, 4, 1, 2, 3, 4, 1, 1, 2, 3, 4, 1, 2, 3, 4, 1, 2, 3, 4, 1, 2, 3, 4, 1, 2, 3, 4, 1, 2, 3, 4, 2, 1, 2, 3, 4, 1, 2, 3, 4, 1, 2, 3, 4, 2, 1, 2, 3, 4, 1, 2, 3, 4, 1, 2, 3, 4, 1, 2, 3, 4, 1, 2, 3, 4, 1, 2, 3, 4, 1, 2, 3, 4, 1, 2, 3, 4, 1, 2, 3, 4, 1, 2, 3, 4, 1, 2, 3, 4, 1, 2, 3, 4, 1, 2, 3, 4, 1, 2, 3, 4, 1, 2, 3, 4, 1, 2, 3, 4, 1, 2, 3, 4, 1, 2, 3, 4, 1, 2, 3, 4, 1, 2, 3, 4, 4, 1, 2, 3, 4, 1, 2, 3, 4, 4, 2, 4, 1, 2, 3, 4, 1, 2, 3, 4, 1, 2, 3, 4, 1, 2, 3, 4, 1, 2, 3, 4, 1, 2, 3, 4, 1, 2, 3, 4, 1, 1, 2, 3, 4, 1, 2, 3, 4, 1, 2, 3, 4, 1, 2, 3, 4, 1, 1, 1, 2, 3, 4, 1, 2, 3, 4, 2, 1, 2, 3, 4, 1, 2, 3, 4, 1, 2, 3, 4, 1, 2, 3, 4, 4, 1, 2, 3, 4, 1, 2, 3, 4, 1, 2, 3, 4, 1, 2, 3, 4, 1, 2, 3, 4, 1, 2, 3, 4, 1, 2, 3, 4, 1, 2, 3, 4, 1, 2, 3, 4, 1, 2, 3, 4, 1, 2, 3, 4, 1, 4, 1, 2, 3, 4, 1, 2, 3, 4, 1, 2, 3, 4, 1, 2, 3, 4, 1, 2, 3, 4, 1, 2, 3, 2, 1, 2, 3, 1, 2, 3, 4, 1, 2, 3, 4, 1, 2, 3, 4, 1, 2, 3, 4, 1, 2, 3, 4, 1, 2, 3, 4, 1, 2, 3, 4, 4, 1, 2, 3, 4, 4, 1, 2, 3, 4, 1, 2, 3, 4, 1, 2, 3, 4, 1, 2, 3, 4, 1, 2, 3, 4, 1, 2, 3, 4, 1, 2, 3, 4, 1, 3, 1, 2, 3, 4, 1, 3, 4, 1, 2, 3, 4, 1, 2, 3, 4, 1, 2, 3, 1, 2, 3, 4, 1, 2, 3, 4, 1, 2, 3, 1, 2, 4, 1, 2, 3, 4, 1, 2, 4, 1, 2, 3, 4, 1, 2, 3, 4, 1, 3, 4, 1, 2, 3, 4, 2, 1, 2, 3, 4, 1, 2, 3, 4, 1, 2, 3, 4, 4, 2, 1, 2, 3, 4, 1, 2, 3, 4, 1, 2, 3, 4, 1, 2, 3, 4, 1, 2, 3, 4, 1, 2, 3, 4, 1, 2, 3, 4, 2, 1, 2, 3, 4, 1, 2, 3, 4, 1, 2, 3, 4, 4, 2, 1, 2, 3, 4, 1, 2, 3, 4, 1, 2, 3, 4, 1, 4, 1, 2, 3, 4, 1, 2, 3, 4, 1, 2, 3, 4, 1, 2, 3, 4, 1, 2, 3, 4, 1, 2, 3, 4, 1, 2, 3, 4, 2, 1, 2, 3, 4, 1, 2, 3, 4, 1, 2, 3, 4, 1, 2, 3, 4, 1, 2, 3, 4, 1, 2, 3, 4, 1, 2, 3, 4, 1, 1, 2, 3, 4, 1, 3, 1, 2, 2, 4, 1, 2, 3, 4, 1, 2, 3, 1, 2, 3, 4, 1, 2, 3, 4, 1, 2, 3, 4, 1, 2, 3, 4, 1, 2, 3, 4, 1, 2, 3, 4, 1, 2, 3, 4, 1, 2, 3, 4, 1, 2, 3, 4, 1, 2, 3, 4, 1, 2, 3, 4, 1, 2, 3, 4, 1, 2, 3, 4, 1, 2, 3, 4, 1, 2, 3, 4, 1, 2, 3, 4, 1, 2, 3, 4, 1, 1, 3, 1, 2, 3, 4, 1, 2, 3, 4, 1, 2, 3, 4, 1, 2, 3, 4, 1, 2, 3, 4, 1, 2, 3, 4, 1, 2, 3, 4, 1, 2, 3, 4, 1, 2, 3, 4, 1, 2, 1, 2, 3, 4, 1, 2, 3, 4, 1, 3, 4, 1, 2, 3, 4, 1, 2, 3, 4, 1, 2, 4, 1, 2, 3, 4, 1, 2, 3, 4, 1, 2, 3, 4, 1, 2, 3, 4, 1, 1, 3, 1, 2, 3, 4, 1, 2, 3, 4, 1, 2, 3, 4, 1, 2, 3, 4, 1, 4, 4, 1, 2, 3, 4, 1, 2, 3, 4, 1, 2, 3, 4, 1, 2, 3, 4, 1, 2, 3, 4, 1, 2, 3, 4, 1, 2, 3, 4, 1, 2, 3, 4, 1, 2, 3, 4, 1, 2, 3, 4, 1, 2, 3, 4, 1, 2, 1, 2, 3, 4, 1, 2, 3, 4], \"Freq\": [0.012076647915017273, 0.008486293129471597, 0.31627761701761453, 0.6629100517675698, 0.00799689400510364, 0.9876164096302996, 0.00199922350127591, 0.00199922350127591, 0.012458525703648147, 0.010382104753040123, 0.12389311671961213, 0.853409010699898, 0.9627714269738293, 0.00858638654037381, 0.021191932737943873, 0.007307563013084094, 0.9039244423926965, 0.029393163023927717, 0.045915056196148295, 0.020737045872194843, 0.9897829077153927, 0.004001817686180833, 0.0026678784574538884, 0.004001817686180833, 0.6618353580494891, 0.09475466625134497, 0.04869306558924127, 0.19471744017098302, 0.9797997470843289, 0.9883637524678591, 0.9923196165952788, 0.0038838341158327935, 0.0019419170579163968, 0.0038838341158327935, 0.4712304720414161, 0.1078409357806284, 0.12380674808148384, 0.29713619539556124, 0.006679083014147957, 0.006679083014147957, 0.9818252030797496, 0.03390591605546095, 0.008269735623283158, 0.9510195966775632, 0.007442762060954843, 0.9343408420751701, 0.010422925728328591, 0.03741085841775084, 0.01777481084027465, 0.8004808459124196, 0.10124740810069288, 0.05592273808048659, 0.042344461407766563, 0.013257631060719133, 0.007798606506305372, 0.17858808899439302, 0.8005269578722465, 0.9888234237352339, 0.004003333699332931, 0.0026688891328886205, 0.004003333699332931, 0.011941328725913216, 0.0070901639310109715, 0.2115854183622748, 0.7694693697760329, 0.012256249720125591, 0.00862476832156986, 0.12982545999836737, 0.8488587769124021, 0.3418103888616015, 0.5704156673249389, 0.042284792690626044, 0.0454975589120469, 0.006391711726220402, 0.9782869892076226, 0.005681521534418135, 0.009587567589330603, 0.02175968986390329, 0.006923537683969229, 0.9653389685077096, 0.005934460871973624, 0.579687500750513, 0.2967915708011866, 0.056043556231910464, 0.06748056868660116, 0.007312458559247475, 0.004874972372831649, 0.9798694469391616, 0.007312458559247475, 0.005704536405694367, 0.9891666127474031, 0.0022818145622777466, 0.00342272184341662, 0.0042680605867213926, 0.9880560258260025, 0.0042680605867213926, 0.0021340302933606963, 0.993510521502539, 0.004376698332610304, 0.004376698332610304, 0.004376698332610304, 0.0053381035382457495, 0.9848801028063408, 0.0053381035382457495, 0.0026690517691228747, 0.007151095162453664, 0.9804151467723974, 0.0021453285487360993, 0.010726642743680495, 0.9250742739626221, 0.016524270985473384, 0.049501587650448285, 0.008831937940511637, 0.005036840578063844, 0.9905786470192227, 0.0016789468593546148, 0.0033578937187092295, 0.008744522938013049, 0.00499687025029317, 0.9802193807658436, 0.005829681958675365, 0.6967124965042717, 0.17488262263573082, 0.06182887661100916, 0.06656728140192715, 0.9899245127280915, 0.004007791549506443, 0.0026718610330042957, 0.004007791549506443, 0.012876623262511877, 0.9786233679509028, 0.9539598633527645, 0.006361017476387397, 0.020239601061232626, 0.019468568639852336, 0.9928872327942415, 0.9957759878426579, 0.0054959051114422215, 0.0054959051114422215, 0.0054959051114422215, 0.9837670149481577, 0.9968614488527147, 0.9890331575868869, 0.004004182824238409, 0.002669455216158939, 0.004004182824238409, 0.005291581622776148, 0.010583163245552297, 0.005291581622776148, 0.9789426002135875, 0.982820848570132, 0.8921620357021969, 0.02182231303868213, 0.05134419690422003, 0.034627481633078626, 0.007964843871609412, 0.007964843871609412, 0.9876406400795671, 0.6577546041583918, 0.20906375351221668, 0.07529140550019121, 0.05788190596881931, 0.011494645964558448, 0.009099928055275437, 0.18726694050593137, 0.7921726843908197, 0.008555315322619498, 0.005347072076637186, 0.980296547383484, 0.006060015020188811, 0.013477119205332217, 0.9838297019892518, 0.0051459136861429534, 0.0051459136861429534, 0.982869514053304, 0.0051459136861429534, 0.9160104318868574, 0.015399926314411673, 0.05570590629781013, 0.012852284183385545, 0.007710755209434235, 0.005140503472956157, 0.981836163334626, 0.005140503472956157, 0.9892569610622571, 0.004005088911183227, 0.0026700592741221514, 0.004005088911183227, 0.996931354197723, 0.00897815089349591, 0.00897815089349591, 0.9786184473910541, 0.00897815089349591, 0.9280791573832038, 0.019856577320756918, 0.037338998657510294, 0.014730558718931084, 0.008464101872527358, 0.008464101872527358, 0.004232050936263679, 0.9818358172131736, 0.007931832163888099, 0.005287888109258733, 0.980903244267495, 0.005287888109258733, 0.005289099894745852, 0.007933649842118778, 0.9811280304753556, 0.005289099894745852, 0.005285428505449417, 0.007928142758174125, 0.9804469877608668, 0.005285428505449417, 0.007930680526952266, 0.007930680526952266, 0.9807608251664302, 0.00528712035130151, 0.8681014202531363, 0.022216161360798188, 0.07982089834056694, 0.029883686078241812, 0.00994816384481056, 0.00994816384481056, 0.11325601915630483, 0.8670207412438742, 0.9950666254487376, 0.004383553416073734, 0.01385190943834462, 0.983485570122468, 0.9815748674414422, 0.9888174130418765, 0.9900190906719541, 0.004002772603794963, 0.002668515069196642, 0.004002772603794963, 0.9890332939934213, 0.004004183376491584, 0.0026694555843277228, 0.004004183376491584, 0.010711829474803002, 0.009181568121259717, 0.11400447083897482, 0.8661279261054999, 0.012016795201951624, 0.007210077121170975, 0.1014217515044717, 0.8796294087828589, 0.005286523656957752, 0.007929785485436628, 0.980650138365663, 0.005286523656957752, 0.9910811861632481, 0.007341342119727764, 0.8850374918907523, 0.032031165729553925, 0.04945905748893203, 0.03347172080204709, 0.008524892336303644, 0.980362618674919, 0.0054936736072546755, 0.0054936736072546755, 0.0054936736072546755, 0.9833675756985869, 0.9825857802850186, 0.011718452409051764, 0.9843500023603481, 0.6877737298350892, 0.15239356196965692, 0.07706975320323264, 0.08276118972518152, 0.8618279990619179, 0.01713699309398837, 0.101513547545581, 0.019498515419789374, 0.0079674747467275, 0.0079674747467275, 0.98796686859421, 0.011014728448219081, 0.9803108318914983, 0.9960303023767789, 0.012133838486818347, 0.9828409174322862, 0.9950666279746666, 0.9919448720899787, 0.008509956959454326, 0.005318723099658954, 0.980772539577111, 0.006382467719590744, 0.00732848712950556, 0.004711170297539288, 0.9809703486209584, 0.0068050237631123054, 0.00447448575101164, 0.9933358367245841, 0.00447448575101164, 0.005144464943247861, 0.007716697414871793, 0.9825928041603416, 0.005144464943247861, 0.007260524365346175, 0.9838010515044068, 0.006352958819677903, 0.002722696637004816, 0.007551717720420032, 0.005034478480280022, 0.9792060644144642, 0.005034478480280022, 0.0054926302018047, 0.0054926302018047, 0.0054926302018047, 0.9831808061230413, 0.9931590650973293, 0.993731315010481, 0.9900533654529473, 0.0040029111810766065, 0.002668607454051071, 0.0040029111810766065, 0.005943509046022058, 0.026745790707099263, 0.9658202199785845, 0.9944686436155323, 0.9951480896248116, 0.014712811143849744, 0.0078067977497978235, 0.3407967479238665, 0.6368545395123532, 0.01402557461557312, 0.006411691252833426, 0.17552004804631505, 0.8038657908239908, 0.005394057165757749, 0.010788114331515499, 0.005394057165757749, 0.9817184041679105, 0.005823857909221698, 0.9900558445676887, 0.005823857909221698, 0.012886622514783522, 0.007517196466957055, 0.2362547461043646, 0.7434865267557049, 0.013032966457495023, 0.009199741028820015, 0.1134634726887802, 0.8647756567090814, 0.013884305036018448, 0.007219838618729593, 0.1888265484898509, 0.7901095185830231, 0.011450696526407398, 0.009923936989553078, 0.11374358549564682, 0.8649092776279722, 0.012985807004879755, 0.009166452003444533, 0.11152516604190849, 0.8662297143255083, 0.013392786516155721, 0.008131334670523117, 0.185107442205438, 0.7930442872780781, 0.9932819803061717, 0.0030282987204456454, 0.0030282987204456454, 0.0030282987204456454, 0.0073973996634420286, 0.9820048053219294, 0.0018493499158605071, 0.009246749579302537, 0.9889716785111208, 0.004003933921097655, 0.00266928928073177, 0.004003933921097655, 0.0077159483597916, 0.0077159483597916, 0.9799254416935332, 0.0051439655731944, 0.9186752253719039, 0.02289229801443673, 0.04070080112407169, 0.01771717745266247, 0.9854303867839401, 0.9946782143475018, 0.9375144392238216, 0.02786366973274419, 0.020339110803279718, 0.014228256884805543, 0.9586878952412619, 0.010198807396183637, 0.02525418974293091, 0.0060707186882045456, 0.9805965198743737, 0.03260955951203433, 0.007525282964315615, 0.9532025088133111, 0.007525282964315615, 0.9893288925252606, 0.9917647276845742, 0.15389537841112663, 0.022754958675575147, 0.7814531860954096, 0.04251584384120619, 0.991423644460513, 0.003944656410320343, 0.0026297709402135624, 0.0013148854701067812, 0.9905326090309735, 0.006114398821178849, 0.9916403116273832, 0.0059026209025439475, 0.014483197355364122, 0.010057775941225085, 0.17782147864085948, 0.7973804766203247, 0.8997699381677289, 0.03288792150196258, 0.04846641063447118, 0.01891215758884788, 0.8084202012852395, 0.03993667170528301, 0.08995664491913392, 0.06168941203837333, 0.9926880477009924, 0.004595777998615705, 0.0015319259995385686, 0.0015319259995385686, 0.005147702871943271, 0.0077215543079149065, 0.9806373971051932, 0.005147702871943271, 0.2669475283937831, 0.6711945021238591, 0.027393766183367693, 0.03447836088596279, 0.006593454529110245, 0.006593454529110245, 0.9890181793665367, 0.009436976580090468, 0.9764787345504138, 0.0034767808452964887, 0.010927025513788964, 0.007925195595080061, 0.005283463730053374, 0.980082521924901, 0.005283463730053374, 0.005494383972273526, 0.005494383972273526, 0.005494383972273526, 0.9834947310369611, 0.008530334674224687, 0.0042651673371123435, 0.0042651673371123435, 0.980988487535839, 0.9898351826460524, 0.011681266061071645, 0.009178137619413435, 0.10763452299130302, 0.871088697697057, 0.013976603102722546, 0.006799428536459617, 0.16356403090483412, 0.8155536783453508, 0.8649111910501602, 0.047187452880960795, 0.06596637814961796, 0.02194876943165301, 0.33693993904218417, 0.5048960416242417, 0.06697689425720922, 0.09117218843751186, 0.01300853355361051, 0.9471213083455653, 0.020513456757616576, 0.01934602425921563, 0.004550252190406899, 0.9828544731278901, 0.0022751260952034494, 0.010238067428415522, 0.9950644404300008, 0.9950948455875044, 0.9010147532151488, 0.02309616460073303, 0.06145760537534111, 0.014439233090873154, 0.1572632746958329, 0.146815084624403, 0.16068595765026683, 0.5351995293485905, 0.4058557494138264, 0.4861914675021725, 0.05206530290219644, 0.05586950125178386, 0.010616632195649029, 0.9737810975009192, 0.005898128997582794, 0.00943700639613247, 0.07622717315216068, 0.8947136341370129, 0.010118651303384161, 0.018888149099650434, 0.007928062243841263, 0.007928062243841263, 0.9804370308217029, 0.0052853748292275085, 0.9532843799842176, 0.01000887569253596, 0.0250221892313399, 0.011717708127846976, 0.00994271352699695, 0.00994271352699695, 0.11854773820650209, 0.8619567803788895, 0.8049155057549071, 0.08732527833811575, 0.06257742136918078, 0.04517582174506771, 0.9912712842394352, 0.013596838828870007, 0.00868686925177806, 0.16580589571872037, 0.8116557400900457, 0.9124642610749384, 0.04459681636802363, 0.027322727624615333, 0.015599315596540453, 0.00818244586073057, 0.00818244586073057, 0.004091222930365285, 0.9818935032876684, 0.9173130337640903, 0.01937379612390973, 0.03408520673201875, 0.02924175770104132, 0.007386670153563786, 0.005540002615172839, 0.9842737979623745, 0.003693335076781893, 0.9155391258271036, 0.021479878179813852, 0.04914335765381654, 0.013831739737001343, 0.9755655404545686, 0.0061178736256195815, 0.010823930260711566, 0.007529690616147177, 0.03063939711577272, 0.00993710176727764, 0.9531336778447136, 0.006624734511518427, 0.9905948387632116, 0.7246331393063749, 0.14573575024742896, 0.07881914209523329, 0.050796640922254985, 0.004825732471383563, 0.004825732471383563, 0.9892751566336305, 0.007928792562831072, 0.007928792562831072, 0.9805273469367759, 0.005285861708554048, 0.4258841420354763, 0.4369494511991154, 0.05594357049274769, 0.08122787048996012, 0.024459574284689648, 0.9539233971028963, 0.0062640373168107635, 0.015510949546388557, 0.010795928167470714, 0.972614983087589, 0.0049072400761230525, 0.011777376182695325, 0.638193765621542, 0.22970570930467715, 0.0782445460601858, 0.053873634608088625, 0.007044114351254731, 0.993220123526917, 0.9480043242089737, 0.007535127351990943, 0.03156223154984886, 0.012937671491154261, 0.9888470346415679, 0.004003429290046834, 0.0026689528600312225, 0.004003429290046834, 0.005789621766373811, 0.988095448127797, 0.0019298739221246036, 0.003859747844249207, 0.010976406063704982, 0.005488203031852491, 0.9823883427015958, 0.010286719651076724, 0.9875250865033653, 0.009290748602825569, 0.011434767511169931, 0.11220365620335494, 0.8668983119405704, 0.009940590345694073, 0.010705251141516693, 0.1131697977817479, 0.8663606816670295, 0.9950683003000536, 0.9886460297376212, 0.9306387642965772, 0.021052661445212475, 0.03766018616299006, 0.01061893773776113, 0.03687065861900294, 0.009832175631734117, 0.947985600493031, 0.006554783754489411, 0.012325647907076529, 0.006162823953538264, 0.006162823953538264, 0.979889008612584, 0.9926217334353523, 0.32478266763684654, 0.04871740014552698, 0.6195853967225996, 0.0068704025846256, 0.004540268759202457, 0.9797899982358902, 0.0036322150073619655, 0.011804698773926387, 0.019087995435656285, 0.9618831336297476, 0.0049889078979556195, 0.014099087537700665, 0.11080022162383513, 0.0074487543948796725, 0.8733664527996415, 0.008379848694239632, 0.994610460971404, 0.002793849609470236, 0.002793849609470236, 0.002793849609470236, 0.016925896232041954, 0.9511165900215857, 0.00504807431481953, 0.02731899040961158, 0.004040241058023657, 0.9890510110041912, 0.004040241058023657, 0.0024241446348141943, 0.9934736535906454, 0.011962703704821907, 0.008134638519278897, 0.18709668594341464, 0.7924094934074032, 0.01268933971531665, 0.0084595598102111, 0.00422977990510555, 0.9813089379844876, 0.15450180131994135, 0.15313106290518902, 0.16018057475248673, 0.5322381444709767, 0.005285835238527146, 0.005285835238527146, 0.9805224367467856, 0.005285835238527146, 0.9893099111030852, 0.00533320706794116, 0.00266660353397058, 0.00266660353397058, 0.9893426735382301, 0.0053405812336746565, 0.0026702906168373283, 0.004005435925255992, 0.9956550509632713, 0.9896924693225334, 0.004001452032301348, 0.0026676346882008985, 0.004001452032301348, 0.00549301493392332, 0.00549301493392332, 0.00549301493392332, 0.9832496731722742, 0.010784755419158357, 0.005392377709579179, 0.005392377709579179, 0.9814127431434105, 0.9946138545347286, 0.8544908654390234, 0.0416404844839557, 0.07360981578314704, 0.03024746426332826, 0.011443855569167579, 0.009155084455334063, 0.11214978457784226, 0.8666813284382913, 0.19226730834217487, 0.7220677896431416, 0.032285917169847675, 0.05337557656873692, 0.024981454898188926, 0.9508458591938255, 0.005513148667186522, 0.018693019699679302, 0.007464079530828709, 0.9805934483626216, 0.002799029824060766, 0.010263109354889475, 0.008865878898681021, 0.9663807999562312, 0.0044329394493405104, 0.02014972476972959, 0.015793754402311806, 0.9626548046183276, 0.003056855690770027, 0.01834113414462016, 0.011058206787367323, 0.9634462663493781, 0.006297034420584171, 0.019198275672512716, 0.009803880650045465, 0.9673829172034657, 0.0056022175143116935, 0.01720681093681449, 0.0187209667972678, 0.9567751245317936, 0.007354665527498063, 0.017133027649285263, 0.0071187696832720245, 0.9736286536044353, 0.004928379011496017, 0.014237539366544049, 0.022087290786146723, 0.9445663370287747, 0.0065257904595433505, 0.026939801640678957, 0.010565161733206905, 0.9714917765153588, 0.007378843115255617, 0.010732862713099079, 0.011649647085523327, 0.9666829601987317, 0.005864448192712424, 0.01577061068040233, 0.03973282023609011, 0.9227907607442132, 0.01170176767327955, 0.02579707873427537, 0.010879649313417354, 0.967622687915772, 0.004662706848607438, 0.016874558118769773, 0.030053906359140556, 0.9320914314880305, 0.012399863462862188, 0.02543022845773432, 0.010314033772107647, 0.9684140995311072, 0.005157016886053824, 0.016023588181667235, 0.05602230680395983, 0.9122723369326641, 0.008063816888448764, 0.02369630401430119, 0.012772898039071693, 0.9634959207383335, 0.006672409423395661, 0.016966983962348966, 0.9893139309145461, 0.011257950228631668, 0.9685148358455186, 0.006622323663900981, 0.013244647327801963, 0.03795794376964215, 0.9318434955296707, 0.00643843603181272, 0.023735726863548384, 0.9982547716438823, 0.004915562578730012, 0.9929436409034623, 0.9749217516432933, 0.004927676038632509, 0.014403976112925796, 0.006064832047547704, 0.9363563490040924, 0.015376774479217523, 0.03804833275574302, 0.010233689499820536, 0.011974996337647516, 0.009313886040392513, 0.17791423130219167, 0.8006140408598625, 0.1882122014516916, 0.1632361747187657, 0.11506812316240861, 0.5334165709389175, 0.010614837352443512, 0.009098432016380152, 0.11827961621294199, 0.8613182308839877, 0.011064608001031411, 0.005532304000515706, 0.97921780809128, 0.005532304000515706, 0.99175522261791, 0.002228663421613281, 0.002228663421613281, 0.002228663421613281, 0.9917732272666396, 0.03229038941009629, 0.007451628325406837, 0.9529804669492521, 0.007451628325406837, 0.011089127352205462, 0.011089127352205462, 0.11280319203105556, 0.864951933472026, 0.8585087527840234, 0.04220356434029742, 0.06653001563564312, 0.032744534906386256, 0.9902702792837182, 0.004003788191174063, 0.002669192127449375, 0.004003788191174063, 0.9959898067936415, 0.997883996254437, 0.014739044677231134, 0.00836540373572578, 0.1748767733325532, 0.8022820535119866, 0.9901144963466765, 0.004003158341024299, 0.0026687722273495322, 0.004003158341024299, 0.9946935193843172, 0.011471686170566982, 0.008412569858415788, 0.11089296631548085, 0.8687890326509395, 0.8687435389845682, 0.04877922525702619, 0.05256586053304332, 0.029924937111857574, 0.7140800079672395, 0.08247354248801304, 0.11650924210094926, 0.08694072806221093, 0.7557050398972369, 0.1310540694081503, 0.06240234170840995, 0.050844899833229894, 0.9834865233500523, 0.00714749378960007, 0.00476499585973338, 0.9809084334108287, 0.00714749378960007, 0.3042355664406578, 0.029182463374131454, 0.6601274473596632, 0.006373181656419513, 0.9530355220552817, 0.010594823355309828, 0.02679867083990133, 0.009597663510104198, 0.9911540667751962, 0.0038566306100202186, 0.0038566306100202186, 0.0038566306100202186, 0.9898292333818568, 0.004002004986719097, 0.002668003324479398, 0.004002004986719097, 0.98974449948692, 0.004001662396847385, 0.0026677749312315905, 0.004001662396847385, 0.9307040567016908, 0.009735579933743287, 0.03729074813907027, 0.022339678955107363, 0.0067134870881585835, 0.9774837200358898, 0.0033567435440792917, 0.01275562546750131, 0.01170395309115463, 0.010867956441786442, 0.1095155610672326, 0.867764522044179, 0.010710468275441873, 0.00841536793070433, 0.11552005068512307, 0.8652528299660542, 0.011475948151974353, 0.009945821731711105, 0.11246429188934866, 0.8668166170791295, 0.008023607672126657, 0.9869037436715788, 0.7217294246075672, 0.1453499550123274, 0.0575778949205997, 0.07535329844218659, 0.9890889585049638, 0.004004408738886494, 0.0026696058259243287, 0.004004408738886494, 0.0315785132001816, 0.009716465600055877, 0.9514039233388047, 0.00809705466671323, 0.7489822297505968, 0.09789711449053398, 0.05812953754889684, 0.09498206393498458, 0.9904354345044738, 0.004004455934654207, 0.0026696372897694713, 0.004004455934654207, 0.007969063645726339, 0.007969063645726339, 0.988163892070066, 0.9964074256694022, 0.00955596079051506, 0.00955596079051506, 0.9842639614230512, 0.005144252945343165, 0.007716379418014748, 0.979980186087873, 0.005144252945343165, 0.005494489160780429, 0.005494489160780429, 0.005494489160780429, 0.9835135597796968, 0.8751620181696298, 0.032368507944492475, 0.05346259177348757, 0.03898768597359093, 0.9730053521380339, 0.006601974925653864, 0.012889570092943258, 0.007859493959111744, 0.009236330799482202, 0.005541798479689321, 0.9827455970649063, 0.003694532319792881, 0.6821764474747357, 0.08780939044333425, 0.08608184354359481, 0.1439546646848656, 0.01929904340895245, 0.9426376515060212, 0.015077377663244101, 0.022917614048131033, 0.9798150709513632, 0.9891958941311343, 0.005339788902192358, 0.002669894451096179, 0.004004841676644269, 0.9834548775757527, 0.005391641467561448, 0.010783282935122896, 0.005391641467561448, 0.9812787470961835, 0.033988068255165045, 0.008092397203610725, 0.9500474317038992, 0.007283157483249653, 0.034746721625025484, 0.008273028958339401, 0.9480891186256953, 0.008273028958339401, 0.9894949417749584, 0.004006052395850035, 0.0026707015972333562, 0.004006052395850035, 0.9897897045868486, 0.004001845166793188, 0.0026678967778621257, 0.004001845166793188, 0.9889595332594514, 0.004003884750038265, 0.0026692565000255098, 0.004003884750038265, 0.989641200706761, 0.004001244746792834, 0.0026674964978618894, 0.004001244746792834, 0.9917511171490944, 0.005868349805615943, 0.1924421637615563, 0.1608888798655539, 0.11027215361571671, 0.5365701662523324, 0.01675177194204785, 0.0033503543884095704, 0.9816538358040041, 0.9340826174880326, 0.015330339588826255, 0.031980093650461325, 0.018597461140543326, 0.6611686078505471, 0.21317815496857448, 0.06173915435480869, 0.06392911360995955, 0.007966926301351356, 0.007966926301351356, 0.9878988613675681, 0.010353387918092878, 0.009613860209657672, 0.12276159960024412, 0.8571126140764032, 0.013317029154068048, 0.008225223889277324, 0.1711629923625805, 0.8072469731333602, 0.008999680888362402, 0.008999680888362402, 0.9809652168315018, 0.005875495372948711, 0.005875495372948711, 0.9812077272824348, 0.9432481113016787, 0.01813268088269401, 0.02894254833199236, 0.009763751244527543, 0.0037829384090747632, 0.9930213323821253, 0.0018914692045373816, 0.923749872971816, 0.026938953488720024, 0.03843475369213269, 0.010941785735778314, 0.9537026528708243, 0.007339856455087488, 0.02951898791719968, 0.009573725810983681, 0.0055694668792571275, 0.0055694668792571275, 0.9857956376285115, 0.9472109997590605, 0.00794518910885288, 0.03842582369008847, 0.006500609270879629, 0.9917399278706568, 0.008111593682939521, 0.005069746051837201, 0.9815028356356822, 0.005069746051837201, 0.10663149864857992, 0.166757047730801, 0.21118683883437595, 0.5153855768014696, 0.10660956924674106, 0.166965695458085, 0.21431041754876373, 0.512145655097927, 0.9908922111583739, 0.9986571201817872, 0.5206257665063522, 0.40389883443111224, 0.04071084027515602, 0.03475949496841441, 0.028438915707682477, 0.9448375931392806, 0.009983874663335338, 0.016639791105558896, 0.01274785568404488, 0.9677443586430643, 0.007648713410426928, 0.012019406787813745, 0.02889067556466502, 0.9423175346674908, 0.00914871392881059, 0.01950120600614889, 0.0074922394323221645, 0.00476778872965956, 0.9814833656342036, 0.006130014080990862, 0.5684121723133619, 0.30708799076071774, 0.053355469146796015, 0.07114775384825264, 0.013312574442256076, 0.009216397690792669, 0.19354435150664603, 0.7839058258113097, 0.9886650793965603, 0.01464093758975999, 0.007320468794879995, 0.16715070414975988, 0.8109452653883727, 0.01860070971304976, 0.006643110611803487, 0.9685655272009484, 0.006643110611803487, 0.7158717869048054, 0.035569924505550195, 0.23419873213999173, 0.014357839709136894, 0.9940305552504975, 0.9926220026369754, 0.896301741233884, 0.014199793582562837, 0.05687711730899795, 0.032615593742782806, 0.02425639958394871, 0.008662999851410254, 0.9598603835362561, 0.006930399881128203, 0.02554755905878609, 0.00817521889881155, 0.9595663182480055, 0.007153316536460105, 0.009974670251775992, 0.9874923549258233, 0.8817616142022738, 0.02800564324808875, 0.06446921570202599, 0.025756193991214153, 0.9616419132773724, 0.008089116835099067, 0.024074752485413888, 0.006355734656149267, 0.6202593594178173, 0.1867340460148545, 0.11049941056688085, 0.0825031793477642, 0.010090178950855897, 0.9698442591587374, 0.005737552736761196, 0.014442805164950598, 0.010707484238113086, 0.00917784363266836, 0.11625268601379922, 0.8642469420762705, 0.011250197821394255, 0.010547060457557114, 0.11461139030545396, 0.8641558201558461, 0.009562324537864299, 0.00512267385957016, 0.9797967535404527, 0.005805697040846182, 0.9886650793965603, 0.005391235196499852, 0.010782470392999705, 0.005391235196499852, 0.9812048057629731, 0.005491705658716791, 0.005491705658716791, 0.005491705658716791, 0.9830153129103055, 0.825601677246885, 0.03946545016132516, 0.11897910528537323, 0.01592863123820507, 0.9589509880495731, 0.011102555865948207, 0.023496106600029928, 0.006454974340667562, 0.010384239136700611, 0.9710392314460364, 0.0071109463653493315, 0.0114000886174648, 0.00886369135157757, 0.004431845675788785, 0.981653817187216, 0.004431845675788785, 0.6580082912919951, 0.11981678069796181, 0.11467681445352751, 0.10749938411220032, 0.99175995895412, 0.027294842576108317, 0.011120121049525611, 0.9553194901637911, 0.007076440667879934, 0.995127407143892, 0.005923377423475548, 0.9947414576770816, 0.004324962859465572, 0.9900008963239092, 0.005789478925870814, 0.9174362338166883, 0.0238402323791476, 0.0415140502732611, 0.017236827891237063, 0.0097309169227632, 0.0097309169227632, 0.9828226091990833, 0.01986029887413196, 0.0056743711068948455, 0.9688988665022948, 0.0056743711068948455, 0.7971767185669194, 0.052228219167957154, 0.0924729636045997, 0.058147417340325636, 0.7795869200217341, 0.10825716646717364, 0.05986283001989492, 0.05228482836719277, 0.8870083061778261, 0.02944511523465303, 0.06540411482051559, 0.018156347331878146, 0.8529896976393403, 0.030935156006714492, 0.05534677243567717, 0.060719099146766896, 0.9911340603725802, 0.005271989682832874, 0.002635994841416437, 0.0013179974207082185, 0.6933193917943309, 0.146243969668811, 0.06921202524756927, 0.09122388582533736, 0.010023039160982848, 0.010858292424398085, 0.11025343077081133, 0.869498647215262, 0.033979670903425116, 0.008090397834148838, 0.9498127057290736, 0.008090397834148838, 0.00549264074311013, 0.00549264074311013, 0.00549264074311013, 0.9831826930167132, 0.005285431659786551, 0.005285431659786551, 0.9830902887202985, 0.005285431659786551, 0.9343957883607845, 0.020566712771772175, 0.03486018110736674, 0.010164244149756132, 0.9397840566469271, 0.011301750912497736, 0.033649557015490994, 0.01529060417573223, 0.007704015073398839, 0.007704015073398839, 0.9784099143216526, 0.007704015073398839, 0.8362594285015323, 0.034463854075871166, 0.07886513846809783, 0.05042717298831456, 0.9897479903985928, 0.004001676511045524, 0.002667784340697016, 0.004001676511045524, 0.8628547317858866, 0.02889320416115744, 0.052231216544820595, 0.056017436638978714, 0.9939311556322156, 0.015645794040553176, 0.98568502455485, 0.01467829642348006, 0.9663211812124373, 0.005300495930701133, 0.013862835511064502, 0.005737695571971126, 0.9800701248873179, 0.004661877652226539, 0.009682361277701274, 0.023156260733400092, 0.9582605544674685, 0.006129598429429436, 0.012486219022911815, 0.005497062705310412, 0.005497062705310412, 0.005497062705310412, 0.9839742242505637, 0.010601187546043892, 0.008329504500463058, 0.11737029068834309, 0.863239557320717, 0.031309853919345, 0.01110994816492887, 0.9524255563207205, 0.006059971726324839, 0.009688596359796678, 0.004844298179898339, 0.9785482323394643, 0.007266447269847508, 0.011473495924882867, 0.009178796739906294, 0.11091046060720104, 0.8673962919211446, 0.5615107163718949, 0.3767963684866679, 0.03950326647842476, 0.02215527114662976, 0.006873950221014759, 0.9898488318261252, 0.007715568879679401, 0.005143712586452934, 0.9824491040125104, 0.005143712586452934, 0.03234611216720002, 0.005990020771703707, 0.9524133027008894, 0.00838602908038519, 0.9929624474707938, 0.005338507782101042, 0.005338507782101042, 0.9891371781913321, 0.004004603960288794, 0.0026697359735258623, 0.004004603960288794, 0.02848075277109677, 0.010680282289161288, 0.9552919158638709, 0.007120188192774193, 0.00964905451636713, 0.004824527258183565, 0.9793790334112636, 0.8410719737734398, 0.052694056154557266, 0.06829331101986272, 0.03793712865477194, 0.03397230182091775, 0.008088643290694702, 0.9504155866566275, 0.007279778961625232, 0.9891211999674004, 0.0040045392711230785, 0.0026696928474153857, 0.0040045392711230785, 0.014144797279451189, 0.010517926182156011, 0.22704213069067805, 0.748223507371995, 0.9966560140331332, 0.9906485350854409, 0.006391280871518973, 0.011686672694558998, 0.00918238568858207, 0.1093538659276592, 0.8698223534093197, 0.8769120927712848, 0.024110378087193317, 0.06768547604477929, 0.031284685713138645, 0.011869559677933834, 0.003956519892644611, 0.003956519892644611, 0.9812169333758637, 0.10722702105797362, 0.16777400813657375, 0.211793522044584, 0.5132385083120752, 0.9935622821529062, 0.9853595869524605, 0.9875671027366346, 0.9740406887257957, 0.00409691141419893, 0.007681708901622995, 0.014851303876471125, 0.8956913684025792, 0.038193260412117715, 0.046544853355567455, 0.01958889889581504, 0.022211049705269673, 0.006940953032896773, 0.9647924715726515, 0.006940953032896773, 0.007715018402319789, 0.005143345601546526, 0.9823790098953864, 0.005143345601546526, 0.7852760289649373, 0.12229575898368616, 0.05046901624670247, 0.04194616994110209, 0.02730860424594956, 0.011125727655757228, 0.9537782890344606, 0.008091438295096166, 0.029471579674044134, 0.006934489335069208, 0.9552259059057834, 0.007801300501952859, 0.952405782302627, 0.008747840949998255, 0.029939793673937693, 0.008994259004927785, 0.8798295203840298, 0.027830612657582667, 0.05732406066263097, 0.03500705994664487, 0.009534677372911672, 0.004767338686455836, 0.009534677372911672, 0.9773044307234464, 0.7753478149437639, 0.0943337420217633, 0.07990281023403975, 0.05041140936583963, 0.9940601908946645, 0.004107686739234151, 0.9532550346271499, 0.008455661461559969, 0.03116515224403531, 0.0071269146604576875, 0.7678824316237246, 0.1014953766151901, 0.09122501112436729, 0.03939850291227405], \"Term\": [\"aboriginal_first_nations_native\", \"aboriginal_first_nations_native\", \"aboriginal_first_nations_native\", \"aboriginal_first_nations_native\", \"accounting_market\", \"accounting_market\", \"accounting_market\", \"accounting_market\", \"acquisitions_mergers_takeovers_banke\", \"acquisitions_mergers_takeovers_banke\", \"acquisitions_mergers_takeovers_banke\", \"acquisitions_mergers_takeovers_banke\", \"actually\", \"actually\", \"actually\", \"actually\", \"add\", \"add\", \"add\", \"add\", \"agencies_brand_names_panie\", \"agencies_brand_names_panie\", \"agencies_brand_names_panie\", \"agencies_brand_names_panie\", \"ai\", \"ai\", \"ai\", \"ai\", \"ai_automate_waste\", \"ai_entanglement\", \"ai_free_daily\", \"ai_free_daily\", \"ai_free_daily\", \"ai_free_daily\", \"ai_solution\", \"ai_solution\", \"ai_solution\", \"ai_solution\", \"ai_unchaine\", \"ai_unchaine\", \"ai_unchaine\", \"air_polite_inappropriate_post\", \"air_polite_inappropriate_post\", \"air_polite_inappropriate_post\", \"air_polite_inappropriate_post\", \"already\", \"already\", \"already\", \"already\", \"also\", \"also\", \"also\", \"also\", \"alternative_energies_chemical_electrical\", \"alternative_energies_chemical_electrical\", \"alternative_energies_chemical_electrical\", \"alternative_energies_chemical_electrical\", \"although_drivers_mended_choose\", \"although_drivers_mended_choose\", \"although_drivers_mended_choose\", \"although_drivers_mended_choose\", \"american_african_american_asian\", \"american_african_american_asian\", \"american_african_american_asian\", \"american_african_american_asian\", \"american_children_diversity_equity\", \"american_children_diversity_equity\", \"american_children_diversity_equity\", \"american_children_diversity_equity\", \"analysis\", \"analysis\", \"analysis\", \"analysis\", \"analysis_forecast\", \"analysis_forecast\", \"analysis_forecast\", \"analysis_forecast\", \"anniversary_fcc_public_inspection\", \"anniversary_fcc_public_inspection\", \"anniversary_fcc_public_inspection\", \"anniversary_fcc_public_inspection\", \"application\", \"application\", \"application\", \"application\", \"article_law_fsa_regulation\", \"article_law_fsa_regulation\", \"article_law_fsa_regulation\", \"article_law_fsa_regulation\", \"artificial_intelligence_accounting_market\", \"artificial_intelligence_accounting_market\", \"artificial_intelligence_accounting_market\", \"artificial_intelligence_accounting_market\", \"artificial_intelligence_ai_bfsi\", \"artificial_intelligence_ai_bfsi\", \"artificial_intelligence_ai_bfsi\", \"artificial_intelligence_ai_bfsi\", \"artificial_intelligence_bard_conversational\", \"artificial_intelligence_bard_conversational\", \"artificial_intelligence_bard_conversational\", \"artificial_intelligence_bard_conversational\", \"artificial_intelligence_based_security\", \"artificial_intelligence_based_security\", \"artificial_intelligence_based_security\", \"artificial_intelligence_based_security\", \"artificial_intelligence_healthcare_market\", \"artificial_intelligence_healthcare_market\", \"artificial_intelligence_healthcare_market\", \"artificial_intelligence_healthcare_market\", \"ask\", \"ask\", \"ask\", \"ask\", \"automotive_artificial_intelligence_ai\", \"automotive_artificial_intelligence_ai\", \"automotive_artificial_intelligence_ai\", \"automotive_artificial_intelligence_ai\", \"back_digi_communications_report\", \"back_digi_communications_report\", \"back_digi_communications_report\", \"back_digi_communications_report\", \"base\", \"base\", \"base\", \"base\", \"best_offers_view_photo\", \"best_offers_view_photo\", \"best_offers_view_photo\", \"best_offers_view_photo\", \"best_security_orchestration\", \"best_security_orchestration\", \"bias\", \"bias\", \"bias\", \"bias\", \"bicycle_tire\", \"blockchain_cloud_service\", \"bottom_formationtriple\", \"bottom_formationtriple\", \"bottom_formationtriple\", \"bottom_formationtriple\", \"brake_shim\", \"brings_clients_best_deal\", \"brings_clients_best_deal\", \"brings_clients_best_deal\", \"brings_clients_best_deal\", \"british_pound_gbp_swiss\", \"british_pound_gbp_swiss\", \"british_pound_gbp_swiss\", \"british_pound_gbp_swiss\", \"bruno_apshow_moreshow_less\", \"build\", \"build\", \"build\", \"build\", \"busco_solucione\", \"busco_solucione\", \"busco_solucione\", \"business\", \"business\", \"business\", \"business\", \"business_awards_commercial_real\", \"business_awards_commercial_real\", \"business_awards_commercial_real\", \"business_awards_commercial_real\", \"buy_back_digi_communication\", \"buy_back_digi_communication\", \"buy_back_digi_communication\", \"buy_back_digi_communication\", \"cabin_sensing_ai_solution\", \"cabin_sensing_ai_solution\", \"calculatorcpi_average\", \"calculatorcpi_average\", \"calculatorcpi_average\", \"calculatorcpi_average\", \"call\", \"call\", \"call\", \"call\", \"candleinverted_hammershoote\", \"candleinverted_hammershoote\", \"candleinverted_hammershoote\", \"candleinverted_hammershoote\", \"car_insurance_quotes_visit\", \"car_insurance_quotes_visit\", \"car_insurance_quotes_visit\", \"car_insurance_quotes_visit\", \"care_protect\", \"care_resuscitation_rheumatology_service\", \"care_resuscitation_rheumatology_service\", \"care_resuscitation_rheumatology_service\", \"care_resuscitation_rheumatology_service\", \"case\", \"case\", \"case\", \"case\", \"celebrities_british_royal_family\", \"celebrities_british_royal_family\", \"celebrities_british_royal_family\", \"celebrities_british_royal_family\", \"change_roc_relative_strength\", \"change_roc_relative_strength\", \"change_roc_relative_strength\", \"change_roc_relative_strength\", \"chart_patternrounde\", \"chart_patternrounde\", \"chart_patternrounde\", \"chart_patternrounde\", \"chartsforex_trader\", \"chartsforex_trader\", \"chartsforex_trader\", \"chartsforex_trader\", \"chartslive_rateslive\", \"chartslive_rateslive\", \"chartslive_rateslive\", \"chartslive_rateslive\", \"chatgpt\", \"chatgpt\", \"chatgpt\", \"chatgpt\", \"chemical_construction_building_general\", \"chemical_construction_building_general\", \"chemical_construction_building_general\", \"chemical_construction_building_general\", \"china_popularity_rise\", \"china_popularity_rise\", \"client_strategies_tangible\", \"client_strategies_tangible\", \"cloud_vlab\", \"commercial_sevice\", \"companyperson_contact\", \"companyperson_contact\", \"companyperson_contact\", \"companyperson_contact\", \"compare_autoinsurance_org_online\", \"compare_autoinsurance_org_online\", \"compare_autoinsurance_org_online\", \"compare_autoinsurance_org_online\", \"consumer_products_retail_overviewview\", \"consumer_products_retail_overviewview\", \"consumer_products_retail_overviewview\", \"consumer_products_retail_overviewview\", \"consumer_technology_energy_natural\", \"consumer_technology_energy_natural\", \"consumer_technology_energy_natural\", \"consumer_technology_energy_natural\", \"converterglobal_statistic\", \"converterglobal_statistic\", \"converterglobal_statistic\", \"converterglobal_statistic\", \"covid_impact_outlook_opportunitie\", \"covid_impact_outlook_opportunitie\", \"create\", \"create\", \"create\", \"create\", \"credo_ai_intelligent_saas\", \"credo_ai_intelligent_saas\", \"crypto_focusbitcoin_btc_ethereum\", \"crypto_focusbitcoin_btc_ethereum\", \"crypto_focusbitcoin_btc_ethereum\", \"crypto_focusbitcoin_btc_ethereum\", \"cybersecurity_shipment\", \"data_collection_labelle\", \"data_collection_labelle\", \"datum\", \"datum\", \"datum\", \"datum\", \"day\", \"day\", \"day\", \"day\", \"de_iluminaci_philips_signify\", \"de_iluminaci_philips_signify\", \"de_iluminaci_philips_signify\", \"decibel_ai_fund_village\", \"decibel_ai_fund_village\", \"deep_bioscience\", \"designed_investors_analysts_need\", \"designed_investors_analysts_need\", \"diabeloop\", \"dialysis_machine\", \"digi_communications_nv_announce\", \"digi_communications_nv_announce\", \"digi_communications_nv_announce\", \"digi_communications_nv_announce\", \"digi_communications_reports_regulate\", \"digi_communications_reports_regulate\", \"digi_communications_reports_regulate\", \"digi_communications_reports_regulate\", \"digital_ultrasound\", \"digital_ultrasound\", \"digital_ultrasound\", \"directional_index_adx_average\", \"directional_index_adx_average\", \"directional_index_adx_average\", \"directional_index_adx_average\", \"discovery_market\", \"discovery_market\", \"discovery_market\", \"discovery_market\", \"documents_concluded_digi_communication\", \"documents_concluded_digi_communication\", \"documents_concluded_digi_communication\", \"documents_concluded_digi_communication\", \"dollar_nzd_canadian_dollar\", \"dollar_nzd_canadian_dollar\", \"dollar_nzd_canadian_dollar\", \"dollar_nzd_canadian_dollar\", \"download_exam_ref_perform\", \"download_maine_public\", \"drivers_get_quotes_multiple\", \"drivers_get_quotes_multiple\", \"drivers_get_quotes_multiple\", \"drivers_get_quotes_multiple\", \"drug_coated_endotracheal_tube\", \"drug_coated_endotracheal_tube\", \"drug_coated_endotracheal_tube\", \"drug_device_combination\", \"ed_tech_smart_classroom\", \"electronic_commerce_electronic_component\", \"electronic_commerce_electronic_component\", \"electronic_commerce_electronic_component\", \"electronic_commerce_electronic_component\", \"electronic_commerce_electronic_game\", \"electronic_commerce_electronic_game\", \"electronic_commerce_electronic_game\", \"electronic_commerce_electronic_game\", \"ema_simple_moving_average\", \"ema_simple_moving_average\", \"ema_simple_moving_average\", \"ema_simple_moving_average\", \"energy_automobile\", \"energy_automobile\", \"energy_automobile\", \"energy_oil_gas_discoverie\", \"energy_oil_gas_discoverie\", \"energy_oil_gas_discoverie\", \"energy_oil_gas_discoverie\", \"engineering_math_supply_chain\", \"engineering_math_supply_chain\", \"engineering_math_supply_chain\", \"engineering_math_supply_chain\", \"entertainment_film_motion_picture\", \"entertainment_film_motion_picture\", \"entertainment_film_motion_picture\", \"entertainment_film_motion_picture\", \"environ_ment_conservation_recycle\", \"environ_ment_conservation_recycle\", \"environ_ment_conservation_recycle\", \"environ_ment_conservation_recycle\", \"equipment_accessories_sports_overviewview\", \"equipment_accessories_sports_overviewview\", \"equipment_accessories_sports_overviewview\", \"equipment_accessories_sports_overviewview\", \"estate_corporate_expansion_earning\", \"estate_corporate_expansion_earning\", \"estate_corporate_expansion_earning\", \"estate_corporate_expansion_earning\", \"estateinvest_wineinvest\", \"estateinvest_wineinvest\", \"estateinvest_wineinvest\", \"estateinvest_wineinvest\", \"etc_inforgrowth\", \"etc_inforgrowth\", \"etc_inforgrowth\", \"etc_inforgrowth\", \"etc_online_quotes_easily\", \"etc_online_quotes_easily\", \"etc_online_quotes_easily\", \"etc_online_quotes_easily\", \"ethereum_eth_ada_ripple\", \"ethereum_eth_ada_ripple\", \"ethereum_eth_ada_ripple\", \"ethereum_eth_ada_ripple\", \"even\", \"even\", \"even\", \"even\", \"ex_co\", \"exam_ref_perform_cloud\", \"example\", \"example\", \"example\", \"example\", \"experiment\", \"experiment\", \"experiment\", \"experiment\", \"experts_warn_use\", \"facebook_placed_wfmz_tv\", \"facebook_placed_wfmz_tv\", \"facebook_placed_wfmz_tv\", \"facebook_placed_wfmz_tv\", \"fall_detect\", \"fan_data_analytic\", \"fcc_public_inspection_file\", \"fcc_public_inspection_file\", \"fcc_public_inspection_file\", \"fcc_public_inspection_file\", \"feedback_directly\", \"feedback_directly\", \"feedback_directly\", \"feedback_directly\", \"figures_report_studie\", \"figures_report_studie\", \"finalists_joblegalsign_insign_uphome\", \"finalists_joblegalsign_insign_uphome\", \"financial_technology_mobile_entertainment\", \"financial_technology_mobile_entertainment\", \"financial_technology_mobile_entertainment\", \"financial_technology_mobile_entertainment\", \"find\", \"find\", \"find\", \"find\", \"first\", \"first\", \"first\", \"first\", \"first_launch_upvotes_comment\", \"first_launch_upvotes_comment\", \"first_launch_upvotes_comment\", \"first_launch_upvotes_comment\", \"flow_index_mfi_move\", \"flow_index_mfi_move\", \"flow_index_mfi_move\", \"flow_index_mfi_move\", \"forecast\", \"forecast\", \"forecast\", \"forecast\", \"forecast_designed_investor\", \"forecast_designed_investor\", \"forecast_designed_investor\", \"forecast_global\", \"forecast_global\", \"forecast_global\", \"forecast_global\", \"formationtriple_topdouble\", \"formationtriple_topdouble\", \"formationtriple_topdouble\", \"formationtriple_topdouble\", \"franc_chf_new_zealand\", \"franc_chf_new_zealand\", \"franc_chf_new_zealand\", \"franc_chf_new_zealand\", \"france_english_geo_beat\", \"france_english_geo_beat\", \"france_english_geo_beat\", \"france_english_geo_beat\", \"full_etfs_package_include\", \"general_business_overviewview_general\", \"general_business_overviewview_general\", \"general_business_overviewview_general\", \"general_business_overviewview_general\", \"general_sports_outdoors_campe\", \"general_sports_outdoors_campe\", \"general_sports_outdoors_campe\", \"general_sports_outdoors_campe\", \"get\", \"get\", \"get\", \"get\", \"global\", \"global\", \"global\", \"global\", \"global_artificial_intelligence_ai\", \"global_artificial_intelligence_ai\", \"global_artificial_intelligence_ai\", \"global_artificial_intelligence_ai\", \"global_artificial_intelligence_software\", \"global_artificial_intelligence_software\", \"global_artificial_intelligence_software\", \"global_artificial_intelligence_software\", \"global_biopsy\", \"global_bladder\", \"go\", \"go\", \"go\", \"go\", \"group_inc_station_gray\", \"group_inc_station_gray\", \"group_inc_station_gray\", \"group_inc_station_gray\", \"growth\", \"growth\", \"growth\", \"growth\", \"growth_analysis\", \"growth_analysis\", \"growth_analysis\", \"growth_analysis\", \"growth_rate\", \"growth_rate\", \"growth_rate\", \"growth_rate\", \"handleflags_triangleprice\", \"handleflags_triangleprice\", \"handleflags_triangleprice\", \"handleflags_triangleprice\", \"happen\", \"happen\", \"happen\", \"happen\", \"heavy_industry_heavy_industry\", \"heavy_industry_heavy_industry\", \"heavy_industry_heavy_industry\", \"heavy_industry_heavy_industry\", \"help\", \"help\", \"help\", \"help\", \"high_end_decorative_floore\", \"hiking_sporting_events_sport\", \"hiking_sporting_events_sport\", \"hiking_sporting_events_sport\", \"hiking_sporting_events_sport\", \"however\", \"however\", \"however\", \"however\", \"ht_digital_content_huffpost\", \"ht_digital_content_huffpost\", \"ht_digital_content_huffpost\", \"ht_digital_content_huffpost\", \"human\", \"human\", \"human\", \"human\", \"iluminaci_philip\", \"iluminaci_philip\", \"iluminaci_philip\", \"iluminaci_philip\", \"image\", \"image\", \"image\", \"image\", \"image_credit\", \"image_credit\", \"image_credit\", \"image_credit\", \"images_gifs_inappropriate_language\", \"images_gifs_inappropriate_language\", \"images_gifs_inappropriate_language\", \"images_gifs_inappropriate_language\", \"imf_charting_globalization_turn\", \"include\", \"include\", \"include\", \"include\", \"includes_stocks_bullish_bearish\", \"includes_stocks_bullish_bearish\", \"includes_stocks_bullish_bearish\", \"index_rsi_stochastic_stc\", \"index_rsi_stochastic_stc\", \"index_rsi_stochastic_stc\", \"index_rsi_stochastic_stc\", \"industry\", \"industry\", \"industry\", \"industry\", \"industry_growth\", \"industry_growth\", \"industry_growth\", \"industry_growth\", \"industry_size\", \"industry_size\", \"industry_size\", \"industry_size\", \"information\", \"information\", \"information\", \"information\", \"ining_market\", \"ining_market\", \"instead\", \"instead\", \"instead\", \"instead\", \"insurance_industry_remained_untouche\", \"insurance_industry_remained_untouche\", \"insurance_industry_remained_untouche\", \"insurance_industry_remained_untouche\", \"intelligence_ai_drug_discovery\", \"intelligence_ai_drug_discovery\", \"intelligence_ai_drug_discovery\", \"intelligence_ai_drug_discovery\", \"international_wibbitz_top_storie\", \"international_wibbitz_top_storie\", \"international_wibbitz_top_storie\", \"interplay_ai_human_judgment\", \"interplay_ai_human_judgment\", \"investing_accounting_news_issue\", \"investing_accounting_news_issue\", \"investing_accounting_news_issue\", \"investing_accounting_news_issue\", \"investing_overviewview_financial_service\", \"investing_overviewview_financial_service\", \"investing_overviewview_financial_service\", \"investing_overviewview_financial_service\", \"investinginvest_artinv\", \"island_murano_stands_warne\", \"job\", \"job\", \"job\", \"job\", \"job_listings_similar_post\", \"job_listings_similar_post\", \"job_listings_similar_post\", \"job_listings_similar_post\", \"job_skills_interview_associate\", \"job_skills_interview_associate\", \"job_skills_interview_associate\", \"job_skills_interview_associate\", \"juicer_market\", \"june_may_april_march\", \"june_may_april_march\", \"june_may_april_march\", \"june_may_april_march\", \"key_manufacturer\", \"key_manufacturer\", \"key_manufacturer\", \"key_manufacturer\", \"key_player\", \"key_player\", \"key_player\", \"key_player\", \"kim_kardashian\", \"kim_kardashian\", \"kim_kardashian\", \"kim_kardashian\", \"landinvest_real\", \"landinvest_real\", \"landinvest_real\", \"landinvest_real\", \"leading_player\", \"leading_player\", \"leading_player\", \"leading_player\", \"legaltech_artificial_intelligence\", \"legaltech_artificial_intelligence\", \"legaltech_artificial_intelligence\", \"legaltech_artificial_intelligence\", \"liberal_illiberal_spheres_opinion\", \"licensing_new_products_service\", \"licensing_new_products_service\", \"licensing_new_products_service\", \"licensing_new_products_service\", \"lifestyle_news_entertainment_entertainment\", \"lifestyle_news_entertainment_entertainment\", \"lifestyle_news_entertainment_entertainment\", \"lifestyle_news_entertainment_entertainment\", \"lifestylegray_dc\", \"lifestylegray_dc\", \"lifestylegray_dc\", \"lifestylegray_dc\", \"litecoin_ltc_nft_newseconomic\", \"litecoin_ltc_nft_newseconomic\", \"litecoin_ltc_nft_newseconomic\", \"litecoin_ltc_nft_newseconomic\", \"local_regional_insurers_provide\", \"local_regional_insurers_provide\", \"local_regional_insurers_provide\", \"local_regional_insurers_provide\", \"longer_required_get_quote\", \"longer_required_get_quote\", \"longer_required_get_quote\", \"longer_required_get_quote\", \"low_temperature_capacitive_sensor\", \"lower_insurance_rates_service\", \"lower_insurance_rates_service\", \"lower_insurance_rates_service\", \"lower_insurance_rates_service\", \"ltc_nft_newseconomic_pattern\", \"ltc_nft_newseconomic_pattern\", \"ltc_nft_newseconomic_pattern\", \"ltc_nft_newseconomic_pattern\", \"mae_exponential_moving_average\", \"mae_exponential_moving_average\", \"mae_exponential_moving_average\", \"mae_exponential_moving_average\", \"magnetic_particle\", \"make\", \"make\", \"make\", \"make\", \"manufacturing_aerospace_defense_agriculture\", \"manufacturing_aerospace_defense_agriculture\", \"manufacturing_aerospace_defense_agriculture\", \"manufacturing_aerospace_defense_agriculture\", \"market\", \"market\", \"market\", \"market\", \"market_analysis\", \"market_analysis\", \"market_analysis\", \"market_analysis\", \"market_comprehensive\", \"market_comprehensive\", \"market_comprehensive\", \"market_comprehensive\", \"market_driver\", \"market_driver\", \"market_driver\", \"market_driver\", \"market_dynamic\", \"market_dynamic\", \"market_dynamic\", \"market_dynamic\", \"market_forecast\", \"market_forecast\", \"market_forecast\", \"market_forecast\", \"market_global\", \"market_global\", \"market_global\", \"market_global\", \"market_growth\", \"market_growth\", \"market_growth\", \"market_growth\", \"market_key_player\", \"market_key_player\", \"market_key_player\", \"market_key_player\", \"market_overview\", \"market_overview\", \"market_overview\", \"market_overview\", \"market_player\", \"market_player\", \"market_player\", \"market_player\", \"market_report\", \"market_report\", \"market_report\", \"market_report\", \"market_research\", \"market_research\", \"market_research\", \"market_research\", \"market_research_report\", \"market_research_report\", \"market_research_report\", \"market_research_report\", \"market_segment\", \"market_segment\", \"market_segment\", \"market_segment\", \"market_segmentation\", \"market_segmentation\", \"market_segmentation\", \"market_segmentation\", \"market_share\", \"market_share\", \"market_share\", \"market_share\", \"market_size\", \"market_size\", \"market_size\", \"market_size\", \"market_size_million_chart\", \"market_study\", \"market_study\", \"market_study\", \"market_study\", \"market_trend\", \"market_trend\", \"market_trend\", \"market_trend\", \"marketing_improve\", \"marketing_strategies_machine_learne\", \"marketing_strategies_machine_learne\", \"maybe\", \"maybe\", \"maybe\", \"maybe\", \"mean\", \"mean\", \"mean\", \"mean\", \"media_advertising_art_book\", \"media_advertising_art_book\", \"media_advertising_art_book\", \"media_advertising_art_book\", \"media_group_necessarily_state\", \"media_group_necessarily_state\", \"media_group_necessarily_state\", \"media_group_necessarily_state\", \"medical_approval_medical_equipment\", \"medical_approval_medical_equipment\", \"medical_approval_medical_equipment\", \"medical_approval_medical_equipment\", \"medizinisches_fachpersonal\", \"medizinisches_fachpersonal\", \"medizinisches_fachpersonal\", \"medizinisches_fachpersonal\", \"membershall_famegolden\", \"membershall_famegolden\", \"membershall_famegolden\", \"membershall_famegolden\", \"membership_see_pageview\", \"memes_may_removed_moderator\", \"memes_may_removed_moderator\", \"memes_may_removed_moderator\", \"memes_may_removed_moderator\", \"ment_mediaall_entertain_ment\", \"ment_mediaall_entertain_ment\", \"ment_mediaall_entertain_ment\", \"ment_mediaall_entertain_ment\", \"model\", \"model\", \"model\", \"model\", \"models_driving_history_lye\", \"models_driving_history_lye\", \"models_driving_history_lye\", \"models_driving_history_lye\", \"money_nuclear_power_arm\", \"mortgage_brokeralts_b\", \"multimedia_internet_peripherals_social\", \"multimedia_internet_peripherals_social\", \"multimedia_internet_peripherals_social\", \"multimedia_internet_peripherals_social\", \"multiple_car_insurance_quote\", \"multiple_car_insurance_quote\", \"multiple_car_insurance_quote\", \"multiple_car_insurance_quote\", \"multiple_currency_counterfeit_detector\", \"natural_resources_environ_mentall\", \"natural_resources_environ_mentall\", \"natural_resources_environ_mentall\", \"natural_resources_environ_mentall\", \"need\", \"need\", \"need\", \"need\", \"new\", \"new\", \"new\", \"new\", \"news\", \"news\", \"news\", \"news\", \"newsletter_ten_weekly_email\", \"notification_shares_buy_back\", \"notification_shares_buy_back\", \"notification_shares_buy_back\", \"notification_shares_buy_back\", \"october_september_august_july\", \"october_september_august_july\", \"october_september_august_july\", \"october_september_august_july\", \"often\", \"often\", \"often\", \"often\", \"one_china_bigg\", \"one_china_bigg\", \"one_china_bigg\", \"one_china_bigg\", \"online_form_accurate_real\", \"online_form_accurate_real\", \"online_form_accurate_real\", \"online_form_accurate_real\", \"online_quotes_sorted_easily\", \"online_quotes_sorted_easily\", \"online_quotes_sorted_easily\", \"online_quotes_sorted_easily\", \"openai\", \"openai\", \"openai\", \"openai\", \"opportunities_forecast\", \"opportunities_forecast\", \"opportunities_forecast\", \"opportunities_forecast\", \"overview_view_people_culture\", \"overview_view_people_culture\", \"overview_view_people_culture\", \"overview_view_people_culture\", \"overviewview_health_sportsall_sport\", \"overviewview_health_sportsall_sport\", \"overviewview_health_sportsall_sport\", \"overviewview_health_sportsall_sport\", \"overviewview_policy_public_inter\", \"overviewview_policy_public_inter\", \"overviewview_policy_public_inter\", \"overviewview_policy_public_inter\", \"package_one_know\", \"package_one_know\", \"panie\", \"panie\", \"panie\", \"panie\", \"panies_check_prices_driver\", \"panies_check_prices_driver\", \"panies_check_prices_driver\", \"panies_check_prices_driver\", \"panies_please_note_clicke\", \"panies_please_note_clicke\", \"panies_please_note_clicke\", \"panies_please_note_clicke\", \"pany\", \"pany\", \"pany\", \"pany\", \"pany_lying_useless_usually\", \"pany_lying_useless_usually\", \"pany_lying_useless_usually\", \"pany_lying_useless_usually\", \"para_profesionales_de_la\", \"para_profesionales_de_la\", \"para_profesionales_de_la\", \"patient_warme\", \"patrocinios_interesa\", \"patrocinios_interesa\", \"patrocinios_interesa\", \"pattern_introbullish\", \"pattern_introbullish\", \"pattern_introbullish\", \"pattern_introbullish\", \"patternrounding_bottomrise\", \"patternrounding_bottomrise\", \"patternrounding_bottomrise\", \"patternrounding_bottomrise\", \"people\", \"people\", \"people\", \"people\", \"perhaps\", \"perhaps\", \"perhaps\", \"perhaps\", \"philips_busco_soluciones_de\", \"philips_busco_soluciones_de\", \"philips_busco_soluciones_de\", \"philips_busco_soluciones_de\", \"platform\", \"platform\", \"platform\", \"platform\", \"platform_market\", \"platform_market\", \"platform_market\", \"platform_market\", \"plete_doctors_paperwork_expert\", \"policyholders_chance_discover_multiple\", \"policyholders_chance_discover_multiple\", \"policyholders_chance_discover_multiple\", \"policyholders_chance_discover_multiple\", \"political_pulse_weekly_email\", \"polkadot_dot_tron_trx\", \"polkadot_dot_tron_trx\", \"polkadot_dot_tron_trx\", \"polkadot_dot_tron_trx\", \"post_acknowledge_read_term\", \"post_acknowledge_read_term\", \"post_acknowledge_read_term\", \"post_acknowledge_read_term\", \"posts_containing_offsite_link\", \"posts_containing_offsite_link\", \"posts_containing_offsite_link\", \"posts_containing_offsite_link\", \"potential_customer_granting_coverage\", \"potential_customer_granting_coverage\", \"potential_customer_granting_coverage\", \"potential_customer_granting_coverage\", \"presence_online_quotes_allow\", \"presence_online_quotes_allow\", \"presence_online_quotes_allow\", \"presence_online_quotes_allow\", \"presents_main_benefits_pare\", \"presents_main_benefits_pare\", \"presents_main_benefits_pare\", \"presents_main_benefits_pare\", \"price_estimates_lower_deale\", \"price_estimates_lower_deale\", \"price_estimates_lower_deale\", \"price_estimates_lower_deale\", \"prime_edite\", \"prime_edite\", \"prnewswire_views_opinions_statement\", \"prnewswire_views_opinions_statement\", \"prnewswire_views_opinions_statement\", \"prnewswire_views_opinions_statement\", \"pro_music_right\", \"pro_music_right\", \"pro_music_right\", \"problem\", \"problem\", \"problem\", \"problem\", \"product\", \"product\", \"product\", \"product\", \"productos_de_consumo_philip\", \"productos_de_consumo_philip\", \"productos_de_consumo_philip\", \"products_retail_animals_pet\", \"products_retail_animals_pet\", \"products_retail_animals_pet\", \"products_retail_animals_pet\", \"protocol_wireless_communications_unication\", \"protocol_wireless_communications_unication\", \"protocol_wireless_communications_unication\", \"protocol_wireless_communications_unication\", \"public_license\", \"public_license\", \"public_license\", \"pulse_new_york_pulse\", \"pulse_new_york_pulse\", \"pulse_new_york_pulse\", \"puter\", \"puter\", \"puter\", \"puter\", \"quantum_computing_technologie\", \"quantum_computing_technologie\", \"quantum_computing_technologie\", \"question\", \"question\", \"question\", \"question\", \"rather\", \"rather\", \"rather\", \"rather\", \"rd_international_artificial_intelligence\", \"rd_international_artificial_intelligence\", \"rd_international_artificial_intelligence\", \"really\", \"really\", \"really\", \"really\", \"regions_overview\", \"regulated_market_transactions_occurre\", \"regulated_market_transactions_occurre\", \"regulated_market_transactions_occurre\", \"regulated_market_transactions_occurre\", \"release_endorsed_gray_media\", \"release_endorsed_gray_media\", \"release_endorsed_gray_media\", \"release_endorsed_gray_media\", \"release_provided_courtesy_prnewswire\", \"release_provided_courtesy_prnewswire\", \"release_provided_courtesy_prnewswire\", \"release_provided_courtesy_prnewswire\", \"remember_must_die_luca\", \"renal_dialysis_machine\", \"report\", \"report\", \"report\", \"report\", \"report_include\", \"report_include\", \"report_include\", \"report_include\", \"report_offer\", \"report_offer\", \"report_offer\", \"report_offer\", \"report_provide\", \"report_provide\", \"report_provide\", \"report_provide\", \"reports_regulated_market_transaction\", \"reports_regulated_market_transaction\", \"reports_regulated_market_transaction\", \"reports_regulated_market_transaction\", \"research\", \"research\", \"research\", \"research\", \"research_trade_show_new\", \"research_trade_show_new\", \"research_trade_show_new\", \"research_trade_show_new\", \"residential_router\", \"resourcesall_energy\", \"resourcesall_energy\", \"resourcesall_energy\", \"resourcesall_energy\", \"retro_tv_order_copy\", \"retro_tv_order_copy\", \"retro_tv_order_copy\", \"retro_tv_order_copy\", \"reveal\", \"reveal\", \"reveal\", \"reveal\", \"sales_volume_unit\", \"sandbox_solution\", \"say\", \"say\", \"say\", \"say\", \"schedule_wdpn_tv_schedule\", \"schedule_wdpn_tv_schedule\", \"schedule_wdpn_tv_schedule\", \"schedule_wdpn_tv_schedule\", \"school_business_closings_send\", \"school_business_closings_send\", \"school_business_closings_send\", \"school_business_closings_send\", \"screening_database_daily\", \"screening_database_daily\", \"see\", \"see\", \"see\", \"see\", \"seem\", \"seem\", \"seem\", \"seem\", \"service\", \"service\", \"service\", \"service\", \"service_market\", \"service_market\", \"service_market\", \"service_market\", \"services_investingall_financial_service\", \"services_investingall_financial_service\", \"services_investingall_financial_service\", \"services_investingall_financial_service\", \"shareholder_activism_shareholder_meeting\", \"shareholder_activism_shareholder_meeting\", \"shareholder_activism_shareholder_meeting\", \"shareholder_activism_shareholder_meeting\", \"shares_buy_back_digi\", \"shares_buy_back_digi\", \"shares_buy_back_digi\", \"shares_buy_back_digi\", \"shatterproof_glass\", \"shiba_inu_shib_litecoin\", \"shiba_inu_shib_litecoin\", \"shiba_inu_shib_litecoin\", \"shiba_inu_shib_litecoin\", \"shoulders_top_formationhead_shoulder\", \"shoulders_top_formationhead_shoulder\", \"shoulders_top_formationhead_shoulder\", \"shoulders_top_formationhead_shoulder\", \"show\", \"show\", \"show\", \"show\", \"simply\", \"simply\", \"simply\", \"simply\", \"software_market\", \"software_market\", \"software_market\", \"software_market\", \"soluciones_para_profesionales_de\", \"soluciones_para_profesionales_de\", \"soluciones_para_profesionales_de\", \"soluciones_para_profesionales_de\", \"solution\", \"solution\", \"solution\", \"solution\", \"south_world_fracture\", \"southeastern_pa_poconos_western\", \"southeastern_pa_poconos_western\", \"southeastern_pa_poconos_western\", \"southeastern_pa_poconos_western\", \"special_reports_trending_topic\", \"special_reports_trending_topic\", \"spheres_opinion_imf_charte\", \"spheres_opinion_imf_charte\", \"spread_across_pages_table\", \"spread_across_pages_table\", \"start\", \"start\", \"start\", \"start\", \"state_withuser\", \"state_withuser\", \"state_withuser\", \"story_wfmz_tv_th\", \"story_wfmz_tv_th\", \"story_wfmz_tv_th\", \"story_wfmz_tv_th\", \"support\", \"support\", \"support\", \"support\", \"system\", \"system\", \"system\", \"system\", \"take\", \"take\", \"take\", \"take\", \"team\", \"team\", \"team\", \"team\", \"teamoffice_hoursgive\", \"teamoffice_hoursgive\", \"teamoffice_hoursgive\", \"teamoffice_hoursgive\", \"technology\", \"technology\", \"technology\", \"technology\", \"technology_overviewview\", \"technology_overviewview\", \"technology_overviewview\", \"technology_overviewview\", \"terms_ments_may_use\", \"terms_ments_may_use\", \"terms_ments_may_use\", \"terms_ments_may_use\", \"termscpi_toolscpi\", \"termscpi_toolscpi\", \"termscpi_toolscpi\", \"termscpi_toolscpi\", \"termsforex_retirement\", \"termsforex_retirement\", \"termsforex_retirement\", \"termsforex_retirement\", \"thing\", \"thing\", \"thing\", \"thing\", \"think\", \"think\", \"think\", \"think\", \"three_years_pandemic_disruption\", \"three_years_pandemic_disruption\", \"three_years_pandemic_disruption\", \"three_years_pandemic_disruption\", \"time\", \"time\", \"time\", \"time\", \"time_drivers_busy_worke\", \"time_drivers_busy_worke\", \"time_drivers_busy_worke\", \"time_drivers_busy_worke\", \"today\", \"today\", \"today\", \"today\", \"toi_staff\", \"tools_enterprises_across\", \"tools_enterprises_across\", \"top_companie\", \"top_companie\", \"top_companie\", \"top_companie\", \"top_key_player\", \"top_key_player\", \"top_key_player\", \"top_key_player\", \"top_player\", \"top_player\", \"top_player\", \"top_player\", \"topaverage_directional\", \"topaverage_directional\", \"topaverage_directional\", \"topaverage_directional\", \"tourism_outdoors_camping_hike\", \"tourism_outdoors_camping_hike\", \"tourism_outdoors_camping_hike\", \"tourism_outdoors_camping_hike\", \"traffic_sports_family_programme\", \"traffic_sports_family_programme\", \"traffic_sports_family_programme\", \"traffic_sports_family_programme\", \"transactions_occurred_digi_symbol\", \"transactions_occurred_digi_symbol\", \"transactions_occurred_digi_symbol\", \"transactions_occurred_digi_symbol\", \"travel_overviewview_travel_policy\", \"travel_overviewview_travel_policy\", \"travel_overviewview_travel_policy\", \"travel_overviewview_travel_policy\", \"trend\", \"trend\", \"trend\", \"trend\", \"trend_add\", \"trend_add\", \"true_range_atr_bollinger\", \"true_range_atr_bollinger\", \"true_range_atr_bollinger\", \"true_range_atr_bollinger\", \"tv_order_copy_story\", \"tv_order_copy_story\", \"tv_order_copy_story\", \"tv_order_copy_story\", \"un_drugs_crime_office\", \"un_drugs_crime_office\", \"un_drugs_crime_office\", \"unlike_physical_insurance_agencie\", \"unlike_physical_insurance_agencie\", \"unlike_physical_insurance_agencie\", \"unlike_physical_insurance_agencie\", \"us_photos_video_send\", \"us_photos_video_send\", \"us_photos_video_send\", \"us_photos_video_send\", \"usa_today_new\", \"usa_today_new\", \"usa_today_new\", \"use\", \"use\", \"use\", \"use\", \"use_ment_posting_pliance\", \"use_ment_posting_pliance\", \"use_ment_posting_pliance\", \"use_ment_posting_pliance\", \"using_brokerage_websites_allow\", \"using_brokerage_websites_allow\", \"using_brokerage_websites_allow\", \"using_brokerage_websites_allow\", \"utilities_gas_general_manufacture\", \"utilities_gas_general_manufacture\", \"utilities_gas_general_manufacture\", \"utilities_gas_general_manufacture\", \"vectara\", \"venture_capital_devices_diagnostic\", \"venture_capital_devices_diagnostic\", \"veterans_women_people_culture\", \"veterans_women_people_culture\", \"veterans_women_people_culture\", \"veterans_women_people_culture\", \"video\", \"video\", \"video\", \"video\", \"video_studio_euronews_english\", \"video_studio_euronews_english\", \"video_studio_euronews_english\", \"video_studio_euronews_english\", \"views_opinions_statements_press\", \"views_opinions_statements_press\", \"views_opinions_statements_press\", \"views_opinions_statements_press\", \"views_submission_open\", \"wafer_dicing_tape\", \"wafer_dicing_tape_sale\", \"watch_video\", \"watch_video\", \"watch_video\", \"watch_video\", \"way\", \"way\", \"way\", \"way\", \"weather_report_live_streame\", \"weather_report_live_streame\", \"weather_report_live_streame\", \"weather_report_live_streame\", \"wedgehead_shoulder\", \"wedgehead_shoulder\", \"wedgehead_shoulder\", \"wedgehead_shoulder\", \"well\", \"well\", \"well\", \"well\", \"wfmz_tv_new\", \"wfmz_tv_new\", \"wfmz_tv_new\", \"wfmz_tv_new\", \"wfmz_tv_th_anniversary\", \"wfmz_tv_th_anniversary\", \"wfmz_tv_th_anniversary\", \"wfmz_tv_th_anniversary\", \"word\", \"word\", \"word\", \"word\", \"work\", \"work\", \"work\", \"work\", \"working_swiss_architectural_firm\", \"working_swiss_architectural_firm\", \"working_swiss_architectural_firm\", \"working_swiss_architectural_firm\", \"world\", \"world\", \"world\", \"world\", \"world_fractures_liberal_illiberal\", \"world_fractures_liberal_illiberal\", \"write\", \"write\", \"write\", \"write\", \"year\", \"year\", \"year\", \"year\"]}, \"R\": 30, \"lambda.step\": 0.01, \"plot.opts\": {\"xlab\": \"PC1\", \"ylab\": \"PC2\"}, \"topic.order\": [1, 2, 3, 4]};\n",
       "\n",
       "function LDAvis_load_lib(url, callback){\n",
       "  var s = document.createElement('script');\n",
       "  s.src = url;\n",
       "  s.async = true;\n",
       "  s.onreadystatechange = s.onload = callback;\n",
       "  s.onerror = function(){console.warn(\"failed to load library \" + url);};\n",
       "  document.getElementsByTagName(\"head\")[0].appendChild(s);\n",
       "}\n",
       "\n",
       "if(typeof(LDAvis) !== \"undefined\"){\n",
       "   // already loaded: just create the visualization\n",
       "   !function(LDAvis){\n",
       "       new LDAvis(\"#\" + \"ldavis_el63471405748950564649006091958\", ldavis_el63471405748950564649006091958_data);\n",
       "   }(LDAvis);\n",
       "}else if(typeof define === \"function\" && define.amd){\n",
       "   // require.js is available: use it to load d3/LDAvis\n",
       "   require.config({paths: {d3: \"https://d3js.org/d3.v5\"}});\n",
       "   require([\"d3\"], function(d3){\n",
       "      window.d3 = d3;\n",
       "      LDAvis_load_lib(\"https://cdn.jsdelivr.net/gh/bmabey/pyLDAvis@3.4.0/pyLDAvis/js/ldavis.v3.0.0.js\", function(){\n",
       "        new LDAvis(\"#\" + \"ldavis_el63471405748950564649006091958\", ldavis_el63471405748950564649006091958_data);\n",
       "      });\n",
       "    });\n",
       "}else{\n",
       "    // require.js not available: dynamically load d3 & LDAvis\n",
       "    LDAvis_load_lib(\"https://d3js.org/d3.v5.js\", function(){\n",
       "         LDAvis_load_lib(\"https://cdn.jsdelivr.net/gh/bmabey/pyLDAvis@3.4.0/pyLDAvis/js/ldavis.v3.0.0.js\", function(){\n",
       "                 new LDAvis(\"#\" + \"ldavis_el63471405748950564649006091958\", ldavis_el63471405748950564649006091958_data);\n",
       "            })\n",
       "         });\n",
       "}\n",
       "</script>"
      ],
      "text/plain": [
       "<IPython.core.display.HTML object>"
      ]
     },
     "execution_count": 23,
     "metadata": {},
     "output_type": "execute_result"
    }
   ],
   "source": [
    "%%time\n",
    "\n",
    "lda_display = gensimvis.prepare(tuned_lda_model, doc_term_matrix, dictionary, sort_topics=False, mds='mmds')\n",
    "pyLDAvis.display(lda_display)\n"
   ]
  },
  {
   "cell_type": "code",
   "execution_count": null,
   "metadata": {},
   "outputs": [],
   "source": []
  }
 ],
 "metadata": {
  "kernelspec": {
   "display_name": "Python 3 (ipykernel)",
   "language": "python",
   "name": "python3"
  },
  "language_info": {
   "codemirror_mode": {
    "name": "ipython",
    "version": 3
   },
   "file_extension": ".py",
   "mimetype": "text/x-python",
   "name": "python",
   "nbconvert_exporter": "python",
   "pygments_lexer": "ipython3",
   "version": "3.10.11"
  }
 },
 "nbformat": 4,
 "nbformat_minor": 4
}
