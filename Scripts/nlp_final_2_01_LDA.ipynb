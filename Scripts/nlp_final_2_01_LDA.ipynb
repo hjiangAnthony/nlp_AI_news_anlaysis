{
 "cells": [
  {
   "attachments": {},
   "cell_type": "markdown",
   "metadata": {},
   "source": [
    "## Set-up"
   ]
  },
  {
   "cell_type": "code",
   "execution_count": 1,
   "metadata": {},
   "outputs": [
    {
     "name": "stdout",
     "output_type": "stream",
     "text": [
      "INFO: Pandarallel will run on 8 workers.\n",
      "INFO: Pandarallel will use Memory file system to transfer data between the main process and workers.\n"
     ]
    }
   ],
   "source": [
    "import pandas as pd\n",
    "\n",
    "import warnings\n",
    "warnings.filterwarnings(\"ignore\")\n",
    "\n",
    "from pprint import pprint\n",
    "import re\n",
    "from tqdm import tqdm\n",
    "tqdm.pandas()\n",
    "import numpy as np\n",
    "\n",
    "from pandarallel import pandarallel\n",
    "pandarallel.initialize(progress_bar=True)"
   ]
  },
  {
   "cell_type": "code",
   "execution_count": 2,
   "metadata": {},
   "outputs": [
    {
     "name": "stdout",
     "output_type": "stream",
     "text": [
      "/home/jupyter/data/nlp_final\n"
     ]
    }
   ],
   "source": [
    "#!pwd\n",
    "import os\n",
    "\n",
    "# Google Bucket\n",
    "# file name checkpoint_0512_sent_split.parquet\n",
    "path_bucket = 'gs://msca-sp23-bucket/nlp_data'\n",
    "path_bucket_df_cleaned = path_bucket + '/' + 'df_cleaned_0514.parquet'\n",
    "runtime_path = '/home/jupyter/data/nlp_final'\n",
    "\n",
    "os.chdir(runtime_path)\n",
    "print(os.getcwd())"
   ]
  },
  {
   "cell_type": "code",
   "execution_count": 3,
   "metadata": {},
   "outputs": [],
   "source": [
    "import pandas as pd\n",
    "pd.set_option('display.max_rows', 100)\n",
    "pd.set_option('display.max_columns', None)\n",
    "pd.set_option('display.max_colwidth', 500)\n",
    "\n",
    "import warnings\n",
    "warnings.filterwarnings(\"ignore\")"
   ]
  },
  {
   "cell_type": "code",
   "execution_count": 4,
   "metadata": {},
   "outputs": [],
   "source": [
    "import gensim\n",
    "from gensim import corpora, models\n",
    "from gensim.models.ldamulticore import LdaMulticore\n",
    "from gensim.utils import simple_preprocess\n",
    "from gensim.models import CoherenceModel\n",
    "\n",
    "import pyLDAvis\n",
    "import pyLDAvis.gensim_models as gensimvis\n",
    "pyLDAvis.enable_notebook()"
   ]
  },
  {
   "cell_type": "code",
   "execution_count": 5,
   "metadata": {},
   "outputs": [],
   "source": [
    "import nltk as nltk\n",
    "from nltk.corpus import stopwords\n",
    "\n",
    "import multiprocessing"
   ]
  },
  {
   "cell_type": "code",
   "execution_count": 6,
   "metadata": {},
   "outputs": [
    {
     "name": "stdout",
     "output_type": "stream",
     "text": [
      "Collecting en-core-web-md==3.5.0\n",
      "  Downloading https://github.com/explosion/spacy-models/releases/download/en_core_web_md-3.5.0/en_core_web_md-3.5.0-py3-none-any.whl (42.8 MB)\n",
      "\u001b[2K     ━━━━━━━━━━━━━━━━━━━━━━━━━━━━━━━━━━━━━━━━ 42.8/42.8 MB 15.4 MB/s eta 0:00:00\n",
      "\u001b[?25hRequirement already satisfied: spacy<3.6.0,>=3.5.0 in /opt/conda/envs/nlp/lib/python3.10/site-packages (from en-core-web-md==3.5.0) (3.5.2)\n",
      "Requirement already satisfied: spacy-legacy<3.1.0,>=3.0.11 in /opt/conda/envs/nlp/lib/python3.10/site-packages (from spacy<3.6.0,>=3.5.0->en-core-web-md==3.5.0) (3.0.12)\n",
      "Requirement already satisfied: spacy-loggers<2.0.0,>=1.0.0 in /opt/conda/envs/nlp/lib/python3.10/site-packages (from spacy<3.6.0,>=3.5.0->en-core-web-md==3.5.0) (1.0.4)\n",
      "Requirement already satisfied: murmurhash<1.1.0,>=0.28.0 in /opt/conda/envs/nlp/lib/python3.10/site-packages (from spacy<3.6.0,>=3.5.0->en-core-web-md==3.5.0) (1.0.9)\n",
      "Requirement already satisfied: cymem<2.1.0,>=2.0.2 in /opt/conda/envs/nlp/lib/python3.10/site-packages (from spacy<3.6.0,>=3.5.0->en-core-web-md==3.5.0) (2.0.7)\n",
      "Requirement already satisfied: preshed<3.1.0,>=3.0.2 in /opt/conda/envs/nlp/lib/python3.10/site-packages (from spacy<3.6.0,>=3.5.0->en-core-web-md==3.5.0) (3.0.8)\n",
      "Requirement already satisfied: thinc<8.2.0,>=8.1.8 in /opt/conda/envs/nlp/lib/python3.10/site-packages (from spacy<3.6.0,>=3.5.0->en-core-web-md==3.5.0) (8.1.10)\n",
      "Requirement already satisfied: wasabi<1.2.0,>=0.9.1 in /opt/conda/envs/nlp/lib/python3.10/site-packages (from spacy<3.6.0,>=3.5.0->en-core-web-md==3.5.0) (1.1.1)\n",
      "Requirement already satisfied: srsly<3.0.0,>=2.4.3 in /opt/conda/envs/nlp/lib/python3.10/site-packages (from spacy<3.6.0,>=3.5.0->en-core-web-md==3.5.0) (2.4.6)\n",
      "Requirement already satisfied: catalogue<2.1.0,>=2.0.6 in /opt/conda/envs/nlp/lib/python3.10/site-packages (from spacy<3.6.0,>=3.5.0->en-core-web-md==3.5.0) (2.0.8)\n",
      "Requirement already satisfied: typer<0.8.0,>=0.3.0 in /opt/conda/envs/nlp/lib/python3.10/site-packages (from spacy<3.6.0,>=3.5.0->en-core-web-md==3.5.0) (0.7.0)\n",
      "Requirement already satisfied: pathy>=0.10.0 in /opt/conda/envs/nlp/lib/python3.10/site-packages (from spacy<3.6.0,>=3.5.0->en-core-web-md==3.5.0) (0.10.1)\n",
      "Requirement already satisfied: smart-open<7.0.0,>=5.2.1 in /opt/conda/envs/nlp/lib/python3.10/site-packages (from spacy<3.6.0,>=3.5.0->en-core-web-md==3.5.0) (5.2.1)\n",
      "Requirement already satisfied: tqdm<5.0.0,>=4.38.0 in /opt/conda/envs/nlp/lib/python3.10/site-packages (from spacy<3.6.0,>=3.5.0->en-core-web-md==3.5.0) (4.65.0)\n",
      "Requirement already satisfied: numpy>=1.15.0 in /opt/conda/envs/nlp/lib/python3.10/site-packages (from spacy<3.6.0,>=3.5.0->en-core-web-md==3.5.0) (1.24.3)\n",
      "Requirement already satisfied: requests<3.0.0,>=2.13.0 in /opt/conda/envs/nlp/lib/python3.10/site-packages (from spacy<3.6.0,>=3.5.0->en-core-web-md==3.5.0) (2.29.0)\n",
      "Requirement already satisfied: pydantic!=1.8,!=1.8.1,<1.11.0,>=1.7.4 in /opt/conda/envs/nlp/lib/python3.10/site-packages (from spacy<3.6.0,>=3.5.0->en-core-web-md==3.5.0) (1.10.7)\n",
      "Requirement already satisfied: jinja2 in /opt/conda/envs/nlp/lib/python3.10/site-packages (from spacy<3.6.0,>=3.5.0->en-core-web-md==3.5.0) (3.1.2)\n",
      "Requirement already satisfied: setuptools in /opt/conda/envs/nlp/lib/python3.10/site-packages (from spacy<3.6.0,>=3.5.0->en-core-web-md==3.5.0) (67.7.2)\n",
      "Requirement already satisfied: packaging>=20.0 in /opt/conda/envs/nlp/lib/python3.10/site-packages (from spacy<3.6.0,>=3.5.0->en-core-web-md==3.5.0) (23.1)\n",
      "Requirement already satisfied: langcodes<4.0.0,>=3.2.0 in /opt/conda/envs/nlp/lib/python3.10/site-packages (from spacy<3.6.0,>=3.5.0->en-core-web-md==3.5.0) (3.3.0)\n",
      "Requirement already satisfied: typing-extensions>=4.2.0 in /opt/conda/envs/nlp/lib/python3.10/site-packages (from pydantic!=1.8,!=1.8.1,<1.11.0,>=1.7.4->spacy<3.6.0,>=3.5.0->en-core-web-md==3.5.0) (4.5.0)\n",
      "Requirement already satisfied: charset-normalizer<4,>=2 in /opt/conda/envs/nlp/lib/python3.10/site-packages (from requests<3.0.0,>=2.13.0->spacy<3.6.0,>=3.5.0->en-core-web-md==3.5.0) (3.1.0)\n",
      "Requirement already satisfied: idna<4,>=2.5 in /opt/conda/envs/nlp/lib/python3.10/site-packages (from requests<3.0.0,>=2.13.0->spacy<3.6.0,>=3.5.0->en-core-web-md==3.5.0) (3.4)\n",
      "Requirement already satisfied: urllib3<1.27,>=1.21.1 in /opt/conda/envs/nlp/lib/python3.10/site-packages (from requests<3.0.0,>=2.13.0->spacy<3.6.0,>=3.5.0->en-core-web-md==3.5.0) (1.26.15)\n",
      "Requirement already satisfied: certifi>=2017.4.17 in /opt/conda/envs/nlp/lib/python3.10/site-packages (from requests<3.0.0,>=2.13.0->spacy<3.6.0,>=3.5.0->en-core-web-md==3.5.0) (2023.5.7)\n",
      "Requirement already satisfied: blis<0.8.0,>=0.7.8 in /opt/conda/envs/nlp/lib/python3.10/site-packages (from thinc<8.2.0,>=8.1.8->spacy<3.6.0,>=3.5.0->en-core-web-md==3.5.0) (0.7.9)\n",
      "Requirement already satisfied: confection<1.0.0,>=0.0.1 in /opt/conda/envs/nlp/lib/python3.10/site-packages (from thinc<8.2.0,>=8.1.8->spacy<3.6.0,>=3.5.0->en-core-web-md==3.5.0) (0.0.4)\n",
      "Requirement already satisfied: click<9.0.0,>=7.1.1 in /opt/conda/envs/nlp/lib/python3.10/site-packages (from typer<0.8.0,>=0.3.0->spacy<3.6.0,>=3.5.0->en-core-web-md==3.5.0) (8.1.3)\n",
      "Requirement already satisfied: MarkupSafe>=2.0 in /opt/conda/envs/nlp/lib/python3.10/site-packages (from jinja2->spacy<3.6.0,>=3.5.0->en-core-web-md==3.5.0) (2.1.2)\n",
      "\u001b[38;5;2m✔ Download and installation successful\u001b[0m\n",
      "You can now load the package via spacy.load('en_core_web_md')\n"
     ]
    }
   ],
   "source": [
    "import spacy\n",
    "import spacy.cli\n",
    "spacy.cli.download(\"en_core_web_md\")\n",
    "nlp = spacy.load(\"en_core_web_md\")"
   ]
  },
  {
   "cell_type": "code",
   "execution_count": 7,
   "metadata": {},
   "outputs": [
    {
     "name": "stderr",
     "output_type": "stream",
     "text": [
      "[nltk_data] Downloading package punkt to /home/anthony/nltk_data...\n",
      "[nltk_data]   Package punkt is already up-to-date!\n",
      "[nltk_data] Downloading package averaged_perceptron_tagger to\n",
      "[nltk_data]     /home/anthony/nltk_data...\n",
      "[nltk_data]   Package averaged_perceptron_tagger is already up-to-\n",
      "[nltk_data]       date!\n",
      "[nltk_data] Downloading package maxent_ne_chunker to\n",
      "[nltk_data]     /home/anthony/nltk_data...\n",
      "[nltk_data]   Package maxent_ne_chunker is already up-to-date!\n",
      "[nltk_data] Downloading package words to /home/anthony/nltk_data...\n",
      "[nltk_data]   Package words is already up-to-date!\n",
      "[nltk_data] Downloading package stopwords to\n",
      "[nltk_data]     /home/anthony/nltk_data...\n",
      "[nltk_data]   Package stopwords is already up-to-date!\n"
     ]
    },
    {
     "data": {
      "text/plain": [
       "True"
      ]
     },
     "execution_count": 7,
     "metadata": {},
     "output_type": "execute_result"
    }
   ],
   "source": [
    "nltk.download('punkt')\n",
    "nltk.download('averaged_perceptron_tagger')\n",
    "nltk.download('maxent_ne_chunker')\n",
    "nltk.download('words')\n",
    "nltk.download('stopwords')"
   ]
  },
  {
   "cell_type": "code",
   "execution_count": 8,
   "metadata": {},
   "outputs": [
    {
     "name": "stdout",
     "output_type": "stream",
     "text": [
      "(10000, 5)\n"
     ]
    },
    {
     "data": {
      "text/html": [
       "<div>\n",
       "<style scoped>\n",
       "    .dataframe tbody tr th:only-of-type {\n",
       "        vertical-align: middle;\n",
       "    }\n",
       "\n",
       "    .dataframe tbody tr th {\n",
       "        vertical-align: top;\n",
       "    }\n",
       "\n",
       "    .dataframe thead th {\n",
       "        text-align: right;\n",
       "    }\n",
       "</style>\n",
       "<table border=\"1\" class=\"dataframe\">\n",
       "  <thead>\n",
       "    <tr style=\"text-align: right;\">\n",
       "      <th></th>\n",
       "      <th>url</th>\n",
       "      <th>date</th>\n",
       "      <th>title</th>\n",
       "      <th>text_split</th>\n",
       "      <th>text</th>\n",
       "    </tr>\n",
       "  </thead>\n",
       "  <tbody>\n",
       "    <tr>\n",
       "      <th>158935</th>\n",
       "      <td>https://cio.economictimes.indiatimes.com/news/business-analytics/anil-kumar-aays-analytics-on-how-large-enterprises-are-democratising-data-science-ml-in-the-corporate-finance-space/96214109</td>\n",
       "      <td>2022-12-14</td>\n",
       "      <td>Anil Kumar, Aays Analytics on how large enterprises are democratising data science, ML in the corporate finance space, CIO News, ET CIO</td>\n",
       "      <td>[Accept the updated privacy   cookie policy Dear user, ET CIO privacy and cookie policy has been updated to align with the new data regulations in European Union. Please review and accept these changes below to continue using the website.You can see our privacy policy   our cookie policy. We use cookies to ensure the best experience for you on our website.If you choose to ignore this message, we'll assume that you are happy to receive all cookies on ET CIO. AnalyticsNecessaryNewsletter  Name...</td>\n",
       "      <td>Accept the updated privacy   cookie policy Dear user, ET CIO privacy and cookie policy has been updated to align with the new data regulations in European Union. Please review and accept these changes below to continue using the website.You can see our privacy policy   our cookie policy. We use cookies to ensure the best experience for you on our website.If you choose to ignore this message, we'll assume that you are happy to receive all cookies on ET CIO. AnalyticsNecessaryNewsletter  NameP...</td>\n",
       "    </tr>\n",
       "  </tbody>\n",
       "</table>\n",
       "</div>"
      ],
      "text/plain": [
       "                                                                                                                                                                                                  url   \n",
       "158935  https://cio.economictimes.indiatimes.com/news/business-analytics/anil-kumar-aays-analytics-on-how-large-enterprises-are-democratising-data-science-ml-in-the-corporate-finance-space/96214109  \\\n",
       "\n",
       "              date   \n",
       "158935  2022-12-14  \\\n",
       "\n",
       "                                                                                                                                               title   \n",
       "158935       Anil Kumar, Aays Analytics on how large enterprises are democratising data science, ML in the corporate finance space, CIO News, ET CIO  \\\n",
       "\n",
       "                                                                                                                                                                                                                                                                                                                                                                                                                                                                                                                 text_split   \n",
       "158935  [Accept the updated privacy   cookie policy Dear user, ET CIO privacy and cookie policy has been updated to align with the new data regulations in European Union. Please review and accept these changes below to continue using the website.You can see our privacy policy   our cookie policy. We use cookies to ensure the best experience for you on our website.If you choose to ignore this message, we'll assume that you are happy to receive all cookies on ET CIO. AnalyticsNecessaryNewsletter  Name...  \\\n",
       "\n",
       "                                                                                                                                                                                                                                                                                                                                                                                                                                                                                                                       text  \n",
       "158935  Accept the updated privacy   cookie policy Dear user, ET CIO privacy and cookie policy has been updated to align with the new data regulations in European Union. Please review and accept these changes below to continue using the website.You can see our privacy policy   our cookie policy. We use cookies to ensure the best experience for you on our website.If you choose to ignore this message, we'll assume that you are happy to receive all cookies on ET CIO. AnalyticsNecessaryNewsletter  NameP...  "
      ]
     },
     "execution_count": 8,
     "metadata": {},
     "output_type": "execute_result"
    }
   ],
   "source": [
    "# read data\n",
    "df_raw = pd.read_parquet(path_bucket_df_cleaned, engine='pyarrow')\n",
    "\n",
    "# take a sample\n",
    "df = df_raw.sample(10000, random_state=42)\n",
    "print(df.shape)\n",
    "df.head(1)"
   ]
  },
  {
   "attachments": {},
   "cell_type": "markdown",
   "metadata": {},
   "source": [
    "## LDA, on overall topics"
   ]
  },
  {
   "attachments": {},
   "cell_type": "markdown",
   "metadata": {},
   "source": [
    "Helper Functions"
   ]
  },
  {
   "cell_type": "code",
   "execution_count": 10,
   "metadata": {},
   "outputs": [
    {
     "name": "stdout",
     "output_type": "stream",
     "text": [
      "CPU times: user 457 µs, sys: 175 µs, total: 632 µs\n",
      "Wall time: 438 µs\n"
     ]
    }
   ],
   "source": [
    "%%time\n",
    "\n",
    "def sent_to_words(sentences):\n",
    "    for sentence in sentences:\n",
    "        yield(gensim.utils.simple_preprocess(str(sentence), deacc=True))\n",
    "\n",
    "# Define functions for stopwords, bigrams, trigrams and lemmatization\n",
    "stop_words = stopwords.words('english')\n",
    "def remove_stopwords(texts):\n",
    "    return [[word for word in simple_preprocess(str(doc)) if word not in stop_words] for doc in texts]\n",
    "\n",
    "def make_bigrams(texts):\n",
    "    return [bigram_mod[doc] for doc in texts]\n",
    "\n",
    "def make_trigrams(texts):\n",
    "    return [trigram_mod[bigram_mod[doc]] for doc in texts]\n",
    "\n",
    "def lemmatization(texts, allowed_postags=['NOUN', 'ADJ', 'VERB', 'ADV']):\n",
    "    \"\"\"https://spacy.io/api/annotation\"\"\"\n",
    "    texts_out = []\n",
    "    for sent in texts:\n",
    "        doc = nlp(\" \".join(sent)) \n",
    "        texts_out.append([token.lemma_ for token in doc if token.pos_ in allowed_postags])\n",
    "    return texts_out"
   ]
  },
  {
   "attachments": {},
   "cell_type": "markdown",
   "metadata": {},
   "source": [
    "### Text Prep\n",
    "\n",
    "I want to utilize parallelization as much as possile to save time"
   ]
  },
  {
   "cell_type": "code",
   "execution_count": 13,
   "metadata": {},
   "outputs": [
    {
     "data": {
      "application/vnd.jupyter.widget-view+json": {
       "model_id": "ad55a9027de048ab9b5060fccdcbecc5",
       "version_major": 2,
       "version_minor": 0
      },
      "text/plain": [
       "VBox(children=(HBox(children=(IntProgress(value=0, description='0.00%', max=1250), Label(value='0 / 1250'))), …"
      ]
     },
     "metadata": {},
     "output_type": "display_data"
    }
   ],
   "source": [
    "# select the text\n",
    "df_text = df[['text']]\n",
    "#df_title = df['title']\n",
    "\n",
    "# remove punctuation and numbers using parallel_apply\n",
    "df_text['text_cleaned'] = df_text['text'].parallel_apply(lambda x: re.sub('[^A-Za-z]+', ' ', x))\n",
    "#df_title['title_cleaned'] = df_title.parallel_apply(lambda x: re.sub('[^A-Za-z]+', ' ', x))"
   ]
  },
  {
   "cell_type": "code",
   "execution_count": 16,
   "metadata": {},
   "outputs": [
    {
     "name": "stdout",
     "output_type": "stream",
     "text": [
      "<class 'pandas.core.frame.DataFrame'>\n",
      "Index: 9990 entries, 158935 to 307\n",
      "Data columns (total 2 columns):\n",
      " #   Column        Non-Null Count  Dtype \n",
      "---  ------        --------------  ----- \n",
      " 0   text          9990 non-null   object\n",
      " 1   text_cleaned  9990 non-null   object\n",
      "dtypes: object(2)\n",
      "memory usage: 234.1+ KB\n"
     ]
    }
   ],
   "source": [
    "# drop na and duplicates\n",
    "df_text = df_text.dropna().drop_duplicates()\n",
    "# convert to str type\n",
    "df_text['text_cleaned'] = df_text['text_cleaned'].astype(str)\n",
    "df_text.info()"
   ]
  },
  {
   "cell_type": "code",
   "execution_count": 17,
   "metadata": {},
   "outputs": [
    {
     "data": {
      "application/vnd.jupyter.widget-view+json": {
       "model_id": "1da5a4fc4de249378af73e480a20d3da",
       "version_major": 2,
       "version_minor": 0
      },
      "text/plain": [
       "VBox(children=(HBox(children=(IntProgress(value=0, description='0.00%', max=1249), Label(value='0 / 1249'))), …"
      ]
     },
     "metadata": {},
     "output_type": "display_data"
    }
   ],
   "source": [
    "# save a copy\n",
    "df_text_before = df_text.copy()\n",
    "\n",
    "# define a function to handle errors\n",
    "def handle_errors(func):\n",
    "    def wrapper(x):\n",
    "        try:\n",
    "            return func(x)\n",
    "        except Exception as e:\n",
    "            print(f\"Error processing row: {x}\")\n",
    "            return np.nan\n",
    "    return wrapper\n",
    "\n",
    "# define the remove_stopwords function with the handle_errors decorator\n",
    "@handle_errors\n",
    "def remove_stopwords(row): \n",
    "    return [i for i in simple_preprocess(row) if i not in stopwords.words('english')]\n",
    "\n",
    "# apply remove_stopwords function with try/except\n",
    "df_text['text_cleaned'] = df_text['text_cleaned'].parallel_apply(remove_stopwords)"
   ]
  },
  {
   "cell_type": "code",
   "execution_count": 20,
   "metadata": {},
   "outputs": [
    {
     "data": {
      "text/html": [
       "<div>\n",
       "<style scoped>\n",
       "    .dataframe tbody tr th:only-of-type {\n",
       "        vertical-align: middle;\n",
       "    }\n",
       "\n",
       "    .dataframe tbody tr th {\n",
       "        vertical-align: top;\n",
       "    }\n",
       "\n",
       "    .dataframe thead th {\n",
       "        text-align: right;\n",
       "    }\n",
       "</style>\n",
       "<table border=\"1\" class=\"dataframe\">\n",
       "  <thead>\n",
       "    <tr style=\"text-align: right;\">\n",
       "      <th></th>\n",
       "      <th>text</th>\n",
       "      <th>text_cleaned</th>\n",
       "    </tr>\n",
       "  </thead>\n",
       "  <tbody>\n",
       "    <tr>\n",
       "      <th>158935</th>\n",
       "      <td>Accept the updated privacy   cookie policy Dear user, ET CIO privacy and cookie policy has been updated to align with the new data regulations in European Union. Please review and accept these changes below to continue using the website.You can see our privacy policy   our cookie policy. We use cookies to ensure the best experience for you on our website.If you choose to ignore this message, we'll assume that you are happy to receive all cookies on ET CIO. AnalyticsNecessaryNewsletter  NameP...</td>\n",
       "      <td>['accept', 'updated', 'privacy', 'cookie', 'policy', 'dear', 'user', 'et', 'cio', 'privacy', 'cookie', 'policy', 'updated', 'align', 'new', 'data', 'regulations', 'european', 'union', 'please', 'review', 'accept', 'changes', 'continue', 'using', 'website', 'see', 'privacy', 'policy', 'cookie', 'policy', 'use', 'cookies', 'ensure', 'best', 'experience', 'website', 'choose', 'ignore', 'message', 'assume', 'happy', 'receive', 'cookies', 'et', 'cio', 'google', 'analyticsgoogle', 'yearhttpsto', '...</td>\n",
       "    </tr>\n",
       "    <tr>\n",
       "      <th>77297</th>\n",
       "      <td>Skip to contentWeatherCOVID 19 CoverageWho's HiringLivestreamElection PodcastHomeElection ResultsNewsAPContestsNationalWildlife WatchWCAX News Livestream WeatherClosingsRadarSki   Board ReportWeather CamsWCAX Weather AppWeather FAQWeather FeaturesAstronomySportsCommunity CalendarContact UsMeet the TeamAdvertise With UsCommunity PartnersGot a Story Idea?Order Channel 3 News StoriesWCAX JobsPaid InternshipsStream News Live and On DemandNewsletterECHO, Leahy Center for Lake ChamplainJumpOnITVid...</td>\n",
       "      <td>['skip', 'coveragewho', 'watchwcax', 'news', 'livestream', 'board', 'reportweather', 'camswcax', 'weather', 'appweather', 'faqweather', 'calendarcontact', 'usmeet', 'teamadvertise', 'uscommunity', 'partnersgot', 'story', 'idea', 'order', 'channel', 'news', 'storieswcax', 'jobspaid', 'news', 'live', 'leahy', 'center', 'lake', 'resultscovid', 'mapfoodbankshow', 'watch', 'listingssubmit', 'photos', 'videoscircle', 'country', 'music', 'lifestylegray', 'dc', 'fencebuy', 'vermont', 'firstmade', 'v...</td>\n",
       "    </tr>\n",
       "    <tr>\n",
       "      <th>99045</th>\n",
       "      <td>Nvidia puts AI at center of latest GeForce graphics card upgrade   The Seattle Times   Traffic Lab Law   Justice Local Politics Education Education Lab Eastside Environment Health Data Mental Health Project Homeless Times Watchdog Boeing   Aerospace Amazon Microsoft Technology Real Estate Economy Artificial Intelligence Seahawks Mariners Huskies Cougars Storm Sounders Kraken Reign High School Sports On TV/Radio Movies Books Music Theater Classical Music TV/Streaming Comics Games   Puzzles H...</td>\n",
       "      <td>['nvidia', 'puts', 'ai', 'center', 'latest', 'geforce', 'graphics', 'card', 'upgrade', 'seattle', 'times', 'traffic', 'lab', 'law', 'justice', 'local', 'politics', 'education', 'education', 'lab', 'eastside', 'environment', 'health', 'data', 'mental', 'health', 'project', 'homeless', 'times', 'watchdog', 'boeing', 'aerospace', 'amazon', 'microsoft', 'technology', 'real', 'estate', 'economy', 'artificial', 'intelligence', 'seahawks', 'mariners', 'huskies', 'cougars', 'storm', 'sounders', 'kra...</td>\n",
       "    </tr>\n",
       "    <tr>\n",
       "      <th>79651</th>\n",
       "      <td>BusinessTechnologyWorldNationalPoliticsMedia   CultureOpinionSportsSocial CapitalCryptoListings   MoreSpotlightGlossaryEditionsAustralia EditionIndia EditionInternational EditionSingapore EditionUnited KingdomUnited StatesNEWSLETTERFollow Us KEY POINTSThe beta version of SK  's \"A.\"   pronounced \"A dot\"   was launched in South Korea in May 2022A. is reportedly based on generative AI just like ChatGPTSKT will reportedly integrate various services it owns into the chatbotSouth Korea's SK   is ...</td>\n",
       "      <td>['editionindia', 'editionunited', 'kingdomunited', 'us', 'key', 'pointsthe', 'beta', 'version', 'sk', 'pronounced', 'dot', 'launched', 'south', 'korea', 'may', 'reportedly', 'based', 'generative', 'ai', 'like', 'chatgptskt', 'reportedly', 'integrate', 'various', 'services', 'owns', 'chatbotsouth', 'korea', 'sk', 'planning', 'year', 'fully', 'launch', 'artificial', 'intelligence', 'chatbot', 'executive', 'pany', 'said', 'offer', 'lot', 'booming', 'chatgpt', 'mobile', 'world', 'congress', 'bar...</td>\n",
       "    </tr>\n",
       "    <tr>\n",
       "      <th>4568</th>\n",
       "      <td>Skip to contentAsk the ExpertContestsDay Trippin'Healthcare TodayHeroes Among UsThe ShoppesProud to be a FarmerWatch LiveNewsWeatherSportsLocker Room Report2022 ElectionsLatest VideoCoronavirusContact UsHomeWatch WALB LiveWALB on RokuNewsBinge It!Civil Rights LegacyCrimeEducationEditorialsHealthGood NewsMultimediaInvestigateNationalPoliticsStateSweet Tea   History PodcastWeatherFirst View 10 CamerasHurricane CoverageClosingsRadarCoronavirusFind out where the COVID 19 vaccine is available in ...</td>\n",
       "      <td>['skip', 'contentask', 'trippin', 'healthcare', 'todayheroes', 'among', 'usthe', 'shoppesproud', 'farmerwatch', 'room', 'report', 'electionslatest', 'ushomewatch', 'walb', 'livewalb', 'rokunewsbinge', 'civil', 'rights', 'tea', 'history', 'view', 'covid', 'vaccine', 'available', 'areaarea', 'hospitals', 'daily', 'covid', 'numbersphoebe', 'covid', 'numbers', 'sportsfish', 'game', 'forecasthigh', 'school', 'sportssports', 'talklocker', 'room', 'reportlocker', 'room', 'report', 'weekplayer', 'we...</td>\n",
       "    </tr>\n",
       "  </tbody>\n",
       "</table>\n",
       "</div>"
      ],
      "text/plain": [
       "                                                                                                                                                                                                                                                                                                                                                                                                                                                                                                                       text   \n",
       "158935  Accept the updated privacy   cookie policy Dear user, ET CIO privacy and cookie policy has been updated to align with the new data regulations in European Union. Please review and accept these changes below to continue using the website.You can see our privacy policy   our cookie policy. We use cookies to ensure the best experience for you on our website.If you choose to ignore this message, we'll assume that you are happy to receive all cookies on ET CIO. AnalyticsNecessaryNewsletter  NameP...  \\\n",
       "77297   Skip to contentWeatherCOVID 19 CoverageWho's HiringLivestreamElection PodcastHomeElection ResultsNewsAPContestsNationalWildlife WatchWCAX News Livestream WeatherClosingsRadarSki   Board ReportWeather CamsWCAX Weather AppWeather FAQWeather FeaturesAstronomySportsCommunity CalendarContact UsMeet the TeamAdvertise With UsCommunity PartnersGot a Story Idea?Order Channel 3 News StoriesWCAX JobsPaid InternshipsStream News Live and On DemandNewsletterECHO, Leahy Center for Lake ChamplainJumpOnITVid...   \n",
       "99045    Nvidia puts AI at center of latest GeForce graphics card upgrade   The Seattle Times   Traffic Lab Law   Justice Local Politics Education Education Lab Eastside Environment Health Data Mental Health Project Homeless Times Watchdog Boeing   Aerospace Amazon Microsoft Technology Real Estate Economy Artificial Intelligence Seahawks Mariners Huskies Cougars Storm Sounders Kraken Reign High School Sports On TV/Radio Movies Books Music Theater Classical Music TV/Streaming Comics Games   Puzzles H...   \n",
       "79651   BusinessTechnologyWorldNationalPoliticsMedia   CultureOpinionSportsSocial CapitalCryptoListings   MoreSpotlightGlossaryEditionsAustralia EditionIndia EditionInternational EditionSingapore EditionUnited KingdomUnited StatesNEWSLETTERFollow Us KEY POINTSThe beta version of SK  's \"A.\"   pronounced \"A dot\"   was launched in South Korea in May 2022A. is reportedly based on generative AI just like ChatGPTSKT will reportedly integrate various services it owns into the chatbotSouth Korea's SK   is ...   \n",
       "4568    Skip to contentAsk the ExpertContestsDay Trippin'Healthcare TodayHeroes Among UsThe ShoppesProud to be a FarmerWatch LiveNewsWeatherSportsLocker Room Report2022 ElectionsLatest VideoCoronavirusContact UsHomeWatch WALB LiveWALB on RokuNewsBinge It!Civil Rights LegacyCrimeEducationEditorialsHealthGood NewsMultimediaInvestigateNationalPoliticsStateSweet Tea   History PodcastWeatherFirst View 10 CamerasHurricane CoverageClosingsRadarCoronavirusFind out where the COVID 19 vaccine is available in ...   \n",
       "\n",
       "                                                                                                                                                                                                                                                                                                                                                                                                                                                                                                               text_cleaned  \n",
       "158935  ['accept', 'updated', 'privacy', 'cookie', 'policy', 'dear', 'user', 'et', 'cio', 'privacy', 'cookie', 'policy', 'updated', 'align', 'new', 'data', 'regulations', 'european', 'union', 'please', 'review', 'accept', 'changes', 'continue', 'using', 'website', 'see', 'privacy', 'policy', 'cookie', 'policy', 'use', 'cookies', 'ensure', 'best', 'experience', 'website', 'choose', 'ignore', 'message', 'assume', 'happy', 'receive', 'cookies', 'et', 'cio', 'google', 'analyticsgoogle', 'yearhttpsto', '...  \n",
       "77297   ['skip', 'coveragewho', 'watchwcax', 'news', 'livestream', 'board', 'reportweather', 'camswcax', 'weather', 'appweather', 'faqweather', 'calendarcontact', 'usmeet', 'teamadvertise', 'uscommunity', 'partnersgot', 'story', 'idea', 'order', 'channel', 'news', 'storieswcax', 'jobspaid', 'news', 'live', 'leahy', 'center', 'lake', 'resultscovid', 'mapfoodbankshow', 'watch', 'listingssubmit', 'photos', 'videoscircle', 'country', 'music', 'lifestylegray', 'dc', 'fencebuy', 'vermont', 'firstmade', 'v...  \n",
       "99045   ['nvidia', 'puts', 'ai', 'center', 'latest', 'geforce', 'graphics', 'card', 'upgrade', 'seattle', 'times', 'traffic', 'lab', 'law', 'justice', 'local', 'politics', 'education', 'education', 'lab', 'eastside', 'environment', 'health', 'data', 'mental', 'health', 'project', 'homeless', 'times', 'watchdog', 'boeing', 'aerospace', 'amazon', 'microsoft', 'technology', 'real', 'estate', 'economy', 'artificial', 'intelligence', 'seahawks', 'mariners', 'huskies', 'cougars', 'storm', 'sounders', 'kra...  \n",
       "79651   ['editionindia', 'editionunited', 'kingdomunited', 'us', 'key', 'pointsthe', 'beta', 'version', 'sk', 'pronounced', 'dot', 'launched', 'south', 'korea', 'may', 'reportedly', 'based', 'generative', 'ai', 'like', 'chatgptskt', 'reportedly', 'integrate', 'various', 'services', 'owns', 'chatbotsouth', 'korea', 'sk', 'planning', 'year', 'fully', 'launch', 'artificial', 'intelligence', 'chatbot', 'executive', 'pany', 'said', 'offer', 'lot', 'booming', 'chatgpt', 'mobile', 'world', 'congress', 'bar...  \n",
       "4568    ['skip', 'contentask', 'trippin', 'healthcare', 'todayheroes', 'among', 'usthe', 'shoppesproud', 'farmerwatch', 'room', 'report', 'electionslatest', 'ushomewatch', 'walb', 'livewalb', 'rokunewsbinge', 'civil', 'rights', 'tea', 'history', 'view', 'covid', 'vaccine', 'available', 'areaarea', 'hospitals', 'daily', 'covid', 'numbersphoebe', 'covid', 'numbers', 'sportsfish', 'game', 'forecasthigh', 'school', 'sportssports', 'talklocker', 'room', 'reportlocker', 'room', 'report', 'weekplayer', 'we...  "
      ]
     },
     "execution_count": 20,
     "metadata": {},
     "output_type": "execute_result"
    }
   ],
   "source": [
    "df_text.head()"
   ]
  },
  {
   "attachments": {},
   "cell_type": "markdown",
   "metadata": {},
   "source": [
    "### titleza LDA"
   ]
  },
  {
   "cell_type": "code",
   "execution_count": 22,
   "metadata": {},
   "outputs": [
    {
     "name": "stdout",
     "output_type": "stream",
     "text": [
      "CPU times: user 24.7 s, sys: 195 ms, total: 24.8 s\n",
      "Wall time: 24.8 s\n"
     ]
    }
   ],
   "source": [
    "%%time\n",
    "# tokenize the text\n",
    "data_list = df_text['text_cleaned'].tolist()\n",
    "data_tokens = list(sent_to_words(data_list))"
   ]
  },
  {
   "cell_type": "code",
   "execution_count": 23,
   "metadata": {},
   "outputs": [
    {
     "name": "stdout",
     "output_type": "stream",
     "text": [
      "CPU times: user 38.2 s, sys: 387 ms, total: 38.6 s\n",
      "Wall time: 38.6 s\n"
     ]
    }
   ],
   "source": [
    "%%time\n",
    "# create bigrams & trigrams\n",
    "bigram = gensim.models.Phrases(data_tokens, min_count=1, threshold=1)\n",
    "trigram = gensim.models.Phrases(bigram[data_tokens], threshold=1)\n",
    "\n",
    "bigram_mod = gensim.models.phrases.Phraser(bigram)\n",
    "trigram_mod = gensim.models.phrases.Phraser(trigram)"
   ]
  },
  {
   "cell_type": "code",
   "execution_count": 24,
   "metadata": {},
   "outputs": [
    {
     "name": "stdout",
     "output_type": "stream",
     "text": [
      "['cio_privacy_cookie_policy', 'updated_align_new', 'data_regulations_european_union', 'please_review_accept_change', 'use_cookies_ensure_b', 'experience_website_choose_ignore', 'message_assume_happy_receive', 'cookies_et_cio_google', 'analyticsgoogle_yearhttpsto_track_visitor', 'site_origin', 'track_article_yearhttpsto_track', 'visitors_site', 'behaviour_optouttime', 'dayhttpsstores_user', 'internet_hourshttpsto_serve_content', 'relevant_internet', 'identify_userostidtime', 'yearhttpsoauth_user', 'browsers_namepurpose_daily_daily', 'list_important', 'newspromo_mailersreceive', 'read_accepted_terms_condition', 'news_energy_new', 'real_estate_news_brand', 'equity_cfo_new', 'news_government_news_hospitality', 'news_et_travelworld_new', 'infra_new', 'news_hrsea_news_hrme', 'news_ing_event', 'cfo_meet_discussion_revise', 'driven_supply', 'chain', 'transformation', 'hr', 'agorajesh', 'communication', 'strategic_shift', 'cloud_first', 'cloud', 'smart', 'day', 'tech', 'apprentice', 'increase', 'tech', 'enterprise', 'findability_science', 'actions_ciso', 'reduce_cybersecurity', 'join', 'cioindustry', 'eymanage', 'people', 'hard', 'software', 'sanjeev', 'barnwal', 'meeshowe', 'go', 'paperless', 'soon', 'digitize', 'aviation', 'log', 'opentext', 'metaverse', 'shape', 'tomorrow', 'supply', 'chainevolve', 'landscape', 'enterprise_security', 'eye', 'ciosindustrie', 'itesbankingcase_studie', 'roundtable', 'february_etcio', 'rd_edition', 'summit_march', 'etcio_future', 'summit_etcio_bfsi_digital', 'asiathe', 'four_builde', 'blocks_neede', 'security', 'iam_return', 'officeaiops_trump', 'business', 'new_age', 'sap_environment_better_fast', 'continuous_teste', 'platformgrow_digital', 'business_maximize', 'vdi_leveragere_imagine_hybrid', 'officeai_technology', 'redefining_customer', 'competitive_edgepowering_video_enable', 'worldleadership_circle', 'powered_hcishro', 'road_modern', 'data_always', 'digital_worldbuilde', 'cloudunlock_next', 'level_employee_customer_experience', 'customer_experience_cloud_base', 'enterprise_secop', 'cio_newslat', 'cio_newsbusiness', 'analytic', 'exclusive', 'aays_analytic', 'corporate_finance', 'spacenow', 'finance_function', 'ai', 'finance_leader', 'realizing_skill', 'data_scientist', 'essential_part', 'toolset_desire', 'able_apply', 'advanced_analytical', 'methods_like', 'ai_machine_learne', 'gain_deeper', 'insight', 'apply', 'build_petitive', 'advantage', 'etcio_december', 'finance_function', 'democratization_data', 'underway', 'democratization_data', 'science', 'recently_starte', 'happening_past', 'year', 'gradually', 'permeate', 'wider_society', 'include', 'finance_function', 'large_enterprise', 'finance_function', 'bi', 'ai', 'majority', 'finance_function', 'large_enterprise', 'analyst', 'team', 'basic', 'analytic', 'skills_work', 'get', 'job', 'do', 'finance_function', 'ai', 'finance_leader', 'realizing_skill', 'data_scientist', 'essential_part', 'toolset_desire', 'able_apply', 'advanced_analytical', 'methods_like', 'ai_machine_learne', 'gain_deeper', 'insight', 'apply', 'build_petitive', 'advantage', 'science', 'finance_function', 'science', 'different_domain', 'marketing_sale', 'supply_chain', 'solve', 'objective', 'problem', 'image_classification', 'task_automation', 'finance_function', 'require_high', 'accuracy', 'result', 'finance', 'used_directly', 'senior_management', 'make_strategic_decision', 'significantly_change', 'future_direction', 'organization', 'help_businesse', 'find_way', 'maximize_profit', 'minimize_risk', 'make', 'new_investment', 'corporate', 'financeadvance', 'better_governance', 'control', 'closure', 'accounts_always', 'time_consume', 'process', 'lack', 'systems_could', 'raise_re', 'flag', 'specific', 'transaction', 'often_define', 'variance', 'identify_anomalie', 'even', 'finance_function', 'large_enterprise', 'based_anomalie', 'outlier_detection', 'aid', 'specific', 'cost', 'centre', 'business_segment', 'control', 'accounting', 'analytic', 'risk', 'customer', 'businesses_large', 'enterprise', 'certain', 'customer', 'pay', 'time_high', 'number', 'low', 'value', 'deduction', 'certain', 'customer_group', 'lead', 'working_capital', 'blockade', 'advanced_solution', 'overdue', 'profiling', 'help_provide', 'business', 'reduce', 'overdue', 'proactively', 'solution', 'would_provide', 'ponent', 'overdue', 'correlation', 'underlie', 'business', 'dimension', 'cash', 'analytic', 'important', 'finance_team', 'understand', 'key_reason', 'payment', 'delay', 'tracking_monitore', 'customer', 'payment', 'pattern', 'critical', 'accounting', 'need', 'finance_team', 'often_lack', 'visibility_operational', 'drivers_behind', 'cash_flow', 'lack', 'integrate', 'would_provide', 'clarity', 'finance_team', 'end_end', 'cash_conversion', 'cycle', 'result', 'cash_flow', 'management', 'sufficiently', 'accurate', 'view', 'future_cash', 'flow', 'struggle', 'ai_ml', 'led_solution', 'help_identifying', 'cash_flow', 'working_capital', 'optimization', 'opportunity', 'customer_segmentation', 'organisation', 'often_face', 'challenge', 'fit', 'size', 'approach_manage', 'order', 'cash', 'otc', 'process', 'distinct', 'way', 'group', 'customer', 'proper', 'attention_given', 'take_proactive', 'base', 'clustering_algorithm', 'help', 'bucket', 'customer', 'group', 'viz', 'prompt', 'payer', 'late', 'payer', 'large_small', 'customer', 'high', 'order', 'low', 'order_value', 'customer', 'etc_large', 'successful', 'finance', 'analytic', 'projectsalign', 'specific_need', 'organisation', 'differ', 'term', 'maturity', 'adopt', 'use', 'technology', 'space', 'corporate_finance', 'varied_nature', 'product_categorie', 'service_offering', 'also', 'mandate', 'use', 'customise', 'finance', 'analytics_solution', 'organization', 'hence', 'corporate_finance', 'leader', 'top', 'management', 'deliberate', 'thoroughly', 'type', 'solution', 'require', 'integrate', 'mechanism', 'adopt', 'build_effective', 'financial', 'analytical', 'system', 'pany', 'reliable', 'relevant_data', 'data_require', 'finance', 'analytic', 'space', 'reliable', 'must_also', 'pertain', 'relevant', 'dimension', 'financial_implication', 'datum', 'misuse', 'huge', 'could_cost', 'organisation', 'revenue', 'thereby_leading', 'pletely', 'devastating_impact', 'organisation', 'start', 'enterprise', 'start', 'modestly', 'developing_small', 'scale', 'poc', 'move', 'full_fledge', 'deployment', 'involves_builde', 'infrastructure', 'team', 'morale', 'poc', 'team', 'provide', 'es_confident', 'way', 'simple', 'persuade', 'shareholder', 'senior_leadership', 'undertake', 'large_scale', 'effort', 'awareness', 'literacy', 'professional', 'handle', 'responsibility', 'corporate_finance', 'high', 'leaders_must', 'understand', 'realise_importance', 'solutions_achieve', 'high', 'profitability', 'returns_investment', 'initiative', 'must_also', 'receive', 'support', 'shareholder', 'cost', 'incur', 'develop', 'required_infrastructure', 'investment', 'yield', 'desired_result', 'future', 'analytic', 'aay', 'views_expresse', 'necessarily_subscribe', 'shall_responsible', 'damage_cause', 'person_organization', 'directly_indirectly', 'facebook_linkedin', 'read_app_read_app', 'rajesh_awasthi', 'tata_communication', 'strategic_shift', 'cloud_first', 'cloud', 'realise', 'understand_need', 'correct', 'resources_ensure', 'harnessing', 'benefit', 'strategically', 'result', 'various', 'cloud_platform', 'public_private', 'edge', 'industry', 'reduce_cybersecurity', 'decode', 'driven_supply', 'chain', 'transformation', 'top', 'megatrend', 'help_enterprise', 'digitally_transform', 'consider', 'cutting_edge', 'part_daily', 'live', 'widely_accepte', 'much_quicker', 'ever', 'trends_opportunitie', 'challenge', 'help_reshape', 'business_landscape', 'ing_year', 'whatsapp', 'data', 'million_user', 'datum', 'leak', 'restore', 'datum', 'online_service', 'take_time', 'resume', 'rajesh_awasthi', 'tata_communication', 'strategic_shift', 'cloud_first', 'cloud', 'smart', 'banks_need', 'upgrade', 'mobile', 'era', 'core_banke', 'aays_analytic', 'large_enterprise', 'corporate_finance', 'space', 'announces_partnership', 'databrick', 'empower_businesse', 'unlock_power', 'integrate', 'data', 'ecosystem', 'workforce', 'spur', 'growth', 'tech', 'expertise', 'india_spende', 'grow', 'blink', 'paytm', 'stance', 'cap', 'buy', 'sneha_poddar', 'tell', 'change', 'panel_discussion', 'cloud_native', 'strategy', 'speed', 'automation_view', 'trendsinternet_thing', 'newsai_newscloud_computing_newstech', 'data_newssnapdeal', 'newsflipkart_newstcs', 'newsindustry_new', 'news_security', 'news_hospitality_news_hr', 'travelworld_new', 'infra_new', 'studiesstrategy_mgmttech', 'talkcio_wallsecret', 'diary_itesbanking_contact_u', 'advertise_us_various_option', 'advertise_us_including_event', 'advertorials_banner', 'mailers_webinar', 'etc_please_contact_us', 'know_detail']\n",
      "CPU times: user 11min 53s, sys: 1.04 s, total: 11min 54s\n",
      "Wall time: 11min 54s\n"
     ]
    }
   ],
   "source": [
    "%%time\n",
    "# Remove Stop Words\n",
    "#data_tokens_nostops = remove_stopwords(data_tokens)\n",
    "\n",
    "# Create n-grams\n",
    "data_words_bigrams = make_bigrams(data_tokens)\n",
    "data_words_trigrams = make_trigrams(data_tokens)\n",
    "\n",
    "# Combine tokens and n-grams\n",
    "# data_tokens_cobnined = data_tokens_nostops + data_words_bigrams + data_words_trigrams\n",
    "data_tokens_cobnined = data_words_trigrams\n",
    "\n",
    "# Lemmatize text keeping only noun, adj, vb, adv\n",
    "data_lemmatized = lemmatization(data_tokens_cobnined, allowed_postags=['NOUN', 'ADJ', 'VERB', 'ADV'])\n",
    "\n",
    "print(*data_lemmatized[:1])"
   ]
  },
  {
   "cell_type": "code",
   "execution_count": 25,
   "metadata": {},
   "outputs": [
    {
     "name": "stdout",
     "output_type": "stream",
     "text": [
      "CPU times: user 6.59 s, sys: 95.9 ms, total: 6.68 s\n",
      "Wall time: 6.68 s\n"
     ]
    }
   ],
   "source": [
    "%%time\n",
    "\n",
    "# Creating the term dictionary of our courpus, where every unique term is assigned an index. \n",
    "dictionary = corpora.Dictionary(data_lemmatized)\n",
    "\n",
    "# Converting list of documents (corpus) into Document Term Matrix using dictionary prepared above.\n",
    "doc_term_matrix = [dictionary.doc2bow(doc) for doc in data_lemmatized]"
   ]
  },
  {
   "cell_type": "code",
   "execution_count": null,
   "metadata": {},
   "outputs": [],
   "source": [
    "num_processors = multiprocessing.cpu_count()\n",
    "workers = num_processors-1\n",
    "print(f'Using {workers} workers')"
   ]
  },
  {
   "cell_type": "code",
   "execution_count": null,
   "metadata": {},
   "outputs": [],
   "source": [
    "# supporting function\n",
    "def compute_coherence_values(corpus, dictionary, k, a, b):\n",
    "    \n",
    "    lda_model = LdaMulticore(corpus=doc_term_matrix,\n",
    "                       id2word=dictionary,\n",
    "                       num_topics=k,\n",
    "                       random_state=100,                  \n",
    "                       passes=10,\n",
    "                       alpha=a,\n",
    "                       eta=b,\n",
    "                       workers=workers)\n",
    "    \n",
    "    coherence_model_lda = CoherenceModel(model=lda_model, texts=data_lemmatized, dictionary=dictionary, coherence='c_v')\n",
    "    \n",
    "    return coherence_model_lda.get_coherence()"
   ]
  },
  {
   "cell_type": "code",
   "execution_count": null,
   "metadata": {},
   "outputs": [],
   "source": []
  },
  {
   "cell_type": "code",
   "execution_count": null,
   "metadata": {},
   "outputs": [],
   "source": []
  },
  {
   "attachments": {},
   "cell_type": "markdown",
   "metadata": {},
   "source": []
  }
 ],
 "metadata": {
  "kernelspec": {
   "display_name": "nlp",
   "language": "python",
   "name": "python3"
  },
  "language_info": {
   "codemirror_mode": {
    "name": "ipython",
    "version": 3
   },
   "file_extension": ".py",
   "mimetype": "text/x-python",
   "name": "python",
   "nbconvert_exporter": "python",
   "pygments_lexer": "ipython3",
   "version": "3.10.11"
  },
  "orig_nbformat": 4
 },
 "nbformat": 4,
 "nbformat_minor": 2
}
