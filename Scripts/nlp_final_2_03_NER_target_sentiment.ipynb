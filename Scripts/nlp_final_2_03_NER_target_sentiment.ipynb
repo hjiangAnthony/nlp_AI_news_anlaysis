{
 "cells": [
  {
   "attachments": {},
   "cell_type": "markdown",
   "metadata": {},
   "source": [
    "## Set-up"
   ]
  },
  {
   "cell_type": "code",
   "execution_count": 1,
   "metadata": {},
   "outputs": [
    {
     "name": "stdout",
     "output_type": "stream",
     "text": [
      "INFO: Pandarallel will run on 12 workers.\n",
      "INFO: Pandarallel will use Memory file system to transfer data between the main process and workers.\n"
     ]
    }
   ],
   "source": [
    "import pandas as pd\n",
    "\n",
    "import warnings\n",
    "warnings.filterwarnings(\"ignore\")\n",
    "\n",
    "from pprint import pprint\n",
    "import re\n",
    "from tqdm import tqdm\n",
    "tqdm.pandas()\n",
    "import numpy as np\n",
    "\n",
    "from pandarallel import pandarallel\n",
    "pandarallel.initialize(nb_workers=12, progress_bar=True)\n",
    "\n",
    "import pandas as pd\n",
    "pd.set_option('display.max_rows', 100)\n",
    "pd.set_option('display.max_columns', None)\n",
    "pd.set_option('display.max_colwidth', 500)\n",
    "\n",
    "import warnings\n",
    "warnings.filterwarnings(\"ignore\")"
   ]
  },
  {
   "cell_type": "code",
   "execution_count": 2,
   "metadata": {},
   "outputs": [
    {
     "name": "stdout",
     "output_type": "stream",
     "text": [
      "/home/anthony/projects/nlp_runtime\n"
     ]
    }
   ],
   "source": [
    "#!pwd\n",
    "import os\n",
    "\n",
    "# Google Bucket\n",
    "# file name checkpoint_0512_sent_split.parquet\n",
    "path_bucket = 'gs://msca-sp23-bucket/nlp_data'\n",
    "runtime_path = '/home/anthony/projects/nlp_runtime'\n",
    "bucket_read = path_bucket + '/' + 'checkpoint_0525_full_article_split_sentences.parquet'\n",
    "\n",
    "os.chdir(runtime_path)\n",
    "print(os.getcwd())"
   ]
  },
  {
   "cell_type": "code",
   "execution_count": 3,
   "metadata": {},
   "outputs": [
    {
     "name": "stderr",
     "output_type": "stream",
     "text": [
      "2023-05-26 03:54:42.773345: I tensorflow/core/platform/cpu_feature_guard.cc:182] This TensorFlow binary is optimized to use available CPU instructions in performance-critical operations.\n",
      "To enable the following instructions: AVX2 FMA, in other operations, rebuild TensorFlow with the appropriate compiler flags.\n",
      "2023-05-26 03:54:51.401626: W tensorflow/compiler/tf2tensorrt/utils/py_utils.cc:38] TF-TRT Warning: Could not find TensorRT\n"
     ]
    }
   ],
   "source": [
    "import spacy\n",
    "import en_core_web_md"
   ]
  },
  {
   "attachments": {},
   "cell_type": "markdown",
   "metadata": {},
   "source": [
    "## Preparation"
   ]
  },
  {
   "cell_type": "code",
   "execution_count": 4,
   "metadata": {},
   "outputs": [
    {
     "data": {
      "text/html": [
       "<div>\n",
       "<style scoped>\n",
       "    .dataframe tbody tr th:only-of-type {\n",
       "        vertical-align: middle;\n",
       "    }\n",
       "\n",
       "    .dataframe tbody tr th {\n",
       "        vertical-align: top;\n",
       "    }\n",
       "\n",
       "    .dataframe thead th {\n",
       "        text-align: right;\n",
       "    }\n",
       "</style>\n",
       "<table border=\"1\" class=\"dataframe\">\n",
       "  <thead>\n",
       "    <tr style=\"text-align: right;\">\n",
       "      <th></th>\n",
       "      <th>date</th>\n",
       "      <th>title</th>\n",
       "      <th>article_id</th>\n",
       "      <th>sentences</th>\n",
       "    </tr>\n",
       "  </thead>\n",
       "  <tbody>\n",
       "    <tr>\n",
       "      <th>0</th>\n",
       "      <td>2020-01-01</td>\n",
       "      <td>Decentralized Machine Learning Reaches Market Cap of $15,919.00 (DML) - Enterprise Leader</td>\n",
       "      <td>1</td>\n",
       "      <td>Decentralized Machine Learning Reaches Market Cap of 15,919.00 DML Enterprise Leader Daily Ratings News for Decentralized Machine Learning Complete the form below to receive the latest headlines and analysts' mendations for Decentralized Machine Learning with our free daily email newsletter: Follow EnterpriseLeade Recent Posts GE Announces Its Plan To Sell The Distributed Power Business To Advent International Ebang Communication Resorts To The Filing Of An IPO In Hong Kong How to Open DAA, ...</td>\n",
       "    </tr>\n",
       "    <tr>\n",
       "      <th>0</th>\n",
       "      <td>2020-01-01</td>\n",
       "      <td>Decentralized Machine Learning Reaches Market Cap of $15,919.00 (DML) - Enterprise Leader</td>\n",
       "      <td>1</td>\n",
       "      <td>3 Ways to Tell if Your Next Business Move will be a Mistake Foxconn Launches Investigation After Reports Of Harsh Working Conditions At Its Factory Flagstar Bancorp Acquires 52 Retails Branches Belonging To Wells Fargo</td>\n",
       "    </tr>\n",
       "    <tr>\n",
       "      <th>0</th>\n",
       "      <td>2020-01-01</td>\n",
       "      <td>Decentralized Machine Learning Reaches Market Cap of $15,919.00 (DML) - Enterprise Leader</td>\n",
       "      <td>1</td>\n",
       "      <td>PREVIOUS 996.90 Million in Sales Expected for Monster Beverage Corp NASDAQ:MNST This Quarter NEXTAragon ANT Achieves Market Cap of 12.63 Million GE Announces Its Plan To Sell The Distributed Power Business To Advent International Ebang Communication Resorts To The Filing Of An IPO In Hong Kong How to Open DAA, VCD, NRG, IMG, MDF Files Smart or Risky?</td>\n",
       "    </tr>\n",
       "  </tbody>\n",
       "</table>\n",
       "</div>"
      ],
      "text/plain": [
       "        date   \n",
       "0 2020-01-01  \\\n",
       "0 2020-01-01   \n",
       "0 2020-01-01   \n",
       "\n",
       "                                                                                       title   \n",
       "0  Decentralized Machine Learning Reaches Market Cap of $15,919.00 (DML) - Enterprise Leader  \\\n",
       "0  Decentralized Machine Learning Reaches Market Cap of $15,919.00 (DML) - Enterprise Leader   \n",
       "0  Decentralized Machine Learning Reaches Market Cap of $15,919.00 (DML) - Enterprise Leader   \n",
       "\n",
       "   article_id   \n",
       "0           1  \\\n",
       "0           1   \n",
       "0           1   \n",
       "\n",
       "                                                                                                                                                                                                                                                                                                                                                                                                                                                                                                             sentences  \n",
       "0  Decentralized Machine Learning Reaches Market Cap of 15,919.00 DML Enterprise Leader Daily Ratings News for Decentralized Machine Learning Complete the form below to receive the latest headlines and analysts' mendations for Decentralized Machine Learning with our free daily email newsletter: Follow EnterpriseLeade Recent Posts GE Announces Its Plan To Sell The Distributed Power Business To Advent International Ebang Communication Resorts To The Filing Of An IPO In Hong Kong How to Open DAA, ...  \n",
       "0                                                                                                                                                                                                                                                                                           3 Ways to Tell if Your Next Business Move will be a Mistake Foxconn Launches Investigation After Reports Of Harsh Working Conditions At Its Factory Flagstar Bancorp Acquires 52 Retails Branches Belonging To Wells Fargo  \n",
       "0                                                                                                                                                     PREVIOUS 996.90 Million in Sales Expected for Monster Beverage Corp NASDAQ:MNST This Quarter NEXTAragon ANT Achieves Market Cap of 12.63 Million GE Announces Its Plan To Sell The Distributed Power Business To Advent International Ebang Communication Resorts To The Filing Of An IPO In Hong Kong How to Open DAA, VCD, NRG, IMG, MDF Files Smart or Risky?  "
      ]
     },
     "execution_count": 4,
     "metadata": {},
     "output_type": "execute_result"
    }
   ],
   "source": [
    "df_sentence = pd.read_parquet(bucket_read, engine='pyarrow')\n",
    "df_sentence.head(3)"
   ]
  },
  {
   "cell_type": "code",
   "execution_count": 5,
   "metadata": {},
   "outputs": [
    {
     "data": {
      "text/plain": [
       "(2223016, 4)"
      ]
     },
     "execution_count": 5,
     "metadata": {},
     "output_type": "execute_result"
    }
   ],
   "source": [
    "df_sentence.shape"
   ]
  },
  {
   "attachments": {},
   "cell_type": "markdown",
   "metadata": {},
   "source": [
    "## NER and Target Sentiment"
   ]
  },
  {
   "cell_type": "code",
   "execution_count": 7,
   "metadata": {},
   "outputs": [],
   "source": [
    "sentences = df_sentence['sentences'].tolist()"
   ]
  },
  {
   "cell_type": "code",
   "execution_count": 20,
   "metadata": {},
   "outputs": [],
   "source": [
    "from textblob import TextBlob\n",
    "\n",
    "nlp = spacy.load(\"en_core_web_md\", disable=[\"tagger\", \"parser\"])"
   ]
  },
  {
   "cell_type": "code",
   "execution_count": 22,
   "metadata": {},
   "outputs": [
    {
     "name": "stdout",
     "output_type": "stream",
     "text": [
      "CPU times: user 45min 5s, sys: 33.5 s, total: 45min 38s\n",
      "Wall time: 46min 36s\n"
     ]
    }
   ],
   "source": [
    "%%time\n",
    "\n",
    "entities_sentiment = []\n",
    "\n",
    "for doc in nlp.pipe(sentences, batch_size=50, n_process=10):\n",
    "    doc_target_sentiment = []\n",
    "    for ent in doc.ents:\n",
    "        if ent.label_ in ['ORG', 'GPE', 'LOC', 'PERSON']:\n",
    "            ent_sentiment = TextBlob(ent.text).sentiment.polarity\n",
    "            doc_target_sentiment.append((ent.text, ent.label_, ent_sentiment))\n",
    "    entities_sentiment.append(doc_target_sentiment)"
   ]
  },
  {
   "cell_type": "code",
   "execution_count": 23,
   "metadata": {},
   "outputs": [
    {
     "data": {
      "text/plain": [
       "2223016"
      ]
     },
     "execution_count": 23,
     "metadata": {},
     "output_type": "execute_result"
    }
   ],
   "source": [
    "len(entities_sentiment)"
   ]
  },
  {
   "cell_type": "code",
   "execution_count": 24,
   "metadata": {},
   "outputs": [],
   "source": [
    "# load to sentence dataframe\n",
    "df_sentence['target_sentiment'] = entities_sentiment"
   ]
  },
  {
   "cell_type": "code",
   "execution_count": 33,
   "metadata": {},
   "outputs": [
    {
     "data": {
      "text/plain": [
       "[[('Decentralized Machine Learning Reaches Market Cap', 'ORG', 0.0),\n",
       "  ('Decentralized Machine Learning', 'ORG', 0.0),\n",
       "  ('Hong Kong', 'GPE', 0.0),\n",
       "  ('NRG', 'ORG', 0.0),\n",
       "  ('IMG', 'ORG', 0.0)],\n",
       " [('Mistake Foxconn Launches Investigation After Reports Of Harsh Working Conditions',\n",
       "   'ORG',\n",
       "   -0.2),\n",
       "  ('Flagstar Bancorp', 'ORG', 0.0),\n",
       "  ('Wells Fargo', 'ORG', 0.0)],\n",
       " [('Monster Beverage Corp NASDAQ', 'ORG', 0.0),\n",
       "  ('GE', 'ORG', 0.0),\n",
       "  ('IPO', 'ORG', 0.0),\n",
       "  ('Hong Kong', 'GPE', 0.0),\n",
       "  ('NRG', 'ORG', 0.0),\n",
       "  ('IMG', 'ORG', 0.0)],\n",
       " [('Decentralized Machine Learning Daily Enter', 'ORG', 0.0),\n",
       "  ('Decentralized Machine Learning', 'ORG', 0.0)],\n",
       " [('Bitcoin or', 'ORG', 0.0), ('Decentralized Machine Learning', 'ORG', 0.0)],\n",
       " [('Decentralized Machine Learning', 'ORG', 0.0),\n",
       "  ('Bitcoin or Ethereum', 'ORG', 0.0),\n",
       "  ('US', 'GPE', 0.0),\n",
       "  ('Gemini', 'ORG', 0.0)],\n",
       " [('Decentralized Machine Learning', 'ORG', 0.0), ('US', 'GPE', 0.0)],\n",
       " [('IDEX', 'ORG', 0.0)],\n",
       " [],\n",
       " [('Decentralized Machine Learning', 'ORG', 0.0)]]"
      ]
     },
     "execution_count": 33,
     "metadata": {},
     "output_type": "execute_result"
    }
   ],
   "source": [
    "entities_sentiment[:10]"
   ]
  },
  {
   "attachments": {},
   "cell_type": "markdown",
   "metadata": {},
   "source": [
    "Merge with single setence sentiment"
   ]
  },
  {
   "cell_type": "code",
   "execution_count": 37,
   "metadata": {},
   "outputs": [
    {
     "data": {
      "text/html": [
       "<div>\n",
       "<style scoped>\n",
       "    .dataframe tbody tr th:only-of-type {\n",
       "        vertical-align: middle;\n",
       "    }\n",
       "\n",
       "    .dataframe tbody tr th {\n",
       "        vertical-align: top;\n",
       "    }\n",
       "\n",
       "    .dataframe thead th {\n",
       "        text-align: right;\n",
       "    }\n",
       "</style>\n",
       "<table border=\"1\" class=\"dataframe\">\n",
       "  <thead>\n",
       "    <tr style=\"text-align: right;\">\n",
       "      <th></th>\n",
       "      <th>date</th>\n",
       "      <th>title</th>\n",
       "      <th>article_id</th>\n",
       "      <th>sentences</th>\n",
       "      <th>target_sentiment</th>\n",
       "      <th>sentiment</th>\n",
       "      <th>sentiment_score</th>\n",
       "    </tr>\n",
       "  </thead>\n",
       "  <tbody>\n",
       "    <tr>\n",
       "      <th>0</th>\n",
       "      <td>2020-01-01</td>\n",
       "      <td>Decentralized Machine Learning Reaches Market Cap of $15,919.00 (DML) - Enterprise Leader</td>\n",
       "      <td>1</td>\n",
       "      <td>Decentralized Machine Learning Reaches Market Cap of 15,919.00 DML Enterprise Leader Daily Ratings News for Decentralized Machine Learning Complete the form below to receive the latest headlines and analysts' mendations for Decentralized Machine Learning with our free daily email newsletter: Follow EnterpriseLeade Recent Posts GE Announces Its Plan To Sell The Distributed Power Business To Advent International Ebang Communication Resorts To The Filing Of An IPO In Hong Kong How to Open DAA, ...</td>\n",
       "      <td>[(Decentralized Machine Learning Reaches Market Cap, ORG, 0.0), (Decentralized Machine Learning, ORG, 0.0), (Hong Kong, GPE, 0.0), (NRG, ORG, 0.0), (IMG, ORG, 0.0)]</td>\n",
       "      <td>neutral</td>\n",
       "      <td>0.999812</td>\n",
       "    </tr>\n",
       "  </tbody>\n",
       "</table>\n",
       "</div>"
      ],
      "text/plain": [
       "        date   \n",
       "0 2020-01-01  \\\n",
       "\n",
       "                                                                                       title   \n",
       "0  Decentralized Machine Learning Reaches Market Cap of $15,919.00 (DML) - Enterprise Leader  \\\n",
       "\n",
       "   article_id   \n",
       "0           1  \\\n",
       "\n",
       "                                                                                                                                                                                                                                                                                                                                                                                                                                                                                                             sentences   \n",
       "0  Decentralized Machine Learning Reaches Market Cap of 15,919.00 DML Enterprise Leader Daily Ratings News for Decentralized Machine Learning Complete the form below to receive the latest headlines and analysts' mendations for Decentralized Machine Learning with our free daily email newsletter: Follow EnterpriseLeade Recent Posts GE Announces Its Plan To Sell The Distributed Power Business To Advent International Ebang Communication Resorts To The Filing Of An IPO In Hong Kong How to Open DAA, ...  \\\n",
       "\n",
       "                                                                                                                                                       target_sentiment   \n",
       "0  [(Decentralized Machine Learning Reaches Market Cap, ORG, 0.0), (Decentralized Machine Learning, ORG, 0.0), (Hong Kong, GPE, 0.0), (NRG, ORG, 0.0), (IMG, ORG, 0.0)]  \\\n",
       "\n",
       "  sentiment  sentiment_score  \n",
       "0   neutral         0.999812  "
      ]
     },
     "execution_count": 37,
     "metadata": {},
     "output_type": "execute_result"
    }
   ],
   "source": [
    "df_sentence.head(1)"
   ]
  },
  {
   "cell_type": "code",
   "execution_count": 27,
   "metadata": {},
   "outputs": [],
   "source": [
    "# load sentence sentiments\n",
    "path_bucket = 'gs://msca-sp23-bucket/nlp_data'\n",
    "df_sentence_sentiment = pd.read_parquet(path_bucket + '/' +'sentence_sentiments.parquet', engine='pyarrow')"
   ]
  },
  {
   "cell_type": "code",
   "execution_count": 28,
   "metadata": {},
   "outputs": [
    {
     "data": {
      "text/plain": [
       "(2223016, 2)"
      ]
     },
     "execution_count": 28,
     "metadata": {},
     "output_type": "execute_result"
    }
   ],
   "source": [
    "df_sentence_sentiment.shape"
   ]
  },
  {
   "cell_type": "code",
   "execution_count": 31,
   "metadata": {},
   "outputs": [],
   "source": [
    "# load to sentence dataframe\n",
    "df_sentence['sentiment'] = df_sentence_sentiment['sentiments']\n",
    "df_sentence['sentiment_score'] = df_sentence_sentiment['score']"
   ]
  },
  {
   "cell_type": "code",
   "execution_count": 43,
   "metadata": {},
   "outputs": [],
   "source": [
    "# save a checkpoint\n",
    "import pickle\n",
    "\n",
    "# Assuming `df` is your DataFrame and `col` is the column with the complex datatype\n",
    "df_sentence['target_sentiment'] = df_sentence['target_sentiment'].apply(pickle.dumps)"
   ]
  },
  {
   "cell_type": "code",
   "execution_count": 44,
   "metadata": {},
   "outputs": [],
   "source": [
    "df_sentence.to_parquet(path_bucket + '/' + 'checkpoint_0526_filtered_sentences_sentiment_ner.parquet', engine='pyarrow')"
   ]
  },
  {
   "attachments": {},
   "cell_type": "markdown",
   "metadata": {},
   "source": [
    "## Methodology: How to measure sentiments within an article.\n",
    "\n",
    "As we have split sentences with SpaCy for each article, and the sentences are exploded into a dataframe. Now what we have is a dataframe of sentences instead of a df of articles. \n",
    "\n",
    "The primary idea is to use aggregated sentiment scores with sentences, rather than the overall sentiment of an article. The benefit of such method is that:\n",
    "1. it reduces token size for input; this is particularly helpful when we are using transformer and Bert-based models\n",
    "2. it is more accurate by aggregating the sentiment of sentences because \n",
    "    - full article sentiment has a lot of noises (e.g. unclean text like other titles/ads text from parsing)\n",
    "    - full article is computationally expensive for text embedding"
   ]
  },
  {
   "attachments": {},
   "cell_type": "markdown",
   "metadata": {},
   "source": [
    "# Reference\n",
    "1. Sentiment Analysis in 10 Minutes with BERT and TensorFlow. https://towardsdatascience.com/sentiment-analysis-in-10-minutes-with-bert-and-hugging-face-294e8a04b671"
   ]
  },
  {
   "attachments": {},
   "cell_type": "markdown",
   "metadata": {},
   "source": []
  }
 ],
 "metadata": {
  "kernelspec": {
   "display_name": "nlp",
   "language": "python",
   "name": "python3"
  },
  "language_info": {
   "codemirror_mode": {
    "name": "ipython",
    "version": 3
   },
   "file_extension": ".py",
   "mimetype": "text/x-python",
   "name": "python",
   "nbconvert_exporter": "python",
   "pygments_lexer": "ipython3",
   "version": "3.10.0"
  },
  "orig_nbformat": 4
 },
 "nbformat": 4,
 "nbformat_minor": 2
}
